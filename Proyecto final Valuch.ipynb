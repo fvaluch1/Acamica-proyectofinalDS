{
 "cells": [
  {
   "cell_type": "markdown",
   "metadata": {
    "papermill": {
     "duration": 0.0941,
     "end_time": "2021-03-04T22:49:50.346194",
     "exception": false,
     "start_time": "2021-03-04T22:49:50.252094",
     "status": "completed"
    },
    "tags": []
   },
   "source": [
    "# Proyecto Final Acamica: Deteccion de predadores sexuales a traves de chats(En Ingles)"
   ]
  },
  {
   "cell_type": "markdown",
   "metadata": {
    "papermill": {
     "duration": 0.095984,
     "end_time": "2021-03-04T22:49:50.541792",
     "exception": false,
     "start_time": "2021-03-04T22:49:50.445808",
     "status": "completed"
    },
    "tags": []
   },
   "source": [
    "### Dataset:https://zenodo.org/record/3713280\n",
    "    El dataset es privado debido a lo delicado de su contenido, para tener acceso al mismo se debe solicitar acceso a su autor aclarando el uso que tendra."
   ]
  },
  {
   "cell_type": "markdown",
   "metadata": {
    "papermill": {
     "duration": 0.091394,
     "end_time": "2021-03-04T22:49:50.726377",
     "exception": false,
     "start_time": "2021-03-04T22:49:50.634983",
     "status": "completed"
    },
    "tags": []
   },
   "source": [
    "### Organizacion:\n",
    "    A) Realizar una corecta exploracion y entendimiento de los datos.\n",
    "    B) Realizar un preprocesamiento de los datos.\n",
    "    C) Aplicar Machine Learning.\n",
    "            C.1) Evalúa de forma apropiada sus resultados. Justifica la métrica elegida.\n",
    "            C.2) Elige un modelo benchmark.\n",
    "    D)Aplicar Deep learning.\n",
    "            D.1) Compara el benchmark con las redes neuronales."
   ]
  },
  {
   "cell_type": "code",
   "execution_count": null,
   "metadata": {
    "papermill": {
     "duration": 89.656243,
     "end_time": "2021-03-04T22:51:20.476039",
     "exception": false,
     "start_time": "2021-03-04T22:49:50.819796",
     "status": "completed"
    },
    "tags": []
   },
   "outputs": [],
   "source": [
    "import pandas as pd\n",
    "import numpy as np\n",
    "import matplotlib.pyplot as plt\n",
    "import seaborn as sns\n",
    "sns.set()\n",
    "\n",
    "\n",
    "import pandas_profiling as pdp\n",
    "\n",
    "import gc\n",
    "gc.enable()\n",
    "\n",
    "import nltk\n",
    "from nltk.tokenize import RegexpTokenizer\n",
    "\n",
    "import spacy\n",
    "\n",
    "!python -m spacy download en_core_web_md\n",
    "!pip install wordcloud\n",
    "!pip install pyspellchecker\n",
    "!pip install contractions\n",
    "!pip install imblearn\n",
    "!pip install -U textblob\n",
    "!python -m textblob.download_corpora\n",
    "!pip install empath\n",
    "\n",
    "import contractions\n",
    "import en_core_web_md\n",
    "from spacy.lang.en.stop_words import STOP_WORDS\n",
    "from collections import Counter\n",
    "from wordcloud import WordCloud \n",
    "\n",
    "import scattertext as st\n",
    "\n",
    "from spellchecker import SpellChecker\n",
    "import re\n",
    "\n",
    "from textblob import TextBlob\n",
    "\n",
    "from sklearn.metrics import plot_confusion_matrix\n",
    "from sklearn.feature_extraction.text import TfidfVectorizer\n",
    "from sklearn.model_selection import train_test_split\n",
    "from sklearn.metrics import accuracy_score\n",
    "from sklearn.metrics import classification_report\n",
    "from sklearn.metrics import confusion_matrix\n",
    "from sklearn.naive_bayes import GaussianNB\n",
    "from sklearn.svm import LinearSVC\n",
    "from sklearn.model_selection import GridSearchCV\n",
    "\n",
    "from imblearn.over_sampling import SMOTE\n",
    "from imblearn.under_sampling import RandomUnderSampler\n",
    "from imblearn.pipeline import Pipeline\n",
    "\n",
    "import cufflinks as cf\n",
    "cf.go_offline()\n",
    "cf.set_config_file(offline=False, world_readable=True)"
   ]
  },
  {
   "cell_type": "code",
   "execution_count": 2,
   "metadata": {
    "papermill": {
     "duration": 0.163194,
     "end_time": "2021-03-04T22:51:20.791987",
     "exception": false,
     "start_time": "2021-03-04T22:51:20.628793",
     "status": "completed"
    },
    "tags": []
   },
   "outputs": [
    {
     "data": {
      "text/html": [
       "<style>.container { width:98% !important; }</style>"
      ],
      "text/plain": [
       "<IPython.core.display.HTML object>"
      ]
     },
     "metadata": {},
     "output_type": "display_data"
    }
   ],
   "source": [
    "from IPython.display import IFrame\n",
    "from IPython.core.display import display, HTML\n",
    "display(HTML(\"<style>.container { width:98% !important; }</style>\"))"
   ]
  },
  {
   "cell_type": "code",
   "execution_count": 3,
   "metadata": {
    "execution": {
     "iopub.execute_input": "2021-03-04T22:51:21.113809Z",
     "iopub.status.busy": "2021-03-04T22:51:21.113183Z",
     "iopub.status.idle": "2021-03-04T22:51:24.139284Z",
     "shell.execute_reply": "2021-03-04T22:51:24.138008Z"
    },
    "papermill": {
     "duration": 3.190973,
     "end_time": "2021-03-04T22:51:24.139467",
     "exception": false,
     "start_time": "2021-03-04T22:51:20.948494",
     "status": "completed"
    },
    "tags": []
   },
   "outputs": [],
   "source": [
    "data = pd.read_csv(\"datapan12.csv\")"
   ]
  },
  {
   "cell_type": "markdown",
   "metadata": {
    "papermill": {
     "duration": 0.160207,
     "end_time": "2021-03-04T22:51:24.456325",
     "exception": false,
     "start_time": "2021-03-04T22:51:24.296118",
     "status": "completed"
    },
    "tags": []
   },
   "source": [
    "# A)EDA"
   ]
  },
  {
   "cell_type": "code",
   "execution_count": 4,
   "metadata": {
    "execution": {
     "iopub.execute_input": "2021-03-04T22:51:24.803843Z",
     "iopub.status.busy": "2021-03-04T22:51:24.802862Z",
     "iopub.status.idle": "2021-03-04T22:51:24.856639Z",
     "shell.execute_reply": "2021-03-04T22:51:24.857271Z"
    },
    "papermill": {
     "duration": 0.238795,
     "end_time": "2021-03-04T22:51:24.857473",
     "exception": false,
     "start_time": "2021-03-04T22:51:24.618678",
     "status": "completed"
    },
    "tags": []
   },
   "outputs": [
    {
     "data": {
      "text/html": [
       "<div>\n",
       "<style scoped>\n",
       "    .dataframe tbody tr th:only-of-type {\n",
       "        vertical-align: middle;\n",
       "    }\n",
       "\n",
       "    .dataframe tbody tr th {\n",
       "        vertical-align: top;\n",
       "    }\n",
       "\n",
       "    .dataframe thead th {\n",
       "        text-align: right;\n",
       "    }\n",
       "</style>\n",
       "<table border=\"1\" class=\"dataframe\">\n",
       "  <thead>\n",
       "    <tr style=\"text-align: right;\">\n",
       "      <th></th>\n",
       "      <th>count</th>\n",
       "      <th>mean</th>\n",
       "      <th>std</th>\n",
       "      <th>min</th>\n",
       "      <th>25%</th>\n",
       "      <th>50%</th>\n",
       "      <th>75%</th>\n",
       "      <th>max</th>\n",
       "    </tr>\n",
       "  </thead>\n",
       "  <tbody>\n",
       "    <tr>\n",
       "      <th>Unnamed: 0</th>\n",
       "      <td>903604.0</td>\n",
       "      <td>451803.184627</td>\n",
       "      <td>260848.996073</td>\n",
       "      <td>0.0</td>\n",
       "      <td>225901.75</td>\n",
       "      <td>451803.5</td>\n",
       "      <td>677704.25</td>\n",
       "      <td>903606.0</td>\n",
       "    </tr>\n",
       "    <tr>\n",
       "      <th>predator</th>\n",
       "      <td>903604.0</td>\n",
       "      <td>0.045350</td>\n",
       "      <td>0.208070</td>\n",
       "      <td>0.0</td>\n",
       "      <td>0.00</td>\n",
       "      <td>0.0</td>\n",
       "      <td>0.00</td>\n",
       "      <td>1.0</td>\n",
       "    </tr>\n",
       "  </tbody>\n",
       "</table>\n",
       "</div>"
      ],
      "text/plain": [
       "               count           mean            std  min        25%       50%  \\\n",
       "Unnamed: 0  903604.0  451803.184627  260848.996073  0.0  225901.75  451803.5   \n",
       "predator    903604.0       0.045350       0.208070  0.0       0.00       0.0   \n",
       "\n",
       "                  75%       max  \n",
       "Unnamed: 0  677704.25  903606.0  \n",
       "predator         0.00       1.0  "
      ]
     },
     "execution_count": 4,
     "metadata": {},
     "output_type": "execute_result"
    }
   ],
   "source": [
    "data.describe().T"
   ]
  },
  {
   "cell_type": "code",
   "execution_count": 5,
   "metadata": {
    "execution": {
     "iopub.execute_input": "2021-03-04T22:51:25.587804Z",
     "iopub.status.busy": "2021-03-04T22:51:25.586978Z",
     "iopub.status.idle": "2021-03-04T22:51:25.610919Z",
     "shell.execute_reply": "2021-03-04T22:51:25.609913Z"
    },
    "papermill": {
     "duration": 0.571422,
     "end_time": "2021-03-04T22:51:25.611161",
     "exception": false,
     "start_time": "2021-03-04T22:51:25.039739",
     "status": "completed"
    },
    "tags": []
   },
   "outputs": [
    {
     "name": "stdout",
     "output_type": "stream",
     "text": [
      "<class 'pandas.core.frame.DataFrame'>\n",
      "RangeIndex: 903604 entries, 0 to 903603\n",
      "Data columns (total 6 columns):\n",
      " #   Column           Non-Null Count   Dtype \n",
      "---  ------           --------------   ----- \n",
      " 0   Unnamed: 0       903604 non-null  int64 \n",
      " 1   conversation id  903604 non-null  object\n",
      " 2   author id        903604 non-null  object\n",
      " 3   msg              903604 non-null  object\n",
      " 4   time             903604 non-null  object\n",
      " 5   predator         903604 non-null  int64 \n",
      "dtypes: int64(2), object(4)\n",
      "memory usage: 41.4+ MB\n"
     ]
    }
   ],
   "source": [
    "data.info()"
   ]
  },
  {
   "cell_type": "code",
   "execution_count": 6,
   "metadata": {
    "execution": {
     "iopub.execute_input": "2021-03-04T22:51:25.975380Z",
     "iopub.status.busy": "2021-03-04T22:51:25.974178Z",
     "iopub.status.idle": "2021-03-04T22:51:25.980383Z",
     "shell.execute_reply": "2021-03-04T22:51:25.979707Z"
    },
    "papermill": {
     "duration": 0.192524,
     "end_time": "2021-03-04T22:51:25.980542",
     "exception": false,
     "start_time": "2021-03-04T22:51:25.788018",
     "status": "completed"
    },
    "tags": []
   },
   "outputs": [
    {
     "data": {
      "text/html": [
       "<div>\n",
       "<style scoped>\n",
       "    .dataframe tbody tr th:only-of-type {\n",
       "        vertical-align: middle;\n",
       "    }\n",
       "\n",
       "    .dataframe tbody tr th {\n",
       "        vertical-align: top;\n",
       "    }\n",
       "\n",
       "    .dataframe thead th {\n",
       "        text-align: right;\n",
       "    }\n",
       "</style>\n",
       "<table border=\"1\" class=\"dataframe\">\n",
       "  <thead>\n",
       "    <tr style=\"text-align: right;\">\n",
       "      <th></th>\n",
       "      <th>Unnamed: 0</th>\n",
       "      <th>conversation id</th>\n",
       "      <th>author id</th>\n",
       "      <th>msg</th>\n",
       "      <th>time</th>\n",
       "      <th>predator</th>\n",
       "    </tr>\n",
       "  </thead>\n",
       "  <tbody>\n",
       "    <tr>\n",
       "      <th>0</th>\n",
       "      <td>0</td>\n",
       "      <td>e621da5de598c9321a1d505ea95e6a2d</td>\n",
       "      <td>97964e7a9e8eb9cf78f2e4d7b2ff34c7</td>\n",
       "      <td>Hola.</td>\n",
       "      <td>03:20</td>\n",
       "      <td>0</td>\n",
       "    </tr>\n",
       "    <tr>\n",
       "      <th>1</th>\n",
       "      <td>1</td>\n",
       "      <td>e621da5de598c9321a1d505ea95e6a2d</td>\n",
       "      <td>0158d0d6781fc4d493f243d4caa49747</td>\n",
       "      <td>hi.</td>\n",
       "      <td>03:20</td>\n",
       "      <td>0</td>\n",
       "    </tr>\n",
       "    <tr>\n",
       "      <th>2</th>\n",
       "      <td>2</td>\n",
       "      <td>e621da5de598c9321a1d505ea95e6a2d</td>\n",
       "      <td>0158d0d6781fc4d493f243d4caa49747</td>\n",
       "      <td>whats up?</td>\n",
       "      <td>03:20</td>\n",
       "      <td>0</td>\n",
       "    </tr>\n",
       "    <tr>\n",
       "      <th>3</th>\n",
       "      <td>3</td>\n",
       "      <td>e621da5de598c9321a1d505ea95e6a2d</td>\n",
       "      <td>97964e7a9e8eb9cf78f2e4d7b2ff34c7</td>\n",
       "      <td>not a ton.</td>\n",
       "      <td>03:20</td>\n",
       "      <td>0</td>\n",
       "    </tr>\n",
       "    <tr>\n",
       "      <th>4</th>\n",
       "      <td>4</td>\n",
       "      <td>e621da5de598c9321a1d505ea95e6a2d</td>\n",
       "      <td>97964e7a9e8eb9cf78f2e4d7b2ff34c7</td>\n",
       "      <td>you?</td>\n",
       "      <td>03:20</td>\n",
       "      <td>0</td>\n",
       "    </tr>\n",
       "  </tbody>\n",
       "</table>\n",
       "</div>"
      ],
      "text/plain": [
       "   Unnamed: 0                   conversation id  \\\n",
       "0           0  e621da5de598c9321a1d505ea95e6a2d   \n",
       "1           1  e621da5de598c9321a1d505ea95e6a2d   \n",
       "2           2  e621da5de598c9321a1d505ea95e6a2d   \n",
       "3           3  e621da5de598c9321a1d505ea95e6a2d   \n",
       "4           4  e621da5de598c9321a1d505ea95e6a2d   \n",
       "\n",
       "                          author id         msg   time  predator  \n",
       "0  97964e7a9e8eb9cf78f2e4d7b2ff34c7       Hola.  03:20         0  \n",
       "1  0158d0d6781fc4d493f243d4caa49747         hi.  03:20         0  \n",
       "2  0158d0d6781fc4d493f243d4caa49747   whats up?  03:20         0  \n",
       "3  97964e7a9e8eb9cf78f2e4d7b2ff34c7  not a ton.  03:20         0  \n",
       "4  97964e7a9e8eb9cf78f2e4d7b2ff34c7        you?  03:20         0  "
      ]
     },
     "execution_count": 6,
     "metadata": {},
     "output_type": "execute_result"
    }
   ],
   "source": [
    "data.head()"
   ]
  },
  {
   "cell_type": "code",
   "execution_count": 7,
   "metadata": {
    "execution": {
     "iopub.execute_input": "2021-03-04T22:51:26.310126Z",
     "iopub.status.busy": "2021-03-04T22:51:26.309474Z",
     "iopub.status.idle": "2021-03-04T22:51:26.314209Z",
     "shell.execute_reply": "2021-03-04T22:51:26.313645Z"
    },
    "papermill": {
     "duration": 0.17249,
     "end_time": "2021-03-04T22:51:26.314346",
     "exception": false,
     "start_time": "2021-03-04T22:51:26.141856",
     "status": "completed"
    },
    "tags": []
   },
   "outputs": [
    {
     "data": {
      "text/html": [
       "<div>\n",
       "<style scoped>\n",
       "    .dataframe tbody tr th:only-of-type {\n",
       "        vertical-align: middle;\n",
       "    }\n",
       "\n",
       "    .dataframe tbody tr th {\n",
       "        vertical-align: top;\n",
       "    }\n",
       "\n",
       "    .dataframe thead th {\n",
       "        text-align: right;\n",
       "    }\n",
       "</style>\n",
       "<table border=\"1\" class=\"dataframe\">\n",
       "  <thead>\n",
       "    <tr style=\"text-align: right;\">\n",
       "      <th></th>\n",
       "      <th>Unnamed: 0</th>\n",
       "      <th>conversation id</th>\n",
       "      <th>author id</th>\n",
       "      <th>msg</th>\n",
       "      <th>time</th>\n",
       "      <th>predator</th>\n",
       "    </tr>\n",
       "  </thead>\n",
       "  <tbody>\n",
       "    <tr>\n",
       "      <th>903599</th>\n",
       "      <td>903602</td>\n",
       "      <td>4ed6b02ae537fdfd6078597b706292a8</td>\n",
       "      <td>74bfc043bd5ce9c17b37ffae6e0ba2fa</td>\n",
       "      <td>oh ok</td>\n",
       "      <td>22:36</td>\n",
       "      <td>0</td>\n",
       "    </tr>\n",
       "    <tr>\n",
       "      <th>903600</th>\n",
       "      <td>903603</td>\n",
       "      <td>4ed6b02ae537fdfd6078597b706292a8</td>\n",
       "      <td>8cd850ea4215ee7c4b94b6bcc0bae593</td>\n",
       "      <td>i will look for you tomorrow</td>\n",
       "      <td>22:36</td>\n",
       "      <td>1</td>\n",
       "    </tr>\n",
       "    <tr>\n",
       "      <th>903601</th>\n",
       "      <td>903604</td>\n",
       "      <td>4ed6b02ae537fdfd6078597b706292a8</td>\n",
       "      <td>74bfc043bd5ce9c17b37ffae6e0ba2fa</td>\n",
       "      <td>ok</td>\n",
       "      <td>22:36</td>\n",
       "      <td>0</td>\n",
       "    </tr>\n",
       "    <tr>\n",
       "      <th>903602</th>\n",
       "      <td>903605</td>\n",
       "      <td>4ed6b02ae537fdfd6078597b706292a8</td>\n",
       "      <td>8cd850ea4215ee7c4b94b6bcc0bae593</td>\n",
       "      <td>bye lissa</td>\n",
       "      <td>22:36</td>\n",
       "      <td>1</td>\n",
       "    </tr>\n",
       "    <tr>\n",
       "      <th>903603</th>\n",
       "      <td>903606</td>\n",
       "      <td>4ed6b02ae537fdfd6078597b706292a8</td>\n",
       "      <td>74bfc043bd5ce9c17b37ffae6e0ba2fa</td>\n",
       "      <td>bye jake</td>\n",
       "      <td>22:37</td>\n",
       "      <td>0</td>\n",
       "    </tr>\n",
       "  </tbody>\n",
       "</table>\n",
       "</div>"
      ],
      "text/plain": [
       "        Unnamed: 0                   conversation id  \\\n",
       "903599      903602  4ed6b02ae537fdfd6078597b706292a8   \n",
       "903600      903603  4ed6b02ae537fdfd6078597b706292a8   \n",
       "903601      903604  4ed6b02ae537fdfd6078597b706292a8   \n",
       "903602      903605  4ed6b02ae537fdfd6078597b706292a8   \n",
       "903603      903606  4ed6b02ae537fdfd6078597b706292a8   \n",
       "\n",
       "                               author id                           msg   time  \\\n",
       "903599  74bfc043bd5ce9c17b37ffae6e0ba2fa                         oh ok  22:36   \n",
       "903600  8cd850ea4215ee7c4b94b6bcc0bae593  i will look for you tomorrow  22:36   \n",
       "903601  74bfc043bd5ce9c17b37ffae6e0ba2fa                            ok  22:36   \n",
       "903602  8cd850ea4215ee7c4b94b6bcc0bae593                     bye lissa  22:36   \n",
       "903603  74bfc043bd5ce9c17b37ffae6e0ba2fa                      bye jake  22:37   \n",
       "\n",
       "        predator  \n",
       "903599         0  \n",
       "903600         1  \n",
       "903601         0  \n",
       "903602         1  \n",
       "903603         0  "
      ]
     },
     "execution_count": 7,
     "metadata": {},
     "output_type": "execute_result"
    }
   ],
   "source": [
    "data.tail()"
   ]
  },
  {
   "cell_type": "code",
   "execution_count": 8,
   "metadata": {
    "execution": {
     "iopub.execute_input": "2021-03-04T22:51:26.637982Z",
     "iopub.status.busy": "2021-03-04T22:51:26.637079Z",
     "iopub.status.idle": "2021-03-04T22:51:41.101443Z",
     "shell.execute_reply": "2021-03-04T22:51:41.100809Z"
    },
    "papermill": {
     "duration": 14.627165,
     "end_time": "2021-03-04T22:51:41.101589",
     "exception": false,
     "start_time": "2021-03-04T22:51:26.474424",
     "status": "completed"
    },
    "tags": []
   },
   "outputs": [
    {
     "data": {
      "application/vnd.jupyter.widget-view+json": {
       "model_id": "2905fdb66fb54b8ba3873cb0ba62b4d0",
       "version_major": 2,
       "version_minor": 0
      },
      "text/plain": [
       "Summarize dataset:   0%|          | 0/15 [00:00<?, ?it/s]"
      ]
     },
     "metadata": {},
     "output_type": "display_data"
    },
    {
     "data": {
      "application/vnd.jupyter.widget-view+json": {
       "model_id": "bc143f1ebbb748529f5641654c635dc6",
       "version_major": 2,
       "version_minor": 0
      },
      "text/plain": [
       "Generate report structure:   0%|          | 0/1 [00:00<?, ?it/s]"
      ]
     },
     "metadata": {},
     "output_type": "display_data"
    },
    {
     "data": {
      "application/vnd.jupyter.widget-view+json": {
       "model_id": "0b1566dfc45d427982a694a215275840",
       "version_major": 2,
       "version_minor": 0
      },
      "text/plain": [
       "Render HTML:   0%|          | 0/1 [00:00<?, ?it/s]"
      ]
     },
     "metadata": {},
     "output_type": "display_data"
    },
    {
     "data": {
      "text/html": [
       "<iframe width=\"100%\" height=\"800px\" srcdoc=\"&lt;!doctype html&gt;&lt;html lang=en&gt;&lt;head&gt;&lt;meta charset=utf-8&gt;&lt;meta name=viewport content=&quot;width=device-width, initial-scale=1, shrink-to-fit=no&quot;&gt;&lt;meta name=description content=&quot;Profile report generated with the `pandas-profiling` Python package&quot;&gt;&lt;meta name=author content=&quot;Simon Brugman and the open source community.&quot;&gt;&lt;meta name=generator content=&quot;Pandas Profiling v2.8.0&quot;&gt;&lt;meta name=url content=https://github.com/pandas-profiling/pandas-profiling&gt;&lt;meta name=date content=&quot;2021-03-04 22:51:26.673442&quot;&gt;&lt;title&gt;Pandas Profiling Reporte&lt;/title&gt;&lt;style&gt;\n",
       "/*!\n",
       " * Bootstrap v3.3.7 (http://getbootstrap.com)\n",
       " * Copyright 2011-2016 Twitter, Inc.\n",
       " * Licensed under MIT (https://github.com/twbs/bootstrap/blob/master/LICENSE)\n",
       " *//*! normalize.css v3.0.3 | MIT License | github.com/necolas/normalize.css */html{font-family:sans-serif;-webkit-text-size-adjust:100%;-ms-text-size-adjust:100%}body{margin:0}article,aside,details,figcaption,figure,footer,header,hgroup,main,menu,nav,section,summary{display:block}audio,canvas,progress,video{display:inline-block;vertical-align:baseline}audio:not([controls]){display:none;height:0}[hidden],template{display:none}a{background-color:transparent}a:active,a:hover{outline:0}abbr[title]{border-bottom:1px dotted}b,strong{font-weight:700}dfn{font-style:italic}h1{margin:.67em 0;font-size:2em}mark{color:#000;background:#ff0}small{font-size:80%}sub,sup{position:relative;font-size:75%;line-height:0;vertical-align:baseline}sup{top:-.5em}sub{bottom:-.25em}img{border:0}svg:not(:root){overflow:hidden}figure{margin:1em 40px}hr{height:0;-webkit-box-sizing:content-box;-moz-box-sizing:content-box;box-sizing:content-box}pre{overflow:auto}code,kbd,pre,samp{font-family:monospace,monospace;font-size:1em}button,input,optgroup,select,textarea{margin:0;font:inherit;color:inherit}button{overflow:visible}button,select{text-transform:none}button,html input[type=button],input[type=reset],input[type=submit]{-webkit-appearance:button;cursor:pointer}button[disabled],html input[disabled]{cursor:default}button::-moz-focus-inner,input::-moz-focus-inner{padding:0;border:0}input{line-height:normal}input[type=checkbox],input[type=radio]{-webkit-box-sizing:border-box;-moz-box-sizing:border-box;box-sizing:border-box;padding:0}input[type=number]::-webkit-inner-spin-button,input[type=number]::-webkit-outer-spin-button{height:auto}input[type=search]{-webkit-box-sizing:content-box;-moz-box-sizing:content-box;box-sizing:content-box;-webkit-appearance:textfield}input[type=search]::-webkit-search-cancel-button,input[type=search]::-webkit-search-decoration{-webkit-appearance:none}fieldset{padding:.35em .625em .75em;margin:0 2px;border:1px solid silver}legend{padding:0;border:0}textarea{overflow:auto}optgroup{font-weight:700}table{border-spacing:0;border-collapse:collapse}td,th{padding:0}/*! Source: https://github.com/h5bp/html5-boilerplate/blob/master/src/css/main.css */@media print{*,:after,:before{color:#000!important;text-shadow:none!important;background:0 0!important;-webkit-box-shadow:none!important;box-shadow:none!important}a,a:visited{text-decoration:underline}a[href]:after{content:&quot; (&quot; attr(href) &quot;)&quot;}abbr[title]:after{content:&quot; (&quot; attr(title) &quot;)&quot;}a[href^=&quot;javascript:&quot;]:after,a[href^=&quot;#&quot;]:after{content:&quot;&quot;}blockquote,pre{border:1px solid #999;page-break-inside:avoid}thead{display:table-header-group}img,tr{page-break-inside:avoid}img{max-width:100%!important}h2,h3,p{orphans:3;widows:3}h2,h3{page-break-after:avoid}.navbar{display:none}.btn&gt;.caret,.dropup&gt;.btn&gt;.caret{border-top-color:#000!important}.label{border:1px solid #000}.table{border-collapse:collapse!important}.table td,.table th{background-color:#fff!important}.table-bordered td,.table-bordered th{border:1px solid #ddd!important}}@font-face{font-family:&#x27;Glyphicons Halflings&#x27;;src:url(../fonts/glyphicons-halflings-regular.eot);src:url(../fonts/glyphicons-halflings-regular.eot?#iefix) format(&#x27;embedded-opentype&#x27;),url(../fonts/glyphicons-halflings-regular.woff2) format(&#x27;woff2&#x27;),url(../fonts/glyphicons-halflings-regular.woff) format(&#x27;woff&#x27;),url(../fonts/glyphicons-halflings-regular.ttf) format(&#x27;truetype&#x27;),url(../fonts/glyphicons-halflings-regular.svg#glyphicons_halflingsregular) format(&#x27;svg&#x27;)}.glyphicon{position:relative;top:1px;display:inline-block;font-family:&#x27;Glyphicons Halflings&#x27;;font-style:normal;font-weight:400;line-height:1;-webkit-font-smoothing:antialiased;-moz-osx-font-smoothing:grayscale}.glyphicon-asterisk:before{content:&quot;\\002a&quot;}.glyphicon-plus:before{content:&quot;\\002b&quot;}.glyphicon-eur:before,.glyphicon-euro:before{content:&quot;\\20ac&quot;}.glyphicon-minus:before{content:&quot;\\2212&quot;}.glyphicon-cloud:before{content:&quot;\\2601&quot;}.glyphicon-envelope:before{content:&quot;\\2709&quot;}.glyphicon-pencil:before{content:&quot;\\270f&quot;}.glyphicon-glass:before{content:&quot;\\e001&quot;}.glyphicon-music:before{content:&quot;\\e002&quot;}.glyphicon-search:before{content:&quot;\\e003&quot;}.glyphicon-heart:before{content:&quot;\\e005&quot;}.glyphicon-star:before{content:&quot;\\e006&quot;}.glyphicon-star-empty:before{content:&quot;\\e007&quot;}.glyphicon-user:before{content:&quot;\\e008&quot;}.glyphicon-film:before{content:&quot;\\e009&quot;}.glyphicon-th-large:before{content:&quot;\\e010&quot;}.glyphicon-th:before{content:&quot;\\e011&quot;}.glyphicon-th-list:before{content:&quot;\\e012&quot;}.glyphicon-ok:before{content:&quot;\\e013&quot;}.glyphicon-remove:before{content:&quot;\\e014&quot;}.glyphicon-zoom-in:before{content:&quot;\\e015&quot;}.glyphicon-zoom-out:before{content:&quot;\\e016&quot;}.glyphicon-off:before{content:&quot;\\e017&quot;}.glyphicon-signal:before{content:&quot;\\e018&quot;}.glyphicon-cog:before{content:&quot;\\e019&quot;}.glyphicon-trash:before{content:&quot;\\e020&quot;}.glyphicon-home:before{content:&quot;\\e021&quot;}.glyphicon-file:before{content:&quot;\\e022&quot;}.glyphicon-time:before{content:&quot;\\e023&quot;}.glyphicon-road:before{content:&quot;\\e024&quot;}.glyphicon-download-alt:before{content:&quot;\\e025&quot;}.glyphicon-download:before{content:&quot;\\e026&quot;}.glyphicon-upload:before{content:&quot;\\e027&quot;}.glyphicon-inbox:before{content:&quot;\\e028&quot;}.glyphicon-play-circle:before{content:&quot;\\e029&quot;}.glyphicon-repeat:before{content:&quot;\\e030&quot;}.glyphicon-refresh:before{content:&quot;\\e031&quot;}.glyphicon-list-alt:before{content:&quot;\\e032&quot;}.glyphicon-lock:before{content:&quot;\\e033&quot;}.glyphicon-flag:before{content:&quot;\\e034&quot;}.glyphicon-headphones:before{content:&quot;\\e035&quot;}.glyphicon-volume-off:before{content:&quot;\\e036&quot;}.glyphicon-volume-down:before{content:&quot;\\e037&quot;}.glyphicon-volume-up:before{content:&quot;\\e038&quot;}.glyphicon-qrcode:before{content:&quot;\\e039&quot;}.glyphicon-barcode:before{content:&quot;\\e040&quot;}.glyphicon-tag:before{content:&quot;\\e041&quot;}.glyphicon-tags:before{content:&quot;\\e042&quot;}.glyphicon-book:before{content:&quot;\\e043&quot;}.glyphicon-bookmark:before{content:&quot;\\e044&quot;}.glyphicon-print:before{content:&quot;\\e045&quot;}.glyphicon-camera:before{content:&quot;\\e046&quot;}.glyphicon-font:before{content:&quot;\\e047&quot;}.glyphicon-bold:before{content:&quot;\\e048&quot;}.glyphicon-italic:before{content:&quot;\\e049&quot;}.glyphicon-text-height:before{content:&quot;\\e050&quot;}.glyphicon-text-width:before{content:&quot;\\e051&quot;}.glyphicon-align-left:before{content:&quot;\\e052&quot;}.glyphicon-align-center:before{content:&quot;\\e053&quot;}.glyphicon-align-right:before{content:&quot;\\e054&quot;}.glyphicon-align-justify:before{content:&quot;\\e055&quot;}.glyphicon-list:before{content:&quot;\\e056&quot;}.glyphicon-indent-left:before{content:&quot;\\e057&quot;}.glyphicon-indent-right:before{content:&quot;\\e058&quot;}.glyphicon-facetime-video:before{content:&quot;\\e059&quot;}.glyphicon-picture:before{content:&quot;\\e060&quot;}.glyphicon-map-marker:before{content:&quot;\\e062&quot;}.glyphicon-adjust:before{content:&quot;\\e063&quot;}.glyphicon-tint:before{content:&quot;\\e064&quot;}.glyphicon-edit:before{content:&quot;\\e065&quot;}.glyphicon-share:before{content:&quot;\\e066&quot;}.glyphicon-check:before{content:&quot;\\e067&quot;}.glyphicon-move:before{content:&quot;\\e068&quot;}.glyphicon-step-backward:before{content:&quot;\\e069&quot;}.glyphicon-fast-backward:before{content:&quot;\\e070&quot;}.glyphicon-backward:before{content:&quot;\\e071&quot;}.glyphicon-play:before{content:&quot;\\e072&quot;}.glyphicon-pause:before{content:&quot;\\e073&quot;}.glyphicon-stop:before{content:&quot;\\e074&quot;}.glyphicon-forward:before{content:&quot;\\e075&quot;}.glyphicon-fast-forward:before{content:&quot;\\e076&quot;}.glyphicon-step-forward:before{content:&quot;\\e077&quot;}.glyphicon-eject:before{content:&quot;\\e078&quot;}.glyphicon-chevron-left:before{content:&quot;\\e079&quot;}.glyphicon-chevron-right:before{content:&quot;\\e080&quot;}.glyphicon-plus-sign:before{content:&quot;\\e081&quot;}.glyphicon-minus-sign:before{content:&quot;\\e082&quot;}.glyphicon-remove-sign:before{content:&quot;\\e083&quot;}.glyphicon-ok-sign:before{content:&quot;\\e084&quot;}.glyphicon-question-sign:before{content:&quot;\\e085&quot;}.glyphicon-info-sign:before{content:&quot;\\e086&quot;}.glyphicon-screenshot:before{content:&quot;\\e087&quot;}.glyphicon-remove-circle:before{content:&quot;\\e088&quot;}.glyphicon-ok-circle:before{content:&quot;\\e089&quot;}.glyphicon-ban-circle:before{content:&quot;\\e090&quot;}.glyphicon-arrow-left:before{content:&quot;\\e091&quot;}.glyphicon-arrow-right:before{content:&quot;\\e092&quot;}.glyphicon-arrow-up:before{content:&quot;\\e093&quot;}.glyphicon-arrow-down:before{content:&quot;\\e094&quot;}.glyphicon-share-alt:before{content:&quot;\\e095&quot;}.glyphicon-resize-full:before{content:&quot;\\e096&quot;}.glyphicon-resize-small:before{content:&quot;\\e097&quot;}.glyphicon-exclamation-sign:before{content:&quot;\\e101&quot;}.glyphicon-gift:before{content:&quot;\\e102&quot;}.glyphicon-leaf:before{content:&quot;\\e103&quot;}.glyphicon-fire:before{content:&quot;\\e104&quot;}.glyphicon-eye-open:before{content:&quot;\\e105&quot;}.glyphicon-eye-close:before{content:&quot;\\e106&quot;}.glyphicon-warning-sign:before{content:&quot;\\e107&quot;}.glyphicon-plane:before{content:&quot;\\e108&quot;}.glyphicon-calendar:before{content:&quot;\\e109&quot;}.glyphicon-random:before{content:&quot;\\e110&quot;}.glyphicon-comment:before{content:&quot;\\e111&quot;}.glyphicon-magnet:before{content:&quot;\\e112&quot;}.glyphicon-chevron-up:before{content:&quot;\\e113&quot;}.glyphicon-chevron-down:before{content:&quot;\\e114&quot;}.glyphicon-retweet:before{content:&quot;\\e115&quot;}.glyphicon-shopping-cart:before{content:&quot;\\e116&quot;}.glyphicon-folder-close:before{content:&quot;\\e117&quot;}.glyphicon-folder-open:before{content:&quot;\\e118&quot;}.glyphicon-resize-vertical:before{content:&quot;\\e119&quot;}.glyphicon-resize-horizontal:before{content:&quot;\\e120&quot;}.glyphicon-hdd:before{content:&quot;\\e121&quot;}.glyphicon-bullhorn:before{content:&quot;\\e122&quot;}.glyphicon-bell:before{content:&quot;\\e123&quot;}.glyphicon-certificate:before{content:&quot;\\e124&quot;}.glyphicon-thumbs-up:before{content:&quot;\\e125&quot;}.glyphicon-thumbs-down:before{content:&quot;\\e126&quot;}.glyphicon-hand-right:before{content:&quot;\\e127&quot;}.glyphicon-hand-left:before{content:&quot;\\e128&quot;}.glyphicon-hand-up:before{content:&quot;\\e129&quot;}.glyphicon-hand-down:before{content:&quot;\\e130&quot;}.glyphicon-circle-arrow-right:before{content:&quot;\\e131&quot;}.glyphicon-circle-arrow-left:before{content:&quot;\\e132&quot;}.glyphicon-circle-arrow-up:before{content:&quot;\\e133&quot;}.glyphicon-circle-arrow-down:before{content:&quot;\\e134&quot;}.glyphicon-globe:before{content:&quot;\\e135&quot;}.glyphicon-wrench:before{content:&quot;\\e136&quot;}.glyphicon-tasks:before{content:&quot;\\e137&quot;}.glyphicon-filter:before{content:&quot;\\e138&quot;}.glyphicon-briefcase:before{content:&quot;\\e139&quot;}.glyphicon-fullscreen:before{content:&quot;\\e140&quot;}.glyphicon-dashboard:before{content:&quot;\\e141&quot;}.glyphicon-paperclip:before{content:&quot;\\e142&quot;}.glyphicon-heart-empty:before{content:&quot;\\e143&quot;}.glyphicon-link:before{content:&quot;\\e144&quot;}.glyphicon-phone:before{content:&quot;\\e145&quot;}.glyphicon-pushpin:before{content:&quot;\\e146&quot;}.glyphicon-usd:before{content:&quot;\\e148&quot;}.glyphicon-gbp:before{content:&quot;\\e149&quot;}.glyphicon-sort:before{content:&quot;\\e150&quot;}.glyphicon-sort-by-alphabet:before{content:&quot;\\e151&quot;}.glyphicon-sort-by-alphabet-alt:before{content:&quot;\\e152&quot;}.glyphicon-sort-by-order:before{content:&quot;\\e153&quot;}.glyphicon-sort-by-order-alt:before{content:&quot;\\e154&quot;}.glyphicon-sort-by-attributes:before{content:&quot;\\e155&quot;}.glyphicon-sort-by-attributes-alt:before{content:&quot;\\e156&quot;}.glyphicon-unchecked:before{content:&quot;\\e157&quot;}.glyphicon-expand:before{content:&quot;\\e158&quot;}.glyphicon-collapse-down:before{content:&quot;\\e159&quot;}.glyphicon-collapse-up:before{content:&quot;\\e160&quot;}.glyphicon-log-in:before{content:&quot;\\e161&quot;}.glyphicon-flash:before{content:&quot;\\e162&quot;}.glyphicon-log-out:before{content:&quot;\\e163&quot;}.glyphicon-new-window:before{content:&quot;\\e164&quot;}.glyphicon-record:before{content:&quot;\\e165&quot;}.glyphicon-save:before{content:&quot;\\e166&quot;}.glyphicon-open:before{content:&quot;\\e167&quot;}.glyphicon-saved:before{content:&quot;\\e168&quot;}.glyphicon-import:before{content:&quot;\\e169&quot;}.glyphicon-export:before{content:&quot;\\e170&quot;}.glyphicon-send:before{content:&quot;\\e171&quot;}.glyphicon-floppy-disk:before{content:&quot;\\e172&quot;}.glyphicon-floppy-saved:before{content:&quot;\\e173&quot;}.glyphicon-floppy-remove:before{content:&quot;\\e174&quot;}.glyphicon-floppy-save:before{content:&quot;\\e175&quot;}.glyphicon-floppy-open:before{content:&quot;\\e176&quot;}.glyphicon-credit-card:before{content:&quot;\\e177&quot;}.glyphicon-transfer:before{content:&quot;\\e178&quot;}.glyphicon-cutlery:before{content:&quot;\\e179&quot;}.glyphicon-header:before{content:&quot;\\e180&quot;}.glyphicon-compressed:before{content:&quot;\\e181&quot;}.glyphicon-earphone:before{content:&quot;\\e182&quot;}.glyphicon-phone-alt:before{content:&quot;\\e183&quot;}.glyphicon-tower:before{content:&quot;\\e184&quot;}.glyphicon-stats:before{content:&quot;\\e185&quot;}.glyphicon-sd-video:before{content:&quot;\\e186&quot;}.glyphicon-hd-video:before{content:&quot;\\e187&quot;}.glyphicon-subtitles:before{content:&quot;\\e188&quot;}.glyphicon-sound-stereo:before{content:&quot;\\e189&quot;}.glyphicon-sound-dolby:before{content:&quot;\\e190&quot;}.glyphicon-sound-5-1:before{content:&quot;\\e191&quot;}.glyphicon-sound-6-1:before{content:&quot;\\e192&quot;}.glyphicon-sound-7-1:before{content:&quot;\\e193&quot;}.glyphicon-copyright-mark:before{content:&quot;\\e194&quot;}.glyphicon-registration-mark:before{content:&quot;\\e195&quot;}.glyphicon-cloud-download:before{content:&quot;\\e197&quot;}.glyphicon-cloud-upload:before{content:&quot;\\e198&quot;}.glyphicon-tree-conifer:before{content:&quot;\\e199&quot;}.glyphicon-tree-deciduous:before{content:&quot;\\e200&quot;}.glyphicon-cd:before{content:&quot;\\e201&quot;}.glyphicon-save-file:before{content:&quot;\\e202&quot;}.glyphicon-open-file:before{content:&quot;\\e203&quot;}.glyphicon-level-up:before{content:&quot;\\e204&quot;}.glyphicon-copy:before{content:&quot;\\e205&quot;}.glyphicon-paste:before{content:&quot;\\e206&quot;}.glyphicon-alert:before{content:&quot;\\e209&quot;}.glyphicon-equalizer:before{content:&quot;\\e210&quot;}.glyphicon-king:before{content:&quot;\\e211&quot;}.glyphicon-queen:before{content:&quot;\\e212&quot;}.glyphicon-pawn:before{content:&quot;\\e213&quot;}.glyphicon-bishop:before{content:&quot;\\e214&quot;}.glyphicon-knight:before{content:&quot;\\e215&quot;}.glyphicon-baby-formula:before{content:&quot;\\e216&quot;}.glyphicon-tent:before{content:&quot;\\26fa&quot;}.glyphicon-blackboard:before{content:&quot;\\e218&quot;}.glyphicon-bed:before{content:&quot;\\e219&quot;}.glyphicon-apple:before{content:&quot;\\f8ff&quot;}.glyphicon-erase:before{content:&quot;\\e221&quot;}.glyphicon-hourglass:before{content:&quot;\\231b&quot;}.glyphicon-lamp:before{content:&quot;\\e223&quot;}.glyphicon-duplicate:before{content:&quot;\\e224&quot;}.glyphicon-piggy-bank:before{content:&quot;\\e225&quot;}.glyphicon-scissors:before{content:&quot;\\e226&quot;}.glyphicon-bitcoin:before{content:&quot;\\e227&quot;}.glyphicon-btc:before{content:&quot;\\e227&quot;}.glyphicon-xbt:before{content:&quot;\\e227&quot;}.glyphicon-yen:before{content:&quot;\\00a5&quot;}.glyphicon-jpy:before{content:&quot;\\00a5&quot;}.glyphicon-ruble:before{content:&quot;\\20bd&quot;}.glyphicon-rub:before{content:&quot;\\20bd&quot;}.glyphicon-scale:before{content:&quot;\\e230&quot;}.glyphicon-ice-lolly:before{content:&quot;\\e231&quot;}.glyphicon-ice-lolly-tasted:before{content:&quot;\\e232&quot;}.glyphicon-education:before{content:&quot;\\e233&quot;}.glyphicon-option-horizontal:before{content:&quot;\\e234&quot;}.glyphicon-option-vertical:before{content:&quot;\\e235&quot;}.glyphicon-menu-hamburger:before{content:&quot;\\e236&quot;}.glyphicon-modal-window:before{content:&quot;\\e237&quot;}.glyphicon-oil:before{content:&quot;\\e238&quot;}.glyphicon-grain:before{content:&quot;\\e239&quot;}.glyphicon-sunglasses:before{content:&quot;\\e240&quot;}.glyphicon-text-size:before{content:&quot;\\e241&quot;}.glyphicon-text-color:before{content:&quot;\\e242&quot;}.glyphicon-text-background:before{content:&quot;\\e243&quot;}.glyphicon-object-align-top:before{content:&quot;\\e244&quot;}.glyphicon-object-align-bottom:before{content:&quot;\\e245&quot;}.glyphicon-object-align-horizontal:before{content:&quot;\\e246&quot;}.glyphicon-object-align-left:before{content:&quot;\\e247&quot;}.glyphicon-object-align-vertical:before{content:&quot;\\e248&quot;}.glyphicon-object-align-right:before{content:&quot;\\e249&quot;}.glyphicon-triangle-right:before{content:&quot;\\e250&quot;}.glyphicon-triangle-left:before{content:&quot;\\e251&quot;}.glyphicon-triangle-bottom:before{content:&quot;\\e252&quot;}.glyphicon-triangle-top:before{content:&quot;\\e253&quot;}.glyphicon-console:before{content:&quot;\\e254&quot;}.glyphicon-superscript:before{content:&quot;\\e255&quot;}.glyphicon-subscript:before{content:&quot;\\e256&quot;}.glyphicon-menu-left:before{content:&quot;\\e257&quot;}.glyphicon-menu-right:before{content:&quot;\\e258&quot;}.glyphicon-menu-down:before{content:&quot;\\e259&quot;}.glyphicon-menu-up:before{content:&quot;\\e260&quot;}*{-webkit-box-sizing:border-box;-moz-box-sizing:border-box;box-sizing:border-box}:after,:before{-webkit-box-sizing:border-box;-moz-box-sizing:border-box;box-sizing:border-box}html{font-size:10px;-webkit-tap-highlight-color:rgba(0,0,0,0)}body{font-family:&quot;Helvetica Neue&quot;,Helvetica,Arial,sans-serif;font-size:14px;line-height:1.42857143;color:#333;background-color:#fff}button,input,select,textarea{font-family:inherit;font-size:inherit;line-height:inherit}a{color:#337ab7;text-decoration:none}a:focus,a:hover{color:#23527c;text-decoration:underline}a:focus{outline:5px auto -webkit-focus-ring-color;outline-offset:-2px}figure{margin:0}img{vertical-align:middle}.carousel-inner&gt;.item&gt;a&gt;img,.carousel-inner&gt;.item&gt;img,.img-responsive,.thumbnail a&gt;img,.thumbnail&gt;img{display:block;max-width:100%;height:auto}.img-rounded{border-radius:6px}.img-thumbnail{display:inline-block;max-width:100%;height:auto;padding:4px;line-height:1.42857143;background-color:#fff;border:1px solid #ddd;border-radius:4px;-webkit-transition:all .2s ease-in-out;-o-transition:all .2s ease-in-out;transition:all .2s ease-in-out}.img-circle{border-radius:50%}hr{margin-top:20px;margin-bottom:20px;border:0;border-top:1px solid #eee}.sr-only{position:absolute;width:1px;height:1px;padding:0;margin:-1px;overflow:hidden;clip:rect(0,0,0,0);border:0}.sr-only-focusable:active,.sr-only-focusable:focus{position:static;width:auto;height:auto;margin:0;overflow:visible;clip:auto}[role=button]{cursor:pointer}.h1,.h2,.h3,.h4,.h5,.h6,h1,h2,h3,h4,h5,h6{font-family:inherit;font-weight:500;line-height:1.1;color:inherit}.h1 .small,.h1 small,.h2 .small,.h2 small,.h3 .small,.h3 small,.h4 .small,.h4 small,.h5 .small,.h5 small,.h6 .small,.h6 small,h1 .small,h1 small,h2 .small,h2 small,h3 .small,h3 small,h4 .small,h4 small,h5 .small,h5 small,h6 .small,h6 small{font-weight:400;line-height:1;color:#777}.h1,.h2,.h3,h1,h2,h3{margin-top:20px;margin-bottom:10px}.h1 .small,.h1 small,.h2 .small,.h2 small,.h3 .small,.h3 small,h1 .small,h1 small,h2 .small,h2 small,h3 .small,h3 small{font-size:65%}.h4,.h5,.h6,h4,h5,h6{margin-top:10px;margin-bottom:10px}.h4 .small,.h4 small,.h5 .small,.h5 small,.h6 .small,.h6 small,h4 .small,h4 small,h5 .small,h5 small,h6 .small,h6 small{font-size:75%}.h1,h1{font-size:36px}.h2,h2{font-size:30px}.h3,h3{font-size:24px}.h4,h4{font-size:18px}.h5,h5{font-size:14px}.h6,h6{font-size:12px}p{margin:0 0 10px}.lead{margin-bottom:20px;font-size:16px;font-weight:300;line-height:1.4}@media (min-width:768px){.lead{font-size:21px}}.small,small{font-size:85%}.mark,mark{padding:.2em;background-color:#fcf8e3}.text-left{text-align:left}.text-right{text-align:right}.text-center{text-align:center}.text-justify{text-align:justify}.text-nowrap{white-space:nowrap}.text-lowercase{text-transform:lowercase}.text-uppercase{text-transform:uppercase}.text-capitalize{text-transform:capitalize}.text-muted{color:#777}.text-primary{color:#337ab7}a.text-primary:focus,a.text-primary:hover{color:#286090}.text-success{color:#3c763d}a.text-success:focus,a.text-success:hover{color:#2b542c}.text-info{color:#31708f}a.text-info:focus,a.text-info:hover{color:#245269}.text-warning{color:#8a6d3b}a.text-warning:focus,a.text-warning:hover{color:#66512c}.text-danger{color:#a94442}a.text-danger:focus,a.text-danger:hover{color:#843534}.bg-primary{color:#fff;background-color:#337ab7}a.bg-primary:focus,a.bg-primary:hover{background-color:#286090}.bg-success{background-color:#dff0d8}a.bg-success:focus,a.bg-success:hover{background-color:#c1e2b3}.bg-info{background-color:#d9edf7}a.bg-info:focus,a.bg-info:hover{background-color:#afd9ee}.bg-warning{background-color:#fcf8e3}a.bg-warning:focus,a.bg-warning:hover{background-color:#f7ecb5}.bg-danger{background-color:#f2dede}a.bg-danger:focus,a.bg-danger:hover{background-color:#e4b9b9}.page-header{padding-bottom:9px;margin:40px 0 20px;border-bottom:1px solid #eee}ol,ul{margin-top:0;margin-bottom:10px}ol ol,ol ul,ul ol,ul ul{margin-bottom:0}.list-unstyled{padding-left:0;list-style:none}.list-inline{padding-left:0;margin-left:-5px;list-style:none}.list-inline&gt;li{display:inline-block;padding-right:5px;padding-left:5px}dl{margin-top:0;margin-bottom:20px}dd,dt{line-height:1.42857143}dt{font-weight:700}dd{margin-left:0}@media (min-width:768px){.dl-horizontal dt{float:left;width:160px;overflow:hidden;clear:left;text-align:right;text-overflow:ellipsis;white-space:nowrap}.dl-horizontal dd{margin-left:180px}}abbr[data-original-title],abbr[title]{cursor:help;border-bottom:1px dotted #777}.initialism{font-size:90%;text-transform:uppercase}blockquote{padding:10px 20px;margin:0 0 20px;font-size:17.5px;border-left:5px solid #eee}blockquote ol:last-child,blockquote p:last-child,blockquote ul:last-child{margin-bottom:0}blockquote .small,blockquote footer,blockquote small{display:block;font-size:80%;line-height:1.42857143;color:#777}blockquote .small:before,blockquote footer:before,blockquote small:before{content:&#x27;\\2014 \\00A0&#x27;}.blockquote-reverse,blockquote.pull-right{padding-right:15px;padding-left:0;text-align:right;border-right:5px solid #eee;border-left:0}.blockquote-reverse .small:before,.blockquote-reverse footer:before,.blockquote-reverse small:before,blockquote.pull-right .small:before,blockquote.pull-right footer:before,blockquote.pull-right small:before{content:&#x27;&#x27;}.blockquote-reverse .small:after,.blockquote-reverse footer:after,.blockquote-reverse small:after,blockquote.pull-right .small:after,blockquote.pull-right footer:after,blockquote.pull-right small:after{content:&#x27;\\00A0 \\2014&#x27;}address{margin-bottom:20px;font-style:normal;line-height:1.42857143}code,kbd,pre,samp{font-family:Menlo,Monaco,Consolas,&quot;Courier New&quot;,monospace}code{padding:2px 4px;font-size:90%;color:#c7254e;background-color:#f9f2f4;border-radius:4px}kbd{padding:2px 4px;font-size:90%;color:#fff;background-color:#333;border-radius:3px;-webkit-box-shadow:inset 0 -1px 0 rgba(0,0,0,.25);box-shadow:inset 0 -1px 0 rgba(0,0,0,.25)}kbd kbd{padding:0;font-size:100%;font-weight:700;-webkit-box-shadow:none;box-shadow:none}pre{display:block;padding:9.5px;margin:0 0 10px;font-size:13px;line-height:1.42857143;color:#333;word-break:break-all;word-wrap:break-word;background-color:#f5f5f5;border:1px solid #ccc;border-radius:4px}pre code{padding:0;font-size:inherit;color:inherit;white-space:pre-wrap;background-color:transparent;border-radius:0}.pre-scrollable{max-height:340px;overflow-y:scroll}.container{padding-right:15px;padding-left:15px;margin-right:auto;margin-left:auto}@media (min-width:768px){.container{width:750px}}@media (min-width:992px){.container{width:970px}}@media (min-width:1200px){.container{width:1170px}}.container-fluid{padding-right:15px;padding-left:15px;margin-right:auto;margin-left:auto}.row{margin-right:-15px;margin-left:-15px}.col-lg-1,.col-lg-10,.col-lg-11,.col-lg-12,.col-lg-2,.col-lg-3,.col-lg-4,.col-lg-5,.col-lg-6,.col-lg-7,.col-lg-8,.col-lg-9,.col-md-1,.col-md-10,.col-md-11,.col-md-12,.col-md-2,.col-md-3,.col-md-4,.col-md-5,.col-md-6,.col-md-7,.col-md-8,.col-md-9,.col-sm-1,.col-sm-10,.col-sm-11,.col-sm-12,.col-sm-2,.col-sm-3,.col-sm-4,.col-sm-5,.col-sm-6,.col-sm-7,.col-sm-8,.col-sm-9,.col-xs-1,.col-xs-10,.col-xs-11,.col-xs-12,.col-xs-2,.col-xs-3,.col-xs-4,.col-xs-5,.col-xs-6,.col-xs-7,.col-xs-8,.col-xs-9{position:relative;min-height:1px;padding-right:15px;padding-left:15px}.col-xs-1,.col-xs-10,.col-xs-11,.col-xs-12,.col-xs-2,.col-xs-3,.col-xs-4,.col-xs-5,.col-xs-6,.col-xs-7,.col-xs-8,.col-xs-9{float:left}.col-xs-12{width:100%}.col-xs-11{width:91.66666667%}.col-xs-10{width:83.33333333%}.col-xs-9{width:75%}.col-xs-8{width:66.66666667%}.col-xs-7{width:58.33333333%}.col-xs-6{width:50%}.col-xs-5{width:41.66666667%}.col-xs-4{width:33.33333333%}.col-xs-3{width:25%}.col-xs-2{width:16.66666667%}.col-xs-1{width:8.33333333%}.col-xs-pull-12{right:100%}.col-xs-pull-11{right:91.66666667%}.col-xs-pull-10{right:83.33333333%}.col-xs-pull-9{right:75%}.col-xs-pull-8{right:66.66666667%}.col-xs-pull-7{right:58.33333333%}.col-xs-pull-6{right:50%}.col-xs-pull-5{right:41.66666667%}.col-xs-pull-4{right:33.33333333%}.col-xs-pull-3{right:25%}.col-xs-pull-2{right:16.66666667%}.col-xs-pull-1{right:8.33333333%}.col-xs-pull-0{right:auto}.col-xs-push-12{left:100%}.col-xs-push-11{left:91.66666667%}.col-xs-push-10{left:83.33333333%}.col-xs-push-9{left:75%}.col-xs-push-8{left:66.66666667%}.col-xs-push-7{left:58.33333333%}.col-xs-push-6{left:50%}.col-xs-push-5{left:41.66666667%}.col-xs-push-4{left:33.33333333%}.col-xs-push-3{left:25%}.col-xs-push-2{left:16.66666667%}.col-xs-push-1{left:8.33333333%}.col-xs-push-0{left:auto}.col-xs-offset-12{margin-left:100%}.col-xs-offset-11{margin-left:91.66666667%}.col-xs-offset-10{margin-left:83.33333333%}.col-xs-offset-9{margin-left:75%}.col-xs-offset-8{margin-left:66.66666667%}.col-xs-offset-7{margin-left:58.33333333%}.col-xs-offset-6{margin-left:50%}.col-xs-offset-5{margin-left:41.66666667%}.col-xs-offset-4{margin-left:33.33333333%}.col-xs-offset-3{margin-left:25%}.col-xs-offset-2{margin-left:16.66666667%}.col-xs-offset-1{margin-left:8.33333333%}.col-xs-offset-0{margin-left:0}@media (min-width:768px){.col-sm-1,.col-sm-10,.col-sm-11,.col-sm-12,.col-sm-2,.col-sm-3,.col-sm-4,.col-sm-5,.col-sm-6,.col-sm-7,.col-sm-8,.col-sm-9{float:left}.col-sm-12{width:100%}.col-sm-11{width:91.66666667%}.col-sm-10{width:83.33333333%}.col-sm-9{width:75%}.col-sm-8{width:66.66666667%}.col-sm-7{width:58.33333333%}.col-sm-6{width:50%}.col-sm-5{width:41.66666667%}.col-sm-4{width:33.33333333%}.col-sm-3{width:25%}.col-sm-2{width:16.66666667%}.col-sm-1{width:8.33333333%}.col-sm-pull-12{right:100%}.col-sm-pull-11{right:91.66666667%}.col-sm-pull-10{right:83.33333333%}.col-sm-pull-9{right:75%}.col-sm-pull-8{right:66.66666667%}.col-sm-pull-7{right:58.33333333%}.col-sm-pull-6{right:50%}.col-sm-pull-5{right:41.66666667%}.col-sm-pull-4{right:33.33333333%}.col-sm-pull-3{right:25%}.col-sm-pull-2{right:16.66666667%}.col-sm-pull-1{right:8.33333333%}.col-sm-pull-0{right:auto}.col-sm-push-12{left:100%}.col-sm-push-11{left:91.66666667%}.col-sm-push-10{left:83.33333333%}.col-sm-push-9{left:75%}.col-sm-push-8{left:66.66666667%}.col-sm-push-7{left:58.33333333%}.col-sm-push-6{left:50%}.col-sm-push-5{left:41.66666667%}.col-sm-push-4{left:33.33333333%}.col-sm-push-3{left:25%}.col-sm-push-2{left:16.66666667%}.col-sm-push-1{left:8.33333333%}.col-sm-push-0{left:auto}.col-sm-offset-12{margin-left:100%}.col-sm-offset-11{margin-left:91.66666667%}.col-sm-offset-10{margin-left:83.33333333%}.col-sm-offset-9{margin-left:75%}.col-sm-offset-8{margin-left:66.66666667%}.col-sm-offset-7{margin-left:58.33333333%}.col-sm-offset-6{margin-left:50%}.col-sm-offset-5{margin-left:41.66666667%}.col-sm-offset-4{margin-left:33.33333333%}.col-sm-offset-3{margin-left:25%}.col-sm-offset-2{margin-left:16.66666667%}.col-sm-offset-1{margin-left:8.33333333%}.col-sm-offset-0{margin-left:0}}@media (min-width:992px){.col-md-1,.col-md-10,.col-md-11,.col-md-12,.col-md-2,.col-md-3,.col-md-4,.col-md-5,.col-md-6,.col-md-7,.col-md-8,.col-md-9{float:left}.col-md-12{width:100%}.col-md-11{width:91.66666667%}.col-md-10{width:83.33333333%}.col-md-9{width:75%}.col-md-8{width:66.66666667%}.col-md-7{width:58.33333333%}.col-md-6{width:50%}.col-md-5{width:41.66666667%}.col-md-4{width:33.33333333%}.col-md-3{width:25%}.col-md-2{width:16.66666667%}.col-md-1{width:8.33333333%}.col-md-pull-12{right:100%}.col-md-pull-11{right:91.66666667%}.col-md-pull-10{right:83.33333333%}.col-md-pull-9{right:75%}.col-md-pull-8{right:66.66666667%}.col-md-pull-7{right:58.33333333%}.col-md-pull-6{right:50%}.col-md-pull-5{right:41.66666667%}.col-md-pull-4{right:33.33333333%}.col-md-pull-3{right:25%}.col-md-pull-2{right:16.66666667%}.col-md-pull-1{right:8.33333333%}.col-md-pull-0{right:auto}.col-md-push-12{left:100%}.col-md-push-11{left:91.66666667%}.col-md-push-10{left:83.33333333%}.col-md-push-9{left:75%}.col-md-push-8{left:66.66666667%}.col-md-push-7{left:58.33333333%}.col-md-push-6{left:50%}.col-md-push-5{left:41.66666667%}.col-md-push-4{left:33.33333333%}.col-md-push-3{left:25%}.col-md-push-2{left:16.66666667%}.col-md-push-1{left:8.33333333%}.col-md-push-0{left:auto}.col-md-offset-12{margin-left:100%}.col-md-offset-11{margin-left:91.66666667%}.col-md-offset-10{margin-left:83.33333333%}.col-md-offset-9{margin-left:75%}.col-md-offset-8{margin-left:66.66666667%}.col-md-offset-7{margin-left:58.33333333%}.col-md-offset-6{margin-left:50%}.col-md-offset-5{margin-left:41.66666667%}.col-md-offset-4{margin-left:33.33333333%}.col-md-offset-3{margin-left:25%}.col-md-offset-2{margin-left:16.66666667%}.col-md-offset-1{margin-left:8.33333333%}.col-md-offset-0{margin-left:0}}@media (min-width:1200px){.col-lg-1,.col-lg-10,.col-lg-11,.col-lg-12,.col-lg-2,.col-lg-3,.col-lg-4,.col-lg-5,.col-lg-6,.col-lg-7,.col-lg-8,.col-lg-9{float:left}.col-lg-12{width:100%}.col-lg-11{width:91.66666667%}.col-lg-10{width:83.33333333%}.col-lg-9{width:75%}.col-lg-8{width:66.66666667%}.col-lg-7{width:58.33333333%}.col-lg-6{width:50%}.col-lg-5{width:41.66666667%}.col-lg-4{width:33.33333333%}.col-lg-3{width:25%}.col-lg-2{width:16.66666667%}.col-lg-1{width:8.33333333%}.col-lg-pull-12{right:100%}.col-lg-pull-11{right:91.66666667%}.col-lg-pull-10{right:83.33333333%}.col-lg-pull-9{right:75%}.col-lg-pull-8{right:66.66666667%}.col-lg-pull-7{right:58.33333333%}.col-lg-pull-6{right:50%}.col-lg-pull-5{right:41.66666667%}.col-lg-pull-4{right:33.33333333%}.col-lg-pull-3{right:25%}.col-lg-pull-2{right:16.66666667%}.col-lg-pull-1{right:8.33333333%}.col-lg-pull-0{right:auto}.col-lg-push-12{left:100%}.col-lg-push-11{left:91.66666667%}.col-lg-push-10{left:83.33333333%}.col-lg-push-9{left:75%}.col-lg-push-8{left:66.66666667%}.col-lg-push-7{left:58.33333333%}.col-lg-push-6{left:50%}.col-lg-push-5{left:41.66666667%}.col-lg-push-4{left:33.33333333%}.col-lg-push-3{left:25%}.col-lg-push-2{left:16.66666667%}.col-lg-push-1{left:8.33333333%}.col-lg-push-0{left:auto}.col-lg-offset-12{margin-left:100%}.col-lg-offset-11{margin-left:91.66666667%}.col-lg-offset-10{margin-left:83.33333333%}.col-lg-offset-9{margin-left:75%}.col-lg-offset-8{margin-left:66.66666667%}.col-lg-offset-7{margin-left:58.33333333%}.col-lg-offset-6{margin-left:50%}.col-lg-offset-5{margin-left:41.66666667%}.col-lg-offset-4{margin-left:33.33333333%}.col-lg-offset-3{margin-left:25%}.col-lg-offset-2{margin-left:16.66666667%}.col-lg-offset-1{margin-left:8.33333333%}.col-lg-offset-0{margin-left:0}}table{background-color:transparent}caption{padding-top:8px;padding-bottom:8px;color:#777;text-align:left}th{text-align:left}.table{width:100%;max-width:100%;margin-bottom:20px}.table&gt;tbody&gt;tr&gt;td,.table&gt;tbody&gt;tr&gt;th,.table&gt;tfoot&gt;tr&gt;td,.table&gt;tfoot&gt;tr&gt;th,.table&gt;thead&gt;tr&gt;td,.table&gt;thead&gt;tr&gt;th{padding:8px;line-height:1.42857143;vertical-align:top;border-top:1px solid #ddd}.table&gt;thead&gt;tr&gt;th{vertical-align:bottom;border-bottom:2px solid #ddd}.table&gt;caption+thead&gt;tr:first-child&gt;td,.table&gt;caption+thead&gt;tr:first-child&gt;th,.table&gt;colgroup+thead&gt;tr:first-child&gt;td,.table&gt;colgroup+thead&gt;tr:first-child&gt;th,.table&gt;thead:first-child&gt;tr:first-child&gt;td,.table&gt;thead:first-child&gt;tr:first-child&gt;th{border-top:0}.table&gt;tbody+tbody{border-top:2px solid #ddd}.table .table{background-color:#fff}.table-condensed&gt;tbody&gt;tr&gt;td,.table-condensed&gt;tbody&gt;tr&gt;th,.table-condensed&gt;tfoot&gt;tr&gt;td,.table-condensed&gt;tfoot&gt;tr&gt;th,.table-condensed&gt;thead&gt;tr&gt;td,.table-condensed&gt;thead&gt;tr&gt;th{padding:5px}.table-bordered{border:1px solid #ddd}.table-bordered&gt;tbody&gt;tr&gt;td,.table-bordered&gt;tbody&gt;tr&gt;th,.table-bordered&gt;tfoot&gt;tr&gt;td,.table-bordered&gt;tfoot&gt;tr&gt;th,.table-bordered&gt;thead&gt;tr&gt;td,.table-bordered&gt;thead&gt;tr&gt;th{border:1px solid #ddd}.table-bordered&gt;thead&gt;tr&gt;td,.table-bordered&gt;thead&gt;tr&gt;th{border-bottom-width:2px}.table-striped&gt;tbody&gt;tr:nth-of-type(odd){background-color:#f9f9f9}.table-hover&gt;tbody&gt;tr:hover{background-color:#f5f5f5}table col[class*=col-]{position:static;display:table-column;float:none}table td[class*=col-],table th[class*=col-]{position:static;display:table-cell;float:none}.table&gt;tbody&gt;tr.active&gt;td,.table&gt;tbody&gt;tr.active&gt;th,.table&gt;tbody&gt;tr&gt;td.active,.table&gt;tbody&gt;tr&gt;th.active,.table&gt;tfoot&gt;tr.active&gt;td,.table&gt;tfoot&gt;tr.active&gt;th,.table&gt;tfoot&gt;tr&gt;td.active,.table&gt;tfoot&gt;tr&gt;th.active,.table&gt;thead&gt;tr.active&gt;td,.table&gt;thead&gt;tr.active&gt;th,.table&gt;thead&gt;tr&gt;td.active,.table&gt;thead&gt;tr&gt;th.active{background-color:#f5f5f5}.table-hover&gt;tbody&gt;tr.active:hover&gt;td,.table-hover&gt;tbody&gt;tr.active:hover&gt;th,.table-hover&gt;tbody&gt;tr:hover&gt;.active,.table-hover&gt;tbody&gt;tr&gt;td.active:hover,.table-hover&gt;tbody&gt;tr&gt;th.active:hover{background-color:#e8e8e8}.table&gt;tbody&gt;tr.success&gt;td,.table&gt;tbody&gt;tr.success&gt;th,.table&gt;tbody&gt;tr&gt;td.success,.table&gt;tbody&gt;tr&gt;th.success,.table&gt;tfoot&gt;tr.success&gt;td,.table&gt;tfoot&gt;tr.success&gt;th,.table&gt;tfoot&gt;tr&gt;td.success,.table&gt;tfoot&gt;tr&gt;th.success,.table&gt;thead&gt;tr.success&gt;td,.table&gt;thead&gt;tr.success&gt;th,.table&gt;thead&gt;tr&gt;td.success,.table&gt;thead&gt;tr&gt;th.success{background-color:#dff0d8}.table-hover&gt;tbody&gt;tr.success:hover&gt;td,.table-hover&gt;tbody&gt;tr.success:hover&gt;th,.table-hover&gt;tbody&gt;tr:hover&gt;.success,.table-hover&gt;tbody&gt;tr&gt;td.success:hover,.table-hover&gt;tbody&gt;tr&gt;th.success:hover{background-color:#d0e9c6}.table&gt;tbody&gt;tr.info&gt;td,.table&gt;tbody&gt;tr.info&gt;th,.table&gt;tbody&gt;tr&gt;td.info,.table&gt;tbody&gt;tr&gt;th.info,.table&gt;tfoot&gt;tr.info&gt;td,.table&gt;tfoot&gt;tr.info&gt;th,.table&gt;tfoot&gt;tr&gt;td.info,.table&gt;tfoot&gt;tr&gt;th.info,.table&gt;thead&gt;tr.info&gt;td,.table&gt;thead&gt;tr.info&gt;th,.table&gt;thead&gt;tr&gt;td.info,.table&gt;thead&gt;tr&gt;th.info{background-color:#d9edf7}.table-hover&gt;tbody&gt;tr.info:hover&gt;td,.table-hover&gt;tbody&gt;tr.info:hover&gt;th,.table-hover&gt;tbody&gt;tr:hover&gt;.info,.table-hover&gt;tbody&gt;tr&gt;td.info:hover,.table-hover&gt;tbody&gt;tr&gt;th.info:hover{background-color:#c4e3f3}.table&gt;tbody&gt;tr.warning&gt;td,.table&gt;tbody&gt;tr.warning&gt;th,.table&gt;tbody&gt;tr&gt;td.warning,.table&gt;tbody&gt;tr&gt;th.warning,.table&gt;tfoot&gt;tr.warning&gt;td,.table&gt;tfoot&gt;tr.warning&gt;th,.table&gt;tfoot&gt;tr&gt;td.warning,.table&gt;tfoot&gt;tr&gt;th.warning,.table&gt;thead&gt;tr.warning&gt;td,.table&gt;thead&gt;tr.warning&gt;th,.table&gt;thead&gt;tr&gt;td.warning,.table&gt;thead&gt;tr&gt;th.warning{background-color:#fcf8e3}.table-hover&gt;tbody&gt;tr.warning:hover&gt;td,.table-hover&gt;tbody&gt;tr.warning:hover&gt;th,.table-hover&gt;tbody&gt;tr:hover&gt;.warning,.table-hover&gt;tbody&gt;tr&gt;td.warning:hover,.table-hover&gt;tbody&gt;tr&gt;th.warning:hover{background-color:#faf2cc}.table&gt;tbody&gt;tr.danger&gt;td,.table&gt;tbody&gt;tr.danger&gt;th,.table&gt;tbody&gt;tr&gt;td.danger,.table&gt;tbody&gt;tr&gt;th.danger,.table&gt;tfoot&gt;tr.danger&gt;td,.table&gt;tfoot&gt;tr.danger&gt;th,.table&gt;tfoot&gt;tr&gt;td.danger,.table&gt;tfoot&gt;tr&gt;th.danger,.table&gt;thead&gt;tr.danger&gt;td,.table&gt;thead&gt;tr.danger&gt;th,.table&gt;thead&gt;tr&gt;td.danger,.table&gt;thead&gt;tr&gt;th.danger{background-color:#f2dede}.table-hover&gt;tbody&gt;tr.danger:hover&gt;td,.table-hover&gt;tbody&gt;tr.danger:hover&gt;th,.table-hover&gt;tbody&gt;tr:hover&gt;.danger,.table-hover&gt;tbody&gt;tr&gt;td.danger:hover,.table-hover&gt;tbody&gt;tr&gt;th.danger:hover{background-color:#ebcccc}.table-responsive{min-height:.01%;overflow-x:auto}@media screen and (max-width:767px){.table-responsive{width:100%;margin-bottom:15px;overflow-y:hidden;-ms-overflow-style:-ms-autohiding-scrollbar;border:1px solid #ddd}.table-responsive&gt;.table{margin-bottom:0}.table-responsive&gt;.table&gt;tbody&gt;tr&gt;td,.table-responsive&gt;.table&gt;tbody&gt;tr&gt;th,.table-responsive&gt;.table&gt;tfoot&gt;tr&gt;td,.table-responsive&gt;.table&gt;tfoot&gt;tr&gt;th,.table-responsive&gt;.table&gt;thead&gt;tr&gt;td,.table-responsive&gt;.table&gt;thead&gt;tr&gt;th{white-space:nowrap}.table-responsive&gt;.table-bordered{border:0}.table-responsive&gt;.table-bordered&gt;tbody&gt;tr&gt;td:first-child,.table-responsive&gt;.table-bordered&gt;tbody&gt;tr&gt;th:first-child,.table-responsive&gt;.table-bordered&gt;tfoot&gt;tr&gt;td:first-child,.table-responsive&gt;.table-bordered&gt;tfoot&gt;tr&gt;th:first-child,.table-responsive&gt;.table-bordered&gt;thead&gt;tr&gt;td:first-child,.table-responsive&gt;.table-bordered&gt;thead&gt;tr&gt;th:first-child{border-left:0}.table-responsive&gt;.table-bordered&gt;tbody&gt;tr&gt;td:last-child,.table-responsive&gt;.table-bordered&gt;tbody&gt;tr&gt;th:last-child,.table-responsive&gt;.table-bordered&gt;tfoot&gt;tr&gt;td:last-child,.table-responsive&gt;.table-bordered&gt;tfoot&gt;tr&gt;th:last-child,.table-responsive&gt;.table-bordered&gt;thead&gt;tr&gt;td:last-child,.table-responsive&gt;.table-bordered&gt;thead&gt;tr&gt;th:last-child{border-right:0}.table-responsive&gt;.table-bordered&gt;tbody&gt;tr:last-child&gt;td,.table-responsive&gt;.table-bordered&gt;tbody&gt;tr:last-child&gt;th,.table-responsive&gt;.table-bordered&gt;tfoot&gt;tr:last-child&gt;td,.table-responsive&gt;.table-bordered&gt;tfoot&gt;tr:last-child&gt;th{border-bottom:0}}fieldset{min-width:0;padding:0;margin:0;border:0}legend{display:block;width:100%;padding:0;margin-bottom:20px;font-size:21px;line-height:inherit;color:#333;border:0;border-bottom:1px solid #e5e5e5}label{display:inline-block;max-width:100%;margin-bottom:5px;font-weight:700}input[type=search]{-webkit-box-sizing:border-box;-moz-box-sizing:border-box;box-sizing:border-box}input[type=checkbox],input[type=radio]{margin:4px 0 0;margin-top:1px\\9;line-height:normal}input[type=file]{display:block}input[type=range]{display:block;width:100%}select[multiple],select[size]{height:auto}input[type=file]:focus,input[type=checkbox]:focus,input[type=radio]:focus{outline:5px auto -webkit-focus-ring-color;outline-offset:-2px}output{display:block;padding-top:7px;font-size:14px;line-height:1.42857143;color:#555}.form-control{display:block;width:100%;height:34px;padding:6px 12px;font-size:14px;line-height:1.42857143;color:#555;background-color:#fff;background-image:none;border:1px solid #ccc;border-radius:4px;-webkit-box-shadow:inset 0 1px 1px rgba(0,0,0,.075);box-shadow:inset 0 1px 1px rgba(0,0,0,.075);-webkit-transition:border-color ease-in-out .15s,-webkit-box-shadow ease-in-out .15s;-o-transition:border-color ease-in-out .15s,box-shadow ease-in-out .15s;transition:border-color ease-in-out .15s,box-shadow ease-in-out .15s}.form-control:focus{border-color:#66afe9;outline:0;-webkit-box-shadow:inset 0 1px 1px rgba(0,0,0,.075),0 0 8px rgba(102,175,233,.6);box-shadow:inset 0 1px 1px rgba(0,0,0,.075),0 0 8px rgba(102,175,233,.6)}.form-control::-moz-placeholder{color:#999;opacity:1}.form-control:-ms-input-placeholder{color:#999}.form-control::-webkit-input-placeholder{color:#999}.form-control::-ms-expand{background-color:transparent;border:0}.form-control[disabled],.form-control[readonly],fieldset[disabled] .form-control{background-color:#eee;opacity:1}.form-control[disabled],fieldset[disabled] .form-control{cursor:not-allowed}textarea.form-control{height:auto}input[type=search]{-webkit-appearance:none}@media screen and (-webkit-min-device-pixel-ratio:0){input[type=date].form-control,input[type=time].form-control,input[type=datetime-local].form-control,input[type=month].form-control{line-height:34px}.input-group-sm input[type=date],.input-group-sm input[type=time],.input-group-sm input[type=datetime-local],.input-group-sm input[type=month],input[type=date].input-sm,input[type=time].input-sm,input[type=datetime-local].input-sm,input[type=month].input-sm{line-height:30px}.input-group-lg input[type=date],.input-group-lg input[type=time],.input-group-lg input[type=datetime-local],.input-group-lg input[type=month],input[type=date].input-lg,input[type=time].input-lg,input[type=datetime-local].input-lg,input[type=month].input-lg{line-height:46px}}.form-group{margin-bottom:15px}.checkbox,.radio{position:relative;display:block;margin-top:10px;margin-bottom:10px}.checkbox label,.radio label{min-height:20px;padding-left:20px;margin-bottom:0;font-weight:400;cursor:pointer}.checkbox input[type=checkbox],.checkbox-inline input[type=checkbox],.radio input[type=radio],.radio-inline input[type=radio]{position:absolute;margin-top:4px\\9;margin-left:-20px}.checkbox+.checkbox,.radio+.radio{margin-top:-5px}.checkbox-inline,.radio-inline{position:relative;display:inline-block;padding-left:20px;margin-bottom:0;font-weight:400;vertical-align:middle;cursor:pointer}.checkbox-inline+.checkbox-inline,.radio-inline+.radio-inline{margin-top:0;margin-left:10px}fieldset[disabled] input[type=checkbox],fieldset[disabled] input[type=radio],input[type=checkbox].disabled,input[type=checkbox][disabled],input[type=radio].disabled,input[type=radio][disabled]{cursor:not-allowed}.checkbox-inline.disabled,.radio-inline.disabled,fieldset[disabled] .checkbox-inline,fieldset[disabled] .radio-inline{cursor:not-allowed}.checkbox.disabled label,.radio.disabled label,fieldset[disabled] .checkbox label,fieldset[disabled] .radio label{cursor:not-allowed}.form-control-static{min-height:34px;padding-top:7px;padding-bottom:7px;margin-bottom:0}.form-control-static.input-lg,.form-control-static.input-sm{padding-right:0;padding-left:0}.input-sm{height:30px;padding:5px 10px;font-size:12px;line-height:1.5;border-radius:3px}select.input-sm{height:30px;line-height:30px}select[multiple].input-sm,textarea.input-sm{height:auto}.form-group-sm .form-control{height:30px;padding:5px 10px;font-size:12px;line-height:1.5;border-radius:3px}.form-group-sm select.form-control{height:30px;line-height:30px}.form-group-sm select[multiple].form-control,.form-group-sm textarea.form-control{height:auto}.form-group-sm .form-control-static{height:30px;min-height:32px;padding:6px 10px;font-size:12px;line-height:1.5}.input-lg{height:46px;padding:10px 16px;font-size:18px;line-height:1.3333333;border-radius:6px}select.input-lg{height:46px;line-height:46px}select[multiple].input-lg,textarea.input-lg{height:auto}.form-group-lg .form-control{height:46px;padding:10px 16px;font-size:18px;line-height:1.3333333;border-radius:6px}.form-group-lg select.form-control{height:46px;line-height:46px}.form-group-lg select[multiple].form-control,.form-group-lg textarea.form-control{height:auto}.form-group-lg .form-control-static{height:46px;min-height:38px;padding:11px 16px;font-size:18px;line-height:1.3333333}.has-feedback{position:relative}.has-feedback .form-control{padding-right:42.5px}.form-control-feedback{position:absolute;top:0;right:0;z-index:2;display:block;width:34px;height:34px;line-height:34px;text-align:center;pointer-events:none}.form-group-lg .form-control+.form-control-feedback,.input-group-lg+.form-control-feedback,.input-lg+.form-control-feedback{width:46px;height:46px;line-height:46px}.form-group-sm .form-control+.form-control-feedback,.input-group-sm+.form-control-feedback,.input-sm+.form-control-feedback{width:30px;height:30px;line-height:30px}.has-success .checkbox,.has-success .checkbox-inline,.has-success .control-label,.has-success .help-block,.has-success .radio,.has-success .radio-inline,.has-success.checkbox label,.has-success.checkbox-inline label,.has-success.radio label,.has-success.radio-inline label{color:#3c763d}.has-success .form-control{border-color:#3c763d;-webkit-box-shadow:inset 0 1px 1px rgba(0,0,0,.075);box-shadow:inset 0 1px 1px rgba(0,0,0,.075)}.has-success .form-control:focus{border-color:#2b542c;-webkit-box-shadow:inset 0 1px 1px rgba(0,0,0,.075),0 0 6px #67b168;box-shadow:inset 0 1px 1px rgba(0,0,0,.075),0 0 6px #67b168}.has-success .input-group-addon{color:#3c763d;background-color:#dff0d8;border-color:#3c763d}.has-success .form-control-feedback{color:#3c763d}.has-warning .checkbox,.has-warning .checkbox-inline,.has-warning .control-label,.has-warning .help-block,.has-warning .radio,.has-warning .radio-inline,.has-warning.checkbox label,.has-warning.checkbox-inline label,.has-warning.radio label,.has-warning.radio-inline label{color:#8a6d3b}.has-warning .form-control{border-color:#8a6d3b;-webkit-box-shadow:inset 0 1px 1px rgba(0,0,0,.075);box-shadow:inset 0 1px 1px rgba(0,0,0,.075)}.has-warning .form-control:focus{border-color:#66512c;-webkit-box-shadow:inset 0 1px 1px rgba(0,0,0,.075),0 0 6px #c0a16b;box-shadow:inset 0 1px 1px rgba(0,0,0,.075),0 0 6px #c0a16b}.has-warning .input-group-addon{color:#8a6d3b;background-color:#fcf8e3;border-color:#8a6d3b}.has-warning .form-control-feedback{color:#8a6d3b}.has-error .checkbox,.has-error .checkbox-inline,.has-error .control-label,.has-error .help-block,.has-error .radio,.has-error .radio-inline,.has-error.checkbox label,.has-error.checkbox-inline label,.has-error.radio label,.has-error.radio-inline label{color:#a94442}.has-error .form-control{border-color:#a94442;-webkit-box-shadow:inset 0 1px 1px rgba(0,0,0,.075);box-shadow:inset 0 1px 1px rgba(0,0,0,.075)}.has-error .form-control:focus{border-color:#843534;-webkit-box-shadow:inset 0 1px 1px rgba(0,0,0,.075),0 0 6px #ce8483;box-shadow:inset 0 1px 1px rgba(0,0,0,.075),0 0 6px #ce8483}.has-error .input-group-addon{color:#a94442;background-color:#f2dede;border-color:#a94442}.has-error .form-control-feedback{color:#a94442}.has-feedback label~.form-control-feedback{top:25px}.has-feedback label.sr-only~.form-control-feedback{top:0}.help-block{display:block;margin-top:5px;margin-bottom:10px;color:#737373}@media (min-width:768px){.form-inline .form-group{display:inline-block;margin-bottom:0;vertical-align:middle}.form-inline .form-control{display:inline-block;width:auto;vertical-align:middle}.form-inline .form-control-static{display:inline-block}.form-inline .input-group{display:inline-table;vertical-align:middle}.form-inline .input-group .form-control,.form-inline .input-group .input-group-addon,.form-inline .input-group .input-group-btn{width:auto}.form-inline .input-group&gt;.form-control{width:100%}.form-inline .control-label{margin-bottom:0;vertical-align:middle}.form-inline .checkbox,.form-inline .radio{display:inline-block;margin-top:0;margin-bottom:0;vertical-align:middle}.form-inline .checkbox label,.form-inline .radio label{padding-left:0}.form-inline .checkbox input[type=checkbox],.form-inline .radio input[type=radio]{position:relative;margin-left:0}.form-inline .has-feedback .form-control-feedback{top:0}}.form-horizontal .checkbox,.form-horizontal .checkbox-inline,.form-horizontal .radio,.form-horizontal .radio-inline{padding-top:7px;margin-top:0;margin-bottom:0}.form-horizontal .checkbox,.form-horizontal .radio{min-height:27px}.form-horizontal .form-group{margin-right:-15px;margin-left:-15px}@media (min-width:768px){.form-horizontal .control-label{padding-top:7px;margin-bottom:0;text-align:right}}.form-horizontal .has-feedback .form-control-feedback{right:15px}@media (min-width:768px){.form-horizontal .form-group-lg .control-label{padding-top:11px;font-size:18px}}@media (min-width:768px){.form-horizontal .form-group-sm .control-label{padding-top:6px;font-size:12px}}.btn{display:inline-block;padding:6px 12px;margin-bottom:0;font-size:14px;font-weight:400;line-height:1.42857143;text-align:center;white-space:nowrap;vertical-align:middle;-ms-touch-action:manipulation;touch-action:manipulation;cursor:pointer;-webkit-user-select:none;-moz-user-select:none;-ms-user-select:none;user-select:none;background-image:none;border:1px solid transparent;border-radius:4px}.btn.active.focus,.btn.active:focus,.btn.focus,.btn:active.focus,.btn:active:focus,.btn:focus{outline:5px auto -webkit-focus-ring-color;outline-offset:-2px}.btn.focus,.btn:focus,.btn:hover{color:#333;text-decoration:none}.btn.active,.btn:active{background-image:none;outline:0;-webkit-box-shadow:inset 0 3px 5px rgba(0,0,0,.125);box-shadow:inset 0 3px 5px rgba(0,0,0,.125)}.btn.disabled,.btn[disabled],fieldset[disabled] .btn{cursor:not-allowed;filter:alpha(opacity=65);-webkit-box-shadow:none;box-shadow:none;opacity:.65}a.btn.disabled,fieldset[disabled] a.btn{pointer-events:none}.btn-default{color:#333;background-color:#fff;border-color:#ccc}.btn-default.focus,.btn-default:focus{color:#333;background-color:#e6e6e6;border-color:#8c8c8c}.btn-default:hover{color:#333;background-color:#e6e6e6;border-color:#adadad}.btn-default.active,.btn-default:active,.open&gt;.dropdown-toggle.btn-default{color:#333;background-color:#e6e6e6;border-color:#adadad}.btn-default.active.focus,.btn-default.active:focus,.btn-default.active:hover,.btn-default:active.focus,.btn-default:active:focus,.btn-default:active:hover,.open&gt;.dropdown-toggle.btn-default.focus,.open&gt;.dropdown-toggle.btn-default:focus,.open&gt;.dropdown-toggle.btn-default:hover{color:#333;background-color:#d4d4d4;border-color:#8c8c8c}.btn-default.active,.btn-default:active,.open&gt;.dropdown-toggle.btn-default{background-image:none}.btn-default.disabled.focus,.btn-default.disabled:focus,.btn-default.disabled:hover,.btn-default[disabled].focus,.btn-default[disabled]:focus,.btn-default[disabled]:hover,fieldset[disabled] .btn-default.focus,fieldset[disabled] .btn-default:focus,fieldset[disabled] .btn-default:hover{background-color:#fff;border-color:#ccc}.btn-default .badge{color:#fff;background-color:#333}.btn-primary{color:#fff;background-color:#337ab7;border-color:#2e6da4}.btn-primary.focus,.btn-primary:focus{color:#fff;background-color:#286090;border-color:#122b40}.btn-primary:hover{color:#fff;background-color:#286090;border-color:#204d74}.btn-primary.active,.btn-primary:active,.open&gt;.dropdown-toggle.btn-primary{color:#fff;background-color:#286090;border-color:#204d74}.btn-primary.active.focus,.btn-primary.active:focus,.btn-primary.active:hover,.btn-primary:active.focus,.btn-primary:active:focus,.btn-primary:active:hover,.open&gt;.dropdown-toggle.btn-primary.focus,.open&gt;.dropdown-toggle.btn-primary:focus,.open&gt;.dropdown-toggle.btn-primary:hover{color:#fff;background-color:#204d74;border-color:#122b40}.btn-primary.active,.btn-primary:active,.open&gt;.dropdown-toggle.btn-primary{background-image:none}.btn-primary.disabled.focus,.btn-primary.disabled:focus,.btn-primary.disabled:hover,.btn-primary[disabled].focus,.btn-primary[disabled]:focus,.btn-primary[disabled]:hover,fieldset[disabled] .btn-primary.focus,fieldset[disabled] .btn-primary:focus,fieldset[disabled] .btn-primary:hover{background-color:#337ab7;border-color:#2e6da4}.btn-primary .badge{color:#337ab7;background-color:#fff}.btn-success{color:#fff;background-color:#5cb85c;border-color:#4cae4c}.btn-success.focus,.btn-success:focus{color:#fff;background-color:#449d44;border-color:#255625}.btn-success:hover{color:#fff;background-color:#449d44;border-color:#398439}.btn-success.active,.btn-success:active,.open&gt;.dropdown-toggle.btn-success{color:#fff;background-color:#449d44;border-color:#398439}.btn-success.active.focus,.btn-success.active:focus,.btn-success.active:hover,.btn-success:active.focus,.btn-success:active:focus,.btn-success:active:hover,.open&gt;.dropdown-toggle.btn-success.focus,.open&gt;.dropdown-toggle.btn-success:focus,.open&gt;.dropdown-toggle.btn-success:hover{color:#fff;background-color:#398439;border-color:#255625}.btn-success.active,.btn-success:active,.open&gt;.dropdown-toggle.btn-success{background-image:none}.btn-success.disabled.focus,.btn-success.disabled:focus,.btn-success.disabled:hover,.btn-success[disabled].focus,.btn-success[disabled]:focus,.btn-success[disabled]:hover,fieldset[disabled] .btn-success.focus,fieldset[disabled] .btn-success:focus,fieldset[disabled] .btn-success:hover{background-color:#5cb85c;border-color:#4cae4c}.btn-success .badge{color:#5cb85c;background-color:#fff}.btn-info{color:#fff;background-color:#5bc0de;border-color:#46b8da}.btn-info.focus,.btn-info:focus{color:#fff;background-color:#31b0d5;border-color:#1b6d85}.btn-info:hover{color:#fff;background-color:#31b0d5;border-color:#269abc}.btn-info.active,.btn-info:active,.open&gt;.dropdown-toggle.btn-info{color:#fff;background-color:#31b0d5;border-color:#269abc}.btn-info.active.focus,.btn-info.active:focus,.btn-info.active:hover,.btn-info:active.focus,.btn-info:active:focus,.btn-info:active:hover,.open&gt;.dropdown-toggle.btn-info.focus,.open&gt;.dropdown-toggle.btn-info:focus,.open&gt;.dropdown-toggle.btn-info:hover{color:#fff;background-color:#269abc;border-color:#1b6d85}.btn-info.active,.btn-info:active,.open&gt;.dropdown-toggle.btn-info{background-image:none}.btn-info.disabled.focus,.btn-info.disabled:focus,.btn-info.disabled:hover,.btn-info[disabled].focus,.btn-info[disabled]:focus,.btn-info[disabled]:hover,fieldset[disabled] .btn-info.focus,fieldset[disabled] .btn-info:focus,fieldset[disabled] .btn-info:hover{background-color:#5bc0de;border-color:#46b8da}.btn-info .badge{color:#5bc0de;background-color:#fff}.btn-warning{color:#fff;background-color:#f0ad4e;border-color:#eea236}.btn-warning.focus,.btn-warning:focus{color:#fff;background-color:#ec971f;border-color:#985f0d}.btn-warning:hover{color:#fff;background-color:#ec971f;border-color:#d58512}.btn-warning.active,.btn-warning:active,.open&gt;.dropdown-toggle.btn-warning{color:#fff;background-color:#ec971f;border-color:#d58512}.btn-warning.active.focus,.btn-warning.active:focus,.btn-warning.active:hover,.btn-warning:active.focus,.btn-warning:active:focus,.btn-warning:active:hover,.open&gt;.dropdown-toggle.btn-warning.focus,.open&gt;.dropdown-toggle.btn-warning:focus,.open&gt;.dropdown-toggle.btn-warning:hover{color:#fff;background-color:#d58512;border-color:#985f0d}.btn-warning.active,.btn-warning:active,.open&gt;.dropdown-toggle.btn-warning{background-image:none}.btn-warning.disabled.focus,.btn-warning.disabled:focus,.btn-warning.disabled:hover,.btn-warning[disabled].focus,.btn-warning[disabled]:focus,.btn-warning[disabled]:hover,fieldset[disabled] .btn-warning.focus,fieldset[disabled] .btn-warning:focus,fieldset[disabled] .btn-warning:hover{background-color:#f0ad4e;border-color:#eea236}.btn-warning .badge{color:#f0ad4e;background-color:#fff}.btn-danger{color:#fff;background-color:#d9534f;border-color:#d43f3a}.btn-danger.focus,.btn-danger:focus{color:#fff;background-color:#c9302c;border-color:#761c19}.btn-danger:hover{color:#fff;background-color:#c9302c;border-color:#ac2925}.btn-danger.active,.btn-danger:active,.open&gt;.dropdown-toggle.btn-danger{color:#fff;background-color:#c9302c;border-color:#ac2925}.btn-danger.active.focus,.btn-danger.active:focus,.btn-danger.active:hover,.btn-danger:active.focus,.btn-danger:active:focus,.btn-danger:active:hover,.open&gt;.dropdown-toggle.btn-danger.focus,.open&gt;.dropdown-toggle.btn-danger:focus,.open&gt;.dropdown-toggle.btn-danger:hover{color:#fff;background-color:#ac2925;border-color:#761c19}.btn-danger.active,.btn-danger:active,.open&gt;.dropdown-toggle.btn-danger{background-image:none}.btn-danger.disabled.focus,.btn-danger.disabled:focus,.btn-danger.disabled:hover,.btn-danger[disabled].focus,.btn-danger[disabled]:focus,.btn-danger[disabled]:hover,fieldset[disabled] .btn-danger.focus,fieldset[disabled] .btn-danger:focus,fieldset[disabled] .btn-danger:hover{background-color:#d9534f;border-color:#d43f3a}.btn-danger .badge{color:#d9534f;background-color:#fff}.btn-link{font-weight:400;color:#337ab7;border-radius:0}.btn-link,.btn-link.active,.btn-link:active,.btn-link[disabled],fieldset[disabled] .btn-link{background-color:transparent;-webkit-box-shadow:none;box-shadow:none}.btn-link,.btn-link:active,.btn-link:focus,.btn-link:hover{border-color:transparent}.btn-link:focus,.btn-link:hover{color:#23527c;text-decoration:underline;background-color:transparent}.btn-link[disabled]:focus,.btn-link[disabled]:hover,fieldset[disabled] .btn-link:focus,fieldset[disabled] .btn-link:hover{color:#777;text-decoration:none}.btn-group-lg&gt;.btn,.btn-lg{padding:10px 16px;font-size:18px;line-height:1.3333333;border-radius:6px}.btn-group-sm&gt;.btn,.btn-sm{padding:5px 10px;font-size:12px;line-height:1.5;border-radius:3px}.btn-group-xs&gt;.btn,.btn-xs{padding:1px 5px;font-size:12px;line-height:1.5;border-radius:3px}.btn-block{display:block;width:100%}.btn-block+.btn-block{margin-top:5px}input[type=button].btn-block,input[type=reset].btn-block,input[type=submit].btn-block{width:100%}.fade{opacity:0;-webkit-transition:opacity .15s linear;-o-transition:opacity .15s linear;transition:opacity .15s linear}.fade.in{opacity:1}.collapse{display:none}.collapse.in{display:block}tr.collapse.in{display:table-row}tbody.collapse.in{display:table-row-group}.collapsing{position:relative;height:0;overflow:hidden;-webkit-transition-timing-function:ease;-o-transition-timing-function:ease;transition-timing-function:ease;-webkit-transition-duration:.35s;-o-transition-duration:.35s;transition-duration:.35s;-webkit-transition-property:height,visibility;-o-transition-property:height,visibility;transition-property:height,visibility}.caret{display:inline-block;width:0;height:0;margin-left:2px;vertical-align:middle;border-top:4px dashed;border-top:4px solid\\9;border-right:4px solid transparent;border-left:4px solid transparent}.dropdown,.dropup{position:relative}.dropdown-toggle:focus{outline:0}.dropdown-menu{position:absolute;top:100%;left:0;z-index:1000;display:none;float:left;min-width:160px;padding:5px 0;margin:2px 0 0;font-size:14px;text-align:left;list-style:none;background-color:#fff;-webkit-background-clip:padding-box;background-clip:padding-box;border:1px solid #ccc;border:1px solid rgba(0,0,0,.15);border-radius:4px;-webkit-box-shadow:0 6px 12px rgba(0,0,0,.175);box-shadow:0 6px 12px rgba(0,0,0,.175)}.dropdown-menu.pull-right{right:0;left:auto}.dropdown-menu .divider{height:1px;margin:9px 0;overflow:hidden;background-color:#e5e5e5}.dropdown-menu&gt;li&gt;a{display:block;padding:3px 20px;clear:both;font-weight:400;line-height:1.42857143;color:#333;white-space:nowrap}.dropdown-menu&gt;li&gt;a:focus,.dropdown-menu&gt;li&gt;a:hover{color:#262626;text-decoration:none;background-color:#f5f5f5}.dropdown-menu&gt;.active&gt;a,.dropdown-menu&gt;.active&gt;a:focus,.dropdown-menu&gt;.active&gt;a:hover{color:#fff;text-decoration:none;background-color:#337ab7;outline:0}.dropdown-menu&gt;.disabled&gt;a,.dropdown-menu&gt;.disabled&gt;a:focus,.dropdown-menu&gt;.disabled&gt;a:hover{color:#777}.dropdown-menu&gt;.disabled&gt;a:focus,.dropdown-menu&gt;.disabled&gt;a:hover{text-decoration:none;cursor:not-allowed;background-color:transparent;background-image:none;filter:progid:DXImageTransform.Microsoft.gradient(enabled=false)}.open&gt;.dropdown-menu{display:block}.open&gt;a{outline:0}.dropdown-menu-right{right:0;left:auto}.dropdown-menu-left{right:auto;left:0}.dropdown-header{display:block;padding:3px 20px;font-size:12px;line-height:1.42857143;color:#777;white-space:nowrap}.dropdown-backdrop{position:fixed;top:0;right:0;bottom:0;left:0;z-index:990}.pull-right&gt;.dropdown-menu{right:0;left:auto}.dropup .caret,.navbar-fixed-bottom .dropdown .caret{content:&quot;&quot;;border-top:0;border-bottom:4px dashed;border-bottom:4px solid\\9}.dropup .dropdown-menu,.navbar-fixed-bottom .dropdown .dropdown-menu{top:auto;bottom:100%;margin-bottom:2px}@media (min-width:768px){.navbar-right .dropdown-menu{right:0;left:auto}.navbar-right .dropdown-menu-left{right:auto;left:0}}.btn-group,.btn-group-vertical{position:relative;display:inline-block;vertical-align:middle}.btn-group-vertical&gt;.btn,.btn-group&gt;.btn{position:relative;float:left}.btn-group-vertical&gt;.btn.active,.btn-group-vertical&gt;.btn:active,.btn-group-vertical&gt;.btn:focus,.btn-group-vertical&gt;.btn:hover,.btn-group&gt;.btn.active,.btn-group&gt;.btn:active,.btn-group&gt;.btn:focus,.btn-group&gt;.btn:hover{z-index:2}.btn-group .btn+.btn,.btn-group .btn+.btn-group,.btn-group .btn-group+.btn,.btn-group .btn-group+.btn-group{margin-left:-1px}.btn-toolbar{margin-left:-5px}.btn-toolbar .btn,.btn-toolbar .btn-group,.btn-toolbar .input-group{float:left}.btn-toolbar&gt;.btn,.btn-toolbar&gt;.btn-group,.btn-toolbar&gt;.input-group{margin-left:5px}.btn-group&gt;.btn:not(:first-child):not(:last-child):not(.dropdown-toggle){border-radius:0}.btn-group&gt;.btn:first-child{margin-left:0}.btn-group&gt;.btn:first-child:not(:last-child):not(.dropdown-toggle){border-top-right-radius:0;border-bottom-right-radius:0}.btn-group&gt;.btn:last-child:not(:first-child),.btn-group&gt;.dropdown-toggle:not(:first-child){border-top-left-radius:0;border-bottom-left-radius:0}.btn-group&gt;.btn-group{float:left}.btn-group&gt;.btn-group:not(:first-child):not(:last-child)&gt;.btn{border-radius:0}.btn-group&gt;.btn-group:first-child:not(:last-child)&gt;.btn:last-child,.btn-group&gt;.btn-group:first-child:not(:last-child)&gt;.dropdown-toggle{border-top-right-radius:0;border-bottom-right-radius:0}.btn-group&gt;.btn-group:last-child:not(:first-child)&gt;.btn:first-child{border-top-left-radius:0;border-bottom-left-radius:0}.btn-group .dropdown-toggle:active,.btn-group.open .dropdown-toggle{outline:0}.btn-group&gt;.btn+.dropdown-toggle{padding-right:8px;padding-left:8px}.btn-group&gt;.btn-lg+.dropdown-toggle{padding-right:12px;padding-left:12px}.btn-group.open .dropdown-toggle{-webkit-box-shadow:inset 0 3px 5px rgba(0,0,0,.125);box-shadow:inset 0 3px 5px rgba(0,0,0,.125)}.btn-group.open .dropdown-toggle.btn-link{-webkit-box-shadow:none;box-shadow:none}.btn .caret{margin-left:0}.btn-lg .caret{border-width:5px 5px 0;border-bottom-width:0}.dropup .btn-lg .caret{border-width:0 5px 5px}.btn-group-vertical&gt;.btn,.btn-group-vertical&gt;.btn-group,.btn-group-vertical&gt;.btn-group&gt;.btn{display:block;float:none;width:100%;max-width:100%}.btn-group-vertical&gt;.btn-group&gt;.btn{float:none}.btn-group-vertical&gt;.btn+.btn,.btn-group-vertical&gt;.btn+.btn-group,.btn-group-vertical&gt;.btn-group+.btn,.btn-group-vertical&gt;.btn-group+.btn-group{margin-top:-1px;margin-left:0}.btn-group-vertical&gt;.btn:not(:first-child):not(:last-child){border-radius:0}.btn-group-vertical&gt;.btn:first-child:not(:last-child){border-top-left-radius:4px;border-top-right-radius:4px;border-bottom-right-radius:0;border-bottom-left-radius:0}.btn-group-vertical&gt;.btn:last-child:not(:first-child){border-top-left-radius:0;border-top-right-radius:0;border-bottom-right-radius:4px;border-bottom-left-radius:4px}.btn-group-vertical&gt;.btn-group:not(:first-child):not(:last-child)&gt;.btn{border-radius:0}.btn-group-vertical&gt;.btn-group:first-child:not(:last-child)&gt;.btn:last-child,.btn-group-vertical&gt;.btn-group:first-child:not(:last-child)&gt;.dropdown-toggle{border-bottom-right-radius:0;border-bottom-left-radius:0}.btn-group-vertical&gt;.btn-group:last-child:not(:first-child)&gt;.btn:first-child{border-top-left-radius:0;border-top-right-radius:0}.btn-group-justified{display:table;width:100%;table-layout:fixed;border-collapse:separate}.btn-group-justified&gt;.btn,.btn-group-justified&gt;.btn-group{display:table-cell;float:none;width:1%}.btn-group-justified&gt;.btn-group .btn{width:100%}.btn-group-justified&gt;.btn-group .dropdown-menu{left:auto}[data-toggle=buttons]&gt;.btn input[type=checkbox],[data-toggle=buttons]&gt;.btn input[type=radio],[data-toggle=buttons]&gt;.btn-group&gt;.btn input[type=checkbox],[data-toggle=buttons]&gt;.btn-group&gt;.btn input[type=radio]{position:absolute;clip:rect(0,0,0,0);pointer-events:none}.input-group{position:relative;display:table;border-collapse:separate}.input-group[class*=col-]{float:none;padding-right:0;padding-left:0}.input-group .form-control{position:relative;z-index:2;float:left;width:100%;margin-bottom:0}.input-group .form-control:focus{z-index:3}.input-group-lg&gt;.form-control,.input-group-lg&gt;.input-group-addon,.input-group-lg&gt;.input-group-btn&gt;.btn{height:46px;padding:10px 16px;font-size:18px;line-height:1.3333333;border-radius:6px}select.input-group-lg&gt;.form-control,select.input-group-lg&gt;.input-group-addon,select.input-group-lg&gt;.input-group-btn&gt;.btn{height:46px;line-height:46px}select[multiple].input-group-lg&gt;.form-control,select[multiple].input-group-lg&gt;.input-group-addon,select[multiple].input-group-lg&gt;.input-group-btn&gt;.btn,textarea.input-group-lg&gt;.form-control,textarea.input-group-lg&gt;.input-group-addon,textarea.input-group-lg&gt;.input-group-btn&gt;.btn{height:auto}.input-group-sm&gt;.form-control,.input-group-sm&gt;.input-group-addon,.input-group-sm&gt;.input-group-btn&gt;.btn{height:30px;padding:5px 10px;font-size:12px;line-height:1.5;border-radius:3px}select.input-group-sm&gt;.form-control,select.input-group-sm&gt;.input-group-addon,select.input-group-sm&gt;.input-group-btn&gt;.btn{height:30px;line-height:30px}select[multiple].input-group-sm&gt;.form-control,select[multiple].input-group-sm&gt;.input-group-addon,select[multiple].input-group-sm&gt;.input-group-btn&gt;.btn,textarea.input-group-sm&gt;.form-control,textarea.input-group-sm&gt;.input-group-addon,textarea.input-group-sm&gt;.input-group-btn&gt;.btn{height:auto}.input-group .form-control,.input-group-addon,.input-group-btn{display:table-cell}.input-group .form-control:not(:first-child):not(:last-child),.input-group-addon:not(:first-child):not(:last-child),.input-group-btn:not(:first-child):not(:last-child){border-radius:0}.input-group-addon,.input-group-btn{width:1%;white-space:nowrap;vertical-align:middle}.input-group-addon{padding:6px 12px;font-size:14px;font-weight:400;line-height:1;color:#555;text-align:center;background-color:#eee;border:1px solid #ccc;border-radius:4px}.input-group-addon.input-sm{padding:5px 10px;font-size:12px;border-radius:3px}.input-group-addon.input-lg{padding:10px 16px;font-size:18px;border-radius:6px}.input-group-addon input[type=checkbox],.input-group-addon input[type=radio]{margin-top:0}.input-group .form-control:first-child,.input-group-addon:first-child,.input-group-btn:first-child&gt;.btn,.input-group-btn:first-child&gt;.btn-group&gt;.btn,.input-group-btn:first-child&gt;.dropdown-toggle,.input-group-btn:last-child&gt;.btn-group:not(:last-child)&gt;.btn,.input-group-btn:last-child&gt;.btn:not(:last-child):not(.dropdown-toggle){border-top-right-radius:0;border-bottom-right-radius:0}.input-group-addon:first-child{border-right:0}.input-group .form-control:last-child,.input-group-addon:last-child,.input-group-btn:first-child&gt;.btn-group:not(:first-child)&gt;.btn,.input-group-btn:first-child&gt;.btn:not(:first-child),.input-group-btn:last-child&gt;.btn,.input-group-btn:last-child&gt;.btn-group&gt;.btn,.input-group-btn:last-child&gt;.dropdown-toggle{border-top-left-radius:0;border-bottom-left-radius:0}.input-group-addon:last-child{border-left:0}.input-group-btn{position:relative;font-size:0;white-space:nowrap}.input-group-btn&gt;.btn{position:relative}.input-group-btn&gt;.btn+.btn{margin-left:-1px}.input-group-btn&gt;.btn:active,.input-group-btn&gt;.btn:focus,.input-group-btn&gt;.btn:hover{z-index:2}.input-group-btn:first-child&gt;.btn,.input-group-btn:first-child&gt;.btn-group{margin-right:-1px}.input-group-btn:last-child&gt;.btn,.input-group-btn:last-child&gt;.btn-group{z-index:2;margin-left:-1px}.nav{padding-left:0;margin-bottom:0;list-style:none}.nav&gt;li{position:relative;display:block}.nav&gt;li&gt;a{position:relative;display:block;padding:10px 15px}.nav&gt;li&gt;a:focus,.nav&gt;li&gt;a:hover{text-decoration:none;background-color:#eee}.nav&gt;li.disabled&gt;a{color:#777}.nav&gt;li.disabled&gt;a:focus,.nav&gt;li.disabled&gt;a:hover{color:#777;text-decoration:none;cursor:not-allowed;background-color:transparent}.nav .open&gt;a,.nav .open&gt;a:focus,.nav .open&gt;a:hover{background-color:#eee;border-color:#337ab7}.nav .nav-divider{height:1px;margin:9px 0;overflow:hidden;background-color:#e5e5e5}.nav&gt;li&gt;a&gt;img{max-width:none}.nav-tabs{border-bottom:1px solid #ddd}.nav-tabs&gt;li{float:left;margin-bottom:-1px}.nav-tabs&gt;li&gt;a{margin-right:2px;line-height:1.42857143;border:1px solid transparent;border-radius:4px 4px 0 0}.nav-tabs&gt;li&gt;a:hover{border-color:#eee #eee #ddd}.nav-tabs&gt;li.active&gt;a,.nav-tabs&gt;li.active&gt;a:focus,.nav-tabs&gt;li.active&gt;a:hover{color:#555;cursor:default;background-color:#fff;border:1px solid #ddd;border-bottom-color:transparent}.nav-tabs.nav-justified{width:100%;border-bottom:0}.nav-tabs.nav-justified&gt;li{float:none}.nav-tabs.nav-justified&gt;li&gt;a{margin-bottom:5px;text-align:center}.nav-tabs.nav-justified&gt;.dropdown .dropdown-menu{top:auto;left:auto}@media (min-width:768px){.nav-tabs.nav-justified&gt;li{display:table-cell;width:1%}.nav-tabs.nav-justified&gt;li&gt;a{margin-bottom:0}}.nav-tabs.nav-justified&gt;li&gt;a{margin-right:0;border-radius:4px}.nav-tabs.nav-justified&gt;.active&gt;a,.nav-tabs.nav-justified&gt;.active&gt;a:focus,.nav-tabs.nav-justified&gt;.active&gt;a:hover{border:1px solid #ddd}@media (min-width:768px){.nav-tabs.nav-justified&gt;li&gt;a{border-bottom:1px solid #ddd;border-radius:4px 4px 0 0}.nav-tabs.nav-justified&gt;.active&gt;a,.nav-tabs.nav-justified&gt;.active&gt;a:focus,.nav-tabs.nav-justified&gt;.active&gt;a:hover{border-bottom-color:#fff}}.nav-pills&gt;li{float:left}.nav-pills&gt;li&gt;a{border-radius:4px}.nav-pills&gt;li+li{margin-left:2px}.nav-pills&gt;li.active&gt;a,.nav-pills&gt;li.active&gt;a:focus,.nav-pills&gt;li.active&gt;a:hover{color:#fff;background-color:#337ab7}.nav-stacked&gt;li{float:none}.nav-stacked&gt;li+li{margin-top:2px;margin-left:0}.nav-justified{width:100%}.nav-justified&gt;li{float:none}.nav-justified&gt;li&gt;a{margin-bottom:5px;text-align:center}.nav-justified&gt;.dropdown .dropdown-menu{top:auto;left:auto}@media (min-width:768px){.nav-justified&gt;li{display:table-cell;width:1%}.nav-justified&gt;li&gt;a{margin-bottom:0}}.nav-tabs-justified{border-bottom:0}.nav-tabs-justified&gt;li&gt;a{margin-right:0;border-radius:4px}.nav-tabs-justified&gt;.active&gt;a,.nav-tabs-justified&gt;.active&gt;a:focus,.nav-tabs-justified&gt;.active&gt;a:hover{border:1px solid #ddd}@media (min-width:768px){.nav-tabs-justified&gt;li&gt;a{border-bottom:1px solid #ddd;border-radius:4px 4px 0 0}.nav-tabs-justified&gt;.active&gt;a,.nav-tabs-justified&gt;.active&gt;a:focus,.nav-tabs-justified&gt;.active&gt;a:hover{border-bottom-color:#fff}}.tab-content&gt;.tab-pane{display:none}.tab-content&gt;.active{display:block}.nav-tabs .dropdown-menu{margin-top:-1px;border-top-left-radius:0;border-top-right-radius:0}.navbar{position:relative;min-height:50px;margin-bottom:20px;border:1px solid transparent}@media (min-width:768px){.navbar{border-radius:4px}}@media (min-width:768px){.navbar-header{float:left}}.navbar-collapse{padding-right:15px;padding-left:15px;overflow-x:visible;-webkit-overflow-scrolling:touch;border-top:1px solid transparent;-webkit-box-shadow:inset 0 1px 0 rgba(255,255,255,.1);box-shadow:inset 0 1px 0 rgba(255,255,255,.1)}.navbar-collapse.in{overflow-y:auto}@media (min-width:768px){.navbar-collapse{width:auto;border-top:0;-webkit-box-shadow:none;box-shadow:none}.navbar-collapse.collapse{display:block!important;height:auto!important;padding-bottom:0;overflow:visible!important}.navbar-collapse.in{overflow-y:visible}.navbar-fixed-bottom .navbar-collapse,.navbar-fixed-top .navbar-collapse,.navbar-static-top .navbar-collapse{padding-right:0;padding-left:0}}.navbar-fixed-bottom .navbar-collapse,.navbar-fixed-top .navbar-collapse{max-height:340px}@media (max-device-width:480px) and (orientation:landscape){.navbar-fixed-bottom .navbar-collapse,.navbar-fixed-top .navbar-collapse{max-height:200px}}.container-fluid&gt;.navbar-collapse,.container-fluid&gt;.navbar-header,.container&gt;.navbar-collapse,.container&gt;.navbar-header{margin-right:-15px;margin-left:-15px}@media (min-width:768px){.container-fluid&gt;.navbar-collapse,.container-fluid&gt;.navbar-header,.container&gt;.navbar-collapse,.container&gt;.navbar-header{margin-right:0;margin-left:0}}.navbar-static-top{z-index:1000;border-width:0 0 1px}@media (min-width:768px){.navbar-static-top{border-radius:0}}.navbar-fixed-bottom,.navbar-fixed-top{position:fixed;right:0;left:0;z-index:1030}@media (min-width:768px){.navbar-fixed-bottom,.navbar-fixed-top{border-radius:0}}.navbar-fixed-top{top:0;border-width:0 0 1px}.navbar-fixed-bottom{bottom:0;margin-bottom:0;border-width:1px 0 0}.navbar-brand{float:left;height:50px;padding:15px 15px;font-size:18px;line-height:20px}.navbar-brand:focus,.navbar-brand:hover{text-decoration:none}.navbar-brand&gt;img{display:block}@media (min-width:768px){.navbar&gt;.container .navbar-brand,.navbar&gt;.container-fluid .navbar-brand{margin-left:-15px}}.navbar-toggle{position:relative;float:right;padding:9px 10px;margin-top:8px;margin-right:15px;margin-bottom:8px;background-color:transparent;background-image:none;border:1px solid transparent;border-radius:4px}.navbar-toggle:focus{outline:0}.navbar-toggle .icon-bar{display:block;width:22px;height:2px;border-radius:1px}.navbar-toggle .icon-bar+.icon-bar{margin-top:4px}@media (min-width:768px){.navbar-toggle{display:none}}.navbar-nav{margin:7.5px -15px}.navbar-nav&gt;li&gt;a{padding-top:10px;padding-bottom:10px;line-height:20px}@media (max-width:767px){.navbar-nav .open .dropdown-menu{position:static;float:none;width:auto;margin-top:0;background-color:transparent;border:0;-webkit-box-shadow:none;box-shadow:none}.navbar-nav .open .dropdown-menu .dropdown-header,.navbar-nav .open .dropdown-menu&gt;li&gt;a{padding:5px 15px 5px 25px}.navbar-nav .open .dropdown-menu&gt;li&gt;a{line-height:20px}.navbar-nav .open .dropdown-menu&gt;li&gt;a:focus,.navbar-nav .open .dropdown-menu&gt;li&gt;a:hover{background-image:none}}@media (min-width:768px){.navbar-nav{float:left;margin:0}.navbar-nav&gt;li{float:left}.navbar-nav&gt;li&gt;a{padding-top:15px;padding-bottom:15px}}.navbar-form{padding:10px 15px;margin-top:8px;margin-right:-15px;margin-bottom:8px;margin-left:-15px;border-top:1px solid transparent;border-bottom:1px solid transparent;-webkit-box-shadow:inset 0 1px 0 rgba(255,255,255,.1),0 1px 0 rgba(255,255,255,.1);box-shadow:inset 0 1px 0 rgba(255,255,255,.1),0 1px 0 rgba(255,255,255,.1)}@media (min-width:768px){.navbar-form .form-group{display:inline-block;margin-bottom:0;vertical-align:middle}.navbar-form .form-control{display:inline-block;width:auto;vertical-align:middle}.navbar-form .form-control-static{display:inline-block}.navbar-form .input-group{display:inline-table;vertical-align:middle}.navbar-form .input-group .form-control,.navbar-form .input-group .input-group-addon,.navbar-form .input-group .input-group-btn{width:auto}.navbar-form .input-group&gt;.form-control{width:100%}.navbar-form .control-label{margin-bottom:0;vertical-align:middle}.navbar-form .checkbox,.navbar-form .radio{display:inline-block;margin-top:0;margin-bottom:0;vertical-align:middle}.navbar-form .checkbox label,.navbar-form .radio label{padding-left:0}.navbar-form .checkbox input[type=checkbox],.navbar-form .radio input[type=radio]{position:relative;margin-left:0}.navbar-form .has-feedback .form-control-feedback{top:0}}@media (max-width:767px){.navbar-form .form-group{margin-bottom:5px}.navbar-form .form-group:last-child{margin-bottom:0}}@media (min-width:768px){.navbar-form{width:auto;padding-top:0;padding-bottom:0;margin-right:0;margin-left:0;border:0;-webkit-box-shadow:none;box-shadow:none}}.navbar-nav&gt;li&gt;.dropdown-menu{margin-top:0;border-top-left-radius:0;border-top-right-radius:0}.navbar-fixed-bottom .navbar-nav&gt;li&gt;.dropdown-menu{margin-bottom:0;border-top-left-radius:4px;border-top-right-radius:4px;border-bottom-right-radius:0;border-bottom-left-radius:0}.navbar-btn{margin-top:8px;margin-bottom:8px}.navbar-btn.btn-sm{margin-top:10px;margin-bottom:10px}.navbar-btn.btn-xs{margin-top:14px;margin-bottom:14px}.navbar-text{margin-top:15px;margin-bottom:15px}@media (min-width:768px){.navbar-text{float:left;margin-right:15px;margin-left:15px}}@media (min-width:768px){.navbar-left{float:left!important}.navbar-right{float:right!important;margin-right:-15px}.navbar-right~.navbar-right{margin-right:0}}.navbar-default{background-color:#f8f8f8;border-color:#e7e7e7}.navbar-default .navbar-brand{color:#777}.navbar-default .navbar-brand:focus,.navbar-default .navbar-brand:hover{color:#5e5e5e;background-color:transparent}.navbar-default .navbar-text{color:#777}.navbar-default .navbar-nav&gt;li&gt;a{color:#777}.navbar-default .navbar-nav&gt;li&gt;a:focus,.navbar-default .navbar-nav&gt;li&gt;a:hover{color:#333;background-color:transparent}.navbar-default .navbar-nav&gt;.active&gt;a,.navbar-default .navbar-nav&gt;.active&gt;a:focus,.navbar-default .navbar-nav&gt;.active&gt;a:hover{color:#555;background-color:#e7e7e7}.navbar-default .navbar-nav&gt;.disabled&gt;a,.navbar-default .navbar-nav&gt;.disabled&gt;a:focus,.navbar-default .navbar-nav&gt;.disabled&gt;a:hover{color:#ccc;background-color:transparent}.navbar-default .navbar-toggle{border-color:#ddd}.navbar-default .navbar-toggle:focus,.navbar-default .navbar-toggle:hover{background-color:#ddd}.navbar-default .navbar-toggle .icon-bar{background-color:#888}.navbar-default .navbar-collapse,.navbar-default .navbar-form{border-color:#e7e7e7}.navbar-default .navbar-nav&gt;.open&gt;a,.navbar-default .navbar-nav&gt;.open&gt;a:focus,.navbar-default .navbar-nav&gt;.open&gt;a:hover{color:#555;background-color:#e7e7e7}@media (max-width:767px){.navbar-default .navbar-nav .open .dropdown-menu&gt;li&gt;a{color:#777}.navbar-default .navbar-nav .open .dropdown-menu&gt;li&gt;a:focus,.navbar-default .navbar-nav .open .dropdown-menu&gt;li&gt;a:hover{color:#333;background-color:transparent}.navbar-default .navbar-nav .open .dropdown-menu&gt;.active&gt;a,.navbar-default .navbar-nav .open .dropdown-menu&gt;.active&gt;a:focus,.navbar-default .navbar-nav .open .dropdown-menu&gt;.active&gt;a:hover{color:#555;background-color:#e7e7e7}.navbar-default .navbar-nav .open .dropdown-menu&gt;.disabled&gt;a,.navbar-default .navbar-nav .open .dropdown-menu&gt;.disabled&gt;a:focus,.navbar-default .navbar-nav .open .dropdown-menu&gt;.disabled&gt;a:hover{color:#ccc;background-color:transparent}}.navbar-default .navbar-link{color:#777}.navbar-default .navbar-link:hover{color:#333}.navbar-default .btn-link{color:#777}.navbar-default .btn-link:focus,.navbar-default .btn-link:hover{color:#333}.navbar-default .btn-link[disabled]:focus,.navbar-default .btn-link[disabled]:hover,fieldset[disabled] .navbar-default .btn-link:focus,fieldset[disabled] .navbar-default .btn-link:hover{color:#ccc}.navbar-inverse{background-color:#222;border-color:#080808}.navbar-inverse .navbar-brand{color:#9d9d9d}.navbar-inverse .navbar-brand:focus,.navbar-inverse .navbar-brand:hover{color:#fff;background-color:transparent}.navbar-inverse .navbar-text{color:#9d9d9d}.navbar-inverse .navbar-nav&gt;li&gt;a{color:#9d9d9d}.navbar-inverse .navbar-nav&gt;li&gt;a:focus,.navbar-inverse .navbar-nav&gt;li&gt;a:hover{color:#fff;background-color:transparent}.navbar-inverse .navbar-nav&gt;.active&gt;a,.navbar-inverse .navbar-nav&gt;.active&gt;a:focus,.navbar-inverse .navbar-nav&gt;.active&gt;a:hover{color:#fff;background-color:#080808}.navbar-inverse .navbar-nav&gt;.disabled&gt;a,.navbar-inverse .navbar-nav&gt;.disabled&gt;a:focus,.navbar-inverse .navbar-nav&gt;.disabled&gt;a:hover{color:#444;background-color:transparent}.navbar-inverse .navbar-toggle{border-color:#333}.navbar-inverse .navbar-toggle:focus,.navbar-inverse .navbar-toggle:hover{background-color:#333}.navbar-inverse .navbar-toggle .icon-bar{background-color:#fff}.navbar-inverse .navbar-collapse,.navbar-inverse .navbar-form{border-color:#101010}.navbar-inverse .navbar-nav&gt;.open&gt;a,.navbar-inverse .navbar-nav&gt;.open&gt;a:focus,.navbar-inverse .navbar-nav&gt;.open&gt;a:hover{color:#fff;background-color:#080808}@media (max-width:767px){.navbar-inverse .navbar-nav .open .dropdown-menu&gt;.dropdown-header{border-color:#080808}.navbar-inverse .navbar-nav .open .dropdown-menu .divider{background-color:#080808}.navbar-inverse .navbar-nav .open .dropdown-menu&gt;li&gt;a{color:#9d9d9d}.navbar-inverse .navbar-nav .open .dropdown-menu&gt;li&gt;a:focus,.navbar-inverse .navbar-nav .open .dropdown-menu&gt;li&gt;a:hover{color:#fff;background-color:transparent}.navbar-inverse .navbar-nav .open .dropdown-menu&gt;.active&gt;a,.navbar-inverse .navbar-nav .open .dropdown-menu&gt;.active&gt;a:focus,.navbar-inverse .navbar-nav .open .dropdown-menu&gt;.active&gt;a:hover{color:#fff;background-color:#080808}.navbar-inverse .navbar-nav .open .dropdown-menu&gt;.disabled&gt;a,.navbar-inverse .navbar-nav .open .dropdown-menu&gt;.disabled&gt;a:focus,.navbar-inverse .navbar-nav .open .dropdown-menu&gt;.disabled&gt;a:hover{color:#444;background-color:transparent}}.navbar-inverse .navbar-link{color:#9d9d9d}.navbar-inverse .navbar-link:hover{color:#fff}.navbar-inverse .btn-link{color:#9d9d9d}.navbar-inverse .btn-link:focus,.navbar-inverse .btn-link:hover{color:#fff}.navbar-inverse .btn-link[disabled]:focus,.navbar-inverse .btn-link[disabled]:hover,fieldset[disabled] .navbar-inverse .btn-link:focus,fieldset[disabled] .navbar-inverse .btn-link:hover{color:#444}.breadcrumb{padding:8px 15px;margin-bottom:20px;list-style:none;background-color:#f5f5f5;border-radius:4px}.breadcrumb&gt;li{display:inline-block}.breadcrumb&gt;li+li:before{padding:0 5px;color:#ccc;content:&quot;/\\00a0&quot;}.breadcrumb&gt;.active{color:#777}.pagination{display:inline-block;padding-left:0;margin:20px 0;border-radius:4px}.pagination&gt;li{display:inline}.pagination&gt;li&gt;a,.pagination&gt;li&gt;span{position:relative;float:left;padding:6px 12px;margin-left:-1px;line-height:1.42857143;color:#337ab7;text-decoration:none;background-color:#fff;border:1px solid #ddd}.pagination&gt;li:first-child&gt;a,.pagination&gt;li:first-child&gt;span{margin-left:0;border-top-left-radius:4px;border-bottom-left-radius:4px}.pagination&gt;li:last-child&gt;a,.pagination&gt;li:last-child&gt;span{border-top-right-radius:4px;border-bottom-right-radius:4px}.pagination&gt;li&gt;a:focus,.pagination&gt;li&gt;a:hover,.pagination&gt;li&gt;span:focus,.pagination&gt;li&gt;span:hover{z-index:2;color:#23527c;background-color:#eee;border-color:#ddd}.pagination&gt;.active&gt;a,.pagination&gt;.active&gt;a:focus,.pagination&gt;.active&gt;a:hover,.pagination&gt;.active&gt;span,.pagination&gt;.active&gt;span:focus,.pagination&gt;.active&gt;span:hover{z-index:3;color:#fff;cursor:default;background-color:#337ab7;border-color:#337ab7}.pagination&gt;.disabled&gt;a,.pagination&gt;.disabled&gt;a:focus,.pagination&gt;.disabled&gt;a:hover,.pagination&gt;.disabled&gt;span,.pagination&gt;.disabled&gt;span:focus,.pagination&gt;.disabled&gt;span:hover{color:#777;cursor:not-allowed;background-color:#fff;border-color:#ddd}.pagination-lg&gt;li&gt;a,.pagination-lg&gt;li&gt;span{padding:10px 16px;font-size:18px;line-height:1.3333333}.pagination-lg&gt;li:first-child&gt;a,.pagination-lg&gt;li:first-child&gt;span{border-top-left-radius:6px;border-bottom-left-radius:6px}.pagination-lg&gt;li:last-child&gt;a,.pagination-lg&gt;li:last-child&gt;span{border-top-right-radius:6px;border-bottom-right-radius:6px}.pagination-sm&gt;li&gt;a,.pagination-sm&gt;li&gt;span{padding:5px 10px;font-size:12px;line-height:1.5}.pagination-sm&gt;li:first-child&gt;a,.pagination-sm&gt;li:first-child&gt;span{border-top-left-radius:3px;border-bottom-left-radius:3px}.pagination-sm&gt;li:last-child&gt;a,.pagination-sm&gt;li:last-child&gt;span{border-top-right-radius:3px;border-bottom-right-radius:3px}.pager{padding-left:0;margin:20px 0;text-align:center;list-style:none}.pager li{display:inline}.pager li&gt;a,.pager li&gt;span{display:inline-block;padding:5px 14px;background-color:#fff;border:1px solid #ddd;border-radius:15px}.pager li&gt;a:focus,.pager li&gt;a:hover{text-decoration:none;background-color:#eee}.pager .next&gt;a,.pager .next&gt;span{float:right}.pager .previous&gt;a,.pager .previous&gt;span{float:left}.pager .disabled&gt;a,.pager .disabled&gt;a:focus,.pager .disabled&gt;a:hover,.pager .disabled&gt;span{color:#777;cursor:not-allowed;background-color:#fff}.label{display:inline;padding:.2em .6em .3em;font-size:75%;font-weight:700;line-height:1;color:#fff;text-align:center;white-space:nowrap;vertical-align:baseline;border-radius:.25em}a.label:focus,a.label:hover{color:#fff;text-decoration:none;cursor:pointer}.label:empty{display:none}.btn .label{position:relative;top:-1px}.label-default{background-color:#777}.label-default[href]:focus,.label-default[href]:hover{background-color:#5e5e5e}.label-primary{background-color:#337ab7}.label-primary[href]:focus,.label-primary[href]:hover{background-color:#286090}.label-success{background-color:#5cb85c}.label-success[href]:focus,.label-success[href]:hover{background-color:#449d44}.label-info{background-color:#5bc0de}.label-info[href]:focus,.label-info[href]:hover{background-color:#31b0d5}.label-warning{background-color:#f0ad4e}.label-warning[href]:focus,.label-warning[href]:hover{background-color:#ec971f}.label-danger{background-color:#d9534f}.label-danger[href]:focus,.label-danger[href]:hover{background-color:#c9302c}.badge{display:inline-block;min-width:10px;padding:3px 7px;font-size:12px;font-weight:700;line-height:1;color:#fff;text-align:center;white-space:nowrap;vertical-align:middle;background-color:#777;border-radius:10px}.badge:empty{display:none}.btn .badge{position:relative;top:-1px}.btn-group-xs&gt;.btn .badge,.btn-xs .badge{top:0;padding:1px 5px}a.badge:focus,a.badge:hover{color:#fff;text-decoration:none;cursor:pointer}.list-group-item.active&gt;.badge,.nav-pills&gt;.active&gt;a&gt;.badge{color:#337ab7;background-color:#fff}.list-group-item&gt;.badge{float:right}.list-group-item&gt;.badge+.badge{margin-right:5px}.nav-pills&gt;li&gt;a&gt;.badge{margin-left:3px}.jumbotron{padding-top:30px;padding-bottom:30px;margin-bottom:30px;color:inherit;background-color:#eee}.jumbotron .h1,.jumbotron h1{color:inherit}.jumbotron p{margin-bottom:15px;font-size:21px;font-weight:200}.jumbotron&gt;hr{border-top-color:#d5d5d5}.container .jumbotron,.container-fluid .jumbotron{padding-right:15px;padding-left:15px;border-radius:6px}.jumbotron .container{max-width:100%}@media screen and (min-width:768px){.jumbotron{padding-top:48px;padding-bottom:48px}.container .jumbotron,.container-fluid .jumbotron{padding-right:60px;padding-left:60px}.jumbotron .h1,.jumbotron h1{font-size:63px}}.thumbnail{display:block;padding:4px;margin-bottom:20px;line-height:1.42857143;background-color:#fff;border:1px solid #ddd;border-radius:4px;-webkit-transition:border .2s ease-in-out;-o-transition:border .2s ease-in-out;transition:border .2s ease-in-out}.thumbnail a&gt;img,.thumbnail&gt;img{margin-right:auto;margin-left:auto}a.thumbnail.active,a.thumbnail:focus,a.thumbnail:hover{border-color:#337ab7}.thumbnail .caption{padding:9px;color:#333}.alert{padding:15px;margin-bottom:20px;border:1px solid transparent;border-radius:4px}.alert h4{margin-top:0;color:inherit}.alert .alert-link{font-weight:700}.alert&gt;p,.alert&gt;ul{margin-bottom:0}.alert&gt;p+p{margin-top:5px}.alert-dismissable,.alert-dismissible{padding-right:35px}.alert-dismissable .close,.alert-dismissible .close{position:relative;top:-2px;right:-21px;color:inherit}.alert-success{color:#3c763d;background-color:#dff0d8;border-color:#d6e9c6}.alert-success hr{border-top-color:#c9e2b3}.alert-success .alert-link{color:#2b542c}.alert-info{color:#31708f;background-color:#d9edf7;border-color:#bce8f1}.alert-info hr{border-top-color:#a6e1ec}.alert-info .alert-link{color:#245269}.alert-warning{color:#8a6d3b;background-color:#fcf8e3;border-color:#faebcc}.alert-warning hr{border-top-color:#f7e1b5}.alert-warning .alert-link{color:#66512c}.alert-danger{color:#a94442;background-color:#f2dede;border-color:#ebccd1}.alert-danger hr{border-top-color:#e4b9c0}.alert-danger .alert-link{color:#843534}@-webkit-keyframes progress-bar-stripes{from{background-position:40px 0}to{background-position:0 0}}@-o-keyframes progress-bar-stripes{from{background-position:40px 0}to{background-position:0 0}}@keyframes progress-bar-stripes{from{background-position:40px 0}to{background-position:0 0}}.progress{height:20px;margin-bottom:20px;overflow:hidden;background-color:#f5f5f5;border-radius:4px;-webkit-box-shadow:inset 0 1px 2px rgba(0,0,0,.1);box-shadow:inset 0 1px 2px rgba(0,0,0,.1)}.progress-bar{float:left;width:0;height:100%;font-size:12px;line-height:20px;color:#fff;text-align:center;background-color:#337ab7;-webkit-box-shadow:inset 0 -1px 0 rgba(0,0,0,.15);box-shadow:inset 0 -1px 0 rgba(0,0,0,.15);-webkit-transition:width .6s ease;-o-transition:width .6s ease;transition:width .6s ease}.progress-bar-striped,.progress-striped .progress-bar{background-image:-webkit-linear-gradient(45deg,rgba(255,255,255,.15) 25%,transparent 25%,transparent 50%,rgba(255,255,255,.15) 50%,rgba(255,255,255,.15) 75%,transparent 75%,transparent);background-image:-o-linear-gradient(45deg,rgba(255,255,255,.15) 25%,transparent 25%,transparent 50%,rgba(255,255,255,.15) 50%,rgba(255,255,255,.15) 75%,transparent 75%,transparent);background-image:linear-gradient(45deg,rgba(255,255,255,.15) 25%,transparent 25%,transparent 50%,rgba(255,255,255,.15) 50%,rgba(255,255,255,.15) 75%,transparent 75%,transparent);-webkit-background-size:40px 40px;background-size:40px 40px}.progress-bar.active,.progress.active .progress-bar{-webkit-animation:progress-bar-stripes 2s linear infinite;-o-animation:progress-bar-stripes 2s linear infinite;animation:progress-bar-stripes 2s linear infinite}.progress-bar-success{background-color:#5cb85c}.progress-striped .progress-bar-success{background-image:-webkit-linear-gradient(45deg,rgba(255,255,255,.15) 25%,transparent 25%,transparent 50%,rgba(255,255,255,.15) 50%,rgba(255,255,255,.15) 75%,transparent 75%,transparent);background-image:-o-linear-gradient(45deg,rgba(255,255,255,.15) 25%,transparent 25%,transparent 50%,rgba(255,255,255,.15) 50%,rgba(255,255,255,.15) 75%,transparent 75%,transparent);background-image:linear-gradient(45deg,rgba(255,255,255,.15) 25%,transparent 25%,transparent 50%,rgba(255,255,255,.15) 50%,rgba(255,255,255,.15) 75%,transparent 75%,transparent)}.progress-bar-info{background-color:#5bc0de}.progress-striped .progress-bar-info{background-image:-webkit-linear-gradient(45deg,rgba(255,255,255,.15) 25%,transparent 25%,transparent 50%,rgba(255,255,255,.15) 50%,rgba(255,255,255,.15) 75%,transparent 75%,transparent);background-image:-o-linear-gradient(45deg,rgba(255,255,255,.15) 25%,transparent 25%,transparent 50%,rgba(255,255,255,.15) 50%,rgba(255,255,255,.15) 75%,transparent 75%,transparent);background-image:linear-gradient(45deg,rgba(255,255,255,.15) 25%,transparent 25%,transparent 50%,rgba(255,255,255,.15) 50%,rgba(255,255,255,.15) 75%,transparent 75%,transparent)}.progress-bar-warning{background-color:#f0ad4e}.progress-striped .progress-bar-warning{background-image:-webkit-linear-gradient(45deg,rgba(255,255,255,.15) 25%,transparent 25%,transparent 50%,rgba(255,255,255,.15) 50%,rgba(255,255,255,.15) 75%,transparent 75%,transparent);background-image:-o-linear-gradient(45deg,rgba(255,255,255,.15) 25%,transparent 25%,transparent 50%,rgba(255,255,255,.15) 50%,rgba(255,255,255,.15) 75%,transparent 75%,transparent);background-image:linear-gradient(45deg,rgba(255,255,255,.15) 25%,transparent 25%,transparent 50%,rgba(255,255,255,.15) 50%,rgba(255,255,255,.15) 75%,transparent 75%,transparent)}.progress-bar-danger{background-color:#d9534f}.progress-striped .progress-bar-danger{background-image:-webkit-linear-gradient(45deg,rgba(255,255,255,.15) 25%,transparent 25%,transparent 50%,rgba(255,255,255,.15) 50%,rgba(255,255,255,.15) 75%,transparent 75%,transparent);background-image:-o-linear-gradient(45deg,rgba(255,255,255,.15) 25%,transparent 25%,transparent 50%,rgba(255,255,255,.15) 50%,rgba(255,255,255,.15) 75%,transparent 75%,transparent);background-image:linear-gradient(45deg,rgba(255,255,255,.15) 25%,transparent 25%,transparent 50%,rgba(255,255,255,.15) 50%,rgba(255,255,255,.15) 75%,transparent 75%,transparent)}.media{margin-top:15px}.media:first-child{margin-top:0}.media,.media-body{overflow:hidden;zoom:1}.media-body{width:10000px}.media-object{display:block}.media-object.img-thumbnail{max-width:none}.media-right,.media&gt;.pull-right{padding-left:10px}.media-left,.media&gt;.pull-left{padding-right:10px}.media-body,.media-left,.media-right{display:table-cell;vertical-align:top}.media-middle{vertical-align:middle}.media-bottom{vertical-align:bottom}.media-heading{margin-top:0;margin-bottom:5px}.media-list{padding-left:0;list-style:none}.list-group{padding-left:0;margin-bottom:20px}.list-group-item{position:relative;display:block;padding:10px 15px;margin-bottom:-1px;background-color:#fff;border:1px solid #ddd}.list-group-item:first-child{border-top-left-radius:4px;border-top-right-radius:4px}.list-group-item:last-child{margin-bottom:0;border-bottom-right-radius:4px;border-bottom-left-radius:4px}a.list-group-item,button.list-group-item{color:#555}a.list-group-item .list-group-item-heading,button.list-group-item .list-group-item-heading{color:#333}a.list-group-item:focus,a.list-group-item:hover,button.list-group-item:focus,button.list-group-item:hover{color:#555;text-decoration:none;background-color:#f5f5f5}button.list-group-item{width:100%;text-align:left}.list-group-item.disabled,.list-group-item.disabled:focus,.list-group-item.disabled:hover{color:#777;cursor:not-allowed;background-color:#eee}.list-group-item.disabled .list-group-item-heading,.list-group-item.disabled:focus .list-group-item-heading,.list-group-item.disabled:hover .list-group-item-heading{color:inherit}.list-group-item.disabled .list-group-item-text,.list-group-item.disabled:focus .list-group-item-text,.list-group-item.disabled:hover .list-group-item-text{color:#777}.list-group-item.active,.list-group-item.active:focus,.list-group-item.active:hover{z-index:2;color:#fff;background-color:#337ab7;border-color:#337ab7}.list-group-item.active .list-group-item-heading,.list-group-item.active .list-group-item-heading&gt;.small,.list-group-item.active .list-group-item-heading&gt;small,.list-group-item.active:focus .list-group-item-heading,.list-group-item.active:focus .list-group-item-heading&gt;.small,.list-group-item.active:focus .list-group-item-heading&gt;small,.list-group-item.active:hover .list-group-item-heading,.list-group-item.active:hover .list-group-item-heading&gt;.small,.list-group-item.active:hover .list-group-item-heading&gt;small{color:inherit}.list-group-item.active .list-group-item-text,.list-group-item.active:focus .list-group-item-text,.list-group-item.active:hover .list-group-item-text{color:#c7ddef}.list-group-item-success{color:#3c763d;background-color:#dff0d8}a.list-group-item-success,button.list-group-item-success{color:#3c763d}a.list-group-item-success .list-group-item-heading,button.list-group-item-success .list-group-item-heading{color:inherit}a.list-group-item-success:focus,a.list-group-item-success:hover,button.list-group-item-success:focus,button.list-group-item-success:hover{color:#3c763d;background-color:#d0e9c6}a.list-group-item-success.active,a.list-group-item-success.active:focus,a.list-group-item-success.active:hover,button.list-group-item-success.active,button.list-group-item-success.active:focus,button.list-group-item-success.active:hover{color:#fff;background-color:#3c763d;border-color:#3c763d}.list-group-item-info{color:#31708f;background-color:#d9edf7}a.list-group-item-info,button.list-group-item-info{color:#31708f}a.list-group-item-info .list-group-item-heading,button.list-group-item-info .list-group-item-heading{color:inherit}a.list-group-item-info:focus,a.list-group-item-info:hover,button.list-group-item-info:focus,button.list-group-item-info:hover{color:#31708f;background-color:#c4e3f3}a.list-group-item-info.active,a.list-group-item-info.active:focus,a.list-group-item-info.active:hover,button.list-group-item-info.active,button.list-group-item-info.active:focus,button.list-group-item-info.active:hover{color:#fff;background-color:#31708f;border-color:#31708f}.list-group-item-warning{color:#8a6d3b;background-color:#fcf8e3}a.list-group-item-warning,button.list-group-item-warning{color:#8a6d3b}a.list-group-item-warning .list-group-item-heading,button.list-group-item-warning .list-group-item-heading{color:inherit}a.list-group-item-warning:focus,a.list-group-item-warning:hover,button.list-group-item-warning:focus,button.list-group-item-warning:hover{color:#8a6d3b;background-color:#faf2cc}a.list-group-item-warning.active,a.list-group-item-warning.active:focus,a.list-group-item-warning.active:hover,button.list-group-item-warning.active,button.list-group-item-warning.active:focus,button.list-group-item-warning.active:hover{color:#fff;background-color:#8a6d3b;border-color:#8a6d3b}.list-group-item-danger{color:#a94442;background-color:#f2dede}a.list-group-item-danger,button.list-group-item-danger{color:#a94442}a.list-group-item-danger .list-group-item-heading,button.list-group-item-danger .list-group-item-heading{color:inherit}a.list-group-item-danger:focus,a.list-group-item-danger:hover,button.list-group-item-danger:focus,button.list-group-item-danger:hover{color:#a94442;background-color:#ebcccc}a.list-group-item-danger.active,a.list-group-item-danger.active:focus,a.list-group-item-danger.active:hover,button.list-group-item-danger.active,button.list-group-item-danger.active:focus,button.list-group-item-danger.active:hover{color:#fff;background-color:#a94442;border-color:#a94442}.list-group-item-heading{margin-top:0;margin-bottom:5px}.list-group-item-text{margin-bottom:0;line-height:1.3}.panel{margin-bottom:20px;background-color:#fff;border:1px solid transparent;border-radius:4px;-webkit-box-shadow:0 1px 1px rgba(0,0,0,.05);box-shadow:0 1px 1px rgba(0,0,0,.05)}.panel-body{padding:15px}.panel-heading{padding:10px 15px;border-bottom:1px solid transparent;border-top-left-radius:3px;border-top-right-radius:3px}.panel-heading&gt;.dropdown .dropdown-toggle{color:inherit}.panel-title{margin-top:0;margin-bottom:0;font-size:16px;color:inherit}.panel-title&gt;.small,.panel-title&gt;.small&gt;a,.panel-title&gt;a,.panel-title&gt;small,.panel-title&gt;small&gt;a{color:inherit}.panel-footer{padding:10px 15px;background-color:#f5f5f5;border-top:1px solid #ddd;border-bottom-right-radius:3px;border-bottom-left-radius:3px}.panel&gt;.list-group,.panel&gt;.panel-collapse&gt;.list-group{margin-bottom:0}.panel&gt;.list-group .list-group-item,.panel&gt;.panel-collapse&gt;.list-group .list-group-item{border-width:1px 0;border-radius:0}.panel&gt;.list-group:first-child .list-group-item:first-child,.panel&gt;.panel-collapse&gt;.list-group:first-child .list-group-item:first-child{border-top:0;border-top-left-radius:3px;border-top-right-radius:3px}.panel&gt;.list-group:last-child .list-group-item:last-child,.panel&gt;.panel-collapse&gt;.list-group:last-child .list-group-item:last-child{border-bottom:0;border-bottom-right-radius:3px;border-bottom-left-radius:3px}.panel&gt;.panel-heading+.panel-collapse&gt;.list-group .list-group-item:first-child{border-top-left-radius:0;border-top-right-radius:0}.panel-heading+.list-group .list-group-item:first-child{border-top-width:0}.list-group+.panel-footer{border-top-width:0}.panel&gt;.panel-collapse&gt;.table,.panel&gt;.table,.panel&gt;.table-responsive&gt;.table{margin-bottom:0}.panel&gt;.panel-collapse&gt;.table caption,.panel&gt;.table caption,.panel&gt;.table-responsive&gt;.table caption{padding-right:15px;padding-left:15px}.panel&gt;.table-responsive:first-child&gt;.table:first-child,.panel&gt;.table:first-child{border-top-left-radius:3px;border-top-right-radius:3px}.panel&gt;.table-responsive:first-child&gt;.table:first-child&gt;tbody:first-child&gt;tr:first-child,.panel&gt;.table-responsive:first-child&gt;.table:first-child&gt;thead:first-child&gt;tr:first-child,.panel&gt;.table:first-child&gt;tbody:first-child&gt;tr:first-child,.panel&gt;.table:first-child&gt;thead:first-child&gt;tr:first-child{border-top-left-radius:3px;border-top-right-radius:3px}.panel&gt;.table-responsive:first-child&gt;.table:first-child&gt;tbody:first-child&gt;tr:first-child td:first-child,.panel&gt;.table-responsive:first-child&gt;.table:first-child&gt;tbody:first-child&gt;tr:first-child th:first-child,.panel&gt;.table-responsive:first-child&gt;.table:first-child&gt;thead:first-child&gt;tr:first-child td:first-child,.panel&gt;.table-responsive:first-child&gt;.table:first-child&gt;thead:first-child&gt;tr:first-child th:first-child,.panel&gt;.table:first-child&gt;tbody:first-child&gt;tr:first-child td:first-child,.panel&gt;.table:first-child&gt;tbody:first-child&gt;tr:first-child th:first-child,.panel&gt;.table:first-child&gt;thead:first-child&gt;tr:first-child td:first-child,.panel&gt;.table:first-child&gt;thead:first-child&gt;tr:first-child th:first-child{border-top-left-radius:3px}.panel&gt;.table-responsive:first-child&gt;.table:first-child&gt;tbody:first-child&gt;tr:first-child td:last-child,.panel&gt;.table-responsive:first-child&gt;.table:first-child&gt;tbody:first-child&gt;tr:first-child th:last-child,.panel&gt;.table-responsive:first-child&gt;.table:first-child&gt;thead:first-child&gt;tr:first-child td:last-child,.panel&gt;.table-responsive:first-child&gt;.table:first-child&gt;thead:first-child&gt;tr:first-child th:last-child,.panel&gt;.table:first-child&gt;tbody:first-child&gt;tr:first-child td:last-child,.panel&gt;.table:first-child&gt;tbody:first-child&gt;tr:first-child th:last-child,.panel&gt;.table:first-child&gt;thead:first-child&gt;tr:first-child td:last-child,.panel&gt;.table:first-child&gt;thead:first-child&gt;tr:first-child th:last-child{border-top-right-radius:3px}.panel&gt;.table-responsive:last-child&gt;.table:last-child,.panel&gt;.table:last-child{border-bottom-right-radius:3px;border-bottom-left-radius:3px}.panel&gt;.table-responsive:last-child&gt;.table:last-child&gt;tbody:last-child&gt;tr:last-child,.panel&gt;.table-responsive:last-child&gt;.table:last-child&gt;tfoot:last-child&gt;tr:last-child,.panel&gt;.table:last-child&gt;tbody:last-child&gt;tr:last-child,.panel&gt;.table:last-child&gt;tfoot:last-child&gt;tr:last-child{border-bottom-right-radius:3px;border-bottom-left-radius:3px}.panel&gt;.table-responsive:last-child&gt;.table:last-child&gt;tbody:last-child&gt;tr:last-child td:first-child,.panel&gt;.table-responsive:last-child&gt;.table:last-child&gt;tbody:last-child&gt;tr:last-child th:first-child,.panel&gt;.table-responsive:last-child&gt;.table:last-child&gt;tfoot:last-child&gt;tr:last-child td:first-child,.panel&gt;.table-responsive:last-child&gt;.table:last-child&gt;tfoot:last-child&gt;tr:last-child th:first-child,.panel&gt;.table:last-child&gt;tbody:last-child&gt;tr:last-child td:first-child,.panel&gt;.table:last-child&gt;tbody:last-child&gt;tr:last-child th:first-child,.panel&gt;.table:last-child&gt;tfoot:last-child&gt;tr:last-child td:first-child,.panel&gt;.table:last-child&gt;tfoot:last-child&gt;tr:last-child th:first-child{border-bottom-left-radius:3px}.panel&gt;.table-responsive:last-child&gt;.table:last-child&gt;tbody:last-child&gt;tr:last-child td:last-child,.panel&gt;.table-responsive:last-child&gt;.table:last-child&gt;tbody:last-child&gt;tr:last-child th:last-child,.panel&gt;.table-responsive:last-child&gt;.table:last-child&gt;tfoot:last-child&gt;tr:last-child td:last-child,.panel&gt;.table-responsive:last-child&gt;.table:last-child&gt;tfoot:last-child&gt;tr:last-child th:last-child,.panel&gt;.table:last-child&gt;tbody:last-child&gt;tr:last-child td:last-child,.panel&gt;.table:last-child&gt;tbody:last-child&gt;tr:last-child th:last-child,.panel&gt;.table:last-child&gt;tfoot:last-child&gt;tr:last-child td:last-child,.panel&gt;.table:last-child&gt;tfoot:last-child&gt;tr:last-child th:last-child{border-bottom-right-radius:3px}.panel&gt;.panel-body+.table,.panel&gt;.panel-body+.table-responsive,.panel&gt;.table+.panel-body,.panel&gt;.table-responsive+.panel-body{border-top:1px solid #ddd}.panel&gt;.table&gt;tbody:first-child&gt;tr:first-child td,.panel&gt;.table&gt;tbody:first-child&gt;tr:first-child th{border-top:0}.panel&gt;.table-bordered,.panel&gt;.table-responsive&gt;.table-bordered{border:0}.panel&gt;.table-bordered&gt;tbody&gt;tr&gt;td:first-child,.panel&gt;.table-bordered&gt;tbody&gt;tr&gt;th:first-child,.panel&gt;.table-bordered&gt;tfoot&gt;tr&gt;td:first-child,.panel&gt;.table-bordered&gt;tfoot&gt;tr&gt;th:first-child,.panel&gt;.table-bordered&gt;thead&gt;tr&gt;td:first-child,.panel&gt;.table-bordered&gt;thead&gt;tr&gt;th:first-child,.panel&gt;.table-responsive&gt;.table-bordered&gt;tbody&gt;tr&gt;td:first-child,.panel&gt;.table-responsive&gt;.table-bordered&gt;tbody&gt;tr&gt;th:first-child,.panel&gt;.table-responsive&gt;.table-bordered&gt;tfoot&gt;tr&gt;td:first-child,.panel&gt;.table-responsive&gt;.table-bordered&gt;tfoot&gt;tr&gt;th:first-child,.panel&gt;.table-responsive&gt;.table-bordered&gt;thead&gt;tr&gt;td:first-child,.panel&gt;.table-responsive&gt;.table-bordered&gt;thead&gt;tr&gt;th:first-child{border-left:0}.panel&gt;.table-bordered&gt;tbody&gt;tr&gt;td:last-child,.panel&gt;.table-bordered&gt;tbody&gt;tr&gt;th:last-child,.panel&gt;.table-bordered&gt;tfoot&gt;tr&gt;td:last-child,.panel&gt;.table-bordered&gt;tfoot&gt;tr&gt;th:last-child,.panel&gt;.table-bordered&gt;thead&gt;tr&gt;td:last-child,.panel&gt;.table-bordered&gt;thead&gt;tr&gt;th:last-child,.panel&gt;.table-responsive&gt;.table-bordered&gt;tbody&gt;tr&gt;td:last-child,.panel&gt;.table-responsive&gt;.table-bordered&gt;tbody&gt;tr&gt;th:last-child,.panel&gt;.table-responsive&gt;.table-bordered&gt;tfoot&gt;tr&gt;td:last-child,.panel&gt;.table-responsive&gt;.table-bordered&gt;tfoot&gt;tr&gt;th:last-child,.panel&gt;.table-responsive&gt;.table-bordered&gt;thead&gt;tr&gt;td:last-child,.panel&gt;.table-responsive&gt;.table-bordered&gt;thead&gt;tr&gt;th:last-child{border-right:0}.panel&gt;.table-bordered&gt;tbody&gt;tr:first-child&gt;td,.panel&gt;.table-bordered&gt;tbody&gt;tr:first-child&gt;th,.panel&gt;.table-bordered&gt;thead&gt;tr:first-child&gt;td,.panel&gt;.table-bordered&gt;thead&gt;tr:first-child&gt;th,.panel&gt;.table-responsive&gt;.table-bordered&gt;tbody&gt;tr:first-child&gt;td,.panel&gt;.table-responsive&gt;.table-bordered&gt;tbody&gt;tr:first-child&gt;th,.panel&gt;.table-responsive&gt;.table-bordered&gt;thead&gt;tr:first-child&gt;td,.panel&gt;.table-responsive&gt;.table-bordered&gt;thead&gt;tr:first-child&gt;th{border-bottom:0}.panel&gt;.table-bordered&gt;tbody&gt;tr:last-child&gt;td,.panel&gt;.table-bordered&gt;tbody&gt;tr:last-child&gt;th,.panel&gt;.table-bordered&gt;tfoot&gt;tr:last-child&gt;td,.panel&gt;.table-bordered&gt;tfoot&gt;tr:last-child&gt;th,.panel&gt;.table-responsive&gt;.table-bordered&gt;tbody&gt;tr:last-child&gt;td,.panel&gt;.table-responsive&gt;.table-bordered&gt;tbody&gt;tr:last-child&gt;th,.panel&gt;.table-responsive&gt;.table-bordered&gt;tfoot&gt;tr:last-child&gt;td,.panel&gt;.table-responsive&gt;.table-bordered&gt;tfoot&gt;tr:last-child&gt;th{border-bottom:0}.panel&gt;.table-responsive{margin-bottom:0;border:0}.panel-group{margin-bottom:20px}.panel-group .panel{margin-bottom:0;border-radius:4px}.panel-group .panel+.panel{margin-top:5px}.panel-group .panel-heading{border-bottom:0}.panel-group .panel-heading+.panel-collapse&gt;.list-group,.panel-group .panel-heading+.panel-collapse&gt;.panel-body{border-top:1px solid #ddd}.panel-group .panel-footer{border-top:0}.panel-group .panel-footer+.panel-collapse .panel-body{border-bottom:1px solid #ddd}.panel-default{border-color:#ddd}.panel-default&gt;.panel-heading{color:#333;background-color:#f5f5f5;border-color:#ddd}.panel-default&gt;.panel-heading+.panel-collapse&gt;.panel-body{border-top-color:#ddd}.panel-default&gt;.panel-heading .badge{color:#f5f5f5;background-color:#333}.panel-default&gt;.panel-footer+.panel-collapse&gt;.panel-body{border-bottom-color:#ddd}.panel-primary{border-color:#337ab7}.panel-primary&gt;.panel-heading{color:#fff;background-color:#337ab7;border-color:#337ab7}.panel-primary&gt;.panel-heading+.panel-collapse&gt;.panel-body{border-top-color:#337ab7}.panel-primary&gt;.panel-heading .badge{color:#337ab7;background-color:#fff}.panel-primary&gt;.panel-footer+.panel-collapse&gt;.panel-body{border-bottom-color:#337ab7}.panel-success{border-color:#d6e9c6}.panel-success&gt;.panel-heading{color:#3c763d;background-color:#dff0d8;border-color:#d6e9c6}.panel-success&gt;.panel-heading+.panel-collapse&gt;.panel-body{border-top-color:#d6e9c6}.panel-success&gt;.panel-heading .badge{color:#dff0d8;background-color:#3c763d}.panel-success&gt;.panel-footer+.panel-collapse&gt;.panel-body{border-bottom-color:#d6e9c6}.panel-info{border-color:#bce8f1}.panel-info&gt;.panel-heading{color:#31708f;background-color:#d9edf7;border-color:#bce8f1}.panel-info&gt;.panel-heading+.panel-collapse&gt;.panel-body{border-top-color:#bce8f1}.panel-info&gt;.panel-heading .badge{color:#d9edf7;background-color:#31708f}.panel-info&gt;.panel-footer+.panel-collapse&gt;.panel-body{border-bottom-color:#bce8f1}.panel-warning{border-color:#faebcc}.panel-warning&gt;.panel-heading{color:#8a6d3b;background-color:#fcf8e3;border-color:#faebcc}.panel-warning&gt;.panel-heading+.panel-collapse&gt;.panel-body{border-top-color:#faebcc}.panel-warning&gt;.panel-heading .badge{color:#fcf8e3;background-color:#8a6d3b}.panel-warning&gt;.panel-footer+.panel-collapse&gt;.panel-body{border-bottom-color:#faebcc}.panel-danger{border-color:#ebccd1}.panel-danger&gt;.panel-heading{color:#a94442;background-color:#f2dede;border-color:#ebccd1}.panel-danger&gt;.panel-heading+.panel-collapse&gt;.panel-body{border-top-color:#ebccd1}.panel-danger&gt;.panel-heading .badge{color:#f2dede;background-color:#a94442}.panel-danger&gt;.panel-footer+.panel-collapse&gt;.panel-body{border-bottom-color:#ebccd1}.embed-responsive{position:relative;display:block;height:0;padding:0;overflow:hidden}.embed-responsive .embed-responsive-item,.embed-responsive embed,.embed-responsive iframe,.embed-responsive object,.embed-responsive video{position:absolute;top:0;bottom:0;left:0;width:100%;height:100%;border:0}.embed-responsive-16by9{padding-bottom:56.25%}.embed-responsive-4by3{padding-bottom:75%}.well{min-height:20px;padding:19px;margin-bottom:20px;background-color:#f5f5f5;border:1px solid #e3e3e3;border-radius:4px;-webkit-box-shadow:inset 0 1px 1px rgba(0,0,0,.05);box-shadow:inset 0 1px 1px rgba(0,0,0,.05)}.well blockquote{border-color:#ddd;border-color:rgba(0,0,0,.15)}.well-lg{padding:24px;border-radius:6px}.well-sm{padding:9px;border-radius:3px}.close{float:right;font-size:21px;font-weight:700;line-height:1;color:#000;text-shadow:0 1px 0 #fff;filter:alpha(opacity=20);opacity:.2}.close:focus,.close:hover{color:#000;text-decoration:none;cursor:pointer;filter:alpha(opacity=50);opacity:.5}button.close{-webkit-appearance:none;padding:0;cursor:pointer;background:0 0;border:0}.modal-open{overflow:hidden}.modal{position:fixed;top:0;right:0;bottom:0;left:0;z-index:1050;display:none;overflow:hidden;-webkit-overflow-scrolling:touch;outline:0}.modal.fade .modal-dialog{-webkit-transition:-webkit-transform .3s ease-out;-o-transition:-o-transform .3s ease-out;transition:transform .3s ease-out;-webkit-transform:translate(0,-25%);-ms-transform:translate(0,-25%);-o-transform:translate(0,-25%);transform:translate(0,-25%)}.modal.in .modal-dialog{-webkit-transform:translate(0,0);-ms-transform:translate(0,0);-o-transform:translate(0,0);transform:translate(0,0)}.modal-open .modal{overflow-x:hidden;overflow-y:auto}.modal-dialog{position:relative;width:auto;margin:10px}.modal-content{position:relative;background-color:#fff;-webkit-background-clip:padding-box;background-clip:padding-box;border:1px solid #999;border:1px solid rgba(0,0,0,.2);border-radius:6px;outline:0;-webkit-box-shadow:0 3px 9px rgba(0,0,0,.5);box-shadow:0 3px 9px rgba(0,0,0,.5)}.modal-backdrop{position:fixed;top:0;right:0;bottom:0;left:0;z-index:1040;background-color:#000}.modal-backdrop.fade{filter:alpha(opacity=0);opacity:0}.modal-backdrop.in{filter:alpha(opacity=50);opacity:.5}.modal-header{padding:15px;border-bottom:1px solid #e5e5e5}.modal-header .close{margin-top:-2px}.modal-title{margin:0;line-height:1.42857143}.modal-body{position:relative;padding:15px}.modal-footer{padding:15px;text-align:right;border-top:1px solid #e5e5e5}.modal-footer .btn+.btn{margin-bottom:0;margin-left:5px}.modal-footer .btn-group .btn+.btn{margin-left:-1px}.modal-footer .btn-block+.btn-block{margin-left:0}.modal-scrollbar-measure{position:absolute;top:-9999px;width:50px;height:50px;overflow:scroll}@media (min-width:768px){.modal-dialog{width:600px;margin:30px auto}.modal-content{-webkit-box-shadow:0 5px 15px rgba(0,0,0,.5);box-shadow:0 5px 15px rgba(0,0,0,.5)}.modal-sm{width:300px}}@media (min-width:992px){.modal-lg{width:900px}}.tooltip{position:absolute;z-index:1070;display:block;font-family:&quot;Helvetica Neue&quot;,Helvetica,Arial,sans-serif;font-size:12px;font-style:normal;font-weight:400;line-height:1.42857143;text-align:left;text-align:start;text-decoration:none;text-shadow:none;text-transform:none;letter-spacing:normal;word-break:normal;word-spacing:normal;word-wrap:normal;white-space:normal;filter:alpha(opacity=0);opacity:0;line-break:auto}.tooltip.in{filter:alpha(opacity=90);opacity:.9}.tooltip.top{padding:5px 0;margin-top:-3px}.tooltip.right{padding:0 5px;margin-left:3px}.tooltip.bottom{padding:5px 0;margin-top:3px}.tooltip.left{padding:0 5px;margin-left:-3px}.tooltip-inner{max-width:200px;padding:3px 8px;color:#fff;text-align:center;background-color:#000;border-radius:4px}.tooltip-arrow{position:absolute;width:0;height:0;border-color:transparent;border-style:solid}.tooltip.top .tooltip-arrow{bottom:0;left:50%;margin-left:-5px;border-width:5px 5px 0;border-top-color:#000}.tooltip.top-left .tooltip-arrow{right:5px;bottom:0;margin-bottom:-5px;border-width:5px 5px 0;border-top-color:#000}.tooltip.top-right .tooltip-arrow{bottom:0;left:5px;margin-bottom:-5px;border-width:5px 5px 0;border-top-color:#000}.tooltip.right .tooltip-arrow{top:50%;left:0;margin-top:-5px;border-width:5px 5px 5px 0;border-right-color:#000}.tooltip.left .tooltip-arrow{top:50%;right:0;margin-top:-5px;border-width:5px 0 5px 5px;border-left-color:#000}.tooltip.bottom .tooltip-arrow{top:0;left:50%;margin-left:-5px;border-width:0 5px 5px;border-bottom-color:#000}.tooltip.bottom-left .tooltip-arrow{top:0;right:5px;margin-top:-5px;border-width:0 5px 5px;border-bottom-color:#000}.tooltip.bottom-right .tooltip-arrow{top:0;left:5px;margin-top:-5px;border-width:0 5px 5px;border-bottom-color:#000}.popover{position:absolute;top:0;left:0;z-index:1060;display:none;max-width:276px;padding:1px;font-family:&quot;Helvetica Neue&quot;,Helvetica,Arial,sans-serif;font-size:14px;font-style:normal;font-weight:400;line-height:1.42857143;text-align:left;text-align:start;text-decoration:none;text-shadow:none;text-transform:none;letter-spacing:normal;word-break:normal;word-spacing:normal;word-wrap:normal;white-space:normal;background-color:#fff;-webkit-background-clip:padding-box;background-clip:padding-box;border:1px solid #ccc;border:1px solid rgba(0,0,0,.2);border-radius:6px;-webkit-box-shadow:0 5px 10px rgba(0,0,0,.2);box-shadow:0 5px 10px rgba(0,0,0,.2);line-break:auto}.popover.top{margin-top:-10px}.popover.right{margin-left:10px}.popover.bottom{margin-top:10px}.popover.left{margin-left:-10px}.popover-title{padding:8px 14px;margin:0;font-size:14px;background-color:#f7f7f7;border-bottom:1px solid #ebebeb;border-radius:5px 5px 0 0}.popover-content{padding:9px 14px}.popover&gt;.arrow,.popover&gt;.arrow:after{position:absolute;display:block;width:0;height:0;border-color:transparent;border-style:solid}.popover&gt;.arrow{border-width:11px}.popover&gt;.arrow:after{content:&quot;&quot;;border-width:10px}.popover.top&gt;.arrow{bottom:-11px;left:50%;margin-left:-11px;border-top-color:#999;border-top-color:rgba(0,0,0,.25);border-bottom-width:0}.popover.top&gt;.arrow:after{bottom:1px;margin-left:-10px;content:&quot; &quot;;border-top-color:#fff;border-bottom-width:0}.popover.right&gt;.arrow{top:50%;left:-11px;margin-top:-11px;border-right-color:#999;border-right-color:rgba(0,0,0,.25);border-left-width:0}.popover.right&gt;.arrow:after{bottom:-10px;left:1px;content:&quot; &quot;;border-right-color:#fff;border-left-width:0}.popover.bottom&gt;.arrow{top:-11px;left:50%;margin-left:-11px;border-top-width:0;border-bottom-color:#999;border-bottom-color:rgba(0,0,0,.25)}.popover.bottom&gt;.arrow:after{top:1px;margin-left:-10px;content:&quot; &quot;;border-top-width:0;border-bottom-color:#fff}.popover.left&gt;.arrow{top:50%;right:-11px;margin-top:-11px;border-right-width:0;border-left-color:#999;border-left-color:rgba(0,0,0,.25)}.popover.left&gt;.arrow:after{right:1px;bottom:-10px;content:&quot; &quot;;border-right-width:0;border-left-color:#fff}.carousel{position:relative}.carousel-inner{position:relative;width:100%;overflow:hidden}.carousel-inner&gt;.item{position:relative;display:none;-webkit-transition:.6s ease-in-out left;-o-transition:.6s ease-in-out left;transition:.6s ease-in-out left}.carousel-inner&gt;.item&gt;a&gt;img,.carousel-inner&gt;.item&gt;img{line-height:1}@media all and (transform-3d),(-webkit-transform-3d){.carousel-inner&gt;.item{-webkit-transition:-webkit-transform .6s ease-in-out;-o-transition:-o-transform .6s ease-in-out;transition:transform .6s ease-in-out;-webkit-backface-visibility:hidden;backface-visibility:hidden;-webkit-perspective:1000px;perspective:1000px}.carousel-inner&gt;.item.active.right,.carousel-inner&gt;.item.next{left:0;-webkit-transform:translate3d(100%,0,0);transform:translate3d(100%,0,0)}.carousel-inner&gt;.item.active.left,.carousel-inner&gt;.item.prev{left:0;-webkit-transform:translate3d(-100%,0,0);transform:translate3d(-100%,0,0)}.carousel-inner&gt;.item.active,.carousel-inner&gt;.item.next.left,.carousel-inner&gt;.item.prev.right{left:0;-webkit-transform:translate3d(0,0,0);transform:translate3d(0,0,0)}}.carousel-inner&gt;.active,.carousel-inner&gt;.next,.carousel-inner&gt;.prev{display:block}.carousel-inner&gt;.active{left:0}.carousel-inner&gt;.next,.carousel-inner&gt;.prev{position:absolute;top:0;width:100%}.carousel-inner&gt;.next{left:100%}.carousel-inner&gt;.prev{left:-100%}.carousel-inner&gt;.next.left,.carousel-inner&gt;.prev.right{left:0}.carousel-inner&gt;.active.left{left:-100%}.carousel-inner&gt;.active.right{left:100%}.carousel-control{position:absolute;top:0;bottom:0;left:0;width:15%;font-size:20px;color:#fff;text-align:center;text-shadow:0 1px 2px rgba(0,0,0,.6);background-color:rgba(0,0,0,0);filter:alpha(opacity=50);opacity:.5}.carousel-control.left{background-image:-webkit-linear-gradient(left,rgba(0,0,0,.5) 0,rgba(0,0,0,.0001) 100%);background-image:-o-linear-gradient(left,rgba(0,0,0,.5) 0,rgba(0,0,0,.0001) 100%);background-image:-webkit-gradient(linear,left top,right top,from(rgba(0,0,0,.5)),to(rgba(0,0,0,.0001)));background-image:linear-gradient(to right,rgba(0,0,0,.5) 0,rgba(0,0,0,.0001) 100%);filter:progid:DXImageTransform.Microsoft.gradient(startColorstr=&#x27;#80000000&#x27;, endColorstr=&#x27;#00000000&#x27;, GradientType=1);background-repeat:repeat-x}.carousel-control.right{right:0;left:auto;background-image:-webkit-linear-gradient(left,rgba(0,0,0,.0001) 0,rgba(0,0,0,.5) 100%);background-image:-o-linear-gradient(left,rgba(0,0,0,.0001) 0,rgba(0,0,0,.5) 100%);background-image:-webkit-gradient(linear,left top,right top,from(rgba(0,0,0,.0001)),to(rgba(0,0,0,.5)));background-image:linear-gradient(to right,rgba(0,0,0,.0001) 0,rgba(0,0,0,.5) 100%);filter:progid:DXImageTransform.Microsoft.gradient(startColorstr=&#x27;#00000000&#x27;, endColorstr=&#x27;#80000000&#x27;, GradientType=1);background-repeat:repeat-x}.carousel-control:focus,.carousel-control:hover{color:#fff;text-decoration:none;filter:alpha(opacity=90);outline:0;opacity:.9}.carousel-control .glyphicon-chevron-left,.carousel-control .glyphicon-chevron-right,.carousel-control .icon-next,.carousel-control .icon-prev{position:absolute;top:50%;z-index:5;display:inline-block;margin-top:-10px}.carousel-control .glyphicon-chevron-left,.carousel-control .icon-prev{left:50%;margin-left:-10px}.carousel-control .glyphicon-chevron-right,.carousel-control .icon-next{right:50%;margin-right:-10px}.carousel-control .icon-next,.carousel-control .icon-prev{width:20px;height:20px;font-family:serif;line-height:1}.carousel-control .icon-prev:before{content:&#x27;\\2039&#x27;}.carousel-control .icon-next:before{content:&#x27;\\203a&#x27;}.carousel-indicators{position:absolute;bottom:10px;left:50%;z-index:15;width:60%;padding-left:0;margin-left:-30%;text-align:center;list-style:none}.carousel-indicators li{display:inline-block;width:10px;height:10px;margin:1px;text-indent:-999px;cursor:pointer;background-color:#000\\9;background-color:rgba(0,0,0,0);border:1px solid #fff;border-radius:10px}.carousel-indicators .active{width:12px;height:12px;margin:0;background-color:#fff}.carousel-caption{position:absolute;right:15%;bottom:20px;left:15%;z-index:10;padding-top:20px;padding-bottom:20px;color:#fff;text-align:center;text-shadow:0 1px 2px rgba(0,0,0,.6)}.carousel-caption .btn{text-shadow:none}@media screen and (min-width:768px){.carousel-control .glyphicon-chevron-left,.carousel-control .glyphicon-chevron-right,.carousel-control .icon-next,.carousel-control .icon-prev{width:30px;height:30px;margin-top:-10px;font-size:30px}.carousel-control .glyphicon-chevron-left,.carousel-control .icon-prev{margin-left:-10px}.carousel-control .glyphicon-chevron-right,.carousel-control .icon-next{margin-right:-10px}.carousel-caption{right:20%;left:20%;padding-bottom:30px}.carousel-indicators{bottom:20px}}.btn-group-vertical&gt;.btn-group:after,.btn-group-vertical&gt;.btn-group:before,.btn-toolbar:after,.btn-toolbar:before,.clearfix:after,.clearfix:before,.container-fluid:after,.container-fluid:before,.container:after,.container:before,.dl-horizontal dd:after,.dl-horizontal dd:before,.form-horizontal .form-group:after,.form-horizontal .form-group:before,.modal-footer:after,.modal-footer:before,.modal-header:after,.modal-header:before,.nav:after,.nav:before,.navbar-collapse:after,.navbar-collapse:before,.navbar-header:after,.navbar-header:before,.navbar:after,.navbar:before,.pager:after,.pager:before,.panel-body:after,.panel-body:before,.row:after,.row:before{display:table;content:&quot; &quot;}.btn-group-vertical&gt;.btn-group:after,.btn-toolbar:after,.clearfix:after,.container-fluid:after,.container:after,.dl-horizontal dd:after,.form-horizontal .form-group:after,.modal-footer:after,.modal-header:after,.nav:after,.navbar-collapse:after,.navbar-header:after,.navbar:after,.pager:after,.panel-body:after,.row:after{clear:both}.center-block{display:block;margin-right:auto;margin-left:auto}.pull-right{float:right!important}.pull-left{float:left!important}.hide{display:none!important}.show{display:block!important}.invisible{visibility:hidden}.text-hide{font:0/0 a;color:transparent;text-shadow:none;background-color:transparent;border:0}.hidden{display:none!important}.affix{position:fixed}@-ms-viewport{width:device-width}.visible-lg,.visible-md,.visible-sm,.visible-xs{display:none!important}.visible-lg-block,.visible-lg-inline,.visible-lg-inline-block,.visible-md-block,.visible-md-inline,.visible-md-inline-block,.visible-sm-block,.visible-sm-inline,.visible-sm-inline-block,.visible-xs-block,.visible-xs-inline,.visible-xs-inline-block{display:none!important}@media (max-width:767px){.visible-xs{display:block!important}table.visible-xs{display:table!important}tr.visible-xs{display:table-row!important}td.visible-xs,th.visible-xs{display:table-cell!important}}@media (max-width:767px){.visible-xs-block{display:block!important}}@media (max-width:767px){.visible-xs-inline{display:inline!important}}@media (max-width:767px){.visible-xs-inline-block{display:inline-block!important}}@media (min-width:768px) and (max-width:991px){.visible-sm{display:block!important}table.visible-sm{display:table!important}tr.visible-sm{display:table-row!important}td.visible-sm,th.visible-sm{display:table-cell!important}}@media (min-width:768px) and (max-width:991px){.visible-sm-block{display:block!important}}@media (min-width:768px) and (max-width:991px){.visible-sm-inline{display:inline!important}}@media (min-width:768px) and (max-width:991px){.visible-sm-inline-block{display:inline-block!important}}@media (min-width:992px) and (max-width:1199px){.visible-md{display:block!important}table.visible-md{display:table!important}tr.visible-md{display:table-row!important}td.visible-md,th.visible-md{display:table-cell!important}}@media (min-width:992px) and (max-width:1199px){.visible-md-block{display:block!important}}@media (min-width:992px) and (max-width:1199px){.visible-md-inline{display:inline!important}}@media (min-width:992px) and (max-width:1199px){.visible-md-inline-block{display:inline-block!important}}@media (min-width:1200px){.visible-lg{display:block!important}table.visible-lg{display:table!important}tr.visible-lg{display:table-row!important}td.visible-lg,th.visible-lg{display:table-cell!important}}@media (min-width:1200px){.visible-lg-block{display:block!important}}@media (min-width:1200px){.visible-lg-inline{display:inline!important}}@media (min-width:1200px){.visible-lg-inline-block{display:inline-block!important}}@media (max-width:767px){.hidden-xs{display:none!important}}@media (min-width:768px) and (max-width:991px){.hidden-sm{display:none!important}}@media (min-width:992px) and (max-width:1199px){.hidden-md{display:none!important}}@media (min-width:1200px){.hidden-lg{display:none!important}}.visible-print{display:none!important}@media print{.visible-print{display:block!important}table.visible-print{display:table!important}tr.visible-print{display:table-row!important}td.visible-print,th.visible-print{display:table-cell!important}}.visible-print-block{display:none!important}@media print{.visible-print-block{display:block!important}}.visible-print-inline{display:none!important}@media print{.visible-print-inline{display:inline!important}}.visible-print-inline-block{display:none!important}@media print{.visible-print-inline-block{display:inline-block!important}}@media print{.hidden-print{display:none!important}}\n",
       "/*# sourceMappingURL=bootstrap.min.css.map *//*!\n",
       " * Bootstrap v3.3.7 (http://getbootstrap.com)\n",
       " * Copyright 2011-2016 Twitter, Inc.\n",
       " * Licensed under MIT (https://github.com/twbs/bootstrap/blob/master/LICENSE)\n",
       " */.btn-danger,.btn-default,.btn-info,.btn-primary,.btn-success,.btn-warning{text-shadow:0 -1px 0 rgba(0,0,0,.2);-webkit-box-shadow:inset 0 1px 0 rgba(255,255,255,.15),0 1px 1px rgba(0,0,0,.075);box-shadow:inset 0 1px 0 rgba(255,255,255,.15),0 1px 1px rgba(0,0,0,.075)}.btn-danger.active,.btn-danger:active,.btn-default.active,.btn-default:active,.btn-info.active,.btn-info:active,.btn-primary.active,.btn-primary:active,.btn-success.active,.btn-success:active,.btn-warning.active,.btn-warning:active{-webkit-box-shadow:inset 0 3px 5px rgba(0,0,0,.125);box-shadow:inset 0 3px 5px rgba(0,0,0,.125)}.btn-danger.disabled,.btn-danger[disabled],.btn-default.disabled,.btn-default[disabled],.btn-info.disabled,.btn-info[disabled],.btn-primary.disabled,.btn-primary[disabled],.btn-success.disabled,.btn-success[disabled],.btn-warning.disabled,.btn-warning[disabled],fieldset[disabled] .btn-danger,fieldset[disabled] .btn-default,fieldset[disabled] .btn-info,fieldset[disabled] .btn-primary,fieldset[disabled] .btn-success,fieldset[disabled] .btn-warning{-webkit-box-shadow:none;box-shadow:none}.btn-danger .badge,.btn-default .badge,.btn-info .badge,.btn-primary .badge,.btn-success .badge,.btn-warning .badge{text-shadow:none}.btn.active,.btn:active{background-image:none}.btn-default{text-shadow:0 1px 0 #fff;background-image:-webkit-linear-gradient(top,#fff 0,#e0e0e0 100%);background-image:-o-linear-gradient(top,#fff 0,#e0e0e0 100%);background-image:-webkit-gradient(linear,left top,left bottom,from(#fff),to(#e0e0e0));background-image:linear-gradient(to bottom,#fff 0,#e0e0e0 100%);filter:progid:DXImageTransform.Microsoft.gradient(startColorstr=&#x27;#ffffffff&#x27;, endColorstr=&#x27;#ffe0e0e0&#x27;, GradientType=0);filter:progid:DXImageTransform.Microsoft.gradient(enabled=false);background-repeat:repeat-x;border-color:#dbdbdb;border-color:#ccc}.btn-default:focus,.btn-default:hover{background-color:#e0e0e0;background-position:0 -15px}.btn-default.active,.btn-default:active{background-color:#e0e0e0;border-color:#dbdbdb}.btn-default.disabled,.btn-default.disabled.active,.btn-default.disabled.focus,.btn-default.disabled:active,.btn-default.disabled:focus,.btn-default.disabled:hover,.btn-default[disabled],.btn-default[disabled].active,.btn-default[disabled].focus,.btn-default[disabled]:active,.btn-default[disabled]:focus,.btn-default[disabled]:hover,fieldset[disabled] .btn-default,fieldset[disabled] .btn-default.active,fieldset[disabled] .btn-default.focus,fieldset[disabled] .btn-default:active,fieldset[disabled] .btn-default:focus,fieldset[disabled] .btn-default:hover{background-color:#e0e0e0;background-image:none}.btn-primary{background-image:-webkit-linear-gradient(top,#337ab7 0,#265a88 100%);background-image:-o-linear-gradient(top,#337ab7 0,#265a88 100%);background-image:-webkit-gradient(linear,left top,left bottom,from(#337ab7),to(#265a88));background-image:linear-gradient(to bottom,#337ab7 0,#265a88 100%);filter:progid:DXImageTransform.Microsoft.gradient(startColorstr=&#x27;#ff337ab7&#x27;, endColorstr=&#x27;#ff265a88&#x27;, GradientType=0);filter:progid:DXImageTransform.Microsoft.gradient(enabled=false);background-repeat:repeat-x;border-color:#245580}.btn-primary:focus,.btn-primary:hover{background-color:#265a88;background-position:0 -15px}.btn-primary.active,.btn-primary:active{background-color:#265a88;border-color:#245580}.btn-primary.disabled,.btn-primary.disabled.active,.btn-primary.disabled.focus,.btn-primary.disabled:active,.btn-primary.disabled:focus,.btn-primary.disabled:hover,.btn-primary[disabled],.btn-primary[disabled].active,.btn-primary[disabled].focus,.btn-primary[disabled]:active,.btn-primary[disabled]:focus,.btn-primary[disabled]:hover,fieldset[disabled] .btn-primary,fieldset[disabled] .btn-primary.active,fieldset[disabled] .btn-primary.focus,fieldset[disabled] .btn-primary:active,fieldset[disabled] .btn-primary:focus,fieldset[disabled] .btn-primary:hover{background-color:#265a88;background-image:none}.btn-success{background-image:-webkit-linear-gradient(top,#5cb85c 0,#419641 100%);background-image:-o-linear-gradient(top,#5cb85c 0,#419641 100%);background-image:-webkit-gradient(linear,left top,left bottom,from(#5cb85c),to(#419641));background-image:linear-gradient(to bottom,#5cb85c 0,#419641 100%);filter:progid:DXImageTransform.Microsoft.gradient(startColorstr=&#x27;#ff5cb85c&#x27;, endColorstr=&#x27;#ff419641&#x27;, GradientType=0);filter:progid:DXImageTransform.Microsoft.gradient(enabled=false);background-repeat:repeat-x;border-color:#3e8f3e}.btn-success:focus,.btn-success:hover{background-color:#419641;background-position:0 -15px}.btn-success.active,.btn-success:active{background-color:#419641;border-color:#3e8f3e}.btn-success.disabled,.btn-success.disabled.active,.btn-success.disabled.focus,.btn-success.disabled:active,.btn-success.disabled:focus,.btn-success.disabled:hover,.btn-success[disabled],.btn-success[disabled].active,.btn-success[disabled].focus,.btn-success[disabled]:active,.btn-success[disabled]:focus,.btn-success[disabled]:hover,fieldset[disabled] .btn-success,fieldset[disabled] .btn-success.active,fieldset[disabled] .btn-success.focus,fieldset[disabled] .btn-success:active,fieldset[disabled] .btn-success:focus,fieldset[disabled] .btn-success:hover{background-color:#419641;background-image:none}.btn-info{background-image:-webkit-linear-gradient(top,#5bc0de 0,#2aabd2 100%);background-image:-o-linear-gradient(top,#5bc0de 0,#2aabd2 100%);background-image:-webkit-gradient(linear,left top,left bottom,from(#5bc0de),to(#2aabd2));background-image:linear-gradient(to bottom,#5bc0de 0,#2aabd2 100%);filter:progid:DXImageTransform.Microsoft.gradient(startColorstr=&#x27;#ff5bc0de&#x27;, endColorstr=&#x27;#ff2aabd2&#x27;, GradientType=0);filter:progid:DXImageTransform.Microsoft.gradient(enabled=false);background-repeat:repeat-x;border-color:#28a4c9}.btn-info:focus,.btn-info:hover{background-color:#2aabd2;background-position:0 -15px}.btn-info.active,.btn-info:active{background-color:#2aabd2;border-color:#28a4c9}.btn-info.disabled,.btn-info.disabled.active,.btn-info.disabled.focus,.btn-info.disabled:active,.btn-info.disabled:focus,.btn-info.disabled:hover,.btn-info[disabled],.btn-info[disabled].active,.btn-info[disabled].focus,.btn-info[disabled]:active,.btn-info[disabled]:focus,.btn-info[disabled]:hover,fieldset[disabled] .btn-info,fieldset[disabled] .btn-info.active,fieldset[disabled] .btn-info.focus,fieldset[disabled] .btn-info:active,fieldset[disabled] .btn-info:focus,fieldset[disabled] .btn-info:hover{background-color:#2aabd2;background-image:none}.btn-warning{background-image:-webkit-linear-gradient(top,#f0ad4e 0,#eb9316 100%);background-image:-o-linear-gradient(top,#f0ad4e 0,#eb9316 100%);background-image:-webkit-gradient(linear,left top,left bottom,from(#f0ad4e),to(#eb9316));background-image:linear-gradient(to bottom,#f0ad4e 0,#eb9316 100%);filter:progid:DXImageTransform.Microsoft.gradient(startColorstr=&#x27;#fff0ad4e&#x27;, endColorstr=&#x27;#ffeb9316&#x27;, GradientType=0);filter:progid:DXImageTransform.Microsoft.gradient(enabled=false);background-repeat:repeat-x;border-color:#e38d13}.btn-warning:focus,.btn-warning:hover{background-color:#eb9316;background-position:0 -15px}.btn-warning.active,.btn-warning:active{background-color:#eb9316;border-color:#e38d13}.btn-warning.disabled,.btn-warning.disabled.active,.btn-warning.disabled.focus,.btn-warning.disabled:active,.btn-warning.disabled:focus,.btn-warning.disabled:hover,.btn-warning[disabled],.btn-warning[disabled].active,.btn-warning[disabled].focus,.btn-warning[disabled]:active,.btn-warning[disabled]:focus,.btn-warning[disabled]:hover,fieldset[disabled] .btn-warning,fieldset[disabled] .btn-warning.active,fieldset[disabled] .btn-warning.focus,fieldset[disabled] .btn-warning:active,fieldset[disabled] .btn-warning:focus,fieldset[disabled] .btn-warning:hover{background-color:#eb9316;background-image:none}.btn-danger{background-image:-webkit-linear-gradient(top,#d9534f 0,#c12e2a 100%);background-image:-o-linear-gradient(top,#d9534f 0,#c12e2a 100%);background-image:-webkit-gradient(linear,left top,left bottom,from(#d9534f),to(#c12e2a));background-image:linear-gradient(to bottom,#d9534f 0,#c12e2a 100%);filter:progid:DXImageTransform.Microsoft.gradient(startColorstr=&#x27;#ffd9534f&#x27;, endColorstr=&#x27;#ffc12e2a&#x27;, GradientType=0);filter:progid:DXImageTransform.Microsoft.gradient(enabled=false);background-repeat:repeat-x;border-color:#b92c28}.btn-danger:focus,.btn-danger:hover{background-color:#c12e2a;background-position:0 -15px}.btn-danger.active,.btn-danger:active{background-color:#c12e2a;border-color:#b92c28}.btn-danger.disabled,.btn-danger.disabled.active,.btn-danger.disabled.focus,.btn-danger.disabled:active,.btn-danger.disabled:focus,.btn-danger.disabled:hover,.btn-danger[disabled],.btn-danger[disabled].active,.btn-danger[disabled].focus,.btn-danger[disabled]:active,.btn-danger[disabled]:focus,.btn-danger[disabled]:hover,fieldset[disabled] .btn-danger,fieldset[disabled] .btn-danger.active,fieldset[disabled] .btn-danger.focus,fieldset[disabled] .btn-danger:active,fieldset[disabled] .btn-danger:focus,fieldset[disabled] .btn-danger:hover{background-color:#c12e2a;background-image:none}.img-thumbnail,.thumbnail{-webkit-box-shadow:0 1px 2px rgba(0,0,0,.075);box-shadow:0 1px 2px rgba(0,0,0,.075)}.dropdown-menu&gt;li&gt;a:focus,.dropdown-menu&gt;li&gt;a:hover{background-color:#e8e8e8;background-image:-webkit-linear-gradient(top,#f5f5f5 0,#e8e8e8 100%);background-image:-o-linear-gradient(top,#f5f5f5 0,#e8e8e8 100%);background-image:-webkit-gradient(linear,left top,left bottom,from(#f5f5f5),to(#e8e8e8));background-image:linear-gradient(to bottom,#f5f5f5 0,#e8e8e8 100%);filter:progid:DXImageTransform.Microsoft.gradient(startColorstr=&#x27;#fff5f5f5&#x27;, endColorstr=&#x27;#ffe8e8e8&#x27;, GradientType=0);background-repeat:repeat-x}.dropdown-menu&gt;.active&gt;a,.dropdown-menu&gt;.active&gt;a:focus,.dropdown-menu&gt;.active&gt;a:hover{background-color:#2e6da4;background-image:-webkit-linear-gradient(top,#337ab7 0,#2e6da4 100%);background-image:-o-linear-gradient(top,#337ab7 0,#2e6da4 100%);background-image:-webkit-gradient(linear,left top,left bottom,from(#337ab7),to(#2e6da4));background-image:linear-gradient(to bottom,#337ab7 0,#2e6da4 100%);filter:progid:DXImageTransform.Microsoft.gradient(startColorstr=&#x27;#ff337ab7&#x27;, endColorstr=&#x27;#ff2e6da4&#x27;, GradientType=0);background-repeat:repeat-x}.navbar-default{background-image:-webkit-linear-gradient(top,#fff 0,#f8f8f8 100%);background-image:-o-linear-gradient(top,#fff 0,#f8f8f8 100%);background-image:-webkit-gradient(linear,left top,left bottom,from(#fff),to(#f8f8f8));background-image:linear-gradient(to bottom,#fff 0,#f8f8f8 100%);filter:progid:DXImageTransform.Microsoft.gradient(startColorstr=&#x27;#ffffffff&#x27;, endColorstr=&#x27;#fff8f8f8&#x27;, GradientType=0);filter:progid:DXImageTransform.Microsoft.gradient(enabled=false);background-repeat:repeat-x;border-radius:4px;-webkit-box-shadow:inset 0 1px 0 rgba(255,255,255,.15),0 1px 5px rgba(0,0,0,.075);box-shadow:inset 0 1px 0 rgba(255,255,255,.15),0 1px 5px rgba(0,0,0,.075)}.navbar-default .navbar-nav&gt;.active&gt;a,.navbar-default .navbar-nav&gt;.open&gt;a{background-image:-webkit-linear-gradient(top,#dbdbdb 0,#e2e2e2 100%);background-image:-o-linear-gradient(top,#dbdbdb 0,#e2e2e2 100%);background-image:-webkit-gradient(linear,left top,left bottom,from(#dbdbdb),to(#e2e2e2));background-image:linear-gradient(to bottom,#dbdbdb 0,#e2e2e2 100%);filter:progid:DXImageTransform.Microsoft.gradient(startColorstr=&#x27;#ffdbdbdb&#x27;, endColorstr=&#x27;#ffe2e2e2&#x27;, GradientType=0);background-repeat:repeat-x;-webkit-box-shadow:inset 0 3px 9px rgba(0,0,0,.075);box-shadow:inset 0 3px 9px rgba(0,0,0,.075)}.navbar-brand,.navbar-nav&gt;li&gt;a{text-shadow:0 1px 0 rgba(255,255,255,.25)}.navbar-inverse{background-image:-webkit-linear-gradient(top,#3c3c3c 0,#222 100%);background-image:-o-linear-gradient(top,#3c3c3c 0,#222 100%);background-image:-webkit-gradient(linear,left top,left bottom,from(#3c3c3c),to(#222));background-image:linear-gradient(to bottom,#3c3c3c 0,#222 100%);filter:progid:DXImageTransform.Microsoft.gradient(startColorstr=&#x27;#ff3c3c3c&#x27;, endColorstr=&#x27;#ff222222&#x27;, GradientType=0);filter:progid:DXImageTransform.Microsoft.gradient(enabled=false);background-repeat:repeat-x;border-radius:4px}.navbar-inverse .navbar-nav&gt;.active&gt;a,.navbar-inverse .navbar-nav&gt;.open&gt;a{background-image:-webkit-linear-gradient(top,#080808 0,#0f0f0f 100%);background-image:-o-linear-gradient(top,#080808 0,#0f0f0f 100%);background-image:-webkit-gradient(linear,left top,left bottom,from(#080808),to(#0f0f0f));background-image:linear-gradient(to bottom,#080808 0,#0f0f0f 100%);filter:progid:DXImageTransform.Microsoft.gradient(startColorstr=&#x27;#ff080808&#x27;, endColorstr=&#x27;#ff0f0f0f&#x27;, GradientType=0);background-repeat:repeat-x;-webkit-box-shadow:inset 0 3px 9px rgba(0,0,0,.25);box-shadow:inset 0 3px 9px rgba(0,0,0,.25)}.navbar-inverse .navbar-brand,.navbar-inverse .navbar-nav&gt;li&gt;a{text-shadow:0 -1px 0 rgba(0,0,0,.25)}.navbar-fixed-bottom,.navbar-fixed-top,.navbar-static-top{border-radius:0}@media (max-width:767px){.navbar .navbar-nav .open .dropdown-menu&gt;.active&gt;a,.navbar .navbar-nav .open .dropdown-menu&gt;.active&gt;a:focus,.navbar .navbar-nav .open .dropdown-menu&gt;.active&gt;a:hover{color:#fff;background-image:-webkit-linear-gradient(top,#337ab7 0,#2e6da4 100%);background-image:-o-linear-gradient(top,#337ab7 0,#2e6da4 100%);background-image:-webkit-gradient(linear,left top,left bottom,from(#337ab7),to(#2e6da4));background-image:linear-gradient(to bottom,#337ab7 0,#2e6da4 100%);filter:progid:DXImageTransform.Microsoft.gradient(startColorstr=&#x27;#ff337ab7&#x27;, endColorstr=&#x27;#ff2e6da4&#x27;, GradientType=0);background-repeat:repeat-x}}.alert{text-shadow:0 1px 0 rgba(255,255,255,.2);-webkit-box-shadow:inset 0 1px 0 rgba(255,255,255,.25),0 1px 2px rgba(0,0,0,.05);box-shadow:inset 0 1px 0 rgba(255,255,255,.25),0 1px 2px rgba(0,0,0,.05)}.alert-success{background-image:-webkit-linear-gradient(top,#dff0d8 0,#c8e5bc 100%);background-image:-o-linear-gradient(top,#dff0d8 0,#c8e5bc 100%);background-image:-webkit-gradient(linear,left top,left bottom,from(#dff0d8),to(#c8e5bc));background-image:linear-gradient(to bottom,#dff0d8 0,#c8e5bc 100%);filter:progid:DXImageTransform.Microsoft.gradient(startColorstr=&#x27;#ffdff0d8&#x27;, endColorstr=&#x27;#ffc8e5bc&#x27;, GradientType=0);background-repeat:repeat-x;border-color:#b2dba1}.alert-info{background-image:-webkit-linear-gradient(top,#d9edf7 0,#b9def0 100%);background-image:-o-linear-gradient(top,#d9edf7 0,#b9def0 100%);background-image:-webkit-gradient(linear,left top,left bottom,from(#d9edf7),to(#b9def0));background-image:linear-gradient(to bottom,#d9edf7 0,#b9def0 100%);filter:progid:DXImageTransform.Microsoft.gradient(startColorstr=&#x27;#ffd9edf7&#x27;, endColorstr=&#x27;#ffb9def0&#x27;, GradientType=0);background-repeat:repeat-x;border-color:#9acfea}.alert-warning{background-image:-webkit-linear-gradient(top,#fcf8e3 0,#f8efc0 100%);background-image:-o-linear-gradient(top,#fcf8e3 0,#f8efc0 100%);background-image:-webkit-gradient(linear,left top,left bottom,from(#fcf8e3),to(#f8efc0));background-image:linear-gradient(to bottom,#fcf8e3 0,#f8efc0 100%);filter:progid:DXImageTransform.Microsoft.gradient(startColorstr=&#x27;#fffcf8e3&#x27;, endColorstr=&#x27;#fff8efc0&#x27;, GradientType=0);background-repeat:repeat-x;border-color:#f5e79e}.alert-danger{background-image:-webkit-linear-gradient(top,#f2dede 0,#e7c3c3 100%);background-image:-o-linear-gradient(top,#f2dede 0,#e7c3c3 100%);background-image:-webkit-gradient(linear,left top,left bottom,from(#f2dede),to(#e7c3c3));background-image:linear-gradient(to bottom,#f2dede 0,#e7c3c3 100%);filter:progid:DXImageTransform.Microsoft.gradient(startColorstr=&#x27;#fff2dede&#x27;, endColorstr=&#x27;#ffe7c3c3&#x27;, GradientType=0);background-repeat:repeat-x;border-color:#dca7a7}.progress{background-image:-webkit-linear-gradient(top,#ebebeb 0,#f5f5f5 100%);background-image:-o-linear-gradient(top,#ebebeb 0,#f5f5f5 100%);background-image:-webkit-gradient(linear,left top,left bottom,from(#ebebeb),to(#f5f5f5));background-image:linear-gradient(to bottom,#ebebeb 0,#f5f5f5 100%);filter:progid:DXImageTransform.Microsoft.gradient(startColorstr=&#x27;#ffebebeb&#x27;, endColorstr=&#x27;#fff5f5f5&#x27;, GradientType=0);background-repeat:repeat-x}.progress-bar{background-image:-webkit-linear-gradient(top,#337ab7 0,#286090 100%);background-image:-o-linear-gradient(top,#337ab7 0,#286090 100%);background-image:-webkit-gradient(linear,left top,left bottom,from(#337ab7),to(#286090));background-image:linear-gradient(to bottom,#337ab7 0,#286090 100%);filter:progid:DXImageTransform.Microsoft.gradient(startColorstr=&#x27;#ff337ab7&#x27;, endColorstr=&#x27;#ff286090&#x27;, GradientType=0);background-repeat:repeat-x}.progress-bar-success{background-image:-webkit-linear-gradient(top,#5cb85c 0,#449d44 100%);background-image:-o-linear-gradient(top,#5cb85c 0,#449d44 100%);background-image:-webkit-gradient(linear,left top,left bottom,from(#5cb85c),to(#449d44));background-image:linear-gradient(to bottom,#5cb85c 0,#449d44 100%);filter:progid:DXImageTransform.Microsoft.gradient(startColorstr=&#x27;#ff5cb85c&#x27;, endColorstr=&#x27;#ff449d44&#x27;, GradientType=0);background-repeat:repeat-x}.progress-bar-info{background-image:-webkit-linear-gradient(top,#5bc0de 0,#31b0d5 100%);background-image:-o-linear-gradient(top,#5bc0de 0,#31b0d5 100%);background-image:-webkit-gradient(linear,left top,left bottom,from(#5bc0de),to(#31b0d5));background-image:linear-gradient(to bottom,#5bc0de 0,#31b0d5 100%);filter:progid:DXImageTransform.Microsoft.gradient(startColorstr=&#x27;#ff5bc0de&#x27;, endColorstr=&#x27;#ff31b0d5&#x27;, GradientType=0);background-repeat:repeat-x}.progress-bar-warning{background-image:-webkit-linear-gradient(top,#f0ad4e 0,#ec971f 100%);background-image:-o-linear-gradient(top,#f0ad4e 0,#ec971f 100%);background-image:-webkit-gradient(linear,left top,left bottom,from(#f0ad4e),to(#ec971f));background-image:linear-gradient(to bottom,#f0ad4e 0,#ec971f 100%);filter:progid:DXImageTransform.Microsoft.gradient(startColorstr=&#x27;#fff0ad4e&#x27;, endColorstr=&#x27;#ffec971f&#x27;, GradientType=0);background-repeat:repeat-x}.progress-bar-danger{background-image:-webkit-linear-gradient(top,#d9534f 0,#c9302c 100%);background-image:-o-linear-gradient(top,#d9534f 0,#c9302c 100%);background-image:-webkit-gradient(linear,left top,left bottom,from(#d9534f),to(#c9302c));background-image:linear-gradient(to bottom,#d9534f 0,#c9302c 100%);filter:progid:DXImageTransform.Microsoft.gradient(startColorstr=&#x27;#ffd9534f&#x27;, endColorstr=&#x27;#ffc9302c&#x27;, GradientType=0);background-repeat:repeat-x}.progress-bar-striped{background-image:-webkit-linear-gradient(45deg,rgba(255,255,255,.15) 25%,transparent 25%,transparent 50%,rgba(255,255,255,.15) 50%,rgba(255,255,255,.15) 75%,transparent 75%,transparent);background-image:-o-linear-gradient(45deg,rgba(255,255,255,.15) 25%,transparent 25%,transparent 50%,rgba(255,255,255,.15) 50%,rgba(255,255,255,.15) 75%,transparent 75%,transparent);background-image:linear-gradient(45deg,rgba(255,255,255,.15) 25%,transparent 25%,transparent 50%,rgba(255,255,255,.15) 50%,rgba(255,255,255,.15) 75%,transparent 75%,transparent)}.list-group{border-radius:4px;-webkit-box-shadow:0 1px 2px rgba(0,0,0,.075);box-shadow:0 1px 2px rgba(0,0,0,.075)}.list-group-item.active,.list-group-item.active:focus,.list-group-item.active:hover{text-shadow:0 -1px 0 #286090;background-image:-webkit-linear-gradient(top,#337ab7 0,#2b669a 100%);background-image:-o-linear-gradient(top,#337ab7 0,#2b669a 100%);background-image:-webkit-gradient(linear,left top,left bottom,from(#337ab7),to(#2b669a));background-image:linear-gradient(to bottom,#337ab7 0,#2b669a 100%);filter:progid:DXImageTransform.Microsoft.gradient(startColorstr=&#x27;#ff337ab7&#x27;, endColorstr=&#x27;#ff2b669a&#x27;, GradientType=0);background-repeat:repeat-x;border-color:#2b669a}.list-group-item.active .badge,.list-group-item.active:focus .badge,.list-group-item.active:hover .badge{text-shadow:none}.panel{-webkit-box-shadow:0 1px 2px rgba(0,0,0,.05);box-shadow:0 1px 2px rgba(0,0,0,.05)}.panel-default&gt;.panel-heading{background-image:-webkit-linear-gradient(top,#f5f5f5 0,#e8e8e8 100%);background-image:-o-linear-gradient(top,#f5f5f5 0,#e8e8e8 100%);background-image:-webkit-gradient(linear,left top,left bottom,from(#f5f5f5),to(#e8e8e8));background-image:linear-gradient(to bottom,#f5f5f5 0,#e8e8e8 100%);filter:progid:DXImageTransform.Microsoft.gradient(startColorstr=&#x27;#fff5f5f5&#x27;, endColorstr=&#x27;#ffe8e8e8&#x27;, GradientType=0);background-repeat:repeat-x}.panel-primary&gt;.panel-heading{background-image:-webkit-linear-gradient(top,#337ab7 0,#2e6da4 100%);background-image:-o-linear-gradient(top,#337ab7 0,#2e6da4 100%);background-image:-webkit-gradient(linear,left top,left bottom,from(#337ab7),to(#2e6da4));background-image:linear-gradient(to bottom,#337ab7 0,#2e6da4 100%);filter:progid:DXImageTransform.Microsoft.gradient(startColorstr=&#x27;#ff337ab7&#x27;, endColorstr=&#x27;#ff2e6da4&#x27;, GradientType=0);background-repeat:repeat-x}.panel-success&gt;.panel-heading{background-image:-webkit-linear-gradient(top,#dff0d8 0,#d0e9c6 100%);background-image:-o-linear-gradient(top,#dff0d8 0,#d0e9c6 100%);background-image:-webkit-gradient(linear,left top,left bottom,from(#dff0d8),to(#d0e9c6));background-image:linear-gradient(to bottom,#dff0d8 0,#d0e9c6 100%);filter:progid:DXImageTransform.Microsoft.gradient(startColorstr=&#x27;#ffdff0d8&#x27;, endColorstr=&#x27;#ffd0e9c6&#x27;, GradientType=0);background-repeat:repeat-x}.panel-info&gt;.panel-heading{background-image:-webkit-linear-gradient(top,#d9edf7 0,#c4e3f3 100%);background-image:-o-linear-gradient(top,#d9edf7 0,#c4e3f3 100%);background-image:-webkit-gradient(linear,left top,left bottom,from(#d9edf7),to(#c4e3f3));background-image:linear-gradient(to bottom,#d9edf7 0,#c4e3f3 100%);filter:progid:DXImageTransform.Microsoft.gradient(startColorstr=&#x27;#ffd9edf7&#x27;, endColorstr=&#x27;#ffc4e3f3&#x27;, GradientType=0);background-repeat:repeat-x}.panel-warning&gt;.panel-heading{background-image:-webkit-linear-gradient(top,#fcf8e3 0,#faf2cc 100%);background-image:-o-linear-gradient(top,#fcf8e3 0,#faf2cc 100%);background-image:-webkit-gradient(linear,left top,left bottom,from(#fcf8e3),to(#faf2cc));background-image:linear-gradient(to bottom,#fcf8e3 0,#faf2cc 100%);filter:progid:DXImageTransform.Microsoft.gradient(startColorstr=&#x27;#fffcf8e3&#x27;, endColorstr=&#x27;#fffaf2cc&#x27;, GradientType=0);background-repeat:repeat-x}.panel-danger&gt;.panel-heading{background-image:-webkit-linear-gradient(top,#f2dede 0,#ebcccc 100%);background-image:-o-linear-gradient(top,#f2dede 0,#ebcccc 100%);background-image:-webkit-gradient(linear,left top,left bottom,from(#f2dede),to(#ebcccc));background-image:linear-gradient(to bottom,#f2dede 0,#ebcccc 100%);filter:progid:DXImageTransform.Microsoft.gradient(startColorstr=&#x27;#fff2dede&#x27;, endColorstr=&#x27;#ffebcccc&#x27;, GradientType=0);background-repeat:repeat-x}.well{background-image:-webkit-linear-gradient(top,#e8e8e8 0,#f5f5f5 100%);background-image:-o-linear-gradient(top,#e8e8e8 0,#f5f5f5 100%);background-image:-webkit-gradient(linear,left top,left bottom,from(#e8e8e8),to(#f5f5f5));background-image:linear-gradient(to bottom,#e8e8e8 0,#f5f5f5 100%);filter:progid:DXImageTransform.Microsoft.gradient(startColorstr=&#x27;#ffe8e8e8&#x27;, endColorstr=&#x27;#fff5f5f5&#x27;, GradientType=0);background-repeat:repeat-x;border-color:#dcdcdc;-webkit-box-shadow:inset 0 1px 3px rgba(0,0,0,.05),0 1px 0 rgba(255,255,255,.1);box-shadow:inset 0 1px 3px rgba(0,0,0,.05),0 1px 0 rgba(255,255,255,.1)}\n",
       "/*# sourceMappingURL=bootstrap-theme.min.css.map */        &lt;/style&gt;&lt;style&gt;body {\n",
       "  padding-top: 80px;\n",
       "}\n",
       ".content .container-fluid{\n",
       "    margin-left: 20px !important;\n",
       "    margin-right: 20px !important;\n",
       "    margin-bottom: 20px;\n",
       "}\n",
       "\n",
       ".page-header{\n",
       "    border:0 !important;\n",
       "}\n",
       "\n",
       ".row.variable, .section-items &gt; .row {\n",
       "    border: 1px solid #e1e1e8;\n",
       "    border-top: hidden;\n",
       "}\n",
       "\n",
       ".row.spacing{\n",
       "    padding: 2em 1em;\n",
       "}\n",
       "\n",
       ".row.header {\n",
       "    border-bottom: 1px solid #e1e1e8;\n",
       "    /*background-color: #f5f5f5;*/\n",
       "    padding-left: 2em;\n",
       "}\n",
       "\n",
       "\n",
       ".dl-horizontal dt {\n",
       "    text-align: left;\n",
       "    padding-right: 1em;\n",
       "    white-space: normal;\n",
       "}\n",
       "\n",
       ".dl-horizontal dd {\n",
       "    margin-left: 0;\n",
       "}\n",
       "\n",
       ".col-md-12 {\n",
       "    padding-left: 2em;\n",
       "}\n",
       "\n",
       ".indent {\n",
       "    margin-left: 1em;\n",
       "}\n",
       "\n",
       ".center-img {\n",
       "    margin-left: auto !important;\n",
       "    margin-right: auto !important;\n",
       "    display: block;\n",
       "}\n",
       "\n",
       "/* Table example_values */\n",
       "table.example_values {\n",
       "    border: 0;\n",
       "}\n",
       "\n",
       ".example_values th {\n",
       "    border: 0;\n",
       "    padding: 0;\n",
       "    color: #555;\n",
       "    font-weight: 600;\n",
       "}\n",
       "\n",
       ".example_values tr, .example_values td {\n",
       "    border: 0;\n",
       "    padding: 0;\n",
       "    color: #555;\n",
       "}\n",
       "\n",
       "/* STATS */\n",
       "table.stats, table.sample, table.duplicate{\n",
       "    border: 0;\n",
       "}\n",
       "\n",
       ".stats tr, .sample tr, .duplicate tr {\n",
       "    border: 0;\n",
       "}\n",
       "\n",
       ".stats th, .stats td{\n",
       "    color: #555;\n",
       "    border: 0;\n",
       "}\n",
       "\n",
       ".stats th {\n",
       "    padding: 0 2em 0 0;\n",
       "    font-weight: 600;\n",
       "}\n",
       "\n",
       ".stats td {\n",
       "    padding: 1px;\n",
       "}\n",
       "\n",
       "\n",
       "/* Sample table */\n",
       "table.sample, table.duplicate{\n",
       "    margin-bottom: 2em;\n",
       "    margin-left: 1em;\n",
       "}\n",
       "\n",
       ".sample td, .sample th, .duplicate td, .duplicate th {\n",
       "    padding: 0.5em;\n",
       "    white-space: nowrap;\n",
       "    border: 0;\n",
       "\n",
       "}\n",
       "\n",
       ".sample thead, .duplicate thead {\n",
       "    border-top: 0;\n",
       "    border-bottom: 2px solid #ddd;\n",
       "}\n",
       "\n",
       ".sample td, .duplicate td {\n",
       "    width: 100%;\n",
       "}\n",
       "\n",
       "\n",
       "/* There is no good solution available to make the divs equal height and then center ... */\n",
       ".histogram {\n",
       "    margin-top: 3em;\n",
       "}\n",
       "\n",
       "/* Freq table */\n",
       "table.freq {\n",
       "    margin-bottom: 2em;\n",
       "    border: 0;\n",
       "}\n",
       "\n",
       "table.freq th, table.freq tr, table.freq td {\n",
       "    border: 0;\n",
       "    padding: 0;\n",
       "}\n",
       "\n",
       ".freq thead {\n",
       "    font-weight: 600;\n",
       "    white-space: nowrap;\n",
       "    overflow: hidden;\n",
       "    text-overflow: ellipsis;\n",
       "\n",
       "}\n",
       "\n",
       "/* Freq mini */\n",
       ".freq.mini td {\n",
       "    width: 50%;\n",
       "    padding: 1px;\n",
       "    font-size: 12px;\n",
       "\n",
       "}\n",
       "\n",
       "table.freq.mini {\n",
       "    width: 100%;\n",
       "}\n",
       "\n",
       ".freq.mini th {\n",
       "    overflow: hidden;\n",
       "    text-overflow: ellipsis;\n",
       "    white-space: nowrap;\n",
       "    max-width: 5em;\n",
       "    font-weight: 400;\n",
       "    text-align: right;\n",
       "    padding-right: 0.5em;\n",
       "}\n",
       "\n",
       "/* Message classes */\n",
       ".missing {\n",
       "    color: #a94442;\n",
       "}\n",
       "\n",
       ".alert, .alert &gt; th, .alert &gt; td {\n",
       "    color: #a94442;\n",
       "}\n",
       "\n",
       ".ignore {\n",
       "    opacity: 0.4;\n",
       "}\n",
       "\n",
       "/* Bars in tables */\n",
       ".freq.table{\n",
       "    table-layout: fixed;\n",
       "}\n",
       "\n",
       ".freq:not(.mini) tr td:nth-child(1), .freq:not(.mini) tr th:nth-child(1){\n",
       "    width: auto;\n",
       "    max-width: none;\n",
       "\n",
       "    white-space: nowrap;\n",
       "    overflow: hidden;\n",
       "    text-overflow: ellipsis;\n",
       "}\n",
       "\n",
       ".freq:not(.mini) tr td:nth-child(2), .freq:not(.mini) tr td:nth-child(3), .freq:not(.mini) tr th:nth-child(2), .freq:not(.mini) tr th:nth-child(3){\n",
       "    width: 100px;\n",
       "    text-align: right;\n",
       "}\n",
       ".freq:not(.mini) tr td:nth-child(4), .freq:not(.mini) tr th:nth-child(4){\n",
       "    width:200px;\n",
       "}\n",
       "\n",
       ".freq .bar {\n",
       "    float: left;\n",
       "    width: 0;\n",
       "    height: 100%;\n",
       "    line-height: 20px;\n",
       "    color: #fff;\n",
       "    text-align: center;\n",
       "    background-color: #337ab7;\n",
       "    border-radius: 3px;\n",
       "    margin-right: 4px;\n",
       "}\n",
       "\n",
       ".other .bar {\n",
       "    background-color: #999;\n",
       "}\n",
       "\n",
       ".missing .bar {\n",
       "    background-color: #a94442;\n",
       "}\n",
       "\n",
       ".tooltip-inner {\n",
       "    width: 100%;\n",
       "    white-space: nowrap;\n",
       "    text-align: left;\n",
       "}\n",
       "\n",
       ".extrapadding {\n",
       "    padding: 2em;\n",
       "}\n",
       "\n",
       ".variable .h4 {\n",
       "    text-overflow: ellipsis;\n",
       "    display:inline-block;\n",
       "    width: calc(90%); /* The trick is here! */\n",
       "    overflow:hidden;\n",
       "}\n",
       "\n",
       ".variable.ignore .h4{\n",
       "    text-decoration: line-through;\n",
       "}\n",
       "\n",
       ".table-responsive{\n",
       "    overflow: scroll;\n",
       "    width: 100%;\n",
       "    overflow-y: hidden;\n",
       "}\n",
       ".img-responsive{\n",
       "    max-width: 99%;\n",
       "}\n",
       ".footer-text{\n",
       "    padding:20px;\n",
       "}\n",
       "\n",
       "table.list-warnings td{\n",
       "    padding-right:10px;\n",
       "}\n",
       "\n",
       "a.anchor-pos {\n",
       "    display: block;\n",
       "    position: relative;\n",
       "    top: -70px;\n",
       "    visibility: hidden;\n",
       "}\n",
       "\n",
       "a.anchor-pos-variable{\n",
       "    /*top: -70px;*/\n",
       "}\n",
       "\n",
       "#sample-container, #duplicate-container{\n",
       "    overflow: auto;\n",
       "    width: 100%;\n",
       "    overflow-y: hidden;\n",
       "}\n",
       "\n",
       "#overview-content td, #overview-content th{\n",
       "    border-top: 0;\n",
       "    line-height: 1;\n",
       "}\n",
       "\n",
       ".variable-description{\n",
       "    color: #777;\n",
       "    font-size: 10pt;\n",
       "    margin-top: 10px;\n",
       "    font-style: italic;\n",
       "}\n",
       "\n",
       "select.multiple{\n",
       "    width: 180px;\n",
       "    height: 500px;\n",
       "    margin: 10px 0;\n",
       "}\n",
       "\n",
       ".named-list-item{\n",
       "    padding: 1em;\n",
       "}\n",
       "\n",
       "/* not printing tabs */\n",
       "@media print {\n",
       "    .tab-content &gt; .tab-pane, .collapse {\n",
       "        display: block !important;\n",
       "        opacity: 1 !important;\n",
       "        visibility: visible !important;\n",
       "        /*page-break-after: always;*/\n",
       "        page-break-after: right;\n",
       "        page-break-before: avoid;\n",
       "    }\n",
       "\n",
       "    .nav-pills, .nav-tabs, button[data-toggle=&quot;collapse&quot;], .mini, .col-sm-3 img {\n",
       "        display:none !important;\n",
       "    }\n",
       "\n",
       "    a[download=&quot;config.yml&quot;]:after {\n",
       "        content: none !important;\n",
       "    }\n",
       "\n",
       "    .row {\n",
       "        border: 0 !important;\n",
       "    }\n",
       "}&lt;/style&gt;&lt;/head&gt;&lt;body&gt;&lt;a class=anchor-pos id=top&gt;&lt;/a&gt;&lt;nav class=&quot;navbar navbar-default navbar-fixed-top&quot;&gt;&lt;div class=container-fluid&gt;&lt;div class=navbar-header&gt;&lt;button type=button class=&quot;navbar-toggle collapsed&quot; data-toggle=collapse data-target=#navbar aria-expanded=false aria-controls=navbar&gt;&lt;span class=sr-only&gt;Toggle navigation&lt;/span&gt;&lt;span class=icon-bar&gt;&lt;/span&gt;&lt;span class=icon-bar&gt;&lt;/span&gt;&lt;span class=icon-bar&gt;&lt;/span&gt;&lt;/button&gt;&lt;a class=&quot;navbar-brand anchor&quot; href=#top&gt;Pandas Profiling Reporte&lt;/a&gt;&lt;/div&gt;&lt;div id=navbar class=&quot;navbar-collapse collapse&quot;&gt;&lt;ul class=&quot;nav navbar-nav navbar-right&quot;&gt;&lt;li&gt;&lt;a class=anchor href=#overview&gt;Overview&lt;/a&gt;&lt;/li&gt;&lt;li&gt;&lt;a class=anchor href=#variables&gt;Variables&lt;/a&gt;&lt;/li&gt;&lt;/ul&gt;&lt;/div&gt;&lt;/div&gt;&lt;/nav&gt;&lt;div class=content&gt;&lt;div class=container&gt;&lt;div class=&quot;row header&quot;&gt;&lt;a class=anchor-pos id=overview&gt;&lt;/a&gt;&lt;h1 class=page-header&gt;Overview&lt;/h1&gt;&lt;/div&gt;&lt;div class=section-items&gt;&lt;div class=&quot;row spacing&quot;&gt;&lt;ul class=&quot;nav nav-pills&quot; role=tablist&gt;&lt;li role=presentation class=active&gt;&lt;a href=#overview-dataset_overview aria-controls=overview-dataset_overview role=tab data-toggle=tab&gt;Overview&lt;/a&gt;&lt;/li&gt;&lt;li role=presentation&gt;&lt;a href=#overview-reproduction aria-controls=overview-reproduction role=tab data-toggle=tab&gt;Reproduction&lt;/a&gt;&lt;/li&gt;&lt;li role=presentation&gt;&lt;a href=#overview-warnings aria-controls=overview-warnings role=tab data-toggle=tab&gt;Warnings &lt;span class=badge&gt;5&lt;/span&gt;&lt;/a&gt;&lt;/li&gt;&lt;/ul&gt;&lt;div class=tab-content style=&quot;padding-top: 10px;&quot;&gt;&lt;div role=tabpanel class=&quot;tab-pane col-sm-12 active&quot; id=overview-dataset_overview&gt;&lt;div class=col-sm-6&gt;&lt;p class=h4&gt;Dataset statistics&lt;/p&gt;&lt;table class=&quot;table table-condensed stats&quot;&gt;&lt;tbody&gt;&lt;tr&gt;&lt;th&gt;Number of variables&lt;/th&gt;&lt;td&gt;6&lt;/td&gt;&lt;/tr&gt;&lt;tr&gt;&lt;th&gt;Number of observations&lt;/th&gt;&lt;td&gt;903604&lt;/td&gt;&lt;/tr&gt;&lt;tr&gt;&lt;th&gt;Missing cells&lt;/th&gt;&lt;td&gt;0&lt;/td&gt;&lt;/tr&gt;&lt;tr&gt;&lt;th&gt;Missing cells (%)&lt;/th&gt;&lt;td&gt;0.0%&lt;/td&gt;&lt;/tr&gt;&lt;tr&gt;&lt;th&gt;Duplicate rows&lt;/th&gt;&lt;td&gt;0&lt;/td&gt;&lt;/tr&gt;&lt;tr&gt;&lt;th&gt;Duplicate rows (%)&lt;/th&gt;&lt;td&gt;0.0%&lt;/td&gt;&lt;/tr&gt;&lt;tr&gt;&lt;th&gt;Total size in memory&lt;/th&gt;&lt;td&gt;41.4 MiB&lt;/td&gt;&lt;/tr&gt;&lt;tr&gt;&lt;th&gt;Average record size in memory&lt;/th&gt;&lt;td&gt;48.0 B&lt;/td&gt;&lt;/tr&gt;&lt;/tbody&gt;&lt;/table&gt;&lt;/div&gt;&lt;div class=col-sm-6&gt;&lt;p class=h4&gt;Variable types&lt;/p&gt;&lt;table class=&quot;table table-condensed stats&quot;&gt;&lt;tbody&gt;&lt;tr&gt;&lt;th&gt;CAT&lt;/th&gt;&lt;td&gt;4&lt;/td&gt;&lt;/tr&gt;&lt;tr&gt;&lt;th&gt;BOOL&lt;/th&gt;&lt;td&gt;1&lt;/td&gt;&lt;/tr&gt;&lt;tr&gt;&lt;th&gt;NUM&lt;/th&gt;&lt;td&gt;1&lt;/td&gt;&lt;/tr&gt;&lt;/tbody&gt;&lt;/table&gt;&lt;/div&gt;&lt;/div&gt;&lt;div role=tabpanel class=&quot;tab-pane col-sm-12&quot; id=overview-reproduction&gt;&lt;p class=h4&gt;Reproduction&lt;/p&gt;&lt;table class=&quot;table table-condensed stats&quot;&gt;&lt;tbody&gt;&lt;tr&gt;&lt;th&gt;Analysis started&lt;/th&gt;&lt;td&gt;2021-03-04 22:51:26.673442&lt;/td&gt;&lt;/tr&gt;&lt;tr&gt;&lt;th&gt;Analysis finished&lt;/th&gt;&lt;td&gt;2021-03-04 22:51:35.892222&lt;/td&gt;&lt;/tr&gt;&lt;tr&gt;&lt;th&gt;Duration&lt;/th&gt;&lt;td&gt;9.22 seconds&lt;/td&gt;&lt;/tr&gt;&lt;tr&gt;&lt;th&gt;Version&lt;/th&gt;&lt;td&gt;&lt;a href=https://github.com/pandas-profiling/pandas-profiling&gt;pandas-profiling v2.8.0&lt;/a&gt;&lt;/td&gt;&lt;/tr&gt;&lt;tr&gt;&lt;th&gt;Command line&lt;/th&gt;&lt;td&gt;&lt;code&gt;pandas_profiling --config_file config.yaml [YOUR_FILE.csv]&lt;/code&gt;&lt;/td&gt;&lt;/tr&gt;&lt;tr&gt;&lt;th&gt;Download configuration&lt;/th&gt;&lt;td&gt;&lt;a download=config.yaml href=&quot;data:text/plain;charset=utf-8,title%3A%20Pandas%20Profiling%20Reporte%0Apool_size%3A%200%0Aprogress_bar%3A%20yes%0Avariables%3A%0A%20%20%20%20descriptions%3A%20%7B%7D%0Avars%3A%0A%20%20%20%20num%3A%0A%20%20%20%20%20%20%20%20quantiles%3A%0A%20%20%20%20%20%20%20%20-%200.05%0A%20%20%20%20%20%20%20%20-%200.25%0A%20%20%20%20%20%20%20%20-%200.5%0A%20%20%20%20%20%20%20%20-%200.75%0A%20%20%20%20%20%20%20%20-%200.95%0A%20%20%20%20%20%20%20%20skewness_threshold%3A%2020%0A%20%20%20%20%20%20%20%20low_categorical_threshold%3A%205%0A%20%20%20%20%20%20%20%20chi_squared_threshold%3A%200.0%0A%20%20%20%20cat%3A%0A%20%20%20%20%20%20%20%20length%3A%20no%0A%20%20%20%20%20%20%20%20unicode%3A%20no%0A%20%20%20%20%20%20%20%20cardinality_threshold%3A%2050%0A%20%20%20%20%20%20%20%20n_obs%3A%205%0A%20%20%20%20%20%20%20%20chi_squared_threshold%3A%200.0%0A%20%20%20%20%20%20%20%20coerce_str_to_date%3A%20no%0A%20%20%20%20bool%3A%0A%20%20%20%20%20%20%20%20n_obs%3A%203%0A%20%20%20%20file%3A%0A%20%20%20%20%20%20%20%20active%3A%20no%0A%20%20%20%20image%3A%0A%20%20%20%20%20%20%20%20active%3A%20no%0A%20%20%20%20%20%20%20%20exif%3A%20no%0A%20%20%20%20%20%20%20%20hash%3A%20no%0Asort%3A%20None%0Amissing_diagrams%3A%0A%20%20%20%20bar%3A%20no%0A%20%20%20%20matrix%3A%20no%0A%20%20%20%20heatmap%3A%20no%0A%20%20%20%20dendrogram%3A%20no%0Acorrelations%3A%0A%20%20%20%20pearson%3A%0A%20%20%20%20%20%20%20%20calculate%3A%20no%0A%20%20%20%20%20%20%20%20warn_high_correlations%3A%20yes%0A%20%20%20%20%20%20%20%20threshold%3A%200.9%0A%20%20%20%20spearman%3A%0A%20%20%20%20%20%20%20%20calculate%3A%20no%0A%20%20%20%20%20%20%20%20warn_high_correlations%3A%20no%0A%20%20%20%20kendall%3A%0A%20%20%20%20%20%20%20%20calculate%3A%20no%0A%20%20%20%20%20%20%20%20warn_high_correlations%3A%20no%0A%20%20%20%20phi_k%3A%0A%20%20%20%20%20%20%20%20calculate%3A%20no%0A%20%20%20%20%20%20%20%20warn_high_correlations%3A%20no%0A%20%20%20%20cramers%3A%0A%20%20%20%20%20%20%20%20calculate%3A%20no%0A%20%20%20%20%20%20%20%20warn_high_correlations%3A%20yes%0A%20%20%20%20%20%20%20%20threshold%3A%200.9%0A%20%20%20%20recoded%3A%0A%20%20%20%20%20%20%20%20calculate%3A%20no%0A%20%20%20%20%20%20%20%20warn_high_correlations%3A%20no%0A%20%20%20%20%20%20%20%20threshold%3A%200.0%0Ainteractions%3A%0A%20%20%20%20targets%3A%20%5B%5D%0A%20%20%20%20continuous%3A%20no%0Acategorical_maximum_correlation_distinct%3A%20100%0Aplot%3A%0A%20%20%20%20image_format%3A%20svg%0A%20%20%20%20dpi%3A%20800%0A%20%20%20%20scatter_threshold%3A%201000%0A%20%20%20%20correlation%3A%0A%20%20%20%20%20%20%20%20cmap%3A%20bwr%0A%20%20%20%20%20%20%20%20bad%3A%20%27%23000000%27%0A%20%20%20%20missing%3A%0A%20%20%20%20%20%20%20%20cmap%3A%20RdBu%0A%20%20%20%20%20%20%20%20force_labels%3A%20yes%0A%20%20%20%20histogram%3A%0A%20%20%20%20%20%20%20%20bayesian_blocks_bins%3A%20no%0A%20%20%20%20%20%20%20%20bins%3A%2050%0An_obs_unique%3A%205%0An_extreme_obs%3A%205%0An_freq_table_max%3A%2010%0Aduplicates%3A%0A%20%20%20%20head%3A%200%0Asamples%3A%0A%20%20%20%20head%3A%200%0A%20%20%20%20tail%3A%200%0Areject_variables%3A%20yes%0Amemory_deep%3A%20no%0Anotebook%3A%0A%20%20%20%20iframe%3A%0A%20%20%20%20%20%20%20%20height%3A%20800px%0A%20%20%20%20%20%20%20%20width%3A%20100%25%0A%20%20%20%20%20%20%20%20attribute%3A%20srcdoc%0Ahtml%3A%0A%20%20%20%20minify_html%3A%20yes%0A%20%20%20%20use_local_assets%3A%20yes%0A%20%20%20%20inline%3A%20yes%0A%20%20%20%20navbar_show%3A%20yes%0A%20%20%20%20file_name%3A%20None%0A%20%20%20%20style%3A%0A%20%20%20%20%20%20%20%20theme%3A%20None%0A%20%20%20%20%20%20%20%20logo%3A%20%27%27%0A%20%20%20%20%20%20%20%20primary_color%3A%20%27%23337ab7%27%0A%20%20%20%20%20%20%20%20full_width%3A%20no%0A&quot;&gt;config.yaml&lt;/a&gt;&lt;/td&gt;&lt;/tr&gt;&lt;/tbody&gt;&lt;/table&gt;&lt;/div&gt;&lt;div role=tabpanel class=&quot;tab-pane col-sm-12&quot; id=overview-warnings&gt;&lt;table class=&quot;table table-condensed list-warnings&quot;&gt;&lt;p class=h4&gt;Warnings&lt;/p&gt;&lt;tr style=border-top:0&gt;&lt;td&gt;&lt;a class=anchor href=#pp_var_-4159712998347691432&gt;&lt;code&gt;conversation id&lt;/code&gt;&lt;/a&gt; has a high cardinality: 66927 distinct values &lt;/td&gt;&lt;td&gt;&lt;span class=&quot;label label-primary&quot;&gt;High cardinality&lt;/span&gt;&lt;/td&gt;&lt;/tr&gt;&lt;tr&gt;&lt;td&gt;&lt;a class=anchor href=#pp_var_-5708140981792338018&gt;&lt;code&gt;author id&lt;/code&gt;&lt;/a&gt; has a high cardinality: 97689 distinct values &lt;/td&gt;&lt;td&gt;&lt;span class=&quot;label label-primary&quot;&gt;High cardinality&lt;/span&gt;&lt;/td&gt;&lt;/tr&gt;&lt;tr&gt;&lt;td&gt;&lt;a class=anchor href=#pp_var_3299046686589737059&gt;&lt;code&gt;msg&lt;/code&gt;&lt;/a&gt; has a high cardinality: 599163 distinct values &lt;/td&gt;&lt;td&gt;&lt;span class=&quot;label label-primary&quot;&gt;High cardinality&lt;/span&gt;&lt;/td&gt;&lt;/tr&gt;&lt;tr&gt;&lt;td&gt;&lt;a class=anchor href=#pp_var_4192156490120416376&gt;&lt;code&gt;time&lt;/code&gt;&lt;/a&gt; has a high cardinality: 1440 distinct values &lt;/td&gt;&lt;td&gt;&lt;span class=&quot;label label-primary&quot;&gt;High cardinality&lt;/span&gt;&lt;/td&gt;&lt;/tr&gt;&lt;tr&gt;&lt;td&gt;&lt;a class=anchor href=#pp_var_7367157294735650376&gt;&lt;code&gt;Unnamed: 0&lt;/code&gt;&lt;/a&gt; has unique values &lt;/td&gt;&lt;td&gt;&lt;span class=&quot;label label-primary&quot;&gt;Unique&lt;/span&gt;&lt;/td&gt;&lt;/tr&gt;&lt;/table&gt;&lt;/div&gt;&lt;/div&gt;&lt;/div&gt;&lt;/div&gt;&lt;div class=&quot;row header&quot;&gt;&lt;a class=anchor-pos id=variables&gt;&lt;/a&gt;&lt;h1 class=page-header&gt;Variables&lt;/h1&gt;&lt;/div&gt;&lt;div class=section-items&gt;&lt;div class=&quot;row spacing&quot;&gt;&lt;a class=&quot;anchor-pos anchor-pos-variable&quot; id=pp_var_7367157294735650376&gt;&lt;/a&gt;&lt;div class=variable&gt;&lt;div class=col-sm-3&gt;&lt;p class=h4 title=&quot;Unnamed: 0&quot;&gt;&lt;a href=#pp_var_7367157294735650376&gt;Unnamed: 0&lt;/a&gt;&lt;br&gt;&lt;small&gt;Real number (&amp;Ropf;&lt;sub&gt;&amp;ge;0&lt;/sub&gt;)&lt;/small&gt;&lt;/p&gt;&lt;code&gt;UNIQUE&lt;/code&gt;&lt;br&gt;&lt;p class=variable-description&gt;&lt;/p&gt;&lt;/div&gt;&lt;div class=col-sm-3&gt;&lt;table class=&quot;table table-condensed stats&quot;&gt;&lt;tbody&gt;&lt;tr class=alert&gt;&lt;th&gt;Distinct count&lt;/th&gt;&lt;td&gt;903604&lt;/td&gt;&lt;/tr&gt;&lt;tr class=alert&gt;&lt;th&gt;Unique (%)&lt;/th&gt;&lt;td&gt;100.0%&lt;/td&gt;&lt;/tr&gt;&lt;tr&gt;&lt;th&gt;Missing&lt;/th&gt;&lt;td&gt;0&lt;/td&gt;&lt;/tr&gt;&lt;tr&gt;&lt;th&gt;Missing (%)&lt;/th&gt;&lt;td&gt;0.0%&lt;/td&gt;&lt;/tr&gt;&lt;tr&gt;&lt;th&gt;Infinite&lt;/th&gt;&lt;td&gt;0&lt;/td&gt;&lt;/tr&gt;&lt;tr&gt;&lt;th&gt;Infinite (%)&lt;/th&gt;&lt;td&gt;0.0%&lt;/td&gt;&lt;/tr&gt;&lt;/tbody&gt;&lt;/table&gt;&lt;/div&gt;&lt;div class=col-sm-3&gt;&lt;table class=&quot;table table-condensed stats&quot;&gt;&lt;tbody&gt;&lt;tr&gt;&lt;th&gt;Mean&lt;/th&gt;&lt;td&gt;451803.18462733674&lt;/td&gt;&lt;/tr&gt;&lt;tr&gt;&lt;th&gt;Minimum&lt;/th&gt;&lt;td&gt;0&lt;/td&gt;&lt;/tr&gt;&lt;tr&gt;&lt;th&gt;Maximum&lt;/th&gt;&lt;td&gt;903606&lt;/td&gt;&lt;/tr&gt;&lt;tr&gt;&lt;th&gt;Zeros&lt;/th&gt;&lt;td&gt;1&lt;/td&gt;&lt;/tr&gt;&lt;tr&gt;&lt;th&gt;Zeros (%)&lt;/th&gt;&lt;td&gt;&lt; 0.1%&lt;/td&gt;&lt;/tr&gt;&lt;tr&gt;&lt;th&gt;Memory size&lt;/th&gt;&lt;td&gt;6.9 MiB&lt;/td&gt;&lt;/tr&gt;&lt;/tbody&gt;&lt;/table&gt;&lt;/div&gt;&lt;div class=col-sm-3&gt;&lt;?xml version=&quot;1.0&quot; encoding=&quot;utf-8&quot; standalone=&quot;no&quot;?&gt;&lt;!DOCTYPE svg class=&quot;img-responsive center-img&quot;PUBLIC &quot;-//W3C//DTD SVG 1.1//EN&quot;\n",
       "  &quot;http://www.w3.org/Graphics/SVG/1.1/DTD/svg11.dtd&quot;&gt;&lt;svg class=&quot;img-responsive center-img&quot; height=108pt version=1.1 viewbox=&quot;0 0 144 108&quot; width=144pt xmlns=http://www.w3.org/2000/svg xmlns:xlink=http://www.w3.org/1999/xlink&gt;&lt;metadata&gt;&lt;rdf:rdf xmlns:cc=http://creativecommons.org/ns# xmlns:dc=http://purl.org/dc/elements/1.1/ xmlns:rdf=http://www.w3.org/1999/02/22-rdf-syntax-ns#&gt;&lt;cc:work&gt;&lt;dc:type rdf:resource=http://purl.org/dc/dcmitype/StillImage /&gt;&lt;dc:date&gt;2021-03-04T22:51:36.464847&lt;/dc:date&gt;&lt;dc:format&gt;image/svg+xml&lt;/dc:format&gt;&lt;dc:creator&gt;&lt;cc:agent&gt;&lt;dc:title&gt;Matplotlib v3.3.3, https://matplotlib.org/&lt;/dc:title&gt;&lt;/cc:agent&gt;&lt;/dc:creator&gt;&lt;/cc:work&gt;&lt;/rdf:rdf&gt;&lt;/metadata&gt;&lt;defs&gt;&lt;style type=text/css&gt;*{stroke-linecap:butt;stroke-linejoin:round;}&lt;/style&gt;&lt;/defs&gt;&lt;g id=figure_1&gt;&lt;g id=patch_1&gt;&lt;path style=fill:#ffffff; d=&quot;M 0 108 \n",
       "L 144 108 \n",
       "L 144 0 \n",
       "L 0 0 \n",
       "z\n",
       "&quot;/&gt;&lt;/g&gt;&lt;g id=axes_1&gt;&lt;g id=patch_2&gt;&lt;path style=fill:#ffffff; d=&quot;M 10.8 56.092505 \n",
       "L 133.2 56.092505 \n",
       "L 133.2 10.8 \n",
       "L 10.8 10.8 \n",
       "z\n",
       "&quot;/&gt;&lt;/g&gt;&lt;g id=matplotlib.axis_1&gt;&lt;g id=xtick_1&gt;&lt;g id=text_1&gt;&lt;g style=fill:#262626; transform=&quot;translate(16.124988 76.990004)rotate(-45)scale(0.08 -0.08)&quot;&gt;&lt;defs&gt;&lt;path id=DejaVuSans-48 d=&quot;M 31.78125 66.40625 \n",
       "Q 24.171875 66.40625 20.328125 58.90625 \n",
       "Q 16.5 51.421875 16.5 36.375 \n",
       "Q 16.5 21.390625 20.328125 13.890625 \n",
       "Q 24.171875 6.390625 31.78125 6.390625 \n",
       "Q 39.453125 6.390625 43.28125 13.890625 \n",
       "Q 47.125 21.390625 47.125 36.375 \n",
       "Q 47.125 51.421875 43.28125 58.90625 \n",
       "Q 39.453125 66.40625 31.78125 66.40625 \n",
       "z\n",
       "M 31.78125 74.21875 \n",
       "Q 44.046875 74.21875 50.515625 64.515625 \n",
       "Q 56.984375 54.828125 56.984375 36.375 \n",
       "Q 56.984375 17.96875 50.515625 8.265625 \n",
       "Q 44.046875 -1.421875 31.78125 -1.421875 \n",
       "Q 19.53125 -1.421875 13.0625 8.265625 \n",
       "Q 6.59375 17.96875 6.59375 36.375 \n",
       "Q 6.59375 54.828125 13.0625 64.515625 \n",
       "Q 19.53125 74.21875 31.78125 74.21875 \n",
       "z\n",
       "&quot;/&gt;&lt;/defs&gt;&lt;use xlink:href=#DejaVuSans-48 /&gt;&lt;/g&gt;&lt;/g&gt;&lt;/g&gt;&lt;g id=xtick_2&gt;&lt;g id=text_2&gt;&lt;g style=fill:#262626; transform=&quot;translate(37.912797 94.985872)rotate(-45)scale(0.08 -0.08)&quot;&gt;&lt;defs&gt;&lt;path id=DejaVuSans-50 d=&quot;M 19.1875 8.296875 \n",
       "L 53.609375 8.296875 \n",
       "L 53.609375 0 \n",
       "L 7.328125 0 \n",
       "L 7.328125 8.296875 \n",
       "Q 12.9375 14.109375 22.625 23.890625 \n",
       "Q 32.328125 33.6875 34.8125 36.53125 \n",
       "Q 39.546875 41.84375 41.421875 45.53125 \n",
       "Q 43.3125 49.21875 43.3125 52.78125 \n",
       "Q 43.3125 58.59375 39.234375 62.25 \n",
       "Q 35.15625 65.921875 28.609375 65.921875 \n",
       "Q 23.96875 65.921875 18.8125 64.3125 \n",
       "Q 13.671875 62.703125 7.8125 59.421875 \n",
       "L 7.8125 69.390625 \n",
       "Q 13.765625 71.78125 18.9375 73 \n",
       "Q 24.125 74.21875 28.421875 74.21875 \n",
       "Q 39.75 74.21875 46.484375 68.546875 \n",
       "Q 53.21875 62.890625 53.21875 53.421875 \n",
       "Q 53.21875 48.921875 51.53125 44.890625 \n",
       "Q 49.859375 40.875 45.40625 35.40625 \n",
       "Q 44.1875 33.984375 37.640625 27.21875 \n",
       "Q 31.109375 20.453125 19.1875 8.296875 \n",
       "z\n",
       "&quot;/&gt;&lt;path id=DejaVuSans-53 d=&quot;M 10.796875 72.90625 \n",
       "L 49.515625 72.90625 \n",
       "L 49.515625 64.59375 \n",
       "L 19.828125 64.59375 \n",
       "L 19.828125 46.734375 \n",
       "Q 21.96875 47.46875 24.109375 47.828125 \n",
       "Q 26.265625 48.1875 28.421875 48.1875 \n",
       "Q 40.625 48.1875 47.75 41.5 \n",
       "Q 54.890625 34.8125 54.890625 23.390625 \n",
       "Q 54.890625 11.625 47.5625 5.09375 \n",
       "Q 40.234375 -1.421875 26.90625 -1.421875 \n",
       "Q 22.3125 -1.421875 17.546875 -0.640625 \n",
       "Q 12.796875 0.140625 7.71875 1.703125 \n",
       "L 7.71875 11.625 \n",
       "Q 12.109375 9.234375 16.796875 8.0625 \n",
       "Q 21.484375 6.890625 26.703125 6.890625 \n",
       "Q 35.15625 6.890625 40.078125 11.328125 \n",
       "Q 45.015625 15.765625 45.015625 23.390625 \n",
       "Q 45.015625 31 40.078125 35.4375 \n",
       "Q 35.15625 39.890625 26.703125 39.890625 \n",
       "Q 22.75 39.890625 18.8125 39.015625 \n",
       "Q 14.890625 38.140625 10.796875 36.28125 \n",
       "z\n",
       "&quot;/&gt;&lt;/defs&gt;&lt;use xlink:href=#DejaVuSans-50 /&gt;&lt;use x=63.623047 xlink:href=#DejaVuSans-53 /&gt;&lt;use x=127.246094 xlink:href=#DejaVuSans-48 /&gt;&lt;use x=190.869141 xlink:href=#DejaVuSans-48 /&gt;&lt;use x=254.492188 xlink:href=#DejaVuSans-48 /&gt;&lt;use x=318.115234 xlink:href=#DejaVuSans-48 /&gt;&lt;/g&gt;&lt;/g&gt;&lt;/g&gt;&lt;g id=xtick_3&gt;&lt;g id=text_3&gt;&lt;g style=fill:#262626; transform=&quot;translate(68.698539 94.985872)rotate(-45)scale(0.08 -0.08)&quot;&gt;&lt;use xlink:href=#DejaVuSans-53 /&gt;&lt;use x=63.623047 xlink:href=#DejaVuSans-48 /&gt;&lt;use x=127.246094 xlink:href=#DejaVuSans-48 /&gt;&lt;use x=190.869141 xlink:href=#DejaVuSans-48 /&gt;&lt;use x=254.492188 xlink:href=#DejaVuSans-48 /&gt;&lt;use x=318.115234 xlink:href=#DejaVuSans-48 /&gt;&lt;/g&gt;&lt;/g&gt;&lt;/g&gt;&lt;g id=xtick_4&gt;&lt;g id=text_4&gt;&lt;g style=fill:#262626; transform=&quot;translate(99.484282 94.985872)rotate(-45)scale(0.08 -0.08)&quot;&gt;&lt;defs&gt;&lt;path id=DejaVuSans-55 d=&quot;M 8.203125 72.90625 \n",
       "L 55.078125 72.90625 \n",
       "L 55.078125 68.703125 \n",
       "L 28.609375 0 \n",
       "L 18.3125 0 \n",
       "L 43.21875 64.59375 \n",
       "L 8.203125 64.59375 \n",
       "z\n",
       "&quot;/&gt;&lt;/defs&gt;&lt;use xlink:href=#DejaVuSans-55 /&gt;&lt;use x=63.623047 xlink:href=#DejaVuSans-53 /&gt;&lt;use x=127.246094 xlink:href=#DejaVuSans-48 /&gt;&lt;use x=190.869141 xlink:href=#DejaVuSans-48 /&gt;&lt;use x=254.492188 xlink:href=#DejaVuSans-48 /&gt;&lt;use x=318.115234 xlink:href=#DejaVuSans-48 /&gt;&lt;/g&gt;&lt;/g&gt;&lt;/g&gt;&lt;/g&gt;&lt;g id=patch_3&gt;&lt;path clip-path=url(#p494550f8c5) style=fill:#337ab7;stroke:#ffffff;stroke-linejoin:miter;stroke-width:0.3; d=&quot;M 16.363636 56.092505 \n",
       "L 27.490909 56.092505 \n",
       "L 27.490909 12.956786 \n",
       "L 16.363636 12.956786 \n",
       "z\n",
       "&quot;/&gt;&lt;/g&gt;&lt;g id=patch_4&gt;&lt;path clip-path=url(#p494550f8c5) style=fill:#337ab7;stroke:#ffffff;stroke-linejoin:miter;stroke-width:0.3; d=&quot;M 27.490909 56.092505 \n",
       "L 38.618182 56.092505 \n",
       "L 38.618182 12.957263 \n",
       "L 27.490909 12.957263 \n",
       "z\n",
       "&quot;/&gt;&lt;/g&gt;&lt;g id=patch_5&gt;&lt;path clip-path=url(#p494550f8c5) style=fill:#337ab7;stroke:#ffffff;stroke-linejoin:miter;stroke-width:0.3; d=&quot;M 38.618182 56.092505 \n",
       "L 49.745455 56.092505 \n",
       "L 49.745455 12.957263 \n",
       "L 38.618182 12.957263 \n",
       "z\n",
       "&quot;/&gt;&lt;/g&gt;&lt;g id=patch_6&gt;&lt;path clip-path=url(#p494550f8c5) style=fill:#337ab7;stroke:#ffffff;stroke-linejoin:miter;stroke-width:0.3; d=&quot;M 49.745455 56.092505 \n",
       "L 60.872727 56.092505 \n",
       "L 60.872727 12.957263 \n",
       "L 49.745455 12.957263 \n",
       "z\n",
       "&quot;/&gt;&lt;/g&gt;&lt;g id=patch_7&gt;&lt;path clip-path=url(#p494550f8c5) style=fill:#337ab7;stroke:#ffffff;stroke-linejoin:miter;stroke-width:0.3; d=&quot;M 60.872727 56.092505 \n",
       "L 72 56.092505 \n",
       "L 72 12.957263 \n",
       "L 60.872727 12.957263 \n",
       "z\n",
       "&quot;/&gt;&lt;/g&gt;&lt;g id=patch_8&gt;&lt;path clip-path=url(#p494550f8c5) style=fill:#337ab7;stroke:#ffffff;stroke-linejoin:miter;stroke-width:0.3; d=&quot;M 72 56.092505 \n",
       "L 83.127273 56.092505 \n",
       "L 83.127273 12.956786 \n",
       "L 72 12.956786 \n",
       "z\n",
       "&quot;/&gt;&lt;/g&gt;&lt;g id=patch_9&gt;&lt;path clip-path=url(#p494550f8c5) style=fill:#337ab7;stroke:#ffffff;stroke-linejoin:miter;stroke-width:0.3; d=&quot;M 83.127273 56.092505 \n",
       "L 94.254545 56.092505 \n",
       "L 94.254545 12.956786 \n",
       "L 83.127273 12.956786 \n",
       "z\n",
       "&quot;/&gt;&lt;/g&gt;&lt;g id=patch_10&gt;&lt;path clip-path=url(#p494550f8c5) style=fill:#337ab7;stroke:#ffffff;stroke-linejoin:miter;stroke-width:0.3; d=&quot;M 94.254545 56.092505 \n",
       "L 105.381818 56.092505 \n",
       "L 105.381818 12.957263 \n",
       "L 94.254545 12.957263 \n",
       "z\n",
       "&quot;/&gt;&lt;/g&gt;&lt;g id=patch_11&gt;&lt;path clip-path=url(#p494550f8c5) style=fill:#337ab7;stroke:#ffffff;stroke-linejoin:miter;stroke-width:0.3; d=&quot;M 105.381818 56.092505 \n",
       "L 116.509091 56.092505 \n",
       "L 116.509091 12.957263 \n",
       "L 105.381818 12.957263 \n",
       "z\n",
       "&quot;/&gt;&lt;/g&gt;&lt;g id=patch_12&gt;&lt;path clip-path=url(#p494550f8c5) style=fill:#337ab7;stroke:#ffffff;stroke-linejoin:miter;stroke-width:0.3; d=&quot;M 116.509091 56.092505 \n",
       "L 127.636364 56.092505 \n",
       "L 127.636364 12.956786 \n",
       "L 116.509091 12.956786 \n",
       "z\n",
       "&quot;/&gt;&lt;/g&gt;&lt;g id=patch_13&gt;&lt;path style=fill:none; d=&quot;M 10.8 56.092505 \n",
       "L 10.8 10.8 \n",
       "&quot;/&gt;&lt;/g&gt;&lt;g id=patch_14&gt;&lt;path style=fill:none; d=&quot;M 133.2 56.092505 \n",
       "L 133.2 10.8 \n",
       "&quot;/&gt;&lt;/g&gt;&lt;g id=patch_15&gt;&lt;path style=fill:none; d=&quot;M 10.8 56.092505 \n",
       "L 133.2 56.092505 \n",
       "&quot;/&gt;&lt;/g&gt;&lt;g id=patch_16&gt;&lt;path style=fill:none; d=&quot;M 10.8 10.8 \n",
       "L 133.2 10.8 \n",
       "&quot;/&gt;&lt;/g&gt;&lt;/g&gt;&lt;/g&gt;&lt;defs&gt;&lt;clippath id=p494550f8c5&gt;&lt;rect height=45.292505 width=122.4 x=10.8 y=10.8 /&gt;&lt;/clippath&gt;&lt;/defs&gt;&lt;/svg&gt;&lt;/div&gt;&lt;div class=&quot;col-sm-12 text-right&quot;&gt;&lt;button class=&quot;btn btn-default btn-sm&quot; data-toggle=collapse data-target=&quot;#bottom-7367157294735650376, #minifreqtable7367157294735650376&quot; aria-expanded=true aria-controls=collapseExample&gt;Toggle details&lt;/button&gt;&lt;/div&gt;&lt;div id=bottom-7367157294735650376 class=collapse&gt;&lt;div class=&quot;row spacing&quot;&gt;&lt;ul class=&quot;nav nav-tabs&quot; role=tablist&gt;&lt;li role=presentation class=active&gt;&lt;a href=#7367157294735650376bottom-7367157294735650376statistics aria-controls=7367157294735650376bottom-7367157294735650376statistics role=tab data-toggle=tab&gt;Statistics&lt;/a&gt;&lt;/li&gt;&lt;li role=presentation&gt;&lt;a href=#7367157294735650376bottom-7367157294735650376histograms aria-controls=7367157294735650376bottom-7367157294735650376histograms role=tab data-toggle=tab&gt;Histogram(s)&lt;/a&gt;&lt;/li&gt;&lt;li role=presentation&gt;&lt;a href=#7367157294735650376bottom-7367157294735650376common_values aria-controls=7367157294735650376bottom-7367157294735650376common_values role=tab data-toggle=tab&gt;Common values&lt;/a&gt;&lt;/li&gt;&lt;li role=presentation&gt;&lt;a href=#7367157294735650376bottom-7367157294735650376extreme_values aria-controls=7367157294735650376bottom-7367157294735650376extreme_values role=tab data-toggle=tab&gt;Extreme values&lt;/a&gt;&lt;/li&gt;&lt;/ul&gt;&lt;div class=tab-content&gt;&lt;div role=tabpanel class=&quot;tab-pane col-sm-12 active&quot; id=7367157294735650376bottom-7367157294735650376statistics&gt;&lt;div class=col-sm-6&gt;&lt;p class=h4&gt;Quantile statistics&lt;/p&gt;&lt;table class=&quot;table table-condensed stats&quot;&gt;&lt;tbody&gt;&lt;tr&gt;&lt;th&gt;Minimum&lt;/th&gt;&lt;td&gt;0&lt;/td&gt;&lt;/tr&gt;&lt;tr&gt;&lt;th&gt;5-th percentile&lt;/th&gt;&lt;td&gt;45180.15&lt;/td&gt;&lt;/tr&gt;&lt;tr&gt;&lt;th&gt;Q1&lt;/th&gt;&lt;td&gt;225901.75&lt;/td&gt;&lt;/tr&gt;&lt;tr&gt;&lt;th&gt;median&lt;/th&gt;&lt;td&gt;451803.5&lt;/td&gt;&lt;/tr&gt;&lt;tr&gt;&lt;th&gt;Q3&lt;/th&gt;&lt;td&gt;677704.25&lt;/td&gt;&lt;/tr&gt;&lt;tr&gt;&lt;th&gt;95-th percentile&lt;/th&gt;&lt;td&gt;858425.85&lt;/td&gt;&lt;/tr&gt;&lt;tr&gt;&lt;th&gt;Maximum&lt;/th&gt;&lt;td&gt;903606&lt;/td&gt;&lt;/tr&gt;&lt;tr&gt;&lt;th&gt;Range&lt;/th&gt;&lt;td&gt;903606&lt;/td&gt;&lt;/tr&gt;&lt;tr&gt;&lt;th&gt;Interquartile range (IQR)&lt;/th&gt;&lt;td&gt;451802.5&lt;/td&gt;&lt;/tr&gt;&lt;/tbody&gt;&lt;/table&gt;&lt;/div&gt;&lt;div class=col-sm-6&gt;&lt;p class=h4&gt;Descriptive statistics&lt;/p&gt;&lt;table class=&quot;table table-condensed stats&quot;&gt;&lt;tbody&gt;&lt;tr&gt;&lt;th&gt;Standard deviation&lt;/th&gt;&lt;td&gt;260848.9961&lt;/td&gt;&lt;/tr&gt;&lt;tr&gt;&lt;th&gt;Coefficient of variation (CV)&lt;/th&gt;&lt;td&gt;0.577350946&lt;/td&gt;&lt;/tr&gt;&lt;tr&gt;&lt;th&gt;Kurtosis&lt;/th&gt;&lt;td&gt;-1.199997659&lt;/td&gt;&lt;/tr&gt;&lt;tr&gt;&lt;th&gt;Mean&lt;/th&gt;&lt;td&gt;451803.1846&lt;/td&gt;&lt;/tr&gt;&lt;tr&gt;&lt;th&gt;Median Absolute Deviation (MAD)&lt;/th&gt;&lt;td&gt;225901.5&lt;/td&gt;&lt;/tr&gt;&lt;tr&gt;&lt;th&gt;Skewness&lt;/th&gt;&lt;td&gt;-1.97094495e-06&lt;/td&gt;&lt;/tr&gt;&lt;tr&gt;&lt;th&gt;Sum&lt;/th&gt;&lt;td&gt;4.082511648e+11&lt;/td&gt;&lt;/tr&gt;&lt;tr&gt;&lt;th&gt;Variance&lt;/th&gt;&lt;td&gt;6.804219875e+10&lt;/td&gt;&lt;/tr&gt;&lt;/tbody&gt;&lt;/table&gt;&lt;/div&gt;&lt;/div&gt;&lt;div role=tabpanel class=&quot;tab-pane col-sm-12&quot; id=7367157294735650376bottom-7367157294735650376histograms&gt;&lt;div class=&quot;row spacing&quot;&gt;&lt;ul class=&quot;nav nav-tabs&quot; role=tablist&gt;&lt;li role=presentation class=active&gt;&lt;a href=#7367157294735650376histograms-7367157294735650376histogram aria-controls=7367157294735650376histograms-7367157294735650376histogram role=tab data-toggle=tab&gt;Histogram&lt;/a&gt;&lt;/li&gt;&lt;/ul&gt;&lt;div class=tab-content&gt;&lt;div role=tabpanel class=&quot;tab-pane col-sm-12 active&quot; id=7367157294735650376histograms-7367157294735650376histogram&gt;&lt;?xml version=&quot;1.0&quot; encoding=&quot;utf-8&quot; standalone=&quot;no&quot;?&gt;&lt;!DOCTYPE svg class=&quot;img-responsive center-img&quot;PUBLIC &quot;-//W3C//DTD SVG 1.1//EN&quot;\n",
       "  &quot;http://www.w3.org/Graphics/SVG/1.1/DTD/svg11.dtd&quot;&gt;&lt;svg class=&quot;img-responsive center-img&quot; height=288pt version=1.1 viewbox=&quot;0 0 432 288&quot; width=432pt xmlns=http://www.w3.org/2000/svg xmlns:xlink=http://www.w3.org/1999/xlink&gt;&lt;metadata&gt;&lt;rdf:rdf xmlns:cc=http://creativecommons.org/ns# xmlns:dc=http://purl.org/dc/elements/1.1/ xmlns:rdf=http://www.w3.org/1999/02/22-rdf-syntax-ns#&gt;&lt;cc:work&gt;&lt;dc:type rdf:resource=http://purl.org/dc/dcmitype/StillImage /&gt;&lt;dc:date&gt;2021-03-04T22:51:36.611542&lt;/dc:date&gt;&lt;dc:format&gt;image/svg+xml&lt;/dc:format&gt;&lt;dc:creator&gt;&lt;cc:agent&gt;&lt;dc:title&gt;Matplotlib v3.3.3, https://matplotlib.org/&lt;/dc:title&gt;&lt;/cc:agent&gt;&lt;/dc:creator&gt;&lt;/cc:work&gt;&lt;/rdf:rdf&gt;&lt;/metadata&gt;&lt;defs&gt;&lt;style type=text/css&gt;*{stroke-linecap:butt;stroke-linejoin:round;}&lt;/style&gt;&lt;/defs&gt;&lt;g id=figure_1&gt;&lt;g id=patch_1&gt;&lt;path style=fill:#ffffff; d=&quot;M 0 288 \n",
       "L 432 288 \n",
       "L 432 0 \n",
       "L 0 0 \n",
       "z\n",
       "&quot;/&gt;&lt;/g&gt;&lt;g id=axes_1&gt;&lt;g id=patch_2&gt;&lt;path style=fill:#ffffff; d=&quot;M 69.675 230.082098 \n",
       "L 421.2 230.082098 \n",
       "L 421.2 10.8 \n",
       "L 69.675 10.8 \n",
       "z\n",
       "&quot;/&gt;&lt;/g&gt;&lt;g id=matplotlib.axis_1&gt;&lt;g id=xtick_1&gt;&lt;g id=text_1&gt;&lt;g style=fill:#262626; transform=&quot;translate(85.355098 252.953971)rotate(-45)scale(0.1 -0.1)&quot;&gt;&lt;defs&gt;&lt;path id=DejaVuSans-48 d=&quot;M 31.78125 66.40625 \n",
       "Q 24.171875 66.40625 20.328125 58.90625 \n",
       "Q 16.5 51.421875 16.5 36.375 \n",
       "Q 16.5 21.390625 20.328125 13.890625 \n",
       "Q 24.171875 6.390625 31.78125 6.390625 \n",
       "Q 39.453125 6.390625 43.28125 13.890625 \n",
       "Q 47.125 21.390625 47.125 36.375 \n",
       "Q 47.125 51.421875 43.28125 58.90625 \n",
       "Q 39.453125 66.40625 31.78125 66.40625 \n",
       "z\n",
       "M 31.78125 74.21875 \n",
       "Q 44.046875 74.21875 50.515625 64.515625 \n",
       "Q 56.984375 54.828125 56.984375 36.375 \n",
       "Q 56.984375 17.96875 50.515625 8.265625 \n",
       "Q 44.046875 -1.421875 31.78125 -1.421875 \n",
       "Q 19.53125 -1.421875 13.0625 8.265625 \n",
       "Q 6.59375 17.96875 6.59375 36.375 \n",
       "Q 6.59375 54.828125 13.0625 64.515625 \n",
       "Q 19.53125 74.21875 31.78125 74.21875 \n",
       "z\n",
       "&quot;/&gt;&lt;/defs&gt;&lt;use xlink:href=#DejaVuSans-48 /&gt;&lt;/g&gt;&lt;/g&gt;&lt;/g&gt;&lt;g id=xtick_2&gt;&lt;g id=text_2&gt;&lt;g style=fill:#262626; transform=&quot;translate(144.839434 275.448806)rotate(-45)scale(0.1 -0.1)&quot;&gt;&lt;defs&gt;&lt;path id=DejaVuSans-50 d=&quot;M 19.1875 8.296875 \n",
       "L 53.609375 8.296875 \n",
       "L 53.609375 0 \n",
       "L 7.328125 0 \n",
       "L 7.328125 8.296875 \n",
       "Q 12.9375 14.109375 22.625 23.890625 \n",
       "Q 32.328125 33.6875 34.8125 36.53125 \n",
       "Q 39.546875 41.84375 41.421875 45.53125 \n",
       "Q 43.3125 49.21875 43.3125 52.78125 \n",
       "Q 43.3125 58.59375 39.234375 62.25 \n",
       "Q 35.15625 65.921875 28.609375 65.921875 \n",
       "Q 23.96875 65.921875 18.8125 64.3125 \n",
       "Q 13.671875 62.703125 7.8125 59.421875 \n",
       "L 7.8125 69.390625 \n",
       "Q 13.765625 71.78125 18.9375 73 \n",
       "Q 24.125 74.21875 28.421875 74.21875 \n",
       "Q 39.75 74.21875 46.484375 68.546875 \n",
       "Q 53.21875 62.890625 53.21875 53.421875 \n",
       "Q 53.21875 48.921875 51.53125 44.890625 \n",
       "Q 49.859375 40.875 45.40625 35.40625 \n",
       "Q 44.1875 33.984375 37.640625 27.21875 \n",
       "Q 31.109375 20.453125 19.1875 8.296875 \n",
       "z\n",
       "&quot;/&gt;&lt;/defs&gt;&lt;use xlink:href=#DejaVuSans-50 /&gt;&lt;use x=63.623047 xlink:href=#DejaVuSans-48 /&gt;&lt;use x=127.246094 xlink:href=#DejaVuSans-48 /&gt;&lt;use x=190.869141 xlink:href=#DejaVuSans-48 /&gt;&lt;use x=254.492188 xlink:href=#DejaVuSans-48 /&gt;&lt;use x=318.115234 xlink:href=#DejaVuSans-48 /&gt;&lt;/g&gt;&lt;/g&gt;&lt;/g&gt;&lt;g id=xtick_3&gt;&lt;g id=text_3&gt;&lt;g style=fill:#262626; transform=&quot;translate(215.571187 275.448806)rotate(-45)scale(0.1 -0.1)&quot;&gt;&lt;defs&gt;&lt;path id=DejaVuSans-52 d=&quot;M 37.796875 64.3125 \n",
       "L 12.890625 25.390625 \n",
       "L 37.796875 25.390625 \n",
       "z\n",
       "M 35.203125 72.90625 \n",
       "L 47.609375 72.90625 \n",
       "L 47.609375 25.390625 \n",
       "L 58.015625 25.390625 \n",
       "L 58.015625 17.1875 \n",
       "L 47.609375 17.1875 \n",
       "L 47.609375 0 \n",
       "L 37.796875 0 \n",
       "L 37.796875 17.1875 \n",
       "L 4.890625 17.1875 \n",
       "L 4.890625 26.703125 \n",
       "z\n",
       "&quot;/&gt;&lt;/defs&gt;&lt;use xlink:href=#DejaVuSans-52 /&gt;&lt;use x=63.623047 xlink:href=#DejaVuSans-48 /&gt;&lt;use x=127.246094 xlink:href=#DejaVuSans-48 /&gt;&lt;use x=190.869141 xlink:href=#DejaVuSans-48 /&gt;&lt;use x=254.492188 xlink:href=#DejaVuSans-48 /&gt;&lt;use x=318.115234 xlink:href=#DejaVuSans-48 /&gt;&lt;/g&gt;&lt;/g&gt;&lt;/g&gt;&lt;g id=xtick_4&gt;&lt;g id=text_4&gt;&lt;g style=fill:#262626; transform=&quot;translate(286.30294 275.448806)rotate(-45)scale(0.1 -0.1)&quot;&gt;&lt;defs&gt;&lt;path id=DejaVuSans-54 d=&quot;M 33.015625 40.375 \n",
       "Q 26.375 40.375 22.484375 35.828125 \n",
       "Q 18.609375 31.296875 18.609375 23.390625 \n",
       "Q 18.609375 15.53125 22.484375 10.953125 \n",
       "Q 26.375 6.390625 33.015625 6.390625 \n",
       "Q 39.65625 6.390625 43.53125 10.953125 \n",
       "Q 47.40625 15.53125 47.40625 23.390625 \n",
       "Q 47.40625 31.296875 43.53125 35.828125 \n",
       "Q 39.65625 40.375 33.015625 40.375 \n",
       "z\n",
       "M 52.59375 71.296875 \n",
       "L 52.59375 62.3125 \n",
       "Q 48.875 64.0625 45.09375 64.984375 \n",
       "Q 41.3125 65.921875 37.59375 65.921875 \n",
       "Q 27.828125 65.921875 22.671875 59.328125 \n",
       "Q 17.53125 52.734375 16.796875 39.40625 \n",
       "Q 19.671875 43.65625 24.015625 45.921875 \n",
       "Q 28.375 48.1875 33.59375 48.1875 \n",
       "Q 44.578125 48.1875 50.953125 41.515625 \n",
       "Q 57.328125 34.859375 57.328125 23.390625 \n",
       "Q 57.328125 12.15625 50.6875 5.359375 \n",
       "Q 44.046875 -1.421875 33.015625 -1.421875 \n",
       "Q 20.359375 -1.421875 13.671875 8.265625 \n",
       "Q 6.984375 17.96875 6.984375 36.375 \n",
       "Q 6.984375 53.65625 15.1875 63.9375 \n",
       "Q 23.390625 74.21875 37.203125 74.21875 \n",
       "Q 40.921875 74.21875 44.703125 73.484375 \n",
       "Q 48.484375 72.75 52.59375 71.296875 \n",
       "z\n",
       "&quot;/&gt;&lt;/defs&gt;&lt;use xlink:href=#DejaVuSans-54 /&gt;&lt;use x=63.623047 xlink:href=#DejaVuSans-48 /&gt;&lt;use x=127.246094 xlink:href=#DejaVuSans-48 /&gt;&lt;use x=190.869141 xlink:href=#DejaVuSans-48 /&gt;&lt;use x=254.492188 xlink:href=#DejaVuSans-48 /&gt;&lt;use x=318.115234 xlink:href=#DejaVuSans-48 /&gt;&lt;/g&gt;&lt;/g&gt;&lt;/g&gt;&lt;g id=xtick_5&gt;&lt;g id=text_5&gt;&lt;g style=fill:#262626; transform=&quot;translate(357.034693 275.448806)rotate(-45)scale(0.1 -0.1)&quot;&gt;&lt;defs&gt;&lt;path id=DejaVuSans-56 d=&quot;M 31.78125 34.625 \n",
       "Q 24.75 34.625 20.71875 30.859375 \n",
       "Q 16.703125 27.09375 16.703125 20.515625 \n",
       "Q 16.703125 13.921875 20.71875 10.15625 \n",
       "Q 24.75 6.390625 31.78125 6.390625 \n",
       "Q 38.8125 6.390625 42.859375 10.171875 \n",
       "Q 46.921875 13.96875 46.921875 20.515625 \n",
       "Q 46.921875 27.09375 42.890625 30.859375 \n",
       "Q 38.875 34.625 31.78125 34.625 \n",
       "z\n",
       "M 21.921875 38.8125 \n",
       "Q 15.578125 40.375 12.03125 44.71875 \n",
       "Q 8.5 49.078125 8.5 55.328125 \n",
       "Q 8.5 64.0625 14.71875 69.140625 \n",
       "Q 20.953125 74.21875 31.78125 74.21875 \n",
       "Q 42.671875 74.21875 48.875 69.140625 \n",
       "Q 55.078125 64.0625 55.078125 55.328125 \n",
       "Q 55.078125 49.078125 51.53125 44.71875 \n",
       "Q 48 40.375 41.703125 38.8125 \n",
       "Q 48.828125 37.15625 52.796875 32.3125 \n",
       "Q 56.78125 27.484375 56.78125 20.515625 \n",
       "Q 56.78125 9.90625 50.3125 4.234375 \n",
       "Q 43.84375 -1.421875 31.78125 -1.421875 \n",
       "Q 19.734375 -1.421875 13.25 4.234375 \n",
       "Q 6.78125 9.90625 6.78125 20.515625 \n",
       "Q 6.78125 27.484375 10.78125 32.3125 \n",
       "Q 14.796875 37.15625 21.921875 38.8125 \n",
       "z\n",
       "M 18.3125 54.390625 \n",
       "Q 18.3125 48.734375 21.84375 45.5625 \n",
       "Q 25.390625 42.390625 31.78125 42.390625 \n",
       "Q 38.140625 42.390625 41.71875 45.5625 \n",
       "Q 45.3125 48.734375 45.3125 54.390625 \n",
       "Q 45.3125 60.0625 41.71875 63.234375 \n",
       "Q 38.140625 66.40625 31.78125 66.40625 \n",
       "Q 25.390625 66.40625 21.84375 63.234375 \n",
       "Q 18.3125 60.0625 18.3125 54.390625 \n",
       "z\n",
       "&quot;/&gt;&lt;/defs&gt;&lt;use xlink:href=#DejaVuSans-56 /&gt;&lt;use x=63.623047 xlink:href=#DejaVuSans-48 /&gt;&lt;use x=127.246094 xlink:href=#DejaVuSans-48 /&gt;&lt;use x=190.869141 xlink:href=#DejaVuSans-48 /&gt;&lt;use x=254.492188 xlink:href=#DejaVuSans-48 /&gt;&lt;use x=318.115234 xlink:href=#DejaVuSans-48 /&gt;&lt;/g&gt;&lt;/g&gt;&lt;/g&gt;&lt;/g&gt;&lt;g id=matplotlib.axis_2&gt;&lt;g id=ytick_1&gt;&lt;g id=text_6&gt;&lt;g style=fill:#262626; transform=&quot;translate(50.3125 233.881317)scale(0.1 -0.1)&quot;&gt;&lt;use xlink:href=#DejaVuSans-48 /&gt;&lt;/g&gt;&lt;/g&gt;&lt;/g&gt;&lt;g id=ytick_2&gt;&lt;g id=text_7&gt;&lt;g style=fill:#262626; transform=&quot;translate(24.8625 187.657815)scale(0.1 -0.1)&quot;&gt;&lt;use xlink:href=#DejaVuSans-50 /&gt;&lt;use x=63.623047 xlink:href=#DejaVuSans-48 /&gt;&lt;use x=127.246094 xlink:href=#DejaVuSans-48 /&gt;&lt;use x=190.869141 xlink:href=#DejaVuSans-48 /&gt;&lt;use x=254.492188 xlink:href=#DejaVuSans-48 /&gt;&lt;/g&gt;&lt;/g&gt;&lt;/g&gt;&lt;g id=ytick_3&gt;&lt;g id=text_8&gt;&lt;g style=fill:#262626; transform=&quot;translate(24.8625 141.434313)scale(0.1 -0.1)&quot;&gt;&lt;use xlink:href=#DejaVuSans-52 /&gt;&lt;use x=63.623047 xlink:href=#DejaVuSans-48 /&gt;&lt;use x=127.246094 xlink:href=#DejaVuSans-48 /&gt;&lt;use x=190.869141 xlink:href=#DejaVuSans-48 /&gt;&lt;use x=254.492188 xlink:href=#DejaVuSans-48 /&gt;&lt;/g&gt;&lt;/g&gt;&lt;/g&gt;&lt;g id=ytick_4&gt;&lt;g id=text_9&gt;&lt;g style=fill:#262626; transform=&quot;translate(24.8625 95.210811)scale(0.1 -0.1)&quot;&gt;&lt;use xlink:href=#DejaVuSans-54 /&gt;&lt;use x=63.623047 xlink:href=#DejaVuSans-48 /&gt;&lt;use x=127.246094 xlink:href=#DejaVuSans-48 /&gt;&lt;use x=190.869141 xlink:href=#DejaVuSans-48 /&gt;&lt;use x=254.492188 xlink:href=#DejaVuSans-48 /&gt;&lt;/g&gt;&lt;/g&gt;&lt;/g&gt;&lt;g id=ytick_5&gt;&lt;g id=text_10&gt;&lt;g style=fill:#262626; transform=&quot;translate(24.8625 48.987309)scale(0.1 -0.1)&quot;&gt;&lt;use xlink:href=#DejaVuSans-56 /&gt;&lt;use x=63.623047 xlink:href=#DejaVuSans-48 /&gt;&lt;use x=127.246094 xlink:href=#DejaVuSans-48 /&gt;&lt;use x=190.869141 xlink:href=#DejaVuSans-48 /&gt;&lt;use x=254.492188 xlink:href=#DejaVuSans-48 /&gt;&lt;/g&gt;&lt;/g&gt;&lt;/g&gt;&lt;g id=text_11&gt;&lt;g style=fill:#262626; transform=&quot;translate(18.574844 148.853705)rotate(-90)scale(0.11 -0.11)&quot;&gt;&lt;defs&gt;&lt;path id=DejaVuSans-70 d=&quot;M 9.8125 72.90625 \n",
       "L 51.703125 72.90625 \n",
       "L 51.703125 64.59375 \n",
       "L 19.671875 64.59375 \n",
       "L 19.671875 43.109375 \n",
       "L 48.578125 43.109375 \n",
       "L 48.578125 34.8125 \n",
       "L 19.671875 34.8125 \n",
       "L 19.671875 0 \n",
       "L 9.8125 0 \n",
       "z\n",
       "&quot;/&gt;&lt;path id=DejaVuSans-114 d=&quot;M 41.109375 46.296875 \n",
       "Q 39.59375 47.171875 37.8125 47.578125 \n",
       "Q 36.03125 48 33.890625 48 \n",
       "Q 26.265625 48 22.1875 43.046875 \n",
       "Q 18.109375 38.09375 18.109375 28.8125 \n",
       "L 18.109375 0 \n",
       "L 9.078125 0 \n",
       "L 9.078125 54.6875 \n",
       "L 18.109375 54.6875 \n",
       "L 18.109375 46.1875 \n",
       "Q 20.953125 51.171875 25.484375 53.578125 \n",
       "Q 30.03125 56 36.53125 56 \n",
       "Q 37.453125 56 38.578125 55.875 \n",
       "Q 39.703125 55.765625 41.0625 55.515625 \n",
       "z\n",
       "&quot;/&gt;&lt;path id=DejaVuSans-101 d=&quot;M 56.203125 29.59375 \n",
       "L 56.203125 25.203125 \n",
       "L 14.890625 25.203125 \n",
       "Q 15.484375 15.921875 20.484375 11.0625 \n",
       "Q 25.484375 6.203125 34.421875 6.203125 \n",
       "Q 39.59375 6.203125 44.453125 7.46875 \n",
       "Q 49.3125 8.734375 54.109375 11.28125 \n",
       "L 54.109375 2.78125 \n",
       "Q 49.265625 0.734375 44.1875 -0.34375 \n",
       "Q 39.109375 -1.421875 33.890625 -1.421875 \n",
       "Q 20.796875 -1.421875 13.15625 6.1875 \n",
       "Q 5.515625 13.8125 5.515625 26.8125 \n",
       "Q 5.515625 40.234375 12.765625 48.109375 \n",
       "Q 20.015625 56 32.328125 56 \n",
       "Q 43.359375 56 49.78125 48.890625 \n",
       "Q 56.203125 41.796875 56.203125 29.59375 \n",
       "z\n",
       "M 47.21875 32.234375 \n",
       "Q 47.125 39.59375 43.09375 43.984375 \n",
       "Q 39.0625 48.390625 32.421875 48.390625 \n",
       "Q 24.90625 48.390625 20.390625 44.140625 \n",
       "Q 15.875 39.890625 15.1875 32.171875 \n",
       "z\n",
       "&quot;/&gt;&lt;path id=DejaVuSans-113 d=&quot;M 14.796875 27.296875 \n",
       "Q 14.796875 17.390625 18.875 11.75 \n",
       "Q 22.953125 6.109375 30.078125 6.109375 \n",
       "Q 37.203125 6.109375 41.296875 11.75 \n",
       "Q 45.40625 17.390625 45.40625 27.296875 \n",
       "Q 45.40625 37.203125 41.296875 42.84375 \n",
       "Q 37.203125 48.484375 30.078125 48.484375 \n",
       "Q 22.953125 48.484375 18.875 42.84375 \n",
       "Q 14.796875 37.203125 14.796875 27.296875 \n",
       "z\n",
       "M 45.40625 8.203125 \n",
       "Q 42.578125 3.328125 38.25 0.953125 \n",
       "Q 33.9375 -1.421875 27.875 -1.421875 \n",
       "Q 17.96875 -1.421875 11.734375 6.484375 \n",
       "Q 5.515625 14.40625 5.515625 27.296875 \n",
       "Q 5.515625 40.1875 11.734375 48.09375 \n",
       "Q 17.96875 56 27.875 56 \n",
       "Q 33.9375 56 38.25 53.625 \n",
       "Q 42.578125 51.265625 45.40625 46.390625 \n",
       "L 45.40625 54.6875 \n",
       "L 54.390625 54.6875 \n",
       "L 54.390625 -20.796875 \n",
       "L 45.40625 -20.796875 \n",
       "z\n",
       "&quot;/&gt;&lt;path id=DejaVuSans-117 d=&quot;M 8.5 21.578125 \n",
       "L 8.5 54.6875 \n",
       "L 17.484375 54.6875 \n",
       "L 17.484375 21.921875 \n",
       "Q 17.484375 14.15625 20.5 10.265625 \n",
       "Q 23.53125 6.390625 29.59375 6.390625 \n",
       "Q 36.859375 6.390625 41.078125 11.03125 \n",
       "Q 45.3125 15.671875 45.3125 23.6875 \n",
       "L 45.3125 54.6875 \n",
       "L 54.296875 54.6875 \n",
       "L 54.296875 0 \n",
       "L 45.3125 0 \n",
       "L 45.3125 8.40625 \n",
       "Q 42.046875 3.421875 37.71875 1 \n",
       "Q 33.40625 -1.421875 27.6875 -1.421875 \n",
       "Q 18.265625 -1.421875 13.375 4.4375 \n",
       "Q 8.5 10.296875 8.5 21.578125 \n",
       "z\n",
       "M 31.109375 56 \n",
       "z\n",
       "&quot;/&gt;&lt;path id=DejaVuSans-110 d=&quot;M 54.890625 33.015625 \n",
       "L 54.890625 0 \n",
       "L 45.90625 0 \n",
       "L 45.90625 32.71875 \n",
       "Q 45.90625 40.484375 42.875 44.328125 \n",
       "Q 39.84375 48.1875 33.796875 48.1875 \n",
       "Q 26.515625 48.1875 22.3125 43.546875 \n",
       "Q 18.109375 38.921875 18.109375 30.90625 \n",
       "L 18.109375 0 \n",
       "L 9.078125 0 \n",
       "L 9.078125 54.6875 \n",
       "L 18.109375 54.6875 \n",
       "L 18.109375 46.1875 \n",
       "Q 21.34375 51.125 25.703125 53.5625 \n",
       "Q 30.078125 56 35.796875 56 \n",
       "Q 45.21875 56 50.046875 50.171875 \n",
       "Q 54.890625 44.34375 54.890625 33.015625 \n",
       "z\n",
       "&quot;/&gt;&lt;path id=DejaVuSans-99 d=&quot;M 48.78125 52.59375 \n",
       "L 48.78125 44.1875 \n",
       "Q 44.96875 46.296875 41.140625 47.34375 \n",
       "Q 37.3125 48.390625 33.40625 48.390625 \n",
       "Q 24.65625 48.390625 19.8125 42.84375 \n",
       "Q 14.984375 37.3125 14.984375 27.296875 \n",
       "Q 14.984375 17.28125 19.8125 11.734375 \n",
       "Q 24.65625 6.203125 33.40625 6.203125 \n",
       "Q 37.3125 6.203125 41.140625 7.25 \n",
       "Q 44.96875 8.296875 48.78125 10.40625 \n",
       "L 48.78125 2.09375 \n",
       "Q 45.015625 0.34375 40.984375 -0.53125 \n",
       "Q 36.96875 -1.421875 32.421875 -1.421875 \n",
       "Q 20.0625 -1.421875 12.78125 6.34375 \n",
       "Q 5.515625 14.109375 5.515625 27.296875 \n",
       "Q 5.515625 40.671875 12.859375 48.328125 \n",
       "Q 20.21875 56 33.015625 56 \n",
       "Q 37.15625 56 41.109375 55.140625 \n",
       "Q 45.0625 54.296875 48.78125 52.59375 \n",
       "z\n",
       "&quot;/&gt;&lt;path id=DejaVuSans-121 d=&quot;M 32.171875 -5.078125 \n",
       "Q 28.375 -14.84375 24.75 -17.8125 \n",
       "Q 21.140625 -20.796875 15.09375 -20.796875 \n",
       "L 7.90625 -20.796875 \n",
       "L 7.90625 -13.28125 \n",
       "L 13.1875 -13.28125 \n",
       "Q 16.890625 -13.28125 18.9375 -11.515625 \n",
       "Q 21 -9.765625 23.484375 -3.21875 \n",
       "L 25.09375 0.875 \n",
       "L 2.984375 54.6875 \n",
       "L 12.5 54.6875 \n",
       "L 29.59375 11.921875 \n",
       "L 46.6875 54.6875 \n",
       "L 56.203125 54.6875 \n",
       "z\n",
       "&quot;/&gt;&lt;/defs&gt;&lt;use xlink:href=#DejaVuSans-70 /&gt;&lt;use x=50.269531 xlink:href=#DejaVuSans-114 /&gt;&lt;use x=89.132812 xlink:href=#DejaVuSans-101 /&gt;&lt;use x=150.65625 xlink:href=#DejaVuSans-113 /&gt;&lt;use x=214.132812 xlink:href=#DejaVuSans-117 /&gt;&lt;use x=277.511719 xlink:href=#DejaVuSans-101 /&gt;&lt;use x=339.035156 xlink:href=#DejaVuSans-110 /&gt;&lt;use x=402.414062 xlink:href=#DejaVuSans-99 /&gt;&lt;use x=457.394531 xlink:href=#DejaVuSans-121 /&gt;&lt;/g&gt;&lt;/g&gt;&lt;/g&gt;&lt;g id=patch_3&gt;&lt;path clip-path=url(#p42a7c9374b) style=fill:#337ab7;stroke:#ffffff;stroke-linejoin:miter;stroke-width:0.3; d=&quot;M 85.653409 230.082098 \n",
       "L 117.610227 230.082098 \n",
       "L 117.610227 21.242005 \n",
       "L 85.653409 21.242005 \n",
       "z\n",
       "&quot;/&gt;&lt;/g&gt;&lt;g id=patch_4&gt;&lt;path clip-path=url(#p42a7c9374b) style=fill:#337ab7;stroke:#ffffff;stroke-linejoin:miter;stroke-width:0.3; d=&quot;M 117.610227 230.082098 \n",
       "L 149.567045 230.082098 \n",
       "L 149.567045 21.244316 \n",
       "L 117.610227 21.244316 \n",
       "z\n",
       "&quot;/&gt;&lt;/g&gt;&lt;g id=patch_5&gt;&lt;path clip-path=url(#p42a7c9374b) style=fill:#337ab7;stroke:#ffffff;stroke-linejoin:miter;stroke-width:0.3; d=&quot;M 149.567045 230.082098 \n",
       "L 181.523864 230.082098 \n",
       "L 181.523864 21.244316 \n",
       "L 149.567045 21.244316 \n",
       "z\n",
       "&quot;/&gt;&lt;/g&gt;&lt;g id=patch_6&gt;&lt;path clip-path=url(#p42a7c9374b) style=fill:#337ab7;stroke:#ffffff;stroke-linejoin:miter;stroke-width:0.3; d=&quot;M 181.523864 230.082098 \n",
       "L 213.480682 230.082098 \n",
       "L 213.480682 21.244316 \n",
       "L 181.523864 21.244316 \n",
       "z\n",
       "&quot;/&gt;&lt;/g&gt;&lt;g id=patch_7&gt;&lt;path clip-path=url(#p42a7c9374b) style=fill:#337ab7;stroke:#ffffff;stroke-linejoin:miter;stroke-width:0.3; d=&quot;M 213.480682 230.082098 \n",
       "L 245.4375 230.082098 \n",
       "L 245.4375 21.244316 \n",
       "L 213.480682 21.244316 \n",
       "z\n",
       "&quot;/&gt;&lt;/g&gt;&lt;g id=patch_8&gt;&lt;path clip-path=url(#p42a7c9374b) style=fill:#337ab7;stroke:#ffffff;stroke-linejoin:miter;stroke-width:0.3; d=&quot;M 245.4375 230.082098 \n",
       "L 277.394318 230.082098 \n",
       "L 277.394318 21.242005 \n",
       "L 245.4375 21.242005 \n",
       "z\n",
       "&quot;/&gt;&lt;/g&gt;&lt;g id=patch_9&gt;&lt;path clip-path=url(#p42a7c9374b) style=fill:#337ab7;stroke:#ffffff;stroke-linejoin:miter;stroke-width:0.3; d=&quot;M 277.394318 230.082098 \n",
       "L 309.351136 230.082098 \n",
       "L 309.351136 21.242005 \n",
       "L 277.394318 21.242005 \n",
       "z\n",
       "&quot;/&gt;&lt;/g&gt;&lt;g id=patch_10&gt;&lt;path clip-path=url(#p42a7c9374b) style=fill:#337ab7;stroke:#ffffff;stroke-linejoin:miter;stroke-width:0.3; d=&quot;M 309.351136 230.082098 \n",
       "L 341.307955 230.082098 \n",
       "L 341.307955 21.244316 \n",
       "L 309.351136 21.244316 \n",
       "z\n",
       "&quot;/&gt;&lt;/g&gt;&lt;g id=patch_11&gt;&lt;path clip-path=url(#p42a7c9374b) style=fill:#337ab7;stroke:#ffffff;stroke-linejoin:miter;stroke-width:0.3; d=&quot;M 341.307955 230.082098 \n",
       "L 373.264773 230.082098 \n",
       "L 373.264773 21.244316 \n",
       "L 341.307955 21.244316 \n",
       "z\n",
       "&quot;/&gt;&lt;/g&gt;&lt;g id=patch_12&gt;&lt;path clip-path=url(#p42a7c9374b) style=fill:#337ab7;stroke:#ffffff;stroke-linejoin:miter;stroke-width:0.3; d=&quot;M 373.264773 230.082098 \n",
       "L 405.221591 230.082098 \n",
       "L 405.221591 21.242005 \n",
       "L 373.264773 21.242005 \n",
       "z\n",
       "&quot;/&gt;&lt;/g&gt;&lt;g id=patch_13&gt;&lt;path style=fill:none; d=&quot;M 69.675 230.082098 \n",
       "L 69.675 10.8 \n",
       "&quot;/&gt;&lt;/g&gt;&lt;g id=patch_14&gt;&lt;path style=fill:none; d=&quot;M 421.2 230.082098 \n",
       "L 421.2 10.8 \n",
       "&quot;/&gt;&lt;/g&gt;&lt;g id=patch_15&gt;&lt;path style=fill:none; d=&quot;M 69.675 230.082098 \n",
       "L 421.2 230.082098 \n",
       "&quot;/&gt;&lt;/g&gt;&lt;g id=patch_16&gt;&lt;path style=fill:none; d=&quot;M 69.675 10.8 \n",
       "L 421.2 10.8 \n",
       "&quot;/&gt;&lt;/g&gt;&lt;/g&gt;&lt;/g&gt;&lt;defs&gt;&lt;clippath id=p42a7c9374b&gt;&lt;rect height=219.282098 width=351.525 x=69.675 y=10.8 /&gt;&lt;/clippath&gt;&lt;/defs&gt;&lt;/svg&gt;&lt;div class=&quot;caption text-center text-muted&quot;&gt;&lt;strong&gt;Histogram with fixed size bins&lt;/strong&gt; (bins=10) &lt;/div&gt;&lt;/div&gt;&lt;/div&gt;&lt;/div&gt;&lt;/div&gt;&lt;div role=tabpanel class=&quot;tab-pane col-sm-12&quot; id=7367157294735650376bottom-7367157294735650376common_values&gt;&lt;table class=&quot;freq table table-hover table-striped&quot;&gt;&lt;thead&gt;&lt;tr&gt;&lt;td&gt;Value&lt;/td&gt;&lt;td&gt;Count&lt;/td&gt;&lt;td&gt;Frequency (%)&lt;/td&gt;&lt;td&gt;&amp;nbsp;&lt;/td&gt;&lt;/tr&gt;&lt;/thead&gt;&lt;tbody&gt;&lt;tr class&gt;&lt;td title=2047&gt;2047&lt;/td&gt;&lt;td&gt;1&lt;/td&gt;&lt;td&gt;&lt; 0.1%&lt;/td&gt;&lt;td&gt;&lt;div class=bar style=width:0.0%&gt;&amp;nbsp;&lt;/div&gt;&lt;/td&gt;&lt;/tr&gt;&lt;tr class&gt;&lt;td title=889063&gt;889063&lt;/td&gt;&lt;td&gt;1&lt;/td&gt;&lt;td&gt;&lt; 0.1%&lt;/td&gt;&lt;td&gt;&lt;div class=bar style=width:0.0%&gt;&amp;nbsp;&lt;/div&gt;&lt;/td&gt;&lt;/tr&gt;&lt;tr class&gt;&lt;td title=878840&gt;878840&lt;/td&gt;&lt;td&gt;1&lt;/td&gt;&lt;td&gt;&lt; 0.1%&lt;/td&gt;&lt;td&gt;&lt;div class=bar style=width:0.0%&gt;&amp;nbsp;&lt;/div&gt;&lt;/td&gt;&lt;/tr&gt;&lt;tr class&gt;&lt;td title=856311&gt;856311&lt;/td&gt;&lt;td&gt;1&lt;/td&gt;&lt;td&gt;&lt; 0.1%&lt;/td&gt;&lt;td&gt;&lt;div class=bar style=width:0.0%&gt;&amp;nbsp;&lt;/div&gt;&lt;/td&gt;&lt;/tr&gt;&lt;tr class&gt;&lt;td title=858358&gt;858358&lt;/td&gt;&lt;td&gt;1&lt;/td&gt;&lt;td&gt;&lt; 0.1%&lt;/td&gt;&lt;td&gt;&lt;div class=bar style=width:0.0%&gt;&amp;nbsp;&lt;/div&gt;&lt;/td&gt;&lt;/tr&gt;&lt;tr class&gt;&lt;td title=852213&gt;852213&lt;/td&gt;&lt;td&gt;1&lt;/td&gt;&lt;td&gt;&lt; 0.1%&lt;/td&gt;&lt;td&gt;&lt;div class=bar style=width:0.0%&gt;&amp;nbsp;&lt;/div&gt;&lt;/td&gt;&lt;/tr&gt;&lt;tr class&gt;&lt;td title=854260&gt;854260&lt;/td&gt;&lt;td&gt;1&lt;/td&gt;&lt;td&gt;&lt; 0.1%&lt;/td&gt;&lt;td&gt;&lt;div class=bar style=width:0.0%&gt;&amp;nbsp;&lt;/div&gt;&lt;/td&gt;&lt;/tr&gt;&lt;tr class&gt;&lt;td title=864499&gt;864499&lt;/td&gt;&lt;td&gt;1&lt;/td&gt;&lt;td&gt;&lt; 0.1%&lt;/td&gt;&lt;td&gt;&lt;div class=bar style=width:0.0%&gt;&amp;nbsp;&lt;/div&gt;&lt;/td&gt;&lt;/tr&gt;&lt;tr class&gt;&lt;td title=866546&gt;866546&lt;/td&gt;&lt;td&gt;1&lt;/td&gt;&lt;td&gt;&lt; 0.1%&lt;/td&gt;&lt;td&gt;&lt;div class=bar style=width:0.0%&gt;&amp;nbsp;&lt;/div&gt;&lt;/td&gt;&lt;/tr&gt;&lt;tr class&gt;&lt;td title=860401&gt;860401&lt;/td&gt;&lt;td&gt;1&lt;/td&gt;&lt;td&gt;&lt; 0.1%&lt;/td&gt;&lt;td&gt;&lt;div class=bar style=width:0.0%&gt;&amp;nbsp;&lt;/div&gt;&lt;/td&gt;&lt;/tr&gt;&lt;tr class=other&gt;&lt;td title=&quot;Other values (903594)&quot;&gt;Other values (903594)&lt;/td&gt;&lt;td&gt;903594&lt;/td&gt;&lt;td&gt;&gt; 99.9%&lt;/td&gt;&lt;td&gt;&lt;div class=bar style=width:100.0%&gt;&amp;nbsp;&lt;/div&gt;&lt;/td&gt;&lt;/tr&gt;&lt;/tbody&gt;&lt;/table&gt;&lt;/div&gt;&lt;div role=tabpanel class=&quot;tab-pane col-sm-12&quot; id=7367157294735650376bottom-7367157294735650376extreme_values&gt;&lt;div class=&quot;row spacing&quot;&gt;&lt;ul class=&quot;nav nav-tabs&quot; role=tablist&gt;&lt;li role=presentation class=active&gt;&lt;a href=#7367157294735650376extreme_values-7367157294735650376firstn aria-controls=7367157294735650376extreme_values-7367157294735650376firstn role=tab data-toggle=tab&gt;Minimum 5 values&lt;/a&gt;&lt;/li&gt;&lt;li role=presentation&gt;&lt;a href=#7367157294735650376extreme_values-7367157294735650376lastn aria-controls=7367157294735650376extreme_values-7367157294735650376lastn role=tab data-toggle=tab&gt;Maximum 5 values&lt;/a&gt;&lt;/li&gt;&lt;/ul&gt;&lt;div class=tab-content&gt;&lt;div role=tabpanel class=&quot;tab-pane col-sm-12 active&quot; id=7367157294735650376extreme_values-7367157294735650376firstn&gt;&lt;table class=&quot;freq table table-hover table-striped&quot;&gt;&lt;thead&gt;&lt;tr&gt;&lt;td&gt;Value&lt;/td&gt;&lt;td&gt;Count&lt;/td&gt;&lt;td&gt;Frequency (%)&lt;/td&gt;&lt;td&gt;&amp;nbsp;&lt;/td&gt;&lt;/tr&gt;&lt;/thead&gt;&lt;tbody&gt;&lt;tr class&gt;&lt;td title=0&gt;0&lt;/td&gt;&lt;td&gt;1&lt;/td&gt;&lt;td&gt;&lt; 0.1%&lt;/td&gt;&lt;td&gt;&lt;div class=bar style=width:100.0%&gt;&amp;nbsp;&lt;/div&gt;&lt;/td&gt;&lt;/tr&gt;&lt;tr class&gt;&lt;td title=1&gt;1&lt;/td&gt;&lt;td&gt;1&lt;/td&gt;&lt;td&gt;&lt; 0.1%&lt;/td&gt;&lt;td&gt;&lt;div class=bar style=width:100.0%&gt;&amp;nbsp;&lt;/div&gt;&lt;/td&gt;&lt;/tr&gt;&lt;tr class&gt;&lt;td title=2&gt;2&lt;/td&gt;&lt;td&gt;1&lt;/td&gt;&lt;td&gt;&lt; 0.1%&lt;/td&gt;&lt;td&gt;&lt;div class=bar style=width:100.0%&gt;&amp;nbsp;&lt;/div&gt;&lt;/td&gt;&lt;/tr&gt;&lt;tr class&gt;&lt;td title=3&gt;3&lt;/td&gt;&lt;td&gt;1&lt;/td&gt;&lt;td&gt;&lt; 0.1%&lt;/td&gt;&lt;td&gt;&lt;div class=bar style=width:100.0%&gt;&amp;nbsp;&lt;/div&gt;&lt;/td&gt;&lt;/tr&gt;&lt;tr class&gt;&lt;td title=4&gt;4&lt;/td&gt;&lt;td&gt;1&lt;/td&gt;&lt;td&gt;&lt; 0.1%&lt;/td&gt;&lt;td&gt;&lt;div class=bar style=width:100.0%&gt;&amp;nbsp;&lt;/div&gt;&lt;/td&gt;&lt;/tr&gt;&lt;/tbody&gt;&lt;/table&gt;&lt;/div&gt;&lt;div role=tabpanel class=&quot;tab-pane col-sm-12&quot; id=7367157294735650376extreme_values-7367157294735650376lastn&gt;&lt;table class=&quot;freq table table-hover table-striped&quot;&gt;&lt;thead&gt;&lt;tr&gt;&lt;td&gt;Value&lt;/td&gt;&lt;td&gt;Count&lt;/td&gt;&lt;td&gt;Frequency (%)&lt;/td&gt;&lt;td&gt;&amp;nbsp;&lt;/td&gt;&lt;/tr&gt;&lt;/thead&gt;&lt;tbody&gt;&lt;tr class&gt;&lt;td title=903606&gt;903606&lt;/td&gt;&lt;td&gt;1&lt;/td&gt;&lt;td&gt;&lt; 0.1%&lt;/td&gt;&lt;td&gt;&lt;div class=bar style=width:100.0%&gt;&amp;nbsp;&lt;/div&gt;&lt;/td&gt;&lt;/tr&gt;&lt;tr class&gt;&lt;td title=903605&gt;903605&lt;/td&gt;&lt;td&gt;1&lt;/td&gt;&lt;td&gt;&lt; 0.1%&lt;/td&gt;&lt;td&gt;&lt;div class=bar style=width:100.0%&gt;&amp;nbsp;&lt;/div&gt;&lt;/td&gt;&lt;/tr&gt;&lt;tr class&gt;&lt;td title=903604&gt;903604&lt;/td&gt;&lt;td&gt;1&lt;/td&gt;&lt;td&gt;&lt; 0.1%&lt;/td&gt;&lt;td&gt;&lt;div class=bar style=width:100.0%&gt;&amp;nbsp;&lt;/div&gt;&lt;/td&gt;&lt;/tr&gt;&lt;tr class&gt;&lt;td title=903603&gt;903603&lt;/td&gt;&lt;td&gt;1&lt;/td&gt;&lt;td&gt;&lt; 0.1%&lt;/td&gt;&lt;td&gt;&lt;div class=bar style=width:100.0%&gt;&amp;nbsp;&lt;/div&gt;&lt;/td&gt;&lt;/tr&gt;&lt;tr class&gt;&lt;td title=903602&gt;903602&lt;/td&gt;&lt;td&gt;1&lt;/td&gt;&lt;td&gt;&lt; 0.1%&lt;/td&gt;&lt;td&gt;&lt;div class=bar style=width:100.0%&gt;&amp;nbsp;&lt;/div&gt;&lt;/td&gt;&lt;/tr&gt;&lt;/tbody&gt;&lt;/table&gt;&lt;/div&gt;&lt;/div&gt;&lt;/div&gt;&lt;/div&gt;&lt;/div&gt;&lt;/div&gt;&lt;/div&gt;&lt;/div&gt;&lt;/div&gt;&lt;div class=&quot;row spacing&quot;&gt;&lt;a class=&quot;anchor-pos anchor-pos-variable&quot; id=pp_var_-4159712998347691432&gt;&lt;/a&gt;&lt;div class=variable&gt;&lt;div class=col-sm-3&gt;&lt;p class=h4 title=&quot;conversation id&quot;&gt;&lt;a href=#pp_var_-4159712998347691432&gt;conversation id&lt;/a&gt;&lt;br&gt;&lt;small&gt;Categorical&lt;/small&gt;&lt;/p&gt;&lt;code&gt;HIGH CARDINALITY&lt;/code&gt;&lt;br&gt;&lt;p class=variable-description&gt;&lt;/p&gt;&lt;/div&gt;&lt;div class=col-sm-3&gt;&lt;table class=&quot;table table-condensed stats&quot;&gt;&lt;tbody&gt;&lt;tr class=alert&gt;&lt;th&gt;Distinct count&lt;/th&gt;&lt;td&gt;66927&lt;/td&gt;&lt;/tr&gt;&lt;tr&gt;&lt;th&gt;Unique (%)&lt;/th&gt;&lt;td&gt;7.4%&lt;/td&gt;&lt;/tr&gt;&lt;tr&gt;&lt;th&gt;Missing&lt;/th&gt;&lt;td&gt;0&lt;/td&gt;&lt;/tr&gt;&lt;tr&gt;&lt;th&gt;Missing (%)&lt;/th&gt;&lt;td&gt;0.0%&lt;/td&gt;&lt;/tr&gt;&lt;tr&gt;&lt;th&gt;Memory size&lt;/th&gt;&lt;td&gt;6.9 MiB&lt;/td&gt;&lt;/tr&gt;&lt;/tbody&gt;&lt;/table&gt;&lt;/div&gt;&lt;div class=col-sm-6&gt;&lt;div class=&quot;col-sm- collapse in&quot; id=minifreqtable&gt;&lt;table class=&quot;mini freq&quot;&gt;&lt;tr class&gt;&lt;th width=50%&gt;629a3f3a95f4d4253f0def5f6e4434f6&lt;/th&gt;&lt;td width=50%&gt;&lt;div class=bar style=width:0.1% data-toggle=tooltip data-placement=right data-html=true data-delay=500&gt; &amp;nbsp; &lt;/div&gt; 1166 &lt;/td&gt;&lt;/tr&gt;&lt;tr class&gt;&lt;th width=50%&gt;5c7e65f02a4ff4930f5cff4e44603609&lt;/th&gt;&lt;td width=50%&gt;&lt;div class=bar style=width:0.1% data-toggle=tooltip data-placement=right data-html=true data-delay=500&gt; &amp;nbsp; &lt;/div&gt; 844 &lt;/td&gt;&lt;/tr&gt;&lt;tr class&gt;&lt;th width=50%&gt;83d02741da50d8a84485cb8d0cb39b88&lt;/th&gt;&lt;td width=50%&gt;&lt;div class=bar style=width:0.1% data-toggle=tooltip data-placement=right data-html=true data-delay=500&gt; &amp;nbsp; &lt;/div&gt; 779 &lt;/td&gt;&lt;/tr&gt;&lt;tr class&gt;&lt;th width=50%&gt;3c689a8b53787681208eb16e5618775f&lt;/th&gt;&lt;td width=50%&gt;&lt;div class=bar style=width:0.1% data-toggle=tooltip data-placement=right data-html=true data-delay=500&gt; &amp;nbsp; &lt;/div&gt; 745 &lt;/td&gt;&lt;/tr&gt;&lt;tr class&gt;&lt;th width=50%&gt;57fac62074b0602711bf4ba54806f146&lt;/th&gt;&lt;td width=50%&gt;&lt;div class=bar style=width:0.1% data-toggle=tooltip data-placement=right data-html=true data-delay=500&gt; &amp;nbsp; &lt;/div&gt; 743 &lt;/td&gt;&lt;/tr&gt;&lt;tr class=other&gt;&lt;th width=50%&gt;Other values (66922)&lt;/th&gt;&lt;td width=50%&gt;&lt;div class=bar style=width:100.0% data-toggle=tooltip data-placement=right data-html=true data-delay=500&gt; 899327 &lt;/div&gt;&lt;/td&gt;&lt;/tr&gt;&lt;/table&gt;&lt;/div&gt;&lt;/div&gt;&lt;div class=&quot;col-sm-12 text-right&quot;&gt;&lt;button class=&quot;btn btn-default btn-sm&quot; data-toggle=collapse data-target=&quot;#bottom--4159712998347691432, #minifreqtable-4159712998347691432&quot; aria-expanded=true aria-controls=collapseExample&gt;Toggle details&lt;/button&gt;&lt;/div&gt;&lt;div id=bottom--4159712998347691432 class=collapse&gt;&lt;div class=&quot;row spacing&quot;&gt;&lt;ul class=&quot;nav nav-tabs&quot; role=tablist&gt;&lt;li role=presentation class=active&gt;&lt;a href=#-4159712998347691432bottom--4159712998347691432common_values aria-controls=-4159712998347691432bottom--4159712998347691432common_values role=tab data-toggle=tab&gt;Common Values&lt;/a&gt;&lt;/li&gt;&lt;/ul&gt;&lt;div class=tab-content&gt;&lt;div role=tabpanel class=&quot;tab-pane col-sm-12 active&quot; id=-4159712998347691432bottom--4159712998347691432common_values&gt;&lt;table class=&quot;freq table table-hover table-striped&quot;&gt;&lt;thead&gt;&lt;tr&gt;&lt;td&gt;Value&lt;/td&gt;&lt;td&gt;Count&lt;/td&gt;&lt;td&gt;Frequency (%)&lt;/td&gt;&lt;td&gt;&amp;nbsp;&lt;/td&gt;&lt;/tr&gt;&lt;/thead&gt;&lt;tbody&gt;&lt;tr class&gt;&lt;td title=629a3f3a95f4d4253f0def5f6e4434f6&gt;629a3f3a95f4d4253f0def5f6e4434f6&lt;/td&gt;&lt;td&gt;1166&lt;/td&gt;&lt;td&gt;0.1%&lt;/td&gt;&lt;td&gt;&lt;div class=bar style=width:0.1%&gt;&amp;nbsp;&lt;/div&gt;&lt;/td&gt;&lt;/tr&gt;&lt;tr class&gt;&lt;td title=5c7e65f02a4ff4930f5cff4e44603609&gt;5c7e65f02a4ff4930f5cff4e44603609&lt;/td&gt;&lt;td&gt;844&lt;/td&gt;&lt;td&gt;0.1%&lt;/td&gt;&lt;td&gt;&lt;div class=bar style=width:0.1%&gt;&amp;nbsp;&lt;/div&gt;&lt;/td&gt;&lt;/tr&gt;&lt;tr class&gt;&lt;td title=83d02741da50d8a84485cb8d0cb39b88&gt;83d02741da50d8a84485cb8d0cb39b88&lt;/td&gt;&lt;td&gt;779&lt;/td&gt;&lt;td&gt;0.1%&lt;/td&gt;&lt;td&gt;&lt;div class=bar style=width:0.1%&gt;&amp;nbsp;&lt;/div&gt;&lt;/td&gt;&lt;/tr&gt;&lt;tr class&gt;&lt;td title=3c689a8b53787681208eb16e5618775f&gt;3c689a8b53787681208eb16e5618775f&lt;/td&gt;&lt;td&gt;745&lt;/td&gt;&lt;td&gt;0.1%&lt;/td&gt;&lt;td&gt;&lt;div class=bar style=width:0.1%&gt;&amp;nbsp;&lt;/div&gt;&lt;/td&gt;&lt;/tr&gt;&lt;tr class&gt;&lt;td title=57fac62074b0602711bf4ba54806f146&gt;57fac62074b0602711bf4ba54806f146&lt;/td&gt;&lt;td&gt;743&lt;/td&gt;&lt;td&gt;0.1%&lt;/td&gt;&lt;td&gt;&lt;div class=bar style=width:0.1%&gt;&amp;nbsp;&lt;/div&gt;&lt;/td&gt;&lt;/tr&gt;&lt;tr class&gt;&lt;td title=393d66dbc5a5b38e1c9f81577374c3d9&gt;393d66dbc5a5b38e1c9f81577374c3d9&lt;/td&gt;&lt;td&gt;650&lt;/td&gt;&lt;td&gt;0.1%&lt;/td&gt;&lt;td&gt;&lt;div class=bar style=width:0.1%&gt;&amp;nbsp;&lt;/div&gt;&lt;/td&gt;&lt;/tr&gt;&lt;tr class&gt;&lt;td title=82d1514b6e415597011ecc17df05d365&gt;82d1514b6e415597011ecc17df05d365&lt;/td&gt;&lt;td&gt;596&lt;/td&gt;&lt;td&gt;0.1%&lt;/td&gt;&lt;td&gt;&lt;div class=bar style=width:0.1%&gt;&amp;nbsp;&lt;/div&gt;&lt;/td&gt;&lt;/tr&gt;&lt;tr class&gt;&lt;td title=ad4f1f69ca3247a73fa95dbb48305771&gt;ad4f1f69ca3247a73fa95dbb48305771&lt;/td&gt;&lt;td&gt;574&lt;/td&gt;&lt;td&gt;0.1%&lt;/td&gt;&lt;td&gt;&lt;div class=bar style=width:0.1%&gt;&amp;nbsp;&lt;/div&gt;&lt;/td&gt;&lt;/tr&gt;&lt;tr class&gt;&lt;td title=95539910a8fe6035ecdded42181c5ab3&gt;95539910a8fe6035ecdded42181c5ab3&lt;/td&gt;&lt;td&gt;511&lt;/td&gt;&lt;td&gt;0.1%&lt;/td&gt;&lt;td&gt;&lt;div class=bar style=width:0.1%&gt;&amp;nbsp;&lt;/div&gt;&lt;/td&gt;&lt;/tr&gt;&lt;tr class&gt;&lt;td title=0d881b04a5b9854dd5c9c2c336d04ed8&gt;0d881b04a5b9854dd5c9c2c336d04ed8&lt;/td&gt;&lt;td&gt;495&lt;/td&gt;&lt;td&gt;0.1%&lt;/td&gt;&lt;td&gt;&lt;div class=bar style=width:0.1%&gt;&amp;nbsp;&lt;/div&gt;&lt;/td&gt;&lt;/tr&gt;&lt;tr class=other&gt;&lt;td title=&quot;Other values (66917)&quot;&gt;Other values (66917)&lt;/td&gt;&lt;td&gt;896501&lt;/td&gt;&lt;td&gt;99.2%&lt;/td&gt;&lt;td&gt;&lt;div class=bar style=width:100.0%&gt;&amp;nbsp;&lt;/div&gt;&lt;/td&gt;&lt;/tr&gt;&lt;/tbody&gt;&lt;/table&gt;&lt;/div&gt;&lt;/div&gt;&lt;/div&gt;&lt;/div&gt;&lt;/div&gt;&lt;/div&gt;&lt;div class=&quot;row spacing&quot;&gt;&lt;a class=&quot;anchor-pos anchor-pos-variable&quot; id=pp_var_-5708140981792338018&gt;&lt;/a&gt;&lt;div class=variable&gt;&lt;div class=col-sm-3&gt;&lt;p class=h4 title=&quot;author id&quot;&gt;&lt;a href=#pp_var_-5708140981792338018&gt;author id&lt;/a&gt;&lt;br&gt;&lt;small&gt;Categorical&lt;/small&gt;&lt;/p&gt;&lt;code&gt;HIGH CARDINALITY&lt;/code&gt;&lt;br&gt;&lt;p class=variable-description&gt;&lt;/p&gt;&lt;/div&gt;&lt;div class=col-sm-3&gt;&lt;table class=&quot;table table-condensed stats&quot;&gt;&lt;tbody&gt;&lt;tr class=alert&gt;&lt;th&gt;Distinct count&lt;/th&gt;&lt;td&gt;97689&lt;/td&gt;&lt;/tr&gt;&lt;tr&gt;&lt;th&gt;Unique (%)&lt;/th&gt;&lt;td&gt;10.8%&lt;/td&gt;&lt;/tr&gt;&lt;tr&gt;&lt;th&gt;Missing&lt;/th&gt;&lt;td&gt;0&lt;/td&gt;&lt;/tr&gt;&lt;tr&gt;&lt;th&gt;Missing (%)&lt;/th&gt;&lt;td&gt;0.0%&lt;/td&gt;&lt;/tr&gt;&lt;tr&gt;&lt;th&gt;Memory size&lt;/th&gt;&lt;td&gt;6.9 MiB&lt;/td&gt;&lt;/tr&gt;&lt;/tbody&gt;&lt;/table&gt;&lt;/div&gt;&lt;div class=col-sm-6&gt;&lt;div class=&quot;col-sm- collapse in&quot; id=minifreqtable&gt;&lt;table class=&quot;mini freq&quot;&gt;&lt;tr class&gt;&lt;th width=50%&gt;69b0d3dfe919a6b860a9fac82de52a7e&lt;/th&gt;&lt;td width=50%&gt;&lt;div class=bar style=width:1.9% data-toggle=tooltip data-placement=right data-html=true data-delay=500&gt; &amp;nbsp; &lt;/div&gt; 16214 &lt;/td&gt;&lt;/tr&gt;&lt;tr class&gt;&lt;th width=50%&gt;b8810fee2f4a71f849f3f7409546d1d9&lt;/th&gt;&lt;td width=50%&gt;&lt;div class=bar style=width:1.2% data-toggle=tooltip data-placement=right data-html=true data-delay=500&gt; &amp;nbsp; &lt;/div&gt; 9837 &lt;/td&gt;&lt;/tr&gt;&lt;tr class&gt;&lt;th width=50%&gt;edb259c0e0038f38bb200bc20c8cbf7e&lt;/th&gt;&lt;td width=50%&gt;&lt;div class=bar style=width:1.0% data-toggle=tooltip data-placement=right data-html=true data-delay=500&gt; &amp;nbsp; &lt;/div&gt; 8771 &lt;/td&gt;&lt;/tr&gt;&lt;tr class&gt;&lt;th width=50%&gt;ab7faae5d7b250ea8606486575f8f79c&lt;/th&gt;&lt;td width=50%&gt;&lt;div class=bar style=width:1.0% data-toggle=tooltip data-placement=right data-html=true data-delay=500&gt; &amp;nbsp; &lt;/div&gt; 8621 &lt;/td&gt;&lt;/tr&gt;&lt;tr class&gt;&lt;th width=50%&gt;a9b326df4e6da61c5b6f5e1058be83a2&lt;/th&gt;&lt;td width=50%&gt;&lt;div class=bar style=width:1.0% data-toggle=tooltip data-placement=right data-html=true data-delay=500&gt; &amp;nbsp; &lt;/div&gt; 8102 &lt;/td&gt;&lt;/tr&gt;&lt;tr class=other&gt;&lt;th width=50%&gt;Other values (97684)&lt;/th&gt;&lt;td width=50%&gt;&lt;div class=bar style=width:100.0% data-toggle=tooltip data-placement=right data-html=true data-delay=500&gt; 852059 &lt;/div&gt;&lt;/td&gt;&lt;/tr&gt;&lt;/table&gt;&lt;/div&gt;&lt;/div&gt;&lt;div class=&quot;col-sm-12 text-right&quot;&gt;&lt;button class=&quot;btn btn-default btn-sm&quot; data-toggle=collapse data-target=&quot;#bottom--5708140981792338018, #minifreqtable-5708140981792338018&quot; aria-expanded=true aria-controls=collapseExample&gt;Toggle details&lt;/button&gt;&lt;/div&gt;&lt;div id=bottom--5708140981792338018 class=collapse&gt;&lt;div class=&quot;row spacing&quot;&gt;&lt;ul class=&quot;nav nav-tabs&quot; role=tablist&gt;&lt;li role=presentation class=active&gt;&lt;a href=#-5708140981792338018bottom--5708140981792338018common_values aria-controls=-5708140981792338018bottom--5708140981792338018common_values role=tab data-toggle=tab&gt;Common Values&lt;/a&gt;&lt;/li&gt;&lt;/ul&gt;&lt;div class=tab-content&gt;&lt;div role=tabpanel class=&quot;tab-pane col-sm-12 active&quot; id=-5708140981792338018bottom--5708140981792338018common_values&gt;&lt;table class=&quot;freq table table-hover table-striped&quot;&gt;&lt;thead&gt;&lt;tr&gt;&lt;td&gt;Value&lt;/td&gt;&lt;td&gt;Count&lt;/td&gt;&lt;td&gt;Frequency (%)&lt;/td&gt;&lt;td&gt;&amp;nbsp;&lt;/td&gt;&lt;/tr&gt;&lt;/thead&gt;&lt;tbody&gt;&lt;tr class&gt;&lt;td title=69b0d3dfe919a6b860a9fac82de52a7e&gt;69b0d3dfe919a6b860a9fac82de52a7e&lt;/td&gt;&lt;td&gt;16214&lt;/td&gt;&lt;td&gt;1.8%&lt;/td&gt;&lt;td&gt;&lt;div class=bar style=width:2.0%&gt;&amp;nbsp;&lt;/div&gt;&lt;/td&gt;&lt;/tr&gt;&lt;tr class&gt;&lt;td title=b8810fee2f4a71f849f3f7409546d1d9&gt;b8810fee2f4a71f849f3f7409546d1d9&lt;/td&gt;&lt;td&gt;9837&lt;/td&gt;&lt;td&gt;1.1%&lt;/td&gt;&lt;td&gt;&lt;div class=bar style=width:1.2%&gt;&amp;nbsp;&lt;/div&gt;&lt;/td&gt;&lt;/tr&gt;&lt;tr class&gt;&lt;td title=edb259c0e0038f38bb200bc20c8cbf7e&gt;edb259c0e0038f38bb200bc20c8cbf7e&lt;/td&gt;&lt;td&gt;8771&lt;/td&gt;&lt;td&gt;1.0%&lt;/td&gt;&lt;td&gt;&lt;div class=bar style=width:1.1%&gt;&amp;nbsp;&lt;/div&gt;&lt;/td&gt;&lt;/tr&gt;&lt;tr class&gt;&lt;td title=ab7faae5d7b250ea8606486575f8f79c&gt;ab7faae5d7b250ea8606486575f8f79c&lt;/td&gt;&lt;td&gt;8621&lt;/td&gt;&lt;td&gt;1.0%&lt;/td&gt;&lt;td&gt;&lt;div class=bar style=width:1.0%&gt;&amp;nbsp;&lt;/div&gt;&lt;/td&gt;&lt;/tr&gt;&lt;tr class&gt;&lt;td title=a9b326df4e6da61c5b6f5e1058be83a2&gt;a9b326df4e6da61c5b6f5e1058be83a2&lt;/td&gt;&lt;td&gt;8102&lt;/td&gt;&lt;td&gt;0.9%&lt;/td&gt;&lt;td&gt;&lt;div class=bar style=width:1.0%&gt;&amp;nbsp;&lt;/div&gt;&lt;/td&gt;&lt;/tr&gt;&lt;tr class&gt;&lt;td title=a11aabeeceeae6b8cb5d12ea06b56554&gt;a11aabeeceeae6b8cb5d12ea06b56554&lt;/td&gt;&lt;td&gt;5906&lt;/td&gt;&lt;td&gt;0.7%&lt;/td&gt;&lt;td&gt;&lt;div class=bar style=width:0.7%&gt;&amp;nbsp;&lt;/div&gt;&lt;/td&gt;&lt;/tr&gt;&lt;tr class&gt;&lt;td title=b25b6b77a0087ff8385941e5545d32ea&gt;b25b6b77a0087ff8385941e5545d32ea&lt;/td&gt;&lt;td&gt;5788&lt;/td&gt;&lt;td&gt;0.6%&lt;/td&gt;&lt;td&gt;&lt;div class=bar style=width:0.7%&gt;&amp;nbsp;&lt;/div&gt;&lt;/td&gt;&lt;/tr&gt;&lt;tr class&gt;&lt;td title=0a39f78bcb297ab0ebe8a29c28bfed89&gt;0a39f78bcb297ab0ebe8a29c28bfed89&lt;/td&gt;&lt;td&gt;5449&lt;/td&gt;&lt;td&gt;0.6%&lt;/td&gt;&lt;td&gt;&lt;div class=bar style=width:0.7%&gt;&amp;nbsp;&lt;/div&gt;&lt;/td&gt;&lt;/tr&gt;&lt;tr class&gt;&lt;td title=f139aba52f9fa1394b4034a7954b2220&gt;f139aba52f9fa1394b4034a7954b2220&lt;/td&gt;&lt;td&gt;4549&lt;/td&gt;&lt;td&gt;0.5%&lt;/td&gt;&lt;td&gt;&lt;div class=bar style=width:0.6%&gt;&amp;nbsp;&lt;/div&gt;&lt;/td&gt;&lt;/tr&gt;&lt;tr class&gt;&lt;td title=65325d50b2e25aca54bc871b89758c9c&gt;65325d50b2e25aca54bc871b89758c9c&lt;/td&gt;&lt;td&gt;3854&lt;/td&gt;&lt;td&gt;0.4%&lt;/td&gt;&lt;td&gt;&lt;div class=bar style=width:0.5%&gt;&amp;nbsp;&lt;/div&gt;&lt;/td&gt;&lt;/tr&gt;&lt;tr class=other&gt;&lt;td title=&quot;Other values (97679)&quot;&gt;Other values (97679)&lt;/td&gt;&lt;td&gt;826513&lt;/td&gt;&lt;td&gt;91.5%&lt;/td&gt;&lt;td&gt;&lt;div class=bar style=width:100.0%&gt;&amp;nbsp;&lt;/div&gt;&lt;/td&gt;&lt;/tr&gt;&lt;/tbody&gt;&lt;/table&gt;&lt;/div&gt;&lt;/div&gt;&lt;/div&gt;&lt;/div&gt;&lt;/div&gt;&lt;/div&gt;&lt;div class=&quot;row spacing&quot;&gt;&lt;a class=&quot;anchor-pos anchor-pos-variable&quot; id=pp_var_3299046686589737059&gt;&lt;/a&gt;&lt;div class=variable&gt;&lt;div class=col-sm-3&gt;&lt;p class=h4 title=msg&gt;&lt;a href=#pp_var_3299046686589737059&gt;msg&lt;/a&gt;&lt;br&gt;&lt;small&gt;Categorical&lt;/small&gt;&lt;/p&gt;&lt;code&gt;HIGH CARDINALITY&lt;/code&gt;&lt;br&gt;&lt;p class=variable-description&gt;&lt;/p&gt;&lt;/div&gt;&lt;div class=col-sm-3&gt;&lt;table class=&quot;table table-condensed stats&quot;&gt;&lt;tbody&gt;&lt;tr class=alert&gt;&lt;th&gt;Distinct count&lt;/th&gt;&lt;td&gt;599163&lt;/td&gt;&lt;/tr&gt;&lt;tr&gt;&lt;th&gt;Unique (%)&lt;/th&gt;&lt;td&gt;66.3%&lt;/td&gt;&lt;/tr&gt;&lt;tr&gt;&lt;th&gt;Missing&lt;/th&gt;&lt;td&gt;0&lt;/td&gt;&lt;/tr&gt;&lt;tr&gt;&lt;th&gt;Missing (%)&lt;/th&gt;&lt;td&gt;0.0%&lt;/td&gt;&lt;/tr&gt;&lt;tr&gt;&lt;th&gt;Memory size&lt;/th&gt;&lt;td&gt;6.9 MiB&lt;/td&gt;&lt;/tr&gt;&lt;/tbody&gt;&lt;/table&gt;&lt;/div&gt;&lt;div class=col-sm-6&gt;&lt;div class=&quot;col-sm- collapse in&quot; id=minifreqtable&gt;&lt;table class=&quot;mini freq&quot;&gt;&lt;tr class&gt;&lt;th width=50%&gt;hi&lt;/th&gt;&lt;td width=50%&gt;&lt;div class=bar style=width:3.3% data-toggle=tooltip data-placement=right data-html=true data-delay=500&gt; &amp;nbsp; &lt;/div&gt; 28192 &lt;/td&gt;&lt;/tr&gt;&lt;tr class&gt;&lt;th width=50%&gt;hey&lt;/th&gt;&lt;td width=50%&gt;&lt;div class=bar style=width:1.4% data-toggle=tooltip data-placement=right data-html=true data-delay=500&gt; &amp;nbsp; &lt;/div&gt; 11610 &lt;/td&gt;&lt;/tr&gt;&lt;tr class&gt;&lt;th width=50%&gt;asl&lt;/th&gt;&lt;td width=50%&gt;&lt;div class=bar style=width:0.9% data-toggle=tooltip data-placement=right data-html=true data-delay=500&gt; &amp;nbsp; &lt;/div&gt; 7371 &lt;/td&gt;&lt;/tr&gt;&lt;tr class&gt;&lt;th width=50%&gt;asl?&lt;/th&gt;&lt;td width=50%&gt;&lt;div class=bar style=width:0.8% data-toggle=tooltip data-placement=right data-html=true data-delay=500&gt; &amp;nbsp; &lt;/div&gt; 6928 &lt;/td&gt;&lt;/tr&gt;&lt;tr class&gt;&lt;th width=50%&gt;hello&lt;/th&gt;&lt;td width=50%&gt;&lt;div class=bar style=width:0.8% data-toggle=tooltip data-placement=right data-html=true data-delay=500&gt; &amp;nbsp; &lt;/div&gt; 6510 &lt;/td&gt;&lt;/tr&gt;&lt;tr class=other&gt;&lt;th width=50%&gt;Other values (599158)&lt;/th&gt;&lt;td width=50%&gt;&lt;div class=bar style=width:100.0% data-toggle=tooltip data-placement=right data-html=true data-delay=500&gt; 842993 &lt;/div&gt;&lt;/td&gt;&lt;/tr&gt;&lt;/table&gt;&lt;/div&gt;&lt;/div&gt;&lt;div class=&quot;col-sm-12 text-right&quot;&gt;&lt;button class=&quot;btn btn-default btn-sm&quot; data-toggle=collapse data-target=&quot;#bottom-3299046686589737059, #minifreqtable3299046686589737059&quot; aria-expanded=true aria-controls=collapseExample&gt;Toggle details&lt;/button&gt;&lt;/div&gt;&lt;div id=bottom-3299046686589737059 class=collapse&gt;&lt;div class=&quot;row spacing&quot;&gt;&lt;ul class=&quot;nav nav-tabs&quot; role=tablist&gt;&lt;li role=presentation class=active&gt;&lt;a href=#3299046686589737059bottom-3299046686589737059common_values aria-controls=3299046686589737059bottom-3299046686589737059common_values role=tab data-toggle=tab&gt;Common Values&lt;/a&gt;&lt;/li&gt;&lt;/ul&gt;&lt;div class=tab-content&gt;&lt;div role=tabpanel class=&quot;tab-pane col-sm-12 active&quot; id=3299046686589737059bottom-3299046686589737059common_values&gt;&lt;table class=&quot;freq table table-hover table-striped&quot;&gt;&lt;thead&gt;&lt;tr&gt;&lt;td&gt;Value&lt;/td&gt;&lt;td&gt;Count&lt;/td&gt;&lt;td&gt;Frequency (%)&lt;/td&gt;&lt;td&gt;&amp;nbsp;&lt;/td&gt;&lt;/tr&gt;&lt;/thead&gt;&lt;tbody&gt;&lt;tr class&gt;&lt;td title=hi&gt;hi&lt;/td&gt;&lt;td&gt;28192&lt;/td&gt;&lt;td&gt;3.1%&lt;/td&gt;&lt;td&gt;&lt;div class=bar style=width:3.4%&gt;&amp;nbsp;&lt;/div&gt;&lt;/td&gt;&lt;/tr&gt;&lt;tr class&gt;&lt;td title=hey&gt;hey&lt;/td&gt;&lt;td&gt;11610&lt;/td&gt;&lt;td&gt;1.3%&lt;/td&gt;&lt;td&gt;&lt;div class=bar style=width:1.4%&gt;&amp;nbsp;&lt;/div&gt;&lt;/td&gt;&lt;/tr&gt;&lt;tr class&gt;&lt;td title=asl&gt;asl&lt;/td&gt;&lt;td&gt;7371&lt;/td&gt;&lt;td&gt;0.8%&lt;/td&gt;&lt;td&gt;&lt;div class=bar style=width:0.9%&gt;&amp;nbsp;&lt;/div&gt;&lt;/td&gt;&lt;/tr&gt;&lt;tr class&gt;&lt;td title=asl?&gt;asl?&lt;/td&gt;&lt;td&gt;6928&lt;/td&gt;&lt;td&gt;0.8%&lt;/td&gt;&lt;td&gt;&lt;div class=bar style=width:0.8%&gt;&amp;nbsp;&lt;/div&gt;&lt;/td&gt;&lt;/tr&gt;&lt;tr class&gt;&lt;td title=hello&gt;hello&lt;/td&gt;&lt;td&gt;6510&lt;/td&gt;&lt;td&gt;0.7%&lt;/td&gt;&lt;td&gt;&lt;div class=bar style=width:0.8%&gt;&amp;nbsp;&lt;/div&gt;&lt;/td&gt;&lt;/tr&gt;&lt;tr class&gt;&lt;td title=lol&gt;lol&lt;/td&gt;&lt;td&gt;5580&lt;/td&gt;&lt;td&gt;0.6%&lt;/td&gt;&lt;td&gt;&lt;div class=bar style=width:0.7%&gt;&amp;nbsp;&lt;/div&gt;&lt;/td&gt;&lt;/tr&gt;&lt;tr class&gt;&lt;td title=ok&gt;ok&lt;/td&gt;&lt;td&gt;5204&lt;/td&gt;&lt;td&gt;0.6%&lt;/td&gt;&lt;td&gt;&lt;div class=bar style=width:0.6%&gt;&amp;nbsp;&lt;/div&gt;&lt;/td&gt;&lt;/tr&gt;&lt;tr class&gt;&lt;td title=?&gt;?&lt;/td&gt;&lt;td&gt;4886&lt;/td&gt;&lt;td&gt;0.5%&lt;/td&gt;&lt;td&gt;&lt;div class=bar style=width:0.6%&gt;&amp;nbsp;&lt;/div&gt;&lt;/td&gt;&lt;/tr&gt;&lt;tr class&gt;&lt;td title=:)&gt;:)&lt;/td&gt;&lt;td&gt;3764&lt;/td&gt;&lt;td&gt;0.4%&lt;/td&gt;&lt;td&gt;&lt;div class=bar style=width:0.5%&gt;&amp;nbsp;&lt;/div&gt;&lt;/td&gt;&lt;/tr&gt;&lt;tr class&gt;&lt;td title=yes&gt;yes&lt;/td&gt;&lt;td&gt;3350&lt;/td&gt;&lt;td&gt;0.4%&lt;/td&gt;&lt;td&gt;&lt;div class=bar style=width:0.4%&gt;&amp;nbsp;&lt;/div&gt;&lt;/td&gt;&lt;/tr&gt;&lt;tr class=other&gt;&lt;td title=&quot;Other values (599153)&quot;&gt;Other values (599153)&lt;/td&gt;&lt;td&gt;820209&lt;/td&gt;&lt;td&gt;90.8%&lt;/td&gt;&lt;td&gt;&lt;div class=bar style=width:100.0%&gt;&amp;nbsp;&lt;/div&gt;&lt;/td&gt;&lt;/tr&gt;&lt;/tbody&gt;&lt;/table&gt;&lt;/div&gt;&lt;/div&gt;&lt;/div&gt;&lt;/div&gt;&lt;/div&gt;&lt;/div&gt;&lt;div class=&quot;row spacing&quot;&gt;&lt;a class=&quot;anchor-pos anchor-pos-variable&quot; id=pp_var_4192156490120416376&gt;&lt;/a&gt;&lt;div class=variable&gt;&lt;div class=col-sm-3&gt;&lt;p class=h4 title=time&gt;&lt;a href=#pp_var_4192156490120416376&gt;time&lt;/a&gt;&lt;br&gt;&lt;small&gt;Categorical&lt;/small&gt;&lt;/p&gt;&lt;code&gt;HIGH CARDINALITY&lt;/code&gt;&lt;br&gt;&lt;p class=variable-description&gt;&lt;/p&gt;&lt;/div&gt;&lt;div class=col-sm-3&gt;&lt;table class=&quot;table table-condensed stats&quot;&gt;&lt;tbody&gt;&lt;tr class=alert&gt;&lt;th&gt;Distinct count&lt;/th&gt;&lt;td&gt;1440&lt;/td&gt;&lt;/tr&gt;&lt;tr&gt;&lt;th&gt;Unique (%)&lt;/th&gt;&lt;td&gt;0.2%&lt;/td&gt;&lt;/tr&gt;&lt;tr&gt;&lt;th&gt;Missing&lt;/th&gt;&lt;td&gt;0&lt;/td&gt;&lt;/tr&gt;&lt;tr&gt;&lt;th&gt;Missing (%)&lt;/th&gt;&lt;td&gt;0.0%&lt;/td&gt;&lt;/tr&gt;&lt;tr&gt;&lt;th&gt;Memory size&lt;/th&gt;&lt;td&gt;6.9 MiB&lt;/td&gt;&lt;/tr&gt;&lt;/tbody&gt;&lt;/table&gt;&lt;/div&gt;&lt;div class=col-sm-6&gt;&lt;div class=&quot;col-sm- collapse in&quot; id=minifreqtable&gt;&lt;table class=&quot;mini freq&quot;&gt;&lt;tr class&gt;&lt;th width=50%&gt;02:00&lt;/th&gt;&lt;td width=50%&gt;&lt;div class=bar style=width:0.2% data-toggle=tooltip data-placement=right data-html=true data-delay=500&gt; &amp;nbsp; &lt;/div&gt; 1738 &lt;/td&gt;&lt;/tr&gt;&lt;tr class&gt;&lt;th width=50%&gt;02:01&lt;/th&gt;&lt;td width=50%&gt;&lt;div class=bar style=width:0.2% data-toggle=tooltip data-placement=right data-html=true data-delay=500&gt; &amp;nbsp; &lt;/div&gt; 1638 &lt;/td&gt;&lt;/tr&gt;&lt;tr class&gt;&lt;th width=50%&gt;02:04&lt;/th&gt;&lt;td width=50%&gt;&lt;div class=bar style=width:0.2% data-toggle=tooltip data-placement=right data-html=true data-delay=500&gt; &amp;nbsp; &lt;/div&gt; 1597 &lt;/td&gt;&lt;/tr&gt;&lt;tr class&gt;&lt;th width=50%&gt;02:10&lt;/th&gt;&lt;td width=50%&gt;&lt;div class=bar style=width:0.2% data-toggle=tooltip data-placement=right data-html=true data-delay=500&gt; &amp;nbsp; &lt;/div&gt; 1572 &lt;/td&gt;&lt;/tr&gt;&lt;tr class&gt;&lt;th width=50%&gt;02:03&lt;/th&gt;&lt;td width=50%&gt;&lt;div class=bar style=width:0.2% data-toggle=tooltip data-placement=right data-html=true data-delay=500&gt; &amp;nbsp; &lt;/div&gt; 1528 &lt;/td&gt;&lt;/tr&gt;&lt;tr class=other&gt;&lt;th width=50%&gt;Other values (1435)&lt;/th&gt;&lt;td width=50%&gt;&lt;div class=bar style=width:100.0% data-toggle=tooltip data-placement=right data-html=true data-delay=500&gt; 895531 &lt;/div&gt;&lt;/td&gt;&lt;/tr&gt;&lt;/table&gt;&lt;/div&gt;&lt;/div&gt;&lt;div class=&quot;col-sm-12 text-right&quot;&gt;&lt;button class=&quot;btn btn-default btn-sm&quot; data-toggle=collapse data-target=&quot;#bottom-4192156490120416376, #minifreqtable4192156490120416376&quot; aria-expanded=true aria-controls=collapseExample&gt;Toggle details&lt;/button&gt;&lt;/div&gt;&lt;div id=bottom-4192156490120416376 class=collapse&gt;&lt;div class=&quot;row spacing&quot;&gt;&lt;ul class=&quot;nav nav-tabs&quot; role=tablist&gt;&lt;li role=presentation class=active&gt;&lt;a href=#4192156490120416376bottom-4192156490120416376common_values aria-controls=4192156490120416376bottom-4192156490120416376common_values role=tab data-toggle=tab&gt;Common Values&lt;/a&gt;&lt;/li&gt;&lt;/ul&gt;&lt;div class=tab-content&gt;&lt;div role=tabpanel class=&quot;tab-pane col-sm-12 active&quot; id=4192156490120416376bottom-4192156490120416376common_values&gt;&lt;table class=&quot;freq table table-hover table-striped&quot;&gt;&lt;thead&gt;&lt;tr&gt;&lt;td&gt;Value&lt;/td&gt;&lt;td&gt;Count&lt;/td&gt;&lt;td&gt;Frequency (%)&lt;/td&gt;&lt;td&gt;&amp;nbsp;&lt;/td&gt;&lt;/tr&gt;&lt;/thead&gt;&lt;tbody&gt;&lt;tr class&gt;&lt;td title=02:00&gt;02:00&lt;/td&gt;&lt;td&gt;1738&lt;/td&gt;&lt;td&gt;0.2%&lt;/td&gt;&lt;td&gt;&lt;div class=bar style=width:0.2%&gt;&amp;nbsp;&lt;/div&gt;&lt;/td&gt;&lt;/tr&gt;&lt;tr class&gt;&lt;td title=02:01&gt;02:01&lt;/td&gt;&lt;td&gt;1638&lt;/td&gt;&lt;td&gt;0.2%&lt;/td&gt;&lt;td&gt;&lt;div class=bar style=width:0.2%&gt;&amp;nbsp;&lt;/div&gt;&lt;/td&gt;&lt;/tr&gt;&lt;tr class&gt;&lt;td title=02:04&gt;02:04&lt;/td&gt;&lt;td&gt;1597&lt;/td&gt;&lt;td&gt;0.2%&lt;/td&gt;&lt;td&gt;&lt;div class=bar style=width:0.2%&gt;&amp;nbsp;&lt;/div&gt;&lt;/td&gt;&lt;/tr&gt;&lt;tr class&gt;&lt;td title=02:10&gt;02:10&lt;/td&gt;&lt;td&gt;1572&lt;/td&gt;&lt;td&gt;0.2%&lt;/td&gt;&lt;td&gt;&lt;div class=bar style=width:0.2%&gt;&amp;nbsp;&lt;/div&gt;&lt;/td&gt;&lt;/tr&gt;&lt;tr class&gt;&lt;td title=02:03&gt;02:03&lt;/td&gt;&lt;td&gt;1528&lt;/td&gt;&lt;td&gt;0.2%&lt;/td&gt;&lt;td&gt;&lt;div class=bar style=width:0.2%&gt;&amp;nbsp;&lt;/div&gt;&lt;/td&gt;&lt;/tr&gt;&lt;tr class&gt;&lt;td title=02:05&gt;02:05&lt;/td&gt;&lt;td&gt;1505&lt;/td&gt;&lt;td&gt;0.2%&lt;/td&gt;&lt;td&gt;&lt;div class=bar style=width:0.2%&gt;&amp;nbsp;&lt;/div&gt;&lt;/td&gt;&lt;/tr&gt;&lt;tr class&gt;&lt;td title=02:12&gt;02:12&lt;/td&gt;&lt;td&gt;1493&lt;/td&gt;&lt;td&gt;0.2%&lt;/td&gt;&lt;td&gt;&lt;div class=bar style=width:0.2%&gt;&amp;nbsp;&lt;/div&gt;&lt;/td&gt;&lt;/tr&gt;&lt;tr class&gt;&lt;td title=02:11&gt;02:11&lt;/td&gt;&lt;td&gt;1486&lt;/td&gt;&lt;td&gt;0.2%&lt;/td&gt;&lt;td&gt;&lt;div class=bar style=width:0.2%&gt;&amp;nbsp;&lt;/div&gt;&lt;/td&gt;&lt;/tr&gt;&lt;tr class&gt;&lt;td title=02:08&gt;02:08&lt;/td&gt;&lt;td&gt;1485&lt;/td&gt;&lt;td&gt;0.2%&lt;/td&gt;&lt;td&gt;&lt;div class=bar style=width:0.2%&gt;&amp;nbsp;&lt;/div&gt;&lt;/td&gt;&lt;/tr&gt;&lt;tr class&gt;&lt;td title=02:09&gt;02:09&lt;/td&gt;&lt;td&gt;1477&lt;/td&gt;&lt;td&gt;0.2%&lt;/td&gt;&lt;td&gt;&lt;div class=bar style=width:0.2%&gt;&amp;nbsp;&lt;/div&gt;&lt;/td&gt;&lt;/tr&gt;&lt;tr class=other&gt;&lt;td title=&quot;Other values (1430)&quot;&gt;Other values (1430)&lt;/td&gt;&lt;td&gt;888085&lt;/td&gt;&lt;td&gt;98.3%&lt;/td&gt;&lt;td&gt;&lt;div class=bar style=width:100.0%&gt;&amp;nbsp;&lt;/div&gt;&lt;/td&gt;&lt;/tr&gt;&lt;/tbody&gt;&lt;/table&gt;&lt;/div&gt;&lt;/div&gt;&lt;/div&gt;&lt;/div&gt;&lt;/div&gt;&lt;/div&gt;&lt;div class=&quot;row spacing&quot;&gt;&lt;a class=&quot;anchor-pos anchor-pos-variable&quot; id=pp_var_3933837403859049760&gt;&lt;/a&gt;&lt;div class=variable&gt;&lt;div class=col-sm-3&gt;&lt;p class=h4 title=predator&gt;&lt;a href=#pp_var_3933837403859049760&gt;predator&lt;/a&gt;&lt;br&gt;&lt;small&gt;Boolean&lt;/small&gt;&lt;/p&gt;&lt;p class=variable-description&gt;&lt;/p&gt;&lt;/div&gt;&lt;div class=col-sm-3&gt;&lt;table class=&quot;table table-condensed stats&quot;&gt;&lt;tbody&gt;&lt;tr&gt;&lt;th&gt;Distinct count&lt;/th&gt;&lt;td&gt;2&lt;/td&gt;&lt;/tr&gt;&lt;tr&gt;&lt;th&gt;Unique (%)&lt;/th&gt;&lt;td&gt;&lt; 0.1%&lt;/td&gt;&lt;/tr&gt;&lt;tr&gt;&lt;th&gt;Missing&lt;/th&gt;&lt;td&gt;0&lt;/td&gt;&lt;/tr&gt;&lt;tr&gt;&lt;th&gt;Missing (%)&lt;/th&gt;&lt;td&gt;0.0%&lt;/td&gt;&lt;/tr&gt;&lt;tr&gt;&lt;th&gt;Memory size&lt;/th&gt;&lt;td&gt;6.9 MiB&lt;/td&gt;&lt;/tr&gt;&lt;/tbody&gt;&lt;/table&gt;&lt;/div&gt;&lt;div class=col-sm-6&gt;&lt;div class=&quot;col-sm- collapse in&quot; id=minifreqtable&gt;&lt;table class=&quot;mini freq&quot;&gt;&lt;tr class&gt;&lt;th width=50%&gt;0&lt;/th&gt;&lt;td width=50%&gt;&lt;div class=bar style=width:100.0% data-toggle=tooltip data-placement=right data-html=true data-delay=500&gt; 862626 &lt;/div&gt;&lt;/td&gt;&lt;/tr&gt;&lt;tr class&gt;&lt;th width=50%&gt;1&lt;/th&gt;&lt;td width=50%&gt;&lt;div class=bar style=width:4.8% data-toggle=tooltip data-placement=right data-html=true data-delay=500&gt; &amp;nbsp; &lt;/div&gt; 40978 &lt;/td&gt;&lt;/tr&gt;&lt;/table&gt;&lt;/div&gt;&lt;/div&gt;&lt;div class=&quot;col-sm-12 text-right&quot;&gt;&lt;button class=&quot;btn btn-default btn-sm&quot; data-toggle=collapse data-target=&quot;#bottom-3933837403859049760, #minifreqtable3933837403859049760&quot; aria-expanded=true aria-controls=collapseExample&gt;Toggle details&lt;/button&gt;&lt;/div&gt;&lt;div id=bottom-3933837403859049760 class=collapse&gt;&lt;div class=&quot;row spacing&quot;&gt;&lt;ul class=&quot;nav nav-tabs&quot; role=tablist&gt;&lt;li role=presentation class=active&gt;&lt;a href=#3933837403859049760bottom-3933837403859049760frequency_table aria-controls=3933837403859049760bottom-3933837403859049760frequency_table role=tab data-toggle=tab&gt;Frequency Table&lt;/a&gt;&lt;/li&gt;&lt;/ul&gt;&lt;div class=tab-content&gt;&lt;div role=tabpanel class=&quot;tab-pane col-sm-12 active&quot; id=3933837403859049760bottom-3933837403859049760frequency_table&gt;&lt;table class=&quot;freq table table-hover table-striped&quot;&gt;&lt;thead&gt;&lt;tr&gt;&lt;td&gt;Value&lt;/td&gt;&lt;td&gt;Count&lt;/td&gt;&lt;td&gt;Frequency (%)&lt;/td&gt;&lt;td&gt;&amp;nbsp;&lt;/td&gt;&lt;/tr&gt;&lt;/thead&gt;&lt;tbody&gt;&lt;tr class&gt;&lt;td title=0&gt;0&lt;/td&gt;&lt;td&gt;862626&lt;/td&gt;&lt;td&gt;95.5%&lt;/td&gt;&lt;td&gt;&lt;div class=bar style=width:100.0%&gt;&amp;nbsp;&lt;/div&gt;&lt;/td&gt;&lt;/tr&gt;&lt;tr class&gt;&lt;td title=1&gt;1&lt;/td&gt;&lt;td&gt;40978&lt;/td&gt;&lt;td&gt;4.5%&lt;/td&gt;&lt;td&gt;&lt;div class=bar style=width:4.8%&gt;&amp;nbsp;&lt;/div&gt;&lt;/td&gt;&lt;/tr&gt;&lt;/tbody&gt;&lt;/table&gt;&lt;/div&gt;&lt;/div&gt;&lt;/div&gt;&lt;/div&gt;&lt;/div&gt;&lt;/div&gt;&lt;/div&gt;&lt;/div&gt;&lt;/div&gt;&lt;footer&gt;&lt;div class=container-fluid&gt;&lt;div class=&quot;row center-block footer-text&quot;&gt;&lt;p class=&quot;text-muted text-center&quot;&gt;Report generated with &lt;a href=https://github.com/pandas-profiling/pandas-profiling&gt;pandas-profiling&lt;/a&gt;.&lt;/p&gt;&lt;/div&gt;&lt;/div&gt;&lt;/footer&gt;&lt;script&gt;\n",
       "/*! jQuery v1.12.4 | (c) jQuery Foundation | jquery.org/license */\n",
       "!function(a,b){&quot;object&quot;==typeof module&amp;&amp;&quot;object&quot;==typeof module.exports?module.exports=a.document?b(a,!0):function(a){if(!a.document)throw new Error(&quot;jQuery requires a window with a document&quot;);return b(a)}:b(a)}(&quot;undefined&quot;!=typeof window?window:this,function(a,b){var c=[],d=a.document,e=c.slice,f=c.concat,g=c.push,h=c.indexOf,i={},j=i.toString,k=i.hasOwnProperty,l={},m=&quot;1.12.4&quot;,n=function(a,b){return new n.fn.init(a,b)},o=/^[\\s\\uFEFF\\xA0]+|[\\s\\uFEFF\\xA0]+$/g,p=/^-ms-/,q=/-([\\da-z])/gi,r=function(a,b){return b.toUpperCase()};n.fn=n.prototype={jquery:m,constructor:n,selector:&quot;&quot;,length:0,toArray:function(){return e.call(this)},get:function(a){return null!=a?0&gt;a?this[a+this.length]:this[a]:e.call(this)},pushStack:function(a){var b=n.merge(this.constructor(),a);return b.prevObject=this,b.context=this.context,b},each:function(a){return n.each(this,a)},map:function(a){return this.pushStack(n.map(this,function(b,c){return a.call(b,c,b)}))},slice:function(){return this.pushStack(e.apply(this,arguments))},first:function(){return this.eq(0)},last:function(){return this.eq(-1)},eq:function(a){var b=this.length,c=+a+(0&gt;a?b:0);return this.pushStack(c&gt;=0&amp;&amp;b&gt;c?[this[c]]:[])},end:function(){return this.prevObject||this.constructor()},push:g,sort:c.sort,splice:c.splice},n.extend=n.fn.extend=function(){var a,b,c,d,e,f,g=arguments[0]||{},h=1,i=arguments.length,j=!1;for(&quot;boolean&quot;==typeof g&amp;&amp;(j=g,g=arguments[h]||{},h++),&quot;object&quot;==typeof g||n.isFunction(g)||(g={}),h===i&amp;&amp;(g=this,h--);i&gt;h;h++)if(null!=(e=arguments[h]))for(d in e)a=g[d],c=e[d],g!==c&amp;&amp;(j&amp;&amp;c&amp;&amp;(n.isPlainObject(c)||(b=n.isArray(c)))?(b?(b=!1,f=a&amp;&amp;n.isArray(a)?a:[]):f=a&amp;&amp;n.isPlainObject(a)?a:{},g[d]=n.extend(j,f,c)):void 0!==c&amp;&amp;(g[d]=c));return g},n.extend({expando:&quot;jQuery&quot;+(m+Math.random()).replace(/\\D/g,&quot;&quot;),isReady:!0,error:function(a){throw new Error(a)},noop:function(){},isFunction:function(a){return&quot;function&quot;===n.type(a)},isArray:Array.isArray||function(a){return&quot;array&quot;===n.type(a)},isWindow:function(a){return null!=a&amp;&amp;a==a.window},isNumeric:function(a){var b=a&amp;&amp;a.toString();return!n.isArray(a)&amp;&amp;b-parseFloat(b)+1&gt;=0},isEmptyObject:function(a){var b;for(b in a)return!1;return!0},isPlainObject:function(a){var b;if(!a||&quot;object&quot;!==n.type(a)||a.nodeType||n.isWindow(a))return!1;try{if(a.constructor&amp;&amp;!k.call(a,&quot;constructor&quot;)&amp;&amp;!k.call(a.constructor.prototype,&quot;isPrototypeOf&quot;))return!1}catch(c){return!1}if(!l.ownFirst)for(b in a)return k.call(a,b);for(b in a);return void 0===b||k.call(a,b)},type:function(a){return null==a?a+&quot;&quot;:&quot;object&quot;==typeof a||&quot;function&quot;==typeof a?i[j.call(a)]||&quot;object&quot;:typeof a},globalEval:function(b){b&amp;&amp;n.trim(b)&amp;&amp;(a.execScript||function(b){a.eval.call(a,b)})(b)},camelCase:function(a){return a.replace(p,&quot;ms-&quot;).replace(q,r)},nodeName:function(a,b){return a.nodeName&amp;&amp;a.nodeName.toLowerCase()===b.toLowerCase()},each:function(a,b){var c,d=0;if(s(a)){for(c=a.length;c&gt;d;d++)if(b.call(a[d],d,a[d])===!1)break}else for(d in a)if(b.call(a[d],d,a[d])===!1)break;return a},trim:function(a){return null==a?&quot;&quot;:(a+&quot;&quot;).replace(o,&quot;&quot;)},makeArray:function(a,b){var c=b||[];return null!=a&amp;&amp;(s(Object(a))?n.merge(c,&quot;string&quot;==typeof a?[a]:a):g.call(c,a)),c},inArray:function(a,b,c){var d;if(b){if(h)return h.call(b,a,c);for(d=b.length,c=c?0&gt;c?Math.max(0,d+c):c:0;d&gt;c;c++)if(c in b&amp;&amp;b[c]===a)return c}return-1},merge:function(a,b){var c=+b.length,d=0,e=a.length;while(c&gt;d)a[e++]=b[d++];if(c!==c)while(void 0!==b[d])a[e++]=b[d++];return a.length=e,a},grep:function(a,b,c){for(var d,e=[],f=0,g=a.length,h=!c;g&gt;f;f++)d=!b(a[f],f),d!==h&amp;&amp;e.push(a[f]);return e},map:function(a,b,c){var d,e,g=0,h=[];if(s(a))for(d=a.length;d&gt;g;g++)e=b(a[g],g,c),null!=e&amp;&amp;h.push(e);else for(g in a)e=b(a[g],g,c),null!=e&amp;&amp;h.push(e);return f.apply([],h)},guid:1,proxy:function(a,b){var c,d,f;return&quot;string&quot;==typeof b&amp;&amp;(f=a[b],b=a,a=f),n.isFunction(a)?(c=e.call(arguments,2),d=function(){return a.apply(b||this,c.concat(e.call(arguments)))},d.guid=a.guid=a.guid||n.guid++,d):void 0},now:function(){return+new Date},support:l}),&quot;function&quot;==typeof Symbol&amp;&amp;(n.fn[Symbol.iterator]=c[Symbol.iterator]),n.each(&quot;Boolean Number String Function Array Date RegExp Object Error Symbol&quot;.split(&quot; &quot;),function(a,b){i[&quot;[object &quot;+b+&quot;]&quot;]=b.toLowerCase()});function s(a){var b=!!a&amp;&amp;&quot;length&quot;in a&amp;&amp;a.length,c=n.type(a);return&quot;function&quot;===c||n.isWindow(a)?!1:&quot;array&quot;===c||0===b||&quot;number&quot;==typeof b&amp;&amp;b&gt;0&amp;&amp;b-1 in a}var t=function(a){var b,c,d,e,f,g,h,i,j,k,l,m,n,o,p,q,r,s,t,u=&quot;sizzle&quot;+1*new Date,v=a.document,w=0,x=0,y=ga(),z=ga(),A=ga(),B=function(a,b){return a===b&amp;&amp;(l=!0),0},C=1&lt;&lt;31,D={}.hasOwnProperty,E=[],F=E.pop,G=E.push,H=E.push,I=E.slice,J=function(a,b){for(var c=0,d=a.length;d&gt;c;c++)if(a[c]===b)return c;return-1},K=&quot;checked|selected|async|autofocus|autoplay|controls|defer|disabled|hidden|ismap|loop|multiple|open|readonly|required|scoped&quot;,L=&quot;[\\\\x20\\\\t\\\\r\\\\n\\\\f]&quot;,M=&quot;(?:\\\\\\\\.|[\\\\w-]|[^\\\\x00-\\\\xa0])+&quot;,N=&quot;\\\\[&quot;+L+&quot;*(&quot;+M+&quot;)(?:&quot;+L+&quot;*([*^$|!~]?=)&quot;+L+&quot;*(?:&#x27;((?:\\\\\\\\.|[^\\\\\\\\&#x27;])*)&#x27;|\\&quot;((?:\\\\\\\\.|[^\\\\\\\\\\&quot;])*)\\&quot;|(&quot;+M+&quot;))|)&quot;+L+&quot;*\\\\]&quot;,O=&quot;:(&quot;+M+&quot;)(?:\\\\(((&#x27;((?:\\\\\\\\.|[^\\\\\\\\&#x27;])*)&#x27;|\\&quot;((?:\\\\\\\\.|[^\\\\\\\\\\&quot;])*)\\&quot;)|((?:\\\\\\\\.|[^\\\\\\\\()[\\\\]]|&quot;+N+&quot;)*)|.*)\\\\)|)&quot;,P=new RegExp(L+&quot;+&quot;,&quot;g&quot;),Q=new RegExp(&quot;^&quot;+L+&quot;+|((?:^|[^\\\\\\\\])(?:\\\\\\\\.)*)&quot;+L+&quot;+$&quot;,&quot;g&quot;),R=new RegExp(&quot;^&quot;+L+&quot;*,&quot;+L+&quot;*&quot;),S=new RegExp(&quot;^&quot;+L+&quot;*([&gt;+~]|&quot;+L+&quot;)&quot;+L+&quot;*&quot;),T=new RegExp(&quot;=&quot;+L+&quot;*([^\\\\]&#x27;\\&quot;]*?)&quot;+L+&quot;*\\\\]&quot;,&quot;g&quot;),U=new RegExp(O),V=new RegExp(&quot;^&quot;+M+&quot;$&quot;),W={ID:new RegExp(&quot;^#(&quot;+M+&quot;)&quot;),CLASS:new RegExp(&quot;^\\\\.(&quot;+M+&quot;)&quot;),TAG:new RegExp(&quot;^(&quot;+M+&quot;|[*])&quot;),ATTR:new RegExp(&quot;^&quot;+N),PSEUDO:new RegExp(&quot;^&quot;+O),CHILD:new RegExp(&quot;^:(only|first|last|nth|nth-last)-(child|of-type)(?:\\\\(&quot;+L+&quot;*(even|odd|(([+-]|)(\\\\d*)n|)&quot;+L+&quot;*(?:([+-]|)&quot;+L+&quot;*(\\\\d+)|))&quot;+L+&quot;*\\\\)|)&quot;,&quot;i&quot;),bool:new RegExp(&quot;^(?:&quot;+K+&quot;)$&quot;,&quot;i&quot;),needsContext:new RegExp(&quot;^&quot;+L+&quot;*[&gt;+~]|:(even|odd|eq|gt|lt|nth|first|last)(?:\\\\(&quot;+L+&quot;*((?:-\\\\d)?\\\\d*)&quot;+L+&quot;*\\\\)|)(?=[^-]|$)&quot;,&quot;i&quot;)},X=/^(?:input|select|textarea|button)$/i,Y=/^h\\d$/i,Z=/^[^{]+\\{\\s*\\[native \\w/,$=/^(?:#([\\w-]+)|(\\w+)|\\.([\\w-]+))$/,_=/[+~]/,aa=/&#x27;|\\\\/g,ba=new RegExp(&quot;\\\\\\\\([\\\\da-f]{1,6}&quot;+L+&quot;?|(&quot;+L+&quot;)|.)&quot;,&quot;ig&quot;),ca=function(a,b,c){var d=&quot;0x&quot;+b-65536;return d!==d||c?b:0&gt;d?String.fromCharCode(d+65536):String.fromCharCode(d&gt;&gt;10|55296,1023&amp;d|56320)},da=function(){m()};try{H.apply(E=I.call(v.childNodes),v.childNodes),E[v.childNodes.length].nodeType}catch(ea){H={apply:E.length?function(a,b){G.apply(a,I.call(b))}:function(a,b){var c=a.length,d=0;while(a[c++]=b[d++]);a.length=c-1}}}function fa(a,b,d,e){var f,h,j,k,l,o,r,s,w=b&amp;&amp;b.ownerDocument,x=b?b.nodeType:9;if(d=d||[],&quot;string&quot;!=typeof a||!a||1!==x&amp;&amp;9!==x&amp;&amp;11!==x)return d;if(!e&amp;&amp;((b?b.ownerDocument||b:v)!==n&amp;&amp;m(b),b=b||n,p)){if(11!==x&amp;&amp;(o=$.exec(a)))if(f=o[1]){if(9===x){if(!(j=b.getElementById(f)))return d;if(j.id===f)return d.push(j),d}else if(w&amp;&amp;(j=w.getElementById(f))&amp;&amp;t(b,j)&amp;&amp;j.id===f)return d.push(j),d}else{if(o[2])return H.apply(d,b.getElementsByTagName(a)),d;if((f=o[3])&amp;&amp;c.getElementsByClassName&amp;&amp;b.getElementsByClassName)return H.apply(d,b.getElementsByClassName(f)),d}if(c.qsa&amp;&amp;!A[a+&quot; &quot;]&amp;&amp;(!q||!q.test(a))){if(1!==x)w=b,s=a;else if(&quot;object&quot;!==b.nodeName.toLowerCase()){(k=b.getAttribute(&quot;id&quot;))?k=k.replace(aa,&quot;\\\\$&amp;&quot;):b.setAttribute(&quot;id&quot;,k=u),r=g(a),h=r.length,l=V.test(k)?&quot;#&quot;+k:&quot;[id=&#x27;&quot;+k+&quot;&#x27;]&quot;;while(h--)r[h]=l+&quot; &quot;+qa(r[h]);s=r.join(&quot;,&quot;),w=_.test(a)&amp;&amp;oa(b.parentNode)||b}if(s)try{return H.apply(d,w.querySelectorAll(s)),d}catch(y){}finally{k===u&amp;&amp;b.removeAttribute(&quot;id&quot;)}}}return i(a.replace(Q,&quot;$1&quot;),b,d,e)}function ga(){var a=[];function b(c,e){return a.push(c+&quot; &quot;)&gt;d.cacheLength&amp;&amp;delete b[a.shift()],b[c+&quot; &quot;]=e}return b}function ha(a){return a[u]=!0,a}function ia(a){var b=n.createElement(&quot;div&quot;);try{return!!a(b)}catch(c){return!1}finally{b.parentNode&amp;&amp;b.parentNode.removeChild(b),b=null}}function ja(a,b){var c=a.split(&quot;|&quot;),e=c.length;while(e--)d.attrHandle[c[e]]=b}function ka(a,b){var c=b&amp;&amp;a,d=c&amp;&amp;1===a.nodeType&amp;&amp;1===b.nodeType&amp;&amp;(~b.sourceIndex||C)-(~a.sourceIndex||C);if(d)return d;if(c)while(c=c.nextSibling)if(c===b)return-1;return a?1:-1}function la(a){return function(b){var c=b.nodeName.toLowerCase();return&quot;input&quot;===c&amp;&amp;b.type===a}}function ma(a){return function(b){var c=b.nodeName.toLowerCase();return(&quot;input&quot;===c||&quot;button&quot;===c)&amp;&amp;b.type===a}}function na(a){return ha(function(b){return b=+b,ha(function(c,d){var e,f=a([],c.length,b),g=f.length;while(g--)c[e=f[g]]&amp;&amp;(c[e]=!(d[e]=c[e]))})})}function oa(a){return a&amp;&amp;&quot;undefined&quot;!=typeof a.getElementsByTagName&amp;&amp;a}c=fa.support={},f=fa.isXML=function(a){var b=a&amp;&amp;(a.ownerDocument||a).documentElement;return b?&quot;HTML&quot;!==b.nodeName:!1},m=fa.setDocument=function(a){var b,e,g=a?a.ownerDocument||a:v;return g!==n&amp;&amp;9===g.nodeType&amp;&amp;g.documentElement?(n=g,o=n.documentElement,p=!f(n),(e=n.defaultView)&amp;&amp;e.top!==e&amp;&amp;(e.addEventListener?e.addEventListener(&quot;unload&quot;,da,!1):e.attachEvent&amp;&amp;e.attachEvent(&quot;onunload&quot;,da)),c.attributes=ia(function(a){return a.className=&quot;i&quot;,!a.getAttribute(&quot;className&quot;)}),c.getElementsByTagName=ia(function(a){return a.appendChild(n.createComment(&quot;&quot;)),!a.getElementsByTagName(&quot;*&quot;).length}),c.getElementsByClassName=Z.test(n.getElementsByClassName),c.getById=ia(function(a){return o.appendChild(a).id=u,!n.getElementsByName||!n.getElementsByName(u).length}),c.getById?(d.find.ID=function(a,b){if(&quot;undefined&quot;!=typeof b.getElementById&amp;&amp;p){var c=b.getElementById(a);return c?[c]:[]}},d.filter.ID=function(a){var b=a.replace(ba,ca);return function(a){return a.getAttribute(&quot;id&quot;)===b}}):(delete d.find.ID,d.filter.ID=function(a){var b=a.replace(ba,ca);return function(a){var c=&quot;undefined&quot;!=typeof a.getAttributeNode&amp;&amp;a.getAttributeNode(&quot;id&quot;);return c&amp;&amp;c.value===b}}),d.find.TAG=c.getElementsByTagName?function(a,b){return&quot;undefined&quot;!=typeof b.getElementsByTagName?b.getElementsByTagName(a):c.qsa?b.querySelectorAll(a):void 0}:function(a,b){var c,d=[],e=0,f=b.getElementsByTagName(a);if(&quot;*&quot;===a){while(c=f[e++])1===c.nodeType&amp;&amp;d.push(c);return d}return f},d.find.CLASS=c.getElementsByClassName&amp;&amp;function(a,b){return&quot;undefined&quot;!=typeof b.getElementsByClassName&amp;&amp;p?b.getElementsByClassName(a):void 0},r=[],q=[],(c.qsa=Z.test(n.querySelectorAll))&amp;&amp;(ia(function(a){o.appendChild(a).innerHTML=&quot;&lt;a id=&#x27;&quot;+u+&quot;&#x27;&gt;&lt;/a&gt;&lt;select id=&#x27;&quot;+u+&quot;-\\r\\\\&#x27; msallowcapture=&#x27;&#x27;&gt;&lt;option selected=&#x27;&#x27;&gt;&lt;/option&gt;&lt;/select&gt;&quot;,a.querySelectorAll(&quot;[msallowcapture^=&#x27;&#x27;]&quot;).length&amp;&amp;q.push(&quot;[*^$]=&quot;+L+&quot;*(?:&#x27;&#x27;|\\&quot;\\&quot;)&quot;),a.querySelectorAll(&quot;[selected]&quot;).length||q.push(&quot;\\\\[&quot;+L+&quot;*(?:value|&quot;+K+&quot;)&quot;),a.querySelectorAll(&quot;[id~=&quot;+u+&quot;-]&quot;).length||q.push(&quot;~=&quot;),a.querySelectorAll(&quot;:checked&quot;).length||q.push(&quot;:checked&quot;),a.querySelectorAll(&quot;a#&quot;+u+&quot;+*&quot;).length||q.push(&quot;.#.+[+~]&quot;)}),ia(function(a){var b=n.createElement(&quot;input&quot;);b.setAttribute(&quot;type&quot;,&quot;hidden&quot;),a.appendChild(b).setAttribute(&quot;name&quot;,&quot;D&quot;),a.querySelectorAll(&quot;[name=d]&quot;).length&amp;&amp;q.push(&quot;name&quot;+L+&quot;*[*^$|!~]?=&quot;),a.querySelectorAll(&quot;:enabled&quot;).length||q.push(&quot;:enabled&quot;,&quot;:disabled&quot;),a.querySelectorAll(&quot;*,:x&quot;),q.push(&quot;,.*:&quot;)})),(c.matchesSelector=Z.test(s=o.matches||o.webkitMatchesSelector||o.mozMatchesSelector||o.oMatchesSelector||o.msMatchesSelector))&amp;&amp;ia(function(a){c.disconnectedMatch=s.call(a,&quot;div&quot;),s.call(a,&quot;[s!=&#x27;&#x27;]:x&quot;),r.push(&quot;!=&quot;,O)}),q=q.length&amp;&amp;new RegExp(q.join(&quot;|&quot;)),r=r.length&amp;&amp;new RegExp(r.join(&quot;|&quot;)),b=Z.test(o.compareDocumentPosition),t=b||Z.test(o.contains)?function(a,b){var c=9===a.nodeType?a.documentElement:a,d=b&amp;&amp;b.parentNode;return a===d||!(!d||1!==d.nodeType||!(c.contains?c.contains(d):a.compareDocumentPosition&amp;&amp;16&amp;a.compareDocumentPosition(d)))}:function(a,b){if(b)while(b=b.parentNode)if(b===a)return!0;return!1},B=b?function(a,b){if(a===b)return l=!0,0;var d=!a.compareDocumentPosition-!b.compareDocumentPosition;return d?d:(d=(a.ownerDocument||a)===(b.ownerDocument||b)?a.compareDocumentPosition(b):1,1&amp;d||!c.sortDetached&amp;&amp;b.compareDocumentPosition(a)===d?a===n||a.ownerDocument===v&amp;&amp;t(v,a)?-1:b===n||b.ownerDocument===v&amp;&amp;t(v,b)?1:k?J(k,a)-J(k,b):0:4&amp;d?-1:1)}:function(a,b){if(a===b)return l=!0,0;var c,d=0,e=a.parentNode,f=b.parentNode,g=[a],h=[b];if(!e||!f)return a===n?-1:b===n?1:e?-1:f?1:k?J(k,a)-J(k,b):0;if(e===f)return ka(a,b);c=a;while(c=c.parentNode)g.unshift(c);c=b;while(c=c.parentNode)h.unshift(c);while(g[d]===h[d])d++;return d?ka(g[d],h[d]):g[d]===v?-1:h[d]===v?1:0},n):n},fa.matches=function(a,b){return fa(a,null,null,b)},fa.matchesSelector=function(a,b){if((a.ownerDocument||a)!==n&amp;&amp;m(a),b=b.replace(T,&quot;=&#x27;$1&#x27;]&quot;),c.matchesSelector&amp;&amp;p&amp;&amp;!A[b+&quot; &quot;]&amp;&amp;(!r||!r.test(b))&amp;&amp;(!q||!q.test(b)))try{var d=s.call(a,b);if(d||c.disconnectedMatch||a.document&amp;&amp;11!==a.document.nodeType)return d}catch(e){}return fa(b,n,null,[a]).length&gt;0},fa.contains=function(a,b){return(a.ownerDocument||a)!==n&amp;&amp;m(a),t(a,b)},fa.attr=function(a,b){(a.ownerDocument||a)!==n&amp;&amp;m(a);var e=d.attrHandle[b.toLowerCase()],f=e&amp;&amp;D.call(d.attrHandle,b.toLowerCase())?e(a,b,!p):void 0;return void 0!==f?f:c.attributes||!p?a.getAttribute(b):(f=a.getAttributeNode(b))&amp;&amp;f.specified?f.value:null},fa.error=function(a){throw new Error(&quot;Syntax error, unrecognized expression: &quot;+a)},fa.uniqueSort=function(a){var b,d=[],e=0,f=0;if(l=!c.detectDuplicates,k=!c.sortStable&amp;&amp;a.slice(0),a.sort(B),l){while(b=a[f++])b===a[f]&amp;&amp;(e=d.push(f));while(e--)a.splice(d[e],1)}return k=null,a},e=fa.getText=function(a){var b,c=&quot;&quot;,d=0,f=a.nodeType;if(f){if(1===f||9===f||11===f){if(&quot;string&quot;==typeof a.textContent)return a.textContent;for(a=a.firstChild;a;a=a.nextSibling)c+=e(a)}else if(3===f||4===f)return a.nodeValue}else while(b=a[d++])c+=e(b);return c},d=fa.selectors={cacheLength:50,createPseudo:ha,match:W,attrHandle:{},find:{},relative:{&quot;&gt;&quot;:{dir:&quot;parentNode&quot;,first:!0},&quot; &quot;:{dir:&quot;parentNode&quot;},&quot;+&quot;:{dir:&quot;previousSibling&quot;,first:!0},&quot;~&quot;:{dir:&quot;previousSibling&quot;}},preFilter:{ATTR:function(a){return a[1]=a[1].replace(ba,ca),a[3]=(a[3]||a[4]||a[5]||&quot;&quot;).replace(ba,ca),&quot;~=&quot;===a[2]&amp;&amp;(a[3]=&quot; &quot;+a[3]+&quot; &quot;),a.slice(0,4)},CHILD:function(a){return a[1]=a[1].toLowerCase(),&quot;nth&quot;===a[1].slice(0,3)?(a[3]||fa.error(a[0]),a[4]=+(a[4]?a[5]+(a[6]||1):2*(&quot;even&quot;===a[3]||&quot;odd&quot;===a[3])),a[5]=+(a[7]+a[8]||&quot;odd&quot;===a[3])):a[3]&amp;&amp;fa.error(a[0]),a},PSEUDO:function(a){var b,c=!a[6]&amp;&amp;a[2];return W.CHILD.test(a[0])?null:(a[3]?a[2]=a[4]||a[5]||&quot;&quot;:c&amp;&amp;U.test(c)&amp;&amp;(b=g(c,!0))&amp;&amp;(b=c.indexOf(&quot;)&quot;,c.length-b)-c.length)&amp;&amp;(a[0]=a[0].slice(0,b),a[2]=c.slice(0,b)),a.slice(0,3))}},filter:{TAG:function(a){var b=a.replace(ba,ca).toLowerCase();return&quot;*&quot;===a?function(){return!0}:function(a){return a.nodeName&amp;&amp;a.nodeName.toLowerCase()===b}},CLASS:function(a){var b=y[a+&quot; &quot;];return b||(b=new RegExp(&quot;(^|&quot;+L+&quot;)&quot;+a+&quot;(&quot;+L+&quot;|$)&quot;))&amp;&amp;y(a,function(a){return b.test(&quot;string&quot;==typeof a.className&amp;&amp;a.className||&quot;undefined&quot;!=typeof a.getAttribute&amp;&amp;a.getAttribute(&quot;class&quot;)||&quot;&quot;)})},ATTR:function(a,b,c){return function(d){var e=fa.attr(d,a);return null==e?&quot;!=&quot;===b:b?(e+=&quot;&quot;,&quot;=&quot;===b?e===c:&quot;!=&quot;===b?e!==c:&quot;^=&quot;===b?c&amp;&amp;0===e.indexOf(c):&quot;*=&quot;===b?c&amp;&amp;e.indexOf(c)&gt;-1:&quot;$=&quot;===b?c&amp;&amp;e.slice(-c.length)===c:&quot;~=&quot;===b?(&quot; &quot;+e.replace(P,&quot; &quot;)+&quot; &quot;).indexOf(c)&gt;-1:&quot;|=&quot;===b?e===c||e.slice(0,c.length+1)===c+&quot;-&quot;:!1):!0}},CHILD:function(a,b,c,d,e){var f=&quot;nth&quot;!==a.slice(0,3),g=&quot;last&quot;!==a.slice(-4),h=&quot;of-type&quot;===b;return 1===d&amp;&amp;0===e?function(a){return!!a.parentNode}:function(b,c,i){var j,k,l,m,n,o,p=f!==g?&quot;nextSibling&quot;:&quot;previousSibling&quot;,q=b.parentNode,r=h&amp;&amp;b.nodeName.toLowerCase(),s=!i&amp;&amp;!h,t=!1;if(q){if(f){while(p){m=b;while(m=m[p])if(h?m.nodeName.toLowerCase()===r:1===m.nodeType)return!1;o=p=&quot;only&quot;===a&amp;&amp;!o&amp;&amp;&quot;nextSibling&quot;}return!0}if(o=[g?q.firstChild:q.lastChild],g&amp;&amp;s){m=q,l=m[u]||(m[u]={}),k=l[m.uniqueID]||(l[m.uniqueID]={}),j=k[a]||[],n=j[0]===w&amp;&amp;j[1],t=n&amp;&amp;j[2],m=n&amp;&amp;q.childNodes[n];while(m=++n&amp;&amp;m&amp;&amp;m[p]||(t=n=0)||o.pop())if(1===m.nodeType&amp;&amp;++t&amp;&amp;m===b){k[a]=[w,n,t];break}}else if(s&amp;&amp;(m=b,l=m[u]||(m[u]={}),k=l[m.uniqueID]||(l[m.uniqueID]={}),j=k[a]||[],n=j[0]===w&amp;&amp;j[1],t=n),t===!1)while(m=++n&amp;&amp;m&amp;&amp;m[p]||(t=n=0)||o.pop())if((h?m.nodeName.toLowerCase()===r:1===m.nodeType)&amp;&amp;++t&amp;&amp;(s&amp;&amp;(l=m[u]||(m[u]={}),k=l[m.uniqueID]||(l[m.uniqueID]={}),k[a]=[w,t]),m===b))break;return t-=e,t===d||t%d===0&amp;&amp;t/d&gt;=0}}},PSEUDO:function(a,b){var c,e=d.pseudos[a]||d.setFilters[a.toLowerCase()]||fa.error(&quot;unsupported pseudo: &quot;+a);return e[u]?e(b):e.length&gt;1?(c=[a,a,&quot;&quot;,b],d.setFilters.hasOwnProperty(a.toLowerCase())?ha(function(a,c){var d,f=e(a,b),g=f.length;while(g--)d=J(a,f[g]),a[d]=!(c[d]=f[g])}):function(a){return e(a,0,c)}):e}},pseudos:{not:ha(function(a){var b=[],c=[],d=h(a.replace(Q,&quot;$1&quot;));return d[u]?ha(function(a,b,c,e){var f,g=d(a,null,e,[]),h=a.length;while(h--)(f=g[h])&amp;&amp;(a[h]=!(b[h]=f))}):function(a,e,f){return b[0]=a,d(b,null,f,c),b[0]=null,!c.pop()}}),has:ha(function(a){return function(b){return fa(a,b).length&gt;0}}),contains:ha(function(a){return a=a.replace(ba,ca),function(b){return(b.textContent||b.innerText||e(b)).indexOf(a)&gt;-1}}),lang:ha(function(a){return V.test(a||&quot;&quot;)||fa.error(&quot;unsupported lang: &quot;+a),a=a.replace(ba,ca).toLowerCase(),function(b){var c;do if(c=p?b.lang:b.getAttribute(&quot;xml:lang&quot;)||b.getAttribute(&quot;lang&quot;))return c=c.toLowerCase(),c===a||0===c.indexOf(a+&quot;-&quot;);while((b=b.parentNode)&amp;&amp;1===b.nodeType);return!1}}),target:function(b){var c=a.location&amp;&amp;a.location.hash;return c&amp;&amp;c.slice(1)===b.id},root:function(a){return a===o},focus:function(a){return a===n.activeElement&amp;&amp;(!n.hasFocus||n.hasFocus())&amp;&amp;!!(a.type||a.href||~a.tabIndex)},enabled:function(a){return a.disabled===!1},disabled:function(a){return a.disabled===!0},checked:function(a){var b=a.nodeName.toLowerCase();return&quot;input&quot;===b&amp;&amp;!!a.checked||&quot;option&quot;===b&amp;&amp;!!a.selected},selected:function(a){return a.parentNode&amp;&amp;a.parentNode.selectedIndex,a.selected===!0},empty:function(a){for(a=a.firstChild;a;a=a.nextSibling)if(a.nodeType&lt;6)return!1;return!0},parent:function(a){return!d.pseudos.empty(a)},header:function(a){return Y.test(a.nodeName)},input:function(a){return X.test(a.nodeName)},button:function(a){var b=a.nodeName.toLowerCase();return&quot;input&quot;===b&amp;&amp;&quot;button&quot;===a.type||&quot;button&quot;===b},text:function(a){var b;return&quot;input&quot;===a.nodeName.toLowerCase()&amp;&amp;&quot;text&quot;===a.type&amp;&amp;(null==(b=a.getAttribute(&quot;type&quot;))||&quot;text&quot;===b.toLowerCase())},first:na(function(){return[0]}),last:na(function(a,b){return[b-1]}),eq:na(function(a,b,c){return[0&gt;c?c+b:c]}),even:na(function(a,b){for(var c=0;b&gt;c;c+=2)a.push(c);return a}),odd:na(function(a,b){for(var c=1;b&gt;c;c+=2)a.push(c);return a}),lt:na(function(a,b,c){for(var d=0&gt;c?c+b:c;--d&gt;=0;)a.push(d);return a}),gt:na(function(a,b,c){for(var d=0&gt;c?c+b:c;++d&lt;b;)a.push(d);return a})}},d.pseudos.nth=d.pseudos.eq;for(b in{radio:!0,checkbox:!0,file:!0,password:!0,image:!0})d.pseudos[b]=la(b);for(b in{submit:!0,reset:!0})d.pseudos[b]=ma(b);function pa(){}pa.prototype=d.filters=d.pseudos,d.setFilters=new pa,g=fa.tokenize=function(a,b){var c,e,f,g,h,i,j,k=z[a+&quot; &quot;];if(k)return b?0:k.slice(0);h=a,i=[],j=d.preFilter;while(h){c&amp;&amp;!(e=R.exec(h))||(e&amp;&amp;(h=h.slice(e[0].length)||h),i.push(f=[])),c=!1,(e=S.exec(h))&amp;&amp;(c=e.shift(),f.push({value:c,type:e[0].replace(Q,&quot; &quot;)}),h=h.slice(c.length));for(g in d.filter)!(e=W[g].exec(h))||j[g]&amp;&amp;!(e=j[g](e))||(c=e.shift(),f.push({value:c,type:g,matches:e}),h=h.slice(c.length));if(!c)break}return b?h.length:h?fa.error(a):z(a,i).slice(0)};function qa(a){for(var b=0,c=a.length,d=&quot;&quot;;c&gt;b;b++)d+=a[b].value;return d}function ra(a,b,c){var d=b.dir,e=c&amp;&amp;&quot;parentNode&quot;===d,f=x++;return b.first?function(b,c,f){while(b=b[d])if(1===b.nodeType||e)return a(b,c,f)}:function(b,c,g){var h,i,j,k=[w,f];if(g){while(b=b[d])if((1===b.nodeType||e)&amp;&amp;a(b,c,g))return!0}else while(b=b[d])if(1===b.nodeType||e){if(j=b[u]||(b[u]={}),i=j[b.uniqueID]||(j[b.uniqueID]={}),(h=i[d])&amp;&amp;h[0]===w&amp;&amp;h[1]===f)return k[2]=h[2];if(i[d]=k,k[2]=a(b,c,g))return!0}}}function sa(a){return a.length&gt;1?function(b,c,d){var e=a.length;while(e--)if(!a[e](b,c,d))return!1;return!0}:a[0]}function ta(a,b,c){for(var d=0,e=b.length;e&gt;d;d++)fa(a,b[d],c);return c}function ua(a,b,c,d,e){for(var f,g=[],h=0,i=a.length,j=null!=b;i&gt;h;h++)(f=a[h])&amp;&amp;(c&amp;&amp;!c(f,d,e)||(g.push(f),j&amp;&amp;b.push(h)));return g}function va(a,b,c,d,e,f){return d&amp;&amp;!d[u]&amp;&amp;(d=va(d)),e&amp;&amp;!e[u]&amp;&amp;(e=va(e,f)),ha(function(f,g,h,i){var j,k,l,m=[],n=[],o=g.length,p=f||ta(b||&quot;*&quot;,h.nodeType?[h]:h,[]),q=!a||!f&amp;&amp;b?p:ua(p,m,a,h,i),r=c?e||(f?a:o||d)?[]:g:q;if(c&amp;&amp;c(q,r,h,i),d){j=ua(r,n),d(j,[],h,i),k=j.length;while(k--)(l=j[k])&amp;&amp;(r[n[k]]=!(q[n[k]]=l))}if(f){if(e||a){if(e){j=[],k=r.length;while(k--)(l=r[k])&amp;&amp;j.push(q[k]=l);e(null,r=[],j,i)}k=r.length;while(k--)(l=r[k])&amp;&amp;(j=e?J(f,l):m[k])&gt;-1&amp;&amp;(f[j]=!(g[j]=l))}}else r=ua(r===g?r.splice(o,r.length):r),e?e(null,g,r,i):H.apply(g,r)})}function wa(a){for(var b,c,e,f=a.length,g=d.relative[a[0].type],h=g||d.relative[&quot; &quot;],i=g?1:0,k=ra(function(a){return a===b},h,!0),l=ra(function(a){return J(b,a)&gt;-1},h,!0),m=[function(a,c,d){var e=!g&amp;&amp;(d||c!==j)||((b=c).nodeType?k(a,c,d):l(a,c,d));return b=null,e}];f&gt;i;i++)if(c=d.relative[a[i].type])m=[ra(sa(m),c)];else{if(c=d.filter[a[i].type].apply(null,a[i].matches),c[u]){for(e=++i;f&gt;e;e++)if(d.relative[a[e].type])break;return va(i&gt;1&amp;&amp;sa(m),i&gt;1&amp;&amp;qa(a.slice(0,i-1).concat({value:&quot; &quot;===a[i-2].type?&quot;*&quot;:&quot;&quot;})).replace(Q,&quot;$1&quot;),c,e&gt;i&amp;&amp;wa(a.slice(i,e)),f&gt;e&amp;&amp;wa(a=a.slice(e)),f&gt;e&amp;&amp;qa(a))}m.push(c)}return sa(m)}function xa(a,b){var c=b.length&gt;0,e=a.length&gt;0,f=function(f,g,h,i,k){var l,o,q,r=0,s=&quot;0&quot;,t=f&amp;&amp;[],u=[],v=j,x=f||e&amp;&amp;d.find.TAG(&quot;*&quot;,k),y=w+=null==v?1:Math.random()||.1,z=x.length;for(k&amp;&amp;(j=g===n||g||k);s!==z&amp;&amp;null!=(l=x[s]);s++){if(e&amp;&amp;l){o=0,g||l.ownerDocument===n||(m(l),h=!p);while(q=a[o++])if(q(l,g||n,h)){i.push(l);break}k&amp;&amp;(w=y)}c&amp;&amp;((l=!q&amp;&amp;l)&amp;&amp;r--,f&amp;&amp;t.push(l))}if(r+=s,c&amp;&amp;s!==r){o=0;while(q=b[o++])q(t,u,g,h);if(f){if(r&gt;0)while(s--)t[s]||u[s]||(u[s]=F.call(i));u=ua(u)}H.apply(i,u),k&amp;&amp;!f&amp;&amp;u.length&gt;0&amp;&amp;r+b.length&gt;1&amp;&amp;fa.uniqueSort(i)}return k&amp;&amp;(w=y,j=v),t};return c?ha(f):f}return h=fa.compile=function(a,b){var c,d=[],e=[],f=A[a+&quot; &quot;];if(!f){b||(b=g(a)),c=b.length;while(c--)f=wa(b[c]),f[u]?d.push(f):e.push(f);f=A(a,xa(e,d)),f.selector=a}return f},i=fa.select=function(a,b,e,f){var i,j,k,l,m,n=&quot;function&quot;==typeof a&amp;&amp;a,o=!f&amp;&amp;g(a=n.selector||a);if(e=e||[],1===o.length){if(j=o[0]=o[0].slice(0),j.length&gt;2&amp;&amp;&quot;ID&quot;===(k=j[0]).type&amp;&amp;c.getById&amp;&amp;9===b.nodeType&amp;&amp;p&amp;&amp;d.relative[j[1].type]){if(b=(d.find.ID(k.matches[0].replace(ba,ca),b)||[])[0],!b)return e;n&amp;&amp;(b=b.parentNode),a=a.slice(j.shift().value.length)}i=W.needsContext.test(a)?0:j.length;while(i--){if(k=j[i],d.relative[l=k.type])break;if((m=d.find[l])&amp;&amp;(f=m(k.matches[0].replace(ba,ca),_.test(j[0].type)&amp;&amp;oa(b.parentNode)||b))){if(j.splice(i,1),a=f.length&amp;&amp;qa(j),!a)return H.apply(e,f),e;break}}}return(n||h(a,o))(f,b,!p,e,!b||_.test(a)&amp;&amp;oa(b.parentNode)||b),e},c.sortStable=u.split(&quot;&quot;).sort(B).join(&quot;&quot;)===u,c.detectDuplicates=!!l,m(),c.sortDetached=ia(function(a){return 1&amp;a.compareDocumentPosition(n.createElement(&quot;div&quot;))}),ia(function(a){return a.innerHTML=&quot;&lt;a href=&#x27;#&#x27;&gt;&lt;/a&gt;&quot;,&quot;#&quot;===a.firstChild.getAttribute(&quot;href&quot;)})||ja(&quot;type|href|height|width&quot;,function(a,b,c){return c?void 0:a.getAttribute(b,&quot;type&quot;===b.toLowerCase()?1:2)}),c.attributes&amp;&amp;ia(function(a){return a.innerHTML=&quot;&lt;input/&gt;&quot;,a.firstChild.setAttribute(&quot;value&quot;,&quot;&quot;),&quot;&quot;===a.firstChild.getAttribute(&quot;value&quot;)})||ja(&quot;value&quot;,function(a,b,c){return c||&quot;input&quot;!==a.nodeName.toLowerCase()?void 0:a.defaultValue}),ia(function(a){return null==a.getAttribute(&quot;disabled&quot;)})||ja(K,function(a,b,c){var d;return c?void 0:a[b]===!0?b.toLowerCase():(d=a.getAttributeNode(b))&amp;&amp;d.specified?d.value:null}),fa}(a);n.find=t,n.expr=t.selectors,n.expr[&quot;:&quot;]=n.expr.pseudos,n.uniqueSort=n.unique=t.uniqueSort,n.text=t.getText,n.isXMLDoc=t.isXML,n.contains=t.contains;var u=function(a,b,c){var d=[],e=void 0!==c;while((a=a[b])&amp;&amp;9!==a.nodeType)if(1===a.nodeType){if(e&amp;&amp;n(a).is(c))break;d.push(a)}return d},v=function(a,b){for(var c=[];a;a=a.nextSibling)1===a.nodeType&amp;&amp;a!==b&amp;&amp;c.push(a);return c},w=n.expr.match.needsContext,x=/^&lt;([\\w-]+)\\s*\\/?&gt;(?:&lt;\\/\\1&gt;|)$/,y=/^.[^:#\\[\\.,]*$/;function z(a,b,c){if(n.isFunction(b))return n.grep(a,function(a,d){return!!b.call(a,d,a)!==c});if(b.nodeType)return n.grep(a,function(a){return a===b!==c});if(&quot;string&quot;==typeof b){if(y.test(b))return n.filter(b,a,c);b=n.filter(b,a)}return n.grep(a,function(a){return n.inArray(a,b)&gt;-1!==c})}n.filter=function(a,b,c){var d=b[0];return c&amp;&amp;(a=&quot;:not(&quot;+a+&quot;)&quot;),1===b.length&amp;&amp;1===d.nodeType?n.find.matchesSelector(d,a)?[d]:[]:n.find.matches(a,n.grep(b,function(a){return 1===a.nodeType}))},n.fn.extend({find:function(a){var b,c=[],d=this,e=d.length;if(&quot;string&quot;!=typeof a)return this.pushStack(n(a).filter(function(){for(b=0;e&gt;b;b++)if(n.contains(d[b],this))return!0}));for(b=0;e&gt;b;b++)n.find(a,d[b],c);return c=this.pushStack(e&gt;1?n.unique(c):c),c.selector=this.selector?this.selector+&quot; &quot;+a:a,c},filter:function(a){return this.pushStack(z(this,a||[],!1))},not:function(a){return this.pushStack(z(this,a||[],!0))},is:function(a){return!!z(this,&quot;string&quot;==typeof a&amp;&amp;w.test(a)?n(a):a||[],!1).length}});var A,B=/^(?:\\s*(&lt;[\\w\\W]+&gt;)[^&gt;]*|#([\\w-]*))$/,C=n.fn.init=function(a,b,c){var e,f;if(!a)return this;if(c=c||A,&quot;string&quot;==typeof a){if(e=&quot;&lt;&quot;===a.charAt(0)&amp;&amp;&quot;&gt;&quot;===a.charAt(a.length-1)&amp;&amp;a.length&gt;=3?[null,a,null]:B.exec(a),!e||!e[1]&amp;&amp;b)return!b||b.jquery?(b||c).find(a):this.constructor(b).find(a);if(e[1]){if(b=b instanceof n?b[0]:b,n.merge(this,n.parseHTML(e[1],b&amp;&amp;b.nodeType?b.ownerDocument||b:d,!0)),x.test(e[1])&amp;&amp;n.isPlainObject(b))for(e in b)n.isFunction(this[e])?this[e](b[e]):this.attr(e,b[e]);return this}if(f=d.getElementById(e[2]),f&amp;&amp;f.parentNode){if(f.id!==e[2])return A.find(a);this.length=1,this[0]=f}return this.context=d,this.selector=a,this}return a.nodeType?(this.context=this[0]=a,this.length=1,this):n.isFunction(a)?&quot;undefined&quot;!=typeof c.ready?c.ready(a):a(n):(void 0!==a.selector&amp;&amp;(this.selector=a.selector,this.context=a.context),n.makeArray(a,this))};C.prototype=n.fn,A=n(d);var D=/^(?:parents|prev(?:Until|All))/,E={children:!0,contents:!0,next:!0,prev:!0};n.fn.extend({has:function(a){var b,c=n(a,this),d=c.length;return this.filter(function(){for(b=0;d&gt;b;b++)if(n.contains(this,c[b]))return!0})},closest:function(a,b){for(var c,d=0,e=this.length,f=[],g=w.test(a)||&quot;string&quot;!=typeof a?n(a,b||this.context):0;e&gt;d;d++)for(c=this[d];c&amp;&amp;c!==b;c=c.parentNode)if(c.nodeType&lt;11&amp;&amp;(g?g.index(c)&gt;-1:1===c.nodeType&amp;&amp;n.find.matchesSelector(c,a))){f.push(c);break}return this.pushStack(f.length&gt;1?n.uniqueSort(f):f)},index:function(a){return a?&quot;string&quot;==typeof a?n.inArray(this[0],n(a)):n.inArray(a.jquery?a[0]:a,this):this[0]&amp;&amp;this[0].parentNode?this.first().prevAll().length:-1},add:function(a,b){return this.pushStack(n.uniqueSort(n.merge(this.get(),n(a,b))))},addBack:function(a){return this.add(null==a?this.prevObject:this.prevObject.filter(a))}});function F(a,b){do a=a[b];while(a&amp;&amp;1!==a.nodeType);return a}n.each({parent:function(a){var b=a.parentNode;return b&amp;&amp;11!==b.nodeType?b:null},parents:function(a){return u(a,&quot;parentNode&quot;)},parentsUntil:function(a,b,c){return u(a,&quot;parentNode&quot;,c)},next:function(a){return F(a,&quot;nextSibling&quot;)},prev:function(a){return F(a,&quot;previousSibling&quot;)},nextAll:function(a){return u(a,&quot;nextSibling&quot;)},prevAll:function(a){return u(a,&quot;previousSibling&quot;)},nextUntil:function(a,b,c){return u(a,&quot;nextSibling&quot;,c)},prevUntil:function(a,b,c){return u(a,&quot;previousSibling&quot;,c)},siblings:function(a){return v((a.parentNode||{}).firstChild,a)},children:function(a){return v(a.firstChild)},contents:function(a){return n.nodeName(a,&quot;iframe&quot;)?a.contentDocument||a.contentWindow.document:n.merge([],a.childNodes)}},function(a,b){n.fn[a]=function(c,d){var e=n.map(this,b,c);return&quot;Until&quot;!==a.slice(-5)&amp;&amp;(d=c),d&amp;&amp;&quot;string&quot;==typeof d&amp;&amp;(e=n.filter(d,e)),this.length&gt;1&amp;&amp;(E[a]||(e=n.uniqueSort(e)),D.test(a)&amp;&amp;(e=e.reverse())),this.pushStack(e)}});var G=/\\S+/g;function H(a){var b={};return n.each(a.match(G)||[],function(a,c){b[c]=!0}),b}n.Callbacks=function(a){a=&quot;string&quot;==typeof a?H(a):n.extend({},a);var b,c,d,e,f=[],g=[],h=-1,i=function(){for(e=a.once,d=b=!0;g.length;h=-1){c=g.shift();while(++h&lt;f.length)f[h].apply(c[0],c[1])===!1&amp;&amp;a.stopOnFalse&amp;&amp;(h=f.length,c=!1)}a.memory||(c=!1),b=!1,e&amp;&amp;(f=c?[]:&quot;&quot;)},j={add:function(){return f&amp;&amp;(c&amp;&amp;!b&amp;&amp;(h=f.length-1,g.push(c)),function d(b){n.each(b,function(b,c){n.isFunction(c)?a.unique&amp;&amp;j.has(c)||f.push(c):c&amp;&amp;c.length&amp;&amp;&quot;string&quot;!==n.type(c)&amp;&amp;d(c)})}(arguments),c&amp;&amp;!b&amp;&amp;i()),this},remove:function(){return n.each(arguments,function(a,b){var c;while((c=n.inArray(b,f,c))&gt;-1)f.splice(c,1),h&gt;=c&amp;&amp;h--}),this},has:function(a){return a?n.inArray(a,f)&gt;-1:f.length&gt;0},empty:function(){return f&amp;&amp;(f=[]),this},disable:function(){return e=g=[],f=c=&quot;&quot;,this},disabled:function(){return!f},lock:function(){return e=!0,c||j.disable(),this},locked:function(){return!!e},fireWith:function(a,c){return e||(c=c||[],c=[a,c.slice?c.slice():c],g.push(c),b||i()),this},fire:function(){return j.fireWith(this,arguments),this},fired:function(){return!!d}};return j},n.extend({Deferred:function(a){var b=[[&quot;resolve&quot;,&quot;done&quot;,n.Callbacks(&quot;once memory&quot;),&quot;resolved&quot;],[&quot;reject&quot;,&quot;fail&quot;,n.Callbacks(&quot;once memory&quot;),&quot;rejected&quot;],[&quot;notify&quot;,&quot;progress&quot;,n.Callbacks(&quot;memory&quot;)]],c=&quot;pending&quot;,d={state:function(){return c},always:function(){return e.done(arguments).fail(arguments),this},then:function(){var a=arguments;return n.Deferred(function(c){n.each(b,function(b,f){var g=n.isFunction(a[b])&amp;&amp;a[b];e[f[1]](function(){var a=g&amp;&amp;g.apply(this,arguments);a&amp;&amp;n.isFunction(a.promise)?a.promise().progress(c.notify).done(c.resolve).fail(c.reject):c[f[0]+&quot;With&quot;](this===d?c.promise():this,g?[a]:arguments)})}),a=null}).promise()},promise:function(a){return null!=a?n.extend(a,d):d}},e={};return d.pipe=d.then,n.each(b,function(a,f){var g=f[2],h=f[3];d[f[1]]=g.add,h&amp;&amp;g.add(function(){c=h},b[1^a][2].disable,b[2][2].lock),e[f[0]]=function(){return e[f[0]+&quot;With&quot;](this===e?d:this,arguments),this},e[f[0]+&quot;With&quot;]=g.fireWith}),d.promise(e),a&amp;&amp;a.call(e,e),e},when:function(a){var b=0,c=e.call(arguments),d=c.length,f=1!==d||a&amp;&amp;n.isFunction(a.promise)?d:0,g=1===f?a:n.Deferred(),h=function(a,b,c){return function(d){b[a]=this,c[a]=arguments.length&gt;1?e.call(arguments):d,c===i?g.notifyWith(b,c):--f||g.resolveWith(b,c)}},i,j,k;if(d&gt;1)for(i=new Array(d),j=new Array(d),k=new Array(d);d&gt;b;b++)c[b]&amp;&amp;n.isFunction(c[b].promise)?c[b].promise().progress(h(b,j,i)).done(h(b,k,c)).fail(g.reject):--f;return f||g.resolveWith(k,c),g.promise()}});var I;n.fn.ready=function(a){return n.ready.promise().done(a),this},n.extend({isReady:!1,readyWait:1,holdReady:function(a){a?n.readyWait++:n.ready(!0)},ready:function(a){(a===!0?--n.readyWait:n.isReady)||(n.isReady=!0,a!==!0&amp;&amp;--n.readyWait&gt;0||(I.resolveWith(d,[n]),n.fn.triggerHandler&amp;&amp;(n(d).triggerHandler(&quot;ready&quot;),n(d).off(&quot;ready&quot;))))}});function J(){d.addEventListener?(d.removeEventListener(&quot;DOMContentLoaded&quot;,K),a.removeEventListener(&quot;load&quot;,K)):(d.detachEvent(&quot;onreadystatechange&quot;,K),a.detachEvent(&quot;onload&quot;,K))}function K(){(d.addEventListener||&quot;load&quot;===a.event.type||&quot;complete&quot;===d.readyState)&amp;&amp;(J(),n.ready())}n.ready.promise=function(b){if(!I)if(I=n.Deferred(),&quot;complete&quot;===d.readyState||&quot;loading&quot;!==d.readyState&amp;&amp;!d.documentElement.doScroll)a.setTimeout(n.ready);else if(d.addEventListener)d.addEventListener(&quot;DOMContentLoaded&quot;,K),a.addEventListener(&quot;load&quot;,K);else{d.attachEvent(&quot;onreadystatechange&quot;,K),a.attachEvent(&quot;onload&quot;,K);var c=!1;try{c=null==a.frameElement&amp;&amp;d.documentElement}catch(e){}c&amp;&amp;c.doScroll&amp;&amp;!function f(){if(!n.isReady){try{c.doScroll(&quot;left&quot;)}catch(b){return a.setTimeout(f,50)}J(),n.ready()}}()}return I.promise(b)},n.ready.promise();var L;for(L in n(l))break;l.ownFirst=&quot;0&quot;===L,l.inlineBlockNeedsLayout=!1,n(function(){var a,b,c,e;c=d.getElementsByTagName(&quot;body&quot;)[0],c&amp;&amp;c.style&amp;&amp;(b=d.createElement(&quot;div&quot;),e=d.createElement(&quot;div&quot;),e.style.cssText=&quot;position:absolute;border:0;width:0;height:0;top:0;left:-9999px&quot;,c.appendChild(e).appendChild(b),&quot;undefined&quot;!=typeof b.style.zoom&amp;&amp;(b.style.cssText=&quot;display:inline;margin:0;border:0;padding:1px;width:1px;zoom:1&quot;,l.inlineBlockNeedsLayout=a=3===b.offsetWidth,a&amp;&amp;(c.style.zoom=1)),c.removeChild(e))}),function(){var a=d.createElement(&quot;div&quot;);l.deleteExpando=!0;try{delete a.test}catch(b){l.deleteExpando=!1}a=null}();var M=function(a){var b=n.noData[(a.nodeName+&quot; &quot;).toLowerCase()],c=+a.nodeType||1;return 1!==c&amp;&amp;9!==c?!1:!b||b!==!0&amp;&amp;a.getAttribute(&quot;classid&quot;)===b},N=/^(?:\\{[\\w\\W]*\\}|\\[[\\w\\W]*\\])$/,O=/([A-Z])/g;function P(a,b,c){if(void 0===c&amp;&amp;1===a.nodeType){var d=&quot;data-&quot;+b.replace(O,&quot;-$1&quot;).toLowerCase();if(c=a.getAttribute(d),&quot;string&quot;==typeof c){try{c=&quot;true&quot;===c?!0:&quot;false&quot;===c?!1:&quot;null&quot;===c?null:+c+&quot;&quot;===c?+c:N.test(c)?n.parseJSON(c):c}catch(e){}n.data(a,b,c)}else c=void 0;\n",
       "}return c}function Q(a){var b;for(b in a)if((&quot;data&quot;!==b||!n.isEmptyObject(a[b]))&amp;&amp;&quot;toJSON&quot;!==b)return!1;return!0}function R(a,b,d,e){if(M(a)){var f,g,h=n.expando,i=a.nodeType,j=i?n.cache:a,k=i?a[h]:a[h]&amp;&amp;h;if(k&amp;&amp;j[k]&amp;&amp;(e||j[k].data)||void 0!==d||&quot;string&quot;!=typeof b)return k||(k=i?a[h]=c.pop()||n.guid++:h),j[k]||(j[k]=i?{}:{toJSON:n.noop}),&quot;object&quot;!=typeof b&amp;&amp;&quot;function&quot;!=typeof b||(e?j[k]=n.extend(j[k],b):j[k].data=n.extend(j[k].data,b)),g=j[k],e||(g.data||(g.data={}),g=g.data),void 0!==d&amp;&amp;(g[n.camelCase(b)]=d),&quot;string&quot;==typeof b?(f=g[b],null==f&amp;&amp;(f=g[n.camelCase(b)])):f=g,f}}function S(a,b,c){if(M(a)){var d,e,f=a.nodeType,g=f?n.cache:a,h=f?a[n.expando]:n.expando;if(g[h]){if(b&amp;&amp;(d=c?g[h]:g[h].data)){n.isArray(b)?b=b.concat(n.map(b,n.camelCase)):b in d?b=[b]:(b=n.camelCase(b),b=b in d?[b]:b.split(&quot; &quot;)),e=b.length;while(e--)delete d[b[e]];if(c?!Q(d):!n.isEmptyObject(d))return}(c||(delete g[h].data,Q(g[h])))&amp;&amp;(f?n.cleanData([a],!0):l.deleteExpando||g!=g.window?delete g[h]:g[h]=void 0)}}}n.extend({cache:{},noData:{&quot;applet &quot;:!0,&quot;embed &quot;:!0,&quot;object &quot;:&quot;clsid:D27CDB6E-AE6D-11cf-96B8-444553540000&quot;},hasData:function(a){return a=a.nodeType?n.cache[a[n.expando]]:a[n.expando],!!a&amp;&amp;!Q(a)},data:function(a,b,c){return R(a,b,c)},removeData:function(a,b){return S(a,b)},_data:function(a,b,c){return R(a,b,c,!0)},_removeData:function(a,b){return S(a,b,!0)}}),n.fn.extend({data:function(a,b){var c,d,e,f=this[0],g=f&amp;&amp;f.attributes;if(void 0===a){if(this.length&amp;&amp;(e=n.data(f),1===f.nodeType&amp;&amp;!n._data(f,&quot;parsedAttrs&quot;))){c=g.length;while(c--)g[c]&amp;&amp;(d=g[c].name,0===d.indexOf(&quot;data-&quot;)&amp;&amp;(d=n.camelCase(d.slice(5)),P(f,d,e[d])));n._data(f,&quot;parsedAttrs&quot;,!0)}return e}return&quot;object&quot;==typeof a?this.each(function(){n.data(this,a)}):arguments.length&gt;1?this.each(function(){n.data(this,a,b)}):f?P(f,a,n.data(f,a)):void 0},removeData:function(a){return this.each(function(){n.removeData(this,a)})}}),n.extend({queue:function(a,b,c){var d;return a?(b=(b||&quot;fx&quot;)+&quot;queue&quot;,d=n._data(a,b),c&amp;&amp;(!d||n.isArray(c)?d=n._data(a,b,n.makeArray(c)):d.push(c)),d||[]):void 0},dequeue:function(a,b){b=b||&quot;fx&quot;;var c=n.queue(a,b),d=c.length,e=c.shift(),f=n._queueHooks(a,b),g=function(){n.dequeue(a,b)};&quot;inprogress&quot;===e&amp;&amp;(e=c.shift(),d--),e&amp;&amp;(&quot;fx&quot;===b&amp;&amp;c.unshift(&quot;inprogress&quot;),delete f.stop,e.call(a,g,f)),!d&amp;&amp;f&amp;&amp;f.empty.fire()},_queueHooks:function(a,b){var c=b+&quot;queueHooks&quot;;return n._data(a,c)||n._data(a,c,{empty:n.Callbacks(&quot;once memory&quot;).add(function(){n._removeData(a,b+&quot;queue&quot;),n._removeData(a,c)})})}}),n.fn.extend({queue:function(a,b){var c=2;return&quot;string&quot;!=typeof a&amp;&amp;(b=a,a=&quot;fx&quot;,c--),arguments.length&lt;c?n.queue(this[0],a):void 0===b?this:this.each(function(){var c=n.queue(this,a,b);n._queueHooks(this,a),&quot;fx&quot;===a&amp;&amp;&quot;inprogress&quot;!==c[0]&amp;&amp;n.dequeue(this,a)})},dequeue:function(a){return this.each(function(){n.dequeue(this,a)})},clearQueue:function(a){return this.queue(a||&quot;fx&quot;,[])},promise:function(a,b){var c,d=1,e=n.Deferred(),f=this,g=this.length,h=function(){--d||e.resolveWith(f,[f])};&quot;string&quot;!=typeof a&amp;&amp;(b=a,a=void 0),a=a||&quot;fx&quot;;while(g--)c=n._data(f[g],a+&quot;queueHooks&quot;),c&amp;&amp;c.empty&amp;&amp;(d++,c.empty.add(h));return h(),e.promise(b)}}),function(){var a;l.shrinkWrapBlocks=function(){if(null!=a)return a;a=!1;var b,c,e;return c=d.getElementsByTagName(&quot;body&quot;)[0],c&amp;&amp;c.style?(b=d.createElement(&quot;div&quot;),e=d.createElement(&quot;div&quot;),e.style.cssText=&quot;position:absolute;border:0;width:0;height:0;top:0;left:-9999px&quot;,c.appendChild(e).appendChild(b),&quot;undefined&quot;!=typeof b.style.zoom&amp;&amp;(b.style.cssText=&quot;-webkit-box-sizing:content-box;-moz-box-sizing:content-box;box-sizing:content-box;display:block;margin:0;border:0;padding:1px;width:1px;zoom:1&quot;,b.appendChild(d.createElement(&quot;div&quot;)).style.width=&quot;5px&quot;,a=3!==b.offsetWidth),c.removeChild(e),a):void 0}}();var T=/[+-]?(?:\\d*\\.|)\\d+(?:[eE][+-]?\\d+|)/.source,U=new RegExp(&quot;^(?:([+-])=|)(&quot;+T+&quot;)([a-z%]*)$&quot;,&quot;i&quot;),V=[&quot;Top&quot;,&quot;Right&quot;,&quot;Bottom&quot;,&quot;Left&quot;],W=function(a,b){return a=b||a,&quot;none&quot;===n.css(a,&quot;display&quot;)||!n.contains(a.ownerDocument,a)};function X(a,b,c,d){var e,f=1,g=20,h=d?function(){return d.cur()}:function(){return n.css(a,b,&quot;&quot;)},i=h(),j=c&amp;&amp;c[3]||(n.cssNumber[b]?&quot;&quot;:&quot;px&quot;),k=(n.cssNumber[b]||&quot;px&quot;!==j&amp;&amp;+i)&amp;&amp;U.exec(n.css(a,b));if(k&amp;&amp;k[3]!==j){j=j||k[3],c=c||[],k=+i||1;do f=f||&quot;.5&quot;,k/=f,n.style(a,b,k+j);while(f!==(f=h()/i)&amp;&amp;1!==f&amp;&amp;--g)}return c&amp;&amp;(k=+k||+i||0,e=c[1]?k+(c[1]+1)*c[2]:+c[2],d&amp;&amp;(d.unit=j,d.start=k,d.end=e)),e}var Y=function(a,b,c,d,e,f,g){var h=0,i=a.length,j=null==c;if(&quot;object&quot;===n.type(c)){e=!0;for(h in c)Y(a,b,h,c[h],!0,f,g)}else if(void 0!==d&amp;&amp;(e=!0,n.isFunction(d)||(g=!0),j&amp;&amp;(g?(b.call(a,d),b=null):(j=b,b=function(a,b,c){return j.call(n(a),c)})),b))for(;i&gt;h;h++)b(a[h],c,g?d:d.call(a[h],h,b(a[h],c)));return e?a:j?b.call(a):i?b(a[0],c):f},Z=/^(?:checkbox|radio)$/i,$=/&lt;([\\w:-]+)/,_=/^$|\\/(?:java|ecma)script/i,aa=/^\\s+/,ba=&quot;abbr|article|aside|audio|bdi|canvas|data|datalist|details|dialog|figcaption|figure|footer|header|hgroup|main|mark|meter|nav|output|picture|progress|section|summary|template|time|video&quot;;function ca(a){var b=ba.split(&quot;|&quot;),c=a.createDocumentFragment();if(c.createElement)while(b.length)c.createElement(b.pop());return c}!function(){var a=d.createElement(&quot;div&quot;),b=d.createDocumentFragment(),c=d.createElement(&quot;input&quot;);a.innerHTML=&quot;  &lt;link/&gt;&lt;table&gt;&lt;/table&gt;&lt;a href=&#x27;/a&#x27;&gt;a&lt;/a&gt;&lt;input type=&#x27;checkbox&#x27;/&gt;&quot;,l.leadingWhitespace=3===a.firstChild.nodeType,l.tbody=!a.getElementsByTagName(&quot;tbody&quot;).length,l.htmlSerialize=!!a.getElementsByTagName(&quot;link&quot;).length,l.html5Clone=&quot;&lt;:nav&gt;&lt;/:nav&gt;&quot;!==d.createElement(&quot;nav&quot;).cloneNode(!0).outerHTML,c.type=&quot;checkbox&quot;,c.checked=!0,b.appendChild(c),l.appendChecked=c.checked,a.innerHTML=&quot;&lt;textarea&gt;x&lt;/textarea&gt;&quot;,l.noCloneChecked=!!a.cloneNode(!0).lastChild.defaultValue,b.appendChild(a),c=d.createElement(&quot;input&quot;),c.setAttribute(&quot;type&quot;,&quot;radio&quot;),c.setAttribute(&quot;checked&quot;,&quot;checked&quot;),c.setAttribute(&quot;name&quot;,&quot;t&quot;),a.appendChild(c),l.checkClone=a.cloneNode(!0).cloneNode(!0).lastChild.checked,l.noCloneEvent=!!a.addEventListener,a[n.expando]=1,l.attributes=!a.getAttribute(n.expando)}();var da={option:[1,&quot;&lt;select multiple=&#x27;multiple&#x27;&gt;&quot;,&quot;&lt;/select&gt;&quot;],legend:[1,&quot;&lt;fieldset&gt;&quot;,&quot;&lt;/fieldset&gt;&quot;],area:[1,&quot;&lt;map&gt;&quot;,&quot;&lt;/map&gt;&quot;],param:[1,&quot;&lt;object&gt;&quot;,&quot;&lt;/object&gt;&quot;],thead:[1,&quot;&lt;table&gt;&quot;,&quot;&lt;/table&gt;&quot;],tr:[2,&quot;&lt;table&gt;&lt;tbody&gt;&quot;,&quot;&lt;/tbody&gt;&lt;/table&gt;&quot;],col:[2,&quot;&lt;table&gt;&lt;tbody&gt;&lt;/tbody&gt;&lt;colgroup&gt;&quot;,&quot;&lt;/colgroup&gt;&lt;/table&gt;&quot;],td:[3,&quot;&lt;table&gt;&lt;tbody&gt;&lt;tr&gt;&quot;,&quot;&lt;/tr&gt;&lt;/tbody&gt;&lt;/table&gt;&quot;],_default:l.htmlSerialize?[0,&quot;&quot;,&quot;&quot;]:[1,&quot;X&lt;div&gt;&quot;,&quot;&lt;/div&gt;&quot;]};da.optgroup=da.option,da.tbody=da.tfoot=da.colgroup=da.caption=da.thead,da.th=da.td;function ea(a,b){var c,d,e=0,f=&quot;undefined&quot;!=typeof a.getElementsByTagName?a.getElementsByTagName(b||&quot;*&quot;):&quot;undefined&quot;!=typeof a.querySelectorAll?a.querySelectorAll(b||&quot;*&quot;):void 0;if(!f)for(f=[],c=a.childNodes||a;null!=(d=c[e]);e++)!b||n.nodeName(d,b)?f.push(d):n.merge(f,ea(d,b));return void 0===b||b&amp;&amp;n.nodeName(a,b)?n.merge([a],f):f}function fa(a,b){for(var c,d=0;null!=(c=a[d]);d++)n._data(c,&quot;globalEval&quot;,!b||n._data(b[d],&quot;globalEval&quot;))}var ga=/&lt;|&amp;#?\\w+;/,ha=/&lt;tbody/i;function ia(a){Z.test(a.type)&amp;&amp;(a.defaultChecked=a.checked)}function ja(a,b,c,d,e){for(var f,g,h,i,j,k,m,o=a.length,p=ca(b),q=[],r=0;o&gt;r;r++)if(g=a[r],g||0===g)if(&quot;object&quot;===n.type(g))n.merge(q,g.nodeType?[g]:g);else if(ga.test(g)){i=i||p.appendChild(b.createElement(&quot;div&quot;)),j=($.exec(g)||[&quot;&quot;,&quot;&quot;])[1].toLowerCase(),m=da[j]||da._default,i.innerHTML=m[1]+n.htmlPrefilter(g)+m[2],f=m[0];while(f--)i=i.lastChild;if(!l.leadingWhitespace&amp;&amp;aa.test(g)&amp;&amp;q.push(b.createTextNode(aa.exec(g)[0])),!l.tbody){g=&quot;table&quot;!==j||ha.test(g)?&quot;&lt;table&gt;&quot;!==m[1]||ha.test(g)?0:i:i.firstChild,f=g&amp;&amp;g.childNodes.length;while(f--)n.nodeName(k=g.childNodes[f],&quot;tbody&quot;)&amp;&amp;!k.childNodes.length&amp;&amp;g.removeChild(k)}n.merge(q,i.childNodes),i.textContent=&quot;&quot;;while(i.firstChild)i.removeChild(i.firstChild);i=p.lastChild}else q.push(b.createTextNode(g));i&amp;&amp;p.removeChild(i),l.appendChecked||n.grep(ea(q,&quot;input&quot;),ia),r=0;while(g=q[r++])if(d&amp;&amp;n.inArray(g,d)&gt;-1)e&amp;&amp;e.push(g);else if(h=n.contains(g.ownerDocument,g),i=ea(p.appendChild(g),&quot;script&quot;),h&amp;&amp;fa(i),c){f=0;while(g=i[f++])_.test(g.type||&quot;&quot;)&amp;&amp;c.push(g)}return i=null,p}!function(){var b,c,e=d.createElement(&quot;div&quot;);for(b in{submit:!0,change:!0,focusin:!0})c=&quot;on&quot;+b,(l[b]=c in a)||(e.setAttribute(c,&quot;t&quot;),l[b]=e.attributes[c].expando===!1);e=null}();var ka=/^(?:input|select|textarea)$/i,la=/^key/,ma=/^(?:mouse|pointer|contextmenu|drag|drop)|click/,na=/^(?:focusinfocus|focusoutblur)$/,oa=/^([^.]*)(?:\\.(.+)|)/;function pa(){return!0}function qa(){return!1}function ra(){try{return d.activeElement}catch(a){}}function sa(a,b,c,d,e,f){var g,h;if(&quot;object&quot;==typeof b){&quot;string&quot;!=typeof c&amp;&amp;(d=d||c,c=void 0);for(h in b)sa(a,h,c,d,b[h],f);return a}if(null==d&amp;&amp;null==e?(e=c,d=c=void 0):null==e&amp;&amp;(&quot;string&quot;==typeof c?(e=d,d=void 0):(e=d,d=c,c=void 0)),e===!1)e=qa;else if(!e)return a;return 1===f&amp;&amp;(g=e,e=function(a){return n().off(a),g.apply(this,arguments)},e.guid=g.guid||(g.guid=n.guid++)),a.each(function(){n.event.add(this,b,e,d,c)})}n.event={global:{},add:function(a,b,c,d,e){var f,g,h,i,j,k,l,m,o,p,q,r=n._data(a);if(r){c.handler&amp;&amp;(i=c,c=i.handler,e=i.selector),c.guid||(c.guid=n.guid++),(g=r.events)||(g=r.events={}),(k=r.handle)||(k=r.handle=function(a){return&quot;undefined&quot;==typeof n||a&amp;&amp;n.event.triggered===a.type?void 0:n.event.dispatch.apply(k.elem,arguments)},k.elem=a),b=(b||&quot;&quot;).match(G)||[&quot;&quot;],h=b.length;while(h--)f=oa.exec(b[h])||[],o=q=f[1],p=(f[2]||&quot;&quot;).split(&quot;.&quot;).sort(),o&amp;&amp;(j=n.event.special[o]||{},o=(e?j.delegateType:j.bindType)||o,j=n.event.special[o]||{},l=n.extend({type:o,origType:q,data:d,handler:c,guid:c.guid,selector:e,needsContext:e&amp;&amp;n.expr.match.needsContext.test(e),namespace:p.join(&quot;.&quot;)},i),(m=g[o])||(m=g[o]=[],m.delegateCount=0,j.setup&amp;&amp;j.setup.call(a,d,p,k)!==!1||(a.addEventListener?a.addEventListener(o,k,!1):a.attachEvent&amp;&amp;a.attachEvent(&quot;on&quot;+o,k))),j.add&amp;&amp;(j.add.call(a,l),l.handler.guid||(l.handler.guid=c.guid)),e?m.splice(m.delegateCount++,0,l):m.push(l),n.event.global[o]=!0);a=null}},remove:function(a,b,c,d,e){var f,g,h,i,j,k,l,m,o,p,q,r=n.hasData(a)&amp;&amp;n._data(a);if(r&amp;&amp;(k=r.events)){b=(b||&quot;&quot;).match(G)||[&quot;&quot;],j=b.length;while(j--)if(h=oa.exec(b[j])||[],o=q=h[1],p=(h[2]||&quot;&quot;).split(&quot;.&quot;).sort(),o){l=n.event.special[o]||{},o=(d?l.delegateType:l.bindType)||o,m=k[o]||[],h=h[2]&amp;&amp;new RegExp(&quot;(^|\\\\.)&quot;+p.join(&quot;\\\\.(?:.*\\\\.|)&quot;)+&quot;(\\\\.|$)&quot;),i=f=m.length;while(f--)g=m[f],!e&amp;&amp;q!==g.origType||c&amp;&amp;c.guid!==g.guid||h&amp;&amp;!h.test(g.namespace)||d&amp;&amp;d!==g.selector&amp;&amp;(&quot;**&quot;!==d||!g.selector)||(m.splice(f,1),g.selector&amp;&amp;m.delegateCount--,l.remove&amp;&amp;l.remove.call(a,g));i&amp;&amp;!m.length&amp;&amp;(l.teardown&amp;&amp;l.teardown.call(a,p,r.handle)!==!1||n.removeEvent(a,o,r.handle),delete k[o])}else for(o in k)n.event.remove(a,o+b[j],c,d,!0);n.isEmptyObject(k)&amp;&amp;(delete r.handle,n._removeData(a,&quot;events&quot;))}},trigger:function(b,c,e,f){var g,h,i,j,l,m,o,p=[e||d],q=k.call(b,&quot;type&quot;)?b.type:b,r=k.call(b,&quot;namespace&quot;)?b.namespace.split(&quot;.&quot;):[];if(i=m=e=e||d,3!==e.nodeType&amp;&amp;8!==e.nodeType&amp;&amp;!na.test(q+n.event.triggered)&amp;&amp;(q.indexOf(&quot;.&quot;)&gt;-1&amp;&amp;(r=q.split(&quot;.&quot;),q=r.shift(),r.sort()),h=q.indexOf(&quot;:&quot;)&lt;0&amp;&amp;&quot;on&quot;+q,b=b[n.expando]?b:new n.Event(q,&quot;object&quot;==typeof b&amp;&amp;b),b.isTrigger=f?2:3,b.namespace=r.join(&quot;.&quot;),b.rnamespace=b.namespace?new RegExp(&quot;(^|\\\\.)&quot;+r.join(&quot;\\\\.(?:.*\\\\.|)&quot;)+&quot;(\\\\.|$)&quot;):null,b.result=void 0,b.target||(b.target=e),c=null==c?[b]:n.makeArray(c,[b]),l=n.event.special[q]||{},f||!l.trigger||l.trigger.apply(e,c)!==!1)){if(!f&amp;&amp;!l.noBubble&amp;&amp;!n.isWindow(e)){for(j=l.delegateType||q,na.test(j+q)||(i=i.parentNode);i;i=i.parentNode)p.push(i),m=i;m===(e.ownerDocument||d)&amp;&amp;p.push(m.defaultView||m.parentWindow||a)}o=0;while((i=p[o++])&amp;&amp;!b.isPropagationStopped())b.type=o&gt;1?j:l.bindType||q,g=(n._data(i,&quot;events&quot;)||{})[b.type]&amp;&amp;n._data(i,&quot;handle&quot;),g&amp;&amp;g.apply(i,c),g=h&amp;&amp;i[h],g&amp;&amp;g.apply&amp;&amp;M(i)&amp;&amp;(b.result=g.apply(i,c),b.result===!1&amp;&amp;b.preventDefault());if(b.type=q,!f&amp;&amp;!b.isDefaultPrevented()&amp;&amp;(!l._default||l._default.apply(p.pop(),c)===!1)&amp;&amp;M(e)&amp;&amp;h&amp;&amp;e[q]&amp;&amp;!n.isWindow(e)){m=e[h],m&amp;&amp;(e[h]=null),n.event.triggered=q;try{e[q]()}catch(s){}n.event.triggered=void 0,m&amp;&amp;(e[h]=m)}return b.result}},dispatch:function(a){a=n.event.fix(a);var b,c,d,f,g,h=[],i=e.call(arguments),j=(n._data(this,&quot;events&quot;)||{})[a.type]||[],k=n.event.special[a.type]||{};if(i[0]=a,a.delegateTarget=this,!k.preDispatch||k.preDispatch.call(this,a)!==!1){h=n.event.handlers.call(this,a,j),b=0;while((f=h[b++])&amp;&amp;!a.isPropagationStopped()){a.currentTarget=f.elem,c=0;while((g=f.handlers[c++])&amp;&amp;!a.isImmediatePropagationStopped())a.rnamespace&amp;&amp;!a.rnamespace.test(g.namespace)||(a.handleObj=g,a.data=g.data,d=((n.event.special[g.origType]||{}).handle||g.handler).apply(f.elem,i),void 0!==d&amp;&amp;(a.result=d)===!1&amp;&amp;(a.preventDefault(),a.stopPropagation()))}return k.postDispatch&amp;&amp;k.postDispatch.call(this,a),a.result}},handlers:function(a,b){var c,d,e,f,g=[],h=b.delegateCount,i=a.target;if(h&amp;&amp;i.nodeType&amp;&amp;(&quot;click&quot;!==a.type||isNaN(a.button)||a.button&lt;1))for(;i!=this;i=i.parentNode||this)if(1===i.nodeType&amp;&amp;(i.disabled!==!0||&quot;click&quot;!==a.type)){for(d=[],c=0;h&gt;c;c++)f=b[c],e=f.selector+&quot; &quot;,void 0===d[e]&amp;&amp;(d[e]=f.needsContext?n(e,this).index(i)&gt;-1:n.find(e,this,null,[i]).length),d[e]&amp;&amp;d.push(f);d.length&amp;&amp;g.push({elem:i,handlers:d})}return h&lt;b.length&amp;&amp;g.push({elem:this,handlers:b.slice(h)}),g},fix:function(a){if(a[n.expando])return a;var b,c,e,f=a.type,g=a,h=this.fixHooks[f];h||(this.fixHooks[f]=h=ma.test(f)?this.mouseHooks:la.test(f)?this.keyHooks:{}),e=h.props?this.props.concat(h.props):this.props,a=new n.Event(g),b=e.length;while(b--)c=e[b],a[c]=g[c];return a.target||(a.target=g.srcElement||d),3===a.target.nodeType&amp;&amp;(a.target=a.target.parentNode),a.metaKey=!!a.metaKey,h.filter?h.filter(a,g):a},props:&quot;altKey bubbles cancelable ctrlKey currentTarget detail eventPhase metaKey relatedTarget shiftKey target timeStamp view which&quot;.split(&quot; &quot;),fixHooks:{},keyHooks:{props:&quot;char charCode key keyCode&quot;.split(&quot; &quot;),filter:function(a,b){return null==a.which&amp;&amp;(a.which=null!=b.charCode?b.charCode:b.keyCode),a}},mouseHooks:{props:&quot;button buttons clientX clientY fromElement offsetX offsetY pageX pageY screenX screenY toElement&quot;.split(&quot; &quot;),filter:function(a,b){var c,e,f,g=b.button,h=b.fromElement;return null==a.pageX&amp;&amp;null!=b.clientX&amp;&amp;(e=a.target.ownerDocument||d,f=e.documentElement,c=e.body,a.pageX=b.clientX+(f&amp;&amp;f.scrollLeft||c&amp;&amp;c.scrollLeft||0)-(f&amp;&amp;f.clientLeft||c&amp;&amp;c.clientLeft||0),a.pageY=b.clientY+(f&amp;&amp;f.scrollTop||c&amp;&amp;c.scrollTop||0)-(f&amp;&amp;f.clientTop||c&amp;&amp;c.clientTop||0)),!a.relatedTarget&amp;&amp;h&amp;&amp;(a.relatedTarget=h===a.target?b.toElement:h),a.which||void 0===g||(a.which=1&amp;g?1:2&amp;g?3:4&amp;g?2:0),a}},special:{load:{noBubble:!0},focus:{trigger:function(){if(this!==ra()&amp;&amp;this.focus)try{return this.focus(),!1}catch(a){}},delegateType:&quot;focusin&quot;},blur:{trigger:function(){return this===ra()&amp;&amp;this.blur?(this.blur(),!1):void 0},delegateType:&quot;focusout&quot;},click:{trigger:function(){return n.nodeName(this,&quot;input&quot;)&amp;&amp;&quot;checkbox&quot;===this.type&amp;&amp;this.click?(this.click(),!1):void 0},_default:function(a){return n.nodeName(a.target,&quot;a&quot;)}},beforeunload:{postDispatch:function(a){void 0!==a.result&amp;&amp;a.originalEvent&amp;&amp;(a.originalEvent.returnValue=a.result)}}},simulate:function(a,b,c){var d=n.extend(new n.Event,c,{type:a,isSimulated:!0});n.event.trigger(d,null,b),d.isDefaultPrevented()&amp;&amp;c.preventDefault()}},n.removeEvent=d.removeEventListener?function(a,b,c){a.removeEventListener&amp;&amp;a.removeEventListener(b,c)}:function(a,b,c){var d=&quot;on&quot;+b;a.detachEvent&amp;&amp;(&quot;undefined&quot;==typeof a[d]&amp;&amp;(a[d]=null),a.detachEvent(d,c))},n.Event=function(a,b){return this instanceof n.Event?(a&amp;&amp;a.type?(this.originalEvent=a,this.type=a.type,this.isDefaultPrevented=a.defaultPrevented||void 0===a.defaultPrevented&amp;&amp;a.returnValue===!1?pa:qa):this.type=a,b&amp;&amp;n.extend(this,b),this.timeStamp=a&amp;&amp;a.timeStamp||n.now(),void(this[n.expando]=!0)):new n.Event(a,b)},n.Event.prototype={constructor:n.Event,isDefaultPrevented:qa,isPropagationStopped:qa,isImmediatePropagationStopped:qa,preventDefault:function(){var a=this.originalEvent;this.isDefaultPrevented=pa,a&amp;&amp;(a.preventDefault?a.preventDefault():a.returnValue=!1)},stopPropagation:function(){var a=this.originalEvent;this.isPropagationStopped=pa,a&amp;&amp;!this.isSimulated&amp;&amp;(a.stopPropagation&amp;&amp;a.stopPropagation(),a.cancelBubble=!0)},stopImmediatePropagation:function(){var a=this.originalEvent;this.isImmediatePropagationStopped=pa,a&amp;&amp;a.stopImmediatePropagation&amp;&amp;a.stopImmediatePropagation(),this.stopPropagation()}},n.each({mouseenter:&quot;mouseover&quot;,mouseleave:&quot;mouseout&quot;,pointerenter:&quot;pointerover&quot;,pointerleave:&quot;pointerout&quot;},function(a,b){n.event.special[a]={delegateType:b,bindType:b,handle:function(a){var c,d=this,e=a.relatedTarget,f=a.handleObj;return e&amp;&amp;(e===d||n.contains(d,e))||(a.type=f.origType,c=f.handler.apply(this,arguments),a.type=b),c}}}),l.submit||(n.event.special.submit={setup:function(){return n.nodeName(this,&quot;form&quot;)?!1:void n.event.add(this,&quot;click._submit keypress._submit&quot;,function(a){var b=a.target,c=n.nodeName(b,&quot;input&quot;)||n.nodeName(b,&quot;button&quot;)?n.prop(b,&quot;form&quot;):void 0;c&amp;&amp;!n._data(c,&quot;submit&quot;)&amp;&amp;(n.event.add(c,&quot;submit._submit&quot;,function(a){a._submitBubble=!0}),n._data(c,&quot;submit&quot;,!0))})},postDispatch:function(a){a._submitBubble&amp;&amp;(delete a._submitBubble,this.parentNode&amp;&amp;!a.isTrigger&amp;&amp;n.event.simulate(&quot;submit&quot;,this.parentNode,a))},teardown:function(){return n.nodeName(this,&quot;form&quot;)?!1:void n.event.remove(this,&quot;._submit&quot;)}}),l.change||(n.event.special.change={setup:function(){return ka.test(this.nodeName)?(&quot;checkbox&quot;!==this.type&amp;&amp;&quot;radio&quot;!==this.type||(n.event.add(this,&quot;propertychange._change&quot;,function(a){&quot;checked&quot;===a.originalEvent.propertyName&amp;&amp;(this._justChanged=!0)}),n.event.add(this,&quot;click._change&quot;,function(a){this._justChanged&amp;&amp;!a.isTrigger&amp;&amp;(this._justChanged=!1),n.event.simulate(&quot;change&quot;,this,a)})),!1):void n.event.add(this,&quot;beforeactivate._change&quot;,function(a){var b=a.target;ka.test(b.nodeName)&amp;&amp;!n._data(b,&quot;change&quot;)&amp;&amp;(n.event.add(b,&quot;change._change&quot;,function(a){!this.parentNode||a.isSimulated||a.isTrigger||n.event.simulate(&quot;change&quot;,this.parentNode,a)}),n._data(b,&quot;change&quot;,!0))})},handle:function(a){var b=a.target;return this!==b||a.isSimulated||a.isTrigger||&quot;radio&quot;!==b.type&amp;&amp;&quot;checkbox&quot;!==b.type?a.handleObj.handler.apply(this,arguments):void 0},teardown:function(){return n.event.remove(this,&quot;._change&quot;),!ka.test(this.nodeName)}}),l.focusin||n.each({focus:&quot;focusin&quot;,blur:&quot;focusout&quot;},function(a,b){var c=function(a){n.event.simulate(b,a.target,n.event.fix(a))};n.event.special[b]={setup:function(){var d=this.ownerDocument||this,e=n._data(d,b);e||d.addEventListener(a,c,!0),n._data(d,b,(e||0)+1)},teardown:function(){var d=this.ownerDocument||this,e=n._data(d,b)-1;e?n._data(d,b,e):(d.removeEventListener(a,c,!0),n._removeData(d,b))}}}),n.fn.extend({on:function(a,b,c,d){return sa(this,a,b,c,d)},one:function(a,b,c,d){return sa(this,a,b,c,d,1)},off:function(a,b,c){var d,e;if(a&amp;&amp;a.preventDefault&amp;&amp;a.handleObj)return d=a.handleObj,n(a.delegateTarget).off(d.namespace?d.origType+&quot;.&quot;+d.namespace:d.origType,d.selector,d.handler),this;if(&quot;object&quot;==typeof a){for(e in a)this.off(e,b,a[e]);return this}return b!==!1&amp;&amp;&quot;function&quot;!=typeof b||(c=b,b=void 0),c===!1&amp;&amp;(c=qa),this.each(function(){n.event.remove(this,a,c,b)})},trigger:function(a,b){return this.each(function(){n.event.trigger(a,b,this)})},triggerHandler:function(a,b){var c=this[0];return c?n.event.trigger(a,b,c,!0):void 0}});var ta=/ jQuery\\d+=&quot;(?:null|\\d+)&quot;/g,ua=new RegExp(&quot;&lt;(?:&quot;+ba+&quot;)[\\\\s/&gt;]&quot;,&quot;i&quot;),va=/&lt;(?!area|br|col|embed|hr|img|input|link|meta|param)(([\\w:-]+)[^&gt;]*)\\/&gt;/gi,wa=/&lt;script|&lt;style|&lt;link/i,xa=/checked\\s*(?:[^=]|=\\s*.checked.)/i,ya=/^true\\/(.*)/,za=/^\\s*&lt;!(?:\\[CDATA\\[|--)|(?:\\]\\]|--)&gt;\\s*$/g,Aa=ca(d),Ba=Aa.appendChild(d.createElement(&quot;div&quot;));function Ca(a,b){return n.nodeName(a,&quot;table&quot;)&amp;&amp;n.nodeName(11!==b.nodeType?b:b.firstChild,&quot;tr&quot;)?a.getElementsByTagName(&quot;tbody&quot;)[0]||a.appendChild(a.ownerDocument.createElement(&quot;tbody&quot;)):a}function Da(a){return a.type=(null!==n.find.attr(a,&quot;type&quot;))+&quot;/&quot;+a.type,a}function Ea(a){var b=ya.exec(a.type);return b?a.type=b[1]:a.removeAttribute(&quot;type&quot;),a}function Fa(a,b){if(1===b.nodeType&amp;&amp;n.hasData(a)){var c,d,e,f=n._data(a),g=n._data(b,f),h=f.events;if(h){delete g.handle,g.events={};for(c in h)for(d=0,e=h[c].length;e&gt;d;d++)n.event.add(b,c,h[c][d])}g.data&amp;&amp;(g.data=n.extend({},g.data))}}function Ga(a,b){var c,d,e;if(1===b.nodeType){if(c=b.nodeName.toLowerCase(),!l.noCloneEvent&amp;&amp;b[n.expando]){e=n._data(b);for(d in e.events)n.removeEvent(b,d,e.handle);b.removeAttribute(n.expando)}&quot;script&quot;===c&amp;&amp;b.text!==a.text?(Da(b).text=a.text,Ea(b)):&quot;object&quot;===c?(b.parentNode&amp;&amp;(b.outerHTML=a.outerHTML),l.html5Clone&amp;&amp;a.innerHTML&amp;&amp;!n.trim(b.innerHTML)&amp;&amp;(b.innerHTML=a.innerHTML)):&quot;input&quot;===c&amp;&amp;Z.test(a.type)?(b.defaultChecked=b.checked=a.checked,b.value!==a.value&amp;&amp;(b.value=a.value)):&quot;option&quot;===c?b.defaultSelected=b.selected=a.defaultSelected:&quot;input&quot;!==c&amp;&amp;&quot;textarea&quot;!==c||(b.defaultValue=a.defaultValue)}}function Ha(a,b,c,d){b=f.apply([],b);var e,g,h,i,j,k,m=0,o=a.length,p=o-1,q=b[0],r=n.isFunction(q);if(r||o&gt;1&amp;&amp;&quot;string&quot;==typeof q&amp;&amp;!l.checkClone&amp;&amp;xa.test(q))return a.each(function(e){var f=a.eq(e);r&amp;&amp;(b[0]=q.call(this,e,f.html())),Ha(f,b,c,d)});if(o&amp;&amp;(k=ja(b,a[0].ownerDocument,!1,a,d),e=k.firstChild,1===k.childNodes.length&amp;&amp;(k=e),e||d)){for(i=n.map(ea(k,&quot;script&quot;),Da),h=i.length;o&gt;m;m++)g=k,m!==p&amp;&amp;(g=n.clone(g,!0,!0),h&amp;&amp;n.merge(i,ea(g,&quot;script&quot;))),c.call(a[m],g,m);if(h)for(j=i[i.length-1].ownerDocument,n.map(i,Ea),m=0;h&gt;m;m++)g=i[m],_.test(g.type||&quot;&quot;)&amp;&amp;!n._data(g,&quot;globalEval&quot;)&amp;&amp;n.contains(j,g)&amp;&amp;(g.src?n._evalUrl&amp;&amp;n._evalUrl(g.src):n.globalEval((g.text||g.textContent||g.innerHTML||&quot;&quot;).replace(za,&quot;&quot;)));k=e=null}return a}function Ia(a,b,c){for(var d,e=b?n.filter(b,a):a,f=0;null!=(d=e[f]);f++)c||1!==d.nodeType||n.cleanData(ea(d)),d.parentNode&amp;&amp;(c&amp;&amp;n.contains(d.ownerDocument,d)&amp;&amp;fa(ea(d,&quot;script&quot;)),d.parentNode.removeChild(d));return a}n.extend({htmlPrefilter:function(a){return a.replace(va,&quot;&lt;$1&gt;&lt;/$2&gt;&quot;)},clone:function(a,b,c){var d,e,f,g,h,i=n.contains(a.ownerDocument,a);if(l.html5Clone||n.isXMLDoc(a)||!ua.test(&quot;&lt;&quot;+a.nodeName+&quot;&gt;&quot;)?f=a.cloneNode(!0):(Ba.innerHTML=a.outerHTML,Ba.removeChild(f=Ba.firstChild)),!(l.noCloneEvent&amp;&amp;l.noCloneChecked||1!==a.nodeType&amp;&amp;11!==a.nodeType||n.isXMLDoc(a)))for(d=ea(f),h=ea(a),g=0;null!=(e=h[g]);++g)d[g]&amp;&amp;Ga(e,d[g]);if(b)if(c)for(h=h||ea(a),d=d||ea(f),g=0;null!=(e=h[g]);g++)Fa(e,d[g]);else Fa(a,f);return d=ea(f,&quot;script&quot;),d.length&gt;0&amp;&amp;fa(d,!i&amp;&amp;ea(a,&quot;script&quot;)),d=h=e=null,f},cleanData:function(a,b){for(var d,e,f,g,h=0,i=n.expando,j=n.cache,k=l.attributes,m=n.event.special;null!=(d=a[h]);h++)if((b||M(d))&amp;&amp;(f=d[i],g=f&amp;&amp;j[f])){if(g.events)for(e in g.events)m[e]?n.event.remove(d,e):n.removeEvent(d,e,g.handle);j[f]&amp;&amp;(delete j[f],k||&quot;undefined&quot;==typeof d.removeAttribute?d[i]=void 0:d.removeAttribute(i),c.push(f))}}}),n.fn.extend({domManip:Ha,detach:function(a){return Ia(this,a,!0)},remove:function(a){return Ia(this,a)},text:function(a){return Y(this,function(a){return void 0===a?n.text(this):this.empty().append((this[0]&amp;&amp;this[0].ownerDocument||d).createTextNode(a))},null,a,arguments.length)},append:function(){return Ha(this,arguments,function(a){if(1===this.nodeType||11===this.nodeType||9===this.nodeType){var b=Ca(this,a);b.appendChild(a)}})},prepend:function(){return Ha(this,arguments,function(a){if(1===this.nodeType||11===this.nodeType||9===this.nodeType){var b=Ca(this,a);b.insertBefore(a,b.firstChild)}})},before:function(){return Ha(this,arguments,function(a){this.parentNode&amp;&amp;this.parentNode.insertBefore(a,this)})},after:function(){return Ha(this,arguments,function(a){this.parentNode&amp;&amp;this.parentNode.insertBefore(a,this.nextSibling)})},empty:function(){for(var a,b=0;null!=(a=this[b]);b++){1===a.nodeType&amp;&amp;n.cleanData(ea(a,!1));while(a.firstChild)a.removeChild(a.firstChild);a.options&amp;&amp;n.nodeName(a,&quot;select&quot;)&amp;&amp;(a.options.length=0)}return this},clone:function(a,b){return a=null==a?!1:a,b=null==b?a:b,this.map(function(){return n.clone(this,a,b)})},html:function(a){return Y(this,function(a){var b=this[0]||{},c=0,d=this.length;if(void 0===a)return 1===b.nodeType?b.innerHTML.replace(ta,&quot;&quot;):void 0;if(&quot;string&quot;==typeof a&amp;&amp;!wa.test(a)&amp;&amp;(l.htmlSerialize||!ua.test(a))&amp;&amp;(l.leadingWhitespace||!aa.test(a))&amp;&amp;!da[($.exec(a)||[&quot;&quot;,&quot;&quot;])[1].toLowerCase()]){a=n.htmlPrefilter(a);try{for(;d&gt;c;c++)b=this[c]||{},1===b.nodeType&amp;&amp;(n.cleanData(ea(b,!1)),b.innerHTML=a);b=0}catch(e){}}b&amp;&amp;this.empty().append(a)},null,a,arguments.length)},replaceWith:function(){var a=[];return Ha(this,arguments,function(b){var c=this.parentNode;n.inArray(this,a)&lt;0&amp;&amp;(n.cleanData(ea(this)),c&amp;&amp;c.replaceChild(b,this))},a)}}),n.each({appendTo:&quot;append&quot;,prependTo:&quot;prepend&quot;,insertBefore:&quot;before&quot;,insertAfter:&quot;after&quot;,replaceAll:&quot;replaceWith&quot;},function(a,b){n.fn[a]=function(a){for(var c,d=0,e=[],f=n(a),h=f.length-1;h&gt;=d;d++)c=d===h?this:this.clone(!0),n(f[d])[b](c),g.apply(e,c.get());return this.pushStack(e)}});var Ja,Ka={HTML:&quot;block&quot;,BODY:&quot;block&quot;};function La(a,b){var c=n(b.createElement(a)).appendTo(b.body),d=n.css(c[0],&quot;display&quot;);return c.detach(),d}function Ma(a){var b=d,c=Ka[a];return c||(c=La(a,b),&quot;none&quot;!==c&amp;&amp;c||(Ja=(Ja||n(&quot;&lt;iframe frameborder=&#x27;0&#x27; width=&#x27;0&#x27; height=&#x27;0&#x27;/&gt;&quot;)).appendTo(b.documentElement),b=(Ja[0].contentWindow||Ja[0].contentDocument).document,b.write(),b.close(),c=La(a,b),Ja.detach()),Ka[a]=c),c}var Na=/^margin/,Oa=new RegExp(&quot;^(&quot;+T+&quot;)(?!px)[a-z%]+$&quot;,&quot;i&quot;),Pa=function(a,b,c,d){var e,f,g={};for(f in b)g[f]=a.style[f],a.style[f]=b[f];e=c.apply(a,d||[]);for(f in b)a.style[f]=g[f];return e},Qa=d.documentElement;!function(){var b,c,e,f,g,h,i=d.createElement(&quot;div&quot;),j=d.createElement(&quot;div&quot;);if(j.style){j.style.cssText=&quot;float:left;opacity:.5&quot;,l.opacity=&quot;0.5&quot;===j.style.opacity,l.cssFloat=!!j.style.cssFloat,j.style.backgroundClip=&quot;content-box&quot;,j.cloneNode(!0).style.backgroundClip=&quot;&quot;,l.clearCloneStyle=&quot;content-box&quot;===j.style.backgroundClip,i=d.createElement(&quot;div&quot;),i.style.cssText=&quot;border:0;width:8px;height:0;top:0;left:-9999px;padding:0;margin-top:1px;position:absolute&quot;,j.innerHTML=&quot;&quot;,i.appendChild(j),l.boxSizing=&quot;&quot;===j.style.boxSizing||&quot;&quot;===j.style.MozBoxSizing||&quot;&quot;===j.style.WebkitBoxSizing,n.extend(l,{reliableHiddenOffsets:function(){return null==b&amp;&amp;k(),f},boxSizingReliable:function(){return null==b&amp;&amp;k(),e},pixelMarginRight:function(){return null==b&amp;&amp;k(),c},pixelPosition:function(){return null==b&amp;&amp;k(),b},reliableMarginRight:function(){return null==b&amp;&amp;k(),g},reliableMarginLeft:function(){return null==b&amp;&amp;k(),h}});function k(){var k,l,m=d.documentElement;m.appendChild(i),j.style.cssText=&quot;-webkit-box-sizing:border-box;box-sizing:border-box;position:relative;display:block;margin:auto;border:1px;padding:1px;top:1%;width:50%&quot;,b=e=h=!1,c=g=!0,a.getComputedStyle&amp;&amp;(l=a.getComputedStyle(j),b=&quot;1%&quot;!==(l||{}).top,h=&quot;2px&quot;===(l||{}).marginLeft,e=&quot;4px&quot;===(l||{width:&quot;4px&quot;}).width,j.style.marginRight=&quot;50%&quot;,c=&quot;4px&quot;===(l||{marginRight:&quot;4px&quot;}).marginRight,k=j.appendChild(d.createElement(&quot;div&quot;)),k.style.cssText=j.style.cssText=&quot;-webkit-box-sizing:content-box;-moz-box-sizing:content-box;box-sizing:content-box;display:block;margin:0;border:0;padding:0&quot;,k.style.marginRight=k.style.width=&quot;0&quot;,j.style.width=&quot;1px&quot;,g=!parseFloat((a.getComputedStyle(k)||{}).marginRight),j.removeChild(k)),j.style.display=&quot;none&quot;,f=0===j.getClientRects().length,f&amp;&amp;(j.style.display=&quot;&quot;,j.innerHTML=&quot;&lt;table&gt;&lt;tr&gt;&lt;td&gt;&lt;/td&gt;&lt;td&gt;t&lt;/td&gt;&lt;/tr&gt;&lt;/table&gt;&quot;,j.childNodes[0].style.borderCollapse=&quot;separate&quot;,k=j.getElementsByTagName(&quot;td&quot;),k[0].style.cssText=&quot;margin:0;border:0;padding:0;display:none&quot;,f=0===k[0].offsetHeight,f&amp;&amp;(k[0].style.display=&quot;&quot;,k[1].style.display=&quot;none&quot;,f=0===k[0].offsetHeight)),m.removeChild(i)}}}();var Ra,Sa,Ta=/^(top|right|bottom|left)$/;a.getComputedStyle?(Ra=function(b){var c=b.ownerDocument.defaultView;return c&amp;&amp;c.opener||(c=a),c.getComputedStyle(b)},Sa=function(a,b,c){var d,e,f,g,h=a.style;return c=c||Ra(a),g=c?c.getPropertyValue(b)||c[b]:void 0,&quot;&quot;!==g&amp;&amp;void 0!==g||n.contains(a.ownerDocument,a)||(g=n.style(a,b)),c&amp;&amp;!l.pixelMarginRight()&amp;&amp;Oa.test(g)&amp;&amp;Na.test(b)&amp;&amp;(d=h.width,e=h.minWidth,f=h.maxWidth,h.minWidth=h.maxWidth=h.width=g,g=c.width,h.width=d,h.minWidth=e,h.maxWidth=f),void 0===g?g:g+&quot;&quot;}):Qa.currentStyle&amp;&amp;(Ra=function(a){return a.currentStyle},Sa=function(a,b,c){var d,e,f,g,h=a.style;return c=c||Ra(a),g=c?c[b]:void 0,null==g&amp;&amp;h&amp;&amp;h[b]&amp;&amp;(g=h[b]),Oa.test(g)&amp;&amp;!Ta.test(b)&amp;&amp;(d=h.left,e=a.runtimeStyle,f=e&amp;&amp;e.left,f&amp;&amp;(e.left=a.currentStyle.left),h.left=&quot;fontSize&quot;===b?&quot;1em&quot;:g,g=h.pixelLeft+&quot;px&quot;,h.left=d,f&amp;&amp;(e.left=f)),void 0===g?g:g+&quot;&quot;||&quot;auto&quot;});function Ua(a,b){return{get:function(){return a()?void delete this.get:(this.get=b).apply(this,arguments)}}}var Va=/alpha\\([^)]*\\)/i,Wa=/opacity\\s*=\\s*([^)]*)/i,Xa=/^(none|table(?!-c[ea]).+)/,Ya=new RegExp(&quot;^(&quot;+T+&quot;)(.*)$&quot;,&quot;i&quot;),Za={position:&quot;absolute&quot;,visibility:&quot;hidden&quot;,display:&quot;block&quot;},$a={letterSpacing:&quot;0&quot;,fontWeight:&quot;400&quot;},_a=[&quot;Webkit&quot;,&quot;O&quot;,&quot;Moz&quot;,&quot;ms&quot;],ab=d.createElement(&quot;div&quot;).style;function bb(a){if(a in ab)return a;var b=a.charAt(0).toUpperCase()+a.slice(1),c=_a.length;while(c--)if(a=_a[c]+b,a in ab)return a}function cb(a,b){for(var c,d,e,f=[],g=0,h=a.length;h&gt;g;g++)d=a[g],d.style&amp;&amp;(f[g]=n._data(d,&quot;olddisplay&quot;),c=d.style.display,b?(f[g]||&quot;none&quot;!==c||(d.style.display=&quot;&quot;),&quot;&quot;===d.style.display&amp;&amp;W(d)&amp;&amp;(f[g]=n._data(d,&quot;olddisplay&quot;,Ma(d.nodeName)))):(e=W(d),(c&amp;&amp;&quot;none&quot;!==c||!e)&amp;&amp;n._data(d,&quot;olddisplay&quot;,e?c:n.css(d,&quot;display&quot;))));for(g=0;h&gt;g;g++)d=a[g],d.style&amp;&amp;(b&amp;&amp;&quot;none&quot;!==d.style.display&amp;&amp;&quot;&quot;!==d.style.display||(d.style.display=b?f[g]||&quot;&quot;:&quot;none&quot;));return a}function db(a,b,c){var d=Ya.exec(b);return d?Math.max(0,d[1]-(c||0))+(d[2]||&quot;px&quot;):b}function eb(a,b,c,d,e){for(var f=c===(d?&quot;border&quot;:&quot;content&quot;)?4:&quot;width&quot;===b?1:0,g=0;4&gt;f;f+=2)&quot;margin&quot;===c&amp;&amp;(g+=n.css(a,c+V[f],!0,e)),d?(&quot;content&quot;===c&amp;&amp;(g-=n.css(a,&quot;padding&quot;+V[f],!0,e)),&quot;margin&quot;!==c&amp;&amp;(g-=n.css(a,&quot;border&quot;+V[f]+&quot;Width&quot;,!0,e))):(g+=n.css(a,&quot;padding&quot;+V[f],!0,e),&quot;padding&quot;!==c&amp;&amp;(g+=n.css(a,&quot;border&quot;+V[f]+&quot;Width&quot;,!0,e)));return g}function fb(a,b,c){var d=!0,e=&quot;width&quot;===b?a.offsetWidth:a.offsetHeight,f=Ra(a),g=l.boxSizing&amp;&amp;&quot;border-box&quot;===n.css(a,&quot;boxSizing&quot;,!1,f);if(0&gt;=e||null==e){if(e=Sa(a,b,f),(0&gt;e||null==e)&amp;&amp;(e=a.style[b]),Oa.test(e))return e;d=g&amp;&amp;(l.boxSizingReliable()||e===a.style[b]),e=parseFloat(e)||0}return e+eb(a,b,c||(g?&quot;border&quot;:&quot;content&quot;),d,f)+&quot;px&quot;}n.extend({cssHooks:{opacity:{get:function(a,b){if(b){var c=Sa(a,&quot;opacity&quot;);return&quot;&quot;===c?&quot;1&quot;:c}}}},cssNumber:{animationIterationCount:!0,columnCount:!0,fillOpacity:!0,flexGrow:!0,flexShrink:!0,fontWeight:!0,lineHeight:!0,opacity:!0,order:!0,orphans:!0,widows:!0,zIndex:!0,zoom:!0},cssProps:{&quot;float&quot;:l.cssFloat?&quot;cssFloat&quot;:&quot;styleFloat&quot;},style:function(a,b,c,d){if(a&amp;&amp;3!==a.nodeType&amp;&amp;8!==a.nodeType&amp;&amp;a.style){var e,f,g,h=n.camelCase(b),i=a.style;if(b=n.cssProps[h]||(n.cssProps[h]=bb(h)||h),g=n.cssHooks[b]||n.cssHooks[h],void 0===c)return g&amp;&amp;&quot;get&quot;in g&amp;&amp;void 0!==(e=g.get(a,!1,d))?e:i[b];if(f=typeof c,&quot;string&quot;===f&amp;&amp;(e=U.exec(c))&amp;&amp;e[1]&amp;&amp;(c=X(a,b,e),f=&quot;number&quot;),null!=c&amp;&amp;c===c&amp;&amp;(&quot;number&quot;===f&amp;&amp;(c+=e&amp;&amp;e[3]||(n.cssNumber[h]?&quot;&quot;:&quot;px&quot;)),l.clearCloneStyle||&quot;&quot;!==c||0!==b.indexOf(&quot;background&quot;)||(i[b]=&quot;inherit&quot;),!(g&amp;&amp;&quot;set&quot;in g&amp;&amp;void 0===(c=g.set(a,c,d)))))try{i[b]=c}catch(j){}}},css:function(a,b,c,d){var e,f,g,h=n.camelCase(b);return b=n.cssProps[h]||(n.cssProps[h]=bb(h)||h),g=n.cssHooks[b]||n.cssHooks[h],g&amp;&amp;&quot;get&quot;in g&amp;&amp;(f=g.get(a,!0,c)),void 0===f&amp;&amp;(f=Sa(a,b,d)),&quot;normal&quot;===f&amp;&amp;b in $a&amp;&amp;(f=$a[b]),&quot;&quot;===c||c?(e=parseFloat(f),c===!0||isFinite(e)?e||0:f):f}}),n.each([&quot;height&quot;,&quot;width&quot;],function(a,b){n.cssHooks[b]={get:function(a,c,d){return c?Xa.test(n.css(a,&quot;display&quot;))&amp;&amp;0===a.offsetWidth?Pa(a,Za,function(){return fb(a,b,d)}):fb(a,b,d):void 0},set:function(a,c,d){var e=d&amp;&amp;Ra(a);return db(a,c,d?eb(a,b,d,l.boxSizing&amp;&amp;&quot;border-box&quot;===n.css(a,&quot;boxSizing&quot;,!1,e),e):0)}}}),l.opacity||(n.cssHooks.opacity={get:function(a,b){return Wa.test((b&amp;&amp;a.currentStyle?a.currentStyle.filter:a.style.filter)||&quot;&quot;)?.01*parseFloat(RegExp.$1)+&quot;&quot;:b?&quot;1&quot;:&quot;&quot;},set:function(a,b){var c=a.style,d=a.currentStyle,e=n.isNumeric(b)?&quot;alpha(opacity=&quot;+100*b+&quot;)&quot;:&quot;&quot;,f=d&amp;&amp;d.filter||c.filter||&quot;&quot;;c.zoom=1,(b&gt;=1||&quot;&quot;===b)&amp;&amp;&quot;&quot;===n.trim(f.replace(Va,&quot;&quot;))&amp;&amp;c.removeAttribute&amp;&amp;(c.removeAttribute(&quot;filter&quot;),&quot;&quot;===b||d&amp;&amp;!d.filter)||(c.filter=Va.test(f)?f.replace(Va,e):f+&quot; &quot;+e)}}),n.cssHooks.marginRight=Ua(l.reliableMarginRight,function(a,b){return b?Pa(a,{display:&quot;inline-block&quot;},Sa,[a,&quot;marginRight&quot;]):void 0}),n.cssHooks.marginLeft=Ua(l.reliableMarginLeft,function(a,b){return b?(parseFloat(Sa(a,&quot;marginLeft&quot;))||(n.contains(a.ownerDocument,a)?a.getBoundingClientRect().left-Pa(a,{\n",
       "marginLeft:0},function(){return a.getBoundingClientRect().left}):0))+&quot;px&quot;:void 0}),n.each({margin:&quot;&quot;,padding:&quot;&quot;,border:&quot;Width&quot;},function(a,b){n.cssHooks[a+b]={expand:function(c){for(var d=0,e={},f=&quot;string&quot;==typeof c?c.split(&quot; &quot;):[c];4&gt;d;d++)e[a+V[d]+b]=f[d]||f[d-2]||f[0];return e}},Na.test(a)||(n.cssHooks[a+b].set=db)}),n.fn.extend({css:function(a,b){return Y(this,function(a,b,c){var d,e,f={},g=0;if(n.isArray(b)){for(d=Ra(a),e=b.length;e&gt;g;g++)f[b[g]]=n.css(a,b[g],!1,d);return f}return void 0!==c?n.style(a,b,c):n.css(a,b)},a,b,arguments.length&gt;1)},show:function(){return cb(this,!0)},hide:function(){return cb(this)},toggle:function(a){return&quot;boolean&quot;==typeof a?a?this.show():this.hide():this.each(function(){W(this)?n(this).show():n(this).hide()})}});function gb(a,b,c,d,e){return new gb.prototype.init(a,b,c,d,e)}n.Tween=gb,gb.prototype={constructor:gb,init:function(a,b,c,d,e,f){this.elem=a,this.prop=c,this.easing=e||n.easing._default,this.options=b,this.start=this.now=this.cur(),this.end=d,this.unit=f||(n.cssNumber[c]?&quot;&quot;:&quot;px&quot;)},cur:function(){var a=gb.propHooks[this.prop];return a&amp;&amp;a.get?a.get(this):gb.propHooks._default.get(this)},run:function(a){var b,c=gb.propHooks[this.prop];return this.options.duration?this.pos=b=n.easing[this.easing](a,this.options.duration*a,0,1,this.options.duration):this.pos=b=a,this.now=(this.end-this.start)*b+this.start,this.options.step&amp;&amp;this.options.step.call(this.elem,this.now,this),c&amp;&amp;c.set?c.set(this):gb.propHooks._default.set(this),this}},gb.prototype.init.prototype=gb.prototype,gb.propHooks={_default:{get:function(a){var b;return 1!==a.elem.nodeType||null!=a.elem[a.prop]&amp;&amp;null==a.elem.style[a.prop]?a.elem[a.prop]:(b=n.css(a.elem,a.prop,&quot;&quot;),b&amp;&amp;&quot;auto&quot;!==b?b:0)},set:function(a){n.fx.step[a.prop]?n.fx.step[a.prop](a):1!==a.elem.nodeType||null==a.elem.style[n.cssProps[a.prop]]&amp;&amp;!n.cssHooks[a.prop]?a.elem[a.prop]=a.now:n.style(a.elem,a.prop,a.now+a.unit)}}},gb.propHooks.scrollTop=gb.propHooks.scrollLeft={set:function(a){a.elem.nodeType&amp;&amp;a.elem.parentNode&amp;&amp;(a.elem[a.prop]=a.now)}},n.easing={linear:function(a){return a},swing:function(a){return.5-Math.cos(a*Math.PI)/2},_default:&quot;swing&quot;},n.fx=gb.prototype.init,n.fx.step={};var hb,ib,jb=/^(?:toggle|show|hide)$/,kb=/queueHooks$/;function lb(){return a.setTimeout(function(){hb=void 0}),hb=n.now()}function mb(a,b){var c,d={height:a},e=0;for(b=b?1:0;4&gt;e;e+=2-b)c=V[e],d[&quot;margin&quot;+c]=d[&quot;padding&quot;+c]=a;return b&amp;&amp;(d.opacity=d.width=a),d}function nb(a,b,c){for(var d,e=(qb.tweeners[b]||[]).concat(qb.tweeners[&quot;*&quot;]),f=0,g=e.length;g&gt;f;f++)if(d=e[f].call(c,b,a))return d}function ob(a,b,c){var d,e,f,g,h,i,j,k,m=this,o={},p=a.style,q=a.nodeType&amp;&amp;W(a),r=n._data(a,&quot;fxshow&quot;);c.queue||(h=n._queueHooks(a,&quot;fx&quot;),null==h.unqueued&amp;&amp;(h.unqueued=0,i=h.empty.fire,h.empty.fire=function(){h.unqueued||i()}),h.unqueued++,m.always(function(){m.always(function(){h.unqueued--,n.queue(a,&quot;fx&quot;).length||h.empty.fire()})})),1===a.nodeType&amp;&amp;(&quot;height&quot;in b||&quot;width&quot;in b)&amp;&amp;(c.overflow=[p.overflow,p.overflowX,p.overflowY],j=n.css(a,&quot;display&quot;),k=&quot;none&quot;===j?n._data(a,&quot;olddisplay&quot;)||Ma(a.nodeName):j,&quot;inline&quot;===k&amp;&amp;&quot;none&quot;===n.css(a,&quot;float&quot;)&amp;&amp;(l.inlineBlockNeedsLayout&amp;&amp;&quot;inline&quot;!==Ma(a.nodeName)?p.zoom=1:p.display=&quot;inline-block&quot;)),c.overflow&amp;&amp;(p.overflow=&quot;hidden&quot;,l.shrinkWrapBlocks()||m.always(function(){p.overflow=c.overflow[0],p.overflowX=c.overflow[1],p.overflowY=c.overflow[2]}));for(d in b)if(e=b[d],jb.exec(e)){if(delete b[d],f=f||&quot;toggle&quot;===e,e===(q?&quot;hide&quot;:&quot;show&quot;)){if(&quot;show&quot;!==e||!r||void 0===r[d])continue;q=!0}o[d]=r&amp;&amp;r[d]||n.style(a,d)}else j=void 0;if(n.isEmptyObject(o))&quot;inline&quot;===(&quot;none&quot;===j?Ma(a.nodeName):j)&amp;&amp;(p.display=j);else{r?&quot;hidden&quot;in r&amp;&amp;(q=r.hidden):r=n._data(a,&quot;fxshow&quot;,{}),f&amp;&amp;(r.hidden=!q),q?n(a).show():m.done(function(){n(a).hide()}),m.done(function(){var b;n._removeData(a,&quot;fxshow&quot;);for(b in o)n.style(a,b,o[b])});for(d in o)g=nb(q?r[d]:0,d,m),d in r||(r[d]=g.start,q&amp;&amp;(g.end=g.start,g.start=&quot;width&quot;===d||&quot;height&quot;===d?1:0))}}function pb(a,b){var c,d,e,f,g;for(c in a)if(d=n.camelCase(c),e=b[d],f=a[c],n.isArray(f)&amp;&amp;(e=f[1],f=a[c]=f[0]),c!==d&amp;&amp;(a[d]=f,delete a[c]),g=n.cssHooks[d],g&amp;&amp;&quot;expand&quot;in g){f=g.expand(f),delete a[d];for(c in f)c in a||(a[c]=f[c],b[c]=e)}else b[d]=e}function qb(a,b,c){var d,e,f=0,g=qb.prefilters.length,h=n.Deferred().always(function(){delete i.elem}),i=function(){if(e)return!1;for(var b=hb||lb(),c=Math.max(0,j.startTime+j.duration-b),d=c/j.duration||0,f=1-d,g=0,i=j.tweens.length;i&gt;g;g++)j.tweens[g].run(f);return h.notifyWith(a,[j,f,c]),1&gt;f&amp;&amp;i?c:(h.resolveWith(a,[j]),!1)},j=h.promise({elem:a,props:n.extend({},b),opts:n.extend(!0,{specialEasing:{},easing:n.easing._default},c),originalProperties:b,originalOptions:c,startTime:hb||lb(),duration:c.duration,tweens:[],createTween:function(b,c){var d=n.Tween(a,j.opts,b,c,j.opts.specialEasing[b]||j.opts.easing);return j.tweens.push(d),d},stop:function(b){var c=0,d=b?j.tweens.length:0;if(e)return this;for(e=!0;d&gt;c;c++)j.tweens[c].run(1);return b?(h.notifyWith(a,[j,1,0]),h.resolveWith(a,[j,b])):h.rejectWith(a,[j,b]),this}}),k=j.props;for(pb(k,j.opts.specialEasing);g&gt;f;f++)if(d=qb.prefilters[f].call(j,a,k,j.opts))return n.isFunction(d.stop)&amp;&amp;(n._queueHooks(j.elem,j.opts.queue).stop=n.proxy(d.stop,d)),d;return n.map(k,nb,j),n.isFunction(j.opts.start)&amp;&amp;j.opts.start.call(a,j),n.fx.timer(n.extend(i,{elem:a,anim:j,queue:j.opts.queue})),j.progress(j.opts.progress).done(j.opts.done,j.opts.complete).fail(j.opts.fail).always(j.opts.always)}n.Animation=n.extend(qb,{tweeners:{&quot;*&quot;:[function(a,b){var c=this.createTween(a,b);return X(c.elem,a,U.exec(b),c),c}]},tweener:function(a,b){n.isFunction(a)?(b=a,a=[&quot;*&quot;]):a=a.match(G);for(var c,d=0,e=a.length;e&gt;d;d++)c=a[d],qb.tweeners[c]=qb.tweeners[c]||[],qb.tweeners[c].unshift(b)},prefilters:[ob],prefilter:function(a,b){b?qb.prefilters.unshift(a):qb.prefilters.push(a)}}),n.speed=function(a,b,c){var d=a&amp;&amp;&quot;object&quot;==typeof a?n.extend({},a):{complete:c||!c&amp;&amp;b||n.isFunction(a)&amp;&amp;a,duration:a,easing:c&amp;&amp;b||b&amp;&amp;!n.isFunction(b)&amp;&amp;b};return d.duration=n.fx.off?0:&quot;number&quot;==typeof d.duration?d.duration:d.duration in n.fx.speeds?n.fx.speeds[d.duration]:n.fx.speeds._default,null!=d.queue&amp;&amp;d.queue!==!0||(d.queue=&quot;fx&quot;),d.old=d.complete,d.complete=function(){n.isFunction(d.old)&amp;&amp;d.old.call(this),d.queue&amp;&amp;n.dequeue(this,d.queue)},d},n.fn.extend({fadeTo:function(a,b,c,d){return this.filter(W).css(&quot;opacity&quot;,0).show().end().animate({opacity:b},a,c,d)},animate:function(a,b,c,d){var e=n.isEmptyObject(a),f=n.speed(b,c,d),g=function(){var b=qb(this,n.extend({},a),f);(e||n._data(this,&quot;finish&quot;))&amp;&amp;b.stop(!0)};return g.finish=g,e||f.queue===!1?this.each(g):this.queue(f.queue,g)},stop:function(a,b,c){var d=function(a){var b=a.stop;delete a.stop,b(c)};return&quot;string&quot;!=typeof a&amp;&amp;(c=b,b=a,a=void 0),b&amp;&amp;a!==!1&amp;&amp;this.queue(a||&quot;fx&quot;,[]),this.each(function(){var b=!0,e=null!=a&amp;&amp;a+&quot;queueHooks&quot;,f=n.timers,g=n._data(this);if(e)g[e]&amp;&amp;g[e].stop&amp;&amp;d(g[e]);else for(e in g)g[e]&amp;&amp;g[e].stop&amp;&amp;kb.test(e)&amp;&amp;d(g[e]);for(e=f.length;e--;)f[e].elem!==this||null!=a&amp;&amp;f[e].queue!==a||(f[e].anim.stop(c),b=!1,f.splice(e,1));!b&amp;&amp;c||n.dequeue(this,a)})},finish:function(a){return a!==!1&amp;&amp;(a=a||&quot;fx&quot;),this.each(function(){var b,c=n._data(this),d=c[a+&quot;queue&quot;],e=c[a+&quot;queueHooks&quot;],f=n.timers,g=d?d.length:0;for(c.finish=!0,n.queue(this,a,[]),e&amp;&amp;e.stop&amp;&amp;e.stop.call(this,!0),b=f.length;b--;)f[b].elem===this&amp;&amp;f[b].queue===a&amp;&amp;(f[b].anim.stop(!0),f.splice(b,1));for(b=0;g&gt;b;b++)d[b]&amp;&amp;d[b].finish&amp;&amp;d[b].finish.call(this);delete c.finish})}}),n.each([&quot;toggle&quot;,&quot;show&quot;,&quot;hide&quot;],function(a,b){var c=n.fn[b];n.fn[b]=function(a,d,e){return null==a||&quot;boolean&quot;==typeof a?c.apply(this,arguments):this.animate(mb(b,!0),a,d,e)}}),n.each({slideDown:mb(&quot;show&quot;),slideUp:mb(&quot;hide&quot;),slideToggle:mb(&quot;toggle&quot;),fadeIn:{opacity:&quot;show&quot;},fadeOut:{opacity:&quot;hide&quot;},fadeToggle:{opacity:&quot;toggle&quot;}},function(a,b){n.fn[a]=function(a,c,d){return this.animate(b,a,c,d)}}),n.timers=[],n.fx.tick=function(){var a,b=n.timers,c=0;for(hb=n.now();c&lt;b.length;c++)a=b[c],a()||b[c]!==a||b.splice(c--,1);b.length||n.fx.stop(),hb=void 0},n.fx.timer=function(a){n.timers.push(a),a()?n.fx.start():n.timers.pop()},n.fx.interval=13,n.fx.start=function(){ib||(ib=a.setInterval(n.fx.tick,n.fx.interval))},n.fx.stop=function(){a.clearInterval(ib),ib=null},n.fx.speeds={slow:600,fast:200,_default:400},n.fn.delay=function(b,c){return b=n.fx?n.fx.speeds[b]||b:b,c=c||&quot;fx&quot;,this.queue(c,function(c,d){var e=a.setTimeout(c,b);d.stop=function(){a.clearTimeout(e)}})},function(){var a,b=d.createElement(&quot;input&quot;),c=d.createElement(&quot;div&quot;),e=d.createElement(&quot;select&quot;),f=e.appendChild(d.createElement(&quot;option&quot;));c=d.createElement(&quot;div&quot;),c.setAttribute(&quot;className&quot;,&quot;t&quot;),c.innerHTML=&quot;  &lt;link/&gt;&lt;table&gt;&lt;/table&gt;&lt;a href=&#x27;/a&#x27;&gt;a&lt;/a&gt;&lt;input type=&#x27;checkbox&#x27;/&gt;&quot;,a=c.getElementsByTagName(&quot;a&quot;)[0],b.setAttribute(&quot;type&quot;,&quot;checkbox&quot;),c.appendChild(b),a=c.getElementsByTagName(&quot;a&quot;)[0],a.style.cssText=&quot;top:1px&quot;,l.getSetAttribute=&quot;t&quot;!==c.className,l.style=/top/.test(a.getAttribute(&quot;style&quot;)),l.hrefNormalized=&quot;/a&quot;===a.getAttribute(&quot;href&quot;),l.checkOn=!!b.value,l.optSelected=f.selected,l.enctype=!!d.createElement(&quot;form&quot;).enctype,e.disabled=!0,l.optDisabled=!f.disabled,b=d.createElement(&quot;input&quot;),b.setAttribute(&quot;value&quot;,&quot;&quot;),l.input=&quot;&quot;===b.getAttribute(&quot;value&quot;),b.value=&quot;t&quot;,b.setAttribute(&quot;type&quot;,&quot;radio&quot;),l.radioValue=&quot;t&quot;===b.value}();var rb=/\\r/g,sb=/[\\x20\\t\\r\\n\\f]+/g;n.fn.extend({val:function(a){var b,c,d,e=this[0];{if(arguments.length)return d=n.isFunction(a),this.each(function(c){var e;1===this.nodeType&amp;&amp;(e=d?a.call(this,c,n(this).val()):a,null==e?e=&quot;&quot;:&quot;number&quot;==typeof e?e+=&quot;&quot;:n.isArray(e)&amp;&amp;(e=n.map(e,function(a){return null==a?&quot;&quot;:a+&quot;&quot;})),b=n.valHooks[this.type]||n.valHooks[this.nodeName.toLowerCase()],b&amp;&amp;&quot;set&quot;in b&amp;&amp;void 0!==b.set(this,e,&quot;value&quot;)||(this.value=e))});if(e)return b=n.valHooks[e.type]||n.valHooks[e.nodeName.toLowerCase()],b&amp;&amp;&quot;get&quot;in b&amp;&amp;void 0!==(c=b.get(e,&quot;value&quot;))?c:(c=e.value,&quot;string&quot;==typeof c?c.replace(rb,&quot;&quot;):null==c?&quot;&quot;:c)}}}),n.extend({valHooks:{option:{get:function(a){var b=n.find.attr(a,&quot;value&quot;);return null!=b?b:n.trim(n.text(a)).replace(sb,&quot; &quot;)}},select:{get:function(a){for(var b,c,d=a.options,e=a.selectedIndex,f=&quot;select-one&quot;===a.type||0&gt;e,g=f?null:[],h=f?e+1:d.length,i=0&gt;e?h:f?e:0;h&gt;i;i++)if(c=d[i],(c.selected||i===e)&amp;&amp;(l.optDisabled?!c.disabled:null===c.getAttribute(&quot;disabled&quot;))&amp;&amp;(!c.parentNode.disabled||!n.nodeName(c.parentNode,&quot;optgroup&quot;))){if(b=n(c).val(),f)return b;g.push(b)}return g},set:function(a,b){var c,d,e=a.options,f=n.makeArray(b),g=e.length;while(g--)if(d=e[g],n.inArray(n.valHooks.option.get(d),f)&gt;-1)try{d.selected=c=!0}catch(h){d.scrollHeight}else d.selected=!1;return c||(a.selectedIndex=-1),e}}}}),n.each([&quot;radio&quot;,&quot;checkbox&quot;],function(){n.valHooks[this]={set:function(a,b){return n.isArray(b)?a.checked=n.inArray(n(a).val(),b)&gt;-1:void 0}},l.checkOn||(n.valHooks[this].get=function(a){return null===a.getAttribute(&quot;value&quot;)?&quot;on&quot;:a.value})});var tb,ub,vb=n.expr.attrHandle,wb=/^(?:checked|selected)$/i,xb=l.getSetAttribute,yb=l.input;n.fn.extend({attr:function(a,b){return Y(this,n.attr,a,b,arguments.length&gt;1)},removeAttr:function(a){return this.each(function(){n.removeAttr(this,a)})}}),n.extend({attr:function(a,b,c){var d,e,f=a.nodeType;if(3!==f&amp;&amp;8!==f&amp;&amp;2!==f)return&quot;undefined&quot;==typeof a.getAttribute?n.prop(a,b,c):(1===f&amp;&amp;n.isXMLDoc(a)||(b=b.toLowerCase(),e=n.attrHooks[b]||(n.expr.match.bool.test(b)?ub:tb)),void 0!==c?null===c?void n.removeAttr(a,b):e&amp;&amp;&quot;set&quot;in e&amp;&amp;void 0!==(d=e.set(a,c,b))?d:(a.setAttribute(b,c+&quot;&quot;),c):e&amp;&amp;&quot;get&quot;in e&amp;&amp;null!==(d=e.get(a,b))?d:(d=n.find.attr(a,b),null==d?void 0:d))},attrHooks:{type:{set:function(a,b){if(!l.radioValue&amp;&amp;&quot;radio&quot;===b&amp;&amp;n.nodeName(a,&quot;input&quot;)){var c=a.value;return a.setAttribute(&quot;type&quot;,b),c&amp;&amp;(a.value=c),b}}}},removeAttr:function(a,b){var c,d,e=0,f=b&amp;&amp;b.match(G);if(f&amp;&amp;1===a.nodeType)while(c=f[e++])d=n.propFix[c]||c,n.expr.match.bool.test(c)?yb&amp;&amp;xb||!wb.test(c)?a[d]=!1:a[n.camelCase(&quot;default-&quot;+c)]=a[d]=!1:n.attr(a,c,&quot;&quot;),a.removeAttribute(xb?c:d)}}),ub={set:function(a,b,c){return b===!1?n.removeAttr(a,c):yb&amp;&amp;xb||!wb.test(c)?a.setAttribute(!xb&amp;&amp;n.propFix[c]||c,c):a[n.camelCase(&quot;default-&quot;+c)]=a[c]=!0,c}},n.each(n.expr.match.bool.source.match(/\\w+/g),function(a,b){var c=vb[b]||n.find.attr;yb&amp;&amp;xb||!wb.test(b)?vb[b]=function(a,b,d){var e,f;return d||(f=vb[b],vb[b]=e,e=null!=c(a,b,d)?b.toLowerCase():null,vb[b]=f),e}:vb[b]=function(a,b,c){return c?void 0:a[n.camelCase(&quot;default-&quot;+b)]?b.toLowerCase():null}}),yb&amp;&amp;xb||(n.attrHooks.value={set:function(a,b,c){return n.nodeName(a,&quot;input&quot;)?void(a.defaultValue=b):tb&amp;&amp;tb.set(a,b,c)}}),xb||(tb={set:function(a,b,c){var d=a.getAttributeNode(c);return d||a.setAttributeNode(d=a.ownerDocument.createAttribute(c)),d.value=b+=&quot;&quot;,&quot;value&quot;===c||b===a.getAttribute(c)?b:void 0}},vb.id=vb.name=vb.coords=function(a,b,c){var d;return c?void 0:(d=a.getAttributeNode(b))&amp;&amp;&quot;&quot;!==d.value?d.value:null},n.valHooks.button={get:function(a,b){var c=a.getAttributeNode(b);return c&amp;&amp;c.specified?c.value:void 0},set:tb.set},n.attrHooks.contenteditable={set:function(a,b,c){tb.set(a,&quot;&quot;===b?!1:b,c)}},n.each([&quot;width&quot;,&quot;height&quot;],function(a,b){n.attrHooks[b]={set:function(a,c){return&quot;&quot;===c?(a.setAttribute(b,&quot;auto&quot;),c):void 0}}})),l.style||(n.attrHooks.style={get:function(a){return a.style.cssText||void 0},set:function(a,b){return a.style.cssText=b+&quot;&quot;}});var zb=/^(?:input|select|textarea|button|object)$/i,Ab=/^(?:a|area)$/i;n.fn.extend({prop:function(a,b){return Y(this,n.prop,a,b,arguments.length&gt;1)},removeProp:function(a){return a=n.propFix[a]||a,this.each(function(){try{this[a]=void 0,delete this[a]}catch(b){}})}}),n.extend({prop:function(a,b,c){var d,e,f=a.nodeType;if(3!==f&amp;&amp;8!==f&amp;&amp;2!==f)return 1===f&amp;&amp;n.isXMLDoc(a)||(b=n.propFix[b]||b,e=n.propHooks[b]),void 0!==c?e&amp;&amp;&quot;set&quot;in e&amp;&amp;void 0!==(d=e.set(a,c,b))?d:a[b]=c:e&amp;&amp;&quot;get&quot;in e&amp;&amp;null!==(d=e.get(a,b))?d:a[b]},propHooks:{tabIndex:{get:function(a){var b=n.find.attr(a,&quot;tabindex&quot;);return b?parseInt(b,10):zb.test(a.nodeName)||Ab.test(a.nodeName)&amp;&amp;a.href?0:-1}}},propFix:{&quot;for&quot;:&quot;htmlFor&quot;,&quot;class&quot;:&quot;className&quot;}}),l.hrefNormalized||n.each([&quot;href&quot;,&quot;src&quot;],function(a,b){n.propHooks[b]={get:function(a){return a.getAttribute(b,4)}}}),l.optSelected||(n.propHooks.selected={get:function(a){var b=a.parentNode;return b&amp;&amp;(b.selectedIndex,b.parentNode&amp;&amp;b.parentNode.selectedIndex),null},set:function(a){var b=a.parentNode;b&amp;&amp;(b.selectedIndex,b.parentNode&amp;&amp;b.parentNode.selectedIndex)}}),n.each([&quot;tabIndex&quot;,&quot;readOnly&quot;,&quot;maxLength&quot;,&quot;cellSpacing&quot;,&quot;cellPadding&quot;,&quot;rowSpan&quot;,&quot;colSpan&quot;,&quot;useMap&quot;,&quot;frameBorder&quot;,&quot;contentEditable&quot;],function(){n.propFix[this.toLowerCase()]=this}),l.enctype||(n.propFix.enctype=&quot;encoding&quot;);var Bb=/[\\t\\r\\n\\f]/g;function Cb(a){return n.attr(a,&quot;class&quot;)||&quot;&quot;}n.fn.extend({addClass:function(a){var b,c,d,e,f,g,h,i=0;if(n.isFunction(a))return this.each(function(b){n(this).addClass(a.call(this,b,Cb(this)))});if(&quot;string&quot;==typeof a&amp;&amp;a){b=a.match(G)||[];while(c=this[i++])if(e=Cb(c),d=1===c.nodeType&amp;&amp;(&quot; &quot;+e+&quot; &quot;).replace(Bb,&quot; &quot;)){g=0;while(f=b[g++])d.indexOf(&quot; &quot;+f+&quot; &quot;)&lt;0&amp;&amp;(d+=f+&quot; &quot;);h=n.trim(d),e!==h&amp;&amp;n.attr(c,&quot;class&quot;,h)}}return this},removeClass:function(a){var b,c,d,e,f,g,h,i=0;if(n.isFunction(a))return this.each(function(b){n(this).removeClass(a.call(this,b,Cb(this)))});if(!arguments.length)return this.attr(&quot;class&quot;,&quot;&quot;);if(&quot;string&quot;==typeof a&amp;&amp;a){b=a.match(G)||[];while(c=this[i++])if(e=Cb(c),d=1===c.nodeType&amp;&amp;(&quot; &quot;+e+&quot; &quot;).replace(Bb,&quot; &quot;)){g=0;while(f=b[g++])while(d.indexOf(&quot; &quot;+f+&quot; &quot;)&gt;-1)d=d.replace(&quot; &quot;+f+&quot; &quot;,&quot; &quot;);h=n.trim(d),e!==h&amp;&amp;n.attr(c,&quot;class&quot;,h)}}return this},toggleClass:function(a,b){var c=typeof a;return&quot;boolean&quot;==typeof b&amp;&amp;&quot;string&quot;===c?b?this.addClass(a):this.removeClass(a):n.isFunction(a)?this.each(function(c){n(this).toggleClass(a.call(this,c,Cb(this),b),b)}):this.each(function(){var b,d,e,f;if(&quot;string&quot;===c){d=0,e=n(this),f=a.match(G)||[];while(b=f[d++])e.hasClass(b)?e.removeClass(b):e.addClass(b)}else void 0!==a&amp;&amp;&quot;boolean&quot;!==c||(b=Cb(this),b&amp;&amp;n._data(this,&quot;__className__&quot;,b),n.attr(this,&quot;class&quot;,b||a===!1?&quot;&quot;:n._data(this,&quot;__className__&quot;)||&quot;&quot;))})},hasClass:function(a){var b,c,d=0;b=&quot; &quot;+a+&quot; &quot;;while(c=this[d++])if(1===c.nodeType&amp;&amp;(&quot; &quot;+Cb(c)+&quot; &quot;).replace(Bb,&quot; &quot;).indexOf(b)&gt;-1)return!0;return!1}}),n.each(&quot;blur focus focusin focusout load resize scroll unload click dblclick mousedown mouseup mousemove mouseover mouseout mouseenter mouseleave change select submit keydown keypress keyup error contextmenu&quot;.split(&quot; &quot;),function(a,b){n.fn[b]=function(a,c){return arguments.length&gt;0?this.on(b,null,a,c):this.trigger(b)}}),n.fn.extend({hover:function(a,b){return this.mouseenter(a).mouseleave(b||a)}});var Db=a.location,Eb=n.now(),Fb=/\\?/,Gb=/(,)|(\\[|{)|(}|])|&quot;(?:[^&quot;\\\\\\r\\n]|\\\\[&quot;\\\\\\/bfnrt]|\\\\u[\\da-fA-F]{4})*&quot;\\s*:?|true|false|null|-?(?!0\\d)\\d+(?:\\.\\d+|)(?:[eE][+-]?\\d+|)/g;n.parseJSON=function(b){if(a.JSON&amp;&amp;a.JSON.parse)return a.JSON.parse(b+&quot;&quot;);var c,d=null,e=n.trim(b+&quot;&quot;);return e&amp;&amp;!n.trim(e.replace(Gb,function(a,b,e,f){return c&amp;&amp;b&amp;&amp;(d=0),0===d?a:(c=e||b,d+=!f-!e,&quot;&quot;)}))?Function(&quot;return &quot;+e)():n.error(&quot;Invalid JSON: &quot;+b)},n.parseXML=function(b){var c,d;if(!b||&quot;string&quot;!=typeof b)return null;try{a.DOMParser?(d=new a.DOMParser,c=d.parseFromString(b,&quot;text/xml&quot;)):(c=new a.ActiveXObject(&quot;Microsoft.XMLDOM&quot;),c.async=&quot;false&quot;,c.loadXML(b))}catch(e){c=void 0}return c&amp;&amp;c.documentElement&amp;&amp;!c.getElementsByTagName(&quot;parsererror&quot;).length||n.error(&quot;Invalid XML: &quot;+b),c};var Hb=/#.*$/,Ib=/([?&amp;])_=[^&amp;]*/,Jb=/^(.*?):[ \\t]*([^\\r\\n]*)\\r?$/gm,Kb=/^(?:about|app|app-storage|.+-extension|file|res|widget):$/,Lb=/^(?:GET|HEAD)$/,Mb=/^\\/\\//,Nb=/^([\\w.+-]+:)(?:\\/\\/(?:[^\\/?#]*@|)([^\\/?#:]*)(?::(\\d+)|)|)/,Ob={},Pb={},Qb=&quot;*/&quot;.concat(&quot;*&quot;),Rb=Db.href,Sb=Nb.exec(Rb.toLowerCase())||[];function Tb(a){return function(b,c){&quot;string&quot;!=typeof b&amp;&amp;(c=b,b=&quot;*&quot;);var d,e=0,f=b.toLowerCase().match(G)||[];if(n.isFunction(c))while(d=f[e++])&quot;+&quot;===d.charAt(0)?(d=d.slice(1)||&quot;*&quot;,(a[d]=a[d]||[]).unshift(c)):(a[d]=a[d]||[]).push(c)}}function Ub(a,b,c,d){var e={},f=a===Pb;function g(h){var i;return e[h]=!0,n.each(a[h]||[],function(a,h){var j=h(b,c,d);return&quot;string&quot;!=typeof j||f||e[j]?f?!(i=j):void 0:(b.dataTypes.unshift(j),g(j),!1)}),i}return g(b.dataTypes[0])||!e[&quot;*&quot;]&amp;&amp;g(&quot;*&quot;)}function Vb(a,b){var c,d,e=n.ajaxSettings.flatOptions||{};for(d in b)void 0!==b[d]&amp;&amp;((e[d]?a:c||(c={}))[d]=b[d]);return c&amp;&amp;n.extend(!0,a,c),a}function Wb(a,b,c){var d,e,f,g,h=a.contents,i=a.dataTypes;while(&quot;*&quot;===i[0])i.shift(),void 0===e&amp;&amp;(e=a.mimeType||b.getResponseHeader(&quot;Content-Type&quot;));if(e)for(g in h)if(h[g]&amp;&amp;h[g].test(e)){i.unshift(g);break}if(i[0]in c)f=i[0];else{for(g in c){if(!i[0]||a.converters[g+&quot; &quot;+i[0]]){f=g;break}d||(d=g)}f=f||d}return f?(f!==i[0]&amp;&amp;i.unshift(f),c[f]):void 0}function Xb(a,b,c,d){var e,f,g,h,i,j={},k=a.dataTypes.slice();if(k[1])for(g in a.converters)j[g.toLowerCase()]=a.converters[g];f=k.shift();while(f)if(a.responseFields[f]&amp;&amp;(c[a.responseFields[f]]=b),!i&amp;&amp;d&amp;&amp;a.dataFilter&amp;&amp;(b=a.dataFilter(b,a.dataType)),i=f,f=k.shift())if(&quot;*&quot;===f)f=i;else if(&quot;*&quot;!==i&amp;&amp;i!==f){if(g=j[i+&quot; &quot;+f]||j[&quot;* &quot;+f],!g)for(e in j)if(h=e.split(&quot; &quot;),h[1]===f&amp;&amp;(g=j[i+&quot; &quot;+h[0]]||j[&quot;* &quot;+h[0]])){g===!0?g=j[e]:j[e]!==!0&amp;&amp;(f=h[0],k.unshift(h[1]));break}if(g!==!0)if(g&amp;&amp;a[&quot;throws&quot;])b=g(b);else try{b=g(b)}catch(l){return{state:&quot;parsererror&quot;,error:g?l:&quot;No conversion from &quot;+i+&quot; to &quot;+f}}}return{state:&quot;success&quot;,data:b}}n.extend({active:0,lastModified:{},etag:{},ajaxSettings:{url:Rb,type:&quot;GET&quot;,isLocal:Kb.test(Sb[1]),global:!0,processData:!0,async:!0,contentType:&quot;application/x-www-form-urlencoded; charset=UTF-8&quot;,accepts:{&quot;*&quot;:Qb,text:&quot;text/plain&quot;,html:&quot;text/html&quot;,xml:&quot;application/xml, text/xml&quot;,json:&quot;application/json, text/javascript&quot;},contents:{xml:/\\bxml\\b/,html:/\\bhtml/,json:/\\bjson\\b/},responseFields:{xml:&quot;responseXML&quot;,text:&quot;responseText&quot;,json:&quot;responseJSON&quot;},converters:{&quot;* text&quot;:String,&quot;text html&quot;:!0,&quot;text json&quot;:n.parseJSON,&quot;text xml&quot;:n.parseXML},flatOptions:{url:!0,context:!0}},ajaxSetup:function(a,b){return b?Vb(Vb(a,n.ajaxSettings),b):Vb(n.ajaxSettings,a)},ajaxPrefilter:Tb(Ob),ajaxTransport:Tb(Pb),ajax:function(b,c){&quot;object&quot;==typeof b&amp;&amp;(c=b,b=void 0),c=c||{};var d,e,f,g,h,i,j,k,l=n.ajaxSetup({},c),m=l.context||l,o=l.context&amp;&amp;(m.nodeType||m.jquery)?n(m):n.event,p=n.Deferred(),q=n.Callbacks(&quot;once memory&quot;),r=l.statusCode||{},s={},t={},u=0,v=&quot;canceled&quot;,w={readyState:0,getResponseHeader:function(a){var b;if(2===u){if(!k){k={};while(b=Jb.exec(g))k[b[1].toLowerCase()]=b[2]}b=k[a.toLowerCase()]}return null==b?null:b},getAllResponseHeaders:function(){return 2===u?g:null},setRequestHeader:function(a,b){var c=a.toLowerCase();return u||(a=t[c]=t[c]||a,s[a]=b),this},overrideMimeType:function(a){return u||(l.mimeType=a),this},statusCode:function(a){var b;if(a)if(2&gt;u)for(b in a)r[b]=[r[b],a[b]];else w.always(a[w.status]);return this},abort:function(a){var b=a||v;return j&amp;&amp;j.abort(b),y(0,b),this}};if(p.promise(w).complete=q.add,w.success=w.done,w.error=w.fail,l.url=((b||l.url||Rb)+&quot;&quot;).replace(Hb,&quot;&quot;).replace(Mb,Sb[1]+&quot;//&quot;),l.type=c.method||c.type||l.method||l.type,l.dataTypes=n.trim(l.dataType||&quot;*&quot;).toLowerCase().match(G)||[&quot;&quot;],null==l.crossDomain&amp;&amp;(d=Nb.exec(l.url.toLowerCase()),l.crossDomain=!(!d||d[1]===Sb[1]&amp;&amp;d[2]===Sb[2]&amp;&amp;(d[3]||(&quot;http:&quot;===d[1]?&quot;80&quot;:&quot;443&quot;))===(Sb[3]||(&quot;http:&quot;===Sb[1]?&quot;80&quot;:&quot;443&quot;)))),l.data&amp;&amp;l.processData&amp;&amp;&quot;string&quot;!=typeof l.data&amp;&amp;(l.data=n.param(l.data,l.traditional)),Ub(Ob,l,c,w),2===u)return w;i=n.event&amp;&amp;l.global,i&amp;&amp;0===n.active++&amp;&amp;n.event.trigger(&quot;ajaxStart&quot;),l.type=l.type.toUpperCase(),l.hasContent=!Lb.test(l.type),f=l.url,l.hasContent||(l.data&amp;&amp;(f=l.url+=(Fb.test(f)?&quot;&amp;&quot;:&quot;?&quot;)+l.data,delete l.data),l.cache===!1&amp;&amp;(l.url=Ib.test(f)?f.replace(Ib,&quot;$1_=&quot;+Eb++):f+(Fb.test(f)?&quot;&amp;&quot;:&quot;?&quot;)+&quot;_=&quot;+Eb++)),l.ifModified&amp;&amp;(n.lastModified[f]&amp;&amp;w.setRequestHeader(&quot;If-Modified-Since&quot;,n.lastModified[f]),n.etag[f]&amp;&amp;w.setRequestHeader(&quot;If-None-Match&quot;,n.etag[f])),(l.data&amp;&amp;l.hasContent&amp;&amp;l.contentType!==!1||c.contentType)&amp;&amp;w.setRequestHeader(&quot;Content-Type&quot;,l.contentType),w.setRequestHeader(&quot;Accept&quot;,l.dataTypes[0]&amp;&amp;l.accepts[l.dataTypes[0]]?l.accepts[l.dataTypes[0]]+(&quot;*&quot;!==l.dataTypes[0]?&quot;, &quot;+Qb+&quot;; q=0.01&quot;:&quot;&quot;):l.accepts[&quot;*&quot;]);for(e in l.headers)w.setRequestHeader(e,l.headers[e]);if(l.beforeSend&amp;&amp;(l.beforeSend.call(m,w,l)===!1||2===u))return w.abort();v=&quot;abort&quot;;for(e in{success:1,error:1,complete:1})w[e](l[e]);if(j=Ub(Pb,l,c,w)){if(w.readyState=1,i&amp;&amp;o.trigger(&quot;ajaxSend&quot;,[w,l]),2===u)return w;l.async&amp;&amp;l.timeout&gt;0&amp;&amp;(h=a.setTimeout(function(){w.abort(&quot;timeout&quot;)},l.timeout));try{u=1,j.send(s,y)}catch(x){if(!(2&gt;u))throw x;y(-1,x)}}else y(-1,&quot;No Transport&quot;);function y(b,c,d,e){var k,s,t,v,x,y=c;2!==u&amp;&amp;(u=2,h&amp;&amp;a.clearTimeout(h),j=void 0,g=e||&quot;&quot;,w.readyState=b&gt;0?4:0,k=b&gt;=200&amp;&amp;300&gt;b||304===b,d&amp;&amp;(v=Wb(l,w,d)),v=Xb(l,v,w,k),k?(l.ifModified&amp;&amp;(x=w.getResponseHeader(&quot;Last-Modified&quot;),x&amp;&amp;(n.lastModified[f]=x),x=w.getResponseHeader(&quot;etag&quot;),x&amp;&amp;(n.etag[f]=x)),204===b||&quot;HEAD&quot;===l.type?y=&quot;nocontent&quot;:304===b?y=&quot;notmodified&quot;:(y=v.state,s=v.data,t=v.error,k=!t)):(t=y,!b&amp;&amp;y||(y=&quot;error&quot;,0&gt;b&amp;&amp;(b=0))),w.status=b,w.statusText=(c||y)+&quot;&quot;,k?p.resolveWith(m,[s,y,w]):p.rejectWith(m,[w,y,t]),w.statusCode(r),r=void 0,i&amp;&amp;o.trigger(k?&quot;ajaxSuccess&quot;:&quot;ajaxError&quot;,[w,l,k?s:t]),q.fireWith(m,[w,y]),i&amp;&amp;(o.trigger(&quot;ajaxComplete&quot;,[w,l]),--n.active||n.event.trigger(&quot;ajaxStop&quot;)))}return w},getJSON:function(a,b,c){return n.get(a,b,c,&quot;json&quot;)},getScript:function(a,b){return n.get(a,void 0,b,&quot;script&quot;)}}),n.each([&quot;get&quot;,&quot;post&quot;],function(a,b){n[b]=function(a,c,d,e){return n.isFunction(c)&amp;&amp;(e=e||d,d=c,c=void 0),n.ajax(n.extend({url:a,type:b,dataType:e,data:c,success:d},n.isPlainObject(a)&amp;&amp;a))}}),n._evalUrl=function(a){return n.ajax({url:a,type:&quot;GET&quot;,dataType:&quot;script&quot;,cache:!0,async:!1,global:!1,&quot;throws&quot;:!0})},n.fn.extend({wrapAll:function(a){if(n.isFunction(a))return this.each(function(b){n(this).wrapAll(a.call(this,b))});if(this[0]){var b=n(a,this[0].ownerDocument).eq(0).clone(!0);this[0].parentNode&amp;&amp;b.insertBefore(this[0]),b.map(function(){var a=this;while(a.firstChild&amp;&amp;1===a.firstChild.nodeType)a=a.firstChild;return a}).append(this)}return this},wrapInner:function(a){return n.isFunction(a)?this.each(function(b){n(this).wrapInner(a.call(this,b))}):this.each(function(){var b=n(this),c=b.contents();c.length?c.wrapAll(a):b.append(a)})},wrap:function(a){var b=n.isFunction(a);return this.each(function(c){n(this).wrapAll(b?a.call(this,c):a)})},unwrap:function(){return this.parent().each(function(){n.nodeName(this,&quot;body&quot;)||n(this).replaceWith(this.childNodes)}).end()}});function Yb(a){return a.style&amp;&amp;a.style.display||n.css(a,&quot;display&quot;)}function Zb(a){if(!n.contains(a.ownerDocument||d,a))return!0;while(a&amp;&amp;1===a.nodeType){if(&quot;none&quot;===Yb(a)||&quot;hidden&quot;===a.type)return!0;a=a.parentNode}return!1}n.expr.filters.hidden=function(a){return l.reliableHiddenOffsets()?a.offsetWidth&lt;=0&amp;&amp;a.offsetHeight&lt;=0&amp;&amp;!a.getClientRects().length:Zb(a)},n.expr.filters.visible=function(a){return!n.expr.filters.hidden(a)};var $b=/%20/g,_b=/\\[\\]$/,ac=/\\r?\\n/g,bc=/^(?:submit|button|image|reset|file)$/i,cc=/^(?:input|select|textarea|keygen)/i;function dc(a,b,c,d){var e;if(n.isArray(b))n.each(b,function(b,e){c||_b.test(a)?d(a,e):dc(a+&quot;[&quot;+(&quot;object&quot;==typeof e&amp;&amp;null!=e?b:&quot;&quot;)+&quot;]&quot;,e,c,d)});else if(c||&quot;object&quot;!==n.type(b))d(a,b);else for(e in b)dc(a+&quot;[&quot;+e+&quot;]&quot;,b[e],c,d)}n.param=function(a,b){var c,d=[],e=function(a,b){b=n.isFunction(b)?b():null==b?&quot;&quot;:b,d[d.length]=encodeURIComponent(a)+&quot;=&quot;+encodeURIComponent(b)};if(void 0===b&amp;&amp;(b=n.ajaxSettings&amp;&amp;n.ajaxSettings.traditional),n.isArray(a)||a.jquery&amp;&amp;!n.isPlainObject(a))n.each(a,function(){e(this.name,this.value)});else for(c in a)dc(c,a[c],b,e);return d.join(&quot;&amp;&quot;).replace($b,&quot;+&quot;)},n.fn.extend({serialize:function(){return n.param(this.serializeArray())},serializeArray:function(){return this.map(function(){var a=n.prop(this,&quot;elements&quot;);return a?n.makeArray(a):this}).filter(function(){var a=this.type;return this.name&amp;&amp;!n(this).is(&quot;:disabled&quot;)&amp;&amp;cc.test(this.nodeName)&amp;&amp;!bc.test(a)&amp;&amp;(this.checked||!Z.test(a))}).map(function(a,b){var c=n(this).val();return null==c?null:n.isArray(c)?n.map(c,function(a){return{name:b.name,value:a.replace(ac,&quot;\\r\\n&quot;)}}):{name:b.name,value:c.replace(ac,&quot;\\r\\n&quot;)}}).get()}}),n.ajaxSettings.xhr=void 0!==a.ActiveXObject?function(){return this.isLocal?ic():d.documentMode&gt;8?hc():/^(get|post|head|put|delete|options)$/i.test(this.type)&amp;&amp;hc()||ic()}:hc;var ec=0,fc={},gc=n.ajaxSettings.xhr();a.attachEvent&amp;&amp;a.attachEvent(&quot;onunload&quot;,function(){for(var a in fc)fc[a](void 0,!0)}),l.cors=!!gc&amp;&amp;&quot;withCredentials&quot;in gc,gc=l.ajax=!!gc,gc&amp;&amp;n.ajaxTransport(function(b){if(!b.crossDomain||l.cors){var c;return{send:function(d,e){var f,g=b.xhr(),h=++ec;if(g.open(b.type,b.url,b.async,b.username,b.password),b.xhrFields)for(f in b.xhrFields)g[f]=b.xhrFields[f];b.mimeType&amp;&amp;g.overrideMimeType&amp;&amp;g.overrideMimeType(b.mimeType),b.crossDomain||d[&quot;X-Requested-With&quot;]||(d[&quot;X-Requested-With&quot;]=&quot;XMLHttpRequest&quot;);for(f in d)void 0!==d[f]&amp;&amp;g.setRequestHeader(f,d[f]+&quot;&quot;);g.send(b.hasContent&amp;&amp;b.data||null),c=function(a,d){var f,i,j;if(c&amp;&amp;(d||4===g.readyState))if(delete fc[h],c=void 0,g.onreadystatechange=n.noop,d)4!==g.readyState&amp;&amp;g.abort();else{j={},f=g.status,&quot;string&quot;==typeof g.responseText&amp;&amp;(j.text=g.responseText);try{i=g.statusText}catch(k){i=&quot;&quot;}f||!b.isLocal||b.crossDomain?1223===f&amp;&amp;(f=204):f=j.text?200:404}j&amp;&amp;e(f,i,j,g.getAllResponseHeaders())},b.async?4===g.readyState?a.setTimeout(c):g.onreadystatechange=fc[h]=c:c()},abort:function(){c&amp;&amp;c(void 0,!0)}}}});function hc(){try{return new a.XMLHttpRequest}catch(b){}}function ic(){try{return new a.ActiveXObject(&quot;Microsoft.XMLHTTP&quot;)}catch(b){}}n.ajaxSetup({accepts:{script:&quot;text/javascript, application/javascript, application/ecmascript, application/x-ecmascript&quot;},contents:{script:/\\b(?:java|ecma)script\\b/},converters:{&quot;text script&quot;:function(a){return n.globalEval(a),a}}}),n.ajaxPrefilter(&quot;script&quot;,function(a){void 0===a.cache&amp;&amp;(a.cache=!1),a.crossDomain&amp;&amp;(a.type=&quot;GET&quot;,a.global=!1)}),n.ajaxTransport(&quot;script&quot;,function(a){if(a.crossDomain){var b,c=d.head||n(&quot;head&quot;)[0]||d.documentElement;return{send:function(e,f){b=d.createElement(&quot;script&quot;),b.async=!0,a.scriptCharset&amp;&amp;(b.charset=a.scriptCharset),b.src=a.url,b.onload=b.onreadystatechange=function(a,c){(c||!b.readyState||/loaded|complete/.test(b.readyState))&amp;&amp;(b.onload=b.onreadystatechange=null,b.parentNode&amp;&amp;b.parentNode.removeChild(b),b=null,c||f(200,&quot;success&quot;))},c.insertBefore(b,c.firstChild)},abort:function(){b&amp;&amp;b.onload(void 0,!0)}}}});var jc=[],kc=/(=)\\?(?=&amp;|$)|\\?\\?/;n.ajaxSetup({jsonp:&quot;callback&quot;,jsonpCallback:function(){var a=jc.pop()||n.expando+&quot;_&quot;+Eb++;return this[a]=!0,a}}),n.ajaxPrefilter(&quot;json jsonp&quot;,function(b,c,d){var e,f,g,h=b.jsonp!==!1&amp;&amp;(kc.test(b.url)?&quot;url&quot;:&quot;string&quot;==typeof b.data&amp;&amp;0===(b.contentType||&quot;&quot;).indexOf(&quot;application/x-www-form-urlencoded&quot;)&amp;&amp;kc.test(b.data)&amp;&amp;&quot;data&quot;);return h||&quot;jsonp&quot;===b.dataTypes[0]?(e=b.jsonpCallback=n.isFunction(b.jsonpCallback)?b.jsonpCallback():b.jsonpCallback,h?b[h]=b[h].replace(kc,&quot;$1&quot;+e):b.jsonp!==!1&amp;&amp;(b.url+=(Fb.test(b.url)?&quot;&amp;&quot;:&quot;?&quot;)+b.jsonp+&quot;=&quot;+e),b.converters[&quot;script json&quot;]=function(){return g||n.error(e+&quot; was not called&quot;),g[0]},b.dataTypes[0]=&quot;json&quot;,f=a[e],a[e]=function(){g=arguments},d.always(function(){void 0===f?n(a).removeProp(e):a[e]=f,b[e]&amp;&amp;(b.jsonpCallback=c.jsonpCallback,jc.push(e)),g&amp;&amp;n.isFunction(f)&amp;&amp;f(g[0]),g=f=void 0}),&quot;script&quot;):void 0}),n.parseHTML=function(a,b,c){if(!a||&quot;string&quot;!=typeof a)return null;&quot;boolean&quot;==typeof b&amp;&amp;(c=b,b=!1),b=b||d;var e=x.exec(a),f=!c&amp;&amp;[];return e?[b.createElement(e[1])]:(e=ja([a],b,f),f&amp;&amp;f.length&amp;&amp;n(f).remove(),n.merge([],e.childNodes))};var lc=n.fn.load;n.fn.load=function(a,b,c){if(&quot;string&quot;!=typeof a&amp;&amp;lc)return lc.apply(this,arguments);var d,e,f,g=this,h=a.indexOf(&quot; &quot;);return h&gt;-1&amp;&amp;(d=n.trim(a.slice(h,a.length)),a=a.slice(0,h)),n.isFunction(b)?(c=b,b=void 0):b&amp;&amp;&quot;object&quot;==typeof b&amp;&amp;(e=&quot;POST&quot;),g.length&gt;0&amp;&amp;n.ajax({url:a,type:e||&quot;GET&quot;,dataType:&quot;html&quot;,data:b}).done(function(a){f=arguments,g.html(d?n(&quot;&lt;div&gt;&quot;).append(n.parseHTML(a)).find(d):a)}).always(c&amp;&amp;function(a,b){g.each(function(){c.apply(this,f||[a.responseText,b,a])})}),this},n.each([&quot;ajaxStart&quot;,&quot;ajaxStop&quot;,&quot;ajaxComplete&quot;,&quot;ajaxError&quot;,&quot;ajaxSuccess&quot;,&quot;ajaxSend&quot;],function(a,b){n.fn[b]=function(a){return this.on(b,a)}}),n.expr.filters.animated=function(a){return n.grep(n.timers,function(b){return a===b.elem}).length};function mc(a){return n.isWindow(a)?a:9===a.nodeType?a.defaultView||a.parentWindow:!1}n.offset={setOffset:function(a,b,c){var d,e,f,g,h,i,j,k=n.css(a,&quot;position&quot;),l=n(a),m={};&quot;static&quot;===k&amp;&amp;(a.style.position=&quot;relative&quot;),h=l.offset(),f=n.css(a,&quot;top&quot;),i=n.css(a,&quot;left&quot;),j=(&quot;absolute&quot;===k||&quot;fixed&quot;===k)&amp;&amp;n.inArray(&quot;auto&quot;,[f,i])&gt;-1,j?(d=l.position(),g=d.top,e=d.left):(g=parseFloat(f)||0,e=parseFloat(i)||0),n.isFunction(b)&amp;&amp;(b=b.call(a,c,n.extend({},h))),null!=b.top&amp;&amp;(m.top=b.top-h.top+g),null!=b.left&amp;&amp;(m.left=b.left-h.left+e),&quot;using&quot;in b?b.using.call(a,m):l.css(m)}},n.fn.extend({offset:function(a){if(arguments.length)return void 0===a?this:this.each(function(b){n.offset.setOffset(this,a,b)});var b,c,d={top:0,left:0},e=this[0],f=e&amp;&amp;e.ownerDocument;if(f)return b=f.documentElement,n.contains(b,e)?(&quot;undefined&quot;!=typeof e.getBoundingClientRect&amp;&amp;(d=e.getBoundingClientRect()),c=mc(f),{top:d.top+(c.pageYOffset||b.scrollTop)-(b.clientTop||0),left:d.left+(c.pageXOffset||b.scrollLeft)-(b.clientLeft||0)}):d},position:function(){if(this[0]){var a,b,c={top:0,left:0},d=this[0];return&quot;fixed&quot;===n.css(d,&quot;position&quot;)?b=d.getBoundingClientRect():(a=this.offsetParent(),b=this.offset(),n.nodeName(a[0],&quot;html&quot;)||(c=a.offset()),c.top+=n.css(a[0],&quot;borderTopWidth&quot;,!0),c.left+=n.css(a[0],&quot;borderLeftWidth&quot;,!0)),{top:b.top-c.top-n.css(d,&quot;marginTop&quot;,!0),left:b.left-c.left-n.css(d,&quot;marginLeft&quot;,!0)}}},offsetParent:function(){return this.map(function(){var a=this.offsetParent;while(a&amp;&amp;!n.nodeName(a,&quot;html&quot;)&amp;&amp;&quot;static&quot;===n.css(a,&quot;position&quot;))a=a.offsetParent;return a||Qa})}}),n.each({scrollLeft:&quot;pageXOffset&quot;,scrollTop:&quot;pageYOffset&quot;},function(a,b){var c=/Y/.test(b);n.fn[a]=function(d){return Y(this,function(a,d,e){var f=mc(a);return void 0===e?f?b in f?f[b]:f.document.documentElement[d]:a[d]:void(f?f.scrollTo(c?n(f).scrollLeft():e,c?e:n(f).scrollTop()):a[d]=e)},a,d,arguments.length,null)}}),n.each([&quot;top&quot;,&quot;left&quot;],function(a,b){n.cssHooks[b]=Ua(l.pixelPosition,function(a,c){return c?(c=Sa(a,b),Oa.test(c)?n(a).position()[b]+&quot;px&quot;:c):void 0})}),n.each({Height:&quot;height&quot;,Width:&quot;width&quot;},function(a,b){n.each({\n",
       "padding:&quot;inner&quot;+a,content:b,&quot;&quot;:&quot;outer&quot;+a},function(c,d){n.fn[d]=function(d,e){var f=arguments.length&amp;&amp;(c||&quot;boolean&quot;!=typeof d),g=c||(d===!0||e===!0?&quot;margin&quot;:&quot;border&quot;);return Y(this,function(b,c,d){var e;return n.isWindow(b)?b.document.documentElement[&quot;client&quot;+a]:9===b.nodeType?(e=b.documentElement,Math.max(b.body[&quot;scroll&quot;+a],e[&quot;scroll&quot;+a],b.body[&quot;offset&quot;+a],e[&quot;offset&quot;+a],e[&quot;client&quot;+a])):void 0===d?n.css(b,c,g):n.style(b,c,d,g)},b,f?d:void 0,f,null)}})}),n.fn.extend({bind:function(a,b,c){return this.on(a,null,b,c)},unbind:function(a,b){return this.off(a,null,b)},delegate:function(a,b,c,d){return this.on(b,a,c,d)},undelegate:function(a,b,c){return 1===arguments.length?this.off(a,&quot;**&quot;):this.off(b,a||&quot;**&quot;,c)}}),n.fn.size=function(){return this.length},n.fn.andSelf=n.fn.addBack,&quot;function&quot;==typeof define&amp;&amp;define.amd&amp;&amp;define(&quot;jquery&quot;,[],function(){return n});var nc=a.jQuery,oc=a.$;return n.noConflict=function(b){return a.$===n&amp;&amp;(a.$=oc),b&amp;&amp;a.jQuery===n&amp;&amp;(a.jQuery=nc),n},b||(a.jQuery=a.$=n),n});/*!\n",
       " * Bootstrap v3.3.7 (http://getbootstrap.com)\n",
       " * Copyright 2011-2016 Twitter, Inc.\n",
       " * Licensed under the MIT license\n",
       " */\n",
       "if(&quot;undefined&quot;==typeof jQuery)throw new Error(&quot;Bootstrap&#x27;s JavaScript requires jQuery&quot;);+function(a){&quot;use strict&quot;;var b=a.fn.jquery.split(&quot; &quot;)[0].split(&quot;.&quot;);if(b[0]&lt;2&amp;&amp;b[1]&lt;9||1==b[0]&amp;&amp;9==b[1]&amp;&amp;b[2]&lt;1||b[0]&gt;3)throw new Error(&quot;Bootstrap&#x27;s JavaScript requires jQuery version 1.9.1 or higher, but lower than version 4&quot;)}(jQuery),+function(a){&quot;use strict&quot;;function b(){var a=document.createElement(&quot;bootstrap&quot;),b={WebkitTransition:&quot;webkitTransitionEnd&quot;,MozTransition:&quot;transitionend&quot;,OTransition:&quot;oTransitionEnd otransitionend&quot;,transition:&quot;transitionend&quot;};for(var c in b)if(void 0!==a.style[c])return{end:b[c]};return!1}a.fn.emulateTransitionEnd=function(b){var c=!1,d=this;a(this).one(&quot;bsTransitionEnd&quot;,function(){c=!0});var e=function(){c||a(d).trigger(a.support.transition.end)};return setTimeout(e,b),this},a(function(){a.support.transition=b(),a.support.transition&amp;&amp;(a.event.special.bsTransitionEnd={bindType:a.support.transition.end,delegateType:a.support.transition.end,handle:function(b){if(a(b.target).is(this))return b.handleObj.handler.apply(this,arguments)}})})}(jQuery),+function(a){&quot;use strict&quot;;function b(b){return this.each(function(){var c=a(this),e=c.data(&quot;bs.alert&quot;);e||c.data(&quot;bs.alert&quot;,e=new d(this)),&quot;string&quot;==typeof b&amp;&amp;e[b].call(c)})}var c=&#x27;[data-dismiss=&quot;alert&quot;]&#x27;,d=function(b){a(b).on(&quot;click&quot;,c,this.close)};d.VERSION=&quot;3.3.7&quot;,d.TRANSITION_DURATION=150,d.prototype.close=function(b){function c(){g.detach().trigger(&quot;closed.bs.alert&quot;).remove()}var e=a(this),f=e.attr(&quot;data-target&quot;);f||(f=e.attr(&quot;href&quot;),f=f&amp;&amp;f.replace(/.*(?=#[^\\s]*$)/,&quot;&quot;));var g=a(&quot;#&quot;===f?[]:f);b&amp;&amp;b.preventDefault(),g.length||(g=e.closest(&quot;.alert&quot;)),g.trigger(b=a.Event(&quot;close.bs.alert&quot;)),b.isDefaultPrevented()||(g.removeClass(&quot;in&quot;),a.support.transition&amp;&amp;g.hasClass(&quot;fade&quot;)?g.one(&quot;bsTransitionEnd&quot;,c).emulateTransitionEnd(d.TRANSITION_DURATION):c())};var e=a.fn.alert;a.fn.alert=b,a.fn.alert.Constructor=d,a.fn.alert.noConflict=function(){return a.fn.alert=e,this},a(document).on(&quot;click.bs.alert.data-api&quot;,c,d.prototype.close)}(jQuery),+function(a){&quot;use strict&quot;;function b(b){return this.each(function(){var d=a(this),e=d.data(&quot;bs.button&quot;),f=&quot;object&quot;==typeof b&amp;&amp;b;e||d.data(&quot;bs.button&quot;,e=new c(this,f)),&quot;toggle&quot;==b?e.toggle():b&amp;&amp;e.setState(b)})}var c=function(b,d){this.$element=a(b),this.options=a.extend({},c.DEFAULTS,d),this.isLoading=!1};c.VERSION=&quot;3.3.7&quot;,c.DEFAULTS={loadingText:&quot;loading...&quot;},c.prototype.setState=function(b){var c=&quot;disabled&quot;,d=this.$element,e=d.is(&quot;input&quot;)?&quot;val&quot;:&quot;html&quot;,f=d.data();b+=&quot;Text&quot;,null==f.resetText&amp;&amp;d.data(&quot;resetText&quot;,d[e]()),setTimeout(a.proxy(function(){d[e](null==f[b]?this.options[b]:f[b]),&quot;loadingText&quot;==b?(this.isLoading=!0,d.addClass(c).attr(c,c).prop(c,!0)):this.isLoading&amp;&amp;(this.isLoading=!1,d.removeClass(c).removeAttr(c).prop(c,!1))},this),0)},c.prototype.toggle=function(){var a=!0,b=this.$element.closest(&#x27;[data-toggle=&quot;buttons&quot;]&#x27;);if(b.length){var c=this.$element.find(&quot;input&quot;);&quot;radio&quot;==c.prop(&quot;type&quot;)?(c.prop(&quot;checked&quot;)&amp;&amp;(a=!1),b.find(&quot;.active&quot;).removeClass(&quot;active&quot;),this.$element.addClass(&quot;active&quot;)):&quot;checkbox&quot;==c.prop(&quot;type&quot;)&amp;&amp;(c.prop(&quot;checked&quot;)!==this.$element.hasClass(&quot;active&quot;)&amp;&amp;(a=!1),this.$element.toggleClass(&quot;active&quot;)),c.prop(&quot;checked&quot;,this.$element.hasClass(&quot;active&quot;)),a&amp;&amp;c.trigger(&quot;change&quot;)}else this.$element.attr(&quot;aria-pressed&quot;,!this.$element.hasClass(&quot;active&quot;)),this.$element.toggleClass(&quot;active&quot;)};var d=a.fn.button;a.fn.button=b,a.fn.button.Constructor=c,a.fn.button.noConflict=function(){return a.fn.button=d,this},a(document).on(&quot;click.bs.button.data-api&quot;,&#x27;[data-toggle^=&quot;button&quot;]&#x27;,function(c){var d=a(c.target).closest(&quot;.btn&quot;);b.call(d,&quot;toggle&quot;),a(c.target).is(&#x27;input[type=&quot;radio&quot;], input[type=&quot;checkbox&quot;]&#x27;)||(c.preventDefault(),d.is(&quot;input,button&quot;)?d.trigger(&quot;focus&quot;):d.find(&quot;input:visible,button:visible&quot;).first().trigger(&quot;focus&quot;))}).on(&quot;focus.bs.button.data-api blur.bs.button.data-api&quot;,&#x27;[data-toggle^=&quot;button&quot;]&#x27;,function(b){a(b.target).closest(&quot;.btn&quot;).toggleClass(&quot;focus&quot;,/^focus(in)?$/.test(b.type))})}(jQuery),+function(a){&quot;use strict&quot;;function b(b){return this.each(function(){var d=a(this),e=d.data(&quot;bs.carousel&quot;),f=a.extend({},c.DEFAULTS,d.data(),&quot;object&quot;==typeof b&amp;&amp;b),g=&quot;string&quot;==typeof b?b:f.slide;e||d.data(&quot;bs.carousel&quot;,e=new c(this,f)),&quot;number&quot;==typeof b?e.to(b):g?e[g]():f.interval&amp;&amp;e.pause().cycle()})}var c=function(b,c){this.$element=a(b),this.$indicators=this.$element.find(&quot;.carousel-indicators&quot;),this.options=c,this.paused=null,this.sliding=null,this.interval=null,this.$active=null,this.$items=null,this.options.keyboard&amp;&amp;this.$element.on(&quot;keydown.bs.carousel&quot;,a.proxy(this.keydown,this)),&quot;hover&quot;==this.options.pause&amp;&amp;!(&quot;ontouchstart&quot;in document.documentElement)&amp;&amp;this.$element.on(&quot;mouseenter.bs.carousel&quot;,a.proxy(this.pause,this)).on(&quot;mouseleave.bs.carousel&quot;,a.proxy(this.cycle,this))};c.VERSION=&quot;3.3.7&quot;,c.TRANSITION_DURATION=600,c.DEFAULTS={interval:5e3,pause:&quot;hover&quot;,wrap:!0,keyboard:!0},c.prototype.keydown=function(a){if(!/input|textarea/i.test(a.target.tagName)){switch(a.which){case 37:this.prev();break;case 39:this.next();break;default:return}a.preventDefault()}},c.prototype.cycle=function(b){return b||(this.paused=!1),this.interval&amp;&amp;clearInterval(this.interval),this.options.interval&amp;&amp;!this.paused&amp;&amp;(this.interval=setInterval(a.proxy(this.next,this),this.options.interval)),this},c.prototype.getItemIndex=function(a){return this.$items=a.parent().children(&quot;.item&quot;),this.$items.index(a||this.$active)},c.prototype.getItemForDirection=function(a,b){var c=this.getItemIndex(b),d=&quot;prev&quot;==a&amp;&amp;0===c||&quot;next&quot;==a&amp;&amp;c==this.$items.length-1;if(d&amp;&amp;!this.options.wrap)return b;var e=&quot;prev&quot;==a?-1:1,f=(c+e)%this.$items.length;return this.$items.eq(f)},c.prototype.to=function(a){var b=this,c=this.getItemIndex(this.$active=this.$element.find(&quot;.item.active&quot;));if(!(a&gt;this.$items.length-1||a&lt;0))return this.sliding?this.$element.one(&quot;slid.bs.carousel&quot;,function(){b.to(a)}):c==a?this.pause().cycle():this.slide(a&gt;c?&quot;next&quot;:&quot;prev&quot;,this.$items.eq(a))},c.prototype.pause=function(b){return b||(this.paused=!0),this.$element.find(&quot;.next, .prev&quot;).length&amp;&amp;a.support.transition&amp;&amp;(this.$element.trigger(a.support.transition.end),this.cycle(!0)),this.interval=clearInterval(this.interval),this},c.prototype.next=function(){if(!this.sliding)return this.slide(&quot;next&quot;)},c.prototype.prev=function(){if(!this.sliding)return this.slide(&quot;prev&quot;)},c.prototype.slide=function(b,d){var e=this.$element.find(&quot;.item.active&quot;),f=d||this.getItemForDirection(b,e),g=this.interval,h=&quot;next&quot;==b?&quot;left&quot;:&quot;right&quot;,i=this;if(f.hasClass(&quot;active&quot;))return this.sliding=!1;var j=f[0],k=a.Event(&quot;slide.bs.carousel&quot;,{relatedTarget:j,direction:h});if(this.$element.trigger(k),!k.isDefaultPrevented()){if(this.sliding=!0,g&amp;&amp;this.pause(),this.$indicators.length){this.$indicators.find(&quot;.active&quot;).removeClass(&quot;active&quot;);var l=a(this.$indicators.children()[this.getItemIndex(f)]);l&amp;&amp;l.addClass(&quot;active&quot;)}var m=a.Event(&quot;slid.bs.carousel&quot;,{relatedTarget:j,direction:h});return a.support.transition&amp;&amp;this.$element.hasClass(&quot;slide&quot;)?(f.addClass(b),f[0].offsetWidth,e.addClass(h),f.addClass(h),e.one(&quot;bsTransitionEnd&quot;,function(){f.removeClass([b,h].join(&quot; &quot;)).addClass(&quot;active&quot;),e.removeClass([&quot;active&quot;,h].join(&quot; &quot;)),i.sliding=!1,setTimeout(function(){i.$element.trigger(m)},0)}).emulateTransitionEnd(c.TRANSITION_DURATION)):(e.removeClass(&quot;active&quot;),f.addClass(&quot;active&quot;),this.sliding=!1,this.$element.trigger(m)),g&amp;&amp;this.cycle(),this}};var d=a.fn.carousel;a.fn.carousel=b,a.fn.carousel.Constructor=c,a.fn.carousel.noConflict=function(){return a.fn.carousel=d,this};var e=function(c){var d,e=a(this),f=a(e.attr(&quot;data-target&quot;)||(d=e.attr(&quot;href&quot;))&amp;&amp;d.replace(/.*(?=#[^\\s]+$)/,&quot;&quot;));if(f.hasClass(&quot;carousel&quot;)){var g=a.extend({},f.data(),e.data()),h=e.attr(&quot;data-slide-to&quot;);h&amp;&amp;(g.interval=!1),b.call(f,g),h&amp;&amp;f.data(&quot;bs.carousel&quot;).to(h),c.preventDefault()}};a(document).on(&quot;click.bs.carousel.data-api&quot;,&quot;[data-slide]&quot;,e).on(&quot;click.bs.carousel.data-api&quot;,&quot;[data-slide-to]&quot;,e),a(window).on(&quot;load&quot;,function(){a(&#x27;[data-ride=&quot;carousel&quot;]&#x27;).each(function(){var c=a(this);b.call(c,c.data())})})}(jQuery),+function(a){&quot;use strict&quot;;function b(b){var c,d=b.attr(&quot;data-target&quot;)||(c=b.attr(&quot;href&quot;))&amp;&amp;c.replace(/.*(?=#[^\\s]+$)/,&quot;&quot;);return a(d)}function c(b){return this.each(function(){var c=a(this),e=c.data(&quot;bs.collapse&quot;),f=a.extend({},d.DEFAULTS,c.data(),&quot;object&quot;==typeof b&amp;&amp;b);!e&amp;&amp;f.toggle&amp;&amp;/show|hide/.test(b)&amp;&amp;(f.toggle=!1),e||c.data(&quot;bs.collapse&quot;,e=new d(this,f)),&quot;string&quot;==typeof b&amp;&amp;e[b]()})}var d=function(b,c){this.$element=a(b),this.options=a.extend({},d.DEFAULTS,c),this.$trigger=a(&#x27;[data-toggle=&quot;collapse&quot;][href=&quot;#&#x27;+b.id+&#x27;&quot;],[data-toggle=&quot;collapse&quot;][data-target=&quot;#&#x27;+b.id+&#x27;&quot;]&#x27;),this.transitioning=null,this.options.parent?this.$parent=this.getParent():this.addAriaAndCollapsedClass(this.$element,this.$trigger),this.options.toggle&amp;&amp;this.toggle()};d.VERSION=&quot;3.3.7&quot;,d.TRANSITION_DURATION=350,d.DEFAULTS={toggle:!0},d.prototype.dimension=function(){var a=this.$element.hasClass(&quot;width&quot;);return a?&quot;width&quot;:&quot;height&quot;},d.prototype.show=function(){if(!this.transitioning&amp;&amp;!this.$element.hasClass(&quot;in&quot;)){var b,e=this.$parent&amp;&amp;this.$parent.children(&quot;.panel&quot;).children(&quot;.in, .collapsing&quot;);if(!(e&amp;&amp;e.length&amp;&amp;(b=e.data(&quot;bs.collapse&quot;),b&amp;&amp;b.transitioning))){var f=a.Event(&quot;show.bs.collapse&quot;);if(this.$element.trigger(f),!f.isDefaultPrevented()){e&amp;&amp;e.length&amp;&amp;(c.call(e,&quot;hide&quot;),b||e.data(&quot;bs.collapse&quot;,null));var g=this.dimension();this.$element.removeClass(&quot;collapse&quot;).addClass(&quot;collapsing&quot;)[g](0).attr(&quot;aria-expanded&quot;,!0),this.$trigger.removeClass(&quot;collapsed&quot;).attr(&quot;aria-expanded&quot;,!0),this.transitioning=1;var h=function(){this.$element.removeClass(&quot;collapsing&quot;).addClass(&quot;collapse in&quot;)[g](&quot;&quot;),this.transitioning=0,this.$element.trigger(&quot;shown.bs.collapse&quot;)};if(!a.support.transition)return h.call(this);var i=a.camelCase([&quot;scroll&quot;,g].join(&quot;-&quot;));this.$element.one(&quot;bsTransitionEnd&quot;,a.proxy(h,this)).emulateTransitionEnd(d.TRANSITION_DURATION)[g](this.$element[0][i])}}}},d.prototype.hide=function(){if(!this.transitioning&amp;&amp;this.$element.hasClass(&quot;in&quot;)){var b=a.Event(&quot;hide.bs.collapse&quot;);if(this.$element.trigger(b),!b.isDefaultPrevented()){var c=this.dimension();this.$element[c](this.$element[c]())[0].offsetHeight,this.$element.addClass(&quot;collapsing&quot;).removeClass(&quot;collapse in&quot;).attr(&quot;aria-expanded&quot;,!1),this.$trigger.addClass(&quot;collapsed&quot;).attr(&quot;aria-expanded&quot;,!1),this.transitioning=1;var e=function(){this.transitioning=0,this.$element.removeClass(&quot;collapsing&quot;).addClass(&quot;collapse&quot;).trigger(&quot;hidden.bs.collapse&quot;)};return a.support.transition?void this.$element[c](0).one(&quot;bsTransitionEnd&quot;,a.proxy(e,this)).emulateTransitionEnd(d.TRANSITION_DURATION):e.call(this)}}},d.prototype.toggle=function(){this[this.$element.hasClass(&quot;in&quot;)?&quot;hide&quot;:&quot;show&quot;]()},d.prototype.getParent=function(){return a(this.options.parent).find(&#x27;[data-toggle=&quot;collapse&quot;][data-parent=&quot;&#x27;+this.options.parent+&#x27;&quot;]&#x27;).each(a.proxy(function(c,d){var e=a(d);this.addAriaAndCollapsedClass(b(e),e)},this)).end()},d.prototype.addAriaAndCollapsedClass=function(a,b){var c=a.hasClass(&quot;in&quot;);a.attr(&quot;aria-expanded&quot;,c),b.toggleClass(&quot;collapsed&quot;,!c).attr(&quot;aria-expanded&quot;,c)};var e=a.fn.collapse;a.fn.collapse=c,a.fn.collapse.Constructor=d,a.fn.collapse.noConflict=function(){return a.fn.collapse=e,this},a(document).on(&quot;click.bs.collapse.data-api&quot;,&#x27;[data-toggle=&quot;collapse&quot;]&#x27;,function(d){var e=a(this);e.attr(&quot;data-target&quot;)||d.preventDefault();var f=b(e),g=f.data(&quot;bs.collapse&quot;),h=g?&quot;toggle&quot;:e.data();c.call(f,h)})}(jQuery),+function(a){&quot;use strict&quot;;function b(b){var c=b.attr(&quot;data-target&quot;);c||(c=b.attr(&quot;href&quot;),c=c&amp;&amp;/#[A-Za-z]/.test(c)&amp;&amp;c.replace(/.*(?=#[^\\s]*$)/,&quot;&quot;));var d=c&amp;&amp;a(c);return d&amp;&amp;d.length?d:b.parent()}function c(c){c&amp;&amp;3===c.which||(a(e).remove(),a(f).each(function(){var d=a(this),e=b(d),f={relatedTarget:this};e.hasClass(&quot;open&quot;)&amp;&amp;(c&amp;&amp;&quot;click&quot;==c.type&amp;&amp;/input|textarea/i.test(c.target.tagName)&amp;&amp;a.contains(e[0],c.target)||(e.trigger(c=a.Event(&quot;hide.bs.dropdown&quot;,f)),c.isDefaultPrevented()||(d.attr(&quot;aria-expanded&quot;,&quot;false&quot;),e.removeClass(&quot;open&quot;).trigger(a.Event(&quot;hidden.bs.dropdown&quot;,f)))))}))}function d(b){return this.each(function(){var c=a(this),d=c.data(&quot;bs.dropdown&quot;);d||c.data(&quot;bs.dropdown&quot;,d=new g(this)),&quot;string&quot;==typeof b&amp;&amp;d[b].call(c)})}var e=&quot;.dropdown-backdrop&quot;,f=&#x27;[data-toggle=&quot;dropdown&quot;]&#x27;,g=function(b){a(b).on(&quot;click.bs.dropdown&quot;,this.toggle)};g.VERSION=&quot;3.3.7&quot;,g.prototype.toggle=function(d){var e=a(this);if(!e.is(&quot;.disabled, :disabled&quot;)){var f=b(e),g=f.hasClass(&quot;open&quot;);if(c(),!g){&quot;ontouchstart&quot;in document.documentElement&amp;&amp;!f.closest(&quot;.navbar-nav&quot;).length&amp;&amp;a(document.createElement(&quot;div&quot;)).addClass(&quot;dropdown-backdrop&quot;).insertAfter(a(this)).on(&quot;click&quot;,c);var h={relatedTarget:this};if(f.trigger(d=a.Event(&quot;show.bs.dropdown&quot;,h)),d.isDefaultPrevented())return;e.trigger(&quot;focus&quot;).attr(&quot;aria-expanded&quot;,&quot;true&quot;),f.toggleClass(&quot;open&quot;).trigger(a.Event(&quot;shown.bs.dropdown&quot;,h))}return!1}},g.prototype.keydown=function(c){if(/(38|40|27|32)/.test(c.which)&amp;&amp;!/input|textarea/i.test(c.target.tagName)){var d=a(this);if(c.preventDefault(),c.stopPropagation(),!d.is(&quot;.disabled, :disabled&quot;)){var e=b(d),g=e.hasClass(&quot;open&quot;);if(!g&amp;&amp;27!=c.which||g&amp;&amp;27==c.which)return 27==c.which&amp;&amp;e.find(f).trigger(&quot;focus&quot;),d.trigger(&quot;click&quot;);var h=&quot; li:not(.disabled):visible a&quot;,i=e.find(&quot;.dropdown-menu&quot;+h);if(i.length){var j=i.index(c.target);38==c.which&amp;&amp;j&gt;0&amp;&amp;j--,40==c.which&amp;&amp;j&lt;i.length-1&amp;&amp;j++,~j||(j=0),i.eq(j).trigger(&quot;focus&quot;)}}}};var h=a.fn.dropdown;a.fn.dropdown=d,a.fn.dropdown.Constructor=g,a.fn.dropdown.noConflict=function(){return a.fn.dropdown=h,this},a(document).on(&quot;click.bs.dropdown.data-api&quot;,c).on(&quot;click.bs.dropdown.data-api&quot;,&quot;.dropdown form&quot;,function(a){a.stopPropagation()}).on(&quot;click.bs.dropdown.data-api&quot;,f,g.prototype.toggle).on(&quot;keydown.bs.dropdown.data-api&quot;,f,g.prototype.keydown).on(&quot;keydown.bs.dropdown.data-api&quot;,&quot;.dropdown-menu&quot;,g.prototype.keydown)}(jQuery),+function(a){&quot;use strict&quot;;function b(b,d){return this.each(function(){var e=a(this),f=e.data(&quot;bs.modal&quot;),g=a.extend({},c.DEFAULTS,e.data(),&quot;object&quot;==typeof b&amp;&amp;b);f||e.data(&quot;bs.modal&quot;,f=new c(this,g)),&quot;string&quot;==typeof b?f[b](d):g.show&amp;&amp;f.show(d)})}var c=function(b,c){this.options=c,this.$body=a(document.body),this.$element=a(b),this.$dialog=this.$element.find(&quot;.modal-dialog&quot;),this.$backdrop=null,this.isShown=null,this.originalBodyPad=null,this.scrollbarWidth=0,this.ignoreBackdropClick=!1,this.options.remote&amp;&amp;this.$element.find(&quot;.modal-content&quot;).load(this.options.remote,a.proxy(function(){this.$element.trigger(&quot;loaded.bs.modal&quot;)},this))};c.VERSION=&quot;3.3.7&quot;,c.TRANSITION_DURATION=300,c.BACKDROP_TRANSITION_DURATION=150,c.DEFAULTS={backdrop:!0,keyboard:!0,show:!0},c.prototype.toggle=function(a){return this.isShown?this.hide():this.show(a)},c.prototype.show=function(b){var d=this,e=a.Event(&quot;show.bs.modal&quot;,{relatedTarget:b});this.$element.trigger(e),this.isShown||e.isDefaultPrevented()||(this.isShown=!0,this.checkScrollbar(),this.setScrollbar(),this.$body.addClass(&quot;modal-open&quot;),this.escape(),this.resize(),this.$element.on(&quot;click.dismiss.bs.modal&quot;,&#x27;[data-dismiss=&quot;modal&quot;]&#x27;,a.proxy(this.hide,this)),this.$dialog.on(&quot;mousedown.dismiss.bs.modal&quot;,function(){d.$element.one(&quot;mouseup.dismiss.bs.modal&quot;,function(b){a(b.target).is(d.$element)&amp;&amp;(d.ignoreBackdropClick=!0)})}),this.backdrop(function(){var e=a.support.transition&amp;&amp;d.$element.hasClass(&quot;fade&quot;);d.$element.parent().length||d.$element.appendTo(d.$body),d.$element.show().scrollTop(0),d.adjustDialog(),e&amp;&amp;d.$element[0].offsetWidth,d.$element.addClass(&quot;in&quot;),d.enforceFocus();var f=a.Event(&quot;shown.bs.modal&quot;,{relatedTarget:b});e?d.$dialog.one(&quot;bsTransitionEnd&quot;,function(){d.$element.trigger(&quot;focus&quot;).trigger(f)}).emulateTransitionEnd(c.TRANSITION_DURATION):d.$element.trigger(&quot;focus&quot;).trigger(f)}))},c.prototype.hide=function(b){b&amp;&amp;b.preventDefault(),b=a.Event(&quot;hide.bs.modal&quot;),this.$element.trigger(b),this.isShown&amp;&amp;!b.isDefaultPrevented()&amp;&amp;(this.isShown=!1,this.escape(),this.resize(),a(document).off(&quot;focusin.bs.modal&quot;),this.$element.removeClass(&quot;in&quot;).off(&quot;click.dismiss.bs.modal&quot;).off(&quot;mouseup.dismiss.bs.modal&quot;),this.$dialog.off(&quot;mousedown.dismiss.bs.modal&quot;),a.support.transition&amp;&amp;this.$element.hasClass(&quot;fade&quot;)?this.$element.one(&quot;bsTransitionEnd&quot;,a.proxy(this.hideModal,this)).emulateTransitionEnd(c.TRANSITION_DURATION):this.hideModal())},c.prototype.enforceFocus=function(){a(document).off(&quot;focusin.bs.modal&quot;).on(&quot;focusin.bs.modal&quot;,a.proxy(function(a){document===a.target||this.$element[0]===a.target||this.$element.has(a.target).length||this.$element.trigger(&quot;focus&quot;)},this))},c.prototype.escape=function(){this.isShown&amp;&amp;this.options.keyboard?this.$element.on(&quot;keydown.dismiss.bs.modal&quot;,a.proxy(function(a){27==a.which&amp;&amp;this.hide()},this)):this.isShown||this.$element.off(&quot;keydown.dismiss.bs.modal&quot;)},c.prototype.resize=function(){this.isShown?a(window).on(&quot;resize.bs.modal&quot;,a.proxy(this.handleUpdate,this)):a(window).off(&quot;resize.bs.modal&quot;)},c.prototype.hideModal=function(){var a=this;this.$element.hide(),this.backdrop(function(){a.$body.removeClass(&quot;modal-open&quot;),a.resetAdjustments(),a.resetScrollbar(),a.$element.trigger(&quot;hidden.bs.modal&quot;)})},c.prototype.removeBackdrop=function(){this.$backdrop&amp;&amp;this.$backdrop.remove(),this.$backdrop=null},c.prototype.backdrop=function(b){var d=this,e=this.$element.hasClass(&quot;fade&quot;)?&quot;fade&quot;:&quot;&quot;;if(this.isShown&amp;&amp;this.options.backdrop){var f=a.support.transition&amp;&amp;e;if(this.$backdrop=a(document.createElement(&quot;div&quot;)).addClass(&quot;modal-backdrop &quot;+e).appendTo(this.$body),this.$element.on(&quot;click.dismiss.bs.modal&quot;,a.proxy(function(a){return this.ignoreBackdropClick?void(this.ignoreBackdropClick=!1):void(a.target===a.currentTarget&amp;&amp;(&quot;static&quot;==this.options.backdrop?this.$element[0].focus():this.hide()))},this)),f&amp;&amp;this.$backdrop[0].offsetWidth,this.$backdrop.addClass(&quot;in&quot;),!b)return;f?this.$backdrop.one(&quot;bsTransitionEnd&quot;,b).emulateTransitionEnd(c.BACKDROP_TRANSITION_DURATION):b()}else if(!this.isShown&amp;&amp;this.$backdrop){this.$backdrop.removeClass(&quot;in&quot;);var g=function(){d.removeBackdrop(),b&amp;&amp;b()};a.support.transition&amp;&amp;this.$element.hasClass(&quot;fade&quot;)?this.$backdrop.one(&quot;bsTransitionEnd&quot;,g).emulateTransitionEnd(c.BACKDROP_TRANSITION_DURATION):g()}else b&amp;&amp;b()},c.prototype.handleUpdate=function(){this.adjustDialog()},c.prototype.adjustDialog=function(){var a=this.$element[0].scrollHeight&gt;document.documentElement.clientHeight;this.$element.css({paddingLeft:!this.bodyIsOverflowing&amp;&amp;a?this.scrollbarWidth:&quot;&quot;,paddingRight:this.bodyIsOverflowing&amp;&amp;!a?this.scrollbarWidth:&quot;&quot;})},c.prototype.resetAdjustments=function(){this.$element.css({paddingLeft:&quot;&quot;,paddingRight:&quot;&quot;})},c.prototype.checkScrollbar=function(){var a=window.innerWidth;if(!a){var b=document.documentElement.getBoundingClientRect();a=b.right-Math.abs(b.left)}this.bodyIsOverflowing=document.body.clientWidth&lt;a,this.scrollbarWidth=this.measureScrollbar()},c.prototype.setScrollbar=function(){var a=parseInt(this.$body.css(&quot;padding-right&quot;)||0,10);this.originalBodyPad=document.body.style.paddingRight||&quot;&quot;,this.bodyIsOverflowing&amp;&amp;this.$body.css(&quot;padding-right&quot;,a+this.scrollbarWidth)},c.prototype.resetScrollbar=function(){this.$body.css(&quot;padding-right&quot;,this.originalBodyPad)},c.prototype.measureScrollbar=function(){var a=document.createElement(&quot;div&quot;);a.className=&quot;modal-scrollbar-measure&quot;,this.$body.append(a);var b=a.offsetWidth-a.clientWidth;return this.$body[0].removeChild(a),b};var d=a.fn.modal;a.fn.modal=b,a.fn.modal.Constructor=c,a.fn.modal.noConflict=function(){return a.fn.modal=d,this},a(document).on(&quot;click.bs.modal.data-api&quot;,&#x27;[data-toggle=&quot;modal&quot;]&#x27;,function(c){var d=a(this),e=d.attr(&quot;href&quot;),f=a(d.attr(&quot;data-target&quot;)||e&amp;&amp;e.replace(/.*(?=#[^\\s]+$)/,&quot;&quot;)),g=f.data(&quot;bs.modal&quot;)?&quot;toggle&quot;:a.extend({remote:!/#/.test(e)&amp;&amp;e},f.data(),d.data());d.is(&quot;a&quot;)&amp;&amp;c.preventDefault(),f.one(&quot;show.bs.modal&quot;,function(a){a.isDefaultPrevented()||f.one(&quot;hidden.bs.modal&quot;,function(){d.is(&quot;:visible&quot;)&amp;&amp;d.trigger(&quot;focus&quot;)})}),b.call(f,g,this)})}(jQuery),+function(a){&quot;use strict&quot;;function b(b){return this.each(function(){var d=a(this),e=d.data(&quot;bs.tooltip&quot;),f=&quot;object&quot;==typeof b&amp;&amp;b;!e&amp;&amp;/destroy|hide/.test(b)||(e||d.data(&quot;bs.tooltip&quot;,e=new c(this,f)),&quot;string&quot;==typeof b&amp;&amp;e[b]())})}var c=function(a,b){this.type=null,this.options=null,this.enabled=null,this.timeout=null,this.hoverState=null,this.$element=null,this.inState=null,this.init(&quot;tooltip&quot;,a,b)};c.VERSION=&quot;3.3.7&quot;,c.TRANSITION_DURATION=150,c.DEFAULTS={animation:!0,placement:&quot;top&quot;,selector:!1,template:&#x27;&lt;div class=&quot;tooltip&quot; role=&quot;tooltip&quot;&gt;&lt;div class=&quot;tooltip-arrow&quot;&gt;&lt;/div&gt;&lt;div class=&quot;tooltip-inner&quot;&gt;&lt;/div&gt;&lt;/div&gt;&#x27;,trigger:&quot;hover focus&quot;,title:&quot;&quot;,delay:0,html:!1,container:!1,viewport:{selector:&quot;body&quot;,padding:0}},c.prototype.init=function(b,c,d){if(this.enabled=!0,this.type=b,this.$element=a(c),this.options=this.getOptions(d),this.$viewport=this.options.viewport&amp;&amp;a(a.isFunction(this.options.viewport)?this.options.viewport.call(this,this.$element):this.options.viewport.selector||this.options.viewport),this.inState={click:!1,hover:!1,focus:!1},this.$element[0]instanceof document.constructor&amp;&amp;!this.options.selector)throw new Error(&quot;`selector` option must be specified when initializing &quot;+this.type+&quot; on the window.document object!&quot;);for(var e=this.options.trigger.split(&quot; &quot;),f=e.length;f--;){var g=e[f];if(&quot;click&quot;==g)this.$element.on(&quot;click.&quot;+this.type,this.options.selector,a.proxy(this.toggle,this));else if(&quot;manual&quot;!=g){var h=&quot;hover&quot;==g?&quot;mouseenter&quot;:&quot;focusin&quot;,i=&quot;hover&quot;==g?&quot;mouseleave&quot;:&quot;focusout&quot;;this.$element.on(h+&quot;.&quot;+this.type,this.options.selector,a.proxy(this.enter,this)),this.$element.on(i+&quot;.&quot;+this.type,this.options.selector,a.proxy(this.leave,this))}}this.options.selector?this._options=a.extend({},this.options,{trigger:&quot;manual&quot;,selector:&quot;&quot;}):this.fixTitle()},c.prototype.getDefaults=function(){return c.DEFAULTS},c.prototype.getOptions=function(b){return b=a.extend({},this.getDefaults(),this.$element.data(),b),b.delay&amp;&amp;&quot;number&quot;==typeof b.delay&amp;&amp;(b.delay={show:b.delay,hide:b.delay}),b},c.prototype.getDelegateOptions=function(){var b={},c=this.getDefaults();return this._options&amp;&amp;a.each(this._options,function(a,d){c[a]!=d&amp;&amp;(b[a]=d)}),b},c.prototype.enter=function(b){var c=b instanceof this.constructor?b:a(b.currentTarget).data(&quot;bs.&quot;+this.type);return c||(c=new this.constructor(b.currentTarget,this.getDelegateOptions()),a(b.currentTarget).data(&quot;bs.&quot;+this.type,c)),b instanceof a.Event&amp;&amp;(c.inState[&quot;focusin&quot;==b.type?&quot;focus&quot;:&quot;hover&quot;]=!0),c.tip().hasClass(&quot;in&quot;)||&quot;in&quot;==c.hoverState?void(c.hoverState=&quot;in&quot;):(clearTimeout(c.timeout),c.hoverState=&quot;in&quot;,c.options.delay&amp;&amp;c.options.delay.show?void(c.timeout=setTimeout(function(){&quot;in&quot;==c.hoverState&amp;&amp;c.show()},c.options.delay.show)):c.show())},c.prototype.isInStateTrue=function(){for(var a in this.inState)if(this.inState[a])return!0;return!1},c.prototype.leave=function(b){var c=b instanceof this.constructor?b:a(b.currentTarget).data(&quot;bs.&quot;+this.type);if(c||(c=new this.constructor(b.currentTarget,this.getDelegateOptions()),a(b.currentTarget).data(&quot;bs.&quot;+this.type,c)),b instanceof a.Event&amp;&amp;(c.inState[&quot;focusout&quot;==b.type?&quot;focus&quot;:&quot;hover&quot;]=!1),!c.isInStateTrue())return clearTimeout(c.timeout),c.hoverState=&quot;out&quot;,c.options.delay&amp;&amp;c.options.delay.hide?void(c.timeout=setTimeout(function(){&quot;out&quot;==c.hoverState&amp;&amp;c.hide()},c.options.delay.hide)):c.hide()},c.prototype.show=function(){var b=a.Event(&quot;show.bs.&quot;+this.type);if(this.hasContent()&amp;&amp;this.enabled){this.$element.trigger(b);var d=a.contains(this.$element[0].ownerDocument.documentElement,this.$element[0]);if(b.isDefaultPrevented()||!d)return;var e=this,f=this.tip(),g=this.getUID(this.type);this.setContent(),f.attr(&quot;id&quot;,g),this.$element.attr(&quot;aria-describedby&quot;,g),this.options.animation&amp;&amp;f.addClass(&quot;fade&quot;);var h=&quot;function&quot;==typeof this.options.placement?this.options.placement.call(this,f[0],this.$element[0]):this.options.placement,i=/\\s?auto?\\s?/i,j=i.test(h);j&amp;&amp;(h=h.replace(i,&quot;&quot;)||&quot;top&quot;),f.detach().css({top:0,left:0,display:&quot;block&quot;}).addClass(h).data(&quot;bs.&quot;+this.type,this),this.options.container?f.appendTo(this.options.container):f.insertAfter(this.$element),this.$element.trigger(&quot;inserted.bs.&quot;+this.type);var k=this.getPosition(),l=f[0].offsetWidth,m=f[0].offsetHeight;if(j){var n=h,o=this.getPosition(this.$viewport);h=&quot;bottom&quot;==h&amp;&amp;k.bottom+m&gt;o.bottom?&quot;top&quot;:&quot;top&quot;==h&amp;&amp;k.top-m&lt;o.top?&quot;bottom&quot;:&quot;right&quot;==h&amp;&amp;k.right+l&gt;o.width?&quot;left&quot;:&quot;left&quot;==h&amp;&amp;k.left-l&lt;o.left?&quot;right&quot;:h,f.removeClass(n).addClass(h)}var p=this.getCalculatedOffset(h,k,l,m);this.applyPlacement(p,h);var q=function(){var a=e.hoverState;e.$element.trigger(&quot;shown.bs.&quot;+e.type),e.hoverState=null,&quot;out&quot;==a&amp;&amp;e.leave(e)};a.support.transition&amp;&amp;this.$tip.hasClass(&quot;fade&quot;)?f.one(&quot;bsTransitionEnd&quot;,q).emulateTransitionEnd(c.TRANSITION_DURATION):q()}},c.prototype.applyPlacement=function(b,c){var d=this.tip(),e=d[0].offsetWidth,f=d[0].offsetHeight,g=parseInt(d.css(&quot;margin-top&quot;),10),h=parseInt(d.css(&quot;margin-left&quot;),10);isNaN(g)&amp;&amp;(g=0),isNaN(h)&amp;&amp;(h=0),b.top+=g,b.left+=h,a.offset.setOffset(d[0],a.extend({using:function(a){d.css({top:Math.round(a.top),left:Math.round(a.left)})}},b),0),d.addClass(&quot;in&quot;);var i=d[0].offsetWidth,j=d[0].offsetHeight;&quot;top&quot;==c&amp;&amp;j!=f&amp;&amp;(b.top=b.top+f-j);var k=this.getViewportAdjustedDelta(c,b,i,j);k.left?b.left+=k.left:b.top+=k.top;var l=/top|bottom/.test(c),m=l?2*k.left-e+i:2*k.top-f+j,n=l?&quot;offsetWidth&quot;:&quot;offsetHeight&quot;;d.offset(b),this.replaceArrow(m,d[0][n],l)},c.prototype.replaceArrow=function(a,b,c){this.arrow().css(c?&quot;left&quot;:&quot;top&quot;,50*(1-a/b)+&quot;%&quot;).css(c?&quot;top&quot;:&quot;left&quot;,&quot;&quot;)},c.prototype.setContent=function(){var a=this.tip(),b=this.getTitle();a.find(&quot;.tooltip-inner&quot;)[this.options.html?&quot;html&quot;:&quot;text&quot;](b),a.removeClass(&quot;fade in top bottom left right&quot;)},c.prototype.hide=function(b){function d(){&quot;in&quot;!=e.hoverState&amp;&amp;f.detach(),e.$element&amp;&amp;e.$element.removeAttr(&quot;aria-describedby&quot;).trigger(&quot;hidden.bs.&quot;+e.type),b&amp;&amp;b()}var e=this,f=a(this.$tip),g=a.Event(&quot;hide.bs.&quot;+this.type);if(this.$element.trigger(g),!g.isDefaultPrevented())return f.removeClass(&quot;in&quot;),a.support.transition&amp;&amp;f.hasClass(&quot;fade&quot;)?f.one(&quot;bsTransitionEnd&quot;,d).emulateTransitionEnd(c.TRANSITION_DURATION):d(),this.hoverState=null,this},c.prototype.fixTitle=function(){var a=this.$element;(a.attr(&quot;title&quot;)||&quot;string&quot;!=typeof a.attr(&quot;data-original-title&quot;))&amp;&amp;a.attr(&quot;data-original-title&quot;,a.attr(&quot;title&quot;)||&quot;&quot;).attr(&quot;title&quot;,&quot;&quot;)},c.prototype.hasContent=function(){return this.getTitle()},c.prototype.getPosition=function(b){b=b||this.$element;var c=b[0],d=&quot;BODY&quot;==c.tagName,e=c.getBoundingClientRect();null==e.width&amp;&amp;(e=a.extend({},e,{width:e.right-e.left,height:e.bottom-e.top}));var f=window.SVGElement&amp;&amp;c instanceof window.SVGElement,g=d?{top:0,left:0}:f?null:b.offset(),h={scroll:d?document.documentElement.scrollTop||document.body.scrollTop:b.scrollTop()},i=d?{width:a(window).width(),height:a(window).height()}:null;return a.extend({},e,h,i,g)},c.prototype.getCalculatedOffset=function(a,b,c,d){return&quot;bottom&quot;==a?{top:b.top+b.height,left:b.left+b.width/2-c/2}:&quot;top&quot;==a?{top:b.top-d,left:b.left+b.width/2-c/2}:&quot;left&quot;==a?{top:b.top+b.height/2-d/2,left:b.left-c}:{top:b.top+b.height/2-d/2,left:b.left+b.width}},c.prototype.getViewportAdjustedDelta=function(a,b,c,d){var e={top:0,left:0};if(!this.$viewport)return e;var f=this.options.viewport&amp;&amp;this.options.viewport.padding||0,g=this.getPosition(this.$viewport);if(/right|left/.test(a)){var h=b.top-f-g.scroll,i=b.top+f-g.scroll+d;h&lt;g.top?e.top=g.top-h:i&gt;g.top+g.height&amp;&amp;(e.top=g.top+g.height-i)}else{var j=b.left-f,k=b.left+f+c;j&lt;g.left?e.left=g.left-j:k&gt;g.right&amp;&amp;(e.left=g.left+g.width-k)}return e},c.prototype.getTitle=function(){var a,b=this.$element,c=this.options;return a=b.attr(&quot;data-original-title&quot;)||(&quot;function&quot;==typeof c.title?c.title.call(b[0]):c.title)},c.prototype.getUID=function(a){do a+=~~(1e6*Math.random());while(document.getElementById(a));return a},c.prototype.tip=function(){if(!this.$tip&amp;&amp;(this.$tip=a(this.options.template),1!=this.$tip.length))throw new Error(this.type+&quot; `template` option must consist of exactly 1 top-level element!&quot;);return this.$tip},c.prototype.arrow=function(){return this.$arrow=this.$arrow||this.tip().find(&quot;.tooltip-arrow&quot;)},c.prototype.enable=function(){this.enabled=!0},c.prototype.disable=function(){this.enabled=!1},c.prototype.toggleEnabled=function(){this.enabled=!this.enabled},c.prototype.toggle=function(b){var c=this;b&amp;&amp;(c=a(b.currentTarget).data(&quot;bs.&quot;+this.type),c||(c=new this.constructor(b.currentTarget,this.getDelegateOptions()),a(b.currentTarget).data(&quot;bs.&quot;+this.type,c))),b?(c.inState.click=!c.inState.click,c.isInStateTrue()?c.enter(c):c.leave(c)):c.tip().hasClass(&quot;in&quot;)?c.leave(c):c.enter(c)},c.prototype.destroy=function(){var a=this;clearTimeout(this.timeout),this.hide(function(){a.$element.off(&quot;.&quot;+a.type).removeData(&quot;bs.&quot;+a.type),a.$tip&amp;&amp;a.$tip.detach(),a.$tip=null,a.$arrow=null,a.$viewport=null,a.$element=null})};var d=a.fn.tooltip;a.fn.tooltip=b,a.fn.tooltip.Constructor=c,a.fn.tooltip.noConflict=function(){return a.fn.tooltip=d,this}}(jQuery),+function(a){&quot;use strict&quot;;function b(b){return this.each(function(){var d=a(this),e=d.data(&quot;bs.popover&quot;),f=&quot;object&quot;==typeof b&amp;&amp;b;!e&amp;&amp;/destroy|hide/.test(b)||(e||d.data(&quot;bs.popover&quot;,e=new c(this,f)),&quot;string&quot;==typeof b&amp;&amp;e[b]())})}var c=function(a,b){this.init(&quot;popover&quot;,a,b)};if(!a.fn.tooltip)throw new Error(&quot;Popover requires tooltip.js&quot;);c.VERSION=&quot;3.3.7&quot;,c.DEFAULTS=a.extend({},a.fn.tooltip.Constructor.DEFAULTS,{placement:&quot;right&quot;,trigger:&quot;click&quot;,content:&quot;&quot;,template:&#x27;&lt;div class=&quot;popover&quot; role=&quot;tooltip&quot;&gt;&lt;div class=&quot;arrow&quot;&gt;&lt;/div&gt;&lt;h3 class=&quot;popover-title&quot;&gt;&lt;/h3&gt;&lt;div class=&quot;popover-content&quot;&gt;&lt;/div&gt;&lt;/div&gt;&#x27;}),c.prototype=a.extend({},a.fn.tooltip.Constructor.prototype),c.prototype.constructor=c,c.prototype.getDefaults=function(){return c.DEFAULTS},c.prototype.setContent=function(){var a=this.tip(),b=this.getTitle(),c=this.getContent();a.find(&quot;.popover-title&quot;)[this.options.html?&quot;html&quot;:&quot;text&quot;](b),a.find(&quot;.popover-content&quot;).children().detach().end()[this.options.html?&quot;string&quot;==typeof c?&quot;html&quot;:&quot;append&quot;:&quot;text&quot;](c),a.removeClass(&quot;fade top bottom left right in&quot;),a.find(&quot;.popover-title&quot;).html()||a.find(&quot;.popover-title&quot;).hide()},c.prototype.hasContent=function(){return this.getTitle()||this.getContent()},c.prototype.getContent=function(){var a=this.$element,b=this.options;return a.attr(&quot;data-content&quot;)||(&quot;function&quot;==typeof b.content?b.content.call(a[0]):b.content)},c.prototype.arrow=function(){return this.$arrow=this.$arrow||this.tip().find(&quot;.arrow&quot;)};var d=a.fn.popover;a.fn.popover=b,a.fn.popover.Constructor=c,a.fn.popover.noConflict=function(){return a.fn.popover=d,this}}(jQuery),+function(a){&quot;use strict&quot;;function b(c,d){this.$body=a(document.body),this.$scrollElement=a(a(c).is(document.body)?window:c),this.options=a.extend({},b.DEFAULTS,d),this.selector=(this.options.target||&quot;&quot;)+&quot; .nav li &gt; a&quot;,this.offsets=[],this.targets=[],this.activeTarget=null,this.scrollHeight=0,this.$scrollElement.on(&quot;scroll.bs.scrollspy&quot;,a.proxy(this.process,this)),this.refresh(),this.process()}function c(c){return this.each(function(){var d=a(this),e=d.data(&quot;bs.scrollspy&quot;),f=&quot;object&quot;==typeof c&amp;&amp;c;e||d.data(&quot;bs.scrollspy&quot;,e=new b(this,f)),&quot;string&quot;==typeof c&amp;&amp;e[c]()})}b.VERSION=&quot;3.3.7&quot;,b.DEFAULTS={offset:10},b.prototype.getScrollHeight=function(){return this.$scrollElement[0].scrollHeight||Math.max(this.$body[0].scrollHeight,document.documentElement.scrollHeight)},b.prototype.refresh=function(){var b=this,c=&quot;offset&quot;,d=0;this.offsets=[],this.targets=[],this.scrollHeight=this.getScrollHeight(),a.isWindow(this.$scrollElement[0])||(c=&quot;position&quot;,d=this.$scrollElement.scrollTop()),this.$body.find(this.selector).map(function(){var b=a(this),e=b.data(&quot;target&quot;)||b.attr(&quot;href&quot;),f=/^#./.test(e)&amp;&amp;a(e);return f&amp;&amp;f.length&amp;&amp;f.is(&quot;:visible&quot;)&amp;&amp;[[f[c]().top+d,e]]||null}).sort(function(a,b){return a[0]-b[0]}).each(function(){b.offsets.push(this[0]),b.targets.push(this[1])})},b.prototype.process=function(){var a,b=this.$scrollElement.scrollTop()+this.options.offset,c=this.getScrollHeight(),d=this.options.offset+c-this.$scrollElement.height(),e=this.offsets,f=this.targets,g=this.activeTarget;if(this.scrollHeight!=c&amp;&amp;this.refresh(),b&gt;=d)return g!=(a=f[f.length-1])&amp;&amp;this.activate(a);if(g&amp;&amp;b&lt;e[0])return this.activeTarget=null,this.clear();for(a=e.length;a--;)g!=f[a]&amp;&amp;b&gt;=e[a]&amp;&amp;(void 0===e[a+1]||b&lt;e[a+1])&amp;&amp;this.activate(f[a])},b.prototype.activate=function(b){\n",
       "this.activeTarget=b,this.clear();var c=this.selector+&#x27;[data-target=&quot;&#x27;+b+&#x27;&quot;],&#x27;+this.selector+&#x27;[href=&quot;&#x27;+b+&#x27;&quot;]&#x27;,d=a(c).parents(&quot;li&quot;).addClass(&quot;active&quot;);d.parent(&quot;.dropdown-menu&quot;).length&amp;&amp;(d=d.closest(&quot;li.dropdown&quot;).addClass(&quot;active&quot;)),d.trigger(&quot;activate.bs.scrollspy&quot;)},b.prototype.clear=function(){a(this.selector).parentsUntil(this.options.target,&quot;.active&quot;).removeClass(&quot;active&quot;)};var d=a.fn.scrollspy;a.fn.scrollspy=c,a.fn.scrollspy.Constructor=b,a.fn.scrollspy.noConflict=function(){return a.fn.scrollspy=d,this},a(window).on(&quot;load.bs.scrollspy.data-api&quot;,function(){a(&#x27;[data-spy=&quot;scroll&quot;]&#x27;).each(function(){var b=a(this);c.call(b,b.data())})})}(jQuery),+function(a){&quot;use strict&quot;;function b(b){return this.each(function(){var d=a(this),e=d.data(&quot;bs.tab&quot;);e||d.data(&quot;bs.tab&quot;,e=new c(this)),&quot;string&quot;==typeof b&amp;&amp;e[b]()})}var c=function(b){this.element=a(b)};c.VERSION=&quot;3.3.7&quot;,c.TRANSITION_DURATION=150,c.prototype.show=function(){var b=this.element,c=b.closest(&quot;ul:not(.dropdown-menu)&quot;),d=b.data(&quot;target&quot;);if(d||(d=b.attr(&quot;href&quot;),d=d&amp;&amp;d.replace(/.*(?=#[^\\s]*$)/,&quot;&quot;)),!b.parent(&quot;li&quot;).hasClass(&quot;active&quot;)){var e=c.find(&quot;.active:last a&quot;),f=a.Event(&quot;hide.bs.tab&quot;,{relatedTarget:b[0]}),g=a.Event(&quot;show.bs.tab&quot;,{relatedTarget:e[0]});if(e.trigger(f),b.trigger(g),!g.isDefaultPrevented()&amp;&amp;!f.isDefaultPrevented()){var h=a(d);this.activate(b.closest(&quot;li&quot;),c),this.activate(h,h.parent(),function(){e.trigger({type:&quot;hidden.bs.tab&quot;,relatedTarget:b[0]}),b.trigger({type:&quot;shown.bs.tab&quot;,relatedTarget:e[0]})})}}},c.prototype.activate=function(b,d,e){function f(){g.removeClass(&quot;active&quot;).find(&quot;&gt; .dropdown-menu &gt; .active&quot;).removeClass(&quot;active&quot;).end().find(&#x27;[data-toggle=&quot;tab&quot;]&#x27;).attr(&quot;aria-expanded&quot;,!1),b.addClass(&quot;active&quot;).find(&#x27;[data-toggle=&quot;tab&quot;]&#x27;).attr(&quot;aria-expanded&quot;,!0),h?(b[0].offsetWidth,b.addClass(&quot;in&quot;)):b.removeClass(&quot;fade&quot;),b.parent(&quot;.dropdown-menu&quot;).length&amp;&amp;b.closest(&quot;li.dropdown&quot;).addClass(&quot;active&quot;).end().find(&#x27;[data-toggle=&quot;tab&quot;]&#x27;).attr(&quot;aria-expanded&quot;,!0),e&amp;&amp;e()}var g=d.find(&quot;&gt; .active&quot;),h=e&amp;&amp;a.support.transition&amp;&amp;(g.length&amp;&amp;g.hasClass(&quot;fade&quot;)||!!d.find(&quot;&gt; .fade&quot;).length);g.length&amp;&amp;h?g.one(&quot;bsTransitionEnd&quot;,f).emulateTransitionEnd(c.TRANSITION_DURATION):f(),g.removeClass(&quot;in&quot;)};var d=a.fn.tab;a.fn.tab=b,a.fn.tab.Constructor=c,a.fn.tab.noConflict=function(){return a.fn.tab=d,this};var e=function(c){c.preventDefault(),b.call(a(this),&quot;show&quot;)};a(document).on(&quot;click.bs.tab.data-api&quot;,&#x27;[data-toggle=&quot;tab&quot;]&#x27;,e).on(&quot;click.bs.tab.data-api&quot;,&#x27;[data-toggle=&quot;pill&quot;]&#x27;,e)}(jQuery),+function(a){&quot;use strict&quot;;function b(b){return this.each(function(){var d=a(this),e=d.data(&quot;bs.affix&quot;),f=&quot;object&quot;==typeof b&amp;&amp;b;e||d.data(&quot;bs.affix&quot;,e=new c(this,f)),&quot;string&quot;==typeof b&amp;&amp;e[b]()})}var c=function(b,d){this.options=a.extend({},c.DEFAULTS,d),this.$target=a(this.options.target).on(&quot;scroll.bs.affix.data-api&quot;,a.proxy(this.checkPosition,this)).on(&quot;click.bs.affix.data-api&quot;,a.proxy(this.checkPositionWithEventLoop,this)),this.$element=a(b),this.affixed=null,this.unpin=null,this.pinnedOffset=null,this.checkPosition()};c.VERSION=&quot;3.3.7&quot;,c.RESET=&quot;affix affix-top affix-bottom&quot;,c.DEFAULTS={offset:0,target:window},c.prototype.getState=function(a,b,c,d){var e=this.$target.scrollTop(),f=this.$element.offset(),g=this.$target.height();if(null!=c&amp;&amp;&quot;top&quot;==this.affixed)return e&lt;c&amp;&amp;&quot;top&quot;;if(&quot;bottom&quot;==this.affixed)return null!=c?!(e+this.unpin&lt;=f.top)&amp;&amp;&quot;bottom&quot;:!(e+g&lt;=a-d)&amp;&amp;&quot;bottom&quot;;var h=null==this.affixed,i=h?e:f.top,j=h?g:b;return null!=c&amp;&amp;e&lt;=c?&quot;top&quot;:null!=d&amp;&amp;i+j&gt;=a-d&amp;&amp;&quot;bottom&quot;},c.prototype.getPinnedOffset=function(){if(this.pinnedOffset)return this.pinnedOffset;this.$element.removeClass(c.RESET).addClass(&quot;affix&quot;);var a=this.$target.scrollTop(),b=this.$element.offset();return this.pinnedOffset=b.top-a},c.prototype.checkPositionWithEventLoop=function(){setTimeout(a.proxy(this.checkPosition,this),1)},c.prototype.checkPosition=function(){if(this.$element.is(&quot;:visible&quot;)){var b=this.$element.height(),d=this.options.offset,e=d.top,f=d.bottom,g=Math.max(a(document).height(),a(document.body).height());&quot;object&quot;!=typeof d&amp;&amp;(f=e=d),&quot;function&quot;==typeof e&amp;&amp;(e=d.top(this.$element)),&quot;function&quot;==typeof f&amp;&amp;(f=d.bottom(this.$element));var h=this.getState(g,b,e,f);if(this.affixed!=h){null!=this.unpin&amp;&amp;this.$element.css(&quot;top&quot;,&quot;&quot;);var i=&quot;affix&quot;+(h?&quot;-&quot;+h:&quot;&quot;),j=a.Event(i+&quot;.bs.affix&quot;);if(this.$element.trigger(j),j.isDefaultPrevented())return;this.affixed=h,this.unpin=&quot;bottom&quot;==h?this.getPinnedOffset():null,this.$element.removeClass(c.RESET).addClass(i).trigger(i.replace(&quot;affix&quot;,&quot;affixed&quot;)+&quot;.bs.affix&quot;)}&quot;bottom&quot;==h&amp;&amp;this.$element.offset({top:g-b-f})}};var d=a.fn.affix;a.fn.affix=b,a.fn.affix.Constructor=c,a.fn.affix.noConflict=function(){return a.fn.affix=d,this},a(window).on(&quot;load&quot;,function(){a(&#x27;[data-spy=&quot;affix&quot;]&#x27;).each(function(){var c=a(this),d=c.data();d.offset=d.offset||{},null!=d.offsetBottom&amp;&amp;(d.offset.bottom=d.offsetBottom),null!=d.offsetTop&amp;&amp;(d.offset.top=d.offsetTop),b.call(c,d)})})}(jQuery);        &lt;/script&gt;&lt;script&gt;\n",
       "$(function () {\n",
       "    $(&#x27;[data-toggle=&quot;tooltip&quot;]&#x27;).tooltip();\n",
       "});\n",
       "\n",
       "$(&quot;a[href^=&#x27;#&#x27;].anchor&quot;).on(&#x27;click&#x27;, function (e) {\n",
       "\n",
       "    // prevent default anchor click behavior\n",
       "    e.preventDefault();\n",
       "\n",
       "    // store hash\n",
       "    var hash = this.hash;\n",
       "\n",
       "    // animate\n",
       "    $(&#x27;html, body&#x27;).animate({\n",
       "        scrollTop: $(hash).offset().top\n",
       "    }, 300, function () {\n",
       "\n",
       "        // when done, add hash to url\n",
       "        // (default click behaviour)\n",
       "        window.location.hash = hash;\n",
       "    });\n",
       "\n",
       "});        &lt;/script&gt;&lt;/body&gt;&lt;/html&gt;\" frameborder=\"0\" allowfullscreen></iframe>"
      ],
      "text/plain": [
       "<IPython.core.display.HTML object>"
      ]
     },
     "metadata": {},
     "output_type": "display_data"
    },
    {
     "data": {
      "text/plain": []
     },
     "execution_count": 8,
     "metadata": {},
     "output_type": "execute_result"
    }
   ],
   "source": [
    "reporte = pdp.ProfileReport(data, title=\"Pandas Profiling Reporte\",minimal=True)\n",
    "reporte"
   ]
  },
  {
   "cell_type": "code",
   "execution_count": 9,
   "metadata": {
    "execution": {
     "iopub.execute_input": "2021-03-04T22:51:41.458132Z",
     "iopub.status.busy": "2021-03-04T22:51:41.457093Z",
     "iopub.status.idle": "2021-03-04T22:51:41.631250Z",
     "shell.execute_reply": "2021-03-04T22:51:41.631761Z"
    },
    "papermill": {
     "duration": 0.359074,
     "end_time": "2021-03-04T22:51:41.631933",
     "exception": false,
     "start_time": "2021-03-04T22:51:41.272859",
     "status": "completed"
    },
    "tags": []
   },
   "outputs": [
    {
     "data": {
      "image/png": "[encoded data removed]",
      "text/plain": [
       "<Figure size 576x396 with 1 Axes>"
      ]
     },
     "metadata": {},
     "output_type": "display_data"
    }
   ],
   "source": [
    "sns.countplot(data=data,x='predator',orient=\"h\")\n",
    "plt.title(\"No predador/Predador\")\n",
    "plt.xlabel(\"Predador\")\n",
    "plt.ylabel(\"Cantidad\")\n",
    "plt.show()"
   ]
  },
  {
   "cell_type": "code",
   "execution_count": 10,
   "metadata": {
    "execution": {
     "iopub.execute_input": "2021-03-04T22:51:41.985533Z",
     "iopub.status.busy": "2021-03-04T22:51:41.984484Z",
     "iopub.status.idle": "2021-03-04T22:51:42.142450Z",
     "shell.execute_reply": "2021-03-04T22:51:42.141470Z"
    },
    "papermill": {
     "duration": 0.339651,
     "end_time": "2021-03-04T22:51:42.142604",
     "exception": false,
     "start_time": "2021-03-04T22:51:41.802953",
     "status": "completed"
    },
    "tags": []
   },
   "outputs": [
    {
     "data": {
      "text/plain": [
       "<function matplotlib.pyplot.show(close=None, block=None)>"
      ]
     },
     "execution_count": 10,
     "metadata": {},
     "output_type": "execute_result"
    },
    {
     "data": {
      "image/png": "[encoded data removed]",
      "text/plain": [
       "<Figure size 720x720 with 1 Axes>"
      ]
     },
     "metadata": {},
     "output_type": "display_data"
    }
   ],
   "source": [
    "plt.figure(figsize=(10,10))\n",
    "data.predator.value_counts().plot(kind=\"pie\",autopct='%1.0f%%')\n",
    "plt.ylabel(\"Usuarios\")\n",
    "\n",
    "plt.title(\"Numero de Predadores en porcentajes\")\n",
    "plt.show"
   ]
  },
  {
   "cell_type": "code",
   "execution_count": 11,
   "metadata": {
    "execution": {
     "iopub.execute_input": "2021-03-04T22:51:42.503407Z",
     "iopub.status.busy": "2021-03-04T22:51:42.502252Z",
     "iopub.status.idle": "2021-03-04T22:51:42.743833Z",
     "shell.execute_reply": "2021-03-04T22:51:42.743249Z"
    },
    "papermill": {
     "duration": 0.429124,
     "end_time": "2021-03-04T22:51:42.744002",
     "exception": false,
     "start_time": "2021-03-04T22:51:42.314878",
     "status": "completed"
    },
    "tags": []
   },
   "outputs": [],
   "source": [
    "data['msg']=data['msg'].apply(str)"
   ]
  },
  {
   "cell_type": "markdown",
   "metadata": {
    "papermill": {
     "duration": 0.170679,
     "end_time": "2021-03-04T22:51:43.085191",
     "exception": false,
     "start_time": "2021-03-04T22:51:42.914512",
     "status": "completed"
    },
    "tags": []
   },
   "source": [
    "### Contar palabras"
   ]
  },
  {
   "cell_type": "code",
   "execution_count": 12,
   "metadata": {
    "execution": {
     "iopub.execute_input": "2021-03-04T22:51:43.439671Z",
     "iopub.status.busy": "2021-03-04T22:51:43.438659Z",
     "iopub.status.idle": "2021-03-04T22:51:44.992880Z",
     "shell.execute_reply": "2021-03-04T22:51:44.994062Z"
    },
    "papermill": {
     "duration": 1.739003,
     "end_time": "2021-03-04T22:51:44.994303",
     "exception": false,
     "start_time": "2021-03-04T22:51:43.255300",
     "status": "completed"
    },
    "tags": []
   },
   "outputs": [],
   "source": [
    "data['contara'] = data['msg'].apply(lambda x: len(str(x).split()))"
   ]
  },
  {
   "cell_type": "code",
   "execution_count": 13,
   "metadata": {
    "execution": {
     "iopub.execute_input": "2021-03-04T22:51:45.456551Z",
     "iopub.status.busy": "2021-03-04T22:51:45.446858Z",
     "iopub.status.idle": "2021-03-04T22:51:45.459976Z",
     "shell.execute_reply": "2021-03-04T22:51:45.460722Z"
    },
    "papermill": {
     "duration": 0.22817,
     "end_time": "2021-03-04T22:51:45.460911",
     "exception": false,
     "start_time": "2021-03-04T22:51:45.232741",
     "status": "completed"
    },
    "tags": []
   },
   "outputs": [
    {
     "data": {
      "text/html": [
       "<div>\n",
       "<style scoped>\n",
       "    .dataframe tbody tr th:only-of-type {\n",
       "        vertical-align: middle;\n",
       "    }\n",
       "\n",
       "    .dataframe tbody tr th {\n",
       "        vertical-align: top;\n",
       "    }\n",
       "\n",
       "    .dataframe thead th {\n",
       "        text-align: right;\n",
       "    }\n",
       "</style>\n",
       "<table border=\"1\" class=\"dataframe\">\n",
       "  <thead>\n",
       "    <tr style=\"text-align: right;\">\n",
       "      <th></th>\n",
       "      <th>Unnamed: 0</th>\n",
       "      <th>conversation id</th>\n",
       "      <th>author id</th>\n",
       "      <th>msg</th>\n",
       "      <th>time</th>\n",
       "      <th>predator</th>\n",
       "      <th>contara</th>\n",
       "    </tr>\n",
       "  </thead>\n",
       "  <tbody>\n",
       "    <tr>\n",
       "      <th>0</th>\n",
       "      <td>0</td>\n",
       "      <td>e621da5de598c9321a1d505ea95e6a2d</td>\n",
       "      <td>97964e7a9e8eb9cf78f2e4d7b2ff34c7</td>\n",
       "      <td>Hola.</td>\n",
       "      <td>03:20</td>\n",
       "      <td>0</td>\n",
       "      <td>1</td>\n",
       "    </tr>\n",
       "    <tr>\n",
       "      <th>1</th>\n",
       "      <td>1</td>\n",
       "      <td>e621da5de598c9321a1d505ea95e6a2d</td>\n",
       "      <td>0158d0d6781fc4d493f243d4caa49747</td>\n",
       "      <td>hi.</td>\n",
       "      <td>03:20</td>\n",
       "      <td>0</td>\n",
       "      <td>1</td>\n",
       "    </tr>\n",
       "    <tr>\n",
       "      <th>2</th>\n",
       "      <td>2</td>\n",
       "      <td>e621da5de598c9321a1d505ea95e6a2d</td>\n",
       "      <td>0158d0d6781fc4d493f243d4caa49747</td>\n",
       "      <td>whats up?</td>\n",
       "      <td>03:20</td>\n",
       "      <td>0</td>\n",
       "      <td>2</td>\n",
       "    </tr>\n",
       "    <tr>\n",
       "      <th>3</th>\n",
       "      <td>3</td>\n",
       "      <td>e621da5de598c9321a1d505ea95e6a2d</td>\n",
       "      <td>97964e7a9e8eb9cf78f2e4d7b2ff34c7</td>\n",
       "      <td>not a ton.</td>\n",
       "      <td>03:20</td>\n",
       "      <td>0</td>\n",
       "      <td>3</td>\n",
       "    </tr>\n",
       "    <tr>\n",
       "      <th>4</th>\n",
       "      <td>4</td>\n",
       "      <td>e621da5de598c9321a1d505ea95e6a2d</td>\n",
       "      <td>97964e7a9e8eb9cf78f2e4d7b2ff34c7</td>\n",
       "      <td>you?</td>\n",
       "      <td>03:20</td>\n",
       "      <td>0</td>\n",
       "      <td>1</td>\n",
       "    </tr>\n",
       "  </tbody>\n",
       "</table>\n",
       "</div>"
      ],
      "text/plain": [
       "   Unnamed: 0                   conversation id  \\\n",
       "0           0  e621da5de598c9321a1d505ea95e6a2d   \n",
       "1           1  e621da5de598c9321a1d505ea95e6a2d   \n",
       "2           2  e621da5de598c9321a1d505ea95e6a2d   \n",
       "3           3  e621da5de598c9321a1d505ea95e6a2d   \n",
       "4           4  e621da5de598c9321a1d505ea95e6a2d   \n",
       "\n",
       "                          author id         msg   time  predator  contara  \n",
       "0  97964e7a9e8eb9cf78f2e4d7b2ff34c7       Hola.  03:20         0        1  \n",
       "1  0158d0d6781fc4d493f243d4caa49747         hi.  03:20         0        1  \n",
       "2  0158d0d6781fc4d493f243d4caa49747   whats up?  03:20         0        2  \n",
       "3  97964e7a9e8eb9cf78f2e4d7b2ff34c7  not a ton.  03:20         0        3  \n",
       "4  97964e7a9e8eb9cf78f2e4d7b2ff34c7        you?  03:20         0        1  "
      ]
     },
     "execution_count": 13,
     "metadata": {},
     "output_type": "execute_result"
    }
   ],
   "source": [
    "data.head()"
   ]
  },
  {
   "cell_type": "code",
   "execution_count": 14,
   "metadata": {
    "execution": {
     "iopub.execute_input": "2021-03-04T22:51:45.820394Z",
     "iopub.status.busy": "2021-03-04T22:51:45.819642Z",
     "iopub.status.idle": "2021-03-04T22:51:54.492204Z",
     "shell.execute_reply": "2021-03-04T22:51:54.492769Z"
    },
    "papermill": {
     "duration": 8.853415,
     "end_time": "2021-03-04T22:51:54.492956",
     "exception": false,
     "start_time": "2021-03-04T22:51:45.639541",
     "status": "completed"
    },
    "tags": []
   },
   "outputs": [
    {
     "data": {
      "text/plain": [
       "Text(0, 0.5, 'contara')"
      ]
     },
     "execution_count": 14,
     "metadata": {},
     "output_type": "execute_result"
    },
    {
     "data": {
      "image/png": "[encoded data removed]",
      "text/plain": [
       "<Figure size 1152x576 with 1 Axes>"
      ]
     },
     "metadata": {},
     "output_type": "display_data"
    }
   ],
   "source": [
    "plt.figure(figsize=(16,8))\n",
    "sns.barplot(data = data, x = \"predator\", y = \"contara\")\n",
    "plt.title('cantidad de palabras segun predador/No predador', fontsize= 25)\n",
    "plt.xlabel('predator')\n",
    "plt.ylabel('contara')"
   ]
  },
  {
   "cell_type": "markdown",
   "metadata": {
    "papermill": {
     "duration": 0.176376,
     "end_time": "2021-03-04T22:51:54.850720",
     "exception": false,
     "start_time": "2021-03-04T22:51:54.674344",
     "status": "completed"
    },
    "tags": []
   },
   "source": [
    "### Predator=1"
   ]
  },
  {
   "cell_type": "code",
   "execution_count": 15,
   "metadata": {
    "execution": {
     "iopub.execute_input": "2021-03-04T22:51:55.398373Z",
     "iopub.status.busy": "2021-03-04T22:51:55.397392Z",
     "iopub.status.idle": "2021-03-04T22:51:55.422257Z",
     "shell.execute_reply": "2021-03-04T22:51:55.421451Z"
    },
    "papermill": {
     "duration": 0.356118,
     "end_time": "2021-03-04T22:51:55.422466",
     "exception": false,
     "start_time": "2021-03-04T22:51:55.066348",
     "status": "completed"
    },
    "tags": []
   },
   "outputs": [],
   "source": [
    "pred= data[data[\"predator\"]== 1]"
   ]
  },
  {
   "cell_type": "code",
   "execution_count": 16,
   "metadata": {
    "execution": {
     "iopub.execute_input": "2021-03-04T22:51:55.967983Z",
     "iopub.status.busy": "2021-03-04T22:51:55.966996Z",
     "iopub.status.idle": "2021-03-04T22:51:55.972342Z",
     "shell.execute_reply": "2021-03-04T22:51:55.971747Z"
    },
    "papermill": {
     "duration": 0.264167,
     "end_time": "2021-03-04T22:51:55.972476",
     "exception": false,
     "start_time": "2021-03-04T22:51:55.708309",
     "status": "completed"
    },
    "tags": []
   },
   "outputs": [
    {
     "data": {
      "text/plain": [
       "a03edc2f70bbebc73ef3ba3f06968360    2307\n",
       "fac3a2081264f1dbb943eaf7165d8fc3    2021\n",
       "c62283536cf6261e5ffbcb323c8a2571    1670\n",
       "0599cd3f7fc15849844468b0702ff593    1557\n",
       "6283fab0062e2eb309261acf647abd98    1070\n",
       "                                    ... \n",
       "02800e11fdb1b43595303709f2b38f8c      10\n",
       "04d42f7bb1eb41605dea74a8711f9fd0       2\n",
       "902cddc2765a0700c9d1d543c9a4d52f       2\n",
       "d50f114dde2edb12b72ecea83ebf63ce       2\n",
       "4c33926fc6765490b09943d81ec86469       1\n",
       "Name: author id, Length: 142, dtype: int64"
      ]
     },
     "execution_count": 16,
     "metadata": {},
     "output_type": "execute_result"
    }
   ],
   "source": [
    "pred_user=pred[\"author id\"].value_counts()\n",
    "pred_user"
   ]
  },
  {
   "cell_type": "markdown",
   "metadata": {
    "papermill": {
     "duration": 0.229135,
     "end_time": "2021-03-04T22:51:56.430401",
     "exception": false,
     "start_time": "2021-03-04T22:51:56.201266",
     "status": "completed"
    },
    "tags": []
   },
   "source": [
    "### Cantidad de predadores Sexuales"
   ]
  },
  {
   "cell_type": "code",
   "execution_count": 17,
   "metadata": {
    "execution": {
     "iopub.execute_input": "2021-03-04T22:51:56.842837Z",
     "iopub.status.busy": "2021-03-04T22:51:56.841941Z",
     "iopub.status.idle": "2021-03-04T22:51:56.845518Z",
     "shell.execute_reply": "2021-03-04T22:51:56.845989Z"
    },
    "papermill": {
     "duration": 0.186756,
     "end_time": "2021-03-04T22:51:56.846165",
     "exception": false,
     "start_time": "2021-03-04T22:51:56.659409",
     "status": "completed"
    },
    "tags": []
   },
   "outputs": [
    {
     "data": {
      "text/plain": [
       "(142,)"
      ]
     },
     "execution_count": 17,
     "metadata": {},
     "output_type": "execute_result"
    }
   ],
   "source": [
    "pred_user.shape"
   ]
  },
  {
   "cell_type": "markdown",
   "metadata": {
    "papermill": {
     "duration": 0.172339,
     "end_time": "2021-03-04T22:51:57.192280",
     "exception": false,
     "start_time": "2021-03-04T22:51:57.019941",
     "status": "completed"
    },
    "tags": []
   },
   "source": [
    "### Analisis individual del usuario con mas mensajes"
   ]
  },
  {
   "cell_type": "code",
   "execution_count": 18,
   "metadata": {
    "execution": {
     "iopub.execute_input": "2021-03-04T22:51:57.676068Z",
     "iopub.status.busy": "2021-03-04T22:51:57.675188Z",
     "iopub.status.idle": "2021-03-04T22:51:57.690360Z",
     "shell.execute_reply": "2021-03-04T22:51:57.690829Z"
    },
    "papermill": {
     "duration": 0.322438,
     "end_time": "2021-03-04T22:51:57.690987",
     "exception": false,
     "start_time": "2021-03-04T22:51:57.368549",
     "status": "completed"
    },
    "tags": []
   },
   "outputs": [
    {
     "data": {
      "text/html": [
       "<div>\n",
       "<style scoped>\n",
       "    .dataframe tbody tr th:only-of-type {\n",
       "        vertical-align: middle;\n",
       "    }\n",
       "\n",
       "    .dataframe tbody tr th {\n",
       "        vertical-align: top;\n",
       "    }\n",
       "\n",
       "    .dataframe thead th {\n",
       "        text-align: right;\n",
       "    }\n",
       "</style>\n",
       "<table border=\"1\" class=\"dataframe\">\n",
       "  <thead>\n",
       "    <tr style=\"text-align: right;\">\n",
       "      <th></th>\n",
       "      <th>Unnamed: 0</th>\n",
       "      <th>conversation id</th>\n",
       "      <th>author id</th>\n",
       "      <th>msg</th>\n",
       "      <th>time</th>\n",
       "      <th>predator</th>\n",
       "      <th>contara</th>\n",
       "    </tr>\n",
       "  </thead>\n",
       "  <tbody>\n",
       "    <tr>\n",
       "      <th>2487</th>\n",
       "      <td>2487</td>\n",
       "      <td>213e2838ea8be0cda7e54c087a20e418</td>\n",
       "      <td>a03edc2f70bbebc73ef3ba3f06968360</td>\n",
       "      <td>Hello</td>\n",
       "      <td>21:56</td>\n",
       "      <td>1</td>\n",
       "      <td>1</td>\n",
       "    </tr>\n",
       "    <tr>\n",
       "      <th>2489</th>\n",
       "      <td>2489</td>\n",
       "      <td>213e2838ea8be0cda7e54c087a20e418</td>\n",
       "      <td>a03edc2f70bbebc73ef3ba3f06968360</td>\n",
       "      <td>Whatcha doin?</td>\n",
       "      <td>21:57</td>\n",
       "      <td>1</td>\n",
       "      <td>2</td>\n",
       "    </tr>\n",
       "    <tr>\n",
       "      <th>2492</th>\n",
       "      <td>2492</td>\n",
       "      <td>213e2838ea8be0cda7e54c087a20e418</td>\n",
       "      <td>a03edc2f70bbebc73ef3ba3f06968360</td>\n",
       "      <td>Oh yeah hows brad and darla??? Lol</td>\n",
       "      <td>21:59</td>\n",
       "      <td>1</td>\n",
       "      <td>7</td>\n",
       "    </tr>\n",
       "    <tr>\n",
       "      <th>2495</th>\n",
       "      <td>2495</td>\n",
       "      <td>213e2838ea8be0cda7e54c087a20e418</td>\n",
       "      <td>a03edc2f70bbebc73ef3ba3f06968360</td>\n",
       "      <td>Thxs ;;)</td>\n",
       "      <td>22:00</td>\n",
       "      <td>1</td>\n",
       "      <td>2</td>\n",
       "    </tr>\n",
       "    <tr>\n",
       "      <th>2497</th>\n",
       "      <td>2497</td>\n",
       "      <td>213e2838ea8be0cda7e54c087a20e418</td>\n",
       "      <td>a03edc2f70bbebc73ef3ba3f06968360</td>\n",
       "      <td>Oh i c lol</td>\n",
       "      <td>22:00</td>\n",
       "      <td>1</td>\n",
       "      <td>4</td>\n",
       "    </tr>\n",
       "    <tr>\n",
       "      <th>2498</th>\n",
       "      <td>2498</td>\n",
       "      <td>213e2838ea8be0cda7e54c087a20e418</td>\n",
       "      <td>a03edc2f70bbebc73ef3ba3f06968360</td>\n",
       "      <td>Idk</td>\n",
       "      <td>22:00</td>\n",
       "      <td>1</td>\n",
       "      <td>1</td>\n",
       "    </tr>\n",
       "    <tr>\n",
       "      <th>2499</th>\n",
       "      <td>2499</td>\n",
       "      <td>213e2838ea8be0cda7e54c087a20e418</td>\n",
       "      <td>a03edc2f70bbebc73ef3ba3f06968360</td>\n",
       "      <td>Yeah school is kinda boring.</td>\n",
       "      <td>22:03</td>\n",
       "      <td>1</td>\n",
       "      <td>5</td>\n",
       "    </tr>\n",
       "    <tr>\n",
       "      <th>2501</th>\n",
       "      <td>2501</td>\n",
       "      <td>213e2838ea8be0cda7e54c087a20e418</td>\n",
       "      <td>a03edc2f70bbebc73ef3ba3f06968360</td>\n",
       "      <td>They just do when u get older time slows down lol</td>\n",
       "      <td>22:05</td>\n",
       "      <td>1</td>\n",
       "      <td>11</td>\n",
       "    </tr>\n",
       "    <tr>\n",
       "      <th>2503</th>\n",
       "      <td>2503</td>\n",
       "      <td>213e2838ea8be0cda7e54c087a20e418</td>\n",
       "      <td>a03edc2f70bbebc73ef3ba3f06968360</td>\n",
       "      <td>Yeah</td>\n",
       "      <td>22:06</td>\n",
       "      <td>1</td>\n",
       "      <td>1</td>\n",
       "    </tr>\n",
       "    <tr>\n",
       "      <th>2504</th>\n",
       "      <td>2504</td>\n",
       "      <td>213e2838ea8be0cda7e54c087a20e418</td>\n",
       "      <td>a03edc2f70bbebc73ef3ba3f06968360</td>\n",
       "      <td>Well i going to eat i chat with u later.</td>\n",
       "      <td>22:07</td>\n",
       "      <td>1</td>\n",
       "      <td>10</td>\n",
       "    </tr>\n",
       "  </tbody>\n",
       "</table>\n",
       "</div>"
      ],
      "text/plain": [
       "      Unnamed: 0                   conversation id  \\\n",
       "2487        2487  213e2838ea8be0cda7e54c087a20e418   \n",
       "2489        2489  213e2838ea8be0cda7e54c087a20e418   \n",
       "2492        2492  213e2838ea8be0cda7e54c087a20e418   \n",
       "2495        2495  213e2838ea8be0cda7e54c087a20e418   \n",
       "2497        2497  213e2838ea8be0cda7e54c087a20e418   \n",
       "2498        2498  213e2838ea8be0cda7e54c087a20e418   \n",
       "2499        2499  213e2838ea8be0cda7e54c087a20e418   \n",
       "2501        2501  213e2838ea8be0cda7e54c087a20e418   \n",
       "2503        2503  213e2838ea8be0cda7e54c087a20e418   \n",
       "2504        2504  213e2838ea8be0cda7e54c087a20e418   \n",
       "\n",
       "                             author id  \\\n",
       "2487  a03edc2f70bbebc73ef3ba3f06968360   \n",
       "2489  a03edc2f70bbebc73ef3ba3f06968360   \n",
       "2492  a03edc2f70bbebc73ef3ba3f06968360   \n",
       "2495  a03edc2f70bbebc73ef3ba3f06968360   \n",
       "2497  a03edc2f70bbebc73ef3ba3f06968360   \n",
       "2498  a03edc2f70bbebc73ef3ba3f06968360   \n",
       "2499  a03edc2f70bbebc73ef3ba3f06968360   \n",
       "2501  a03edc2f70bbebc73ef3ba3f06968360   \n",
       "2503  a03edc2f70bbebc73ef3ba3f06968360   \n",
       "2504  a03edc2f70bbebc73ef3ba3f06968360   \n",
       "\n",
       "                                                    msg   time  predator  \\\n",
       "2487                                              Hello  21:56         1   \n",
       "2489                                      Whatcha doin?  21:57         1   \n",
       "2492                 Oh yeah hows brad and darla??? Lol  21:59         1   \n",
       "2495                                           Thxs ;;)  22:00         1   \n",
       "2497                                         Oh i c lol  22:00         1   \n",
       "2498                                                Idk  22:00         1   \n",
       "2499                       Yeah school is kinda boring.  22:03         1   \n",
       "2501  They just do when u get older time slows down lol  22:05         1   \n",
       "2503                                               Yeah  22:06         1   \n",
       "2504           Well i going to eat i chat with u later.  22:07         1   \n",
       "\n",
       "      contara  \n",
       "2487        1  \n",
       "2489        2  \n",
       "2492        7  \n",
       "2495        2  \n",
       "2497        4  \n",
       "2498        1  \n",
       "2499        5  \n",
       "2501       11  \n",
       "2503        1  \n",
       "2504       10  "
      ]
     },
     "execution_count": 18,
     "metadata": {},
     "output_type": "execute_result"
    }
   ],
   "source": [
    "user_unique=data[data[\"author id\"] == \"a03edc2f70bbebc73ef3ba3f06968360\" ]\n",
    "user_unique.head(10)"
   ]
  },
  {
   "cell_type": "code",
   "execution_count": 19,
   "metadata": {
    "execution": {
     "iopub.execute_input": "2021-03-04T22:51:58.051547Z",
     "iopub.status.busy": "2021-03-04T22:51:58.050617Z",
     "iopub.status.idle": "2021-03-04T22:51:58.054650Z",
     "shell.execute_reply": "2021-03-04T22:51:58.055244Z"
    },
    "papermill": {
     "duration": 0.194012,
     "end_time": "2021-03-04T22:51:58.055414",
     "exception": false,
     "start_time": "2021-03-04T22:51:57.861402",
     "status": "completed"
    },
    "tags": []
   },
   "outputs": [
    {
     "data": {
      "text/html": [
       "<div>\n",
       "<style scoped>\n",
       "    .dataframe tbody tr th:only-of-type {\n",
       "        vertical-align: middle;\n",
       "    }\n",
       "\n",
       "    .dataframe tbody tr th {\n",
       "        vertical-align: top;\n",
       "    }\n",
       "\n",
       "    .dataframe thead th {\n",
       "        text-align: right;\n",
       "    }\n",
       "</style>\n",
       "<table border=\"1\" class=\"dataframe\">\n",
       "  <thead>\n",
       "    <tr style=\"text-align: right;\">\n",
       "      <th></th>\n",
       "      <th>Unnamed: 0</th>\n",
       "      <th>conversation id</th>\n",
       "      <th>author id</th>\n",
       "      <th>msg</th>\n",
       "      <th>time</th>\n",
       "      <th>predator</th>\n",
       "      <th>contara</th>\n",
       "    </tr>\n",
       "  </thead>\n",
       "  <tbody>\n",
       "    <tr>\n",
       "      <th>899464</th>\n",
       "      <td>899467</td>\n",
       "      <td>7950df3ed8868871507820bb02c09998</td>\n",
       "      <td>a03edc2f70bbebc73ef3ba3f06968360</td>\n",
       "      <td>cool and get what</td>\n",
       "      <td>15:55</td>\n",
       "      <td>1</td>\n",
       "      <td>4</td>\n",
       "    </tr>\n",
       "    <tr>\n",
       "      <th>899467</th>\n",
       "      <td>899470</td>\n",
       "      <td>7950df3ed8868871507820bb02c09998</td>\n",
       "      <td>a03edc2f70bbebc73ef3ba3f06968360</td>\n",
       "      <td>nice</td>\n",
       "      <td>15:56</td>\n",
       "      <td>1</td>\n",
       "      <td>1</td>\n",
       "    </tr>\n",
       "    <tr>\n",
       "      <th>899469</th>\n",
       "      <td>899472</td>\n",
       "      <td>7950df3ed8868871507820bb02c09998</td>\n",
       "      <td>a03edc2f70bbebc73ef3ba3f06968360</td>\n",
       "      <td>i missed you too baby i cant wait to see you</td>\n",
       "      <td>15:56</td>\n",
       "      <td>1</td>\n",
       "      <td>11</td>\n",
       "    </tr>\n",
       "    <tr>\n",
       "      <th>899471</th>\n",
       "      <td>899474</td>\n",
       "      <td>7950df3ed8868871507820bb02c09998</td>\n",
       "      <td>a03edc2f70bbebc73ef3ba3f06968360</td>\n",
       "      <td>yuppers</td>\n",
       "      <td>15:57</td>\n",
       "      <td>1</td>\n",
       "      <td>1</td>\n",
       "    </tr>\n",
       "    <tr>\n",
       "      <th>899473</th>\n",
       "      <td>899476</td>\n",
       "      <td>7950df3ed8868871507820bb02c09998</td>\n",
       "      <td>a03edc2f70bbebc73ef3ba3f06968360</td>\n",
       "      <td>am flyin</td>\n",
       "      <td>15:57</td>\n",
       "      <td>1</td>\n",
       "      <td>2</td>\n",
       "    </tr>\n",
       "    <tr>\n",
       "      <th>899475</th>\n",
       "      <td>899478</td>\n",
       "      <td>7950df3ed8868871507820bb02c09998</td>\n",
       "      <td>a03edc2f70bbebc73ef3ba3f06968360</td>\n",
       "      <td>tomorrow moring 7am</td>\n",
       "      <td>15:57</td>\n",
       "      <td>1</td>\n",
       "      <td>3</td>\n",
       "    </tr>\n",
       "    <tr>\n",
       "      <th>899478</th>\n",
       "      <td>899481</td>\n",
       "      <td>7950df3ed8868871507820bb02c09998</td>\n",
       "      <td>a03edc2f70bbebc73ef3ba3f06968360</td>\n",
       "      <td>was suppose to but the my flight got canseled</td>\n",
       "      <td>15:59</td>\n",
       "      <td>1</td>\n",
       "      <td>9</td>\n",
       "    </tr>\n",
       "    <tr>\n",
       "      <th>899479</th>\n",
       "      <td>899482</td>\n",
       "      <td>7950df3ed8868871507820bb02c09998</td>\n",
       "      <td>a03edc2f70bbebc73ef3ba3f06968360</td>\n",
       "      <td>:-*</td>\n",
       "      <td>15:59</td>\n",
       "      <td>1</td>\n",
       "      <td>1</td>\n",
       "    </tr>\n",
       "    <tr>\n",
       "      <th>899481</th>\n",
       "      <td>899484</td>\n",
       "      <td>7950df3ed8868871507820bb02c09998</td>\n",
       "      <td>a03edc2f70bbebc73ef3ba3f06968360</td>\n",
       "      <td>its ok</td>\n",
       "      <td>16:00</td>\n",
       "      <td>1</td>\n",
       "      <td>2</td>\n",
       "    </tr>\n",
       "    <tr>\n",
       "      <th>899482</th>\n",
       "      <td>899485</td>\n",
       "      <td>7950df3ed8868871507820bb02c09998</td>\n",
       "      <td>a03edc2f70bbebc73ef3ba3f06968360</td>\n",
       "      <td>i still love you</td>\n",
       "      <td>16:00</td>\n",
       "      <td>1</td>\n",
       "      <td>4</td>\n",
       "    </tr>\n",
       "  </tbody>\n",
       "</table>\n",
       "</div>"
      ],
      "text/plain": [
       "        Unnamed: 0                   conversation id  \\\n",
       "899464      899467  7950df3ed8868871507820bb02c09998   \n",
       "899467      899470  7950df3ed8868871507820bb02c09998   \n",
       "899469      899472  7950df3ed8868871507820bb02c09998   \n",
       "899471      899474  7950df3ed8868871507820bb02c09998   \n",
       "899473      899476  7950df3ed8868871507820bb02c09998   \n",
       "899475      899478  7950df3ed8868871507820bb02c09998   \n",
       "899478      899481  7950df3ed8868871507820bb02c09998   \n",
       "899479      899482  7950df3ed8868871507820bb02c09998   \n",
       "899481      899484  7950df3ed8868871507820bb02c09998   \n",
       "899482      899485  7950df3ed8868871507820bb02c09998   \n",
       "\n",
       "                               author id  \\\n",
       "899464  a03edc2f70bbebc73ef3ba3f06968360   \n",
       "899467  a03edc2f70bbebc73ef3ba3f06968360   \n",
       "899469  a03edc2f70bbebc73ef3ba3f06968360   \n",
       "899471  a03edc2f70bbebc73ef3ba3f06968360   \n",
       "899473  a03edc2f70bbebc73ef3ba3f06968360   \n",
       "899475  a03edc2f70bbebc73ef3ba3f06968360   \n",
       "899478  a03edc2f70bbebc73ef3ba3f06968360   \n",
       "899479  a03edc2f70bbebc73ef3ba3f06968360   \n",
       "899481  a03edc2f70bbebc73ef3ba3f06968360   \n",
       "899482  a03edc2f70bbebc73ef3ba3f06968360   \n",
       "\n",
       "                                                  msg   time  predator  \\\n",
       "899464                              cool and get what  15:55         1   \n",
       "899467                                           nice  15:56         1   \n",
       "899469   i missed you too baby i cant wait to see you  15:56         1   \n",
       "899471                                        yuppers  15:57         1   \n",
       "899473                                       am flyin  15:57         1   \n",
       "899475                            tomorrow moring 7am  15:57         1   \n",
       "899478  was suppose to but the my flight got canseled  15:59         1   \n",
       "899479                                            :-*  15:59         1   \n",
       "899481                                         its ok  16:00         1   \n",
       "899482                               i still love you  16:00         1   \n",
       "\n",
       "        contara  \n",
       "899464        4  \n",
       "899467        1  \n",
       "899469       11  \n",
       "899471        1  \n",
       "899473        2  \n",
       "899475        3  \n",
       "899478        9  \n",
       "899479        1  \n",
       "899481        2  \n",
       "899482        4  "
      ]
     },
     "execution_count": 19,
     "metadata": {},
     "output_type": "execute_result"
    }
   ],
   "source": [
    "user_unique.tail(10)"
   ]
  },
  {
   "cell_type": "markdown",
   "metadata": {
    "papermill": {
     "duration": 0.177425,
     "end_time": "2021-03-04T22:51:58.408739",
     "exception": false,
     "start_time": "2021-03-04T22:51:58.231314",
     "status": "completed"
    },
    "tags": []
   },
   "source": [
    "### Analisis Individual de conversacion"
   ]
  },
  {
   "cell_type": "code",
   "execution_count": 20,
   "metadata": {
    "execution": {
     "iopub.execute_input": "2021-03-04T22:51:58.770903Z",
     "iopub.status.busy": "2021-03-04T22:51:58.769963Z",
     "iopub.status.idle": "2021-03-04T22:51:58.777754Z",
     "shell.execute_reply": "2021-03-04T22:51:58.777282Z"
    },
    "papermill": {
     "duration": 0.195993,
     "end_time": "2021-03-04T22:51:58.777890",
     "exception": false,
     "start_time": "2021-03-04T22:51:58.581897",
     "status": "completed"
    },
    "tags": []
   },
   "outputs": [
    {
     "data": {
      "text/plain": [
       "629a3f3a95f4d4253f0def5f6e4434f6    735\n",
       "5c7e65f02a4ff4930f5cff4e44603609    515\n",
       "83d02741da50d8a84485cb8d0cb39b88    475\n",
       "57fac62074b0602711bf4ba54806f146    430\n",
       "3c689a8b53787681208eb16e5618775f    391\n",
       "                                   ... \n",
       "3984214aaf5f870d575a4f488385ffc4      1\n",
       "4b61765a7ff31f0e951dda0d957e0c3b      1\n",
       "07c9aee8958755db53c0ed7521a1cf68      1\n",
       "46aec5c8cb99eb661aa3c039b7be6f28      1\n",
       "af9923a77e580a5196f01ab0910fed65      1\n",
       "Name: conversation id, Length: 2016, dtype: int64"
      ]
     },
     "execution_count": 20,
     "metadata": {},
     "output_type": "execute_result"
    }
   ],
   "source": [
    "pred_user_conv=pred[\"conversation id\"].value_counts()\n",
    "pred_user_conv"
   ]
  },
  {
   "cell_type": "code",
   "execution_count": 21,
   "metadata": {
    "execution": {
     "iopub.execute_input": "2021-03-04T22:51:59.133908Z",
     "iopub.status.busy": "2021-03-04T22:51:59.132956Z",
     "iopub.status.idle": "2021-03-04T22:51:59.137440Z",
     "shell.execute_reply": "2021-03-04T22:51:59.136808Z"
    },
    "papermill": {
     "duration": 0.183751,
     "end_time": "2021-03-04T22:51:59.137581",
     "exception": false,
     "start_time": "2021-03-04T22:51:58.953830",
     "status": "completed"
    },
    "tags": []
   },
   "outputs": [
    {
     "data": {
      "text/plain": [
       "(2016,)"
      ]
     },
     "execution_count": 21,
     "metadata": {},
     "output_type": "execute_result"
    }
   ],
   "source": [
    "pred_user_conv.shape"
   ]
  },
  {
   "cell_type": "code",
   "execution_count": 22,
   "metadata": {
    "execution": {
     "iopub.execute_input": "2021-03-04T22:51:59.636621Z",
     "iopub.status.busy": "2021-03-04T22:51:59.635650Z",
     "iopub.status.idle": "2021-03-04T22:51:59.651567Z",
     "shell.execute_reply": "2021-03-04T22:51:59.652218Z"
    },
    "papermill": {
     "duration": 0.336396,
     "end_time": "2021-03-04T22:51:59.652401",
     "exception": false,
     "start_time": "2021-03-04T22:51:59.316005",
     "status": "completed"
    },
    "tags": []
   },
   "outputs": [
    {
     "data": {
      "text/html": [
       "<div>\n",
       "<style scoped>\n",
       "    .dataframe tbody tr th:only-of-type {\n",
       "        vertical-align: middle;\n",
       "    }\n",
       "\n",
       "    .dataframe tbody tr th {\n",
       "        vertical-align: top;\n",
       "    }\n",
       "\n",
       "    .dataframe thead th {\n",
       "        text-align: right;\n",
       "    }\n",
       "</style>\n",
       "<table border=\"1\" class=\"dataframe\">\n",
       "  <thead>\n",
       "    <tr style=\"text-align: right;\">\n",
       "      <th></th>\n",
       "      <th>Unnamed: 0</th>\n",
       "      <th>conversation id</th>\n",
       "      <th>author id</th>\n",
       "      <th>msg</th>\n",
       "      <th>time</th>\n",
       "      <th>predator</th>\n",
       "      <th>contara</th>\n",
       "    </tr>\n",
       "  </thead>\n",
       "  <tbody>\n",
       "    <tr>\n",
       "      <th>111018</th>\n",
       "      <td>111018</td>\n",
       "      <td>629a3f3a95f4d4253f0def5f6e4434f6</td>\n",
       "      <td>2a751a42619e8a40bf5115cb62135a69</td>\n",
       "      <td>BOO</td>\n",
       "      <td>19:30</td>\n",
       "      <td>1</td>\n",
       "      <td>1</td>\n",
       "    </tr>\n",
       "    <tr>\n",
       "      <th>111019</th>\n",
       "      <td>111019</td>\n",
       "      <td>629a3f3a95f4d4253f0def5f6e4434f6</td>\n",
       "      <td>6a37e1546ace47686185ac3fab4f99b4</td>\n",
       "      <td>:)</td>\n",
       "      <td>19:31</td>\n",
       "      <td>0</td>\n",
       "      <td>1</td>\n",
       "    </tr>\n",
       "    <tr>\n",
       "      <th>111020</th>\n",
       "      <td>111020</td>\n",
       "      <td>629a3f3a95f4d4253f0def5f6e4434f6</td>\n",
       "      <td>2a751a42619e8a40bf5115cb62135a69</td>\n",
       "      <td>how are you ?</td>\n",
       "      <td>19:31</td>\n",
       "      <td>1</td>\n",
       "      <td>4</td>\n",
       "    </tr>\n",
       "    <tr>\n",
       "      <th>111021</th>\n",
       "      <td>111021</td>\n",
       "      <td>629a3f3a95f4d4253f0def5f6e4434f6</td>\n",
       "      <td>6a37e1546ace47686185ac3fab4f99b4</td>\n",
       "      <td>feelin better now :D</td>\n",
       "      <td>19:32</td>\n",
       "      <td>0</td>\n",
       "      <td>4</td>\n",
       "    </tr>\n",
       "    <tr>\n",
       "      <th>111022</th>\n",
       "      <td>111022</td>\n",
       "      <td>629a3f3a95f4d4253f0def5f6e4434f6</td>\n",
       "      <td>2a751a42619e8a40bf5115cb62135a69</td>\n",
       "      <td>oh thats good</td>\n",
       "      <td>19:32</td>\n",
       "      <td>1</td>\n",
       "      <td>3</td>\n",
       "    </tr>\n",
       "    <tr>\n",
       "      <th>111023</th>\n",
       "      <td>111023</td>\n",
       "      <td>629a3f3a95f4d4253f0def5f6e4434f6</td>\n",
       "      <td>2a751a42619e8a40bf5115cb62135a69</td>\n",
       "      <td>just getting out of bed?</td>\n",
       "      <td>19:32</td>\n",
       "      <td>1</td>\n",
       "      <td>5</td>\n",
       "    </tr>\n",
       "    <tr>\n",
       "      <th>111024</th>\n",
       "      <td>111024</td>\n",
       "      <td>629a3f3a95f4d4253f0def5f6e4434f6</td>\n",
       "      <td>6a37e1546ace47686185ac3fab4f99b4</td>\n",
       "      <td>lol yea had good nap</td>\n",
       "      <td>19:33</td>\n",
       "      <td>0</td>\n",
       "      <td>5</td>\n",
       "    </tr>\n",
       "    <tr>\n",
       "      <th>111025</th>\n",
       "      <td>111025</td>\n",
       "      <td>629a3f3a95f4d4253f0def5f6e4434f6</td>\n",
       "      <td>2a751a42619e8a40bf5115cb62135a69</td>\n",
       "      <td>oh</td>\n",
       "      <td>19:33</td>\n",
       "      <td>1</td>\n",
       "      <td>1</td>\n",
       "    </tr>\n",
       "    <tr>\n",
       "      <th>111026</th>\n",
       "      <td>111026</td>\n",
       "      <td>629a3f3a95f4d4253f0def5f6e4434f6</td>\n",
       "      <td>2a751a42619e8a40bf5115cb62135a69</td>\n",
       "      <td>how was your nap?</td>\n",
       "      <td>19:33</td>\n",
       "      <td>1</td>\n",
       "      <td>4</td>\n",
       "    </tr>\n",
       "    <tr>\n",
       "      <th>111027</th>\n",
       "      <td>111027</td>\n",
       "      <td>629a3f3a95f4d4253f0def5f6e4434f6</td>\n",
       "      <td>2a751a42619e8a40bf5115cb62135a69</td>\n",
       "      <td>still sleepy?</td>\n",
       "      <td>19:34</td>\n",
       "      <td>1</td>\n",
       "      <td>2</td>\n",
       "    </tr>\n",
       "  </tbody>\n",
       "</table>\n",
       "</div>"
      ],
      "text/plain": [
       "        Unnamed: 0                   conversation id  \\\n",
       "111018      111018  629a3f3a95f4d4253f0def5f6e4434f6   \n",
       "111019      111019  629a3f3a95f4d4253f0def5f6e4434f6   \n",
       "111020      111020  629a3f3a95f4d4253f0def5f6e4434f6   \n",
       "111021      111021  629a3f3a95f4d4253f0def5f6e4434f6   \n",
       "111022      111022  629a3f3a95f4d4253f0def5f6e4434f6   \n",
       "111023      111023  629a3f3a95f4d4253f0def5f6e4434f6   \n",
       "111024      111024  629a3f3a95f4d4253f0def5f6e4434f6   \n",
       "111025      111025  629a3f3a95f4d4253f0def5f6e4434f6   \n",
       "111026      111026  629a3f3a95f4d4253f0def5f6e4434f6   \n",
       "111027      111027  629a3f3a95f4d4253f0def5f6e4434f6   \n",
       "\n",
       "                               author id                       msg   time  \\\n",
       "111018  2a751a42619e8a40bf5115cb62135a69                       BOO  19:30   \n",
       "111019  6a37e1546ace47686185ac3fab4f99b4                        :)  19:31   \n",
       "111020  2a751a42619e8a40bf5115cb62135a69             how are you ?  19:31   \n",
       "111021  6a37e1546ace47686185ac3fab4f99b4      feelin better now :D  19:32   \n",
       "111022  2a751a42619e8a40bf5115cb62135a69             oh thats good  19:32   \n",
       "111023  2a751a42619e8a40bf5115cb62135a69  just getting out of bed?  19:32   \n",
       "111024  6a37e1546ace47686185ac3fab4f99b4      lol yea had good nap  19:33   \n",
       "111025  2a751a42619e8a40bf5115cb62135a69                        oh  19:33   \n",
       "111026  2a751a42619e8a40bf5115cb62135a69         how was your nap?  19:33   \n",
       "111027  2a751a42619e8a40bf5115cb62135a69             still sleepy?  19:34   \n",
       "\n",
       "        predator  contara  \n",
       "111018         1        1  \n",
       "111019         0        1  \n",
       "111020         1        4  \n",
       "111021         0        4  \n",
       "111022         1        3  \n",
       "111023         1        5  \n",
       "111024         0        5  \n",
       "111025         1        1  \n",
       "111026         1        4  \n",
       "111027         1        2  "
      ]
     },
     "execution_count": 22,
     "metadata": {},
     "output_type": "execute_result"
    }
   ],
   "source": [
    "conv_unique=data[data[\"conversation id\"] == \"629a3f3a95f4d4253f0def5f6e4434f6\" ]\n",
    "conv_unique.head(10)"
   ]
  },
  {
   "cell_type": "code",
   "execution_count": 23,
   "metadata": {
    "execution": {
     "iopub.execute_input": "2021-03-04T22:52:00.028311Z",
     "iopub.status.busy": "2021-03-04T22:52:00.027230Z",
     "iopub.status.idle": "2021-03-04T22:52:00.031008Z",
     "shell.execute_reply": "2021-03-04T22:52:00.031586Z"
    },
    "papermill": {
     "duration": 0.204789,
     "end_time": "2021-03-04T22:52:00.031753",
     "exception": false,
     "start_time": "2021-03-04T22:51:59.826964",
     "status": "completed"
    },
    "tags": []
   },
   "outputs": [
    {
     "data": {
      "text/html": [
       "<div>\n",
       "<style scoped>\n",
       "    .dataframe tbody tr th:only-of-type {\n",
       "        vertical-align: middle;\n",
       "    }\n",
       "\n",
       "    .dataframe tbody tr th {\n",
       "        vertical-align: top;\n",
       "    }\n",
       "\n",
       "    .dataframe thead th {\n",
       "        text-align: right;\n",
       "    }\n",
       "</style>\n",
       "<table border=\"1\" class=\"dataframe\">\n",
       "  <thead>\n",
       "    <tr style=\"text-align: right;\">\n",
       "      <th></th>\n",
       "      <th>Unnamed: 0</th>\n",
       "      <th>conversation id</th>\n",
       "      <th>author id</th>\n",
       "      <th>msg</th>\n",
       "      <th>time</th>\n",
       "      <th>predator</th>\n",
       "      <th>contara</th>\n",
       "    </tr>\n",
       "  </thead>\n",
       "  <tbody>\n",
       "    <tr>\n",
       "      <th>112174</th>\n",
       "      <td>112174</td>\n",
       "      <td>629a3f3a95f4d4253f0def5f6e4434f6</td>\n",
       "      <td>6a37e1546ace47686185ac3fab4f99b4</td>\n",
       "      <td>&gt;:D&lt;:-*:x</td>\n",
       "      <td>01:42</td>\n",
       "      <td>0</td>\n",
       "      <td>1</td>\n",
       "    </tr>\n",
       "    <tr>\n",
       "      <th>112175</th>\n",
       "      <td>112175</td>\n",
       "      <td>629a3f3a95f4d4253f0def5f6e4434f6</td>\n",
       "      <td>6a37e1546ace47686185ac3fab4f99b4</td>\n",
       "      <td>dont let bed bugs bute</td>\n",
       "      <td>01:42</td>\n",
       "      <td>0</td>\n",
       "      <td>5</td>\n",
       "    </tr>\n",
       "    <tr>\n",
       "      <th>112176</th>\n",
       "      <td>112176</td>\n",
       "      <td>629a3f3a95f4d4253f0def5f6e4434f6</td>\n",
       "      <td>2a751a42619e8a40bf5115cb62135a69</td>\n",
       "      <td>and dont let the bed bugs bite</td>\n",
       "      <td>01:42</td>\n",
       "      <td>1</td>\n",
       "      <td>7</td>\n",
       "    </tr>\n",
       "    <tr>\n",
       "      <th>112177</th>\n",
       "      <td>112177</td>\n",
       "      <td>629a3f3a95f4d4253f0def5f6e4434f6</td>\n",
       "      <td>6a37e1546ace47686185ac3fab4f99b4</td>\n",
       "      <td>bite lol</td>\n",
       "      <td>01:42</td>\n",
       "      <td>0</td>\n",
       "      <td>2</td>\n",
       "    </tr>\n",
       "    <tr>\n",
       "      <th>112178</th>\n",
       "      <td>112178</td>\n",
       "      <td>629a3f3a95f4d4253f0def5f6e4434f6</td>\n",
       "      <td>2a751a42619e8a40bf5115cb62135a69</td>\n",
       "      <td>:P</td>\n",
       "      <td>01:42</td>\n",
       "      <td>1</td>\n",
       "      <td>1</td>\n",
       "    </tr>\n",
       "    <tr>\n",
       "      <th>112179</th>\n",
       "      <td>112179</td>\n",
       "      <td>629a3f3a95f4d4253f0def5f6e4434f6</td>\n",
       "      <td>2a751a42619e8a40bf5115cb62135a69</td>\n",
       "      <td>bye sweet chloe</td>\n",
       "      <td>01:42</td>\n",
       "      <td>1</td>\n",
       "      <td>3</td>\n",
       "    </tr>\n",
       "    <tr>\n",
       "      <th>112180</th>\n",
       "      <td>112180</td>\n",
       "      <td>629a3f3a95f4d4253f0def5f6e4434f6</td>\n",
       "      <td>6a37e1546ace47686185ac3fab4f99b4</td>\n",
       "      <td>bye sweeeter jerry</td>\n",
       "      <td>01:42</td>\n",
       "      <td>0</td>\n",
       "      <td>3</td>\n",
       "    </tr>\n",
       "    <tr>\n",
       "      <th>112181</th>\n",
       "      <td>112181</td>\n",
       "      <td>629a3f3a95f4d4253f0def5f6e4434f6</td>\n",
       "      <td>2a751a42619e8a40bf5115cb62135a69</td>\n",
       "      <td>;)</td>\n",
       "      <td>01:43</td>\n",
       "      <td>1</td>\n",
       "      <td>1</td>\n",
       "    </tr>\n",
       "    <tr>\n",
       "      <th>112182</th>\n",
       "      <td>112182</td>\n",
       "      <td>629a3f3a95f4d4253f0def5f6e4434f6</td>\n",
       "      <td>6a37e1546ace47686185ac3fab4f99b4</td>\n",
       "      <td>&gt;:D&lt;</td>\n",
       "      <td>01:43</td>\n",
       "      <td>0</td>\n",
       "      <td>1</td>\n",
       "    </tr>\n",
       "    <tr>\n",
       "      <th>112183</th>\n",
       "      <td>112183</td>\n",
       "      <td>629a3f3a95f4d4253f0def5f6e4434f6</td>\n",
       "      <td>2a751a42619e8a40bf5115cb62135a69</td>\n",
       "      <td>&gt;:D&lt;:</td>\n",
       "      <td>01:43</td>\n",
       "      <td>1</td>\n",
       "      <td>1</td>\n",
       "    </tr>\n",
       "  </tbody>\n",
       "</table>\n",
       "</div>"
      ],
      "text/plain": [
       "        Unnamed: 0                   conversation id  \\\n",
       "112174      112174  629a3f3a95f4d4253f0def5f6e4434f6   \n",
       "112175      112175  629a3f3a95f4d4253f0def5f6e4434f6   \n",
       "112176      112176  629a3f3a95f4d4253f0def5f6e4434f6   \n",
       "112177      112177  629a3f3a95f4d4253f0def5f6e4434f6   \n",
       "112178      112178  629a3f3a95f4d4253f0def5f6e4434f6   \n",
       "112179      112179  629a3f3a95f4d4253f0def5f6e4434f6   \n",
       "112180      112180  629a3f3a95f4d4253f0def5f6e4434f6   \n",
       "112181      112181  629a3f3a95f4d4253f0def5f6e4434f6   \n",
       "112182      112182  629a3f3a95f4d4253f0def5f6e4434f6   \n",
       "112183      112183  629a3f3a95f4d4253f0def5f6e4434f6   \n",
       "\n",
       "                               author id                             msg  \\\n",
       "112174  6a37e1546ace47686185ac3fab4f99b4                       >:D<:-*:x   \n",
       "112175  6a37e1546ace47686185ac3fab4f99b4          dont let bed bugs bute   \n",
       "112176  2a751a42619e8a40bf5115cb62135a69  and dont let the bed bugs bite   \n",
       "112177  6a37e1546ace47686185ac3fab4f99b4                        bite lol   \n",
       "112178  2a751a42619e8a40bf5115cb62135a69                              :P   \n",
       "112179  2a751a42619e8a40bf5115cb62135a69                 bye sweet chloe   \n",
       "112180  6a37e1546ace47686185ac3fab4f99b4              bye sweeeter jerry   \n",
       "112181  2a751a42619e8a40bf5115cb62135a69                              ;)   \n",
       "112182  6a37e1546ace47686185ac3fab4f99b4                            >:D<   \n",
       "112183  2a751a42619e8a40bf5115cb62135a69                           >:D<:   \n",
       "\n",
       "         time  predator  contara  \n",
       "112174  01:42         0        1  \n",
       "112175  01:42         0        5  \n",
       "112176  01:42         1        7  \n",
       "112177  01:42         0        2  \n",
       "112178  01:42         1        1  \n",
       "112179  01:42         1        3  \n",
       "112180  01:42         0        3  \n",
       "112181  01:43         1        1  \n",
       "112182  01:43         0        1  \n",
       "112183  01:43         1        1  "
      ]
     },
     "execution_count": 23,
     "metadata": {},
     "output_type": "execute_result"
    }
   ],
   "source": [
    "conv_unique.tail(10)"
   ]
  },
  {
   "cell_type": "markdown",
   "metadata": {
    "papermill": {
     "duration": 0.197992,
     "end_time": "2021-03-04T22:52:00.405846",
     "exception": false,
     "start_time": "2021-03-04T22:52:00.207854",
     "status": "completed"
    },
    "tags": []
   },
   "source": [
    "### Columnas con solo un valor"
   ]
  },
  {
   "cell_type": "code",
   "execution_count": 24,
   "metadata": {
    "execution": {
     "iopub.execute_input": "2021-03-04T22:52:00.764025Z",
     "iopub.status.busy": "2021-03-04T22:52:00.763117Z",
     "iopub.status.idle": "2021-03-04T22:52:01.370768Z",
     "shell.execute_reply": "2021-03-04T22:52:01.371325Z"
    },
    "papermill": {
     "duration": 0.787676,
     "end_time": "2021-03-04T22:52:01.371516",
     "exception": false,
     "start_time": "2021-03-04T22:52:00.583840",
     "status": "completed"
    },
    "tags": []
   },
   "outputs": [
    {
     "name": "stdout",
     "output_type": "stream",
     "text": [
      "0 903604\n",
      "1 66927\n",
      "2 97689\n",
      "3 599163\n",
      "4 1440\n",
      "5 2\n",
      "6 272\n"
     ]
    }
   ],
   "source": [
    "for i in range(data.shape[1]):\n",
    "    print(i,len(pd.unique(data.iloc[:,i])))"
   ]
  },
  {
   "cell_type": "markdown",
   "metadata": {
    "papermill": {
     "duration": 0.177826,
     "end_time": "2021-03-04T22:52:01.729049",
     "exception": false,
     "start_time": "2021-03-04T22:52:01.551223",
     "status": "completed"
    },
    "tags": []
   },
   "source": [
    "### Columnas con pocos valores"
   ]
  },
  {
   "cell_type": "code",
   "execution_count": 25,
   "metadata": {
    "execution": {
     "iopub.execute_input": "2021-03-04T22:52:02.099941Z",
     "iopub.status.busy": "2021-03-04T22:52:02.099118Z",
     "iopub.status.idle": "2021-03-04T22:52:02.778423Z",
     "shell.execute_reply": "2021-03-04T22:52:02.779152Z"
    },
    "papermill": {
     "duration": 0.874174,
     "end_time": "2021-03-04T22:52:02.779395",
     "exception": false,
     "start_time": "2021-03-04T22:52:01.905221",
     "status": "completed"
    },
    "tags": []
   },
   "outputs": [
    {
     "name": "stdout",
     "output_type": "stream",
     "text": [
      "0, 903604, 100.0%\n",
      "1, 66927, 7.4%\n",
      "2, 97689, 10.8%\n",
      "3, 599163, 66.3%\n",
      "4, 1440, 0.2%\n",
      "5, 2, 0.0%\n",
      "6, 272, 0.0%\n"
     ]
    }
   ],
   "source": [
    "for i in range(data.shape[1]):\n",
    "    num=len(pd.unique(data.iloc[:,i]))\n",
    "    porcentaje=float(num)/data.shape[0]*100\n",
    "    print(\"%d, %d, %.1f%%\"%(i,num,porcentaje))"
   ]
  },
  {
   "cell_type": "markdown",
   "metadata": {
    "papermill": {
     "duration": 0.252385,
     "end_time": "2021-03-04T22:52:03.286068",
     "exception": false,
     "start_time": "2021-03-04T22:52:03.033683",
     "status": "completed"
    },
    "tags": []
   },
   "source": [
    "### Busqueda de duplicados"
   ]
  },
  {
   "cell_type": "code",
   "execution_count": 26,
   "metadata": {
    "execution": {
     "iopub.execute_input": "2021-03-04T22:52:03.805474Z",
     "iopub.status.busy": "2021-03-04T22:52:03.804567Z",
     "iopub.status.idle": "2021-03-04T22:52:04.706981Z",
     "shell.execute_reply": "2021-03-04T22:52:04.707760Z"
    },
    "papermill": {
     "duration": 1.167315,
     "end_time": "2021-03-04T22:52:04.707990",
     "exception": false,
     "start_time": "2021-03-04T22:52:03.540675",
     "status": "completed"
    },
    "tags": []
   },
   "outputs": [
    {
     "name": "stdout",
     "output_type": "stream",
     "text": [
      "False\n",
      "Empty DataFrame\n",
      "Columns: [Unnamed: 0, conversation id, author id, msg, time, predator, contara]\n",
      "Index: []\n"
     ]
    }
   ],
   "source": [
    "duplicado = data.duplicated()\n",
    "print(duplicado.any())\n",
    "print(data[duplicado])"
   ]
  },
  {
   "cell_type": "markdown",
   "metadata": {
    "papermill": {
     "duration": 0.191527,
     "end_time": "2021-03-04T22:52:05.082991",
     "exception": false,
     "start_time": "2021-03-04T22:52:04.891464",
     "status": "completed"
    },
    "tags": []
   },
   "source": [
    "### Eliminacion de columnas con poco valor"
   ]
  },
  {
   "cell_type": "code",
   "execution_count": 27,
   "metadata": {
    "execution": {
     "iopub.execute_input": "2021-03-04T22:52:05.465885Z",
     "iopub.status.busy": "2021-03-04T22:52:05.464928Z",
     "iopub.status.idle": "2021-03-04T22:52:05.484402Z",
     "shell.execute_reply": "2021-03-04T22:52:05.483820Z"
    },
    "papermill": {
     "duration": 0.214244,
     "end_time": "2021-03-04T22:52:05.484567",
     "exception": false,
     "start_time": "2021-03-04T22:52:05.270323",
     "status": "completed"
    },
    "tags": []
   },
   "outputs": [],
   "source": [
    "data.drop([\"Unnamed: 0\",\"conversation id\",\"author id\",\"time\",\"contara\"],axis=1,inplace=True)"
   ]
  },
  {
   "cell_type": "code",
   "execution_count": 28,
   "metadata": {
    "execution": {
     "iopub.execute_input": "2021-03-04T22:52:05.867814Z",
     "iopub.status.busy": "2021-03-04T22:52:05.866880Z",
     "iopub.status.idle": "2021-03-04T22:52:05.872691Z",
     "shell.execute_reply": "2021-03-04T22:52:05.872171Z"
    },
    "papermill": {
     "duration": 0.196129,
     "end_time": "2021-03-04T22:52:05.872836",
     "exception": false,
     "start_time": "2021-03-04T22:52:05.676707",
     "status": "completed"
    },
    "tags": []
   },
   "outputs": [
    {
     "data": {
      "text/html": [
       "<div>\n",
       "<style scoped>\n",
       "    .dataframe tbody tr th:only-of-type {\n",
       "        vertical-align: middle;\n",
       "    }\n",
       "\n",
       "    .dataframe tbody tr th {\n",
       "        vertical-align: top;\n",
       "    }\n",
       "\n",
       "    .dataframe thead th {\n",
       "        text-align: right;\n",
       "    }\n",
       "</style>\n",
       "<table border=\"1\" class=\"dataframe\">\n",
       "  <thead>\n",
       "    <tr style=\"text-align: right;\">\n",
       "      <th></th>\n",
       "      <th>msg</th>\n",
       "      <th>predator</th>\n",
       "    </tr>\n",
       "  </thead>\n",
       "  <tbody>\n",
       "    <tr>\n",
       "      <th>0</th>\n",
       "      <td>Hola.</td>\n",
       "      <td>0</td>\n",
       "    </tr>\n",
       "    <tr>\n",
       "      <th>1</th>\n",
       "      <td>hi.</td>\n",
       "      <td>0</td>\n",
       "    </tr>\n",
       "    <tr>\n",
       "      <th>2</th>\n",
       "      <td>whats up?</td>\n",
       "      <td>0</td>\n",
       "    </tr>\n",
       "    <tr>\n",
       "      <th>3</th>\n",
       "      <td>not a ton.</td>\n",
       "      <td>0</td>\n",
       "    </tr>\n",
       "    <tr>\n",
       "      <th>4</th>\n",
       "      <td>you?</td>\n",
       "      <td>0</td>\n",
       "    </tr>\n",
       "  </tbody>\n",
       "</table>\n",
       "</div>"
      ],
      "text/plain": [
       "          msg  predator\n",
       "0       Hola.         0\n",
       "1         hi.         0\n",
       "2   whats up?         0\n",
       "3  not a ton.         0\n",
       "4        you?         0"
      ]
     },
     "execution_count": 28,
     "metadata": {},
     "output_type": "execute_result"
    }
   ],
   "source": [
    "data.head()"
   ]
  },
  {
   "cell_type": "markdown",
   "metadata": {
    "papermill": {
     "duration": 0.269166,
     "end_time": "2021-03-04T22:52:06.372598",
     "exception": false,
     "start_time": "2021-03-04T22:52:06.103432",
     "status": "completed"
    },
    "tags": []
   },
   "source": [
    "### NLP"
   ]
  },
  {
   "cell_type": "code",
   "execution_count": 29,
   "metadata": {
    "execution": {
     "iopub.execute_input": "2021-03-04T22:52:06.929584Z",
     "iopub.status.busy": "2021-03-04T22:52:06.907368Z",
     "iopub.status.idle": "2021-03-04T22:52:12.163662Z",
     "shell.execute_reply": "2021-03-04T22:52:12.162509Z"
    },
    "papermill": {
     "duration": 5.516262,
     "end_time": "2021-03-04T22:52:12.163865",
     "exception": false,
     "start_time": "2021-03-04T22:52:06.647603",
     "status": "completed"
    },
    "tags": []
   },
   "outputs": [],
   "source": [
    "nlp = en_core_web_md.load()"
   ]
  },
  {
   "cell_type": "code",
   "execution_count": 30,
   "metadata": {
    "execution": {
     "iopub.execute_input": "2021-03-04T22:52:12.554280Z",
     "iopub.status.busy": "2021-03-04T22:52:12.551614Z",
     "iopub.status.idle": "2021-03-04T22:52:12.558288Z",
     "shell.execute_reply": "2021-03-04T22:52:12.556598Z"
    },
    "papermill": {
     "duration": 0.204906,
     "end_time": "2021-03-04T22:52:12.558437",
     "exception": false,
     "start_time": "2021-03-04T22:52:12.353531",
     "status": "completed"
    },
    "tags": []
   },
   "outputs": [
    {
     "name": "stdout",
     "output_type": "stream",
     "text": [
      "['thereupon', 'nine', \"'m\", 'hereby', 'serious', 'noone', 'someone', 'there', '‘re', 'whenever', 'made', 'beforehand', 'ten', 'all', 'some', 'own', 'say', 'will', 'everything', 'whereby', 'whither', 'empty', 'fifty', 'otherwise', 'various', 'n’t', 'to', 'get', 'us', 'sometimes', 'nothing', 'five', 'became', 'throughout', 'although', \"n't\", 're', 'move', 'six', 'meanwhile', 'while', 'with', 'if', 'it', 'after', 'himself', '’m', '‘m', 'former', 'our', 'herself', 'please', 'few', 'nobody', 'therein', 'amongst', 'an', 'mostly', 'hers', 'of', 'during', 'was', 'here', 'part', '’s', 'now', 'is', 'the', 'each', 'go', 'they', 'how', 'these', 'others', 'other', 'eleven', \"'ve\", 'what', 'besides', 'ours', 'through', 'rather', 'back', 'those', 'least', 'into', 'been', 'thereafter', 'more', 'until', 'latter', 'than', 'ever', 'another', 'behind', 'further', '‘d', 'first', 'may', 'mine', 'this', 'on', '’re', 'though', 'nor', 'thus', 'almost', 'always', 'has', 'yet', \"'d\", 'had', 'she', 'by', 'but', 'very', 'via', 'its', 'above', 'myself', 'name', 'among', 'and', 'neither', 'does', 'themselves', 'becoming', 'would', 'already', 'never', 'really', 'much', 'which', 'enough', 'thence', 'him', 'be', 'even', 'used', 'namely', 'again', 'next', 'afterwards', 'whereas', 'two', 'so', 'thru', 'can', 'your', 'them', 'front', \"'ll\", 'why', 'somehow', 'none', \"'re\", 'between', 'unless', 'seemed', 'around', 'too', 'a', 'becomes', 'could', 'nowhere', 'yours', 'wherein', 'anyhow', 'being', 'moreover', 'you', '’ve', 'ca', 'twenty', 'quite', 'show', 'put', 'take', 'whole', 'from', 'doing', 'elsewhere', 'every', 'four', 'many', 'several', 'their', 'did', 'else', 'as', 'or', 'itself', 'hundred', 'seems', \"'s\", 'except', '’ll', 'something', 'same', 'down', 'seeming', 'either', '‘s', 'upon', 'in', 'whom', 'beside', 'since', 'are', 'top', 'well', 'full', '‘ll', 'herein', 'sometime', 'anywhere', 'formerly', 'see', 'seem', 'such', 'for', 'without', 'call', 'become', 'last', 'up', 'twelve', 'at', 'whoever', 'should', 'along', 'might', 'under', 'fifteen', 'not', 'within', 'whose', 'hence', 'only', 'somewhere', 'regarding', 'together', 'nevertheless', 'often', 'per', 'both', 'cannot', 'however', 'three', 'yourselves', 'do', 'against', 'due', 'forty', 'less', 'her', 'my', 'below', 'his', 'most', 'we', 'everywhere', 'anyone', 'any', 'wherever', 'third', 'side', 'beyond', 'latterly', 'hereupon', 'n‘t', 'also', 'when', '’d', 'then', 'sixty', 'where', 'yourself', 'i', 'were', 'done', 'thereby', 'hereafter', 'anyway', 'who', 'eight', 'me', 'because', 'ourselves', 'whence', 'everyone', 'whether', 'give', 'just', 'out', 'keep', 'towards', 'alone', 'across', 'amount', 'onto', 'therefore', 'whereafter', 'make', 'once', '‘ve', 'am', 'one', 'toward', 'bottom', 'have', 'he', 'still', 'using', 'off', 'whereupon', 'that', 'about', 'whatever', 'perhaps', 'over', 'no', 'anything', 'before', 'indeed', 'must']\n"
     ]
    },
    {
     "data": {
      "text/plain": [
       "326"
      ]
     },
     "execution_count": 30,
     "metadata": {},
     "output_type": "execute_result"
    }
   ],
   "source": [
    "stopwords_spacy = list(STOP_WORDS)\n",
    "print(stopwords_spacy)\n",
    "len(stopwords_spacy)"
   ]
  },
  {
   "cell_type": "code",
   "execution_count": 31,
   "metadata": {
    "execution": {
     "iopub.execute_input": "2021-03-04T22:52:12.944104Z",
     "iopub.status.busy": "2021-03-04T22:52:12.943210Z",
     "iopub.status.idle": "2021-03-04T22:52:12.946314Z",
     "shell.execute_reply": "2021-03-04T22:52:12.945686Z"
    },
    "papermill": {
     "duration": 0.200814,
     "end_time": "2021-03-04T22:52:12.946454",
     "exception": false,
     "start_time": "2021-03-04T22:52:12.745640",
     "status": "completed"
    },
    "tags": []
   },
   "outputs": [],
   "source": [
    "en_stop_words=STOP_WORDS"
   ]
  },
  {
   "cell_type": "markdown",
   "metadata": {
    "papermill": {
     "duration": 0.183217,
     "end_time": "2021-03-04T22:52:13.311243",
     "exception": false,
     "start_time": "2021-03-04T22:52:13.128026",
     "status": "completed"
    },
    "tags": []
   },
   "source": [
    "### Activacion de Spellcheck"
   ]
  },
  {
   "cell_type": "code",
   "execution_count": 32,
   "metadata": {
    "execution": {
     "iopub.execute_input": "2021-03-04T22:52:13.688024Z",
     "iopub.status.busy": "2021-03-04T22:52:13.687077Z",
     "iopub.status.idle": "2021-03-04T22:52:13.837639Z",
     "shell.execute_reply": "2021-03-04T22:52:13.837039Z"
    },
    "papermill": {
     "duration": 0.338989,
     "end_time": "2021-03-04T22:52:13.837792",
     "exception": false,
     "start_time": "2021-03-04T22:52:13.498803",
     "status": "completed"
    },
    "tags": []
   },
   "outputs": [],
   "source": [
    "spell = SpellChecker(language='en',distance=1)"
   ]
  },
  {
   "cell_type": "code",
   "execution_count": 33,
   "metadata": {
    "execution": {
     "iopub.execute_input": "2021-03-04T22:52:14.215915Z",
     "iopub.status.busy": "2021-03-04T22:52:14.214940Z",
     "iopub.status.idle": "2021-03-04T22:52:14.218095Z",
     "shell.execute_reply": "2021-03-04T22:52:14.217514Z"
    },
    "papermill": {
     "duration": 0.195129,
     "end_time": "2021-03-04T22:52:14.218285",
     "exception": false,
     "start_time": "2021-03-04T22:52:14.023156",
     "status": "completed"
    },
    "tags": []
   },
   "outputs": [],
   "source": [
    "def spell_check(x):\n",
    "    correct_word = []\n",
    "    mispelled_word = x\n",
    "    for word in mispelled_word:\n",
    "        correct_word.append(spell.correction(word))\n",
    "    return ' '.join(correct_word)"
   ]
  },
  {
   "cell_type": "markdown",
   "metadata": {
    "papermill": {
     "duration": 0.184616,
     "end_time": "2021-03-04T22:52:14.592367",
     "exception": false,
     "start_time": "2021-03-04T22:52:14.407751",
     "status": "completed"
    },
    "tags": []
   },
   "source": [
    "### El dataset cuenta con 900.000 filas por lo que se dificulta su analisis sin sufrir un agotamiento de la RAM en poco tiempo. Para evitar este problema se lo procesara por partes y finalmente se volvera a unir."
   ]
  },
  {
   "cell_type": "code",
   "execution_count": 34,
   "metadata": {
    "execution": {
     "iopub.execute_input": "2021-03-04T22:52:14.962902Z",
     "iopub.status.busy": "2021-03-04T22:52:14.962018Z",
     "iopub.status.idle": "2021-03-04T22:52:14.969223Z",
     "shell.execute_reply": "2021-03-04T22:52:14.968731Z"
    },
    "papermill": {
     "duration": 0.197111,
     "end_time": "2021-03-04T22:52:14.969385",
     "exception": false,
     "start_time": "2021-03-04T22:52:14.772274",
     "status": "completed"
    },
    "tags": []
   },
   "outputs": [],
   "source": [
    "pred1=data[data[\"predator\"]== 1]"
   ]
  },
  {
   "cell_type": "code",
   "execution_count": 35,
   "metadata": {
    "execution": {
     "iopub.execute_input": "2021-03-04T22:52:15.344499Z",
     "iopub.status.busy": "2021-03-04T22:52:15.343514Z",
     "iopub.status.idle": "2021-03-04T22:52:15.347442Z",
     "shell.execute_reply": "2021-03-04T22:52:15.348046Z"
    },
    "papermill": {
     "duration": 0.197199,
     "end_time": "2021-03-04T22:52:15.348238",
     "exception": false,
     "start_time": "2021-03-04T22:52:15.151039",
     "status": "completed"
    },
    "tags": []
   },
   "outputs": [
    {
     "data": {
      "text/plain": [
       "(40978, 2)"
      ]
     },
     "execution_count": 35,
     "metadata": {},
     "output_type": "execute_result"
    }
   ],
   "source": [
    "pred1.shape"
   ]
  },
  {
   "cell_type": "code",
   "execution_count": 36,
   "metadata": {
    "execution": {
     "iopub.execute_input": "2021-03-04T22:52:15.753749Z",
     "iopub.status.busy": "2021-03-04T22:52:15.752685Z",
     "iopub.status.idle": "2021-03-04T22:52:15.793774Z",
     "shell.execute_reply": "2021-03-04T22:52:15.793192Z"
    },
    "papermill": {
     "duration": 0.245499,
     "end_time": "2021-03-04T22:52:15.793950",
     "exception": false,
     "start_time": "2021-03-04T22:52:15.548451",
     "status": "completed"
    },
    "tags": []
   },
   "outputs": [],
   "source": [
    "pred0=data[data[\"predator\"]== 0]"
   ]
  },
  {
   "cell_type": "code",
   "execution_count": 37,
   "metadata": {
    "execution": {
     "iopub.execute_input": "2021-03-04T22:52:16.186653Z",
     "iopub.status.busy": "2021-03-04T22:52:16.185381Z",
     "iopub.status.idle": "2021-03-04T22:52:16.189643Z",
     "shell.execute_reply": "2021-03-04T22:52:16.190176Z"
    },
    "papermill": {
     "duration": 0.202126,
     "end_time": "2021-03-04T22:52:16.190365",
     "exception": false,
     "start_time": "2021-03-04T22:52:15.988239",
     "status": "completed"
    },
    "tags": []
   },
   "outputs": [
    {
     "data": {
      "text/plain": [
       "(862626, 2)"
      ]
     },
     "execution_count": 37,
     "metadata": {},
     "output_type": "execute_result"
    }
   ],
   "source": [
    "pred0.shape"
   ]
  },
  {
   "cell_type": "code",
   "execution_count": 38,
   "metadata": {
    "execution": {
     "iopub.execute_input": "2021-03-04T22:52:16.575006Z",
     "iopub.status.busy": "2021-03-04T22:52:16.574121Z",
     "iopub.status.idle": "2021-03-04T22:52:16.577712Z",
     "shell.execute_reply": "2021-03-04T22:52:16.578230Z"
    },
    "papermill": {
     "duration": 0.199729,
     "end_time": "2021-03-04T22:52:16.578383",
     "exception": false,
     "start_time": "2021-03-04T22:52:16.378654",
     "status": "completed"
    },
    "tags": []
   },
   "outputs": [
    {
     "data": {
      "text/html": [
       "<div>\n",
       "<style scoped>\n",
       "    .dataframe tbody tr th:only-of-type {\n",
       "        vertical-align: middle;\n",
       "    }\n",
       "\n",
       "    .dataframe tbody tr th {\n",
       "        vertical-align: top;\n",
       "    }\n",
       "\n",
       "    .dataframe thead th {\n",
       "        text-align: right;\n",
       "    }\n",
       "</style>\n",
       "<table border=\"1\" class=\"dataframe\">\n",
       "  <thead>\n",
       "    <tr style=\"text-align: right;\">\n",
       "      <th></th>\n",
       "      <th>msg</th>\n",
       "      <th>predator</th>\n",
       "    </tr>\n",
       "  </thead>\n",
       "  <tbody>\n",
       "    <tr>\n",
       "      <th>0</th>\n",
       "      <td>Hola.</td>\n",
       "      <td>0</td>\n",
       "    </tr>\n",
       "    <tr>\n",
       "      <th>1</th>\n",
       "      <td>hi.</td>\n",
       "      <td>0</td>\n",
       "    </tr>\n",
       "    <tr>\n",
       "      <th>2</th>\n",
       "      <td>whats up?</td>\n",
       "      <td>0</td>\n",
       "    </tr>\n",
       "    <tr>\n",
       "      <th>3</th>\n",
       "      <td>not a ton.</td>\n",
       "      <td>0</td>\n",
       "    </tr>\n",
       "    <tr>\n",
       "      <th>4</th>\n",
       "      <td>you?</td>\n",
       "      <td>0</td>\n",
       "    </tr>\n",
       "  </tbody>\n",
       "</table>\n",
       "</div>"
      ],
      "text/plain": [
       "          msg  predator\n",
       "0       Hola.         0\n",
       "1         hi.         0\n",
       "2   whats up?         0\n",
       "3  not a ton.         0\n",
       "4        you?         0"
      ]
     },
     "execution_count": 38,
     "metadata": {},
     "output_type": "execute_result"
    }
   ],
   "source": [
    "pred0.head()"
   ]
  },
  {
   "cell_type": "markdown",
   "metadata": {
    "papermill": {
     "duration": 0.186002,
     "end_time": "2021-03-04T22:52:16.951784",
     "exception": false,
     "start_time": "2021-03-04T22:52:16.765782",
     "status": "completed"
    },
    "tags": []
   },
   "source": [
    "#### pred01= 0 a 250000"
   ]
  },
  {
   "cell_type": "code",
   "execution_count": 39,
   "metadata": {
    "execution": {
     "iopub.execute_input": "2021-03-04T22:52:17.528626Z",
     "iopub.status.busy": "2021-03-04T22:52:17.527518Z",
     "iopub.status.idle": "2021-03-04T22:52:17.530308Z",
     "shell.execute_reply": "2021-03-04T22:52:17.529504Z"
    },
    "papermill": {
     "duration": 0.28404,
     "end_time": "2021-03-04T22:52:17.530524",
     "exception": false,
     "start_time": "2021-03-04T22:52:17.246484",
     "status": "completed"
    },
    "tags": []
   },
   "outputs": [],
   "source": [
    "pred01=pred0[0:250000]"
   ]
  },
  {
   "cell_type": "code",
   "execution_count": 40,
   "metadata": {
    "execution": {
     "iopub.execute_input": "2021-03-04T22:52:18.066170Z",
     "iopub.status.busy": "2021-03-04T22:52:18.065260Z",
     "iopub.status.idle": "2021-03-04T22:52:18.068849Z",
     "shell.execute_reply": "2021-03-04T22:52:18.066907Z"
    },
    "papermill": {
     "duration": 0.254156,
     "end_time": "2021-03-04T22:52:18.069003",
     "exception": false,
     "start_time": "2021-03-04T22:52:17.814847",
     "status": "completed"
    },
    "tags": []
   },
   "outputs": [
    {
     "data": {
      "text/plain": [
       "(250000, 2)"
      ]
     },
     "execution_count": 40,
     "metadata": {},
     "output_type": "execute_result"
    }
   ],
   "source": [
    "pred01.shape"
   ]
  },
  {
   "cell_type": "markdown",
   "metadata": {
    "papermill": {
     "duration": 0.188971,
     "end_time": "2021-03-04T22:52:18.505568",
     "exception": false,
     "start_time": "2021-03-04T22:52:18.316597",
     "status": "completed"
    },
    "tags": []
   },
   "source": [
    "#### pred02= 250000 a 500000"
   ]
  },
  {
   "cell_type": "code",
   "execution_count": 41,
   "metadata": {
    "execution": {
     "iopub.execute_input": "2021-03-04T22:52:18.899274Z",
     "iopub.status.busy": "2021-03-04T22:52:18.898294Z",
     "iopub.status.idle": "2021-03-04T22:52:18.901602Z",
     "shell.execute_reply": "2021-03-04T22:52:18.901013Z"
    },
    "papermill": {
     "duration": 0.208828,
     "end_time": "2021-03-04T22:52:18.901758",
     "exception": false,
     "start_time": "2021-03-04T22:52:18.692930",
     "status": "completed"
    },
    "tags": []
   },
   "outputs": [],
   "source": [
    "pred02=pred0[250000:500000]"
   ]
  },
  {
   "cell_type": "code",
   "execution_count": 42,
   "metadata": {
    "execution": {
     "iopub.execute_input": "2021-03-04T22:52:19.283834Z",
     "iopub.status.busy": "2021-03-04T22:52:19.282915Z",
     "iopub.status.idle": "2021-03-04T22:52:19.287029Z",
     "shell.execute_reply": "2021-03-04T22:52:19.286504Z"
    },
    "papermill": {
     "duration": 0.192555,
     "end_time": "2021-03-04T22:52:19.287182",
     "exception": false,
     "start_time": "2021-03-04T22:52:19.094627",
     "status": "completed"
    },
    "tags": []
   },
   "outputs": [
    {
     "data": {
      "text/plain": [
       "(250000, 2)"
      ]
     },
     "execution_count": 42,
     "metadata": {},
     "output_type": "execute_result"
    }
   ],
   "source": [
    "pred02.shape"
   ]
  },
  {
   "cell_type": "markdown",
   "metadata": {
    "papermill": {
     "duration": 0.183233,
     "end_time": "2021-03-04T22:52:19.662614",
     "exception": false,
     "start_time": "2021-03-04T22:52:19.479381",
     "status": "completed"
    },
    "tags": []
   },
   "source": [
    "#### pred03= 500000 a 750000"
   ]
  },
  {
   "cell_type": "code",
   "execution_count": 43,
   "metadata": {
    "execution": {
     "iopub.execute_input": "2021-03-04T22:52:20.042318Z",
     "iopub.status.busy": "2021-03-04T22:52:20.041283Z",
     "iopub.status.idle": "2021-03-04T22:52:20.044471Z",
     "shell.execute_reply": "2021-03-04T22:52:20.043794Z"
    },
    "papermill": {
     "duration": 0.196189,
     "end_time": "2021-03-04T22:52:20.044616",
     "exception": false,
     "start_time": "2021-03-04T22:52:19.848427",
     "status": "completed"
    },
    "tags": []
   },
   "outputs": [],
   "source": [
    "pred03=pred0[500000:750000]"
   ]
  },
  {
   "cell_type": "code",
   "execution_count": 44,
   "metadata": {
    "execution": {
     "iopub.execute_input": "2021-03-04T22:52:20.430881Z",
     "iopub.status.busy": "2021-03-04T22:52:20.430032Z",
     "iopub.status.idle": "2021-03-04T22:52:20.434207Z",
     "shell.execute_reply": "2021-03-04T22:52:20.433585Z"
    },
    "papermill": {
     "duration": 0.198453,
     "end_time": "2021-03-04T22:52:20.434353",
     "exception": false,
     "start_time": "2021-03-04T22:52:20.235900",
     "status": "completed"
    },
    "tags": []
   },
   "outputs": [
    {
     "data": {
      "text/plain": [
       "(250000, 2)"
      ]
     },
     "execution_count": 44,
     "metadata": {},
     "output_type": "execute_result"
    }
   ],
   "source": [
    "pred03.shape"
   ]
  },
  {
   "cell_type": "markdown",
   "metadata": {
    "papermill": {
     "duration": 0.187079,
     "end_time": "2021-03-04T22:52:20.805965",
     "exception": false,
     "start_time": "2021-03-04T22:52:20.618886",
     "status": "completed"
    },
    "tags": []
   },
   "source": [
    "#### pred04= 750000 a 862626"
   ]
  },
  {
   "cell_type": "code",
   "execution_count": 45,
   "metadata": {
    "execution": {
     "iopub.execute_input": "2021-03-04T22:52:21.190396Z",
     "iopub.status.busy": "2021-03-04T22:52:21.189445Z",
     "iopub.status.idle": "2021-03-04T22:52:21.192734Z",
     "shell.execute_reply": "2021-03-04T22:52:21.192181Z"
    },
    "papermill": {
     "duration": 0.198024,
     "end_time": "2021-03-04T22:52:21.192878",
     "exception": false,
     "start_time": "2021-03-04T22:52:20.994854",
     "status": "completed"
    },
    "tags": []
   },
   "outputs": [],
   "source": [
    "pred04=pred0[750000:862626]"
   ]
  },
  {
   "cell_type": "code",
   "execution_count": 46,
   "metadata": {
    "execution": {
     "iopub.execute_input": "2021-03-04T22:52:21.577089Z",
     "iopub.status.busy": "2021-03-04T22:52:21.576287Z",
     "iopub.status.idle": "2021-03-04T22:52:21.579958Z",
     "shell.execute_reply": "2021-03-04T22:52:21.580621Z"
    },
    "papermill": {
     "duration": 0.197883,
     "end_time": "2021-03-04T22:52:21.580885",
     "exception": false,
     "start_time": "2021-03-04T22:52:21.383002",
     "status": "completed"
    },
    "tags": []
   },
   "outputs": [
    {
     "data": {
      "text/plain": [
       "(112626, 2)"
      ]
     },
     "execution_count": 46,
     "metadata": {},
     "output_type": "execute_result"
    }
   ],
   "source": [
    "pred04.shape"
   ]
  },
  {
   "cell_type": "markdown",
   "metadata": {
    "papermill": {
     "duration": 0.187714,
     "end_time": "2021-03-04T22:52:21.956958",
     "exception": false,
     "start_time": "2021-03-04T22:52:21.769244",
     "status": "completed"
    },
    "tags": []
   },
   "source": [
    "# B)Preprocesamiento de datos"
   ]
  },
  {
   "cell_type": "markdown",
   "metadata": {
    "papermill": {
     "duration": 0.193183,
     "end_time": "2021-03-04T22:52:22.344595",
     "exception": false,
     "start_time": "2021-03-04T22:52:22.151412",
     "status": "completed"
    },
    "tags": []
   },
   "source": [
    "#### Pred01 (Aprox 57 min)"
   ]
  },
  {
   "cell_type": "code",
   "execution_count": null,
   "metadata": {
    "execution": {
     "iopub.execute_input": "2021-03-01T05:37:36.446126Z",
     "iopub.status.busy": "2021-03-01T05:37:36.445482Z",
     "iopub.status.idle": "2021-03-01T06:27:23.230483Z",
     "shell.execute_reply": "2021-03-01T06:27:23.231006Z"
    },
    "papermill": {
     "duration": 0.194634,
     "end_time": "2021-03-04T22:52:22.730244",
     "exception": false,
     "start_time": "2021-03-04T22:52:22.535610",
     "status": "completed"
    },
    "tags": []
   },
   "outputs": [],
   "source": [
    "#%%time\n",
    "\n",
    "#regexp=RegexpTokenizer(r\"\\w+\")\n",
    "#pred01['msg_lemm'] = ''\n",
    "\n",
    "#for i in range(pred01.shape[0]):\n",
    "#    msgs = pred01.iloc[i].msg\n",
    "#    msgs = contractions.fix(msgs)\n",
    "#    msgs = regexp.tokenize(msgs)\n",
    "#    msgs = [word.lower() for word in msgs if word.lower() not in en_stop_words]\n",
    "#    msgs = spell_check(msgs)\n",
    "#    msgs = nlp(msgs)\n",
    "#    msgs = [word.lemma_ for word in msgs]\n",
    "#    pred01['msg_lemm'].iloc[i] = ' '.join(msgs)"
   ]
  },
  {
   "cell_type": "code",
   "execution_count": null,
   "metadata": {
    "execution": {
     "iopub.execute_input": "2021-03-01T06:27:23.482297Z",
     "iopub.status.busy": "2021-03-01T06:27:23.481539Z",
     "iopub.status.idle": "2021-03-01T06:27:24.189827Z",
     "shell.execute_reply": "2021-03-01T06:27:24.189257Z"
    },
    "papermill": {
     "duration": 0.18773,
     "end_time": "2021-03-04T22:52:23.104642",
     "exception": false,
     "start_time": "2021-03-04T22:52:22.916912",
     "status": "completed"
    },
    "tags": []
   },
   "outputs": [],
   "source": [
    "#pred01.to_csv('pred01.csv', index = False, encoding = 'utf-8')"
   ]
  },
  {
   "cell_type": "code",
   "execution_count": 47,
   "metadata": {
    "execution": {
     "iopub.execute_input": "2021-03-04T22:52:23.500320Z",
     "iopub.status.busy": "2021-03-04T22:52:23.499659Z",
     "iopub.status.idle": "2021-03-04T22:52:24.035354Z",
     "shell.execute_reply": "2021-03-04T22:52:24.033772Z"
    },
    "papermill": {
     "duration": 0.741099,
     "end_time": "2021-03-04T22:52:24.035532",
     "exception": false,
     "start_time": "2021-03-04T22:52:23.294433",
     "status": "completed"
    },
    "tags": []
   },
   "outputs": [],
   "source": [
    "pred01 = pd.read_csv(\"pred01.csv\")"
   ]
  },
  {
   "cell_type": "markdown",
   "metadata": {
    "papermill": {
     "duration": 0.193051,
     "end_time": "2021-03-04T22:52:24.419311",
     "exception": false,
     "start_time": "2021-03-04T22:52:24.226260",
     "status": "completed"
    },
    "tags": []
   },
   "source": [
    "#### pred02 (Aprox 55 min)"
   ]
  },
  {
   "cell_type": "code",
   "execution_count": null,
   "metadata": {
    "execution": {
     "iopub.execute_input": "2021-03-01T06:27:24.686166Z",
     "iopub.status.busy": "2021-03-01T06:27:24.684055Z",
     "iopub.status.idle": "2021-03-01T07:17:53.968851Z",
     "shell.execute_reply": "2021-03-01T07:17:53.969572Z"
    },
    "papermill": {
     "duration": 0.202653,
     "end_time": "2021-03-04T22:52:24.824557",
     "exception": false,
     "start_time": "2021-03-04T22:52:24.621904",
     "status": "completed"
    },
    "tags": []
   },
   "outputs": [],
   "source": [
    "#%%time\n",
    "\n",
    "#regexp=RegexpTokenizer(r\"\\w+\")\n",
    "#pred02['msg_lemm'] = \"\"\n",
    "\n",
    "#for i in range(pred02.shape[0]):\n",
    "#    msgs = pred02.iloc[i].msg\n",
    "#    msgs = contractions.fix(msgs)\n",
    "#    msgs = regexp.tokenize(msgs)\n",
    "#    msgs = [word.lower() for word in msgs if word.lower() not in en_stop_words]\n",
    "#    msgs = spell_check(msgs)\n",
    "#    msgs = nlp(msgs)\n",
    "#    msgs = [word.lemma_ for word in msgs]\n",
    "#    pred02['msg_lemm'].iloc[i] = ' '.join(msgs)"
   ]
  },
  {
   "cell_type": "code",
   "execution_count": null,
   "metadata": {
    "execution": {
     "iopub.execute_input": "2021-03-01T07:17:54.341005Z",
     "iopub.status.busy": "2021-03-01T07:17:54.337895Z",
     "iopub.status.idle": "2021-03-01T07:17:55.013424Z",
     "shell.execute_reply": "2021-03-01T07:17:55.012466Z"
    },
    "papermill": {
     "duration": 0.206275,
     "end_time": "2021-03-04T22:52:25.235084",
     "exception": false,
     "start_time": "2021-03-04T22:52:25.028809",
     "status": "completed"
    },
    "tags": []
   },
   "outputs": [],
   "source": [
    "#pred02.to_csv('pred02.csv', index = False, encoding = 'utf-8')"
   ]
  },
  {
   "cell_type": "code",
   "execution_count": 48,
   "metadata": {
    "execution": {
     "iopub.execute_input": "2021-03-04T22:52:25.642841Z",
     "iopub.status.busy": "2021-03-04T22:52:25.641024Z",
     "iopub.status.idle": "2021-03-04T22:52:25.643573Z",
     "shell.execute_reply": "2021-03-04T22:52:25.644096Z"
    },
    "papermill": {
     "duration": 0.20378,
     "end_time": "2021-03-04T22:52:25.644278",
     "exception": false,
     "start_time": "2021-03-04T22:52:25.440498",
     "status": "completed"
    },
    "tags": []
   },
   "outputs": [],
   "source": [
    "#pred02 = pd.read_csv(\"pred02.csv\")"
   ]
  },
  {
   "cell_type": "markdown",
   "metadata": {
    "papermill": {
     "duration": 0.192216,
     "end_time": "2021-03-04T22:52:26.023909",
     "exception": false,
     "start_time": "2021-03-04T22:52:25.831693",
     "status": "completed"
    },
    "tags": []
   },
   "source": [
    "#### pred03 (Aprox 50 min)"
   ]
  },
  {
   "cell_type": "code",
   "execution_count": null,
   "metadata": {
    "execution": {
     "iopub.execute_input": "2021-03-01T07:17:55.72843Z",
     "iopub.status.busy": "2021-03-01T07:17:55.727304Z",
     "iopub.status.idle": "2021-03-01T08:08:44.575982Z",
     "shell.execute_reply": "2021-03-01T08:08:44.576668Z"
    },
    "papermill": {
     "duration": 0.201177,
     "end_time": "2021-03-04T22:52:26.414840",
     "exception": false,
     "start_time": "2021-03-04T22:52:26.213663",
     "status": "completed"
    },
    "tags": []
   },
   "outputs": [],
   "source": [
    "#%%time\n",
    "\n",
    "#regexp=RegexpTokenizer(r\"\\w+\")\n",
    "#pred03['msg_lemm'] = \"\"\n",
    "\n",
    "#for i in range(pred03.shape[0]):\n",
    "#    msgs = pred03.iloc[i].msg\n",
    "#    msgs = contractions.fix(msgs)\n",
    "#    msgs = regexp.tokenize(msgs)\n",
    "#    msgs = [word.lower() for word in msgs if word.lower() not in en_stop_words]\n",
    "#    msgs = spell_check(msgs)\n",
    "#    msgs = nlp(msgs)\n",
    "#    msgs = [word.lemma_ for word in msgs]\n",
    "#    pred03['msg_lemm'].iloc[i] = ' '.join(msgs)"
   ]
  },
  {
   "cell_type": "code",
   "execution_count": null,
   "metadata": {
    "execution": {
     "iopub.execute_input": "2021-03-01T08:08:44.939108Z",
     "iopub.status.busy": "2021-03-01T08:08:44.938298Z",
     "iopub.status.idle": "2021-03-01T08:08:45.642137Z",
     "shell.execute_reply": "2021-03-01T08:08:45.641409Z"
    },
    "papermill": {
     "duration": 0.192605,
     "end_time": "2021-03-04T22:52:26.797441",
     "exception": false,
     "start_time": "2021-03-04T22:52:26.604836",
     "status": "completed"
    },
    "tags": []
   },
   "outputs": [],
   "source": [
    "#pred03.to_csv('pred03.csv', index = False, encoding = 'utf-8')"
   ]
  },
  {
   "cell_type": "code",
   "execution_count": 49,
   "metadata": {
    "execution": {
     "iopub.execute_input": "2021-03-04T22:52:27.174749Z",
     "iopub.status.busy": "2021-03-04T22:52:27.174078Z",
     "iopub.status.idle": "2021-03-04T22:52:27.178749Z",
     "shell.execute_reply": "2021-03-04T22:52:27.178047Z"
    },
    "papermill": {
     "duration": 0.19335,
     "end_time": "2021-03-04T22:52:27.178904",
     "exception": false,
     "start_time": "2021-03-04T22:52:26.985554",
     "status": "completed"
    },
    "tags": []
   },
   "outputs": [],
   "source": [
    "#pred03 = pd.read_csv(\"pred03.csv\")"
   ]
  },
  {
   "cell_type": "markdown",
   "metadata": {
    "papermill": {
     "duration": 0.189731,
     "end_time": "2021-03-04T22:52:27.555032",
     "exception": false,
     "start_time": "2021-03-04T22:52:27.365301",
     "status": "completed"
    },
    "tags": []
   },
   "source": [
    "#### pred04 (Aprox 20 min)"
   ]
  },
  {
   "cell_type": "code",
   "execution_count": null,
   "metadata": {
    "execution": {
     "iopub.execute_input": "2021-03-01T08:08:46.390876Z",
     "iopub.status.busy": "2021-03-01T08:08:46.388338Z",
     "iopub.status.idle": "2021-03-01T08:28:59.224098Z",
     "shell.execute_reply": "2021-03-01T08:28:59.224842Z"
    },
    "papermill": {
     "duration": 0.185283,
     "end_time": "2021-03-04T22:52:27.935207",
     "exception": false,
     "start_time": "2021-03-04T22:52:27.749924",
     "status": "completed"
    },
    "tags": []
   },
   "outputs": [],
   "source": [
    "#%%time\n",
    "\n",
    "#regexp=RegexpTokenizer(r\"\\w+\")\n",
    "#pred04['msg_lemm'] = \"\"\n",
    "\n",
    "#for i in range(pred04.shape[0]):\n",
    "#    msgs = pred04.iloc[i].msg\n",
    "#    msgs = contractions.fix(msgs)\n",
    "#    msgs = regexp.tokenize(msgs)\n",
    "#    msgs = [word.lower() for word in msgs if word.lower() not in en_stop_words]\n",
    "#    msgs = spell_check(msgs)\n",
    "#    msgs = nlp(msgs)\n",
    "#    msgs = [word.lemma_ for word in msgs]\n",
    "#    pred04['msg_lemm'].iloc[i] = ' '.join(msgs)"
   ]
  },
  {
   "cell_type": "code",
   "execution_count": null,
   "metadata": {
    "execution": {
     "iopub.execute_input": "2021-03-01T08:28:59.596569Z",
     "iopub.status.busy": "2021-03-01T08:28:59.595741Z",
     "iopub.status.idle": "2021-03-01T08:29:00.154357Z",
     "shell.execute_reply": "2021-03-01T08:29:00.153783Z"
    },
    "papermill": {
     "duration": 0.280124,
     "end_time": "2021-03-04T22:52:28.489976",
     "exception": false,
     "start_time": "2021-03-04T22:52:28.209852",
     "status": "completed"
    },
    "tags": []
   },
   "outputs": [],
   "source": [
    "#pred04.to_csv('pred04.csv', index = False, encoding = 'utf-8')"
   ]
  },
  {
   "cell_type": "code",
   "execution_count": 50,
   "metadata": {
    "execution": {
     "iopub.execute_input": "2021-03-04T22:52:29.052977Z",
     "iopub.status.busy": "2021-03-04T22:52:29.051996Z",
     "iopub.status.idle": "2021-03-04T22:52:29.054423Z",
     "shell.execute_reply": "2021-03-04T22:52:29.053744Z"
    },
    "papermill": {
     "duration": 0.286169,
     "end_time": "2021-03-04T22:52:29.054587",
     "exception": false,
     "start_time": "2021-03-04T22:52:28.768418",
     "status": "completed"
    },
    "tags": []
   },
   "outputs": [],
   "source": [
    "#pred04 = pd.read_csv(\"pred04.csv\")"
   ]
  },
  {
   "cell_type": "markdown",
   "metadata": {
    "papermill": {
     "duration": 0.196165,
     "end_time": "2021-03-04T22:52:29.502360",
     "exception": false,
     "start_time": "2021-03-04T22:52:29.306195",
     "status": "completed"
    },
    "tags": []
   },
   "source": [
    "#### pred1 (Aprox 6 min)"
   ]
  },
  {
   "cell_type": "code",
   "execution_count": null,
   "metadata": {
    "execution": {
     "iopub.execute_input": "2021-03-01T08:29:00.871547Z",
     "iopub.status.busy": "2021-03-01T08:29:00.868306Z",
     "iopub.status.idle": "2021-03-01T08:35:03.968976Z",
     "shell.execute_reply": "2021-03-01T08:35:03.969688Z"
    },
    "papermill": {
     "duration": 0.187806,
     "end_time": "2021-03-04T22:52:29.882756",
     "exception": false,
     "start_time": "2021-03-04T22:52:29.694950",
     "status": "completed"
    },
    "tags": []
   },
   "outputs": [],
   "source": [
    "#%%time\n",
    "\n",
    "#regexp=RegexpTokenizer(r\"\\w+\")\n",
    "#pred1['msg_lemm'] = ''\n",
    "\n",
    "#for i in range(pred1.shape[0]):\n",
    "#    msgs = pred1.iloc[i].msg\n",
    "#    msgs = contractions.fix(msgs)\n",
    "#    msgs = regexp.tokenize(msgs)\n",
    "#    msgs = [word.lower() for word in msgs if word.lower() not in en_stop_words]\n",
    "#    msgs = spell_check(msgs)\n",
    "#    msgs = nlp(msgs)\n",
    "#    msgs = [word.lemma_ for word in msgs]\n",
    "#    pred1['msg_lemm'].iloc[i] = ' '.join(msgs)"
   ]
  },
  {
   "cell_type": "code",
   "execution_count": null,
   "metadata": {
    "execution": {
     "iopub.execute_input": "2021-03-01T08:35:04.339547Z",
     "iopub.status.busy": "2021-03-01T08:35:04.338729Z",
     "iopub.status.idle": "2021-03-01T08:35:04.505933Z",
     "shell.execute_reply": "2021-03-01T08:35:04.505059Z"
    },
    "papermill": {
     "duration": 0.19565,
     "end_time": "2021-03-04T22:52:30.272669",
     "exception": false,
     "start_time": "2021-03-04T22:52:30.077019",
     "status": "completed"
    },
    "tags": []
   },
   "outputs": [],
   "source": [
    "#pred1.to_csv('pred1.csv', index = False, encoding = 'utf-8')"
   ]
  },
  {
   "cell_type": "code",
   "execution_count": 51,
   "metadata": {
    "execution": {
     "iopub.execute_input": "2021-03-04T22:52:30.679799Z",
     "iopub.status.busy": "2021-03-04T22:52:30.679053Z",
     "iopub.status.idle": "2021-03-04T22:52:30.743668Z",
     "shell.execute_reply": "2021-03-04T22:52:30.742778Z"
    },
    "papermill": {
     "duration": 0.271289,
     "end_time": "2021-03-04T22:52:30.743818",
     "exception": false,
     "start_time": "2021-03-04T22:52:30.472529",
     "status": "completed"
    },
    "tags": []
   },
   "outputs": [],
   "source": [
    "pred1 = pd.read_csv(\"pred1.csv\")"
   ]
  },
  {
   "cell_type": "markdown",
   "metadata": {
    "papermill": {
     "duration": 0.198065,
     "end_time": "2021-03-04T22:52:31.134737",
     "exception": false,
     "start_time": "2021-03-04T22:52:30.936672",
     "status": "completed"
    },
    "tags": []
   },
   "source": [
    "### Union de los preds"
   ]
  },
  {
   "cell_type": "markdown",
   "metadata": {
    "papermill": {
     "duration": 0.204923,
     "end_time": "2021-03-04T22:52:31.533389",
     "exception": false,
     "start_time": "2021-03-04T22:52:31.328466",
     "status": "completed"
    },
    "tags": []
   },
   "source": [
    "#### Aqui puede utilizar todo el dataset o solo trabajar con partes."
   ]
  },
  {
   "cell_type": "code",
   "execution_count": 52,
   "metadata": {
    "execution": {
     "iopub.execute_input": "2021-03-04T22:52:31.924239Z",
     "iopub.status.busy": "2021-03-04T22:52:31.923341Z",
     "iopub.status.idle": "2021-03-04T22:52:31.953902Z",
     "shell.execute_reply": "2021-03-04T22:52:31.954509Z"
    },
    "papermill": {
     "duration": 0.226631,
     "end_time": "2021-03-04T22:52:31.954814",
     "exception": false,
     "start_time": "2021-03-04T22:52:31.728183",
     "status": "completed"
    },
    "tags": []
   },
   "outputs": [
    {
     "data": {
      "text/html": [
       "<div>\n",
       "<style scoped>\n",
       "    .dataframe tbody tr th:only-of-type {\n",
       "        vertical-align: middle;\n",
       "    }\n",
       "\n",
       "    .dataframe tbody tr th {\n",
       "        vertical-align: top;\n",
       "    }\n",
       "\n",
       "    .dataframe thead th {\n",
       "        text-align: right;\n",
       "    }\n",
       "</style>\n",
       "<table border=\"1\" class=\"dataframe\">\n",
       "  <thead>\n",
       "    <tr style=\"text-align: right;\">\n",
       "      <th></th>\n",
       "      <th>msg</th>\n",
       "      <th>predator</th>\n",
       "      <th>msg_lemm</th>\n",
       "    </tr>\n",
       "  </thead>\n",
       "  <tbody>\n",
       "    <tr>\n",
       "      <th>0</th>\n",
       "      <td>Hola.</td>\n",
       "      <td>0</td>\n",
       "      <td>hola</td>\n",
       "    </tr>\n",
       "    <tr>\n",
       "      <th>1</th>\n",
       "      <td>hi.</td>\n",
       "      <td>0</td>\n",
       "      <td>hi</td>\n",
       "    </tr>\n",
       "    <tr>\n",
       "      <th>2</th>\n",
       "      <td>whats up?</td>\n",
       "      <td>0</td>\n",
       "      <td>NaN</td>\n",
       "    </tr>\n",
       "    <tr>\n",
       "      <th>3</th>\n",
       "      <td>not a ton.</td>\n",
       "      <td>0</td>\n",
       "      <td>ton</td>\n",
       "    </tr>\n",
       "    <tr>\n",
       "      <th>4</th>\n",
       "      <td>you?</td>\n",
       "      <td>0</td>\n",
       "      <td>NaN</td>\n",
       "    </tr>\n",
       "  </tbody>\n",
       "</table>\n",
       "</div>"
      ],
      "text/plain": [
       "          msg  predator msg_lemm\n",
       "0       Hola.         0     hola\n",
       "1         hi.         0       hi\n",
       "2   whats up?         0      NaN\n",
       "3  not a ton.         0      ton\n",
       "4        you?         0      NaN"
      ]
     },
     "execution_count": 52,
     "metadata": {},
     "output_type": "execute_result"
    }
   ],
   "source": [
    "data=pd.concat([pred01,pred1])\n",
    "data.head()"
   ]
  },
  {
   "cell_type": "code",
   "execution_count": 53,
   "metadata": {
    "execution": {
     "iopub.execute_input": "2021-03-04T22:52:32.363978Z",
     "iopub.status.busy": "2021-03-04T22:52:32.362933Z",
     "iopub.status.idle": "2021-03-04T22:52:32.463958Z",
     "shell.execute_reply": "2021-03-04T22:52:32.463230Z"
    },
    "papermill": {
     "duration": 0.306391,
     "end_time": "2021-03-04T22:52:32.464127",
     "exception": false,
     "start_time": "2021-03-04T22:52:32.157736",
     "status": "completed"
    },
    "tags": []
   },
   "outputs": [],
   "source": [
    "data = data.dropna()"
   ]
  },
  {
   "cell_type": "code",
   "execution_count": 54,
   "metadata": {
    "execution": {
     "iopub.execute_input": "2021-03-04T22:52:32.878291Z",
     "iopub.status.busy": "2021-03-04T22:52:32.877611Z",
     "iopub.status.idle": "2021-03-04T22:52:32.883707Z",
     "shell.execute_reply": "2021-03-04T22:52:32.883195Z"
    },
    "papermill": {
     "duration": 0.211596,
     "end_time": "2021-03-04T22:52:32.883882",
     "exception": false,
     "start_time": "2021-03-04T22:52:32.672286",
     "status": "completed"
    },
    "tags": []
   },
   "outputs": [
    {
     "data": {
      "text/plain": [
       "(267629, 3)"
      ]
     },
     "execution_count": 54,
     "metadata": {},
     "output_type": "execute_result"
    }
   ],
   "source": [
    "data.shape"
   ]
  },
  {
   "cell_type": "markdown",
   "metadata": {
    "papermill": {
     "duration": 0.196554,
     "end_time": "2021-03-04T22:52:33.276068",
     "exception": false,
     "start_time": "2021-03-04T22:52:33.079514",
     "status": "completed"
    },
    "tags": []
   },
   "source": [
    "### Eliminacion de PRON y HTTPS"
   ]
  },
  {
   "cell_type": "code",
   "execution_count": 55,
   "metadata": {
    "execution": {
     "iopub.execute_input": "2021-03-04T22:52:33.711814Z",
     "iopub.status.busy": "2021-03-04T22:52:33.710861Z",
     "iopub.status.idle": "2021-03-04T22:52:34.360326Z",
     "shell.execute_reply": "2021-03-04T22:52:34.359638Z"
    },
    "papermill": {
     "duration": 0.88357,
     "end_time": "2021-03-04T22:52:34.360501",
     "exception": false,
     "start_time": "2021-03-04T22:52:33.476931",
     "status": "completed"
    },
    "tags": []
   },
   "outputs": [],
   "source": [
    "data=data.drop(data[data.msg_lemm.str.contains(\"PRON\")| data.msg_lemm.str.contains(\"http\")].index)"
   ]
  },
  {
   "cell_type": "code",
   "execution_count": 56,
   "metadata": {
    "execution": {
     "iopub.execute_input": "2021-03-04T22:52:34.900434Z",
     "iopub.status.busy": "2021-03-04T22:52:34.898557Z",
     "iopub.status.idle": "2021-03-04T22:52:34.902898Z",
     "shell.execute_reply": "2021-03-04T22:52:34.899452Z"
    },
    "papermill": {
     "duration": 0.326796,
     "end_time": "2021-03-04T22:52:34.903092",
     "exception": false,
     "start_time": "2021-03-04T22:52:34.576296",
     "status": "completed"
    },
    "tags": []
   },
   "outputs": [
    {
     "data": {
      "text/plain": [
       "(249415, 3)"
      ]
     },
     "execution_count": 56,
     "metadata": {},
     "output_type": "execute_result"
    }
   ],
   "source": [
    "data.shape"
   ]
  },
  {
   "cell_type": "code",
   "execution_count": 57,
   "metadata": {
    "execution": {
     "iopub.execute_input": "2021-03-04T22:52:35.507647Z",
     "iopub.status.busy": "2021-03-04T22:52:35.504587Z",
     "iopub.status.idle": "2021-03-04T22:52:35.598966Z",
     "shell.execute_reply": "2021-03-04T22:52:35.600368Z"
    },
    "papermill": {
     "duration": 0.40403,
     "end_time": "2021-03-04T22:52:35.600633",
     "exception": false,
     "start_time": "2021-03-04T22:52:35.196603",
     "status": "completed"
    },
    "tags": []
   },
   "outputs": [
    {
     "name": "stdout",
     "output_type": "stream",
     "text": [
      "<class 'pandas.core.frame.DataFrame'>\n",
      "Int64Index: 249415 entries, 0 to 40977\n",
      "Data columns (total 3 columns):\n",
      " #   Column    Non-Null Count   Dtype \n",
      "---  ------    --------------   ----- \n",
      " 0   msg       249415 non-null  object\n",
      " 1   predator  249415 non-null  int64 \n",
      " 2   msg_lemm  249415 non-null  object\n",
      "dtypes: int64(1), object(2)\n",
      "memory usage: 7.6+ MB\n"
     ]
    }
   ],
   "source": [
    "data.info()"
   ]
  },
  {
   "cell_type": "markdown",
   "metadata": {
    "papermill": {
     "duration": 0.203632,
     "end_time": "2021-03-04T22:52:36.077930",
     "exception": false,
     "start_time": "2021-03-04T22:52:35.874298",
     "status": "completed"
    },
    "tags": []
   },
   "source": [
    "### Visualizacion de palabras"
   ]
  },
  {
   "cell_type": "code",
   "execution_count": 58,
   "metadata": {
    "execution": {
     "iopub.execute_input": "2021-03-04T22:52:36.483543Z",
     "iopub.status.busy": "2021-03-04T22:52:36.482553Z",
     "iopub.status.idle": "2021-03-04T22:52:36.499299Z",
     "shell.execute_reply": "2021-03-04T22:52:36.498735Z"
    },
    "papermill": {
     "duration": 0.226237,
     "end_time": "2021-03-04T22:52:36.499479",
     "exception": false,
     "start_time": "2021-03-04T22:52:36.273242",
     "status": "completed"
    },
    "tags": []
   },
   "outputs": [],
   "source": [
    "data_pred = data[data.predator == 1]\n",
    "data_nopred = data[data.predator == 0]"
   ]
  },
  {
   "cell_type": "code",
   "execution_count": 59,
   "metadata": {
    "execution": {
     "iopub.execute_input": "2021-03-04T22:52:36.900055Z",
     "iopub.status.busy": "2021-03-04T22:52:36.898056Z",
     "iopub.status.idle": "2021-03-04T22:52:36.902481Z",
     "shell.execute_reply": "2021-03-04T22:52:36.901931Z"
    },
    "papermill": {
     "duration": 0.209381,
     "end_time": "2021-03-04T22:52:36.902625",
     "exception": false,
     "start_time": "2021-03-04T22:52:36.693244",
     "status": "completed"
    },
    "tags": []
   },
   "outputs": [
    {
     "data": {
      "text/plain": [
       "(34172, 3)"
      ]
     },
     "execution_count": 59,
     "metadata": {},
     "output_type": "execute_result"
    }
   ],
   "source": [
    "data_pred.shape"
   ]
  },
  {
   "cell_type": "code",
   "execution_count": 60,
   "metadata": {
    "execution": {
     "iopub.execute_input": "2021-03-04T22:52:37.299998Z",
     "iopub.status.busy": "2021-03-04T22:52:37.299307Z",
     "iopub.status.idle": "2021-03-04T22:52:37.306197Z",
     "shell.execute_reply": "2021-03-04T22:52:37.305620Z"
    },
    "papermill": {
     "duration": 0.204727,
     "end_time": "2021-03-04T22:52:37.306338",
     "exception": false,
     "start_time": "2021-03-04T22:52:37.101611",
     "status": "completed"
    },
    "tags": []
   },
   "outputs": [
    {
     "data": {
      "text/plain": [
       "(215243, 3)"
      ]
     },
     "execution_count": 60,
     "metadata": {},
     "output_type": "execute_result"
    }
   ],
   "source": [
    "data_nopred.shape"
   ]
  },
  {
   "cell_type": "markdown",
   "metadata": {
    "papermill": {
     "duration": 0.194283,
     "end_time": "2021-03-04T22:52:37.702706",
     "exception": false,
     "start_time": "2021-03-04T22:52:37.508423",
     "status": "completed"
    },
    "tags": []
   },
   "source": [
    "### Predadores"
   ]
  },
  {
   "cell_type": "code",
   "execution_count": 61,
   "metadata": {
    "execution": {
     "iopub.execute_input": "2021-03-04T22:52:38.119889Z",
     "iopub.status.busy": "2021-03-04T22:52:38.114897Z",
     "iopub.status.idle": "2021-03-04T22:52:44.138363Z",
     "shell.execute_reply": "2021-03-04T22:52:44.137773Z"
    },
    "papermill": {
     "duration": 6.237445,
     "end_time": "2021-03-04T22:52:44.138517",
     "exception": false,
     "start_time": "2021-03-04T22:52:37.901072",
     "status": "completed"
    },
    "tags": []
   },
   "outputs": [],
   "source": [
    "predators = []\n",
    "regexp=RegexpTokenizer(r\"\\w+\")\n",
    "\n",
    "for i in range(data_pred.shape[0]):\n",
    "    x = data_pred.iloc[i].msg_lemm\n",
    "    x = regexp.tokenize(x) \n",
    "    x = [t for t in x if len(t)>1]\n",
    "    predators.append(x) "
   ]
  },
  {
   "cell_type": "code",
   "execution_count": 62,
   "metadata": {
    "execution": {
     "iopub.execute_input": "2021-03-04T22:52:44.582622Z",
     "iopub.status.busy": "2021-03-04T22:52:44.562861Z",
     "iopub.status.idle": "2021-03-04T22:52:44.585987Z",
     "shell.execute_reply": "2021-03-04T22:52:44.586577Z"
    },
    "papermill": {
     "duration": 0.253509,
     "end_time": "2021-03-04T22:52:44.586757",
     "exception": false,
     "start_time": "2021-03-04T22:52:44.333248",
     "status": "completed"
    },
    "tags": []
   },
   "outputs": [
    {
     "data": {
      "text/html": [
       "<div>\n",
       "<style scoped>\n",
       "    .dataframe tbody tr th:only-of-type {\n",
       "        vertical-align: middle;\n",
       "    }\n",
       "\n",
       "    .dataframe tbody tr th {\n",
       "        vertical-align: top;\n",
       "    }\n",
       "\n",
       "    .dataframe thead th {\n",
       "        text-align: right;\n",
       "    }\n",
       "</style>\n",
       "<table border=\"1\" class=\"dataframe\">\n",
       "  <thead>\n",
       "    <tr style=\"text-align: right;\">\n",
       "      <th></th>\n",
       "      <th>Words</th>\n",
       "      <th>Frequency</th>\n",
       "    </tr>\n",
       "  </thead>\n",
       "  <tbody>\n",
       "    <tr>\n",
       "      <th>0</th>\n",
       "      <td>ok</td>\n",
       "      <td>2655</td>\n",
       "    </tr>\n",
       "    <tr>\n",
       "      <th>1</th>\n",
       "      <td>want</td>\n",
       "      <td>1844</td>\n",
       "    </tr>\n",
       "    <tr>\n",
       "      <th>2</th>\n",
       "      <td>lol</td>\n",
       "      <td>1757</td>\n",
       "    </tr>\n",
       "    <tr>\n",
       "      <th>3</th>\n",
       "      <td>like</td>\n",
       "      <td>1344</td>\n",
       "    </tr>\n",
       "    <tr>\n",
       "      <th>4</th>\n",
       "      <td>go</td>\n",
       "      <td>1073</td>\n",
       "    </tr>\n",
       "    <tr>\n",
       "      <th>5</th>\n",
       "      <td>know</td>\n",
       "      <td>1049</td>\n",
       "    </tr>\n",
       "    <tr>\n",
       "      <th>6</th>\n",
       "      <td>good</td>\n",
       "      <td>920</td>\n",
       "    </tr>\n",
       "    <tr>\n",
       "      <th>7</th>\n",
       "      <td>get</td>\n",
       "      <td>804</td>\n",
       "    </tr>\n",
       "    <tr>\n",
       "      <th>8</th>\n",
       "      <td>yes</td>\n",
       "      <td>789</td>\n",
       "    </tr>\n",
       "    <tr>\n",
       "      <th>9</th>\n",
       "      <td>ur</td>\n",
       "      <td>787</td>\n",
       "    </tr>\n",
       "  </tbody>\n",
       "</table>\n",
       "</div>"
      ],
      "text/plain": [
       "  Words  Frequency\n",
       "0    ok       2655\n",
       "1  want       1844\n",
       "2   lol       1757\n",
       "3  like       1344\n",
       "4    go       1073\n",
       "5  know       1049\n",
       "6  good        920\n",
       "7   get        804\n",
       "8   yes        789\n",
       "9    ur        787"
      ]
     },
     "execution_count": 62,
     "metadata": {},
     "output_type": "execute_result"
    }
   ],
   "source": [
    "pred=[line for line in predators for line in set(line)]\n",
    "pred = Counter(pred)\n",
    "pred = pred.most_common(20)\n",
    "pred=pd.DataFrame(pred,columns = ['Words', 'Frequency'])\n",
    "pred.head(10)"
   ]
  },
  {
   "cell_type": "markdown",
   "metadata": {
    "papermill": {
     "duration": 0.19436,
     "end_time": "2021-03-04T22:52:44.974076",
     "exception": false,
     "start_time": "2021-03-04T22:52:44.779716",
     "status": "completed"
    },
    "tags": []
   },
   "source": [
    "### No predadores"
   ]
  },
  {
   "cell_type": "code",
   "execution_count": 63,
   "metadata": {
    "execution": {
     "iopub.execute_input": "2021-03-04T22:52:45.401706Z",
     "iopub.status.busy": "2021-03-04T22:52:45.391303Z",
     "iopub.status.idle": "2021-03-04T22:53:22.703092Z",
     "shell.execute_reply": "2021-03-04T22:53:22.702551Z"
    },
    "papermill": {
     "duration": 37.53712,
     "end_time": "2021-03-04T22:53:22.703272",
     "exception": false,
     "start_time": "2021-03-04T22:52:45.166152",
     "status": "completed"
    },
    "tags": []
   },
   "outputs": [],
   "source": [
    "no_predators = []\n",
    "regexp=RegexpTokenizer(r\"\\w+\")\n",
    "\n",
    "for i in range(data_nopred.shape[0]):\n",
    "    x = data_nopred.iloc[i].msg_lemm\n",
    "    x = regexp.tokenize(x) \n",
    "    x = [t for t in x if len(t)>1] \n",
    "    no_predators.append(x) "
   ]
  },
  {
   "cell_type": "code",
   "execution_count": 64,
   "metadata": {
    "execution": {
     "iopub.execute_input": "2021-03-04T22:53:23.175436Z",
     "iopub.status.busy": "2021-03-04T22:53:23.174414Z",
     "iopub.status.idle": "2021-03-04T22:53:23.562907Z",
     "shell.execute_reply": "2021-03-04T22:53:23.563865Z"
    },
    "papermill": {
     "duration": 0.668613,
     "end_time": "2021-03-04T22:53:23.564147",
     "exception": false,
     "start_time": "2021-03-04T22:53:22.895534",
     "status": "completed"
    },
    "tags": []
   },
   "outputs": [
    {
     "data": {
      "text/html": [
       "<div>\n",
       "<style scoped>\n",
       "    .dataframe tbody tr th:only-of-type {\n",
       "        vertical-align: middle;\n",
       "    }\n",
       "\n",
       "    .dataframe tbody tr th {\n",
       "        vertical-align: top;\n",
       "    }\n",
       "\n",
       "    .dataframe thead th {\n",
       "        text-align: right;\n",
       "    }\n",
       "</style>\n",
       "<table border=\"1\" class=\"dataframe\">\n",
       "  <thead>\n",
       "    <tr style=\"text-align: right;\">\n",
       "      <th></th>\n",
       "      <th>Words</th>\n",
       "      <th>Frequency</th>\n",
       "    </tr>\n",
       "  </thead>\n",
       "  <tbody>\n",
       "    <tr>\n",
       "      <th>0</th>\n",
       "      <td>hi</td>\n",
       "      <td>11146</td>\n",
       "    </tr>\n",
       "    <tr>\n",
       "      <th>1</th>\n",
       "      <td>hey</td>\n",
       "      <td>6472</td>\n",
       "    </tr>\n",
       "    <tr>\n",
       "      <th>2</th>\n",
       "      <td>like</td>\n",
       "      <td>6307</td>\n",
       "    </tr>\n",
       "    <tr>\n",
       "      <th>3</th>\n",
       "      <td>apos</td>\n",
       "      <td>6146</td>\n",
       "    </tr>\n",
       "    <tr>\n",
       "      <th>4</th>\n",
       "      <td>asl</td>\n",
       "      <td>5767</td>\n",
       "    </tr>\n",
       "    <tr>\n",
       "      <th>5</th>\n",
       "      <td>quit</td>\n",
       "      <td>4955</td>\n",
       "    </tr>\n",
       "    <tr>\n",
       "      <th>6</th>\n",
       "      <td>want</td>\n",
       "      <td>4761</td>\n",
       "    </tr>\n",
       "    <tr>\n",
       "      <th>7</th>\n",
       "      <td>ok</td>\n",
       "      <td>4470</td>\n",
       "    </tr>\n",
       "    <tr>\n",
       "      <th>8</th>\n",
       "      <td>know</td>\n",
       "      <td>4161</td>\n",
       "    </tr>\n",
       "    <tr>\n",
       "      <th>9</th>\n",
       "      <td>think</td>\n",
       "      <td>4025</td>\n",
       "    </tr>\n",
       "  </tbody>\n",
       "</table>\n",
       "</div>"
      ],
      "text/plain": [
       "   Words  Frequency\n",
       "0     hi      11146\n",
       "1    hey       6472\n",
       "2   like       6307\n",
       "3   apos       6146\n",
       "4    asl       5767\n",
       "5   quit       4955\n",
       "6   want       4761\n",
       "7     ok       4470\n",
       "8   know       4161\n",
       "9  think       4025"
      ]
     },
     "execution_count": 64,
     "metadata": {},
     "output_type": "execute_result"
    }
   ],
   "source": [
    "nopred=[line for line in no_predators for line in set(line)]\n",
    "nopred = Counter(nopred)\n",
    "nopred = nopred.most_common(20)\n",
    "nopred=pd.DataFrame(nopred,columns = ['Words', 'Frequency'])\n",
    "nopred.head(10)"
   ]
  },
  {
   "cell_type": "code",
   "execution_count": 65,
   "metadata": {
    "execution": {
     "iopub.execute_input": "2021-03-04T22:53:24.104426Z",
     "iopub.status.busy": "2021-03-04T22:53:24.103627Z",
     "iopub.status.idle": "2021-03-04T22:53:27.201336Z",
     "shell.execute_reply": "2021-03-04T22:53:27.200751Z"
    },
    "papermill": {
     "duration": 3.351697,
     "end_time": "2021-03-04T22:53:27.201497",
     "exception": false,
     "start_time": "2021-03-04T22:53:23.849800",
     "status": "completed"
    },
    "tags": []
   },
   "outputs": [
    {
     "data": {
      "image/png": "[encoded data removed]",
      "text/plain": [
       "<Figure size 864x864 with 2 Axes>"
      ]
     },
     "metadata": {},
     "output_type": "display_data"
    }
   ],
   "source": [
    "plt.figure(figsize=(12,12))\n",
    "\n",
    "plt.subplot(321)\n",
    "preds=(\" \").join(pred[\"Words\"])\n",
    "wc = WordCloud(max_words = 20, width = 1800 , height = 800 ).generate(preds)\n",
    "plt.imshow(wc)\n",
    "plt.axis(\"off\")\n",
    "plt.title('predators', fontsize=25)\n",
    "\n",
    "plt.subplot(322)\n",
    "nopreds=(\" \").join(nopred[\"Words\"])\n",
    "wc = WordCloud(max_words = 20, width = 1800 , height = 800).generate(nopreds)\n",
    "plt.imshow(wc)\n",
    "plt.axis(\"off\")\n",
    "plt.title('no predators', fontsize=25)\n",
    "\n",
    "plt.tight_layout()\n",
    "plt.show()"
   ]
  },
  {
   "cell_type": "markdown",
   "metadata": {
    "papermill": {
     "duration": 0.193524,
     "end_time": "2021-03-04T22:53:27.596258",
     "exception": false,
     "start_time": "2021-03-04T22:53:27.402734",
     "status": "completed"
    },
    "tags": []
   },
   "source": [
    "### Scattertext (25 min aprox)"
   ]
  },
  {
   "cell_type": "markdown",
   "metadata": {
    "papermill": {
     "duration": 0.198001,
     "end_time": "2021-03-04T22:53:27.987728",
     "exception": false,
     "start_time": "2021-03-04T22:53:27.789727",
     "status": "completed"
    },
    "tags": []
   },
   "source": [
    "### Msg_lemm"
   ]
  },
  {
   "cell_type": "code",
   "execution_count": 66,
   "metadata": {
    "execution": {
     "iopub.execute_input": "2021-03-04T22:53:28.397440Z",
     "iopub.status.busy": "2021-03-04T22:53:28.396427Z",
     "iopub.status.idle": "2021-03-04T22:53:28.405280Z",
     "shell.execute_reply": "2021-03-04T22:53:28.404680Z"
    },
    "papermill": {
     "duration": 0.216724,
     "end_time": "2021-03-04T22:53:28.405431",
     "exception": false,
     "start_time": "2021-03-04T22:53:28.188707",
     "status": "completed"
    },
    "tags": []
   },
   "outputs": [],
   "source": [
    "data2 = data.copy()"
   ]
  },
  {
   "cell_type": "code",
   "execution_count": 67,
   "metadata": {
    "execution": {
     "iopub.execute_input": "2021-03-04T22:53:28.800108Z",
     "iopub.status.busy": "2021-03-04T22:53:28.799302Z",
     "iopub.status.idle": "2021-03-04T22:53:28.806246Z",
     "shell.execute_reply": "2021-03-04T22:53:28.805728Z"
    },
    "papermill": {
     "duration": 0.202039,
     "end_time": "2021-03-04T22:53:28.806388",
     "exception": false,
     "start_time": "2021-03-04T22:53:28.604349",
     "status": "completed"
    },
    "tags": []
   },
   "outputs": [],
   "source": [
    "data2['cat']=data['predator'].astype(\"category\").cat.rename_categories({0:'nopred',1:'pred'})"
   ]
  },
  {
   "cell_type": "code",
   "execution_count": 68,
   "metadata": {
    "execution": {
     "iopub.execute_input": "2021-03-04T22:53:29.202789Z",
     "iopub.status.busy": "2021-03-04T22:53:29.201887Z",
     "iopub.status.idle": "2021-03-04T23:23:57.512642Z",
     "shell.execute_reply": "2021-03-04T23:23:57.513191Z"
    },
    "papermill": {
     "duration": 1828.516629,
     "end_time": "2021-03-04T23:23:57.513349",
     "exception": false,
     "start_time": "2021-03-04T22:53:28.996720",
     "status": "completed"
    },
    "tags": []
   },
   "outputs": [
    {
     "name": "stdout",
     "output_type": "stream",
     "text": [
      "CPU times: user 30min 1s, sys: 6.43 s, total: 30min 8s\n",
      "Wall time: 30min 28s\n"
     ]
    }
   ],
   "source": [
    "%%time\n",
    "\n",
    "scatter_corpus_nlp = st.CorpusFromPandas(data2,\n",
    "                             category_col='cat',\n",
    "                             text_col='msg_lemm',nlp=nlp).build()"
   ]
  },
  {
   "cell_type": "markdown",
   "metadata": {
    "papermill": {
     "duration": 0.19859,
     "end_time": "2021-03-04T23:23:57.915850",
     "exception": false,
     "start_time": "2021-03-04T23:23:57.717260",
     "status": "completed"
    },
    "tags": []
   },
   "source": [
    "### Visualizacion de terminos asociados a predadores/no predadores"
   ]
  },
  {
   "cell_type": "code",
   "execution_count": 69,
   "metadata": {
    "execution": {
     "iopub.execute_input": "2021-03-04T23:23:58.325680Z",
     "iopub.status.busy": "2021-03-04T23:23:58.324754Z",
     "iopub.status.idle": "2021-03-04T23:24:15.719814Z",
     "shell.execute_reply": "2021-03-04T23:24:15.718803Z"
    },
    "papermill": {
     "duration": 17.605407,
     "end_time": "2021-03-04T23:24:15.719966",
     "exception": false,
     "start_time": "2021-03-04T23:23:58.114559",
     "status": "completed"
    },
    "tags": []
   },
   "outputs": [
    {
     "data": {
      "text/html": [
       "\n",
       "        <iframe\n",
       "            width=\"1300\"\n",
       "            height=\"700\"\n",
       "            src=\"preds-Visualization.html\"\n",
       "            frameborder=\"0\"\n",
       "            allowfullscreen\n",
       "        ></iframe>\n",
       "        "
      ],
      "text/plain": [
       "<IPython.lib.display.IFrame at 0x7f2f62341650>"
      ]
     },
     "execution_count": 69,
     "metadata": {},
     "output_type": "execute_result"
    }
   ],
   "source": [
    "html = st.produce_scattertext_explorer(scatter_corpus_nlp,\n",
    "         category='pred',category_name='predator',         \n",
    "        not_category_name='nopred',width_in_pixels=1000,\n",
    "          metadata=data2['cat'])\n",
    "open(\"preds-Visualization.html\", 'wb').write(html.encode('utf-8'))\n",
    "IFrame(src='preds-Visualization.html', width = 1300, height=700)"
   ]
  },
  {
   "cell_type": "markdown",
   "metadata": {
    "papermill": {
     "duration": 0.205825,
     "end_time": "2021-03-04T23:24:16.128851",
     "exception": false,
     "start_time": "2021-03-04T23:24:15.923026",
     "status": "completed"
    },
    "tags": []
   },
   "source": [
    "### Visualizacion de terminos especificos pero que tienen baja ocurrencia en comparacion con terminos generales (31 min aprox)"
   ]
  },
  {
   "cell_type": "code",
   "execution_count": 70,
   "metadata": {
    "execution": {
     "iopub.execute_input": "2021-03-04T23:24:16.557526Z",
     "iopub.status.busy": "2021-03-04T23:24:16.556481Z",
     "iopub.status.idle": "2021-03-05T00:04:03.540674Z",
     "shell.execute_reply": "2021-03-05T00:04:03.540044Z"
    },
    "papermill": {
     "duration": 2387.200383,
     "end_time": "2021-03-05T00:04:03.540824",
     "exception": false,
     "start_time": "2021-03-04T23:24:16.340441",
     "status": "completed"
    },
    "tags": []
   },
   "outputs": [
    {
     "name": "stdout",
     "output_type": "stream",
     "text": [
      "CPU times: user 39min 28s, sys: 2.22 s, total: 39min 30s\n",
      "Wall time: 39min 46s\n"
     ]
    },
    {
     "data": {
      "text/html": [
       "\n",
       "        <iframe\n",
       "            width=\"1300\"\n",
       "            height=\"700\"\n",
       "            src=\"Visualization-Empath.html\"\n",
       "            frameborder=\"0\"\n",
       "            allowfullscreen\n",
       "        ></iframe>\n",
       "        "
      ],
      "text/plain": [
       "<IPython.lib.display.IFrame at 0x7f2fa01e6e90>"
      ]
     },
     "execution_count": 70,
     "metadata": {},
     "output_type": "execute_result"
    }
   ],
   "source": [
    "%%time\n",
    "\n",
    "feat_builder = st.FeatsFromOnlyEmpath()\n",
    "empath_corpus = st.CorpusFromParsedDocuments(data2,\n",
    "                                              category_col='cat',\n",
    "                                              feats_from_spacy_doc=feat_builder,\n",
    "                                              parsed_col='msg_lemm').build()\n",
    "html = st.produce_scattertext_explorer(empath_corpus,\n",
    "                                        category='pred',\n",
    "                                        category_name='predator',\n",
    "                                        not_category_name='nopred',\n",
    "                                        width_in_pixels=1000,\n",
    "                                        metadata=data2['cat'],\n",
    "                                        use_non_text_features=True,\n",
    "                                        use_full_doc=True,\n",
    "                                        topic_model_term_lists=feat_builder.get_top_model_term_lists())\n",
    "open(\"Visualization-Empath.html\", 'wb').write(html.encode('utf-8'))\n",
    "IFrame(src='Visualization-Empath.html', width = 1300, height=700)"
   ]
  },
  {
   "cell_type": "markdown",
   "metadata": {
    "papermill": {
     "duration": 0.209329,
     "end_time": "2021-03-05T00:04:03.963784",
     "exception": false,
     "start_time": "2021-03-05T00:04:03.754455",
     "status": "completed"
    },
    "tags": []
   },
   "source": [
    "### TextBlob"
   ]
  },
  {
   "cell_type": "markdown",
   "metadata": {
    "papermill": {
     "duration": 0.210059,
     "end_time": "2021-03-05T00:04:04.381993",
     "exception": false,
     "start_time": "2021-03-05T00:04:04.171934",
     "status": "completed"
    },
    "tags": []
   },
   "source": [
    "### POS msg_lemm"
   ]
  },
  {
   "cell_type": "code",
   "execution_count": 71,
   "metadata": {
    "execution": {
     "iopub.execute_input": "2021-03-05T00:04:04.818219Z",
     "iopub.status.busy": "2021-03-05T00:04:04.817515Z",
     "iopub.status.idle": "2021-03-05T00:04:05.720993Z",
     "shell.execute_reply": "2021-03-05T00:04:05.721582Z"
    },
    "papermill": {
     "duration": 1.127667,
     "end_time": "2021-03-05T00:04:05.721768",
     "exception": false,
     "start_time": "2021-03-05T00:04:04.594101",
     "status": "completed"
    },
    "tags": []
   },
   "outputs": [
    {
     "data": {
      "application/vnd.plotly.v1+json": {
       "config": {
        "linkText": "Export to plot.ly",
        "plotlyServerURL": "https://plot.ly",
        "showLink": true
       },
       "data": [
        {
         "marker": {
          "color": "rgba(255, 153, 51, 0.6)",
          "line": {
           "color": "rgba(255, 153, 51, 1.0)",
           "width": 1
          }
         },
         "name": "pos",
         "orientation": "v",
         "text": "",
         "type": "bar",
         "x": [
          "NN",
          "CD",
          "VBP",
          "NNP",
          "VBD",
          "VB"
         ],
         "y": [
          18,
          11,
          1,
          1,
          1,
          1
         ]
        }
       ],
       "layout": {
        "legend": {
         "bgcolor": "#F5F6F9",
         "font": {
          "color": "#4D5663"
         }
        },
        "paper_bgcolor": "#F5F6F9",
        "plot_bgcolor": "#F5F6F9",
        "template": {
         "data": {
          "bar": [
           {
            "error_x": {
             "color": "#2a3f5f"
            },
            "error_y": {
             "color": "#2a3f5f"
            },
            "marker": {
             "line": {
              "color": "#E5ECF6",
              "width": 0.5
             }
            },
            "type": "bar"
           }
          ],
          "barpolar": [
           {
            "marker": {
             "line": {
              "color": "#E5ECF6",
              "width": 0.5
             }
            },
            "type": "barpolar"
           }
          ],
          "carpet": [
           {
            "aaxis": {
             "endlinecolor": "#2a3f5f",
             "gridcolor": "white",
             "linecolor": "white",
             "minorgridcolor": "white",
             "startlinecolor": "#2a3f5f"
            },
            "baxis": {
             "endlinecolor": "#2a3f5f",
             "gridcolor": "white",
             "linecolor": "white",
             "minorgridcolor": "white",
             "startlinecolor": "#2a3f5f"
            },
            "type": "carpet"
           }
          ],
          "choropleth": [
           {
            "colorbar": {
             "outlinewidth": 0,
             "ticks": ""
            },
            "type": "choropleth"
           }
          ],
          "contour": [
           {
            "colorbar": {
             "outlinewidth": 0,
             "ticks": ""
            },
            "colorscale": [
             [
              0,
              "#0d0887"
             ],
             [
              0.1111111111111111,
              "#46039f"
             ],
             [
              0.2222222222222222,
              "#7201a8"
             ],
             [
              0.3333333333333333,
              "#9c179e"
             ],
             [
              0.4444444444444444,
              "#bd3786"
             ],
             [
              0.5555555555555556,
              "#d8576b"
             ],
             [
              0.6666666666666666,
              "#ed7953"
             ],
             [
              0.7777777777777778,
              "#fb9f3a"
             ],
             [
              0.8888888888888888,
              "#fdca26"
             ],
             [
              1,
              "#f0f921"
             ]
            ],
            "type": "contour"
           }
          ],
          "contourcarpet": [
           {
            "colorbar": {
             "outlinewidth": 0,
             "ticks": ""
            },
            "type": "contourcarpet"
           }
          ],
          "heatmap": [
           {
            "colorbar": {
             "outlinewidth": 0,
             "ticks": ""
            },
            "colorscale": [
             [
              0,
              "#0d0887"
             ],
             [
              0.1111111111111111,
              "#46039f"
             ],
             [
              0.2222222222222222,
              "#7201a8"
             ],
             [
              0.3333333333333333,
              "#9c179e"
             ],
             [
              0.4444444444444444,
              "#bd3786"
             ],
             [
              0.5555555555555556,
              "#d8576b"
             ],
             [
              0.6666666666666666,
              "#ed7953"
             ],
             [
              0.7777777777777778,
              "#fb9f3a"
             ],
             [
              0.8888888888888888,
              "#fdca26"
             ],
             [
              1,
              "#f0f921"
             ]
            ],
            "type": "heatmap"
           }
          ],
          "heatmapgl": [
           {
            "colorbar": {
             "outlinewidth": 0,
             "ticks": ""
            },
            "colorscale": [
             [
              0,
              "#0d0887"
             ],
             [
              0.1111111111111111,
              "#46039f"
             ],
             [
              0.2222222222222222,
              "#7201a8"
             ],
             [
              0.3333333333333333,
              "#9c179e"
             ],
             [
              0.4444444444444444,
              "#bd3786"
             ],
             [
              0.5555555555555556,
              "#d8576b"
             ],
             [
              0.6666666666666666,
              "#ed7953"
             ],
             [
              0.7777777777777778,
              "#fb9f3a"
             ],
             [
              0.8888888888888888,
              "#fdca26"
             ],
             [
              1,
              "#f0f921"
             ]
            ],
            "type": "heatmapgl"
           }
          ],
          "histogram": [
           {
            "marker": {
             "colorbar": {
              "outlinewidth": 0,
              "ticks": ""
             }
            },
            "type": "histogram"
           }
          ],
          "histogram2d": [
           {
            "colorbar": {
             "outlinewidth": 0,
             "ticks": ""
            },
            "colorscale": [
             [
              0,
              "#0d0887"
             ],
             [
              0.1111111111111111,
              "#46039f"
             ],
             [
              0.2222222222222222,
              "#7201a8"
             ],
             [
              0.3333333333333333,
              "#9c179e"
             ],
             [
              0.4444444444444444,
              "#bd3786"
             ],
             [
              0.5555555555555556,
              "#d8576b"
             ],
             [
              0.6666666666666666,
              "#ed7953"
             ],
             [
              0.7777777777777778,
              "#fb9f3a"
             ],
             [
              0.8888888888888888,
              "#fdca26"
             ],
             [
              1,
              "#f0f921"
             ]
            ],
            "type": "histogram2d"
           }
          ],
          "histogram2dcontour": [
           {
            "colorbar": {
             "outlinewidth": 0,
             "ticks": ""
            },
            "colorscale": [
             [
              0,
              "#0d0887"
             ],
             [
              0.1111111111111111,
              "#46039f"
             ],
             [
              0.2222222222222222,
              "#7201a8"
             ],
             [
              0.3333333333333333,
              "#9c179e"
             ],
             [
              0.4444444444444444,
              "#bd3786"
             ],
             [
              0.5555555555555556,
              "#d8576b"
             ],
             [
              0.6666666666666666,
              "#ed7953"
             ],
             [
              0.7777777777777778,
              "#fb9f3a"
             ],
             [
              0.8888888888888888,
              "#fdca26"
             ],
             [
              1,
              "#f0f921"
             ]
            ],
            "type": "histogram2dcontour"
           }
          ],
          "mesh3d": [
           {
            "colorbar": {
             "outlinewidth": 0,
             "ticks": ""
            },
            "type": "mesh3d"
           }
          ],
          "parcoords": [
           {
            "line": {
             "colorbar": {
              "outlinewidth": 0,
              "ticks": ""
             }
            },
            "type": "parcoords"
           }
          ],
          "pie": [
           {
            "automargin": true,
            "type": "pie"
           }
          ],
          "scatter": [
           {
            "marker": {
             "colorbar": {
              "outlinewidth": 0,
              "ticks": ""
             }
            },
            "type": "scatter"
           }
          ],
          "scatter3d": [
           {
            "line": {
             "colorbar": {
              "outlinewidth": 0,
              "ticks": ""
             }
            },
            "marker": {
             "colorbar": {
              "outlinewidth": 0,
              "ticks": ""
             }
            },
            "type": "scatter3d"
           }
          ],
          "scattercarpet": [
           {
            "marker": {
             "colorbar": {
              "outlinewidth": 0,
              "ticks": ""
             }
            },
            "type": "scattercarpet"
           }
          ],
          "scattergeo": [
           {
            "marker": {
             "colorbar": {
              "outlinewidth": 0,
              "ticks": ""
             }
            },
            "type": "scattergeo"
           }
          ],
          "scattergl": [
           {
            "marker": {
             "colorbar": {
              "outlinewidth": 0,
              "ticks": ""
             }
            },
            "type": "scattergl"
           }
          ],
          "scattermapbox": [
           {
            "marker": {
             "colorbar": {
              "outlinewidth": 0,
              "ticks": ""
             }
            },
            "type": "scattermapbox"
           }
          ],
          "scatterpolar": [
           {
            "marker": {
             "colorbar": {
              "outlinewidth": 0,
              "ticks": ""
             }
            },
            "type": "scatterpolar"
           }
          ],
          "scatterpolargl": [
           {
            "marker": {
             "colorbar": {
              "outlinewidth": 0,
              "ticks": ""
             }
            },
            "type": "scatterpolargl"
           }
          ],
          "scatterternary": [
           {
            "marker": {
             "colorbar": {
              "outlinewidth": 0,
              "ticks": ""
             }
            },
            "type": "scatterternary"
           }
          ],
          "surface": [
           {
            "colorbar": {
             "outlinewidth": 0,
             "ticks": ""
            },
            "colorscale": [
             [
              0,
              "#0d0887"
             ],
             [
              0.1111111111111111,
              "#46039f"
             ],
             [
              0.2222222222222222,
              "#7201a8"
             ],
             [
              0.3333333333333333,
              "#9c179e"
             ],
             [
              0.4444444444444444,
              "#bd3786"
             ],
             [
              0.5555555555555556,
              "#d8576b"
             ],
             [
              0.6666666666666666,
              "#ed7953"
             ],
             [
              0.7777777777777778,
              "#fb9f3a"
             ],
             [
              0.8888888888888888,
              "#fdca26"
             ],
             [
              1,
              "#f0f921"
             ]
            ],
            "type": "surface"
           }
          ],
          "table": [
           {
            "cells": {
             "fill": {
              "color": "#EBF0F8"
             },
             "line": {
              "color": "white"
             }
            },
            "header": {
             "fill": {
              "color": "#C8D4E3"
             },
             "line": {
              "color": "white"
             }
            },
            "type": "table"
           }
          ]
         },
         "layout": {
          "annotationdefaults": {
           "arrowcolor": "#2a3f5f",
           "arrowhead": 0,
           "arrowwidth": 1
          },
          "autotypenumbers": "strict",
          "coloraxis": {
           "colorbar": {
            "outlinewidth": 0,
            "ticks": ""
           }
          },
          "colorscale": {
           "diverging": [
            [
             0,
             "#8e0152"
            ],
            [
             0.1,
             "#c51b7d"
            ],
            [
             0.2,
             "#de77ae"
            ],
            [
             0.3,
             "#f1b6da"
            ],
            [
             0.4,
             "#fde0ef"
            ],
            [
             0.5,
             "#f7f7f7"
            ],
            [
             0.6,
             "#e6f5d0"
            ],
            [
             0.7,
             "#b8e186"
            ],
            [
             0.8,
             "#7fbc41"
            ],
            [
             0.9,
             "#4d9221"
            ],
            [
             1,
             "#276419"
            ]
           ],
           "sequential": [
            [
             0,
             "#0d0887"
            ],
            [
             0.1111111111111111,
             "#46039f"
            ],
            [
             0.2222222222222222,
             "#7201a8"
            ],
            [
             0.3333333333333333,
             "#9c179e"
            ],
            [
             0.4444444444444444,
             "#bd3786"
            ],
            [
             0.5555555555555556,
             "#d8576b"
            ],
            [
             0.6666666666666666,
             "#ed7953"
            ],
            [
             0.7777777777777778,
             "#fb9f3a"
            ],
            [
             0.8888888888888888,
             "#fdca26"
            ],
            [
             1,
             "#f0f921"
            ]
           ],
           "sequentialminus": [
            [
             0,
             "#0d0887"
            ],
            [
             0.1111111111111111,
             "#46039f"
            ],
            [
             0.2222222222222222,
             "#7201a8"
            ],
            [
             0.3333333333333333,
             "#9c179e"
            ],
            [
             0.4444444444444444,
             "#bd3786"
            ],
            [
             0.5555555555555556,
             "#d8576b"
            ],
            [
             0.6666666666666666,
             "#ed7953"
            ],
            [
             0.7777777777777778,
             "#fb9f3a"
            ],
            [
             0.8888888888888888,
             "#fdca26"
            ],
            [
             1,
             "#f0f921"
            ]
           ]
          },
          "colorway": [
           "#636efa",
           "#EF553B",
           "#00cc96",
           "#ab63fa",
           "#FFA15A",
           "#19d3f3",
           "#FF6692",
           "#B6E880",
           "#FF97FF",
           "#FECB52"
          ],
          "font": {
           "color": "#2a3f5f"
          },
          "geo": {
           "bgcolor": "white",
           "lakecolor": "white",
           "landcolor": "#E5ECF6",
           "showlakes": true,
           "showland": true,
           "subunitcolor": "white"
          },
          "hoverlabel": {
           "align": "left"
          },
          "hovermode": "closest",
          "mapbox": {
           "style": "light"
          },
          "paper_bgcolor": "white",
          "plot_bgcolor": "#E5ECF6",
          "polar": {
           "angularaxis": {
            "gridcolor": "white",
            "linecolor": "white",
            "ticks": ""
           },
           "bgcolor": "#E5ECF6",
           "radialaxis": {
            "gridcolor": "white",
            "linecolor": "white",
            "ticks": ""
           }
          },
          "scene": {
           "xaxis": {
            "backgroundcolor": "#E5ECF6",
            "gridcolor": "white",
            "gridwidth": 2,
            "linecolor": "white",
            "showbackground": true,
            "ticks": "",
            "zerolinecolor": "white"
           },
           "yaxis": {
            "backgroundcolor": "#E5ECF6",
            "gridcolor": "white",
            "gridwidth": 2,
            "linecolor": "white",
            "showbackground": true,
            "ticks": "",
            "zerolinecolor": "white"
           },
           "zaxis": {
            "backgroundcolor": "#E5ECF6",
            "gridcolor": "white",
            "gridwidth": 2,
            "linecolor": "white",
            "showbackground": true,
            "ticks": "",
            "zerolinecolor": "white"
           }
          },
          "shapedefaults": {
           "line": {
            "color": "#2a3f5f"
           }
          },
          "ternary": {
           "aaxis": {
            "gridcolor": "white",
            "linecolor": "white",
            "ticks": ""
           },
           "baxis": {
            "gridcolor": "white",
            "linecolor": "white",
            "ticks": ""
           },
           "bgcolor": "#E5ECF6",
           "caxis": {
            "gridcolor": "white",
            "linecolor": "white",
            "ticks": ""
           }
          },
          "title": {
           "x": 0.05
          },
          "xaxis": {
           "automargin": true,
           "gridcolor": "white",
           "linecolor": "white",
           "ticks": "",
           "title": {
            "standoff": 15
           },
           "zerolinecolor": "white",
           "zerolinewidth": 2
          },
          "yaxis": {
           "automargin": true,
           "gridcolor": "white",
           "linecolor": "white",
           "ticks": "",
           "title": {
            "standoff": 15
           },
           "zerolinecolor": "white",
           "zerolinewidth": 2
          }
         }
        },
        "title": {
         "font": {
          "color": "#4D5663"
         },
         "text": "Top 6 Part-of-speech tagging para msg_lemm"
        },
        "xaxis": {
         "gridcolor": "#E1E5ED",
         "showgrid": true,
         "tickfont": {
          "color": "#4D5663"
         },
         "title": {
          "font": {
           "color": "#4D5663"
          },
          "text": "POS"
         },
         "zerolinecolor": "#E1E5ED"
        },
        "yaxis": {
         "gridcolor": "#E1E5ED",
         "showgrid": true,
         "tickfont": {
          "color": "#4D5663"
         },
         "title": {
          "font": {
           "color": "#4D5663"
          },
          "text": "count"
         },
         "zerolinecolor": "#E1E5ED"
        }
       }
      },
      "text/html": [
       "<div>                            <div id=\"79a2ec29-a363-41cb-860f-253c89bcc4c9\" class=\"plotly-graph-div\" style=\"height:525px; width:100%;\"></div>            <script type=\"text/javascript\">                require([\"plotly\"], function(Plotly) {                    window.PLOTLYENV=window.PLOTLYENV || {};\n",
       "                    window.PLOTLYENV.BASE_URL='https://plot.ly';                                    if (document.getElementById(\"79a2ec29-a363-41cb-860f-253c89bcc4c9\")) {                    Plotly.newPlot(                        \"79a2ec29-a363-41cb-860f-253c89bcc4c9\",                        [{\"marker\": {\"color\": \"rgba(255, 153, 51, 0.6)\", \"line\": {\"color\": \"rgba(255, 153, 51, 1.0)\", \"width\": 1}}, \"name\": \"pos\", \"orientation\": \"v\", \"text\": \"\", \"type\": \"bar\", \"x\": [\"NN\", \"CD\", \"VBP\", \"NNP\", \"VBD\", \"VB\"], \"y\": [18, 11, 1, 1, 1, 1]}],                        {\"legend\": {\"bgcolor\": \"#F5F6F9\", \"font\": {\"color\": \"#4D5663\"}}, \"paper_bgcolor\": \"#F5F6F9\", \"plot_bgcolor\": \"#F5F6F9\", \"template\": {\"data\": {\"bar\": [{\"error_x\": {\"color\": \"#2a3f5f\"}, \"error_y\": {\"color\": \"#2a3f5f\"}, \"marker\": {\"line\": {\"color\": \"#E5ECF6\", \"width\": 0.5}}, \"type\": \"bar\"}], \"barpolar\": [{\"marker\": {\"line\": {\"color\": \"#E5ECF6\", \"width\": 0.5}}, \"type\": \"barpolar\"}], \"carpet\": [{\"aaxis\": {\"endlinecolor\": \"#2a3f5f\", \"gridcolor\": \"white\", \"linecolor\": \"white\", \"minorgridcolor\": \"white\", \"startlinecolor\": \"#2a3f5f\"}, \"baxis\": {\"endlinecolor\": \"#2a3f5f\", \"gridcolor\": \"white\", \"linecolor\": \"white\", \"minorgridcolor\": \"white\", \"startlinecolor\": \"#2a3f5f\"}, \"type\": \"carpet\"}], \"choropleth\": [{\"colorbar\": {\"outlinewidth\": 0, \"ticks\": \"\"}, \"type\": \"choropleth\"}], \"contour\": [{\"colorbar\": {\"outlinewidth\": 0, \"ticks\": \"\"}, \"colorscale\": [[0.0, \"#0d0887\"], [0.1111111111111111, \"#46039f\"], [0.2222222222222222, \"#7201a8\"], [0.3333333333333333, \"#9c179e\"], [0.4444444444444444, \"#bd3786\"], [0.5555555555555556, \"#d8576b\"], [0.6666666666666666, \"#ed7953\"], [0.7777777777777778, \"#fb9f3a\"], [0.8888888888888888, \"#fdca26\"], [1.0, \"#f0f921\"]], \"type\": \"contour\"}], \"contourcarpet\": [{\"colorbar\": {\"outlinewidth\": 0, \"ticks\": \"\"}, \"type\": \"contourcarpet\"}], \"heatmap\": [{\"colorbar\": {\"outlinewidth\": 0, \"ticks\": \"\"}, \"colorscale\": [[0.0, \"#0d0887\"], [0.1111111111111111, \"#46039f\"], [0.2222222222222222, \"#7201a8\"], [0.3333333333333333, \"#9c179e\"], [0.4444444444444444, \"#bd3786\"], [0.5555555555555556, \"#d8576b\"], [0.6666666666666666, \"#ed7953\"], [0.7777777777777778, \"#fb9f3a\"], [0.8888888888888888, \"#fdca26\"], [1.0, \"#f0f921\"]], \"type\": \"heatmap\"}], \"heatmapgl\": [{\"colorbar\": {\"outlinewidth\": 0, \"ticks\": \"\"}, \"colorscale\": [[0.0, \"#0d0887\"], [0.1111111111111111, \"#46039f\"], [0.2222222222222222, \"#7201a8\"], [0.3333333333333333, \"#9c179e\"], [0.4444444444444444, \"#bd3786\"], [0.5555555555555556, \"#d8576b\"], [0.6666666666666666, \"#ed7953\"], [0.7777777777777778, \"#fb9f3a\"], [0.8888888888888888, \"#fdca26\"], [1.0, \"#f0f921\"]], \"type\": \"heatmapgl\"}], \"histogram\": [{\"marker\": {\"colorbar\": {\"outlinewidth\": 0, \"ticks\": \"\"}}, \"type\": \"histogram\"}], \"histogram2d\": [{\"colorbar\": {\"outlinewidth\": 0, \"ticks\": \"\"}, \"colorscale\": [[0.0, \"#0d0887\"], [0.1111111111111111, \"#46039f\"], [0.2222222222222222, \"#7201a8\"], [0.3333333333333333, \"#9c179e\"], [0.4444444444444444, \"#bd3786\"], [0.5555555555555556, \"#d8576b\"], [0.6666666666666666, \"#ed7953\"], [0.7777777777777778, \"#fb9f3a\"], [0.8888888888888888, \"#fdca26\"], [1.0, \"#f0f921\"]], \"type\": \"histogram2d\"}], \"histogram2dcontour\": [{\"colorbar\": {\"outlinewidth\": 0, \"ticks\": \"\"}, \"colorscale\": [[0.0, \"#0d0887\"], [0.1111111111111111, \"#46039f\"], [0.2222222222222222, \"#7201a8\"], [0.3333333333333333, \"#9c179e\"], [0.4444444444444444, \"#bd3786\"], [0.5555555555555556, \"#d8576b\"], [0.6666666666666666, \"#ed7953\"], [0.7777777777777778, \"#fb9f3a\"], [0.8888888888888888, \"#fdca26\"], [1.0, \"#f0f921\"]], \"type\": \"histogram2dcontour\"}], \"mesh3d\": [{\"colorbar\": {\"outlinewidth\": 0, \"ticks\": \"\"}, \"type\": \"mesh3d\"}], \"parcoords\": [{\"line\": {\"colorbar\": {\"outlinewidth\": 0, \"ticks\": \"\"}}, \"type\": \"parcoords\"}], \"pie\": [{\"automargin\": true, \"type\": \"pie\"}], \"scatter\": [{\"marker\": {\"colorbar\": {\"outlinewidth\": 0, \"ticks\": \"\"}}, \"type\": \"scatter\"}], \"scatter3d\": [{\"line\": {\"colorbar\": {\"outlinewidth\": 0, \"ticks\": \"\"}}, \"marker\": {\"colorbar\": {\"outlinewidth\": 0, \"ticks\": \"\"}}, \"type\": \"scatter3d\"}], \"scattercarpet\": [{\"marker\": {\"colorbar\": {\"outlinewidth\": 0, \"ticks\": \"\"}}, \"type\": \"scattercarpet\"}], \"scattergeo\": [{\"marker\": {\"colorbar\": {\"outlinewidth\": 0, \"ticks\": \"\"}}, \"type\": \"scattergeo\"}], \"scattergl\": [{\"marker\": {\"colorbar\": {\"outlinewidth\": 0, \"ticks\": \"\"}}, \"type\": \"scattergl\"}], \"scattermapbox\": [{\"marker\": {\"colorbar\": {\"outlinewidth\": 0, \"ticks\": \"\"}}, \"type\": \"scattermapbox\"}], \"scatterpolar\": [{\"marker\": {\"colorbar\": {\"outlinewidth\": 0, \"ticks\": \"\"}}, \"type\": \"scatterpolar\"}], \"scatterpolargl\": [{\"marker\": {\"colorbar\": {\"outlinewidth\": 0, \"ticks\": \"\"}}, \"type\": \"scatterpolargl\"}], \"scatterternary\": [{\"marker\": {\"colorbar\": {\"outlinewidth\": 0, \"ticks\": \"\"}}, \"type\": \"scatterternary\"}], \"surface\": [{\"colorbar\": {\"outlinewidth\": 0, \"ticks\": \"\"}, \"colorscale\": [[0.0, \"#0d0887\"], [0.1111111111111111, \"#46039f\"], [0.2222222222222222, \"#7201a8\"], [0.3333333333333333, \"#9c179e\"], [0.4444444444444444, \"#bd3786\"], [0.5555555555555556, \"#d8576b\"], [0.6666666666666666, \"#ed7953\"], [0.7777777777777778, \"#fb9f3a\"], [0.8888888888888888, \"#fdca26\"], [1.0, \"#f0f921\"]], \"type\": \"surface\"}], \"table\": [{\"cells\": {\"fill\": {\"color\": \"#EBF0F8\"}, \"line\": {\"color\": \"white\"}}, \"header\": {\"fill\": {\"color\": \"#C8D4E3\"}, \"line\": {\"color\": \"white\"}}, \"type\": \"table\"}]}, \"layout\": {\"annotationdefaults\": {\"arrowcolor\": \"#2a3f5f\", \"arrowhead\": 0, \"arrowwidth\": 1}, \"autotypenumbers\": \"strict\", \"coloraxis\": {\"colorbar\": {\"outlinewidth\": 0, \"ticks\": \"\"}}, \"colorscale\": {\"diverging\": [[0, \"#8e0152\"], [0.1, \"#c51b7d\"], [0.2, \"#de77ae\"], [0.3, \"#f1b6da\"], [0.4, \"#fde0ef\"], [0.5, \"#f7f7f7\"], [0.6, \"#e6f5d0\"], [0.7, \"#b8e186\"], [0.8, \"#7fbc41\"], [0.9, \"#4d9221\"], [1, \"#276419\"]], \"sequential\": [[0.0, \"#0d0887\"], [0.1111111111111111, \"#46039f\"], [0.2222222222222222, \"#7201a8\"], [0.3333333333333333, \"#9c179e\"], [0.4444444444444444, \"#bd3786\"], [0.5555555555555556, \"#d8576b\"], [0.6666666666666666, \"#ed7953\"], [0.7777777777777778, \"#fb9f3a\"], [0.8888888888888888, \"#fdca26\"], [1.0, \"#f0f921\"]], \"sequentialminus\": [[0.0, \"#0d0887\"], [0.1111111111111111, \"#46039f\"], [0.2222222222222222, \"#7201a8\"], [0.3333333333333333, \"#9c179e\"], [0.4444444444444444, \"#bd3786\"], [0.5555555555555556, \"#d8576b\"], [0.6666666666666666, \"#ed7953\"], [0.7777777777777778, \"#fb9f3a\"], [0.8888888888888888, \"#fdca26\"], [1.0, \"#f0f921\"]]}, \"colorway\": [\"#636efa\", \"#EF553B\", \"#00cc96\", \"#ab63fa\", \"#FFA15A\", \"#19d3f3\", \"#FF6692\", \"#B6E880\", \"#FF97FF\", \"#FECB52\"], \"font\": {\"color\": \"#2a3f5f\"}, \"geo\": {\"bgcolor\": \"white\", \"lakecolor\": \"white\", \"landcolor\": \"#E5ECF6\", \"showlakes\": true, \"showland\": true, \"subunitcolor\": \"white\"}, \"hoverlabel\": {\"align\": \"left\"}, \"hovermode\": \"closest\", \"mapbox\": {\"style\": \"light\"}, \"paper_bgcolor\": \"white\", \"plot_bgcolor\": \"#E5ECF6\", \"polar\": {\"angularaxis\": {\"gridcolor\": \"white\", \"linecolor\": \"white\", \"ticks\": \"\"}, \"bgcolor\": \"#E5ECF6\", \"radialaxis\": {\"gridcolor\": \"white\", \"linecolor\": \"white\", \"ticks\": \"\"}}, \"scene\": {\"xaxis\": {\"backgroundcolor\": \"#E5ECF6\", \"gridcolor\": \"white\", \"gridwidth\": 2, \"linecolor\": \"white\", \"showbackground\": true, \"ticks\": \"\", \"zerolinecolor\": \"white\"}, \"yaxis\": {\"backgroundcolor\": \"#E5ECF6\", \"gridcolor\": \"white\", \"gridwidth\": 2, \"linecolor\": \"white\", \"showbackground\": true, \"ticks\": \"\", \"zerolinecolor\": \"white\"}, \"zaxis\": {\"backgroundcolor\": \"#E5ECF6\", \"gridcolor\": \"white\", \"gridwidth\": 2, \"linecolor\": \"white\", \"showbackground\": true, \"ticks\": \"\", \"zerolinecolor\": \"white\"}}, \"shapedefaults\": {\"line\": {\"color\": \"#2a3f5f\"}}, \"ternary\": {\"aaxis\": {\"gridcolor\": \"white\", \"linecolor\": \"white\", \"ticks\": \"\"}, \"baxis\": {\"gridcolor\": \"white\", \"linecolor\": \"white\", \"ticks\": \"\"}, \"bgcolor\": \"#E5ECF6\", \"caxis\": {\"gridcolor\": \"white\", \"linecolor\": \"white\", \"ticks\": \"\"}}, \"title\": {\"x\": 0.05}, \"xaxis\": {\"automargin\": true, \"gridcolor\": \"white\", \"linecolor\": \"white\", \"ticks\": \"\", \"title\": {\"standoff\": 15}, \"zerolinecolor\": \"white\", \"zerolinewidth\": 2}, \"yaxis\": {\"automargin\": true, \"gridcolor\": \"white\", \"linecolor\": \"white\", \"ticks\": \"\", \"title\": {\"standoff\": 15}, \"zerolinecolor\": \"white\", \"zerolinewidth\": 2}}}, \"title\": {\"font\": {\"color\": \"#4D5663\"}, \"text\": \"Top 6 Part-of-speech tagging para msg_lemm\"}, \"xaxis\": {\"gridcolor\": \"#E1E5ED\", \"showgrid\": true, \"tickfont\": {\"color\": \"#4D5663\"}, \"title\": {\"font\": {\"color\": \"#4D5663\"}, \"text\": \"POS\"}, \"zerolinecolor\": \"#E1E5ED\"}, \"yaxis\": {\"gridcolor\": \"#E1E5ED\", \"showgrid\": true, \"tickfont\": {\"color\": \"#4D5663\"}, \"title\": {\"font\": {\"color\": \"#4D5663\"}, \"text\": \"count\"}, \"zerolinecolor\": \"#E1E5ED\"}},                        {\"showLink\": true, \"linkText\": \"Export to plot.ly\", \"plotlyServerURL\": \"https://plot.ly\", \"responsive\": true}                    ).then(function(){\n",
       "                            \n",
       "var gd = document.getElementById('79a2ec29-a363-41cb-860f-253c89bcc4c9');\n",
       "var x = new MutationObserver(function (mutations, observer) {{\n",
       "        var display = window.getComputedStyle(gd).display;\n",
       "        if (!display || display === 'none') {{\n",
       "            console.log([gd, 'removed!']);\n",
       "            Plotly.purge(gd);\n",
       "            observer.disconnect();\n",
       "        }}\n",
       "}});\n",
       "\n",
       "// Listen for the removal of the full notebook cells\n",
       "var notebookContainer = gd.closest('#notebook-container');\n",
       "if (notebookContainer) {{\n",
       "    x.observe(notebookContainer, {childList: true});\n",
       "}}\n",
       "\n",
       "// Listen for the clearing of the current output cell\n",
       "var outputEl = gd.closest('.output');\n",
       "if (outputEl) {{\n",
       "    x.observe(outputEl, {childList: true});\n",
       "}}\n",
       "\n",
       "                        })                };                });            </script>        </div>"
      ]
     },
     "metadata": {},
     "output_type": "display_data"
    }
   ],
   "source": [
    "blob = TextBlob(str(data['msg_lemm']))\n",
    "pos_df = pd.DataFrame(blob.tags, columns = ['word' , 'pos'])\n",
    "pos_df = pos_df.pos.value_counts()[:20]\n",
    "pos_df.iplot(\n",
    "    kind='bar',\n",
    "    xTitle='POS',\n",
    "    yTitle='count', \n",
    "    title='Top 6 Part-of-speech tagging para msg_lemm')"
   ]
  },
  {
   "cell_type": "markdown",
   "metadata": {
    "papermill": {
     "duration": 0.210859,
     "end_time": "2021-03-05T00:04:06.153963",
     "exception": false,
     "start_time": "2021-03-05T00:04:05.943104",
     "status": "completed"
    },
    "tags": []
   },
   "source": [
    "# C)Machine Learning"
   ]
  },
  {
   "cell_type": "code",
   "execution_count": 72,
   "metadata": {
    "execution": {
     "iopub.execute_input": "2021-03-05T00:04:06.600420Z",
     "iopub.status.busy": "2021-03-05T00:04:06.599415Z",
     "iopub.status.idle": "2021-03-05T00:04:09.020647Z",
     "shell.execute_reply": "2021-03-05T00:04:09.021543Z"
    },
    "papermill": {
     "duration": 2.65061,
     "end_time": "2021-03-05T00:04:09.021816",
     "exception": false,
     "start_time": "2021-03-05T00:04:06.371206",
     "status": "completed"
    },
    "tags": []
   },
   "outputs": [
    {
     "name": "stdout",
     "output_type": "stream",
     "text": [
      "(199532, 2448)\n",
      "(49883, 2448)\n"
     ]
    }
   ],
   "source": [
    "X_train, X_test, y_train, y_test = train_test_split(np.array(data['msg_lemm']), \n",
    "                                                    np.array(data['predator']), stratify = np.array(data['predator']),\n",
    "                                                    test_size = 0.20, random_state = 42)\n",
    "\n",
    "tfidf = TfidfVectorizer(min_df = 0.00015, norm = 'l2', use_idf = True, smooth_idf = True)\n",
    "\n",
    "X_train = tfidf.fit_transform(X_train)\n",
    "X_test = tfidf.transform(X_test)\n",
    "\n",
    "print(X_train.shape)\n",
    "print(X_test.shape)"
   ]
  },
  {
   "cell_type": "code",
   "execution_count": 73,
   "metadata": {
    "execution": {
     "iopub.execute_input": "2021-03-05T00:04:09.713104Z",
     "iopub.status.busy": "2021-03-05T00:04:09.709980Z",
     "iopub.status.idle": "2021-03-05T00:04:09.714046Z",
     "shell.execute_reply": "2021-03-05T00:04:09.714901Z"
    },
    "papermill": {
     "duration": 0.358188,
     "end_time": "2021-03-05T00:04:09.715110",
     "exception": false,
     "start_time": "2021-03-05T00:04:09.356922",
     "status": "completed"
    },
    "tags": []
   },
   "outputs": [],
   "source": [
    "all_words = tfidf.get_feature_names()"
   ]
  },
  {
   "cell_type": "markdown",
   "metadata": {
    "papermill": {
     "duration": 0.300985,
     "end_time": "2021-03-05T00:04:10.325003",
     "exception": false,
     "start_time": "2021-03-05T00:04:10.024018",
     "status": "completed"
    },
    "tags": []
   },
   "source": [
    "### SMOTE: para dataset imbalanceado"
   ]
  },
  {
   "cell_type": "code",
   "execution_count": 74,
   "metadata": {
    "execution": {
     "iopub.execute_input": "2021-03-05T00:04:10.809265Z",
     "iopub.status.busy": "2021-03-05T00:04:10.808057Z",
     "iopub.status.idle": "2021-03-05T00:04:10.811611Z",
     "shell.execute_reply": "2021-03-05T00:04:10.811022Z"
    },
    "papermill": {
     "duration": 0.238138,
     "end_time": "2021-03-05T00:04:10.811772",
     "exception": false,
     "start_time": "2021-03-05T00:04:10.573634",
     "status": "completed"
    },
    "tags": []
   },
   "outputs": [],
   "source": [
    "over = SMOTE(random_state=42)\n",
    "under = RandomUnderSampler(random_state=42)\n",
    "\n",
    "steps = [('o', over), ('u', under)]\n",
    "pipeline = Pipeline(steps=steps)"
   ]
  },
  {
   "cell_type": "code",
   "execution_count": 75,
   "metadata": {
    "execution": {
     "iopub.execute_input": "2021-03-05T00:04:11.276853Z",
     "iopub.status.busy": "2021-03-05T00:04:11.275879Z",
     "iopub.status.idle": "2021-03-05T00:04:27.560489Z",
     "shell.execute_reply": "2021-03-05T00:04:27.559393Z"
    },
    "papermill": {
     "duration": 16.519777,
     "end_time": "2021-03-05T00:04:27.560664",
     "exception": false,
     "start_time": "2021-03-05T00:04:11.040887",
     "status": "completed"
    },
    "tags": []
   },
   "outputs": [],
   "source": [
    "X_train, y_train = pipeline.fit_resample(X_train, y_train)\n"
   ]
  },
  {
   "cell_type": "code",
   "execution_count": 76,
   "metadata": {
    "execution": {
     "iopub.execute_input": "2021-03-05T00:04:28.015721Z",
     "iopub.status.busy": "2021-03-05T00:04:28.014800Z",
     "iopub.status.idle": "2021-03-05T00:04:28.043290Z",
     "shell.execute_reply": "2021-03-05T00:04:28.042731Z"
    },
    "papermill": {
     "duration": 0.25842,
     "end_time": "2021-03-05T00:04:28.043448",
     "exception": false,
     "start_time": "2021-03-05T00:04:27.785028",
     "status": "completed"
    },
    "tags": []
   },
   "outputs": [],
   "source": [
    "X_train = X_train.astype(np.uint8)\n",
    "X_test = X_test.astype(np.uint8)"
   ]
  },
  {
   "cell_type": "markdown",
   "metadata": {
    "papermill": {
     "duration": 0.221067,
     "end_time": "2021-03-05T00:04:28.489035",
     "exception": false,
     "start_time": "2021-03-05T00:04:28.267968",
     "status": "completed"
    },
    "tags": []
   },
   "source": [
    "# C.1)Metrica"
   ]
  },
  {
   "cell_type": "markdown",
   "metadata": {
    "papermill": {
     "duration": 0.298635,
     "end_time": "2021-03-05T00:04:29.010229",
     "exception": false,
     "start_time": "2021-03-05T00:04:28.711594",
     "status": "completed"
    },
    "tags": []
   },
   "source": [
    "### Para el desarrollo del presente trabajo utilizaremos 2 metricas:\n",
    "\n",
    "    Accuracy: Debido a que se trabajara con un dataset balanceado, esto es posible despues de procesar los datos con SMOTE Y RandomUnderSampler\n",
    "\n",
    "    F1: Esta metrica se utilizara como complemento y para mostrar el poder de los modelos, ya que nos da una vision mas integral al tener en cuenta tanto el accuracy como el recall del modelo.\n",
    "    \n",
    "#### Vale aclarar que F1 es una metrica nula para las redes neuronales, esto se debe a que F1 trabaja con la globalidad y las redes neuronales funcionan analizando los batchs. Aun asi fue incluida esta medida como forma demostrativa. Pero en este caso se recomienda guiarse con accuracy o en su caso val_accuracy"
   ]
  },
  {
   "cell_type": "markdown",
   "metadata": {
    "papermill": {
     "duration": 0.363482,
     "end_time": "2021-03-05T00:04:29.702920",
     "exception": false,
     "start_time": "2021-03-05T00:04:29.339438",
     "status": "completed"
    },
    "tags": []
   },
   "source": [
    "# C.2) Benchmark"
   ]
  },
  {
   "cell_type": "markdown",
   "metadata": {
    "papermill": {
     "duration": 0.251175,
     "end_time": "2021-03-05T00:04:30.276036",
     "exception": false,
     "start_time": "2021-03-05T00:04:30.024861",
     "status": "completed"
    },
    "tags": []
   },
   "source": [
    "### LinearSVC"
   ]
  },
  {
   "cell_type": "code",
   "execution_count": 77,
   "metadata": {
    "execution": {
     "iopub.execute_input": "2021-03-05T00:04:30.728269Z",
     "iopub.status.busy": "2021-03-05T00:04:30.727159Z",
     "iopub.status.idle": "2021-03-05T00:04:37.981967Z",
     "shell.execute_reply": "2021-03-05T00:04:37.980939Z"
    },
    "papermill": {
     "duration": 7.485437,
     "end_time": "2021-03-05T00:04:37.982123",
     "exception": false,
     "start_time": "2021-03-05T00:04:30.496686",
     "status": "completed"
    },
    "tags": []
   },
   "outputs": [
    {
     "data": {
      "text/plain": [
       "LinearSVC(C=0.1)"
      ]
     },
     "execution_count": 77,
     "metadata": {},
     "output_type": "execute_result"
    }
   ],
   "source": [
    "svc = LinearSVC(C = 0.1)\n",
    "svc.fit(X_train.todense(),y_train)"
   ]
  },
  {
   "cell_type": "code",
   "execution_count": 78,
   "metadata": {
    "execution": {
     "iopub.execute_input": "2021-03-05T00:04:38.433462Z",
     "iopub.status.busy": "2021-03-05T00:04:38.432431Z",
     "iopub.status.idle": "2021-03-05T00:04:42.517018Z",
     "shell.execute_reply": "2021-03-05T00:04:42.518299Z"
    },
    "papermill": {
     "duration": 4.312495,
     "end_time": "2021-03-05T00:04:42.518538",
     "exception": false,
     "start_time": "2021-03-05T00:04:38.206043",
     "status": "completed"
    },
    "tags": []
   },
   "outputs": [
    {
     "name": "stdout",
     "output_type": "stream",
     "text": [
      "Accuracy train LinearSVC:  0.6196499297304203\n",
      "Accuracy test LinearSVC:  0.7875628971793998\n"
     ]
    }
   ],
   "source": [
    "y_train_pred = svc.predict(X_train.todense())\n",
    "y_test_pred = svc.predict(X_test.todense())\n",
    "\n",
    "print(\"Accuracy train LinearSVC: \", accuracy_score(y_train, y_train_pred))\n",
    "print(\"Accuracy test LinearSVC: \", accuracy_score(y_test, y_test_pred))"
   ]
  },
  {
   "cell_type": "code",
   "execution_count": 79,
   "metadata": {
    "execution": {
     "iopub.execute_input": "2021-03-05T00:04:43.269552Z",
     "iopub.status.busy": "2021-03-05T00:04:43.268086Z",
     "iopub.status.idle": "2021-03-05T00:04:43.287611Z",
     "shell.execute_reply": "2021-03-05T00:04:43.288640Z"
    },
    "papermill": {
     "duration": 0.40985,
     "end_time": "2021-03-05T00:04:43.288847",
     "exception": false,
     "start_time": "2021-03-05T00:04:42.878997",
     "status": "completed"
    },
    "tags": []
   },
   "outputs": [
    {
     "name": "stdout",
     "output_type": "stream",
     "text": [
      "              precision    recall  f1-score   support\n",
      "\n",
      "           0       0.90      0.85      0.87     43049\n",
      "           1       0.29      0.39      0.33      6834\n",
      "\n",
      "    accuracy                           0.79     49883\n",
      "   macro avg       0.59      0.62      0.60     49883\n",
      "weighted avg       0.81      0.79      0.80     49883\n",
      "\n"
     ]
    }
   ],
   "source": [
    "print(classification_report(y_test, y_test_pred)) "
   ]
  },
  {
   "cell_type": "code",
   "execution_count": 80,
   "metadata": {
    "execution": {
     "iopub.execute_input": "2021-03-05T00:04:43.778393Z",
     "iopub.status.busy": "2021-03-05T00:04:43.777338Z",
     "iopub.status.idle": "2021-03-05T00:04:44.575425Z",
     "shell.execute_reply": "2021-03-05T00:04:44.575960Z"
    },
    "papermill": {
     "duration": 1.023077,
     "end_time": "2021-03-05T00:04:44.576167",
     "exception": false,
     "start_time": "2021-03-05T00:04:43.553090",
     "status": "completed"
    },
    "tags": []
   },
   "outputs": [
    {
     "data": {
      "text/plain": [
       "<sklearn.metrics._plot.confusion_matrix.ConfusionMatrixDisplay at 0x7f2f58890fd0>"
      ]
     },
     "execution_count": 80,
     "metadata": {},
     "output_type": "execute_result"
    },
    {
     "data": {
      "image/png": "[encoded data removed]",
      "text/plain": [
       "<Figure size 576x396 with 2 Axes>"
      ]
     },
     "metadata": {},
     "output_type": "display_data"
    }
   ],
   "source": [
    "plot_confusion_matrix(svc, X_test.todense(), y_test)  "
   ]
  },
  {
   "cell_type": "code",
   "execution_count": 81,
   "metadata": {
    "execution": {
     "iopub.execute_input": "2021-03-05T00:04:45.042061Z",
     "iopub.status.busy": "2021-03-05T00:04:45.041389Z",
     "iopub.status.idle": "2021-03-05T00:04:45.430418Z",
     "shell.execute_reply": "2021-03-05T00:04:45.430996Z"
    },
    "papermill": {
     "duration": 0.625548,
     "end_time": "2021-03-05T00:04:45.431205",
     "exception": false,
     "start_time": "2021-03-05T00:04:44.805657",
     "status": "completed"
    },
    "tags": []
   },
   "outputs": [
    {
     "data": {
      "image/png": "[encoded data removed]",
      "text/plain": [
       "<Figure size 1008x576 with 1 Axes>"
      ]
     },
     "metadata": {},
     "output_type": "display_data"
    }
   ],
   "source": [
    "coeff = list(svc.coef_[0])\n",
    "labels = list(all_words)\n",
    "importancia = pd.DataFrame()\n",
    "importancia['words'] = labels\n",
    "importancia['orden'] = coeff\n",
    "importancia = importancia.reset_index(drop=True)\n",
    "orden_imp = importancia.sort_values(by=['orden'], ascending=False)\n",
    "orden_imp = orden_imp.reset_index(drop=True)\n",
    "plot = pd.concat([orden_imp.head(10), orden_imp.tail(10)])\n",
    "plot.sort_values(by=['orden'], ascending=False, inplace = True)\n",
    "plot['vpos'] = plot['orden'] > 0\n",
    "plot.set_index('words', inplace = True)\n",
    "plot.orden.plot(kind='bar', figsize = (14,8),color = plot.vpos.map({True: 'pink', False: 'violet'}),fontsize=12,orientation=u'vertical')\n",
    "plt.xlabel ('words', fontsize=12)\n",
    "plt.xticks(rotation=45)\n",
    "plt.ylabel ('orden', rotation = 90, fontsize=12)\n",
    "plt.title ('Word importance for predator/no predator ',fontsize=20)\n",
    "plt.show()"
   ]
  },
  {
   "cell_type": "markdown",
   "metadata": {
    "papermill": {
     "duration": 0.225334,
     "end_time": "2021-03-05T00:04:45.880089",
     "exception": false,
     "start_time": "2021-03-05T00:04:45.654755",
     "status": "completed"
    },
    "tags": []
   },
   "source": [
    "### Aqui nuestro modelo de LinearSVC sera nuestro benchmark. A partir de este punto implementaremos Redes Neuronales."
   ]
  },
  {
   "cell_type": "markdown",
   "metadata": {
    "papermill": {
     "duration": 0.221626,
     "end_time": "2021-03-05T00:04:46.325645",
     "exception": false,
     "start_time": "2021-03-05T00:04:46.104019",
     "status": "completed"
    },
    "tags": []
   },
   "source": [
    "# D) Deep Learning"
   ]
  },
  {
   "cell_type": "code",
   "execution_count": 82,
   "metadata": {
    "execution": {
     "iopub.execute_input": "2021-03-05T00:04:46.781994Z",
     "iopub.status.busy": "2021-03-05T00:04:46.781117Z",
     "iopub.status.idle": "2021-03-05T00:04:51.750927Z",
     "shell.execute_reply": "2021-03-05T00:04:51.749687Z"
    },
    "papermill": {
     "duration": 5.203538,
     "end_time": "2021-03-05T00:04:51.751099",
     "exception": false,
     "start_time": "2021-03-05T00:04:46.547561",
     "status": "completed"
    },
    "tags": []
   },
   "outputs": [],
   "source": [
    "import tensorflow as tf\n",
    "from tensorflow.keras.callbacks import EarlyStopping\n",
    "from keras.preprocessing.text import Tokenizer\n",
    "from keras.preprocessing.sequence import pad_sequences\n",
    "from keras.models import Sequential\n",
    "from keras.layers.core import Activation, Dropout, Dense\n",
    "from keras.layers import Flatten\n",
    "from keras.layers import GlobalMaxPooling1D\n",
    "from keras.layers.embeddings import Embedding\n",
    "from keras.preprocessing.text import Tokenizer\n",
    "from keras.layers.core import SpatialDropout1D\n",
    "import keras\n",
    "from keras.layers.convolutional import Conv1D   \n",
    "from numpy import array\n",
    "from numpy import asarray\n",
    "from numpy import zeros"
   ]
  },
  {
   "cell_type": "markdown",
   "metadata": {
    "papermill": {
     "duration": 0.238796,
     "end_time": "2021-03-05T00:04:52.214394",
     "exception": false,
     "start_time": "2021-03-05T00:04:51.975598",
     "status": "completed"
    },
    "tags": []
   },
   "source": [
    "### Metricas globales"
   ]
  },
  {
   "cell_type": "code",
   "execution_count": 83,
   "metadata": {
    "execution": {
     "iopub.execute_input": "2021-03-05T00:04:52.674867Z",
     "iopub.status.busy": "2021-03-05T00:04:52.673815Z",
     "iopub.status.idle": "2021-03-05T00:04:52.676884Z",
     "shell.execute_reply": "2021-03-05T00:04:52.676359Z"
    },
    "papermill": {
     "duration": 0.239223,
     "end_time": "2021-03-05T00:04:52.677021",
     "exception": false,
     "start_time": "2021-03-05T00:04:52.437798",
     "status": "completed"
    },
    "tags": []
   },
   "outputs": [],
   "source": [
    "from keras import backend as K\n",
    "\n",
    "def recall_m(y_true, y_pred):\n",
    "    true_positives = K.sum(K.round(K.clip(y_true * y_pred, 0, 1)))\n",
    "    possible_positives = K.sum(K.round(K.clip(y_true, 0, 1)))\n",
    "    recall = true_positives / (possible_positives + K.epsilon())\n",
    "    return recall\n",
    "\n",
    "def precision_m(y_true, y_pred):\n",
    "    true_positives = K.sum(K.round(K.clip(y_true * y_pred, 0, 1)))\n",
    "    predicted_positives = K.sum(K.round(K.clip(y_pred, 0, 1)))\n",
    "    precision = true_positives / (predicted_positives + K.epsilon())\n",
    "    return precision\n",
    "\n",
    "def f1_m(y_true, y_pred):\n",
    "    precision = precision_m(y_true, y_pred)\n",
    "    recall = recall_m(y_true, y_pred)\n",
    "    return 2*((precision*recall)/(precision+recall+K.epsilon()))"
   ]
  },
  {
   "cell_type": "markdown",
   "metadata": {
    "papermill": {
     "duration": 0.289387,
     "end_time": "2021-03-05T00:04:53.189931",
     "exception": false,
     "start_time": "2021-03-05T00:04:52.900544",
     "status": "completed"
    },
    "tags": []
   },
   "source": [
    "### Earlystopping"
   ]
  },
  {
   "cell_type": "code",
   "execution_count": 84,
   "metadata": {
    "execution": {
     "iopub.execute_input": "2021-03-05T00:04:53.856224Z",
     "iopub.status.busy": "2021-03-05T00:04:53.855194Z",
     "iopub.status.idle": "2021-03-05T00:04:53.857853Z",
     "shell.execute_reply": "2021-03-05T00:04:53.857064Z"
    },
    "papermill": {
     "duration": 0.34929,
     "end_time": "2021-03-05T00:04:53.858037",
     "exception": false,
     "start_time": "2021-03-05T00:04:53.508747",
     "status": "completed"
    },
    "tags": []
   },
   "outputs": [],
   "source": [
    "custom_early_stopping = EarlyStopping(\n",
    "    monitor='val_accuracy', \n",
    "    patience=20,\n",
    "    restore_best_weights=True\n",
    ")"
   ]
  },
  {
   "cell_type": "code",
   "execution_count": 85,
   "metadata": {
    "execution": {
     "iopub.execute_input": "2021-03-05T00:04:54.438638Z",
     "iopub.status.busy": "2021-03-05T00:04:54.437556Z",
     "iopub.status.idle": "2021-03-05T00:04:54.444446Z",
     "shell.execute_reply": "2021-03-05T00:04:54.443781Z"
    },
    "papermill": {
     "duration": 0.296818,
     "end_time": "2021-03-05T00:04:54.444583",
     "exception": false,
     "start_time": "2021-03-05T00:04:54.147765",
     "status": "completed"
    },
    "tags": []
   },
   "outputs": [],
   "source": [
    "x = {0: 0,1:1}\n",
    "\n",
    "data['binario'] = data['predator'].map(x)"
   ]
  },
  {
   "cell_type": "code",
   "execution_count": 86,
   "metadata": {
    "execution": {
     "iopub.execute_input": "2021-03-05T00:04:54.904854Z",
     "iopub.status.busy": "2021-03-05T00:04:54.903901Z",
     "iopub.status.idle": "2021-03-05T00:04:54.906704Z",
     "shell.execute_reply": "2021-03-05T00:04:54.907232Z"
    },
    "papermill": {
     "duration": 0.23438,
     "end_time": "2021-03-05T00:04:54.907391",
     "exception": false,
     "start_time": "2021-03-05T00:04:54.673011",
     "status": "completed"
    },
    "tags": []
   },
   "outputs": [],
   "source": [
    "X = data['msg_lemm']\n",
    "y = data[\"binario\"].values"
   ]
  },
  {
   "cell_type": "code",
   "execution_count": 87,
   "metadata": {
    "execution": {
     "iopub.execute_input": "2021-03-05T00:04:55.358867Z",
     "iopub.status.busy": "2021-03-05T00:04:55.357963Z",
     "iopub.status.idle": "2021-03-05T00:04:55.561297Z",
     "shell.execute_reply": "2021-03-05T00:04:55.560626Z"
    },
    "papermill": {
     "duration": 0.43264,
     "end_time": "2021-03-05T00:04:55.561538",
     "exception": false,
     "start_time": "2021-03-05T00:04:55.128898",
     "status": "completed"
    },
    "tags": []
   },
   "outputs": [],
   "source": [
    "X_train, X_test, y_train, y_test = train_test_split(X,y,test_size=0.3,random_state=42,stratify=y)"
   ]
  },
  {
   "cell_type": "markdown",
   "metadata": {
    "papermill": {
     "duration": 0.221867,
     "end_time": "2021-03-05T00:04:56.018099",
     "exception": false,
     "start_time": "2021-03-05T00:04:55.796232",
     "status": "completed"
    },
    "tags": []
   },
   "source": [
    "### Red Neuronal Simple"
   ]
  },
  {
   "cell_type": "code",
   "execution_count": 88,
   "metadata": {
    "execution": {
     "iopub.execute_input": "2021-03-05T00:04:56.501819Z",
     "iopub.status.busy": "2021-03-05T00:04:56.486562Z",
     "iopub.status.idle": "2021-03-05T00:05:04.908203Z",
     "shell.execute_reply": "2021-03-05T00:05:04.908946Z"
    },
    "papermill": {
     "duration": 8.667856,
     "end_time": "2021-03-05T00:05:04.909226",
     "exception": false,
     "start_time": "2021-03-05T00:04:56.241370",
     "status": "completed"
    },
    "tags": []
   },
   "outputs": [],
   "source": [
    "max_words = 5000\n",
    "\n",
    "tokenizer = Tokenizer(num_words=max_words)\n",
    "tokenizer.fit_on_texts(X_train)\n",
    "X_train = tokenizer.texts_to_sequences(X_train)\n",
    "X_test = tokenizer.texts_to_sequences(X_test)\n",
    "\n",
    "X_train = tokenizer.sequences_to_matrix(X_train, mode='count')\n",
    "X_test = tokenizer.sequences_to_matrix(X_test, mode='count')\n",
    "\n",
    "\n",
    "num_classes = max(y_train) + 1\n",
    "\n",
    "y_train = keras.utils.to_categorical(y_train, num_classes)\n",
    "y_test = keras.utils.to_categorical(y_test, num_classes)"
   ]
  },
  {
   "cell_type": "code",
   "execution_count": 89,
   "metadata": {
    "execution": {
     "iopub.execute_input": "2021-03-05T00:05:05.473400Z",
     "iopub.status.busy": "2021-03-05T00:05:05.472640Z",
     "iopub.status.idle": "2021-03-05T00:05:08.163953Z",
     "shell.execute_reply": "2021-03-05T00:05:08.163335Z"
    },
    "papermill": {
     "duration": 2.972243,
     "end_time": "2021-03-05T00:05:08.164118",
     "exception": false,
     "start_time": "2021-03-05T00:05:05.191875",
     "status": "completed"
    },
    "tags": []
   },
   "outputs": [],
   "source": [
    "model = Sequential()\n",
    "model.add(Dense(128, input_shape=(max_words,)))\n",
    "model.add(Dropout(0.5))\n",
    "model.add(Activation('relu'))\n",
    "model.add(Dense(64))\n",
    "model.add(Dropout(0.5))\n",
    "model.add(Dense(32))\n",
    "model.add(Dropout(0.5))\n",
    "model.add(Activation('relu'))\n",
    "model.add(Dense(num_classes))\n",
    "model.add(Activation('softmax'))"
   ]
  },
  {
   "cell_type": "code",
   "execution_count": 90,
   "metadata": {
    "execution": {
     "iopub.execute_input": "2021-03-05T00:05:08.626341Z",
     "iopub.status.busy": "2021-03-05T00:05:08.625420Z",
     "iopub.status.idle": "2021-03-05T00:05:08.634849Z",
     "shell.execute_reply": "2021-03-05T00:05:08.634285Z"
    },
    "papermill": {
     "duration": 0.247123,
     "end_time": "2021-03-05T00:05:08.635027",
     "exception": false,
     "start_time": "2021-03-05T00:05:08.387904",
     "status": "completed"
    },
    "tags": []
   },
   "outputs": [
    {
     "name": "stdout",
     "output_type": "stream",
     "text": [
      "[]\n"
     ]
    }
   ],
   "source": [
    "model.compile(loss='binary_crossentropy', optimizer='adam', metrics=['accuracy',f1_m,precision_m, recall_m])\n",
    "print(model.metrics_names)"
   ]
  },
  {
   "cell_type": "code",
   "execution_count": 91,
   "metadata": {
    "execution": {
     "iopub.execute_input": "2021-03-05T00:05:09.093165Z",
     "iopub.status.busy": "2021-03-05T00:05:09.092078Z",
     "iopub.status.idle": "2021-03-05T00:05:09.100608Z",
     "shell.execute_reply": "2021-03-05T00:05:09.101328Z"
    },
    "papermill": {
     "duration": 0.241447,
     "end_time": "2021-03-05T00:05:09.101511",
     "exception": false,
     "start_time": "2021-03-05T00:05:08.860064",
     "status": "completed"
    },
    "tags": []
   },
   "outputs": [
    {
     "name": "stdout",
     "output_type": "stream",
     "text": [
      "Model: \"sequential\"\n",
      "_________________________________________________________________\n",
      "Layer (type)                 Output Shape              Param #   \n",
      "=================================================================\n",
      "dense (Dense)                (None, 128)               640128    \n",
      "_________________________________________________________________\n",
      "dropout (Dropout)            (None, 128)               0         \n",
      "_________________________________________________________________\n",
      "activation (Activation)      (None, 128)               0         \n",
      "_________________________________________________________________\n",
      "dense_1 (Dense)              (None, 64)                8256      \n",
      "_________________________________________________________________\n",
      "dropout_1 (Dropout)          (None, 64)                0         \n",
      "_________________________________________________________________\n",
      "dense_2 (Dense)              (None, 32)                2080      \n",
      "_________________________________________________________________\n",
      "dropout_2 (Dropout)          (None, 32)                0         \n",
      "_________________________________________________________________\n",
      "activation_1 (Activation)    (None, 32)                0         \n",
      "_________________________________________________________________\n",
      "dense_3 (Dense)              (None, 2)                 66        \n",
      "_________________________________________________________________\n",
      "activation_2 (Activation)    (None, 2)                 0         \n",
      "=================================================================\n",
      "Total params: 650,530\n",
      "Trainable params: 650,530\n",
      "Non-trainable params: 0\n",
      "_________________________________________________________________\n"
     ]
    }
   ],
   "source": [
    "model.summary()"
   ]
  },
  {
   "cell_type": "code",
   "execution_count": 92,
   "metadata": {
    "execution": {
     "iopub.execute_input": "2021-03-05T00:05:09.555962Z",
     "iopub.status.busy": "2021-03-05T00:05:09.555275Z",
     "iopub.status.idle": "2021-03-05T00:05:09.560159Z",
     "shell.execute_reply": "2021-03-05T00:05:09.559592Z"
    },
    "papermill": {
     "duration": 0.234041,
     "end_time": "2021-03-05T00:05:09.560312",
     "exception": false,
     "start_time": "2021-03-05T00:05:09.326271",
     "status": "completed"
    },
    "tags": []
   },
   "outputs": [],
   "source": [
    "batch_size = 32\n",
    "epochs = 50"
   ]
  },
  {
   "cell_type": "code",
   "execution_count": 93,
   "metadata": {
    "execution": {
     "iopub.execute_input": "2021-03-05T00:05:10.019843Z",
     "iopub.status.busy": "2021-03-05T00:05:10.018992Z",
     "iopub.status.idle": "2021-03-05T00:13:06.781342Z",
     "shell.execute_reply": "2021-03-05T00:13:06.780716Z"
    },
    "papermill": {
     "duration": 476.990184,
     "end_time": "2021-03-05T00:13:06.781514",
     "exception": false,
     "start_time": "2021-03-05T00:05:09.791330",
     "status": "completed"
    },
    "tags": []
   },
   "outputs": [
    {
     "name": "stdout",
     "output_type": "stream",
     "text": [
      "Epoch 1/50\n",
      "3820/3820 [==============================] - 25s 6ms/step - loss: 0.3588 - accuracy: 0.8633 - f1_m: 0.8633 - precision_m: 0.8633 - recall_m: 0.8633 - val_loss: 0.3037 - val_accuracy: 0.8708 - val_f1_m: 0.8708 - val_precision_m: 0.8708 - val_recall_m: 0.8708\n",
      "Epoch 2/50\n",
      "3820/3820 [==============================] - 20s 5ms/step - loss: 0.2915 - accuracy: 0.8735 - f1_m: 0.8735 - precision_m: 0.8735 - recall_m: 0.8735 - val_loss: 0.2939 - val_accuracy: 0.8731 - val_f1_m: 0.8731 - val_precision_m: 0.8731 - val_recall_m: 0.8731\n",
      "Epoch 3/50\n",
      "3820/3820 [==============================] - 21s 5ms/step - loss: 0.2830 - accuracy: 0.8755 - f1_m: 0.8755 - precision_m: 0.8755 - recall_m: 0.8755 - val_loss: 0.2950 - val_accuracy: 0.8741 - val_f1_m: 0.8741 - val_precision_m: 0.8741 - val_recall_m: 0.8741\n",
      "Epoch 4/50\n",
      "3820/3820 [==============================] - 20s 5ms/step - loss: 0.2758 - accuracy: 0.8791 - f1_m: 0.8791 - precision_m: 0.8791 - recall_m: 0.8791 - val_loss: 0.2956 - val_accuracy: 0.8730 - val_f1_m: 0.8730 - val_precision_m: 0.8730 - val_recall_m: 0.8730\n",
      "Epoch 5/50\n",
      "3820/3820 [==============================] - 20s 5ms/step - loss: 0.2703 - accuracy: 0.8805 - f1_m: 0.8805 - precision_m: 0.8805 - recall_m: 0.8805 - val_loss: 0.2959 - val_accuracy: 0.8714 - val_f1_m: 0.8714 - val_precision_m: 0.8714 - val_recall_m: 0.8714\n",
      "Epoch 6/50\n",
      "3820/3820 [==============================] - 21s 5ms/step - loss: 0.2670 - accuracy: 0.8825 - f1_m: 0.8825 - precision_m: 0.8825 - recall_m: 0.8825 - val_loss: 0.3057 - val_accuracy: 0.8729 - val_f1_m: 0.8729 - val_precision_m: 0.8729 - val_recall_m: 0.8729\n",
      "Epoch 7/50\n",
      "3820/3820 [==============================] - 20s 5ms/step - loss: 0.2612 - accuracy: 0.8851 - f1_m: 0.8851 - precision_m: 0.8851 - recall_m: 0.8851 - val_loss: 0.3097 - val_accuracy: 0.8735 - val_f1_m: 0.8735 - val_precision_m: 0.8735 - val_recall_m: 0.8735\n",
      "Epoch 8/50\n",
      "3820/3820 [==============================] - 21s 6ms/step - loss: 0.2588 - accuracy: 0.8875 - f1_m: 0.8875 - precision_m: 0.8875 - recall_m: 0.8875 - val_loss: 0.3151 - val_accuracy: 0.8711 - val_f1_m: 0.8711 - val_precision_m: 0.8711 - val_recall_m: 0.8711\n",
      "Epoch 9/50\n",
      "3820/3820 [==============================] - 21s 5ms/step - loss: 0.2536 - accuracy: 0.8893 - f1_m: 0.8893 - precision_m: 0.8893 - recall_m: 0.8893 - val_loss: 0.3108 - val_accuracy: 0.8718 - val_f1_m: 0.8718 - val_precision_m: 0.8718 - val_recall_m: 0.8718\n",
      "Epoch 10/50\n",
      "3820/3820 [==============================] - 20s 5ms/step - loss: 0.2525 - accuracy: 0.8916 - f1_m: 0.8916 - precision_m: 0.8916 - recall_m: 0.8916 - val_loss: 0.3255 - val_accuracy: 0.8709 - val_f1_m: 0.8709 - val_precision_m: 0.8709 - val_recall_m: 0.8709\n",
      "Epoch 11/50\n",
      "3820/3820 [==============================] - 21s 5ms/step - loss: 0.2470 - accuracy: 0.8931 - f1_m: 0.8931 - precision_m: 0.8931 - recall_m: 0.8931 - val_loss: 0.3275 - val_accuracy: 0.8711 - val_f1_m: 0.8711 - val_precision_m: 0.8711 - val_recall_m: 0.8711\n",
      "Epoch 12/50\n",
      "3820/3820 [==============================] - 20s 5ms/step - loss: 0.2501 - accuracy: 0.8935 - f1_m: 0.8935 - precision_m: 0.8935 - recall_m: 0.8935 - val_loss: 0.3245 - val_accuracy: 0.8711 - val_f1_m: 0.8711 - val_precision_m: 0.8711 - val_recall_m: 0.8711\n",
      "Epoch 13/50\n",
      "3820/3820 [==============================] - 20s 5ms/step - loss: 0.2447 - accuracy: 0.8958 - f1_m: 0.8958 - precision_m: 0.8958 - recall_m: 0.8958 - val_loss: 0.3281 - val_accuracy: 0.8709 - val_f1_m: 0.8709 - val_precision_m: 0.8709 - val_recall_m: 0.8709\n",
      "Epoch 14/50\n",
      "3820/3820 [==============================] - 20s 5ms/step - loss: 0.2413 - accuracy: 0.8972 - f1_m: 0.8972 - precision_m: 0.8972 - recall_m: 0.8972 - val_loss: 0.3320 - val_accuracy: 0.8697 - val_f1_m: 0.8697 - val_precision_m: 0.8697 - val_recall_m: 0.8697\n",
      "Epoch 15/50\n",
      "3820/3820 [==============================] - 21s 5ms/step - loss: 0.2377 - accuracy: 0.8994 - f1_m: 0.8994 - precision_m: 0.8994 - recall_m: 0.8994 - val_loss: 0.3420 - val_accuracy: 0.8659 - val_f1_m: 0.8659 - val_precision_m: 0.8659 - val_recall_m: 0.8659\n",
      "Epoch 16/50\n",
      "3820/3820 [==============================] - 20s 5ms/step - loss: 0.2391 - accuracy: 0.8986 - f1_m: 0.8986 - precision_m: 0.8986 - recall_m: 0.8986 - val_loss: 0.3496 - val_accuracy: 0.8689 - val_f1_m: 0.8689 - val_precision_m: 0.8689 - val_recall_m: 0.8689\n",
      "Epoch 17/50\n",
      "3820/3820 [==============================] - 20s 5ms/step - loss: 0.2371 - accuracy: 0.9002 - f1_m: 0.9002 - precision_m: 0.9002 - recall_m: 0.9002 - val_loss: 0.3604 - val_accuracy: 0.8693 - val_f1_m: 0.8693 - val_precision_m: 0.8693 - val_recall_m: 0.8693\n",
      "Epoch 18/50\n",
      "3820/3820 [==============================] - 20s 5ms/step - loss: 0.2343 - accuracy: 0.9014 - f1_m: 0.9014 - precision_m: 0.9014 - recall_m: 0.9014 - val_loss: 0.3761 - val_accuracy: 0.8689 - val_f1_m: 0.8689 - val_precision_m: 0.8689 - val_recall_m: 0.8689\n",
      "Epoch 19/50\n",
      "3820/3820 [==============================] - 20s 5ms/step - loss: 0.2362 - accuracy: 0.9010 - f1_m: 0.9010 - precision_m: 0.9010 - recall_m: 0.9010 - val_loss: 0.3556 - val_accuracy: 0.8689 - val_f1_m: 0.8689 - val_precision_m: 0.8689 - val_recall_m: 0.8689\n",
      "Epoch 20/50\n",
      "3820/3820 [==============================] - 21s 5ms/step - loss: 0.2332 - accuracy: 0.9030 - f1_m: 0.9030 - precision_m: 0.9030 - recall_m: 0.9030 - val_loss: 0.3636 - val_accuracy: 0.8689 - val_f1_m: 0.8689 - val_precision_m: 0.8689 - val_recall_m: 0.8689\n",
      "Epoch 21/50\n",
      "3820/3820 [==============================] - 21s 6ms/step - loss: 0.2317 - accuracy: 0.9041 - f1_m: 0.9041 - precision_m: 0.9041 - recall_m: 0.9041 - val_loss: 0.3799 - val_accuracy: 0.8701 - val_f1_m: 0.8701 - val_precision_m: 0.8701 - val_recall_m: 0.8701\n",
      "Epoch 22/50\n",
      "3820/3820 [==============================] - 19s 5ms/step - loss: 0.2320 - accuracy: 0.9031 - f1_m: 0.9031 - precision_m: 0.9031 - recall_m: 0.9031 - val_loss: 0.3750 - val_accuracy: 0.8688 - val_f1_m: 0.8688 - val_precision_m: 0.8688 - val_recall_m: 0.8688\n",
      "Epoch 23/50\n",
      "3820/3820 [==============================] - 21s 6ms/step - loss: 0.2300 - accuracy: 0.9039 - f1_m: 0.9039 - precision_m: 0.9039 - recall_m: 0.9039 - val_loss: 0.3843 - val_accuracy: 0.8698 - val_f1_m: 0.8698 - val_precision_m: 0.8698 - val_recall_m: 0.8698\n"
     ]
    }
   ],
   "source": [
    "history = model.fit(X_train, y_train, batch_size=batch_size, epochs=epochs, verbose=1, validation_split=0.3,callbacks=[custom_early_stopping])"
   ]
  },
  {
   "cell_type": "code",
   "execution_count": 94,
   "metadata": {
    "execution": {
     "iopub.execute_input": "2021-03-05T00:13:12.809933Z",
     "iopub.status.busy": "2021-03-05T00:13:12.808658Z",
     "iopub.status.idle": "2021-03-05T00:13:22.565452Z",
     "shell.execute_reply": "2021-03-05T00:13:22.564053Z"
    },
    "papermill": {
     "duration": 12.636944,
     "end_time": "2021-03-05T00:13:22.565603",
     "exception": false,
     "start_time": "2021-03-05T00:13:09.928659",
     "status": "completed"
    },
    "tags": []
   },
   "outputs": [
    {
     "name": "stdout",
     "output_type": "stream",
     "text": [
      "2339/2339 [==============================] - 7s 3ms/step - loss: 0.2932 - accuracy: 0.8744 - f1_m: 0.8744 - precision_m: 0.8744 - recall_m: 0.8744\n",
      "Test loss: 0.29320812225341797\n",
      "Test accuracy: 0.87440025806427\n"
     ]
    }
   ],
   "source": [
    "score = model.evaluate(X_test, y_test, batch_size=batch_size, verbose=1)\n",
    "print('Test loss:', score[0])\n",
    "print('Test accuracy:', score[1])"
   ]
  },
  {
   "cell_type": "markdown",
   "metadata": {
    "papermill": {
     "duration": 2.782888,
     "end_time": "2021-03-05T00:13:28.302797",
     "exception": false,
     "start_time": "2021-03-05T00:13:25.519909",
     "status": "completed"
    },
    "tags": []
   },
   "source": [
    "### Convolucional"
   ]
  },
  {
   "cell_type": "code",
   "execution_count": 95,
   "metadata": {
    "execution": {
     "iopub.execute_input": "2021-03-05T00:13:34.439309Z",
     "iopub.status.busy": "2021-03-05T00:13:34.438360Z",
     "iopub.status.idle": "2021-03-05T00:13:42.468756Z",
     "shell.execute_reply": "2021-03-05T00:13:42.467975Z"
    },
    "papermill": {
     "duration": 11.106256,
     "end_time": "2021-03-05T00:13:42.468967",
     "exception": false,
     "start_time": "2021-03-05T00:13:31.362711",
     "status": "completed"
    },
    "tags": []
   },
   "outputs": [],
   "source": [
    "X = data['msg_lemm']\n",
    "y = data[\"binario\"].values\n",
    "\n",
    "X_train, X_test, y_train, y_test = train_test_split(X,y,test_size=0.3,random_state=42,stratify=y)\n",
    "\n",
    "MAX_NB_WORDS = 5000\n",
    "\n",
    "MAX_SEQUENCE_LENGTH = 20\n",
    "\n",
    "EMBEDDING_DIM = 100\n",
    "\n",
    "tokenizer = Tokenizer(num_words=MAX_NB_WORDS)\n",
    "\n",
    "tokenizer.fit_on_texts(X_train)\n",
    "\n",
    "X_train = tokenizer.texts_to_sequences(X_train)\n",
    "X_test = tokenizer.texts_to_sequences(X_test)\n",
    "\n",
    "X_train = pad_sequences(X_train, maxlen=MAX_SEQUENCE_LENGTH)\n",
    "X_test = pad_sequences(X_test, maxlen=MAX_SEQUENCE_LENGTH)\n",
    "\n",
    "\n",
    "\n",
    "num_classes = max(y_train) + 1\n",
    "\n",
    "y_train = keras.utils.to_categorical(y_train, num_classes)\n",
    "y_test = keras.utils.to_categorical(y_test, num_classes)"
   ]
  },
  {
   "cell_type": "code",
   "execution_count": 96,
   "metadata": {
    "execution": {
     "iopub.execute_input": "2021-03-05T00:13:48.174617Z",
     "iopub.status.busy": "2021-03-05T00:13:48.173447Z",
     "iopub.status.idle": "2021-03-05T00:13:48.175277Z",
     "shell.execute_reply": "2021-03-05T00:13:48.175812Z"
    },
    "papermill": {
     "duration": 2.853928,
     "end_time": "2021-03-05T00:13:48.175973",
     "exception": false,
     "start_time": "2021-03-05T00:13:45.322045",
     "status": "completed"
    },
    "tags": []
   },
   "outputs": [],
   "source": [
    "EMBEDDING_DIM=100"
   ]
  },
  {
   "cell_type": "code",
   "execution_count": 97,
   "metadata": {
    "execution": {
     "iopub.execute_input": "2021-03-05T00:13:54.207749Z",
     "iopub.status.busy": "2021-03-05T00:13:54.206742Z",
     "iopub.status.idle": "2021-03-05T00:13:54.288130Z",
     "shell.execute_reply": "2021-03-05T00:13:54.287467Z"
    },
    "papermill": {
     "duration": 3.144968,
     "end_time": "2021-03-05T00:13:54.288334",
     "exception": false,
     "start_time": "2021-03-05T00:13:51.143366",
     "status": "completed"
    },
    "tags": []
   },
   "outputs": [],
   "source": [
    "model = Sequential()\n",
    "embedding_layer= (Embedding(MAX_NB_WORDS, EMBEDDING_DIM, input_length=X_train.shape[1]))\n",
    "model.add(embedding_layer)\n",
    "model.add(Conv1D(300, 5, activation='relu'))\n",
    "model.add(Dropout(0.5))\n",
    "model.add(GlobalMaxPooling1D())\n",
    "model.add(Dropout(0.5))\n",
    "model.add(Dense(150, activation='sigmoid'))\n",
    "model.add(Dropout(0.5))\n",
    "model.add(Dense(64, activation='sigmoid'))\n",
    "model.add(Dropout(0.5))\n",
    "model.add(Dense(num_classes))\n",
    "model.add(Activation('softmax'))\n",
    "model.compile(optimizer='adam', loss='binary_crossentropy', metrics=['acc',f1_m,precision_m, recall_m])"
   ]
  },
  {
   "cell_type": "code",
   "execution_count": 98,
   "metadata": {
    "execution": {
     "iopub.execute_input": "2021-03-05T00:14:00.040708Z",
     "iopub.status.busy": "2021-03-05T00:14:00.039675Z",
     "iopub.status.idle": "2021-03-05T00:14:00.047490Z",
     "shell.execute_reply": "2021-03-05T00:14:00.047943Z"
    },
    "papermill": {
     "duration": 2.917825,
     "end_time": "2021-03-05T00:14:00.048125",
     "exception": false,
     "start_time": "2021-03-05T00:13:57.130300",
     "status": "completed"
    },
    "tags": []
   },
   "outputs": [
    {
     "name": "stdout",
     "output_type": "stream",
     "text": [
      "Model: \"sequential_1\"\n",
      "_________________________________________________________________\n",
      "Layer (type)                 Output Shape              Param #   \n",
      "=================================================================\n",
      "embedding (Embedding)        (None, 20, 100)           500000    \n",
      "_________________________________________________________________\n",
      "conv1d (Conv1D)              (None, 16, 300)           150300    \n",
      "_________________________________________________________________\n",
      "dropout_3 (Dropout)          (None, 16, 300)           0         \n",
      "_________________________________________________________________\n",
      "global_max_pooling1d (Global (None, 300)               0         \n",
      "_________________________________________________________________\n",
      "dropout_4 (Dropout)          (None, 300)               0         \n",
      "_________________________________________________________________\n",
      "dense_4 (Dense)              (None, 150)               45150     \n",
      "_________________________________________________________________\n",
      "dropout_5 (Dropout)          (None, 150)               0         \n",
      "_________________________________________________________________\n",
      "dense_5 (Dense)              (None, 64)                9664      \n",
      "_________________________________________________________________\n",
      "dropout_6 (Dropout)          (None, 64)                0         \n",
      "_________________________________________________________________\n",
      "dense_6 (Dense)              (None, 2)                 130       \n",
      "_________________________________________________________________\n",
      "activation_3 (Activation)    (None, 2)                 0         \n",
      "=================================================================\n",
      "Total params: 705,244\n",
      "Trainable params: 705,244\n",
      "Non-trainable params: 0\n",
      "_________________________________________________________________\n"
     ]
    }
   ],
   "source": [
    "model.summary()"
   ]
  },
  {
   "cell_type": "code",
   "execution_count": 99,
   "metadata": {
    "execution": {
     "iopub.execute_input": "2021-03-05T00:14:06.223434Z",
     "iopub.status.busy": "2021-03-05T00:14:06.222418Z",
     "iopub.status.idle": "2021-03-05T00:14:06.226621Z",
     "shell.execute_reply": "2021-03-05T00:14:06.227260Z"
    },
    "papermill": {
     "duration": 3.271623,
     "end_time": "2021-03-05T00:14:06.227491",
     "exception": false,
     "start_time": "2021-03-05T00:14:02.955868",
     "status": "completed"
    },
    "tags": []
   },
   "outputs": [],
   "source": [
    "epochs = 300\n",
    "batch_size = 512"
   ]
  },
  {
   "cell_type": "code",
   "execution_count": 100,
   "metadata": {
    "execution": {
     "iopub.execute_input": "2021-03-05T00:14:12.086404Z",
     "iopub.status.busy": "2021-03-05T00:14:12.085404Z",
     "iopub.status.idle": "2021-03-05T00:34:54.051589Z",
     "shell.execute_reply": "2021-03-05T00:34:54.050849Z"
    },
    "papermill": {
     "duration": 1244.779257,
     "end_time": "2021-03-05T00:34:54.051746",
     "exception": false,
     "start_time": "2021-03-05T00:14:09.272489",
     "status": "completed"
    },
    "tags": []
   },
   "outputs": [
    {
     "name": "stdout",
     "output_type": "stream",
     "text": [
      "Epoch 1/300\n",
      "239/239 [==============================] - 7s 18ms/step - loss: 0.3976 - acc: 0.8640 - f1_m: 0.8640 - precision_m: 0.8640 - recall_m: 0.8640 - val_loss: 0.3039 - val_acc: 0.8631 - val_f1_m: 0.8629 - val_precision_m: 0.8629 - val_recall_m: 0.8629\n",
      "Epoch 2/300\n",
      "239/239 [==============================] - 4s 16ms/step - loss: 0.3045 - acc: 0.8647 - f1_m: 0.8647 - precision_m: 0.8647 - recall_m: 0.8647 - val_loss: 0.2975 - val_acc: 0.8702 - val_f1_m: 0.8700 - val_precision_m: 0.8700 - val_recall_m: 0.8700\n",
      "Epoch 3/300\n",
      "239/239 [==============================] - 4s 17ms/step - loss: 0.2901 - acc: 0.8705 - f1_m: 0.8705 - precision_m: 0.8705 - recall_m: 0.8705 - val_loss: 0.2952 - val_acc: 0.8713 - val_f1_m: 0.8712 - val_precision_m: 0.8712 - val_recall_m: 0.8712\n",
      "Epoch 4/300\n",
      "239/239 [==============================] - 4s 16ms/step - loss: 0.2789 - acc: 0.8751 - f1_m: 0.8751 - precision_m: 0.8751 - recall_m: 0.8751 - val_loss: 0.2979 - val_acc: 0.8703 - val_f1_m: 0.8702 - val_precision_m: 0.8702 - val_recall_m: 0.8702\n",
      "Epoch 5/300\n",
      "239/239 [==============================] - 4s 16ms/step - loss: 0.2743 - acc: 0.8767 - f1_m: 0.8767 - precision_m: 0.8767 - recall_m: 0.8767 - val_loss: 0.3003 - val_acc: 0.8719 - val_f1_m: 0.8718 - val_precision_m: 0.8718 - val_recall_m: 0.8718\n",
      "Epoch 6/300\n",
      "239/239 [==============================] - 5s 19ms/step - loss: 0.2696 - acc: 0.8768 - f1_m: 0.8768 - precision_m: 0.8768 - recall_m: 0.8768 - val_loss: 0.3023 - val_acc: 0.8693 - val_f1_m: 0.8692 - val_precision_m: 0.8692 - val_recall_m: 0.8692\n",
      "Epoch 7/300\n",
      "239/239 [==============================] - 4s 18ms/step - loss: 0.2672 - acc: 0.8787 - f1_m: 0.8787 - precision_m: 0.8787 - recall_m: 0.8787 - val_loss: 0.3016 - val_acc: 0.8717 - val_f1_m: 0.8714 - val_precision_m: 0.8714 - val_recall_m: 0.8714\n",
      "Epoch 8/300\n",
      "239/239 [==============================] - 5s 21ms/step - loss: 0.2606 - acc: 0.8832 - f1_m: 0.8832 - precision_m: 0.8832 - recall_m: 0.8832 - val_loss: 0.3109 - val_acc: 0.8717 - val_f1_m: 0.8715 - val_precision_m: 0.8715 - val_recall_m: 0.8715\n",
      "Epoch 9/300\n",
      "239/239 [==============================] - 4s 16ms/step - loss: 0.2590 - acc: 0.8823 - f1_m: 0.8823 - precision_m: 0.8823 - recall_m: 0.8823 - val_loss: 0.3125 - val_acc: 0.8716 - val_f1_m: 0.8714 - val_precision_m: 0.8714 - val_recall_m: 0.8714\n",
      "Epoch 10/300\n",
      "239/239 [==============================] - 4s 16ms/step - loss: 0.2554 - acc: 0.8837 - f1_m: 0.8837 - precision_m: 0.8837 - recall_m: 0.8837 - val_loss: 0.3198 - val_acc: 0.8700 - val_f1_m: 0.8697 - val_precision_m: 0.8697 - val_recall_m: 0.8697\n",
      "Epoch 11/300\n",
      "239/239 [==============================] - 4s 17ms/step - loss: 0.2552 - acc: 0.8848 - f1_m: 0.8848 - precision_m: 0.8848 - recall_m: 0.8848 - val_loss: 0.3220 - val_acc: 0.8690 - val_f1_m: 0.8687 - val_precision_m: 0.8687 - val_recall_m: 0.8687\n",
      "Epoch 12/300\n",
      "239/239 [==============================] - 4s 16ms/step - loss: 0.2493 - acc: 0.8883 - f1_m: 0.8883 - precision_m: 0.8883 - recall_m: 0.8883 - val_loss: 0.3291 - val_acc: 0.8705 - val_f1_m: 0.8703 - val_precision_m: 0.8703 - val_recall_m: 0.8703\n",
      "Epoch 13/300\n",
      "239/239 [==============================] - 4s 16ms/step - loss: 0.2485 - acc: 0.8876 - f1_m: 0.8876 - precision_m: 0.8876 - recall_m: 0.8876 - val_loss: 0.3318 - val_acc: 0.8685 - val_f1_m: 0.8682 - val_precision_m: 0.8682 - val_recall_m: 0.8682\n",
      "Epoch 14/300\n",
      "239/239 [==============================] - 5s 19ms/step - loss: 0.2446 - acc: 0.8896 - f1_m: 0.8896 - precision_m: 0.8896 - recall_m: 0.8896 - val_loss: 0.3375 - val_acc: 0.8685 - val_f1_m: 0.8683 - val_precision_m: 0.8683 - val_recall_m: 0.8683\n",
      "Epoch 15/300\n",
      "239/239 [==============================] - 4s 16ms/step - loss: 0.2459 - acc: 0.8894 - f1_m: 0.8894 - precision_m: 0.8894 - recall_m: 0.8894 - val_loss: 0.3436 - val_acc: 0.8681 - val_f1_m: 0.8679 - val_precision_m: 0.8679 - val_recall_m: 0.8679\n",
      "Epoch 16/300\n",
      "239/239 [==============================] - 5s 21ms/step - loss: 0.2430 - acc: 0.8918 - f1_m: 0.8918 - precision_m: 0.8918 - recall_m: 0.8918 - val_loss: 0.3398 - val_acc: 0.8681 - val_f1_m: 0.8679 - val_precision_m: 0.8679 - val_recall_m: 0.8679\n",
      "Epoch 17/300\n",
      "239/239 [==============================] - 4s 18ms/step - loss: 0.2410 - acc: 0.8921 - f1_m: 0.8921 - precision_m: 0.8921 - recall_m: 0.8921 - val_loss: 0.3456 - val_acc: 0.8669 - val_f1_m: 0.8667 - val_precision_m: 0.8667 - val_recall_m: 0.8667\n",
      "Epoch 18/300\n",
      "239/239 [==============================] - 4s 16ms/step - loss: 0.2359 - acc: 0.8947 - f1_m: 0.8947 - precision_m: 0.8947 - recall_m: 0.8947 - val_loss: 0.3473 - val_acc: 0.8657 - val_f1_m: 0.8655 - val_precision_m: 0.8655 - val_recall_m: 0.8655\n",
      "Epoch 19/300\n",
      "239/239 [==============================] - 4s 17ms/step - loss: 0.2355 - acc: 0.8949 - f1_m: 0.8949 - precision_m: 0.8949 - recall_m: 0.8949 - val_loss: 0.3493 - val_acc: 0.8677 - val_f1_m: 0.8675 - val_precision_m: 0.8675 - val_recall_m: 0.8675\n",
      "Epoch 20/300\n",
      "239/239 [==============================] - 4s 16ms/step - loss: 0.2369 - acc: 0.8942 - f1_m: 0.8942 - precision_m: 0.8942 - recall_m: 0.8942 - val_loss: 0.3656 - val_acc: 0.8667 - val_f1_m: 0.8665 - val_precision_m: 0.8665 - val_recall_m: 0.8665\n",
      "Epoch 21/300\n",
      "239/239 [==============================] - 4s 16ms/step - loss: 0.2332 - acc: 0.8962 - f1_m: 0.8962 - precision_m: 0.8962 - recall_m: 0.8962 - val_loss: 0.3548 - val_acc: 0.8652 - val_f1_m: 0.8650 - val_precision_m: 0.8650 - val_recall_m: 0.8650\n",
      "Epoch 22/300\n",
      "239/239 [==============================] - 4s 18ms/step - loss: 0.2343 - acc: 0.8959 - f1_m: 0.8959 - precision_m: 0.8959 - recall_m: 0.8959 - val_loss: 0.3623 - val_acc: 0.8667 - val_f1_m: 0.8665 - val_precision_m: 0.8665 - val_recall_m: 0.8665\n",
      "Epoch 23/300\n",
      "239/239 [==============================] - 4s 16ms/step - loss: 0.2322 - acc: 0.8960 - f1_m: 0.8960 - precision_m: 0.8960 - recall_m: 0.8960 - val_loss: 0.3708 - val_acc: 0.8654 - val_f1_m: 0.8651 - val_precision_m: 0.8651 - val_recall_m: 0.8651\n",
      "Epoch 24/300\n",
      "239/239 [==============================] - 4s 17ms/step - loss: 0.2329 - acc: 0.8971 - f1_m: 0.8971 - precision_m: 0.8971 - recall_m: 0.8971 - val_loss: 0.3723 - val_acc: 0.8647 - val_f1_m: 0.8645 - val_precision_m: 0.8645 - val_recall_m: 0.8645\n",
      "Epoch 25/300\n",
      "239/239 [==============================] - 5s 22ms/step - loss: 0.2304 - acc: 0.8969 - f1_m: 0.8969 - precision_m: 0.8969 - recall_m: 0.8969 - val_loss: 0.3788 - val_acc: 0.8652 - val_f1_m: 0.8650 - val_precision_m: 0.8650 - val_recall_m: 0.8650\n",
      "Epoch 26/300\n",
      "239/239 [==============================] - 4s 17ms/step - loss: 0.2293 - acc: 0.8977 - f1_m: 0.8977 - precision_m: 0.8977 - recall_m: 0.8977 - val_loss: 0.3697 - val_acc: 0.8656 - val_f1_m: 0.8654 - val_precision_m: 0.8654 - val_recall_m: 0.8654\n",
      "Epoch 27/300\n",
      "239/239 [==============================] - 4s 17ms/step - loss: 0.2297 - acc: 0.8982 - f1_m: 0.8982 - precision_m: 0.8982 - recall_m: 0.8982 - val_loss: 0.3805 - val_acc: 0.8663 - val_f1_m: 0.8662 - val_precision_m: 0.8662 - val_recall_m: 0.8662\n",
      "Epoch 28/300\n",
      "239/239 [==============================] - 4s 16ms/step - loss: 0.2278 - acc: 0.8979 - f1_m: 0.8979 - precision_m: 0.8979 - recall_m: 0.8979 - val_loss: 0.3750 - val_acc: 0.8640 - val_f1_m: 0.8638 - val_precision_m: 0.8638 - val_recall_m: 0.8638\n",
      "Epoch 29/300\n",
      "239/239 [==============================] - 5s 19ms/step - loss: 0.2273 - acc: 0.8974 - f1_m: 0.8974 - precision_m: 0.8974 - recall_m: 0.8974 - val_loss: 0.3820 - val_acc: 0.8656 - val_f1_m: 0.8655 - val_precision_m: 0.8655 - val_recall_m: 0.8655\n",
      "Epoch 30/300\n",
      "239/239 [==============================] - 4s 16ms/step - loss: 0.2255 - acc: 0.8993 - f1_m: 0.8993 - precision_m: 0.8993 - recall_m: 0.8993 - val_loss: 0.3884 - val_acc: 0.8639 - val_f1_m: 0.8637 - val_precision_m: 0.8637 - val_recall_m: 0.8637\n",
      "Epoch 31/300\n",
      "239/239 [==============================] - 4s 16ms/step - loss: 0.2265 - acc: 0.8981 - f1_m: 0.8981 - precision_m: 0.8981 - recall_m: 0.8981 - val_loss: 0.3847 - val_acc: 0.8661 - val_f1_m: 0.8659 - val_precision_m: 0.8659 - val_recall_m: 0.8659\n",
      "Epoch 32/300\n",
      "239/239 [==============================] - 4s 17ms/step - loss: 0.2273 - acc: 0.8970 - f1_m: 0.8970 - precision_m: 0.8970 - recall_m: 0.8970 - val_loss: 0.3889 - val_acc: 0.8655 - val_f1_m: 0.8653 - val_precision_m: 0.8653 - val_recall_m: 0.8653\n",
      "Epoch 33/300\n",
      "239/239 [==============================] - 4s 17ms/step - loss: 0.2249 - acc: 0.9000 - f1_m: 0.9000 - precision_m: 0.9000 - recall_m: 0.9000 - val_loss: 0.3978 - val_acc: 0.8662 - val_f1_m: 0.8660 - val_precision_m: 0.8660 - val_recall_m: 0.8660\n",
      "Epoch 34/300\n",
      "239/239 [==============================] - 5s 21ms/step - loss: 0.2215 - acc: 0.9006 - f1_m: 0.9006 - precision_m: 0.9006 - recall_m: 0.9006 - val_loss: 0.3922 - val_acc: 0.8656 - val_f1_m: 0.8654 - val_precision_m: 0.8654 - val_recall_m: 0.8654\n",
      "Epoch 35/300\n",
      "239/239 [==============================] - 4s 17ms/step - loss: 0.2222 - acc: 0.8998 - f1_m: 0.8998 - precision_m: 0.8998 - recall_m: 0.8998 - val_loss: 0.3991 - val_acc: 0.8647 - val_f1_m: 0.8644 - val_precision_m: 0.8644 - val_recall_m: 0.8644\n",
      "Epoch 36/300\n",
      "239/239 [==============================] - 4s 16ms/step - loss: 0.2229 - acc: 0.8992 - f1_m: 0.8992 - precision_m: 0.8992 - recall_m: 0.8992 - val_loss: 0.3980 - val_acc: 0.8653 - val_f1_m: 0.8651 - val_precision_m: 0.8651 - val_recall_m: 0.8651\n",
      "Epoch 37/300\n",
      "239/239 [==============================] - 4s 19ms/step - loss: 0.2214 - acc: 0.9001 - f1_m: 0.9001 - precision_m: 0.9001 - recall_m: 0.9001 - val_loss: 0.4078 - val_acc: 0.8643 - val_f1_m: 0.8640 - val_precision_m: 0.8640 - val_recall_m: 0.8640\n",
      "Epoch 38/300\n",
      "239/239 [==============================] - 4s 16ms/step - loss: 0.2181 - acc: 0.9017 - f1_m: 0.9017 - precision_m: 0.9017 - recall_m: 0.9017 - val_loss: 0.4075 - val_acc: 0.8650 - val_f1_m: 0.8647 - val_precision_m: 0.8647 - val_recall_m: 0.8647\n",
      "Epoch 39/300\n",
      "239/239 [==============================] - 4s 16ms/step - loss: 0.2171 - acc: 0.9031 - f1_m: 0.9031 - precision_m: 0.9031 - recall_m: 0.9031 - val_loss: 0.4080 - val_acc: 0.8654 - val_f1_m: 0.8651 - val_precision_m: 0.8651 - val_recall_m: 0.8651\n",
      "Epoch 40/300\n",
      "239/239 [==============================] - 4s 17ms/step - loss: 0.2187 - acc: 0.9026 - f1_m: 0.9026 - precision_m: 0.9026 - recall_m: 0.9026 - val_loss: 0.4167 - val_acc: 0.8644 - val_f1_m: 0.8641 - val_precision_m: 0.8641 - val_recall_m: 0.8641\n",
      "Epoch 41/300\n",
      "239/239 [==============================] - 4s 16ms/step - loss: 0.2167 - acc: 0.9024 - f1_m: 0.9024 - precision_m: 0.9024 - recall_m: 0.9024 - val_loss: 0.4108 - val_acc: 0.8634 - val_f1_m: 0.8630 - val_precision_m: 0.8630 - val_recall_m: 0.8630\n",
      "Epoch 42/300\n",
      "239/239 [==============================] - 5s 19ms/step - loss: 0.2180 - acc: 0.9020 - f1_m: 0.9020 - precision_m: 0.9020 - recall_m: 0.9020 - val_loss: 0.4133 - val_acc: 0.8656 - val_f1_m: 0.8654 - val_precision_m: 0.8654 - val_recall_m: 0.8654\n",
      "Epoch 43/300\n",
      "239/239 [==============================] - 5s 23ms/step - loss: 0.2187 - acc: 0.9021 - f1_m: 0.9021 - precision_m: 0.9021 - recall_m: 0.9021 - val_loss: 0.4199 - val_acc: 0.8661 - val_f1_m: 0.8657 - val_precision_m: 0.8657 - val_recall_m: 0.8657\n",
      "Epoch 44/300\n",
      "239/239 [==============================] - 4s 17ms/step - loss: 0.2152 - acc: 0.9028 - f1_m: 0.9028 - precision_m: 0.9028 - recall_m: 0.9028 - val_loss: 0.4153 - val_acc: 0.8652 - val_f1_m: 0.8648 - val_precision_m: 0.8648 - val_recall_m: 0.8648\n",
      "Epoch 45/300\n",
      "239/239 [==============================] - 4s 18ms/step - loss: 0.2125 - acc: 0.9046 - f1_m: 0.9046 - precision_m: 0.9046 - recall_m: 0.9046 - val_loss: 0.4169 - val_acc: 0.8655 - val_f1_m: 0.8652 - val_precision_m: 0.8652 - val_recall_m: 0.8652\n",
      "Epoch 46/300\n",
      "239/239 [==============================] - 4s 16ms/step - loss: 0.2150 - acc: 0.9028 - f1_m: 0.9028 - precision_m: 0.9028 - recall_m: 0.9028 - val_loss: 0.4151 - val_acc: 0.8635 - val_f1_m: 0.8632 - val_precision_m: 0.8632 - val_recall_m: 0.8632\n",
      "Epoch 47/300\n",
      "239/239 [==============================] - 4s 16ms/step - loss: 0.2158 - acc: 0.9024 - f1_m: 0.9024 - precision_m: 0.9024 - recall_m: 0.9024 - val_loss: 0.4253 - val_acc: 0.8649 - val_f1_m: 0.8646 - val_precision_m: 0.8646 - val_recall_m: 0.8646\n",
      "Epoch 48/300\n",
      "239/239 [==============================] - 4s 17ms/step - loss: 0.2156 - acc: 0.9024 - f1_m: 0.9024 - precision_m: 0.9024 - recall_m: 0.9024 - val_loss: 0.4325 - val_acc: 0.8644 - val_f1_m: 0.8639 - val_precision_m: 0.8639 - val_recall_m: 0.8639\n",
      "Epoch 49/300\n",
      "239/239 [==============================] - 4s 16ms/step - loss: 0.2143 - acc: 0.9028 - f1_m: 0.9028 - precision_m: 0.9028 - recall_m: 0.9028 - val_loss: 0.4274 - val_acc: 0.8643 - val_f1_m: 0.8640 - val_precision_m: 0.8640 - val_recall_m: 0.8640\n",
      "Epoch 50/300\n",
      "239/239 [==============================] - 4s 16ms/step - loss: 0.2161 - acc: 0.9025 - f1_m: 0.9025 - precision_m: 0.9025 - recall_m: 0.9025 - val_loss: 0.4301 - val_acc: 0.8637 - val_f1_m: 0.8634 - val_precision_m: 0.8634 - val_recall_m: 0.8634\n",
      "Epoch 51/300\n",
      "239/239 [==============================] - 5s 21ms/step - loss: 0.2135 - acc: 0.9031 - f1_m: 0.9031 - precision_m: 0.9031 - recall_m: 0.9031 - val_loss: 0.4202 - val_acc: 0.8642 - val_f1_m: 0.8639 - val_precision_m: 0.8639 - val_recall_m: 0.8639\n",
      "Epoch 52/300\n",
      "239/239 [==============================] - 6s 23ms/step - loss: 0.2119 - acc: 0.9038 - f1_m: 0.9038 - precision_m: 0.9038 - recall_m: 0.9038 - val_loss: 0.4236 - val_acc: 0.8648 - val_f1_m: 0.8644 - val_precision_m: 0.8644 - val_recall_m: 0.8644\n",
      "Epoch 53/300\n",
      "239/239 [==============================] - 4s 17ms/step - loss: 0.2126 - acc: 0.9042 - f1_m: 0.9042 - precision_m: 0.9042 - recall_m: 0.9042 - val_loss: 0.4264 - val_acc: 0.8654 - val_f1_m: 0.8651 - val_precision_m: 0.8651 - val_recall_m: 0.8651\n",
      "Epoch 54/300\n",
      "239/239 [==============================] - 4s 16ms/step - loss: 0.2123 - acc: 0.9041 - f1_m: 0.9041 - precision_m: 0.9041 - recall_m: 0.9041 - val_loss: 0.4413 - val_acc: 0.8650 - val_f1_m: 0.8646 - val_precision_m: 0.8646 - val_recall_m: 0.8646\n",
      "Epoch 55/300\n",
      "239/239 [==============================] - 4s 16ms/step - loss: 0.2110 - acc: 0.9055 - f1_m: 0.9055 - precision_m: 0.9055 - recall_m: 0.9055 - val_loss: 0.4480 - val_acc: 0.8615 - val_f1_m: 0.8610 - val_precision_m: 0.8610 - val_recall_m: 0.8610\n",
      "Epoch 56/300\n",
      "239/239 [==============================] - 4s 17ms/step - loss: 0.2092 - acc: 0.9065 - f1_m: 0.9065 - precision_m: 0.9065 - recall_m: 0.9065 - val_loss: 0.4341 - val_acc: 0.8648 - val_f1_m: 0.8644 - val_precision_m: 0.8644 - val_recall_m: 0.8644\n",
      "Epoch 57/300\n",
      "239/239 [==============================] - 4s 16ms/step - loss: 0.2070 - acc: 0.9084 - f1_m: 0.9084 - precision_m: 0.9084 - recall_m: 0.9084 - val_loss: 0.4329 - val_acc: 0.8649 - val_f1_m: 0.8645 - val_precision_m: 0.8645 - val_recall_m: 0.8645\n",
      "Epoch 58/300\n",
      "239/239 [==============================] - 4s 15ms/step - loss: 0.2116 - acc: 0.9046 - f1_m: 0.9046 - precision_m: 0.9046 - recall_m: 0.9046 - val_loss: 0.4422 - val_acc: 0.8646 - val_f1_m: 0.8643 - val_precision_m: 0.8643 - val_recall_m: 0.8643\n",
      "Epoch 59/300\n",
      "239/239 [==============================] - 4s 17ms/step - loss: 0.2067 - acc: 0.9084 - f1_m: 0.9084 - precision_m: 0.9084 - recall_m: 0.9084 - val_loss: 0.4315 - val_acc: 0.8642 - val_f1_m: 0.8638 - val_precision_m: 0.8638 - val_recall_m: 0.8638\n",
      "Epoch 60/300\n",
      "239/239 [==============================] - 4s 18ms/step - loss: 0.2079 - acc: 0.9064 - f1_m: 0.9064 - precision_m: 0.9064 - recall_m: 0.9064 - val_loss: 0.4453 - val_acc: 0.8627 - val_f1_m: 0.8623 - val_precision_m: 0.8623 - val_recall_m: 0.8623\n",
      "Epoch 61/300\n",
      "239/239 [==============================] - 4s 18ms/step - loss: 0.2084 - acc: 0.9064 - f1_m: 0.9064 - precision_m: 0.9064 - recall_m: 0.9064 - val_loss: 0.4425 - val_acc: 0.8646 - val_f1_m: 0.8642 - val_precision_m: 0.8642 - val_recall_m: 0.8642\n",
      "Epoch 62/300\n",
      "239/239 [==============================] - 4s 16ms/step - loss: 0.2096 - acc: 0.9059 - f1_m: 0.9059 - precision_m: 0.9059 - recall_m: 0.9059 - val_loss: 0.4473 - val_acc: 0.8652 - val_f1_m: 0.8647 - val_precision_m: 0.8647 - val_recall_m: 0.8647\n",
      "Epoch 63/300\n",
      "239/239 [==============================] - 4s 16ms/step - loss: 0.2077 - acc: 0.9067 - f1_m: 0.9067 - precision_m: 0.9067 - recall_m: 0.9067 - val_loss: 0.4445 - val_acc: 0.8647 - val_f1_m: 0.8643 - val_precision_m: 0.8643 - val_recall_m: 0.8643\n",
      "Epoch 64/300\n",
      "239/239 [==============================] - 4s 17ms/step - loss: 0.2090 - acc: 0.9063 - f1_m: 0.9063 - precision_m: 0.9063 - recall_m: 0.9063 - val_loss: 0.4438 - val_acc: 0.8638 - val_f1_m: 0.8635 - val_precision_m: 0.8635 - val_recall_m: 0.8635\n",
      "Epoch 65/300\n",
      "239/239 [==============================] - 4s 16ms/step - loss: 0.2074 - acc: 0.9072 - f1_m: 0.9072 - precision_m: 0.9072 - recall_m: 0.9072 - val_loss: 0.4356 - val_acc: 0.8644 - val_f1_m: 0.8640 - val_precision_m: 0.8640 - val_recall_m: 0.8640\n",
      "Epoch 66/300\n",
      "239/239 [==============================] - 4s 16ms/step - loss: 0.2063 - acc: 0.9087 - f1_m: 0.9087 - precision_m: 0.9087 - recall_m: 0.9087 - val_loss: 0.4498 - val_acc: 0.8642 - val_f1_m: 0.8639 - val_precision_m: 0.8639 - val_recall_m: 0.8639\n",
      "Epoch 67/300\n",
      "239/239 [==============================] - 4s 17ms/step - loss: 0.2061 - acc: 0.9080 - f1_m: 0.9080 - precision_m: 0.9080 - recall_m: 0.9080 - val_loss: 0.4496 - val_acc: 0.8639 - val_f1_m: 0.8635 - val_precision_m: 0.8635 - val_recall_m: 0.8635\n",
      "Epoch 68/300\n",
      "239/239 [==============================] - 5s 22ms/step - loss: 0.2037 - acc: 0.9087 - f1_m: 0.9087 - precision_m: 0.9087 - recall_m: 0.9087 - val_loss: 0.4541 - val_acc: 0.8645 - val_f1_m: 0.8643 - val_precision_m: 0.8643 - val_recall_m: 0.8643\n",
      "Epoch 69/300\n",
      "239/239 [==============================] - 5s 21ms/step - loss: 0.2091 - acc: 0.9052 - f1_m: 0.9052 - precision_m: 0.9052 - recall_m: 0.9052 - val_loss: 0.4541 - val_acc: 0.8644 - val_f1_m: 0.8640 - val_precision_m: 0.8640 - val_recall_m: 0.8640\n",
      "Epoch 70/300\n",
      "239/239 [==============================] - 4s 16ms/step - loss: 0.2058 - acc: 0.9075 - f1_m: 0.9075 - precision_m: 0.9075 - recall_m: 0.9075 - val_loss: 0.4574 - val_acc: 0.8633 - val_f1_m: 0.8629 - val_precision_m: 0.8629 - val_recall_m: 0.8629\n",
      "Epoch 71/300\n",
      "239/239 [==============================] - 4s 16ms/step - loss: 0.2023 - acc: 0.9092 - f1_m: 0.9092 - precision_m: 0.9092 - recall_m: 0.9092 - val_loss: 0.4576 - val_acc: 0.8624 - val_f1_m: 0.8619 - val_precision_m: 0.8619 - val_recall_m: 0.8619\n",
      "Epoch 72/300\n",
      "239/239 [==============================] - 4s 17ms/step - loss: 0.2071 - acc: 0.9061 - f1_m: 0.9061 - precision_m: 0.9061 - recall_m: 0.9061 - val_loss: 0.4607 - val_acc: 0.8639 - val_f1_m: 0.8634 - val_precision_m: 0.8634 - val_recall_m: 0.8634\n",
      "Epoch 73/300\n",
      "239/239 [==============================] - 4s 16ms/step - loss: 0.2049 - acc: 0.9073 - f1_m: 0.9073 - precision_m: 0.9073 - recall_m: 0.9073 - val_loss: 0.4607 - val_acc: 0.8628 - val_f1_m: 0.8624 - val_precision_m: 0.8624 - val_recall_m: 0.8624\n",
      "Epoch 74/300\n",
      "239/239 [==============================] - 4s 17ms/step - loss: 0.2037 - acc: 0.9081 - f1_m: 0.9081 - precision_m: 0.9081 - recall_m: 0.9081 - val_loss: 0.4568 - val_acc: 0.8634 - val_f1_m: 0.8629 - val_precision_m: 0.8629 - val_recall_m: 0.8629\n",
      "Epoch 75/300\n",
      "239/239 [==============================] - 4s 18ms/step - loss: 0.2023 - acc: 0.9089 - f1_m: 0.9089 - precision_m: 0.9089 - recall_m: 0.9089 - val_loss: 0.4641 - val_acc: 0.8625 - val_f1_m: 0.8620 - val_precision_m: 0.8620 - val_recall_m: 0.8620\n",
      "Epoch 76/300\n",
      "239/239 [==============================] - 4s 17ms/step - loss: 0.2053 - acc: 0.9083 - f1_m: 0.9083 - precision_m: 0.9083 - recall_m: 0.9083 - val_loss: 0.4570 - val_acc: 0.8626 - val_f1_m: 0.8623 - val_precision_m: 0.8623 - val_recall_m: 0.8623\n",
      "Epoch 77/300\n",
      "239/239 [==============================] - 4s 17ms/step - loss: 0.2043 - acc: 0.9089 - f1_m: 0.9089 - precision_m: 0.9089 - recall_m: 0.9089 - val_loss: 0.4534 - val_acc: 0.8639 - val_f1_m: 0.8634 - val_precision_m: 0.8634 - val_recall_m: 0.8634\n",
      "Epoch 78/300\n",
      "239/239 [==============================] - 4s 16ms/step - loss: 0.2044 - acc: 0.9086 - f1_m: 0.9086 - precision_m: 0.9086 - recall_m: 0.9086 - val_loss: 0.4630 - val_acc: 0.8632 - val_f1_m: 0.8628 - val_precision_m: 0.8628 - val_recall_m: 0.8628\n",
      "Epoch 79/300\n",
      "239/239 [==============================] - 4s 16ms/step - loss: 0.2072 - acc: 0.9069 - f1_m: 0.9069 - precision_m: 0.9069 - recall_m: 0.9069 - val_loss: 0.4652 - val_acc: 0.8638 - val_f1_m: 0.8634 - val_precision_m: 0.8634 - val_recall_m: 0.8634\n",
      "Epoch 80/300\n",
      "239/239 [==============================] - 4s 17ms/step - loss: 0.2050 - acc: 0.9078 - f1_m: 0.9078 - precision_m: 0.9078 - recall_m: 0.9078 - val_loss: 0.4627 - val_acc: 0.8632 - val_f1_m: 0.8627 - val_precision_m: 0.8627 - val_recall_m: 0.8627\n",
      "Epoch 81/300\n",
      "239/239 [==============================] - 4s 16ms/step - loss: 0.2038 - acc: 0.9084 - f1_m: 0.9084 - precision_m: 0.9084 - recall_m: 0.9084 - val_loss: 0.4683 - val_acc: 0.8627 - val_f1_m: 0.8622 - val_precision_m: 0.8622 - val_recall_m: 0.8622\n",
      "Epoch 82/300\n",
      "239/239 [==============================] - 4s 16ms/step - loss: 0.2037 - acc: 0.9076 - f1_m: 0.9076 - precision_m: 0.9076 - recall_m: 0.9076 - val_loss: 0.4734 - val_acc: 0.8641 - val_f1_m: 0.8636 - val_precision_m: 0.8636 - val_recall_m: 0.8636\n",
      "Epoch 83/300\n",
      "239/239 [==============================] - 4s 17ms/step - loss: 0.2032 - acc: 0.9079 - f1_m: 0.9079 - precision_m: 0.9079 - recall_m: 0.9079 - val_loss: 0.4603 - val_acc: 0.8642 - val_f1_m: 0.8637 - val_precision_m: 0.8637 - val_recall_m: 0.8637\n",
      "Epoch 84/300\n",
      "239/239 [==============================] - 5s 20ms/step - loss: 0.2018 - acc: 0.9100 - f1_m: 0.9100 - precision_m: 0.9100 - recall_m: 0.9100 - val_loss: 0.4698 - val_acc: 0.8631 - val_f1_m: 0.8627 - val_precision_m: 0.8627 - val_recall_m: 0.8627\n",
      "Epoch 85/300\n",
      "239/239 [==============================] - 6s 24ms/step - loss: 0.2014 - acc: 0.9095 - f1_m: 0.9095 - precision_m: 0.9095 - recall_m: 0.9095 - val_loss: 0.4671 - val_acc: 0.8635 - val_f1_m: 0.8631 - val_precision_m: 0.8631 - val_recall_m: 0.8631\n",
      "Epoch 86/300\n",
      "239/239 [==============================] - 4s 19ms/step - loss: 0.2016 - acc: 0.9098 - f1_m: 0.9098 - precision_m: 0.9098 - recall_m: 0.9098 - val_loss: 0.4824 - val_acc: 0.8635 - val_f1_m: 0.8630 - val_precision_m: 0.8630 - val_recall_m: 0.8630\n",
      "Epoch 87/300\n",
      "239/239 [==============================] - 4s 16ms/step - loss: 0.2021 - acc: 0.9098 - f1_m: 0.9098 - precision_m: 0.9098 - recall_m: 0.9098 - val_loss: 0.4751 - val_acc: 0.8636 - val_f1_m: 0.8631 - val_precision_m: 0.8631 - val_recall_m: 0.8631\n",
      "Epoch 88/300\n",
      "239/239 [==============================] - 4s 17ms/step - loss: 0.2026 - acc: 0.9089 - f1_m: 0.9089 - precision_m: 0.9089 - recall_m: 0.9089 - val_loss: 0.4752 - val_acc: 0.8637 - val_f1_m: 0.8633 - val_precision_m: 0.8633 - val_recall_m: 0.8633\n",
      "Epoch 89/300\n",
      "239/239 [==============================] - 4s 16ms/step - loss: 0.2018 - acc: 0.9096 - f1_m: 0.9096 - precision_m: 0.9096 - recall_m: 0.9096 - val_loss: 0.4870 - val_acc: 0.8631 - val_f1_m: 0.8626 - val_precision_m: 0.8626 - val_recall_m: 0.8626\n",
      "Epoch 90/300\n",
      "239/239 [==============================] - 4s 16ms/step - loss: 0.2013 - acc: 0.9101 - f1_m: 0.9101 - precision_m: 0.9101 - recall_m: 0.9101 - val_loss: 0.4798 - val_acc: 0.8627 - val_f1_m: 0.8623 - val_precision_m: 0.8623 - val_recall_m: 0.8623\n",
      "Epoch 91/300\n",
      "239/239 [==============================] - 4s 18ms/step - loss: 0.2046 - acc: 0.9077 - f1_m: 0.9077 - precision_m: 0.9077 - recall_m: 0.9077 - val_loss: 0.4810 - val_acc: 0.8633 - val_f1_m: 0.8629 - val_precision_m: 0.8629 - val_recall_m: 0.8629\n",
      "Epoch 92/300\n",
      "239/239 [==============================] - 4s 16ms/step - loss: 0.2006 - acc: 0.9105 - f1_m: 0.9105 - precision_m: 0.9105 - recall_m: 0.9105 - val_loss: 0.4783 - val_acc: 0.8639 - val_f1_m: 0.8635 - val_precision_m: 0.8635 - val_recall_m: 0.8635\n",
      "Epoch 93/300\n",
      "239/239 [==============================] - 4s 17ms/step - loss: 0.2010 - acc: 0.9102 - f1_m: 0.9102 - precision_m: 0.9102 - recall_m: 0.9102 - val_loss: 0.4765 - val_acc: 0.8629 - val_f1_m: 0.8625 - val_precision_m: 0.8625 - val_recall_m: 0.8625\n",
      "Epoch 94/300\n",
      "239/239 [==============================] - 4s 16ms/step - loss: 0.2032 - acc: 0.9085 - f1_m: 0.9085 - precision_m: 0.9085 - recall_m: 0.9085 - val_loss: 0.4846 - val_acc: 0.8627 - val_f1_m: 0.8623 - val_precision_m: 0.8623 - val_recall_m: 0.8623\n",
      "Epoch 95/300\n",
      "239/239 [==============================] - 4s 16ms/step - loss: 0.2020 - acc: 0.9094 - f1_m: 0.9094 - precision_m: 0.9094 - recall_m: 0.9094 - val_loss: 0.4829 - val_acc: 0.8639 - val_f1_m: 0.8635 - val_precision_m: 0.8635 - val_recall_m: 0.8635\n",
      "Epoch 96/300\n",
      "239/239 [==============================] - 4s 17ms/step - loss: 0.1999 - acc: 0.9105 - f1_m: 0.9105 - precision_m: 0.9105 - recall_m: 0.9105 - val_loss: 0.4909 - val_acc: 0.8620 - val_f1_m: 0.8616 - val_precision_m: 0.8616 - val_recall_m: 0.8616\n",
      "Epoch 97/300\n",
      "239/239 [==============================] - 4s 16ms/step - loss: 0.2014 - acc: 0.9100 - f1_m: 0.9100 - precision_m: 0.9100 - recall_m: 0.9100 - val_loss: 0.4882 - val_acc: 0.8627 - val_f1_m: 0.8622 - val_precision_m: 0.8622 - val_recall_m: 0.8622\n",
      "Epoch 98/300\n",
      "239/239 [==============================] - 4s 16ms/step - loss: 0.2005 - acc: 0.9102 - f1_m: 0.9102 - precision_m: 0.9102 - recall_m: 0.9102 - val_loss: 0.4867 - val_acc: 0.8630 - val_f1_m: 0.8625 - val_precision_m: 0.8625 - val_recall_m: 0.8625\n",
      "Epoch 99/300\n",
      "239/239 [==============================] - 4s 17ms/step - loss: 0.1996 - acc: 0.9095 - f1_m: 0.9095 - precision_m: 0.9095 - recall_m: 0.9095 - val_loss: 0.4888 - val_acc: 0.8636 - val_f1_m: 0.8632 - val_precision_m: 0.8632 - val_recall_m: 0.8632\n",
      "Epoch 100/300\n",
      "239/239 [==============================] - 4s 18ms/step - loss: 0.1997 - acc: 0.9105 - f1_m: 0.9105 - precision_m: 0.9105 - recall_m: 0.9105 - val_loss: 0.4762 - val_acc: 0.8633 - val_f1_m: 0.8628 - val_precision_m: 0.8628 - val_recall_m: 0.8628\n",
      "Epoch 101/300\n",
      "239/239 [==============================] - 4s 18ms/step - loss: 0.1972 - acc: 0.9118 - f1_m: 0.9118 - precision_m: 0.9118 - recall_m: 0.9118 - val_loss: 0.4925 - val_acc: 0.8627 - val_f1_m: 0.8622 - val_precision_m: 0.8622 - val_recall_m: 0.8622\n",
      "Epoch 102/300\n",
      "239/239 [==============================] - 5s 22ms/step - loss: 0.2004 - acc: 0.9089 - f1_m: 0.9089 - precision_m: 0.9089 - recall_m: 0.9089 - val_loss: 0.5054 - val_acc: 0.8623 - val_f1_m: 0.8619 - val_precision_m: 0.8619 - val_recall_m: 0.8619\n",
      "Epoch 103/300\n",
      "239/239 [==============================] - 4s 18ms/step - loss: 0.1991 - acc: 0.9115 - f1_m: 0.9115 - precision_m: 0.9115 - recall_m: 0.9115 - val_loss: 0.4909 - val_acc: 0.8625 - val_f1_m: 0.8620 - val_precision_m: 0.8620 - val_recall_m: 0.8620\n",
      "Epoch 104/300\n",
      "239/239 [==============================] - 4s 17ms/step - loss: 0.1996 - acc: 0.9095 - f1_m: 0.9095 - precision_m: 0.9095 - recall_m: 0.9095 - val_loss: 0.4990 - val_acc: 0.8633 - val_f1_m: 0.8628 - val_precision_m: 0.8628 - val_recall_m: 0.8628\n",
      "Epoch 105/300\n",
      "239/239 [==============================] - 4s 16ms/step - loss: 0.1990 - acc: 0.9112 - f1_m: 0.9112 - precision_m: 0.9112 - recall_m: 0.9112 - val_loss: 0.4967 - val_acc: 0.8619 - val_f1_m: 0.8615 - val_precision_m: 0.8615 - val_recall_m: 0.8615\n",
      "Epoch 106/300\n",
      "239/239 [==============================] - 4s 16ms/step - loss: 0.1980 - acc: 0.9108 - f1_m: 0.9108 - precision_m: 0.9108 - recall_m: 0.9108 - val_loss: 0.4942 - val_acc: 0.8633 - val_f1_m: 0.8629 - val_precision_m: 0.8629 - val_recall_m: 0.8629\n",
      "Epoch 107/300\n",
      "239/239 [==============================] - 5s 19ms/step - loss: 0.1990 - acc: 0.9107 - f1_m: 0.9107 - precision_m: 0.9107 - recall_m: 0.9107 - val_loss: 0.4907 - val_acc: 0.8619 - val_f1_m: 0.8615 - val_precision_m: 0.8615 - val_recall_m: 0.8615\n",
      "Epoch 108/300\n",
      "239/239 [==============================] - 4s 16ms/step - loss: 0.1991 - acc: 0.9120 - f1_m: 0.9120 - precision_m: 0.9120 - recall_m: 0.9120 - val_loss: 0.4954 - val_acc: 0.8628 - val_f1_m: 0.8624 - val_precision_m: 0.8624 - val_recall_m: 0.8624\n",
      "Epoch 109/300\n",
      "239/239 [==============================] - 4s 17ms/step - loss: 0.1985 - acc: 0.9112 - f1_m: 0.9112 - precision_m: 0.9112 - recall_m: 0.9112 - val_loss: 0.4856 - val_acc: 0.8632 - val_f1_m: 0.8628 - val_precision_m: 0.8628 - val_recall_m: 0.8628\n",
      "Epoch 110/300\n",
      "239/239 [==============================] - 4s 16ms/step - loss: 0.1997 - acc: 0.9105 - f1_m: 0.9105 - precision_m: 0.9105 - recall_m: 0.9105 - val_loss: 0.4985 - val_acc: 0.8629 - val_f1_m: 0.8626 - val_precision_m: 0.8626 - val_recall_m: 0.8626\n",
      "Epoch 111/300\n",
      "239/239 [==============================] - 4s 16ms/step - loss: 0.1947 - acc: 0.9137 - f1_m: 0.9137 - precision_m: 0.9137 - recall_m: 0.9137 - val_loss: 0.5065 - val_acc: 0.8618 - val_f1_m: 0.8614 - val_precision_m: 0.8614 - val_recall_m: 0.8614\n",
      "Epoch 112/300\n",
      "239/239 [==============================] - 4s 17ms/step - loss: 0.1984 - acc: 0.9103 - f1_m: 0.9103 - precision_m: 0.9103 - recall_m: 0.9103 - val_loss: 0.4971 - val_acc: 0.8629 - val_f1_m: 0.8627 - val_precision_m: 0.8627 - val_recall_m: 0.8627\n",
      "Epoch 113/300\n",
      "239/239 [==============================] - 4s 16ms/step - loss: 0.1983 - acc: 0.9112 - f1_m: 0.9112 - precision_m: 0.9112 - recall_m: 0.9112 - val_loss: 0.5047 - val_acc: 0.8617 - val_f1_m: 0.8614 - val_precision_m: 0.8614 - val_recall_m: 0.8614\n",
      "Epoch 114/300\n",
      "239/239 [==============================] - 4s 16ms/step - loss: 0.1956 - acc: 0.9125 - f1_m: 0.9125 - precision_m: 0.9125 - recall_m: 0.9125 - val_loss: 0.5056 - val_acc: 0.8620 - val_f1_m: 0.8616 - val_precision_m: 0.8616 - val_recall_m: 0.8616\n",
      "Epoch 115/300\n",
      "239/239 [==============================] - 5s 19ms/step - loss: 0.1960 - acc: 0.9127 - f1_m: 0.9127 - precision_m: 0.9127 - recall_m: 0.9127 - val_loss: 0.4955 - val_acc: 0.8621 - val_f1_m: 0.8618 - val_precision_m: 0.8618 - val_recall_m: 0.8618\n",
      "Epoch 116/300\n",
      "239/239 [==============================] - 4s 16ms/step - loss: 0.1970 - acc: 0.9117 - f1_m: 0.9117 - precision_m: 0.9117 - recall_m: 0.9117 - val_loss: 0.5044 - val_acc: 0.8630 - val_f1_m: 0.8626 - val_precision_m: 0.8626 - val_recall_m: 0.8626\n",
      "Epoch 117/300\n",
      "239/239 [==============================] - 4s 16ms/step - loss: 0.1955 - acc: 0.9118 - f1_m: 0.9118 - precision_m: 0.9118 - recall_m: 0.9118 - val_loss: 0.4998 - val_acc: 0.8623 - val_f1_m: 0.8618 - val_precision_m: 0.8618 - val_recall_m: 0.8618\n",
      "Epoch 118/300\n",
      "239/239 [==============================] - 5s 19ms/step - loss: 0.1967 - acc: 0.9116 - f1_m: 0.9116 - precision_m: 0.9116 - recall_m: 0.9116 - val_loss: 0.5062 - val_acc: 0.8615 - val_f1_m: 0.8610 - val_precision_m: 0.8610 - val_recall_m: 0.8610\n",
      "Epoch 119/300\n",
      "239/239 [==============================] - 5s 22ms/step - loss: 0.1969 - acc: 0.9120 - f1_m: 0.9120 - precision_m: 0.9120 - recall_m: 0.9120 - val_loss: 0.5126 - val_acc: 0.8625 - val_f1_m: 0.8620 - val_precision_m: 0.8620 - val_recall_m: 0.8620\n",
      "Epoch 120/300\n",
      "239/239 [==============================] - 5s 21ms/step - loss: 0.1962 - acc: 0.9131 - f1_m: 0.9131 - precision_m: 0.9131 - recall_m: 0.9131 - val_loss: 0.5152 - val_acc: 0.8631 - val_f1_m: 0.8626 - val_precision_m: 0.8626 - val_recall_m: 0.8626\n",
      "Epoch 121/300\n",
      "239/239 [==============================] - 4s 16ms/step - loss: 0.1958 - acc: 0.9119 - f1_m: 0.9119 - precision_m: 0.9119 - recall_m: 0.9119 - val_loss: 0.5092 - val_acc: 0.8624 - val_f1_m: 0.8620 - val_precision_m: 0.8620 - val_recall_m: 0.8620\n",
      "Epoch 122/300\n",
      "239/239 [==============================] - 4s 16ms/step - loss: 0.1949 - acc: 0.9135 - f1_m: 0.9135 - precision_m: 0.9135 - recall_m: 0.9135 - val_loss: 0.5088 - val_acc: 0.8622 - val_f1_m: 0.8618 - val_precision_m: 0.8618 - val_recall_m: 0.8618\n",
      "Epoch 123/300\n",
      "239/239 [==============================] - 4s 19ms/step - loss: 0.1967 - acc: 0.9129 - f1_m: 0.9129 - precision_m: 0.9129 - recall_m: 0.9129 - val_loss: 0.5075 - val_acc: 0.8623 - val_f1_m: 0.8618 - val_precision_m: 0.8618 - val_recall_m: 0.8618\n",
      "Epoch 124/300\n",
      "239/239 [==============================] - 4s 16ms/step - loss: 0.1957 - acc: 0.9134 - f1_m: 0.9134 - precision_m: 0.9134 - recall_m: 0.9134 - val_loss: 0.5229 - val_acc: 0.8626 - val_f1_m: 0.8622 - val_precision_m: 0.8622 - val_recall_m: 0.8622\n",
      "Epoch 125/300\n",
      "239/239 [==============================] - 4s 17ms/step - loss: 0.1968 - acc: 0.9118 - f1_m: 0.9118 - precision_m: 0.9118 - recall_m: 0.9118 - val_loss: 0.5170 - val_acc: 0.8625 - val_f1_m: 0.8621 - val_precision_m: 0.8621 - val_recall_m: 0.8621\n",
      "Epoch 126/300\n",
      "239/239 [==============================] - 4s 16ms/step - loss: 0.1964 - acc: 0.9121 - f1_m: 0.9121 - precision_m: 0.9121 - recall_m: 0.9121 - val_loss: 0.5031 - val_acc: 0.8617 - val_f1_m: 0.8614 - val_precision_m: 0.8614 - val_recall_m: 0.8614\n",
      "Epoch 127/300\n",
      "239/239 [==============================] - 4s 16ms/step - loss: 0.1941 - acc: 0.9134 - f1_m: 0.9134 - precision_m: 0.9134 - recall_m: 0.9134 - val_loss: 0.5204 - val_acc: 0.8610 - val_f1_m: 0.8606 - val_precision_m: 0.8606 - val_recall_m: 0.8606\n",
      "Epoch 128/300\n",
      "239/239 [==============================] - 4s 17ms/step - loss: 0.1971 - acc: 0.9120 - f1_m: 0.9120 - precision_m: 0.9120 - recall_m: 0.9120 - val_loss: 0.5098 - val_acc: 0.8624 - val_f1_m: 0.8620 - val_precision_m: 0.8620 - val_recall_m: 0.8620\n",
      "Epoch 129/300\n",
      "239/239 [==============================] - 4s 16ms/step - loss: 0.1949 - acc: 0.9129 - f1_m: 0.9129 - precision_m: 0.9129 - recall_m: 0.9129 - val_loss: 0.4999 - val_acc: 0.8619 - val_f1_m: 0.8616 - val_precision_m: 0.8616 - val_recall_m: 0.8616\n",
      "Epoch 130/300\n",
      "239/239 [==============================] - 4s 16ms/step - loss: 0.1966 - acc: 0.9123 - f1_m: 0.9123 - precision_m: 0.9123 - recall_m: 0.9123 - val_loss: 0.5128 - val_acc: 0.8622 - val_f1_m: 0.8618 - val_precision_m: 0.8618 - val_recall_m: 0.8618\n",
      "Epoch 131/300\n",
      "239/239 [==============================] - 5s 19ms/step - loss: 0.1970 - acc: 0.9117 - f1_m: 0.9117 - precision_m: 0.9117 - recall_m: 0.9117 - val_loss: 0.5150 - val_acc: 0.8613 - val_f1_m: 0.8610 - val_precision_m: 0.8610 - val_recall_m: 0.8610\n",
      "Epoch 132/300\n",
      "239/239 [==============================] - 4s 16ms/step - loss: 0.1953 - acc: 0.9128 - f1_m: 0.9128 - precision_m: 0.9128 - recall_m: 0.9128 - val_loss: 0.5073 - val_acc: 0.8624 - val_f1_m: 0.8620 - val_precision_m: 0.8620 - val_recall_m: 0.8620\n",
      "Epoch 133/300\n",
      "239/239 [==============================] - 4s 16ms/step - loss: 0.1975 - acc: 0.9113 - f1_m: 0.9113 - precision_m: 0.9113 - recall_m: 0.9113 - val_loss: 0.5156 - val_acc: 0.8627 - val_f1_m: 0.8623 - val_precision_m: 0.8623 - val_recall_m: 0.8623\n",
      "Epoch 134/300\n",
      "239/239 [==============================] - 4s 17ms/step - loss: 0.1947 - acc: 0.9136 - f1_m: 0.9136 - precision_m: 0.9136 - recall_m: 0.9136 - val_loss: 0.5231 - val_acc: 0.8620 - val_f1_m: 0.8617 - val_precision_m: 0.8617 - val_recall_m: 0.8617\n",
      "Epoch 135/300\n",
      "239/239 [==============================] - 4s 17ms/step - loss: 0.1950 - acc: 0.9131 - f1_m: 0.9131 - precision_m: 0.9131 - recall_m: 0.9131 - val_loss: 0.5153 - val_acc: 0.8610 - val_f1_m: 0.8606 - val_precision_m: 0.8606 - val_recall_m: 0.8606\n",
      "Epoch 136/300\n",
      "239/239 [==============================] - 5s 23ms/step - loss: 0.1957 - acc: 0.9112 - f1_m: 0.9112 - precision_m: 0.9112 - recall_m: 0.9112 - val_loss: 0.5232 - val_acc: 0.8615 - val_f1_m: 0.8612 - val_precision_m: 0.8612 - val_recall_m: 0.8612\n",
      "Epoch 137/300\n",
      "239/239 [==============================] - 5s 22ms/step - loss: 0.1967 - acc: 0.9109 - f1_m: 0.9109 - precision_m: 0.9109 - recall_m: 0.9109 - val_loss: 0.5262 - val_acc: 0.8606 - val_f1_m: 0.8603 - val_precision_m: 0.8603 - val_recall_m: 0.8603\n",
      "Epoch 138/300\n",
      "239/239 [==============================] - 5s 19ms/step - loss: 0.1925 - acc: 0.9146 - f1_m: 0.9146 - precision_m: 0.9146 - recall_m: 0.9146 - val_loss: 0.5192 - val_acc: 0.8617 - val_f1_m: 0.8614 - val_precision_m: 0.8614 - val_recall_m: 0.8614\n",
      "Epoch 139/300\n",
      "239/239 [==============================] - 4s 17ms/step - loss: 0.1956 - acc: 0.9126 - f1_m: 0.9126 - precision_m: 0.9126 - recall_m: 0.9126 - val_loss: 0.5115 - val_acc: 0.8617 - val_f1_m: 0.8613 - val_precision_m: 0.8613 - val_recall_m: 0.8613\n",
      "Epoch 140/300\n",
      "239/239 [==============================] - 4s 16ms/step - loss: 0.1957 - acc: 0.9130 - f1_m: 0.9130 - precision_m: 0.9130 - recall_m: 0.9130 - val_loss: 0.5091 - val_acc: 0.8625 - val_f1_m: 0.8622 - val_precision_m: 0.8622 - val_recall_m: 0.8622\n",
      "Epoch 141/300\n",
      "239/239 [==============================] - 4s 17ms/step - loss: 0.1920 - acc: 0.9139 - f1_m: 0.9139 - precision_m: 0.9139 - recall_m: 0.9139 - val_loss: 0.5139 - val_acc: 0.8622 - val_f1_m: 0.8618 - val_precision_m: 0.8618 - val_recall_m: 0.8618\n",
      "Epoch 142/300\n",
      "239/239 [==============================] - 4s 16ms/step - loss: 0.1940 - acc: 0.9146 - f1_m: 0.9146 - precision_m: 0.9146 - recall_m: 0.9146 - val_loss: 0.5213 - val_acc: 0.8611 - val_f1_m: 0.8607 - val_precision_m: 0.8607 - val_recall_m: 0.8607\n",
      "Epoch 143/300\n",
      "239/239 [==============================] - 4s 16ms/step - loss: 0.1947 - acc: 0.9135 - f1_m: 0.9135 - precision_m: 0.9135 - recall_m: 0.9135 - val_loss: 0.5279 - val_acc: 0.8622 - val_f1_m: 0.8617 - val_precision_m: 0.8617 - val_recall_m: 0.8617\n",
      "Epoch 144/300\n",
      "239/239 [==============================] - 4s 17ms/step - loss: 0.1941 - acc: 0.9139 - f1_m: 0.9139 - precision_m: 0.9139 - recall_m: 0.9139 - val_loss: 0.5278 - val_acc: 0.8611 - val_f1_m: 0.8608 - val_precision_m: 0.8608 - val_recall_m: 0.8608\n",
      "Epoch 145/300\n",
      "239/239 [==============================] - 4s 16ms/step - loss: 0.1944 - acc: 0.9133 - f1_m: 0.9133 - precision_m: 0.9133 - recall_m: 0.9133 - val_loss: 0.5225 - val_acc: 0.8614 - val_f1_m: 0.8611 - val_precision_m: 0.8611 - val_recall_m: 0.8611\n",
      "Epoch 146/300\n",
      "239/239 [==============================] - 4s 18ms/step - loss: 0.1946 - acc: 0.9134 - f1_m: 0.9134 - precision_m: 0.9134 - recall_m: 0.9134 - val_loss: 0.5190 - val_acc: 0.8623 - val_f1_m: 0.8620 - val_precision_m: 0.8620 - val_recall_m: 0.8620\n",
      "Epoch 147/300\n",
      "239/239 [==============================] - 4s 17ms/step - loss: 0.1929 - acc: 0.9137 - f1_m: 0.9137 - precision_m: 0.9137 - recall_m: 0.9137 - val_loss: 0.5245 - val_acc: 0.8623 - val_f1_m: 0.8619 - val_precision_m: 0.8619 - val_recall_m: 0.8619\n",
      "Epoch 148/300\n",
      "239/239 [==============================] - 4s 15ms/step - loss: 0.1958 - acc: 0.9131 - f1_m: 0.9131 - precision_m: 0.9131 - recall_m: 0.9131 - val_loss: 0.5261 - val_acc: 0.8622 - val_f1_m: 0.8618 - val_precision_m: 0.8618 - val_recall_m: 0.8618\n",
      "Epoch 149/300\n",
      "239/239 [==============================] - 4s 16ms/step - loss: 0.1927 - acc: 0.9146 - f1_m: 0.9146 - precision_m: 0.9146 - recall_m: 0.9146 - val_loss: 0.5239 - val_acc: 0.8626 - val_f1_m: 0.8622 - val_precision_m: 0.8622 - val_recall_m: 0.8622\n",
      "Epoch 150/300\n",
      "239/239 [==============================] - 4s 16ms/step - loss: 0.1934 - acc: 0.9142 - f1_m: 0.9142 - precision_m: 0.9142 - recall_m: 0.9142 - val_loss: 0.5298 - val_acc: 0.8621 - val_f1_m: 0.8617 - val_precision_m: 0.8617 - val_recall_m: 0.8617\n",
      "Epoch 151/300\n",
      "239/239 [==============================] - 4s 16ms/step - loss: 0.1942 - acc: 0.9126 - f1_m: 0.9126 - precision_m: 0.9126 - recall_m: 0.9126 - val_loss: 0.5379 - val_acc: 0.8616 - val_f1_m: 0.8611 - val_precision_m: 0.8611 - val_recall_m: 0.8611\n",
      "Epoch 152/300\n",
      "239/239 [==============================] - 4s 17ms/step - loss: 0.1924 - acc: 0.9142 - f1_m: 0.9142 - precision_m: 0.9142 - recall_m: 0.9142 - val_loss: 0.5237 - val_acc: 0.8630 - val_f1_m: 0.8625 - val_precision_m: 0.8625 - val_recall_m: 0.8625\n",
      "Epoch 153/300\n",
      "239/239 [==============================] - 5s 21ms/step - loss: 0.1935 - acc: 0.9140 - f1_m: 0.9140 - precision_m: 0.9140 - recall_m: 0.9140 - val_loss: 0.5207 - val_acc: 0.8620 - val_f1_m: 0.8616 - val_precision_m: 0.8616 - val_recall_m: 0.8616\n",
      "Epoch 154/300\n",
      "239/239 [==============================] - 6s 24ms/step - loss: 0.1921 - acc: 0.9141 - f1_m: 0.9141 - precision_m: 0.9141 - recall_m: 0.9141 - val_loss: 0.5222 - val_acc: 0.8624 - val_f1_m: 0.8620 - val_precision_m: 0.8620 - val_recall_m: 0.8620\n",
      "Epoch 155/300\n",
      "239/239 [==============================] - 4s 19ms/step - loss: 0.1939 - acc: 0.9137 - f1_m: 0.9137 - precision_m: 0.9137 - recall_m: 0.9137 - val_loss: 0.5177 - val_acc: 0.8626 - val_f1_m: 0.8623 - val_precision_m: 0.8623 - val_recall_m: 0.8623\n",
      "Epoch 156/300\n",
      "239/239 [==============================] - 4s 16ms/step - loss: 0.1929 - acc: 0.9135 - f1_m: 0.9135 - precision_m: 0.9135 - recall_m: 0.9135 - val_loss: 0.5319 - val_acc: 0.8625 - val_f1_m: 0.8621 - val_precision_m: 0.8621 - val_recall_m: 0.8621\n",
      "Epoch 157/300\n",
      "239/239 [==============================] - 4s 17ms/step - loss: 0.1919 - acc: 0.9146 - f1_m: 0.9146 - precision_m: 0.9146 - recall_m: 0.9146 - val_loss: 0.5320 - val_acc: 0.8616 - val_f1_m: 0.8611 - val_precision_m: 0.8611 - val_recall_m: 0.8611\n",
      "Epoch 158/300\n",
      "239/239 [==============================] - 4s 15ms/step - loss: 0.1911 - acc: 0.9148 - f1_m: 0.9148 - precision_m: 0.9148 - recall_m: 0.9148 - val_loss: 0.5216 - val_acc: 0.8614 - val_f1_m: 0.8610 - val_precision_m: 0.8610 - val_recall_m: 0.8610\n",
      "Epoch 159/300\n",
      "239/239 [==============================] - 4s 16ms/step - loss: 0.1941 - acc: 0.9134 - f1_m: 0.9134 - precision_m: 0.9134 - recall_m: 0.9134 - val_loss: 0.5299 - val_acc: 0.8610 - val_f1_m: 0.8607 - val_precision_m: 0.8607 - val_recall_m: 0.8607\n",
      "Epoch 160/300\n",
      "239/239 [==============================] - 4s 17ms/step - loss: 0.1957 - acc: 0.9115 - f1_m: 0.9115 - precision_m: 0.9115 - recall_m: 0.9115 - val_loss: 0.5259 - val_acc: 0.8619 - val_f1_m: 0.8616 - val_precision_m: 0.8616 - val_recall_m: 0.8616\n",
      "Epoch 161/300\n",
      "239/239 [==============================] - 4s 17ms/step - loss: 0.1908 - acc: 0.9152 - f1_m: 0.9152 - precision_m: 0.9152 - recall_m: 0.9152 - val_loss: 0.5353 - val_acc: 0.8626 - val_f1_m: 0.8622 - val_precision_m: 0.8622 - val_recall_m: 0.8622\n",
      "Epoch 162/300\n",
      "239/239 [==============================] - 4s 17ms/step - loss: 0.1922 - acc: 0.9148 - f1_m: 0.9148 - precision_m: 0.9148 - recall_m: 0.9148 - val_loss: 0.5396 - val_acc: 0.8625 - val_f1_m: 0.8620 - val_precision_m: 0.8620 - val_recall_m: 0.8620\n",
      "Epoch 163/300\n",
      "239/239 [==============================] - 4s 18ms/step - loss: 0.1894 - acc: 0.9157 - f1_m: 0.9157 - precision_m: 0.9157 - recall_m: 0.9157 - val_loss: 0.5384 - val_acc: 0.8609 - val_f1_m: 0.8606 - val_precision_m: 0.8606 - val_recall_m: 0.8606\n",
      "Epoch 164/300\n",
      "239/239 [==============================] - 4s 16ms/step - loss: 0.1930 - acc: 0.9141 - f1_m: 0.9141 - precision_m: 0.9141 - recall_m: 0.9141 - val_loss: 0.5286 - val_acc: 0.8620 - val_f1_m: 0.8617 - val_precision_m: 0.8617 - val_recall_m: 0.8617\n",
      "Epoch 165/300\n",
      "239/239 [==============================] - 4s 17ms/step - loss: 0.1941 - acc: 0.9140 - f1_m: 0.9140 - precision_m: 0.9140 - recall_m: 0.9140 - val_loss: 0.5310 - val_acc: 0.8610 - val_f1_m: 0.8607 - val_precision_m: 0.8607 - val_recall_m: 0.8607\n",
      "Epoch 166/300\n",
      "239/239 [==============================] - 4s 16ms/step - loss: 0.1923 - acc: 0.9142 - f1_m: 0.9142 - precision_m: 0.9142 - recall_m: 0.9142 - val_loss: 0.5344 - val_acc: 0.8626 - val_f1_m: 0.8622 - val_precision_m: 0.8622 - val_recall_m: 0.8622\n",
      "Epoch 167/300\n",
      "239/239 [==============================] - 4s 16ms/step - loss: 0.1942 - acc: 0.9133 - f1_m: 0.9133 - precision_m: 0.9133 - recall_m: 0.9133 - val_loss: 0.5140 - val_acc: 0.8616 - val_f1_m: 0.8613 - val_precision_m: 0.8613 - val_recall_m: 0.8613\n",
      "Epoch 168/300\n",
      "239/239 [==============================] - 4s 17ms/step - loss: 0.1943 - acc: 0.9130 - f1_m: 0.9130 - precision_m: 0.9130 - recall_m: 0.9130 - val_loss: 0.5324 - val_acc: 0.8607 - val_f1_m: 0.8604 - val_precision_m: 0.8604 - val_recall_m: 0.8604\n",
      "Epoch 169/300\n",
      "239/239 [==============================] - 4s 18ms/step - loss: 0.1924 - acc: 0.9130 - f1_m: 0.9130 - precision_m: 0.9130 - recall_m: 0.9130 - val_loss: 0.5439 - val_acc: 0.8618 - val_f1_m: 0.8615 - val_precision_m: 0.8615 - val_recall_m: 0.8615\n",
      "Epoch 170/300\n",
      "239/239 [==============================] - 4s 18ms/step - loss: 0.1930 - acc: 0.9142 - f1_m: 0.9142 - precision_m: 0.9142 - recall_m: 0.9142 - val_loss: 0.5347 - val_acc: 0.8603 - val_f1_m: 0.8601 - val_precision_m: 0.8601 - val_recall_m: 0.8601\n",
      "Epoch 171/300\n",
      "239/239 [==============================] - 5s 22ms/step - loss: 0.1921 - acc: 0.9138 - f1_m: 0.9138 - precision_m: 0.9138 - recall_m: 0.9138 - val_loss: 0.5289 - val_acc: 0.8615 - val_f1_m: 0.8611 - val_precision_m: 0.8611 - val_recall_m: 0.8611\n",
      "Epoch 172/300\n",
      "239/239 [==============================] - 5s 21ms/step - loss: 0.1919 - acc: 0.9148 - f1_m: 0.9148 - precision_m: 0.9148 - recall_m: 0.9148 - val_loss: 0.5269 - val_acc: 0.8612 - val_f1_m: 0.8608 - val_precision_m: 0.8608 - val_recall_m: 0.8608\n",
      "Epoch 173/300\n",
      "239/239 [==============================] - 4s 18ms/step - loss: 0.1929 - acc: 0.9146 - f1_m: 0.9146 - precision_m: 0.9146 - recall_m: 0.9146 - val_loss: 0.5363 - val_acc: 0.8617 - val_f1_m: 0.8614 - val_precision_m: 0.8614 - val_recall_m: 0.8614\n",
      "Epoch 174/300\n",
      "239/239 [==============================] - 4s 17ms/step - loss: 0.1910 - acc: 0.9156 - f1_m: 0.9156 - precision_m: 0.9156 - recall_m: 0.9156 - val_loss: 0.5365 - val_acc: 0.8630 - val_f1_m: 0.8627 - val_precision_m: 0.8627 - val_recall_m: 0.8627\n",
      "Epoch 175/300\n",
      "239/239 [==============================] - 4s 16ms/step - loss: 0.1921 - acc: 0.9146 - f1_m: 0.9146 - precision_m: 0.9146 - recall_m: 0.9146 - val_loss: 0.5515 - val_acc: 0.8618 - val_f1_m: 0.8614 - val_precision_m: 0.8614 - val_recall_m: 0.8614\n",
      "Epoch 176/300\n",
      "239/239 [==============================] - 4s 18ms/step - loss: 0.1922 - acc: 0.9149 - f1_m: 0.9149 - precision_m: 0.9149 - recall_m: 0.9149 - val_loss: 0.5387 - val_acc: 0.8623 - val_f1_m: 0.8620 - val_precision_m: 0.8620 - val_recall_m: 0.8620\n",
      "Epoch 177/300\n",
      "239/239 [==============================] - 4s 18ms/step - loss: 0.1894 - acc: 0.9151 - f1_m: 0.9151 - precision_m: 0.9151 - recall_m: 0.9151 - val_loss: 0.5391 - val_acc: 0.8620 - val_f1_m: 0.8617 - val_precision_m: 0.8617 - val_recall_m: 0.8617\n",
      "Epoch 178/300\n",
      "239/239 [==============================] - 4s 17ms/step - loss: 0.1924 - acc: 0.9132 - f1_m: 0.9132 - precision_m: 0.9132 - recall_m: 0.9132 - val_loss: 0.5372 - val_acc: 0.8620 - val_f1_m: 0.8616 - val_precision_m: 0.8616 - val_recall_m: 0.8616\n",
      "Epoch 179/300\n",
      "239/239 [==============================] - 4s 16ms/step - loss: 0.1897 - acc: 0.9155 - f1_m: 0.9155 - precision_m: 0.9155 - recall_m: 0.9155 - val_loss: 0.5415 - val_acc: 0.8625 - val_f1_m: 0.8621 - val_precision_m: 0.8621 - val_recall_m: 0.8621\n",
      "Epoch 180/300\n",
      "239/239 [==============================] - 4s 16ms/step - loss: 0.1929 - acc: 0.9136 - f1_m: 0.9136 - precision_m: 0.9136 - recall_m: 0.9136 - val_loss: 0.5361 - val_acc: 0.8623 - val_f1_m: 0.8620 - val_precision_m: 0.8620 - val_recall_m: 0.8620\n",
      "Epoch 181/300\n",
      "239/239 [==============================] - 4s 17ms/step - loss: 0.1920 - acc: 0.9143 - f1_m: 0.9143 - precision_m: 0.9143 - recall_m: 0.9143 - val_loss: 0.5325 - val_acc: 0.8607 - val_f1_m: 0.8603 - val_precision_m: 0.8603 - val_recall_m: 0.8603\n",
      "Epoch 182/300\n",
      "239/239 [==============================] - 4s 16ms/step - loss: 0.1919 - acc: 0.9150 - f1_m: 0.9150 - precision_m: 0.9150 - recall_m: 0.9150 - val_loss: 0.5410 - val_acc: 0.8622 - val_f1_m: 0.8618 - val_precision_m: 0.8618 - val_recall_m: 0.8618\n",
      "Epoch 183/300\n",
      "239/239 [==============================] - 4s 16ms/step - loss: 0.1891 - acc: 0.9153 - f1_m: 0.9153 - precision_m: 0.9153 - recall_m: 0.9153 - val_loss: 0.5307 - val_acc: 0.8620 - val_f1_m: 0.8617 - val_precision_m: 0.8617 - val_recall_m: 0.8617\n",
      "Epoch 184/300\n",
      "239/239 [==============================] - 4s 17ms/step - loss: 0.1901 - acc: 0.9156 - f1_m: 0.9156 - precision_m: 0.9156 - recall_m: 0.9156 - val_loss: 0.5396 - val_acc: 0.8623 - val_f1_m: 0.8619 - val_precision_m: 0.8619 - val_recall_m: 0.8619\n",
      "Epoch 185/300\n",
      "239/239 [==============================] - 4s 18ms/step - loss: 0.1910 - acc: 0.9152 - f1_m: 0.9152 - precision_m: 0.9152 - recall_m: 0.9152 - val_loss: 0.5414 - val_acc: 0.8621 - val_f1_m: 0.8618 - val_precision_m: 0.8618 - val_recall_m: 0.8618\n",
      "Epoch 186/300\n",
      "239/239 [==============================] - 4s 16ms/step - loss: 0.1931 - acc: 0.9146 - f1_m: 0.9146 - precision_m: 0.9146 - recall_m: 0.9146 - val_loss: 0.5406 - val_acc: 0.8620 - val_f1_m: 0.8617 - val_precision_m: 0.8617 - val_recall_m: 0.8617\n",
      "Epoch 187/300\n",
      "239/239 [==============================] - 4s 17ms/step - loss: 0.1895 - acc: 0.9157 - f1_m: 0.9157 - precision_m: 0.9157 - recall_m: 0.9157 - val_loss: 0.5455 - val_acc: 0.8624 - val_f1_m: 0.8621 - val_precision_m: 0.8621 - val_recall_m: 0.8621\n",
      "Epoch 188/300\n",
      "239/239 [==============================] - 5s 23ms/step - loss: 0.1893 - acc: 0.9167 - f1_m: 0.9167 - precision_m: 0.9167 - recall_m: 0.9167 - val_loss: 0.5407 - val_acc: 0.8619 - val_f1_m: 0.8616 - val_precision_m: 0.8616 - val_recall_m: 0.8616\n",
      "Epoch 189/300\n",
      "239/239 [==============================] - 5s 22ms/step - loss: 0.1922 - acc: 0.9145 - f1_m: 0.9145 - precision_m: 0.9145 - recall_m: 0.9145 - val_loss: 0.5325 - val_acc: 0.8620 - val_f1_m: 0.8617 - val_precision_m: 0.8617 - val_recall_m: 0.8617\n",
      "Epoch 190/300\n",
      "239/239 [==============================] - 4s 19ms/step - loss: 0.1896 - acc: 0.9157 - f1_m: 0.9157 - precision_m: 0.9157 - recall_m: 0.9157 - val_loss: 0.5525 - val_acc: 0.8618 - val_f1_m: 0.8614 - val_precision_m: 0.8614 - val_recall_m: 0.8614\n",
      "Epoch 191/300\n",
      "239/239 [==============================] - 4s 18ms/step - loss: 0.1872 - acc: 0.9170 - f1_m: 0.9170 - precision_m: 0.9170 - recall_m: 0.9170 - val_loss: 0.5366 - val_acc: 0.8620 - val_f1_m: 0.8617 - val_precision_m: 0.8617 - val_recall_m: 0.8617\n",
      "Epoch 192/300\n",
      "239/239 [==============================] - 4s 18ms/step - loss: 0.1904 - acc: 0.9143 - f1_m: 0.9143 - precision_m: 0.9143 - recall_m: 0.9143 - val_loss: 0.5490 - val_acc: 0.8610 - val_f1_m: 0.8607 - val_precision_m: 0.8607 - val_recall_m: 0.8607\n",
      "Epoch 193/300\n",
      "239/239 [==============================] - 4s 16ms/step - loss: 0.1905 - acc: 0.9154 - f1_m: 0.9154 - precision_m: 0.9154 - recall_m: 0.9154 - val_loss: 0.5444 - val_acc: 0.8624 - val_f1_m: 0.8620 - val_precision_m: 0.8620 - val_recall_m: 0.8620\n",
      "Epoch 194/300\n",
      "239/239 [==============================] - 4s 17ms/step - loss: 0.1893 - acc: 0.9163 - f1_m: 0.9163 - precision_m: 0.9163 - recall_m: 0.9163 - val_loss: 0.5449 - val_acc: 0.8626 - val_f1_m: 0.8622 - val_precision_m: 0.8622 - val_recall_m: 0.8622\n",
      "Epoch 195/300\n",
      "239/239 [==============================] - 4s 16ms/step - loss: 0.1890 - acc: 0.9166 - f1_m: 0.9166 - precision_m: 0.9166 - recall_m: 0.9166 - val_loss: 0.5458 - val_acc: 0.8629 - val_f1_m: 0.8625 - val_precision_m: 0.8625 - val_recall_m: 0.8625\n",
      "Epoch 196/300\n",
      "239/239 [==============================] - 4s 16ms/step - loss: 0.1887 - acc: 0.9160 - f1_m: 0.9160 - precision_m: 0.9160 - recall_m: 0.9160 - val_loss: 0.5411 - val_acc: 0.8627 - val_f1_m: 0.8623 - val_precision_m: 0.8623 - val_recall_m: 0.8623\n",
      "Epoch 197/300\n",
      "239/239 [==============================] - 4s 17ms/step - loss: 0.1903 - acc: 0.9156 - f1_m: 0.9156 - precision_m: 0.9156 - recall_m: 0.9156 - val_loss: 0.5473 - val_acc: 0.8604 - val_f1_m: 0.8600 - val_precision_m: 0.8600 - val_recall_m: 0.8600\n",
      "Epoch 198/300\n",
      "239/239 [==============================] - 4s 16ms/step - loss: 0.1909 - acc: 0.9143 - f1_m: 0.9143 - precision_m: 0.9143 - recall_m: 0.9143 - val_loss: 0.5462 - val_acc: 0.8620 - val_f1_m: 0.8616 - val_precision_m: 0.8616 - val_recall_m: 0.8616\n",
      "Epoch 199/300\n",
      "239/239 [==============================] - 4s 16ms/step - loss: 0.1902 - acc: 0.9142 - f1_m: 0.9142 - precision_m: 0.9142 - recall_m: 0.9142 - val_loss: 0.5483 - val_acc: 0.8611 - val_f1_m: 0.8607 - val_precision_m: 0.8607 - val_recall_m: 0.8607\n",
      "Epoch 200/300\n",
      "239/239 [==============================] - 5s 19ms/step - loss: 0.1913 - acc: 0.9141 - f1_m: 0.9141 - precision_m: 0.9141 - recall_m: 0.9141 - val_loss: 0.5442 - val_acc: 0.8606 - val_f1_m: 0.8603 - val_precision_m: 0.8603 - val_recall_m: 0.8603\n",
      "Epoch 201/300\n",
      "239/239 [==============================] - 4s 16ms/step - loss: 0.1911 - acc: 0.9141 - f1_m: 0.9141 - precision_m: 0.9141 - recall_m: 0.9141 - val_loss: 0.5483 - val_acc: 0.8618 - val_f1_m: 0.8613 - val_precision_m: 0.8613 - val_recall_m: 0.8613\n",
      "Epoch 202/300\n",
      "239/239 [==============================] - 4s 17ms/step - loss: 0.1893 - acc: 0.9162 - f1_m: 0.9162 - precision_m: 0.9162 - recall_m: 0.9162 - val_loss: 0.5476 - val_acc: 0.8628 - val_f1_m: 0.8624 - val_precision_m: 0.8624 - val_recall_m: 0.8624\n",
      "Epoch 203/300\n",
      "239/239 [==============================] - 4s 16ms/step - loss: 0.1911 - acc: 0.9153 - f1_m: 0.9153 - precision_m: 0.9153 - recall_m: 0.9153 - val_loss: 0.5483 - val_acc: 0.8609 - val_f1_m: 0.8606 - val_precision_m: 0.8606 - val_recall_m: 0.8606\n",
      "Epoch 204/300\n",
      "239/239 [==============================] - 4s 16ms/step - loss: 0.1868 - acc: 0.9164 - f1_m: 0.9164 - precision_m: 0.9164 - recall_m: 0.9164 - val_loss: 0.5397 - val_acc: 0.8618 - val_f1_m: 0.8614 - val_precision_m: 0.8614 - val_recall_m: 0.8614\n",
      "Epoch 205/300\n",
      "239/239 [==============================] - 5s 20ms/step - loss: 0.1898 - acc: 0.9143 - f1_m: 0.9143 - precision_m: 0.9143 - recall_m: 0.9143 - val_loss: 0.5502 - val_acc: 0.8614 - val_f1_m: 0.8611 - val_precision_m: 0.8611 - val_recall_m: 0.8611\n",
      "Epoch 206/300\n",
      "239/239 [==============================] - 5s 22ms/step - loss: 0.1888 - acc: 0.9169 - f1_m: 0.9169 - precision_m: 0.9169 - recall_m: 0.9169 - val_loss: 0.5456 - val_acc: 0.8616 - val_f1_m: 0.8612 - val_precision_m: 0.8612 - val_recall_m: 0.8612\n",
      "Epoch 207/300\n",
      "239/239 [==============================] - 6s 25ms/step - loss: 0.1863 - acc: 0.9177 - f1_m: 0.9177 - precision_m: 0.9177 - recall_m: 0.9177 - val_loss: 0.5378 - val_acc: 0.8628 - val_f1_m: 0.8624 - val_precision_m: 0.8624 - val_recall_m: 0.8624\n",
      "Epoch 208/300\n",
      "239/239 [==============================] - 4s 18ms/step - loss: 0.1914 - acc: 0.9145 - f1_m: 0.9145 - precision_m: 0.9145 - recall_m: 0.9145 - val_loss: 0.5583 - val_acc: 0.8621 - val_f1_m: 0.8618 - val_precision_m: 0.8618 - val_recall_m: 0.8618\n",
      "Epoch 209/300\n",
      "239/239 [==============================] - 4s 16ms/step - loss: 0.1897 - acc: 0.9152 - f1_m: 0.9152 - precision_m: 0.9152 - recall_m: 0.9152 - val_loss: 0.5444 - val_acc: 0.8623 - val_f1_m: 0.8619 - val_precision_m: 0.8619 - val_recall_m: 0.8619\n",
      "Epoch 210/300\n",
      "239/239 [==============================] - 4s 18ms/step - loss: 0.1876 - acc: 0.9172 - f1_m: 0.9172 - precision_m: 0.9172 - recall_m: 0.9172 - val_loss: 0.5435 - val_acc: 0.8611 - val_f1_m: 0.8607 - val_precision_m: 0.8607 - val_recall_m: 0.8607\n",
      "Epoch 211/300\n",
      "239/239 [==============================] - 4s 17ms/step - loss: 0.1899 - acc: 0.9161 - f1_m: 0.9161 - precision_m: 0.9161 - recall_m: 0.9161 - val_loss: 0.5450 - val_acc: 0.8619 - val_f1_m: 0.8615 - val_precision_m: 0.8615 - val_recall_m: 0.8615\n",
      "Epoch 212/300\n",
      "239/239 [==============================] - 4s 17ms/step - loss: 0.1871 - acc: 0.9173 - f1_m: 0.9173 - precision_m: 0.9173 - recall_m: 0.9173 - val_loss: 0.5609 - val_acc: 0.8618 - val_f1_m: 0.8614 - val_precision_m: 0.8614 - val_recall_m: 0.8614\n",
      "Epoch 213/300\n",
      "239/239 [==============================] - 4s 16ms/step - loss: 0.1895 - acc: 0.9160 - f1_m: 0.9160 - precision_m: 0.9160 - recall_m: 0.9160 - val_loss: 0.5529 - val_acc: 0.8613 - val_f1_m: 0.8609 - val_precision_m: 0.8609 - val_recall_m: 0.8609\n",
      "Epoch 214/300\n",
      "239/239 [==============================] - 4s 16ms/step - loss: 0.1876 - acc: 0.9165 - f1_m: 0.9165 - precision_m: 0.9165 - recall_m: 0.9165 - val_loss: 0.5508 - val_acc: 0.8610 - val_f1_m: 0.8606 - val_precision_m: 0.8606 - val_recall_m: 0.8606\n",
      "Epoch 215/300\n",
      "239/239 [==============================] - 5s 19ms/step - loss: 0.1894 - acc: 0.9159 - f1_m: 0.9159 - precision_m: 0.9159 - recall_m: 0.9159 - val_loss: 0.5567 - val_acc: 0.8606 - val_f1_m: 0.8602 - val_precision_m: 0.8602 - val_recall_m: 0.8602\n",
      "Epoch 216/300\n",
      "239/239 [==============================] - 4s 16ms/step - loss: 0.1869 - acc: 0.9176 - f1_m: 0.9176 - precision_m: 0.9176 - recall_m: 0.9176 - val_loss: 0.5536 - val_acc: 0.8610 - val_f1_m: 0.8606 - val_precision_m: 0.8606 - val_recall_m: 0.8606\n",
      "Epoch 217/300\n",
      "239/239 [==============================] - 4s 16ms/step - loss: 0.1876 - acc: 0.9167 - f1_m: 0.9167 - precision_m: 0.9167 - recall_m: 0.9167 - val_loss: 0.5451 - val_acc: 0.8611 - val_f1_m: 0.8608 - val_precision_m: 0.8608 - val_recall_m: 0.8608\n",
      "Epoch 218/300\n",
      "239/239 [==============================] - 4s 17ms/step - loss: 0.1874 - acc: 0.9162 - f1_m: 0.9162 - precision_m: 0.9162 - recall_m: 0.9162 - val_loss: 0.5487 - val_acc: 0.8621 - val_f1_m: 0.8618 - val_precision_m: 0.8618 - val_recall_m: 0.8618\n",
      "Epoch 219/300\n",
      "239/239 [==============================] - 4s 16ms/step - loss: 0.1885 - acc: 0.9157 - f1_m: 0.9157 - precision_m: 0.9157 - recall_m: 0.9157 - val_loss: 0.5610 - val_acc: 0.8621 - val_f1_m: 0.8617 - val_precision_m: 0.8617 - val_recall_m: 0.8617\n",
      "Epoch 220/300\n",
      "239/239 [==============================] - 4s 16ms/step - loss: 0.1902 - acc: 0.9152 - f1_m: 0.9152 - precision_m: 0.9152 - recall_m: 0.9152 - val_loss: 0.5617 - val_acc: 0.8623 - val_f1_m: 0.8619 - val_precision_m: 0.8619 - val_recall_m: 0.8619\n",
      "Epoch 221/300\n",
      "239/239 [==============================] - 4s 17ms/step - loss: 0.1873 - acc: 0.9177 - f1_m: 0.9177 - precision_m: 0.9177 - recall_m: 0.9177 - val_loss: 0.5512 - val_acc: 0.8615 - val_f1_m: 0.8611 - val_precision_m: 0.8611 - val_recall_m: 0.8611\n",
      "Epoch 222/300\n",
      "239/239 [==============================] - 4s 16ms/step - loss: 0.1904 - acc: 0.9156 - f1_m: 0.9156 - precision_m: 0.9156 - recall_m: 0.9156 - val_loss: 0.5473 - val_acc: 0.8607 - val_f1_m: 0.8603 - val_precision_m: 0.8603 - val_recall_m: 0.8603\n",
      "Epoch 223/300\n",
      "239/239 [==============================] - 6s 23ms/step - loss: 0.1871 - acc: 0.9174 - f1_m: 0.9174 - precision_m: 0.9174 - recall_m: 0.9174 - val_loss: 0.5551 - val_acc: 0.8620 - val_f1_m: 0.8616 - val_precision_m: 0.8616 - val_recall_m: 0.8616\n",
      "Epoch 224/300\n",
      "239/239 [==============================] - 5s 22ms/step - loss: 0.1899 - acc: 0.9156 - f1_m: 0.9156 - precision_m: 0.9156 - recall_m: 0.9156 - val_loss: 0.5627 - val_acc: 0.8615 - val_f1_m: 0.8611 - val_precision_m: 0.8611 - val_recall_m: 0.8611\n",
      "Epoch 225/300\n",
      "239/239 [==============================] - 5s 22ms/step - loss: 0.1894 - acc: 0.9159 - f1_m: 0.9159 - precision_m: 0.9159 - recall_m: 0.9159 - val_loss: 0.5479 - val_acc: 0.8615 - val_f1_m: 0.8612 - val_precision_m: 0.8612 - val_recall_m: 0.8612\n",
      "Epoch 226/300\n",
      "239/239 [==============================] - 4s 18ms/step - loss: 0.1860 - acc: 0.9181 - f1_m: 0.9181 - precision_m: 0.9181 - recall_m: 0.9181 - val_loss: 0.5482 - val_acc: 0.8617 - val_f1_m: 0.8614 - val_precision_m: 0.8614 - val_recall_m: 0.8614\n",
      "Epoch 227/300\n",
      "239/239 [==============================] - 4s 16ms/step - loss: 0.1907 - acc: 0.9154 - f1_m: 0.9154 - precision_m: 0.9154 - recall_m: 0.9154 - val_loss: 0.5569 - val_acc: 0.8621 - val_f1_m: 0.8617 - val_precision_m: 0.8617 - val_recall_m: 0.8617\n",
      "Epoch 228/300\n",
      "239/239 [==============================] - 4s 17ms/step - loss: 0.1900 - acc: 0.9148 - f1_m: 0.9148 - precision_m: 0.9148 - recall_m: 0.9148 - val_loss: 0.5574 - val_acc: 0.8619 - val_f1_m: 0.8616 - val_precision_m: 0.8616 - val_recall_m: 0.8616\n",
      "Epoch 229/300\n",
      "239/239 [==============================] - 4s 16ms/step - loss: 0.1863 - acc: 0.9178 - f1_m: 0.9178 - precision_m: 0.9178 - recall_m: 0.9178 - val_loss: 0.5569 - val_acc: 0.8617 - val_f1_m: 0.8615 - val_precision_m: 0.8615 - val_recall_m: 0.8615\n",
      "Epoch 230/300\n",
      "239/239 [==============================] - 4s 18ms/step - loss: 0.1895 - acc: 0.9153 - f1_m: 0.9153 - precision_m: 0.9153 - recall_m: 0.9153 - val_loss: 0.5471 - val_acc: 0.8619 - val_f1_m: 0.8616 - val_precision_m: 0.8616 - val_recall_m: 0.8616\n",
      "Epoch 231/300\n",
      "239/239 [==============================] - 4s 17ms/step - loss: 0.1877 - acc: 0.9165 - f1_m: 0.9165 - precision_m: 0.9165 - recall_m: 0.9165 - val_loss: 0.5580 - val_acc: 0.8616 - val_f1_m: 0.8613 - val_precision_m: 0.8613 - val_recall_m: 0.8613\n",
      "Epoch 232/300\n",
      "239/239 [==============================] - 4s 16ms/step - loss: 0.1889 - acc: 0.9161 - f1_m: 0.9161 - precision_m: 0.9161 - recall_m: 0.9161 - val_loss: 0.5431 - val_acc: 0.8615 - val_f1_m: 0.8612 - val_precision_m: 0.8612 - val_recall_m: 0.8612\n",
      "Epoch 233/300\n",
      "239/239 [==============================] - 4s 17ms/step - loss: 0.1885 - acc: 0.9170 - f1_m: 0.9170 - precision_m: 0.9170 - recall_m: 0.9170 - val_loss: 0.5499 - val_acc: 0.8615 - val_f1_m: 0.8611 - val_precision_m: 0.8611 - val_recall_m: 0.8611\n",
      "Epoch 234/300\n",
      "239/239 [==============================] - 4s 16ms/step - loss: 0.1877 - acc: 0.9163 - f1_m: 0.9163 - precision_m: 0.9163 - recall_m: 0.9163 - val_loss: 0.5706 - val_acc: 0.8613 - val_f1_m: 0.8608 - val_precision_m: 0.8608 - val_recall_m: 0.8608\n",
      "Epoch 235/300\n",
      "239/239 [==============================] - 4s 16ms/step - loss: 0.1873 - acc: 0.9177 - f1_m: 0.9177 - precision_m: 0.9177 - recall_m: 0.9177 - val_loss: 0.5498 - val_acc: 0.8614 - val_f1_m: 0.8611 - val_precision_m: 0.8611 - val_recall_m: 0.8611\n",
      "Epoch 236/300\n",
      "239/239 [==============================] - 4s 17ms/step - loss: 0.1881 - acc: 0.9164 - f1_m: 0.9164 - precision_m: 0.9164 - recall_m: 0.9164 - val_loss: 0.5532 - val_acc: 0.8607 - val_f1_m: 0.8604 - val_precision_m: 0.8604 - val_recall_m: 0.8604\n",
      "Epoch 237/300\n",
      "239/239 [==============================] - 4s 16ms/step - loss: 0.1867 - acc: 0.9168 - f1_m: 0.9168 - precision_m: 0.9168 - recall_m: 0.9168 - val_loss: 0.5505 - val_acc: 0.8615 - val_f1_m: 0.8612 - val_precision_m: 0.8612 - val_recall_m: 0.8612\n",
      "Epoch 238/300\n",
      "239/239 [==============================] - 4s 17ms/step - loss: 0.1879 - acc: 0.9159 - f1_m: 0.9159 - precision_m: 0.9159 - recall_m: 0.9159 - val_loss: 0.5566 - val_acc: 0.8624 - val_f1_m: 0.8620 - val_precision_m: 0.8620 - val_recall_m: 0.8620\n",
      "Epoch 239/300\n",
      "239/239 [==============================] - 4s 17ms/step - loss: 0.1863 - acc: 0.9181 - f1_m: 0.9181 - precision_m: 0.9181 - recall_m: 0.9181 - val_loss: 0.5478 - val_acc: 0.8616 - val_f1_m: 0.8612 - val_precision_m: 0.8612 - val_recall_m: 0.8612\n",
      "Epoch 240/300\n",
      "239/239 [==============================] - 4s 16ms/step - loss: 0.1884 - acc: 0.9156 - f1_m: 0.9156 - precision_m: 0.9156 - recall_m: 0.9156 - val_loss: 0.5693 - val_acc: 0.8632 - val_f1_m: 0.8628 - val_precision_m: 0.8628 - val_recall_m: 0.8628\n",
      "Epoch 241/300\n",
      "239/239 [==============================] - 4s 16ms/step - loss: 0.1877 - acc: 0.9173 - f1_m: 0.9173 - precision_m: 0.9173 - recall_m: 0.9173 - val_loss: 0.5552 - val_acc: 0.8623 - val_f1_m: 0.8619 - val_precision_m: 0.8619 - val_recall_m: 0.8619\n",
      "Epoch 242/300\n",
      "239/239 [==============================] - 4s 17ms/step - loss: 0.1883 - acc: 0.9165 - f1_m: 0.9165 - precision_m: 0.9165 - recall_m: 0.9165 - val_loss: 0.5617 - val_acc: 0.8620 - val_f1_m: 0.8616 - val_precision_m: 0.8616 - val_recall_m: 0.8616\n",
      "Epoch 243/300\n",
      "239/239 [==============================] - 4s 16ms/step - loss: 0.1889 - acc: 0.9155 - f1_m: 0.9155 - precision_m: 0.9155 - recall_m: 0.9155 - val_loss: 0.5664 - val_acc: 0.8624 - val_f1_m: 0.8621 - val_precision_m: 0.8621 - val_recall_m: 0.8621\n",
      "Epoch 244/300\n",
      "239/239 [==============================] - 4s 16ms/step - loss: 0.1895 - acc: 0.9165 - f1_m: 0.9165 - precision_m: 0.9165 - recall_m: 0.9165 - val_loss: 0.5558 - val_acc: 0.8610 - val_f1_m: 0.8607 - val_precision_m: 0.8607 - val_recall_m: 0.8607\n",
      "Epoch 245/300\n",
      "239/239 [==============================] - 4s 17ms/step - loss: 0.1871 - acc: 0.9162 - f1_m: 0.9162 - precision_m: 0.9162 - recall_m: 0.9162 - val_loss: 0.5578 - val_acc: 0.8620 - val_f1_m: 0.8616 - val_precision_m: 0.8616 - val_recall_m: 0.8616\n",
      "Epoch 246/300\n",
      "239/239 [==============================] - 4s 18ms/step - loss: 0.1875 - acc: 0.9174 - f1_m: 0.9174 - precision_m: 0.9174 - recall_m: 0.9174 - val_loss: 0.5653 - val_acc: 0.8612 - val_f1_m: 0.8608 - val_precision_m: 0.8608 - val_recall_m: 0.8608\n",
      "Epoch 247/300\n",
      "239/239 [==============================] - 4s 18ms/step - loss: 0.1888 - acc: 0.9157 - f1_m: 0.9157 - precision_m: 0.9157 - recall_m: 0.9157 - val_loss: 0.5446 - val_acc: 0.8610 - val_f1_m: 0.8606 - val_precision_m: 0.8606 - val_recall_m: 0.8606\n",
      "Epoch 248/300\n",
      "239/239 [==============================] - 4s 16ms/step - loss: 0.1879 - acc: 0.9163 - f1_m: 0.9163 - precision_m: 0.9163 - recall_m: 0.9163 - val_loss: 0.5532 - val_acc: 0.8616 - val_f1_m: 0.8612 - val_precision_m: 0.8612 - val_recall_m: 0.8612\n",
      "Epoch 249/300\n",
      "239/239 [==============================] - 4s 16ms/step - loss: 0.1867 - acc: 0.9170 - f1_m: 0.9170 - precision_m: 0.9170 - recall_m: 0.9170 - val_loss: 0.5578 - val_acc: 0.8614 - val_f1_m: 0.8610 - val_precision_m: 0.8610 - val_recall_m: 0.8610\n",
      "Epoch 250/300\n",
      "239/239 [==============================] - 4s 16ms/step - loss: 0.1861 - acc: 0.9173 - f1_m: 0.9173 - precision_m: 0.9173 - recall_m: 0.9173 - val_loss: 0.5690 - val_acc: 0.8609 - val_f1_m: 0.8605 - val_precision_m: 0.8605 - val_recall_m: 0.8605\n",
      "Epoch 251/300\n",
      "239/239 [==============================] - 4s 15ms/step - loss: 0.1893 - acc: 0.9157 - f1_m: 0.9157 - precision_m: 0.9157 - recall_m: 0.9157 - val_loss: 0.5547 - val_acc: 0.8622 - val_f1_m: 0.8617 - val_precision_m: 0.8617 - val_recall_m: 0.8617\n",
      "Epoch 252/300\n",
      "239/239 [==============================] - 4s 15ms/step - loss: 0.1875 - acc: 0.9161 - f1_m: 0.9161 - precision_m: 0.9161 - recall_m: 0.9161 - val_loss: 0.5727 - val_acc: 0.8617 - val_f1_m: 0.8613 - val_precision_m: 0.8613 - val_recall_m: 0.8613\n",
      "Epoch 253/300\n",
      "239/239 [==============================] - 4s 17ms/step - loss: 0.1884 - acc: 0.9169 - f1_m: 0.9169 - precision_m: 0.9169 - recall_m: 0.9169 - val_loss: 0.5683 - val_acc: 0.8614 - val_f1_m: 0.8611 - val_precision_m: 0.8611 - val_recall_m: 0.8611\n",
      "Epoch 254/300\n",
      "239/239 [==============================] - 4s 18ms/step - loss: 0.1866 - acc: 0.9177 - f1_m: 0.9177 - precision_m: 0.9177 - recall_m: 0.9177 - val_loss: 0.5555 - val_acc: 0.8619 - val_f1_m: 0.8615 - val_precision_m: 0.8615 - val_recall_m: 0.8615\n",
      "Epoch 255/300\n",
      "239/239 [==============================] - 4s 16ms/step - loss: 0.1877 - acc: 0.9171 - f1_m: 0.9171 - precision_m: 0.9171 - recall_m: 0.9171 - val_loss: 0.5716 - val_acc: 0.8606 - val_f1_m: 0.8602 - val_precision_m: 0.8602 - val_recall_m: 0.8602\n",
      "Epoch 256/300\n",
      "239/239 [==============================] - 5s 19ms/step - loss: 0.1852 - acc: 0.9183 - f1_m: 0.9183 - precision_m: 0.9183 - recall_m: 0.9183 - val_loss: 0.5639 - val_acc: 0.8624 - val_f1_m: 0.8621 - val_precision_m: 0.8621 - val_recall_m: 0.8621\n",
      "Epoch 257/300\n",
      "239/239 [==============================] - 5s 20ms/step - loss: 0.1876 - acc: 0.9170 - f1_m: 0.9170 - precision_m: 0.9170 - recall_m: 0.9170 - val_loss: 0.5602 - val_acc: 0.8623 - val_f1_m: 0.8620 - val_precision_m: 0.8620 - val_recall_m: 0.8620\n",
      "Epoch 258/300\n",
      "239/239 [==============================] - 5s 22ms/step - loss: 0.1857 - acc: 0.9184 - f1_m: 0.9184 - precision_m: 0.9184 - recall_m: 0.9184 - val_loss: 0.5781 - val_acc: 0.8615 - val_f1_m: 0.8612 - val_precision_m: 0.8612 - val_recall_m: 0.8612\n",
      "Epoch 259/300\n",
      "239/239 [==============================] - 5s 21ms/step - loss: 0.1877 - acc: 0.9163 - f1_m: 0.9163 - precision_m: 0.9163 - recall_m: 0.9163 - val_loss: 0.5614 - val_acc: 0.8609 - val_f1_m: 0.8605 - val_precision_m: 0.8605 - val_recall_m: 0.8605\n",
      "Epoch 260/300\n",
      "239/239 [==============================] - 4s 17ms/step - loss: 0.1883 - acc: 0.9168 - f1_m: 0.9168 - precision_m: 0.9168 - recall_m: 0.9168 - val_loss: 0.5559 - val_acc: 0.8618 - val_f1_m: 0.8614 - val_precision_m: 0.8614 - val_recall_m: 0.8614\n",
      "Epoch 261/300\n",
      "239/239 [==============================] - 4s 18ms/step - loss: 0.1888 - acc: 0.9154 - f1_m: 0.9154 - precision_m: 0.9154 - recall_m: 0.9154 - val_loss: 0.5583 - val_acc: 0.8621 - val_f1_m: 0.8617 - val_precision_m: 0.8617 - val_recall_m: 0.8617\n",
      "Epoch 262/300\n",
      "239/239 [==============================] - 4s 16ms/step - loss: 0.1859 - acc: 0.9174 - f1_m: 0.9174 - precision_m: 0.9174 - recall_m: 0.9174 - val_loss: 0.5536 - val_acc: 0.8623 - val_f1_m: 0.8618 - val_precision_m: 0.8618 - val_recall_m: 0.8618\n",
      "Epoch 263/300\n",
      "239/239 [==============================] - 4s 17ms/step - loss: 0.1875 - acc: 0.9175 - f1_m: 0.9175 - precision_m: 0.9175 - recall_m: 0.9175 - val_loss: 0.5677 - val_acc: 0.8622 - val_f1_m: 0.8618 - val_precision_m: 0.8618 - val_recall_m: 0.8618\n",
      "Epoch 264/300\n",
      "239/239 [==============================] - 4s 16ms/step - loss: 0.1874 - acc: 0.9170 - f1_m: 0.9170 - precision_m: 0.9170 - recall_m: 0.9170 - val_loss: 0.5748 - val_acc: 0.8617 - val_f1_m: 0.8613 - val_precision_m: 0.8613 - val_recall_m: 0.8613\n",
      "Epoch 265/300\n",
      "239/239 [==============================] - 4s 16ms/step - loss: 0.1859 - acc: 0.9180 - f1_m: 0.9180 - precision_m: 0.9180 - recall_m: 0.9180 - val_loss: 0.5672 - val_acc: 0.8624 - val_f1_m: 0.8620 - val_precision_m: 0.8620 - val_recall_m: 0.8620\n",
      "Epoch 266/300\n",
      "239/239 [==============================] - 4s 16ms/step - loss: 0.1893 - acc: 0.9161 - f1_m: 0.9161 - precision_m: 0.9161 - recall_m: 0.9161 - val_loss: 0.5704 - val_acc: 0.8618 - val_f1_m: 0.8615 - val_precision_m: 0.8615 - val_recall_m: 0.8615\n",
      "Epoch 267/300\n",
      "239/239 [==============================] - 4s 15ms/step - loss: 0.1880 - acc: 0.9164 - f1_m: 0.9164 - precision_m: 0.9164 - recall_m: 0.9164 - val_loss: 0.5752 - val_acc: 0.8628 - val_f1_m: 0.8624 - val_precision_m: 0.8624 - val_recall_m: 0.8624\n",
      "Epoch 268/300\n",
      "239/239 [==============================] - 4s 16ms/step - loss: 0.1875 - acc: 0.9171 - f1_m: 0.9171 - precision_m: 0.9171 - recall_m: 0.9171 - val_loss: 0.5697 - val_acc: 0.8622 - val_f1_m: 0.8618 - val_precision_m: 0.8618 - val_recall_m: 0.8618\n",
      "Epoch 269/300\n",
      "239/239 [==============================] - 4s 17ms/step - loss: 0.1881 - acc: 0.9173 - f1_m: 0.9173 - precision_m: 0.9173 - recall_m: 0.9173 - val_loss: 0.5689 - val_acc: 0.8616 - val_f1_m: 0.8613 - val_precision_m: 0.8613 - val_recall_m: 0.8613\n",
      "Epoch 270/300\n",
      "239/239 [==============================] - 4s 19ms/step - loss: 0.1846 - acc: 0.9192 - f1_m: 0.9192 - precision_m: 0.9192 - recall_m: 0.9192 - val_loss: 0.5729 - val_acc: 0.8626 - val_f1_m: 0.8622 - val_precision_m: 0.8622 - val_recall_m: 0.8622\n",
      "Epoch 271/300\n",
      "239/239 [==============================] - 4s 16ms/step - loss: 0.1872 - acc: 0.9167 - f1_m: 0.9167 - precision_m: 0.9167 - recall_m: 0.9167 - val_loss: 0.5828 - val_acc: 0.8621 - val_f1_m: 0.8618 - val_precision_m: 0.8618 - val_recall_m: 0.8618\n",
      "Epoch 272/300\n",
      "239/239 [==============================] - 4s 17ms/step - loss: 0.1881 - acc: 0.9162 - f1_m: 0.9162 - precision_m: 0.9162 - recall_m: 0.9162 - val_loss: 0.5763 - val_acc: 0.8618 - val_f1_m: 0.8614 - val_precision_m: 0.8614 - val_recall_m: 0.8614\n",
      "Epoch 273/300\n",
      "239/239 [==============================] - 4s 16ms/step - loss: 0.1857 - acc: 0.9177 - f1_m: 0.9177 - precision_m: 0.9177 - recall_m: 0.9177 - val_loss: 0.5703 - val_acc: 0.8613 - val_f1_m: 0.8609 - val_precision_m: 0.8609 - val_recall_m: 0.8609\n",
      "Epoch 274/300\n",
      "239/239 [==============================] - 4s 16ms/step - loss: 0.1857 - acc: 0.9180 - f1_m: 0.9180 - precision_m: 0.9180 - recall_m: 0.9180 - val_loss: 0.5786 - val_acc: 0.8613 - val_f1_m: 0.8609 - val_precision_m: 0.8609 - val_recall_m: 0.8609\n",
      "Epoch 275/300\n",
      "239/239 [==============================] - 4s 16ms/step - loss: 0.1846 - acc: 0.9180 - f1_m: 0.9180 - precision_m: 0.9180 - recall_m: 0.9180 - val_loss: 0.5689 - val_acc: 0.8607 - val_f1_m: 0.8605 - val_precision_m: 0.8605 - val_recall_m: 0.8605\n",
      "Epoch 276/300\n",
      "239/239 [==============================] - 4s 15ms/step - loss: 0.1867 - acc: 0.9172 - f1_m: 0.9172 - precision_m: 0.9172 - recall_m: 0.9172 - val_loss: 0.5873 - val_acc: 0.8613 - val_f1_m: 0.8609 - val_precision_m: 0.8609 - val_recall_m: 0.8609\n",
      "Epoch 277/300\n",
      "239/239 [==============================] - 4s 16ms/step - loss: 0.1880 - acc: 0.9164 - f1_m: 0.9164 - precision_m: 0.9164 - recall_m: 0.9164 - val_loss: 0.5736 - val_acc: 0.8611 - val_f1_m: 0.8608 - val_precision_m: 0.8608 - val_recall_m: 0.8608\n",
      "Epoch 278/300\n",
      "239/239 [==============================] - 4s 17ms/step - loss: 0.1862 - acc: 0.9167 - f1_m: 0.9167 - precision_m: 0.9167 - recall_m: 0.9167 - val_loss: 0.5661 - val_acc: 0.8612 - val_f1_m: 0.8610 - val_precision_m: 0.8610 - val_recall_m: 0.8610\n",
      "Epoch 279/300\n",
      "239/239 [==============================] - 4s 16ms/step - loss: 0.1851 - acc: 0.9175 - f1_m: 0.9175 - precision_m: 0.9175 - recall_m: 0.9175 - val_loss: 0.5697 - val_acc: 0.8614 - val_f1_m: 0.8611 - val_precision_m: 0.8611 - val_recall_m: 0.8611\n",
      "Epoch 280/300\n",
      "239/239 [==============================] - 4s 17ms/step - loss: 0.1840 - acc: 0.9195 - f1_m: 0.9195 - precision_m: 0.9195 - recall_m: 0.9195 - val_loss: 0.5767 - val_acc: 0.8622 - val_f1_m: 0.8619 - val_precision_m: 0.8619 - val_recall_m: 0.8619\n",
      "Epoch 281/300\n",
      "239/239 [==============================] - 4s 15ms/step - loss: 0.1871 - acc: 0.9170 - f1_m: 0.9170 - precision_m: 0.9170 - recall_m: 0.9170 - val_loss: 0.5717 - val_acc: 0.8613 - val_f1_m: 0.8610 - val_precision_m: 0.8610 - val_recall_m: 0.8610\n",
      "Epoch 282/300\n",
      "239/239 [==============================] - 4s 16ms/step - loss: 0.1881 - acc: 0.9165 - f1_m: 0.9165 - precision_m: 0.9165 - recall_m: 0.9165 - val_loss: 0.5844 - val_acc: 0.8616 - val_f1_m: 0.8613 - val_precision_m: 0.8613 - val_recall_m: 0.8613\n",
      "Epoch 283/300\n",
      "239/239 [==============================] - 4s 17ms/step - loss: 0.1871 - acc: 0.9175 - f1_m: 0.9175 - precision_m: 0.9175 - recall_m: 0.9175 - val_loss: 0.5854 - val_acc: 0.8613 - val_f1_m: 0.8610 - val_precision_m: 0.8610 - val_recall_m: 0.8610\n",
      "Epoch 284/300\n",
      "239/239 [==============================] - 4s 15ms/step - loss: 0.1867 - acc: 0.9175 - f1_m: 0.9175 - precision_m: 0.9175 - recall_m: 0.9175 - val_loss: 0.5659 - val_acc: 0.8615 - val_f1_m: 0.8612 - val_precision_m: 0.8612 - val_recall_m: 0.8612\n",
      "Epoch 285/300\n",
      "239/239 [==============================] - 4s 16ms/step - loss: 0.1838 - acc: 0.9194 - f1_m: 0.9194 - precision_m: 0.9194 - recall_m: 0.9194 - val_loss: 0.5747 - val_acc: 0.8618 - val_f1_m: 0.8615 - val_precision_m: 0.8615 - val_recall_m: 0.8615\n",
      "Epoch 286/300\n",
      "239/239 [==============================] - 5s 20ms/step - loss: 0.1881 - acc: 0.9160 - f1_m: 0.9160 - precision_m: 0.9160 - recall_m: 0.9160 - val_loss: 0.5768 - val_acc: 0.8612 - val_f1_m: 0.8609 - val_precision_m: 0.8609 - val_recall_m: 0.8609\n",
      "Epoch 287/300\n",
      "239/239 [==============================] - 4s 17ms/step - loss: 0.1867 - acc: 0.9175 - f1_m: 0.9175 - precision_m: 0.9175 - recall_m: 0.9175 - val_loss: 0.5729 - val_acc: 0.8624 - val_f1_m: 0.8620 - val_precision_m: 0.8620 - val_recall_m: 0.8620\n",
      "Epoch 288/300\n",
      "239/239 [==============================] - 4s 17ms/step - loss: 0.1846 - acc: 0.9184 - f1_m: 0.9184 - precision_m: 0.9184 - recall_m: 0.9184 - val_loss: 0.5812 - val_acc: 0.8624 - val_f1_m: 0.8621 - val_precision_m: 0.8621 - val_recall_m: 0.8621\n",
      "Epoch 289/300\n",
      "239/239 [==============================] - 4s 16ms/step - loss: 0.1867 - acc: 0.9178 - f1_m: 0.9178 - precision_m: 0.9178 - recall_m: 0.9178 - val_loss: 0.5635 - val_acc: 0.8625 - val_f1_m: 0.8622 - val_precision_m: 0.8622 - val_recall_m: 0.8622\n",
      "Epoch 290/300\n",
      "239/239 [==============================] - 4s 19ms/step - loss: 0.1832 - acc: 0.9198 - f1_m: 0.9198 - precision_m: 0.9198 - recall_m: 0.9198 - val_loss: 0.5878 - val_acc: 0.8621 - val_f1_m: 0.8618 - val_precision_m: 0.8618 - val_recall_m: 0.8618\n",
      "Epoch 291/300\n",
      "239/239 [==============================] - 5s 22ms/step - loss: 0.1856 - acc: 0.9188 - f1_m: 0.9188 - precision_m: 0.9188 - recall_m: 0.9188 - val_loss: 0.5845 - val_acc: 0.8621 - val_f1_m: 0.8618 - val_precision_m: 0.8618 - val_recall_m: 0.8618\n",
      "Epoch 292/300\n",
      "239/239 [==============================] - 5s 21ms/step - loss: 0.1846 - acc: 0.9177 - f1_m: 0.9177 - precision_m: 0.9177 - recall_m: 0.9177 - val_loss: 0.5803 - val_acc: 0.8622 - val_f1_m: 0.8619 - val_precision_m: 0.8619 - val_recall_m: 0.8619\n",
      "Epoch 293/300\n",
      "239/239 [==============================] - 6s 25ms/step - loss: 0.1866 - acc: 0.9175 - f1_m: 0.9175 - precision_m: 0.9175 - recall_m: 0.9175 - val_loss: 0.5799 - val_acc: 0.8625 - val_f1_m: 0.8622 - val_precision_m: 0.8622 - val_recall_m: 0.8622\n",
      "Epoch 294/300\n",
      "239/239 [==============================] - 4s 17ms/step - loss: 0.1860 - acc: 0.9179 - f1_m: 0.9179 - precision_m: 0.9179 - recall_m: 0.9179 - val_loss: 0.5665 - val_acc: 0.8628 - val_f1_m: 0.8625 - val_precision_m: 0.8625 - val_recall_m: 0.8625\n",
      "Epoch 295/300\n",
      "239/239 [==============================] - 4s 16ms/step - loss: 0.1843 - acc: 0.9183 - f1_m: 0.9183 - precision_m: 0.9183 - recall_m: 0.9183 - val_loss: 0.5793 - val_acc: 0.8624 - val_f1_m: 0.8620 - val_precision_m: 0.8620 - val_recall_m: 0.8620\n",
      "Epoch 296/300\n",
      "239/239 [==============================] - 4s 17ms/step - loss: 0.1835 - acc: 0.9188 - f1_m: 0.9188 - precision_m: 0.9188 - recall_m: 0.9188 - val_loss: 0.5835 - val_acc: 0.8608 - val_f1_m: 0.8604 - val_precision_m: 0.8604 - val_recall_m: 0.8604\n",
      "Epoch 297/300\n",
      "239/239 [==============================] - 4s 16ms/step - loss: 0.1857 - acc: 0.9180 - f1_m: 0.9180 - precision_m: 0.9180 - recall_m: 0.9180 - val_loss: 0.5801 - val_acc: 0.8610 - val_f1_m: 0.8607 - val_precision_m: 0.8607 - val_recall_m: 0.8607\n",
      "Epoch 298/300\n",
      "239/239 [==============================] - 4s 16ms/step - loss: 0.1862 - acc: 0.9175 - f1_m: 0.9175 - precision_m: 0.9175 - recall_m: 0.9175 - val_loss: 0.5835 - val_acc: 0.8617 - val_f1_m: 0.8612 - val_precision_m: 0.8612 - val_recall_m: 0.8612\n",
      "Epoch 299/300\n",
      "239/239 [==============================] - 4s 16ms/step - loss: 0.1848 - acc: 0.9179 - f1_m: 0.9179 - precision_m: 0.9179 - recall_m: 0.9179 - val_loss: 0.5834 - val_acc: 0.8610 - val_f1_m: 0.8607 - val_precision_m: 0.8607 - val_recall_m: 0.8607\n",
      "Epoch 300/300\n",
      "239/239 [==============================] - 4s 16ms/step - loss: 0.1868 - acc: 0.9179 - f1_m: 0.9179 - precision_m: 0.9179 - recall_m: 0.9179 - val_loss: 0.5791 - val_acc: 0.8614 - val_f1_m: 0.8610 - val_precision_m: 0.8610 - val_recall_m: 0.8610\n"
     ]
    }
   ],
   "source": [
    "history = model.fit(X_train, y_train, epochs=epochs, batch_size=batch_size,validation_split=0.3,callbacks=[custom_early_stopping])"
   ]
  },
  {
   "cell_type": "code",
   "execution_count": 101,
   "metadata": {
    "execution": {
     "iopub.execute_input": "2021-03-05T00:35:14.609794Z",
     "iopub.status.busy": "2021-03-05T00:35:14.608820Z",
     "iopub.status.idle": "2021-03-05T00:35:15.223902Z",
     "shell.execute_reply": "2021-03-05T00:35:15.224490Z"
    },
    "papermill": {
     "duration": 10.555343,
     "end_time": "2021-03-05T00:35:15.224674",
     "exception": false,
     "start_time": "2021-03-05T00:35:04.669331",
     "status": "completed"
    },
    "tags": []
   },
   "outputs": [
    {
     "name": "stdout",
     "output_type": "stream",
     "text": [
      "147/147 [==============================] - 1s 4ms/step - loss: 0.5737 - acc: 0.8620 - f1_m: 0.8621 - precision_m: 0.8621 - recall_m: 0.8621\n",
      "Test loss: 0.5736707448959351\n",
      "Test accuracy: 0.86202472448349\n"
     ]
    }
   ],
   "source": [
    "score= model.evaluate(X_test, y_test, batch_size=batch_size, verbose=1)\n",
    "print('Test loss:', score[0])\n",
    "print('Test accuracy:', score[1])"
   ]
  },
  {
   "cell_type": "markdown",
   "metadata": {
    "papermill": {
     "duration": 10.716573,
     "end_time": "2021-03-05T00:35:35.923771",
     "exception": false,
     "start_time": "2021-03-05T00:35:25.207198",
     "status": "completed"
    },
    "tags": []
   },
   "source": [
    "# D.1) Compara el benchmark con las redes neuronales."
   ]
  },
  {
   "cell_type": "markdown",
   "metadata": {
    "papermill": {
     "duration": 9.928675,
     "end_time": "2021-03-05T00:35:56.165001",
     "exception": false,
     "start_time": "2021-03-05T00:35:46.236326",
     "status": "completed"
    },
    "tags": []
   },
   "source": [
    "### Resultados Obtenidos:\n",
    "       \n",
    "       •LinearSVC:\n",
    "           Accuracy en train:0.6196\n",
    "           Accuracy en Test:0.7875\n",
    "           F1 score: 0.79\n",
    "           \n",
    "       •Red neuronal simple:\n",
    "           Accuracy en train: 0.9096\n",
    "           Accuracy en test:0.8743\n",
    "           F1 score:0.8743\n",
    "           \n",
    "       •Convolucional:\n",
    "           Accuracy en train:0.9188\n",
    "           Accuracy en test:0.8603\n",
    "           F1 score:0.8604\n",
    "           "
   ]
  },
  {
   "cell_type": "markdown",
   "metadata": {
    "papermill": {
     "duration": 10.238817,
     "end_time": "2021-03-05T00:36:16.951831",
     "exception": false,
     "start_time": "2021-03-05T00:36:06.713014",
     "status": "completed"
    },
    "tags": []
   },
   "source": [
    "#### Al momento de comparar los modelos vemos una mejora significativa al momento de utilizar redes neuronales, pasando de un acc de 0.79 en LinearSVC a un acc de 0.87 con una red neuronal personalizada. Sin duda podemos ver el gran poder que tiene el deep learning en esta area, donde ha demostrado una gran ventaja en este caso en concreto.\n",
    "\n",
    "#### Personalmente esto era algo de esperarse, a pesar de no tener grandes conocimientos en Deep Learning y no poder garantizar el mejor modelo para este caso. Si puedo señalar que el modelo hecho personalmente ha superado a un LinearSVC, algo que considero un pequeño logro.\n",
    "\n",
    "#### El unico punto que puedo destacar como positivo para el LinearSVC, es que el mismo no cae en overfitting, los resultados logrados en este sentido son excelentes, y si consideramos la simplicididad de su utilizacion, deberia ser el primer paso para cualquiera que intente realizar este desafio. Por otro lado al ver los resultados de las redes neuronales, podemos ver un pequeño overfitting en los resultados, problema que puede ser tratado con un aumento de dropouts o noise. Pero al momento de intentar reducirlo he de destacar que no lo he logrado, esto puede deberse a mi desconocimiento en la arquitectura de redes o a los datos mismos."
   ]
  },
  {
   "cell_type": "code",
   "execution_count": null,
   "metadata": {
    "papermill": {
     "duration": 10.901019,
     "end_time": "2021-03-05T00:36:38.359389",
     "exception": false,
     "start_time": "2021-03-05T00:36:27.458370",
     "status": "completed"
    },
    "tags": []
   },
   "outputs": [],
   "source": []
  }
 ],
 "metadata": {
  "kernelspec": {
   "display_name": "Python 3",
   "language": "python",
   "name": "python3"
  },
  "language_info": {
   "codemirror_mode": {
    "name": "ipython",
    "version": 3
   },
   "file_extension": ".py",
   "mimetype": "text/x-python",
   "name": "python",
   "nbconvert_exporter": "python",
   "pygments_lexer": "ipython3",
   "version": "3.7.9"
  },
  "papermill": {
   "default_parameters": {},
   "duration": 6428.071128,
   "end_time": "2021-03-05T00:36:52.707581",
   "environment_variables": {},
   "exception": null,
   "input_path": "__notebook__.ipynb",
   "output_path": "__notebook__.ipynb",
   "parameters": {},
   "start_time": "2021-03-04T22:49:44.636453",
   "version": "2.2.2"
  },
  "widgets": {
   "application/vnd.jupyter.widget-state+json": {
    "state": {
     "00ced4619e4e4522a1f5edaa255d5edd": {
      "model_module": "@jupyter-widgets/controls",
      "model_module_version": "1.5.0",
      "model_name": "HTMLModel",
      "state": {
       "_dom_classes": [],
       "_model_module": "@jupyter-widgets/controls",
       "_model_module_version": "1.5.0",
       "_model_name": "HTMLModel",
       "_view_count": null,
       "_view_module": "@jupyter-widgets/controls",
       "_view_module_version": "1.5.0",
       "_view_name": "HTMLView",
       "description": "",
       "description_tooltip": null,
       "layout": "IPY_MODEL_3a97f68e502f40aeb99fe46377ceab53",
       "placeholder": "​",
       "style": "IPY_MODEL_5459d12cb986497491025c58a670b289",
       "value": " 15/15 [00:09&lt;00:00,  1.64it/s, Completed]"
      }
     },
     "0a1c9b90e8f0487db6f70d2bf5af65ce": {
      "model_module": "@jupyter-widgets/controls",
      "model_module_version": "1.5.0",
      "model_name": "ProgressStyleModel",
      "state": {
       "_model_module": "@jupyter-widgets/controls",
       "_model_module_version": "1.5.0",
       "_model_name": "ProgressStyleModel",
       "_view_count": null,
       "_view_module": "@jupyter-widgets/base",
       "_view_module_version": "1.2.0",
       "_view_name": "StyleView",
       "bar_color": null,
       "description_width": ""
      }
     },
     "0b1566dfc45d427982a694a215275840": {
      "model_module": "@jupyter-widgets/controls",
      "model_module_version": "1.5.0",
      "model_name": "HBoxModel",
      "state": {
       "_dom_classes": [],
       "_model_module": "@jupyter-widgets/controls",
       "_model_module_version": "1.5.0",
       "_model_name": "HBoxModel",
       "_view_count": null,
       "_view_module": "@jupyter-widgets/controls",
       "_view_module_version": "1.5.0",
       "_view_name": "HBoxView",
       "box_style": "",
       "children": [
        "IPY_MODEL_47922fbaaa264173833f336b49e164cb",
        "IPY_MODEL_3d38494792234973bb65ca83562c1bc8",
        "IPY_MODEL_fc95f3e88bf94a14913dc0a4a46f2b0e"
       ],
       "layout": "IPY_MODEL_c7c347d573384c36b2b920878ad80562"
      }
     },
     "0b5158842de24493a3a9f077d6574d41": {
      "model_module": "@jupyter-widgets/controls",
      "model_module_version": "1.5.0",
      "model_name": "HTMLModel",
      "state": {
       "_dom_classes": [],
       "_model_module": "@jupyter-widgets/controls",
       "_model_module_version": "1.5.0",
       "_model_name": "HTMLModel",
       "_view_count": null,
       "_view_module": "@jupyter-widgets/controls",
       "_view_module_version": "1.5.0",
       "_view_name": "HTMLView",
       "description": "",
       "description_tooltip": null,
       "layout": "IPY_MODEL_22f5d88e2daf4b7bb656989eccacc7cc",
       "placeholder": "​",
       "style": "IPY_MODEL_4b98c946a1874b9099a865412da3a456",
       "value": "Generate report structure: 100%"
      }
     },
     "1242d4ce675d40a58de437844e02c6c7": {
      "model_module": "@jupyter-widgets/controls",
      "model_module_version": "1.5.0",
      "model_name": "DescriptionStyleModel",
      "state": {
       "_model_module": "@jupyter-widgets/controls",
       "_model_module_version": "1.5.0",
       "_model_name": "DescriptionStyleModel",
       "_view_count": null,
       "_view_module": "@jupyter-widgets/base",
       "_view_module_version": "1.2.0",
       "_view_name": "StyleView",
       "description_width": ""
      }
     },
     "19b03549a68f4299844043abb0bb5ccf": {
      "model_module": "@jupyter-widgets/base",
      "model_module_version": "1.2.0",
      "model_name": "LayoutModel",
      "state": {
       "_model_module": "@jupyter-widgets/base",
       "_model_module_version": "1.2.0",
       "_model_name": "LayoutModel",
       "_view_count": null,
       "_view_module": "@jupyter-widgets/base",
       "_view_module_version": "1.2.0",
       "_view_name": "LayoutView",
       "align_content": null,
       "align_items": null,
       "align_self": null,
       "border": null,
       "bottom": null,
       "display": null,
       "flex": null,
       "flex_flow": null,
       "grid_area": null,
       "grid_auto_columns": null,
       "grid_auto_flow": null,
       "grid_auto_rows": null,
       "grid_column": null,
       "grid_gap": null,
       "grid_row": null,
       "grid_template_areas": null,
       "grid_template_columns": null,
       "grid_template_rows": null,
       "height": null,
       "justify_content": null,
       "justify_items": null,
       "left": null,
       "margin": null,
       "max_height": null,
       "max_width": null,
       "min_height": null,
       "min_width": null,
       "object_fit": null,
       "object_position": null,
       "order": null,
       "overflow": null,
       "overflow_x": null,
       "overflow_y": null,
       "padding": null,
       "right": null,
       "top": null,
       "visibility": null,
       "width": null
      }
     },
     "22f5d88e2daf4b7bb656989eccacc7cc": {
      "model_module": "@jupyter-widgets/base",
      "model_module_version": "1.2.0",
      "model_name": "LayoutModel",
      "state": {
       "_model_module": "@jupyter-widgets/base",
       "_model_module_version": "1.2.0",
       "_model_name": "LayoutModel",
       "_view_count": null,
       "_view_module": "@jupyter-widgets/base",
       "_view_module_version": "1.2.0",
       "_view_name": "LayoutView",
       "align_content": null,
       "align_items": null,
       "align_self": null,
       "border": null,
       "bottom": null,
       "display": null,
       "flex": null,
       "flex_flow": null,
       "grid_area": null,
       "grid_auto_columns": null,
       "grid_auto_flow": null,
       "grid_auto_rows": null,
       "grid_column": null,
       "grid_gap": null,
       "grid_row": null,
       "grid_template_areas": null,
       "grid_template_columns": null,
       "grid_template_rows": null,
       "height": null,
       "justify_content": null,
       "justify_items": null,
       "left": null,
       "margin": null,
       "max_height": null,
       "max_width": null,
       "min_height": null,
       "min_width": null,
       "object_fit": null,
       "object_position": null,
       "order": null,
       "overflow": null,
       "overflow_x": null,
       "overflow_y": null,
       "padding": null,
       "right": null,
       "top": null,
       "visibility": null,
       "width": null
      }
     },
     "2699f1e700b9496d9737f68d2d8d197d": {
      "model_module": "@jupyter-widgets/base",
      "model_module_version": "1.2.0",
      "model_name": "LayoutModel",
      "state": {
       "_model_module": "@jupyter-widgets/base",
       "_model_module_version": "1.2.0",
       "_model_name": "LayoutModel",
       "_view_count": null,
       "_view_module": "@jupyter-widgets/base",
       "_view_module_version": "1.2.0",
       "_view_name": "LayoutView",
       "align_content": null,
       "align_items": null,
       "align_self": null,
       "border": null,
       "bottom": null,
       "display": null,
       "flex": null,
       "flex_flow": null,
       "grid_area": null,
       "grid_auto_columns": null,
       "grid_auto_flow": null,
       "grid_auto_rows": null,
       "grid_column": null,
       "grid_gap": null,
       "grid_row": null,
       "grid_template_areas": null,
       "grid_template_columns": null,
       "grid_template_rows": null,
       "height": null,
       "justify_content": null,
       "justify_items": null,
       "left": null,
       "margin": null,
       "max_height": null,
       "max_width": null,
       "min_height": null,
       "min_width": null,
       "object_fit": null,
       "object_position": null,
       "order": null,
       "overflow": null,
       "overflow_x": null,
       "overflow_y": null,
       "padding": null,
       "right": null,
       "top": null,
       "visibility": null,
       "width": null
      }
     },
     "2905fdb66fb54b8ba3873cb0ba62b4d0": {
      "model_module": "@jupyter-widgets/controls",
      "model_module_version": "1.5.0",
      "model_name": "HBoxModel",
      "state": {
       "_dom_classes": [],
       "_model_module": "@jupyter-widgets/controls",
       "_model_module_version": "1.5.0",
       "_model_name": "HBoxModel",
       "_view_count": null,
       "_view_module": "@jupyter-widgets/controls",
       "_view_module_version": "1.5.0",
       "_view_name": "HBoxView",
       "box_style": "",
       "children": [
        "IPY_MODEL_475323a304e74d97800bfa0e7b678645",
        "IPY_MODEL_356cf4533dfe4353a4ad46baf4d4c8bc",
        "IPY_MODEL_00ced4619e4e4522a1f5edaa255d5edd"
       ],
       "layout": "IPY_MODEL_19b03549a68f4299844043abb0bb5ccf"
      }
     },
     "356cf4533dfe4353a4ad46baf4d4c8bc": {
      "model_module": "@jupyter-widgets/controls",
      "model_module_version": "1.5.0",
      "model_name": "FloatProgressModel",
      "state": {
       "_dom_classes": [],
       "_model_module": "@jupyter-widgets/controls",
       "_model_module_version": "1.5.0",
       "_model_name": "FloatProgressModel",
       "_view_count": null,
       "_view_module": "@jupyter-widgets/controls",
       "_view_module_version": "1.5.0",
       "_view_name": "ProgressView",
       "bar_style": "success",
       "description": "",
       "description_tooltip": null,
       "layout": "IPY_MODEL_a4538ccc99fc434f8accca582f7956b4",
       "max": 15,
       "min": 0,
       "orientation": "horizontal",
       "style": "IPY_MODEL_d01a1955cce94f2eaf5387cea57a3767",
       "value": 15
      }
     },
     "3a97f68e502f40aeb99fe46377ceab53": {
      "model_module": "@jupyter-widgets/base",
      "model_module_version": "1.2.0",
      "model_name": "LayoutModel",
      "state": {
       "_model_module": "@jupyter-widgets/base",
       "_model_module_version": "1.2.0",
       "_model_name": "LayoutModel",
       "_view_count": null,
       "_view_module": "@jupyter-widgets/base",
       "_view_module_version": "1.2.0",
       "_view_name": "LayoutView",
       "align_content": null,
       "align_items": null,
       "align_self": null,
       "border": null,
       "bottom": null,
       "display": null,
       "flex": null,
       "flex_flow": null,
       "grid_area": null,
       "grid_auto_columns": null,
       "grid_auto_flow": null,
       "grid_auto_rows": null,
       "grid_column": null,
       "grid_gap": null,
       "grid_row": null,
       "grid_template_areas": null,
       "grid_template_columns": null,
       "grid_template_rows": null,
       "height": null,
       "justify_content": null,
       "justify_items": null,
       "left": null,
       "margin": null,
       "max_height": null,
       "max_width": null,
       "min_height": null,
       "min_width": null,
       "object_fit": null,
       "object_position": null,
       "order": null,
       "overflow": null,
       "overflow_x": null,
       "overflow_y": null,
       "padding": null,
       "right": null,
       "top": null,
       "visibility": null,
       "width": null
      }
     },
     "3d38494792234973bb65ca83562c1bc8": {
      "model_module": "@jupyter-widgets/controls",
      "model_module_version": "1.5.0",
      "model_name": "FloatProgressModel",
      "state": {
       "_dom_classes": [],
       "_model_module": "@jupyter-widgets/controls",
       "_model_module_version": "1.5.0",
       "_model_name": "FloatProgressModel",
       "_view_count": null,
       "_view_module": "@jupyter-widgets/controls",
       "_view_module_version": "1.5.0",
       "_view_name": "ProgressView",
       "bar_style": "success",
       "description": "",
       "description_tooltip": null,
       "layout": "IPY_MODEL_4938a7437854420fa077f9b94260b0c6",
       "max": 1,
       "min": 0,
       "orientation": "horizontal",
       "style": "IPY_MODEL_bc7eaaae1b5b4aa98760f9c69c7ba655",
       "value": 1
      }
     },
     "42e031bc841c4a3e98d9f3726d901cdb": {
      "model_module": "@jupyter-widgets/base",
      "model_module_version": "1.2.0",
      "model_name": "LayoutModel",
      "state": {
       "_model_module": "@jupyter-widgets/base",
       "_model_module_version": "1.2.0",
       "_model_name": "LayoutModel",
       "_view_count": null,
       "_view_module": "@jupyter-widgets/base",
       "_view_module_version": "1.2.0",
       "_view_name": "LayoutView",
       "align_content": null,
       "align_items": null,
       "align_self": null,
       "border": null,
       "bottom": null,
       "display": null,
       "flex": null,
       "flex_flow": null,
       "grid_area": null,
       "grid_auto_columns": null,
       "grid_auto_flow": null,
       "grid_auto_rows": null,
       "grid_column": null,
       "grid_gap": null,
       "grid_row": null,
       "grid_template_areas": null,
       "grid_template_columns": null,
       "grid_template_rows": null,
       "height": null,
       "justify_content": null,
       "justify_items": null,
       "left": null,
       "margin": null,
       "max_height": null,
       "max_width": null,
       "min_height": null,
       "min_width": null,
       "object_fit": null,
       "object_position": null,
       "order": null,
       "overflow": null,
       "overflow_x": null,
       "overflow_y": null,
       "padding": null,
       "right": null,
       "top": null,
       "visibility": null,
       "width": null
      }
     },
     "475323a304e74d97800bfa0e7b678645": {
      "model_module": "@jupyter-widgets/controls",
      "model_module_version": "1.5.0",
      "model_name": "HTMLModel",
      "state": {
       "_dom_classes": [],
       "_model_module": "@jupyter-widgets/controls",
       "_model_module_version": "1.5.0",
       "_model_name": "HTMLModel",
       "_view_count": null,
       "_view_module": "@jupyter-widgets/controls",
       "_view_module_version": "1.5.0",
       "_view_name": "HTMLView",
       "description": "",
       "description_tooltip": null,
       "layout": "IPY_MODEL_42e031bc841c4a3e98d9f3726d901cdb",
       "placeholder": "​",
       "style": "IPY_MODEL_1242d4ce675d40a58de437844e02c6c7",
       "value": "Summarize dataset: 100%"
      }
     },
     "47922fbaaa264173833f336b49e164cb": {
      "model_module": "@jupyter-widgets/controls",
      "model_module_version": "1.5.0",
      "model_name": "HTMLModel",
      "state": {
       "_dom_classes": [],
       "_model_module": "@jupyter-widgets/controls",
       "_model_module_version": "1.5.0",
       "_model_name": "HTMLModel",
       "_view_count": null,
       "_view_module": "@jupyter-widgets/controls",
       "_view_module_version": "1.5.0",
       "_view_name": "HTMLView",
       "description": "",
       "description_tooltip": null,
       "layout": "IPY_MODEL_2699f1e700b9496d9737f68d2d8d197d",
       "placeholder": "​",
       "style": "IPY_MODEL_7a1f15fbae3348b5ad3eb167d9e018b9",
       "value": "Render HTML: 100%"
      }
     },
     "4938a7437854420fa077f9b94260b0c6": {
      "model_module": "@jupyter-widgets/base",
      "model_module_version": "1.2.0",
      "model_name": "LayoutModel",
      "state": {
       "_model_module": "@jupyter-widgets/base",
       "_model_module_version": "1.2.0",
       "_model_name": "LayoutModel",
       "_view_count": null,
       "_view_module": "@jupyter-widgets/base",
       "_view_module_version": "1.2.0",
       "_view_name": "LayoutView",
       "align_content": null,
       "align_items": null,
       "align_self": null,
       "border": null,
       "bottom": null,
       "display": null,
       "flex": null,
       "flex_flow": null,
       "grid_area": null,
       "grid_auto_columns": null,
       "grid_auto_flow": null,
       "grid_auto_rows": null,
       "grid_column": null,
       "grid_gap": null,
       "grid_row": null,
       "grid_template_areas": null,
       "grid_template_columns": null,
       "grid_template_rows": null,
       "height": null,
       "justify_content": null,
       "justify_items": null,
       "left": null,
       "margin": null,
       "max_height": null,
       "max_width": null,
       "min_height": null,
       "min_width": null,
       "object_fit": null,
       "object_position": null,
       "order": null,
       "overflow": null,
       "overflow_x": null,
       "overflow_y": null,
       "padding": null,
       "right": null,
       "top": null,
       "visibility": null,
       "width": null
      }
     },
     "4b98c946a1874b9099a865412da3a456": {
      "model_module": "@jupyter-widgets/controls",
      "model_module_version": "1.5.0",
      "model_name": "DescriptionStyleModel",
      "state": {
       "_model_module": "@jupyter-widgets/controls",
       "_model_module_version": "1.5.0",
       "_model_name": "DescriptionStyleModel",
       "_view_count": null,
       "_view_module": "@jupyter-widgets/base",
       "_view_module_version": "1.2.0",
       "_view_name": "StyleView",
       "description_width": ""
      }
     },
     "5459d12cb986497491025c58a670b289": {
      "model_module": "@jupyter-widgets/controls",
      "model_module_version": "1.5.0",
      "model_name": "DescriptionStyleModel",
      "state": {
       "_model_module": "@jupyter-widgets/controls",
       "_model_module_version": "1.5.0",
       "_model_name": "DescriptionStyleModel",
       "_view_count": null,
       "_view_module": "@jupyter-widgets/base",
       "_view_module_version": "1.2.0",
       "_view_name": "StyleView",
       "description_width": ""
      }
     },
     "7a1f15fbae3348b5ad3eb167d9e018b9": {
      "model_module": "@jupyter-widgets/controls",
      "model_module_version": "1.5.0",
      "model_name": "DescriptionStyleModel",
      "state": {
       "_model_module": "@jupyter-widgets/controls",
       "_model_module_version": "1.5.0",
       "_model_name": "DescriptionStyleModel",
       "_view_count": null,
       "_view_module": "@jupyter-widgets/base",
       "_view_module_version": "1.2.0",
       "_view_name": "StyleView",
       "description_width": ""
      }
     },
     "7a55c5bdc43c4a8a9d51ceb3f80fcd59": {
      "model_module": "@jupyter-widgets/controls",
      "model_module_version": "1.5.0",
      "model_name": "HTMLModel",
      "state": {
       "_dom_classes": [],
       "_model_module": "@jupyter-widgets/controls",
       "_model_module_version": "1.5.0",
       "_model_name": "HTMLModel",
       "_view_count": null,
       "_view_module": "@jupyter-widgets/controls",
       "_view_module_version": "1.5.0",
       "_view_name": "HTMLView",
       "description": "",
       "description_tooltip": null,
       "layout": "IPY_MODEL_dfa13a5fe944476ab4a832d349c1a83b",
       "placeholder": "​",
       "style": "IPY_MODEL_8929da1c1faf4a66829f351b9eca3b53",
       "value": " 1/1 [00:04&lt;00:00,  4.85s/it]"
      }
     },
     "7f746e933208470bbdbf6a75f270fde9": {
      "model_module": "@jupyter-widgets/controls",
      "model_module_version": "1.5.0",
      "model_name": "FloatProgressModel",
      "state": {
       "_dom_classes": [],
       "_model_module": "@jupyter-widgets/controls",
       "_model_module_version": "1.5.0",
       "_model_name": "FloatProgressModel",
       "_view_count": null,
       "_view_module": "@jupyter-widgets/controls",
       "_view_module_version": "1.5.0",
       "_view_name": "ProgressView",
       "bar_style": "success",
       "description": "",
       "description_tooltip": null,
       "layout": "IPY_MODEL_c18436a517924e619ed0467af0ee968c",
       "max": 1,
       "min": 0,
       "orientation": "horizontal",
       "style": "IPY_MODEL_0a1c9b90e8f0487db6f70d2bf5af65ce",
       "value": 1
      }
     },
     "8929da1c1faf4a66829f351b9eca3b53": {
      "model_module": "@jupyter-widgets/controls",
      "model_module_version": "1.5.0",
      "model_name": "DescriptionStyleModel",
      "state": {
       "_model_module": "@jupyter-widgets/controls",
       "_model_module_version": "1.5.0",
       "_model_name": "DescriptionStyleModel",
       "_view_count": null,
       "_view_module": "@jupyter-widgets/base",
       "_view_module_version": "1.2.0",
       "_view_name": "StyleView",
       "description_width": ""
      }
     },
     "a4538ccc99fc434f8accca582f7956b4": {
      "model_module": "@jupyter-widgets/base",
      "model_module_version": "1.2.0",
      "model_name": "LayoutModel",
      "state": {
       "_model_module": "@jupyter-widgets/base",
       "_model_module_version": "1.2.0",
       "_model_name": "LayoutModel",
       "_view_count": null,
       "_view_module": "@jupyter-widgets/base",
       "_view_module_version": "1.2.0",
       "_view_name": "LayoutView",
       "align_content": null,
       "align_items": null,
       "align_self": null,
       "border": null,
       "bottom": null,
       "display": null,
       "flex": null,
       "flex_flow": null,
       "grid_area": null,
       "grid_auto_columns": null,
       "grid_auto_flow": null,
       "grid_auto_rows": null,
       "grid_column": null,
       "grid_gap": null,
       "grid_row": null,
       "grid_template_areas": null,
       "grid_template_columns": null,
       "grid_template_rows": null,
       "height": null,
       "justify_content": null,
       "justify_items": null,
       "left": null,
       "margin": null,
       "max_height": null,
       "max_width": null,
       "min_height": null,
       "min_width": null,
       "object_fit": null,
       "object_position": null,
       "order": null,
       "overflow": null,
       "overflow_x": null,
       "overflow_y": null,
       "padding": null,
       "right": null,
       "top": null,
       "visibility": null,
       "width": null
      }
     },
     "ba65ba217d5b410c9d0b1577c59562ab": {
      "model_module": "@jupyter-widgets/base",
      "model_module_version": "1.2.0",
      "model_name": "LayoutModel",
      "state": {
       "_model_module": "@jupyter-widgets/base",
       "_model_module_version": "1.2.0",
       "_model_name": "LayoutModel",
       "_view_count": null,
       "_view_module": "@jupyter-widgets/base",
       "_view_module_version": "1.2.0",
       "_view_name": "LayoutView",
       "align_content": null,
       "align_items": null,
       "align_self": null,
       "border": null,
       "bottom": null,
       "display": null,
       "flex": null,
       "flex_flow": null,
       "grid_area": null,
       "grid_auto_columns": null,
       "grid_auto_flow": null,
       "grid_auto_rows": null,
       "grid_column": null,
       "grid_gap": null,
       "grid_row": null,
       "grid_template_areas": null,
       "grid_template_columns": null,
       "grid_template_rows": null,
       "height": null,
       "justify_content": null,
       "justify_items": null,
       "left": null,
       "margin": null,
       "max_height": null,
       "max_width": null,
       "min_height": null,
       "min_width": null,
       "object_fit": null,
       "object_position": null,
       "order": null,
       "overflow": null,
       "overflow_x": null,
       "overflow_y": null,
       "padding": null,
       "right": null,
       "top": null,
       "visibility": null,
       "width": null
      }
     },
     "bc143f1ebbb748529f5641654c635dc6": {
      "model_module": "@jupyter-widgets/controls",
      "model_module_version": "1.5.0",
      "model_name": "HBoxModel",
      "state": {
       "_dom_classes": [],
       "_model_module": "@jupyter-widgets/controls",
       "_model_module_version": "1.5.0",
       "_model_name": "HBoxModel",
       "_view_count": null,
       "_view_module": "@jupyter-widgets/controls",
       "_view_module_version": "1.5.0",
       "_view_name": "HBoxView",
       "box_style": "",
       "children": [
        "IPY_MODEL_0b5158842de24493a3a9f077d6574d41",
        "IPY_MODEL_7f746e933208470bbdbf6a75f270fde9",
        "IPY_MODEL_7a55c5bdc43c4a8a9d51ceb3f80fcd59"
       ],
       "layout": "IPY_MODEL_ba65ba217d5b410c9d0b1577c59562ab"
      }
     },
     "bc7eaaae1b5b4aa98760f9c69c7ba655": {
      "model_module": "@jupyter-widgets/controls",
      "model_module_version": "1.5.0",
      "model_name": "ProgressStyleModel",
      "state": {
       "_model_module": "@jupyter-widgets/controls",
       "_model_module_version": "1.5.0",
       "_model_name": "ProgressStyleModel",
       "_view_count": null,
       "_view_module": "@jupyter-widgets/base",
       "_view_module_version": "1.2.0",
       "_view_name": "StyleView",
       "bar_color": null,
       "description_width": ""
      }
     },
     "c18436a517924e619ed0467af0ee968c": {
      "model_module": "@jupyter-widgets/base",
      "model_module_version": "1.2.0",
      "model_name": "LayoutModel",
      "state": {
       "_model_module": "@jupyter-widgets/base",
       "_model_module_version": "1.2.0",
       "_model_name": "LayoutModel",
       "_view_count": null,
       "_view_module": "@jupyter-widgets/base",
       "_view_module_version": "1.2.0",
       "_view_name": "LayoutView",
       "align_content": null,
       "align_items": null,
       "align_self": null,
       "border": null,
       "bottom": null,
       "display": null,
       "flex": null,
       "flex_flow": null,
       "grid_area": null,
       "grid_auto_columns": null,
       "grid_auto_flow": null,
       "grid_auto_rows": null,
       "grid_column": null,
       "grid_gap": null,
       "grid_row": null,
       "grid_template_areas": null,
       "grid_template_columns": null,
       "grid_template_rows": null,
       "height": null,
       "justify_content": null,
       "justify_items": null,
       "left": null,
       "margin": null,
       "max_height": null,
       "max_width": null,
       "min_height": null,
       "min_width": null,
       "object_fit": null,
       "object_position": null,
       "order": null,
       "overflow": null,
       "overflow_x": null,
       "overflow_y": null,
       "padding": null,
       "right": null,
       "top": null,
       "visibility": null,
       "width": null
      }
     },
     "c7c347d573384c36b2b920878ad80562": {
      "model_module": "@jupyter-widgets/base",
      "model_module_version": "1.2.0",
      "model_name": "LayoutModel",
      "state": {
       "_model_module": "@jupyter-widgets/base",
       "_model_module_version": "1.2.0",
       "_model_name": "LayoutModel",
       "_view_count": null,
       "_view_module": "@jupyter-widgets/base",
       "_view_module_version": "1.2.0",
       "_view_name": "LayoutView",
       "align_content": null,
       "align_items": null,
       "align_self": null,
       "border": null,
       "bottom": null,
       "display": null,
       "flex": null,
       "flex_flow": null,
       "grid_area": null,
       "grid_auto_columns": null,
       "grid_auto_flow": null,
       "grid_auto_rows": null,
       "grid_column": null,
       "grid_gap": null,
       "grid_row": null,
       "grid_template_areas": null,
       "grid_template_columns": null,
       "grid_template_rows": null,
       "height": null,
       "justify_content": null,
       "justify_items": null,
       "left": null,
       "margin": null,
       "max_height": null,
       "max_width": null,
       "min_height": null,
       "min_width": null,
       "object_fit": null,
       "object_position": null,
       "order": null,
       "overflow": null,
       "overflow_x": null,
       "overflow_y": null,
       "padding": null,
       "right": null,
       "top": null,
       "visibility": null,
       "width": null
      }
     },
     "d01a1955cce94f2eaf5387cea57a3767": {
      "model_module": "@jupyter-widgets/controls",
      "model_module_version": "1.5.0",
      "model_name": "ProgressStyleModel",
      "state": {
       "_model_module": "@jupyter-widgets/controls",
       "_model_module_version": "1.5.0",
       "_model_name": "ProgressStyleModel",
       "_view_count": null,
       "_view_module": "@jupyter-widgets/base",
       "_view_module_version": "1.2.0",
       "_view_name": "StyleView",
       "bar_color": null,
       "description_width": ""
      }
     },
     "dfa13a5fe944476ab4a832d349c1a83b": {
      "model_module": "@jupyter-widgets/base",
      "model_module_version": "1.2.0",
      "model_name": "LayoutModel",
      "state": {
       "_model_module": "@jupyter-widgets/base",
       "_model_module_version": "1.2.0",
       "_model_name": "LayoutModel",
       "_view_count": null,
       "_view_module": "@jupyter-widgets/base",
       "_view_module_version": "1.2.0",
       "_view_name": "LayoutView",
       "align_content": null,
       "align_items": null,
       "align_self": null,
       "border": null,
       "bottom": null,
       "display": null,
       "flex": null,
       "flex_flow": null,
       "grid_area": null,
       "grid_auto_columns": null,
       "grid_auto_flow": null,
       "grid_auto_rows": null,
       "grid_column": null,
       "grid_gap": null,
       "grid_row": null,
       "grid_template_areas": null,
       "grid_template_columns": null,
       "grid_template_rows": null,
       "height": null,
       "justify_content": null,
       "justify_items": null,
       "left": null,
       "margin": null,
       "max_height": null,
       "max_width": null,
       "min_height": null,
       "min_width": null,
       "object_fit": null,
       "object_position": null,
       "order": null,
       "overflow": null,
       "overflow_x": null,
       "overflow_y": null,
       "padding": null,
       "right": null,
       "top": null,
       "visibility": null,
       "width": null
      }
     },
     "ebde1b1f88d542f8875e9099f026d2f7": {
      "model_module": "@jupyter-widgets/base",
      "model_module_version": "1.2.0",
      "model_name": "LayoutModel",
      "state": {
       "_model_module": "@jupyter-widgets/base",
       "_model_module_version": "1.2.0",
       "_model_name": "LayoutModel",
       "_view_count": null,
       "_view_module": "@jupyter-widgets/base",
       "_view_module_version": "1.2.0",
       "_view_name": "LayoutView",
       "align_content": null,
       "align_items": null,
       "align_self": null,
       "border": null,
       "bottom": null,
       "display": null,
       "flex": null,
       "flex_flow": null,
       "grid_area": null,
       "grid_auto_columns": null,
       "grid_auto_flow": null,
       "grid_auto_rows": null,
       "grid_column": null,
       "grid_gap": null,
       "grid_row": null,
       "grid_template_areas": null,
       "grid_template_columns": null,
       "grid_template_rows": null,
       "height": null,
       "justify_content": null,
       "justify_items": null,
       "left": null,
       "margin": null,
       "max_height": null,
       "max_width": null,
       "min_height": null,
       "min_width": null,
       "object_fit": null,
       "object_position": null,
       "order": null,
       "overflow": null,
       "overflow_x": null,
       "overflow_y": null,
       "padding": null,
       "right": null,
       "top": null,
       "visibility": null,
       "width": null
      }
     },
     "fa8c725111474ef2917fcc639b354c33": {
      "model_module": "@jupyter-widgets/controls",
      "model_module_version": "1.5.0",
      "model_name": "DescriptionStyleModel",
      "state": {
       "_model_module": "@jupyter-widgets/controls",
       "_model_module_version": "1.5.0",
       "_model_name": "DescriptionStyleModel",
       "_view_count": null,
       "_view_module": "@jupyter-widgets/base",
       "_view_module_version": "1.2.0",
       "_view_name": "StyleView",
       "description_width": ""
      }
     },
     "fc95f3e88bf94a14913dc0a4a46f2b0e": {
      "model_module": "@jupyter-widgets/controls",
      "model_module_version": "1.5.0",
      "model_name": "HTMLModel",
      "state": {
       "_dom_classes": [],
       "_model_module": "@jupyter-widgets/controls",
       "_model_module_version": "1.5.0",
       "_model_name": "HTMLModel",
       "_view_count": null,
       "_view_module": "@jupyter-widgets/controls",
       "_view_module_version": "1.5.0",
       "_view_name": "HTMLView",
       "description": "",
       "description_tooltip": null,
       "layout": "IPY_MODEL_ebde1b1f88d542f8875e9099f026d2f7",
       "placeholder": "​",
       "style": "IPY_MODEL_fa8c725111474ef2917fcc639b354c33",
       "value": " 1/1 [00:00&lt;00:00,  3.07it/s]"
      }
     }
    },
    "version_major": 2,
    "version_minor": 0
   }
  }
 },
 "nbformat": 4,
 "nbformat_minor": 4
}
